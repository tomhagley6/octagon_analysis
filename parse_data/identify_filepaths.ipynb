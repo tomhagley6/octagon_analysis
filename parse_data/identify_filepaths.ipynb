{
 "cells": [
  {
   "cell_type": "code",
   "execution_count": 46,
   "metadata": {},
   "outputs": [],
   "source": [
    "import os\n",
    "import re\n",
    "import data_strings \n",
    "from collections import defaultdict"
   ]
  },
  {
   "cell_type": "markdown",
   "metadata": {},
   "source": [
    "#### Functions to extract filepaths for social and solo sessions from a root directory. Socials are returned taken in session order. Solos are returned in session order, prioritise Host, and then prioritising FirstSolo"
   ]
  },
  {
   "cell_type": "code",
   "execution_count": null,
   "metadata": {},
   "outputs": [],
   "source": [
    "def extract_sort_key(path):\n",
    "    ''' Extract a sorting key from the folder name in the path.\n",
    "        The folder name is expected to be in the format 'YYMMDD_SessionNumber'.\n",
    "        For example, '230101_1' would yield (23, 1, 1, 1).\n",
    "    '''\n",
    "    folder_name = os.path.dirname(path).split(os.sep)[-1]  # Get the folder name\n",
    "    match = re.match(r'(\\d{2})(\\d{2})(\\d{2})_(\\d+)', folder_name)\n",
    "    if match:\n",
    "        year, month, day, session_num = match.groups()\n",
    "        return (int(year), int(month), int(day), int(session_num))\n",
    "    else:\n",
    "        # If the folder name doesn't match the expected format, return a default key\n",
    "        return (0, 0, 0, 0)"
   ]
  },
  {
   "cell_type": "code",
   "execution_count": null,
   "metadata": {},
   "outputs": [],
   "source": [
    "def get_relative_paths(match_string, data_folder=data_strings.DATA_FOLDER):\n",
    "    ''' Find all relative paths for files that contain match_string in\n",
    "        subfolders of data_folder. Store these filenames in a list '''\n",
    "\n",
    "    datafile_paths = []\n",
    "\n",
    "    for subfolder in os.listdir(data_folder):\n",
    "        subfolder_path = os.path.join(data_folder, subfolder)\n",
    "        \n",
    "        # check that the item is a directory\n",
    "        if os.path.isdir(subfolder_path):\n",
    "            \n",
    "            # for each subfolder, check for .json files that contain the matched string\n",
    "            for filename in os.listdir(subfolder_path):\n",
    "                \n",
    "                if filename.endswith('.json') and match_string in filename:\n",
    "                    # add each relative filepath to the list\n",
    "                    relative_path = os.path.join(subfolder, filename)\n",
    "                    datafile_paths.append(relative_path)\n",
    "    \n",
    "    # Sort the paths based on the folder name (date and session number)\n",
    "    datafile_paths.sort(key=lambda path: extract_sort_key(path))\n",
    "\n",
    "    # Check for whitespace in any of the paths and print a warning if found\n",
    "    for path in datafile_paths:\n",
    "        if re.search(r'\\s', path):\n",
    "            print(f\"Warning: Whitespace found in path: {path}\")\n",
    "                \n",
    "    return datafile_paths\n",
    "    "
   ]
  },
  {
   "cell_type": "code",
   "execution_count": null,
   "metadata": {},
   "outputs": [],
   "source": []
  },
  {
   "cell_type": "code",
   "execution_count": null,
   "metadata": {},
   "outputs": [],
   "source": [
    "def get_filenames(data_folder=data_strings.DATA_FOLDER):\n",
    "    ''' Take a root folder, and extracts all social and solo filenames from\n",
    "        all subfolders. Uses the social filename pseudonym order to order solo\n",
    "        files, such that the structure priotises session, then host, then first solo.\n",
    "        Returns a list of all Social session files in the directory, and a list of all\n",
    "        ordered Solo session files in the directory '''\n",
    "    \n",
    "    \n",
    "    # First list of individual files\n",
    "    solo_files = get_relative_paths('Solo', data_folder)\n",
    "    # Second list of social files (with desired pseudonym order)\n",
    "    social_files = get_relative_paths('Social', data_folder)\n",
    "\n",
    "    # 1. Create a dict of sessions with nested pseudonyms\n",
    "    session_order = {}\n",
    "    for sf in social_files:\n",
    "        # match the session number and the pseudonym string\n",
    "        match = re.search(r'(\\d+_\\d)[\\\\/].*?_(.*?)_Social\\.json', sf)\n",
    "        if match:\n",
    "            session, pseudonyms = match.groups()\n",
    "            pseudonym_list = pseudonyms.split('_')\n",
    "            session_order[session] = pseudonym_list\n",
    "\n",
    "    # Print each session's pseudonym list in order\n",
    "    for session, pseudonym_list in session_order.items():\n",
    "        for pseudonym in pseudonym_list:\n",
    "            print(pseudonym)\n",
    "\n",
    "    # 2. Group solo filenames by session and pseudonym \n",
    "    # create dictionary structure to initiate any new entry to the dictionary as\n",
    "    # a default dict, which will contain an empty list\n",
    "    # Note that the argument to a defaultdict is what that defaultdict initialises for \n",
    "    # any new entries\n",
    "    session_pseudo_files = defaultdict(lambda: defaultdict(list))\n",
    "    for f in solo_files:\n",
    "        match = re.search(r'(\\d+_\\d)[\\\\/].*?_(\\w+?)_(?:First|Second)Solo\\.json', f)\n",
    "        if match:\n",
    "            session, pseudonym = match.groups()\n",
    "            session_pseudo_files[session][pseudonym].append(f) # append the entire filename\n",
    "\n",
    "    # 3. Sort each pseudonym's files by timestamp (ensure FirstSolo always comes first)\n",
    "    for session in session_pseudo_files:\n",
    "        for pseudonym in session_pseudo_files[session]:\n",
    "            session_pseudo_files[session][pseudonym].sort()\n",
    "\n",
    "    # 4. Reconstruct final ordered list\n",
    "    ordered_solos_list = []\n",
    "    for session in session_order:\n",
    "        for pseudonym in session_order[session]:\n",
    "            if pseudonym not in session_pseudo_files[session]:\n",
    "                print(f\"Warning: Pseudonym {pseudonym} missing in session {session}\")\n",
    "            # extend the list with each session's pseudonym's files, or extend by an empty list\n",
    "            # if these do not exist\n",
    "            ordered_solos_list.extend(session_pseudo_files[session].get(pseudonym, []))\n",
    "\n",
    "\n",
    "\n",
    "    return social_files, ordered_solos_list"
   ]
  }
 ],
 "metadata": {
  "kernelspec": {
   "display_name": "octagon_analysis",
   "language": "python",
   "name": "python3"
  },
  "language_info": {
   "codemirror_mode": {
    "name": "ipython",
    "version": 3
   },
   "file_extension": ".py",
   "mimetype": "text/x-python",
   "name": "python",
   "nbconvert_exporter": "python",
   "pygments_lexer": "ipython3",
   "version": "3.12.3"
  }
 },
 "nbformat": 4,
 "nbformat_minor": 2
}
