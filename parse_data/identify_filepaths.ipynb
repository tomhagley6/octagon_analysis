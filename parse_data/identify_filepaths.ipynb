{
 "cells": [
  {
   "cell_type": "code",
   "execution_count": 41,
   "metadata": {},
   "outputs": [],
   "source": [
    "import os\n",
    "import re\n",
    "import data_strings"
   ]
  },
  {
   "cell_type": "code",
   "execution_count": null,
   "metadata": {},
   "outputs": [],
   "source": [
    "def get_relative_paths(match_string, data_folder=data_strings.DATA_FOLDER):\n",
    "    ''' Find all relative paths for files that contain match_string in\n",
    "        subfolders of data_folder. Store these filenames in a list '''\n",
    "\n",
    "    datafile_paths = []\n",
    "\n",
    "    for subfolder in os.listdir(data_folder):\n",
    "        subfolder_path = os.path.join(data_folder, subfolder)\n",
    "        \n",
    "        # check that the item is a directory\n",
    "        if os.path.isdir(subfolder_path):\n",
    "            \n",
    "            # for each subfolder, check for .json files that contain the matched string\n",
    "            for filename in os.listdir(subfolder_path):\n",
    "                \n",
    "                if filename.endswith('.json') and match_string in filename:\n",
    "                    # add each relative filepath to the list\n",
    "                    relative_path = os.path.join(subfolder, filename)\n",
    "                    datafile_paths.append(relative_path)\n",
    "                \n",
    "    return datafile_paths\n",
    "    "
   ]
  },
  {
   "cell_type": "code",
   "execution_count": null,
   "metadata": {},
   "outputs": [],
   "source": [
    "def get_relative_paths_regex(match_string, data_folder=data_strings.DATA_FOLDER):\n",
    "    ''' Find all relative paths for files that contain match_string in\n",
    "        subfolders of data_folder. Store these filenames in a dictionary\n",
    "        with the filename pseudonym as a key. (Useful for combining different\n",
    "        files from the same player, e.g. solos) '''\n",
    "    \n",
    "    datafile_paths = {}\n",
    "\n",
    "    # regex for identifier pseudonym \n",
    "    pattern = re.compile(r'([A-Za-z]{2}\\d{2})')\n",
    "\n",
    "    # check that the item is a directory\n",
    "    for subfolder in os.listdir(data_folder):\n",
    "        subfolder_path = os.path.join(data_folder, subfolder)\n",
    "        \n",
    "        # check that the item is a directory\n",
    "        if os.path.isdir(subfolder_path):\n",
    "            \n",
    "            # for each subfolder, check for .json files that contain the matched string\n",
    "            for filename in os.listdir(subfolder_path):\n",
    "                \n",
    "                if filename.endswith('.json') and match_string in filename:\n",
    "                    match = pattern.search(filename)\n",
    "                    if match:\n",
    "                        pseudonym = match.group(1) \n",
    "                        full_path = os.path.join(subfolder, filename)\n",
    "\n",
    "                        if pseudonym not in datafile_paths:\n",
    "                            datafile_paths[pseudonym] = []\n",
    "                            datafile_paths[pseudonym].append(full_path)\n",
    "\n",
    "    return datafile_paths\n"
   ]
  },
  {
   "cell_type": "code",
   "execution_count": null,
   "metadata": {},
   "outputs": [],
   "source": [
    "def match_orders_solo(first_solos, second_solos, data_folder=data_strings.DATA_FOLDER):\n",
    "    '''Ensures that the first solo sessions are correctly ordered w.r.t second solos.\n",
    "       Takes 2 dictionaries, with key:value as pseudonym:filename, one for each type of solo\n",
    "       session.'''\n",
    "\n",
    "    # sort identifiers based on second_solos\n",
    "    ordered_pseudonyms = sorted(second_solos.keys(), key=lambda pseudo: second_solos[pseudo])\n",
    "\n",
    "    matched_first_solos = []\n",
    "    matched_second_solos = []\n",
    "\n",
    "    # append all values of first_solos to a list in the order of second_solos\n",
    "    for pseudonym in ordered_pseudonyms:\n",
    "        if pseudonym in first_solos and len(first_solos[pseudonym]) == 1:\n",
    "            matched_first_solos.extend(first_solos[pseudonym])\n",
    "\n",
    "    # also convert the second solo session filenames into a list of strings\n",
    "    for pseudonym in second_solos.keys():\n",
    "        matched_second_solos.extend(second_solos[pseudonym])\n",
    "\n",
    "\n",
    "    return matched_first_solos, matched_second_solos\n"
   ]
  },
  {
   "cell_type": "code",
   "execution_count": null,
   "metadata": {},
   "outputs": [],
   "source": [
    "def get_all_relative_paths(data_folder=data_strings.DATA_FOLDER):\n",
    "    social = get_relative_paths('Social', data_folder=data_folder)\n",
    "    first_solo = get_relative_paths_regex('FirstSolo', data_folder=data_folder)\n",
    "    second_solo = get_relative_paths_regex('SecondSolo', data_folder=data_folder)\n",
    "    ordered_first_solo, ordered_second_solo = match_orders_solo(first_solo, second_solo)\n",
    "\n",
    "    return social, ordered_first_solo, ordered_second_solo"
   ]
  }
 ],
 "metadata": {
  "kernelspec": {
   "display_name": "octagon_analysis",
   "language": "python",
   "name": "python3"
  },
  "language_info": {
   "codemirror_mode": {
    "name": "ipython",
    "version": 3
   },
   "file_extension": ".py",
   "mimetype": "text/x-python",
   "name": "python",
   "nbconvert_exporter": "python",
   "pygments_lexer": "ipython3",
   "version": "3.12.5"
  }
 },
 "nbformat": 4,
 "nbformat_minor": 2
}
