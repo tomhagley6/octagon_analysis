{
 "cells": [
  {
   "cell_type": "markdown",
   "id": "66124b39",
   "metadata": {},
   "source": [
    "### Combine pre- and post-solo sessions, dropping the first 5 trails (to reduce learning-associated effects)"
   ]
  },
  {
   "cell_type": "code",
   "execution_count": null,
   "id": "bf36b3f9",
   "metadata": {},
   "outputs": [],
   "source": [
    "def combine_solo_sessions(trial_lists_solo, drop_first_n_trials=5):\n",
    "    ''' Combine pre- and post- social solo sessions, removing 5 trials from each pre \n",
    "    Args:\n",
    "        trial_lists_solo (list): List of lists containing the  trials for each solo session.\n",
    "        Post-social solo sessions are expected to be at even indices, and pre-social solo sessions at odd indices,\n",
    "        with contiguous indices representing the same individual.\n",
    "        Returns:\n",
    "        trial_lists_combined_solo (list): List of lists containing the combined trials for each individual,\n",
    "        with the first 5 trials of the pre-social solo sessions removed.\n",
    "    '''\n",
    "    # create a list of combined pre- and post- social solo sessions, removing 5 trials from each pre\n",
    "    trial_lists_combined_solo = []\n",
    "    cut_trials = drop_first_n_trials\n",
    "    for i in range(0,len(trial_lists_solo), 2): # iterate over each individual\n",
    "        # get the trial lists for both solo sessions\n",
    "        trial_list_first_solo = trial_lists_solo[i]\n",
    "        trial_list_second_solo = trial_lists_solo[i + 1]\n",
    "\n",
    "        # cut first cut_trials trials (learning controls/associations) from the first solo\n",
    "        trial_list_first_solo = trial_list_first_solo[cut_trials:]\n",
    "\n",
    "        # combine trial lists from the first and second solo sessions (the current and consecutive index)\n",
    "        trial_list = trial_list_first_solo + trial_list_second_solo\n",
    "\n",
    "        trial_lists_combined_solo.append(trial_list)\n",
    "\n",
    "    return trial_lists_combined_solo"
   ]
  }
 ],
 "metadata": {
  "kernelspec": {
   "display_name": "octagon_analysis",
   "language": "python",
   "name": "python3"
  },
  "language_info": {
   "codemirror_mode": {
    "name": "ipython",
    "version": 3
   },
   "file_extension": ".py",
   "mimetype": "text/x-python",
   "name": "python",
   "nbconvert_exporter": "python",
   "pygments_lexer": "ipython3",
   "version": "3.12.10"
  }
 },
 "nbformat": 4,
 "nbformat_minor": 5
}
