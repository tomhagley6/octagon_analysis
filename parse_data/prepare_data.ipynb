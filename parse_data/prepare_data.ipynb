{
 "cells": [
  {
   "cell_type": "code",
   "execution_count": null,
   "id": "613db554-4350-45cc-b8b3-f21b1f098085",
   "metadata": {},
   "outputs": [],
   "source": [
    "import parse_data.preprocess as preprocess\n",
    "import parse_data.loading as loading\n",
    "import parse_data.combine_sessions as combine_sessions\n",
    "import parse_data.split_session_by_trial as split_session_by_trial\n",
    "from analysis.response_times import calculate_response_times, plot_response_times\n",
    "from datetime import datetime, timedelta\n",
    "import numpy as np\n",
    "import pandas as pd\n",
    "import scipy\n",
    "import matplotlib.pyplot as plt\n",
    "import globals\n",
    "from ipywidgets import IntProgress\n",
    "from IPython.display import display\n",
    "import time"
   ]
  },
  {
   "cell_type": "code",
   "execution_count": 10,
   "id": "4c14ceb6-56ff-45de-8d9d-e705ef7eacfe",
   "metadata": {},
   "outputs": [],
   "source": [
    "def prepare_single_session_data(data_folder, json_filename):\n",
    "    ''' Load and preprocess data from a single session\n",
    "        Returns: full dataframe, list of trials '''\n",
    "    \n",
    "    # Load JSON file into pandas df with collapsed data dictionary and adjustments based on date of recording \n",
    "    # (parse_data/loading.py)\n",
    "    df = loading.loading_pipeline(data_folder, json_filename)\n",
    "\n",
    "    # Pre-process data \n",
    "    # (parse_data/preprocess.py)\n",
    "    df = preprocess.standard_preprocessing(df)\n",
    "\n",
    "    # (parse_data/split_session_by_trial.py)\n",
    "    trial_list = split_session_by_trial.split_session_by_trial(df, drop_trial_zero=True)\n",
    "\n",
    "    return df, trial_list"
   ]
  },
  {
   "cell_type": "code",
   "execution_count": null,
   "id": "375cfe1b-0f7f-4373-b8e2-f5376cc98628",
   "metadata": {},
   "outputs": [],
   "source": [
    "def prepare_combined_session_data(data_folder, json_filenames, drop_trial_zero=True):\n",
    "    ''' Load and preprocess multiple dataframes, and concatenate\n",
    "        Returns: full dataframe, list of trials '''\n",
    "\n",
    "    # (parse_data/combine_sessions.py)\n",
    "    df = combine_sessions.combine_sessions(data_folder, json_filenames)\n",
    "\n",
    "    # (parse_data/split_session_by_trial.py)\n",
    "    trial_list = split_session_by_trial.split_session_by_trial(df, drop_trial_zero=drop_trial_zero)\n",
    "\n",
    "    return df, trial_list"
   ]
  },
  {
   "cell_type": "code",
   "execution_count": null,
   "id": "bee86084-36fb-4211-8fd9-b891b73b0694",
   "metadata": {},
   "outputs": [],
   "source": [
    "# umbrella function\n",
    "def prepare_data(data_folder, json_filenames, combine=False):\n",
    "    ''' Input: data folder and json_filename string or list of json_filename strings.\n",
    "        Returns: full dataframe, list of trials.\n",
    "        Adapts to: a single session, multiple sessions combined, multiple sessions kept separate in a list '''\n",
    "    \n",
    "    if isinstance(json_filenames, str):  # handle a single session\n",
    "\n",
    "        df, trial_list = prepare_single_session_data(data_folder, json_filenames)\n",
    "   \n",
    "    elif isinstance(json_filenames, list): # handle multiple sessions\n",
    "        \n",
    "        if combine: # keep sessions in one dataframe and one list\n",
    "            df, trial_list = prepare_combined_session_data(data_folder, json_filenames)\n",
    "        \n",
    "        else: # separate sessions in separate dfs and separate trial lists\n",
    "            \n",
    "            # use a progress bar to show loading progress\n",
    "            max_count = len(json_filenames)\n",
    "            f = IntProgress(min=0, max=max_count) # instantiate the bar\n",
    "            display(f) # display the bar\n",
    "            \n",
    "            df = []\n",
    "            trial_list = []\n",
    "            for filename in json_filenames:\n",
    "                this_df, this_trial_list = prepare_single_session_data(data_folder, filename)\n",
    "                df.append(this_df)\n",
    "                trial_list.append(this_trial_list)\n",
    "                \n",
    "                f.value += 1 # signal to increment the progress bar\n",
    "    else:\n",
    "        print(\"json_filenames must be a list of strings of len >= 1, or a string\")\n",
    "        return None\n",
    "\n",
    "    return df, trial_list\n",
    "        "
   ]
  }
 ],
 "metadata": {
  "kernelspec": {
   "display_name": "Python 3 (ipykernel)",
   "language": "python",
   "name": "python3"
  },
  "language_info": {
   "codemirror_mode": {
    "name": "ipython",
    "version": 3
   },
   "file_extension": ".py",
   "mimetype": "text/x-python",
   "name": "python",
   "nbconvert_exporter": "python",
   "pygments_lexer": "ipython3",
   "version": "3.12.5"
  }
 },
 "nbformat": 4,
 "nbformat_minor": 5
}
