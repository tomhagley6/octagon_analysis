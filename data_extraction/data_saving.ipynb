{
 "cells": [
  {
   "cell_type": "code",
   "execution_count": null,
   "id": "a73745a4",
   "metadata": {},
   "outputs": [],
   "source": [
    "import os\n",
    "import pickle\n",
    "import data_strings"
   ]
  },
  {
   "cell_type": "markdown",
   "id": "7590ccec",
   "metadata": {},
   "source": [
    "### data saving and loading"
   ]
  },
  {
   "cell_type": "code",
   "execution_count": null,
   "id": "fc3624fe",
   "metadata": {},
   "outputs": [],
   "source": [
    "analysis_dir = data_strings.DATAFRAME_ROOT + os.sep + data_strings.DATAFRAME_DIR"
   ]
  },
  {
   "cell_type": "code",
   "execution_count": 5,
   "id": "17c8b8c4",
   "metadata": {},
   "outputs": [],
   "source": [
    "def save_data(data_to_save, analysis_filename, analysis_dir=analysis_dir): \n",
    "\n",
    "    path = os.path.join(analysis_dir, analysis_filename + '.pkl')\n",
    "    with open(path, 'wb') as f:\n",
    "        pickle.dump(data_to_save, f)\n",
    "\n",
    "def load_data(analysis_filename, analysis_dir=analysis_dir):\n",
    "    path = os.path.join(analysis_dir, analysis_filename + '.pkl')\n",
    "    with open(path, 'rb') as f:\n",
    "        return pickle.load(f)\n"
   ]
  }
 ],
 "metadata": {
  "kernelspec": {
   "display_name": "octagon_analysis",
   "language": "python",
   "name": "python3"
  },
  "language_info": {
   "codemirror_mode": {
    "name": "ipython",
    "version": 3
   },
   "file_extension": ".py",
   "mimetype": "text/x-python",
   "name": "python",
   "nbconvert_exporter": "python",
   "pygments_lexer": "ipython3",
   "version": "3.12.7"
  }
 },
 "nbformat": 4,
 "nbformat_minor": 5
}
