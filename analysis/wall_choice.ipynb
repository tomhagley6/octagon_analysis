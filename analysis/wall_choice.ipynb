{
 "cells": [
  {
   "cell_type": "code",
   "execution_count": 1,
   "metadata": {},
   "outputs": [],
   "source": [
    "import parse_data.prepare_data as prepare_data\n",
    "import numpy as np\n",
    "import pandas as pd\n",
    "import matplotlib.pyplot as plt\n",
    "import globals\n",
    "import data_strings\n",
    "import time\n",
    "import data_extraction.get_indices as get_indices\n"
   ]
  },
  {
   "cell_type": "code",
   "execution_count": 2,
   "metadata": {},
   "outputs": [],
   "source": [
    "def player_wall_choice_wins_only(trials_list, player_id, debug=False):\n",
    "    ''' Logic for identifying the player's chosen wall if they won the trial (no inferred choice).\n",
    "        Returns int array of size len(trials_list) of chosen wall numbers, or of np.nan for\n",
    "        trials where player_id was not the winner. '''\n",
    "    \n",
    "    if debug:\n",
    "        start_time = time.time()\n",
    "\n",
    "    winning_player = get_indices.get_trigger_activators(trials_list)\n",
    "    chosen_walls = get_indices.get_chosen_walls(trials_list)\n",
    "    current_player_wall_choice = np.zeros(len(trials_list))\n",
    "    \n",
    "    # set wall_chosen for each trial to the trail's chosen wall only if this player won the trial. If not, np.nan\n",
    "    for trial_index in range(len(trials_list)):\n",
    "        if player_id == winning_player[trial_index]:\n",
    "            wall_chosen = chosen_walls[trial_index]\n",
    "        else:\n",
    "            wall_chosen = np.nan\n",
    "\n",
    "        current_player_wall_choice[trial_index] = wall_chosen\n",
    "\n",
    "    # output the time taken for this function\n",
    "    if debug:\n",
    "        end_time = time.time()\n",
    "        print(f\"Time taken for player_wall_choice_wins_only (one session for one player) is {end_time-start_time:.2f}\")\n",
    "\n",
    "    return current_player_wall_choice"
   ]
  }
 ],
 "metadata": {
  "kernelspec": {
   "display_name": "octagon_analysis",
   "language": "python",
   "name": "python3"
  },
  "language_info": {
   "codemirror_mode": {
    "name": "ipython",
    "version": 3
   },
   "file_extension": ".py",
   "mimetype": "text/x-python",
   "name": "python",
   "nbconvert_exporter": "python",
   "pygments_lexer": "ipython3",
   "version": "3.12.7"
  }
 },
 "nbformat": 4,
 "nbformat_minor": 2
}
