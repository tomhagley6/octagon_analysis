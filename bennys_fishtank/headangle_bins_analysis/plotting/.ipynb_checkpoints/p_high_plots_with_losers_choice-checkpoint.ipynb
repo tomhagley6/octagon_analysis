{
 "cells": [
  {
   "cell_type": "code",
   "execution_count": 1,
   "id": "225e9d51-fb69-4ea6-a8ee-4d934b270e67",
   "metadata": {},
   "outputs": [],
   "source": [
    "#imports\n",
    "%load_ext autoreload\n",
    "%autoreload 2\n",
    "import json\n",
    "import numpy as np\n",
    "import pandas as pd\n",
    "import parse_data.prepare_data as prepare_data\n",
    "import parse_data.flip_rotate_trajectories as flip_rotate_trajectories\n",
    "import data_extraction.get_indices as get_indices\n",
    "import plotting.plot_trajectory as plot_trajectory\n",
    "import trajectory_analysis.trajectory_vectors as trajectory_vectors\n",
    "import trajectory_analysis.trajectory_headangle as trajectory_headangle\n",
    "import plotting.plot_octagon as plot_octagon\n",
    "import data_extraction.extract_trial as extract_trial\n",
    "import globals\n",
    "import scipy\n",
    "import math\n",
    "import parse_data.preprocess as preprocess\n",
    "import flip_rotate_headangle_functions\n",
    "import headangle_bin_assignment\n",
    "import headangle_bin_assignment_new\n",
    "import headangle_analysis_plotting_functions\n",
    "import analysis.loser_inferred_choice as loser_inferred_choice\n",
    "import analysis.wall_choice as wall_choice\n",
    "import analysis.wall_visibility_and_choice as wall_visibility_and_choice\n",
    "import matplotlib.cm as cm"
   ]
  },
  {
   "cell_type": "code",
   "execution_count": 201,
   "id": "8d3d670c-2501-4703-9953-9e0b510b867d",
   "metadata": {},
   "outputs": [],
   "source": [
    "data_folder = '/Users/benny/Desktop/MSc/Project/Git/repos/octagon_analysis'\n",
    "\n",
    "json_filenames_all_social = [r'Json_data/2024-11-19_15-22-56_SophiaHocineSocial.json',\n",
    "                                r'Json_data/2024-11-12_13-31-14_KhadijaWendySocial.json', \n",
    "                                r'Json_data/2024-12-19_15-28-24_JingjingYeungSocial.json', \n",
    "                                r'Json_data/2024-10-17_16-41-38_ZimoElsaSocial.json', \n",
    "                                r'Json_data/2025-01-15_15-21-27_YixuanMarcoSocial.json',\n",
    "                                r'Json_data/2024-11-13_14-18-54_NasiaRyanSocial.json', \n",
    "                                r'Json_data/2024-11-19_14-24-49_AmyXinyuanSocial.json', \n",
    "                                r'Json_data/2024-09-27_14-25-20_SaraEmilySocial.json', \n",
    "                                r'Json_data/2024-11-13_15-28-07_YichuanHoiSocial.json', \n",
    "                                r'Json_data/2024-11-20_15-16-21_SunnyVinceSocial.json', \n",
    "                                r'Json_data/2025-01-15_16-50-13_YuChunSecondSocial.json', \n",
    "                                r'Json_data/2024-11-12_15-23-24_FrancescaSenSzeSocial.json', \n",
    "                                r'Json_data/2024-10-17_14-28-40_ShamirAbigailSocial.json', \n",
    "                                r'Json_data/2024-09-13_11-31-00_YansuJerrySocial.json', \n",
    "                                r'Json_data/2024-11-20_14-17-44_JasonRahulSocial.json']\n",
    " \n",
    "json_filenames_all_solo = [r'Json_data/2024-12-20_17-36-54_ChristopherFirstSolo.json',\n",
    "                                r'Json_data/2025-01-15_15-12-39_MarcoFirstSolo.json',\n",
    "                                r'Json_data/2024-12-19_15-51-33_YeungSecondSolo.json',\n",
    "                                r'Json_data/2024-11-12_15-44-54_FrancescaSecondSolo.json',\n",
    "                                r'Json_data/2024-11-12_15-11-45_SenFirstSolo.json',\n",
    "                                r'Json_data/2024-11-20_15-39-49_VinceSecondSolo.json',\n",
    "                                r'Json_data/2024-11-19_14-18-18_AmyFirstSolo.json',\n",
    "                                r'Json_data/2024-11-12_15-45-35_SenSecondSolo.json',\n",
    "                                r'Json_data/2024-11-12_13-50-23_KhadijaSecondSolo.json',\n",
    "                                r'Json_data/2024-11-13_15-21-50_HoiFirstSolo.json',\n",
    "                                r'Json_data/2024-09-13_11-23-37_YansuFirstSolo.json',\n",
    "                                r'Json_data/2024-11-13_15-22-20_YichuanFirstSolo.json',\n",
    "                                r'Json_data/2024-11-20_15-10-17_VinceFirstSolo.json',\n",
    "                                r'Json_data/2025-01-15_16-14-40_YuChunFirstSolo.json',\n",
    "                                r'Json_data/2024-11-12_13-18-59_WendyFirstSolo.json',\n",
    "                                r'Json_data/2024-10-17_14-51-22_AbigailSecondSolo.json',\n",
    "                                r'Json_data/2024-09-13_11-53-56_JerrySecondSolo.json',\n",
    "                                r'Json_data/2024-09-27_14-14-42_EmilyFirstSolo.json',\n",
    "                                r'Json_data/2025-01-15_16-50-13_YuChunSecondSolo.json',\n",
    "                                r'Json_data/2024-11-12_13-50-20_WendySecondSolo.json',\n",
    "                                r'Json_data/2025-01-15_15-46-04_MarcoSecondSolo.json',\n",
    "                                r'Json_data/2024-10-17_14-20-50_AbigailFirstSolo.json',\n",
    "                                r'Json_data/2024-11-13_15-51-39_YichuanSecondSolo.json',\n",
    "                                r'Json_data/2024-11-20_14-41-56_RahulSecondSolo.json',\n",
    "                                r'Json_data/2024-10-17_14-20-28_ShamirFirstSolo.json',\n",
    "                                'Json_data/2025-01-15_15-47-11_YixuanSecondSolo.json',\n",
    "                                r'Json_data/2024-11-19_15-15-53_SophiaFirstSolo.json',\n",
    "                                r'Json_data/2025-01-15_16-50-37_RuiqingSecondSolo.json',\n",
    "                                r'Json_data/2024-11-20_15-40-08_SunnySecondSolo.json',\n",
    "                                r'Json_data/2024-09-27_14-14-31_SaraFirstSolo.json',\n",
    "                                r'Json_data/2024-09-27_14-45-46_EmilySecondSolo.json',\n",
    "                                r'Json_data/2024-11-12_13-19-22_KhadijaFirstSolo.json',\n",
    "                                r'Json_data/2024-11-12_15-13-34_FrancescaFirstSolo.json',\n",
    "                                r'Json_data/2024-11-19_15-47-53_SophiaSecondSolo.json',\n",
    "                                r'Json_data/2024-11-20_14-12-33_RahulFirstSolo.json',\n",
    "                                r'Json_data/2024-10-17_14-50-03_ShamirSecondSolo.json',\n",
    "                                r'Json_data/2024-09-13_11-53-34_YansuSecondSolo.json',\n",
    "                                r'Json_data/2024-10-17_17-12-29_ElsaSecondSolo.json',\n",
    "                                r'Json_data/2024-12-19_15-22-13_YeungFirstSolo.json',\n",
    "                                r'Json_data/2024-12-19_15-51-58_JingjingSecondSolo.json',\n",
    "                                r'Json_data/2024-11-13_15-51-16_HoiSecondSolo.json',\n",
    "                                r'Json_data/2024-11-19_14-18-44_XinyuanFirstSolo.json',\n",
    "                                r'Json_data/2024-12-20_18-06-44_ChristopherSecondSolo.json',\n",
    "                                r'Json_data/2024-10-17_16-35-45_ElsaFirstSolo.json',\n",
    "                                r'Json_data/2024-11-20_15-10-00_SunnyFirstSolo.json',\n",
    "                                r'Json_data/2024-11-19_14-44-31_XinyuanSecondSolo.json',\n",
    "                                r'Json_data/2024-11-20_14-12-06_JasonFirstSolo.json',\n",
    "                                r'Json_data/2024-12-20_17-36-27_KirtanFirstSolo.json',\n",
    "                                r'Json_data/2024-10-17_16-36-0_ZimoFirstSolo.json',\n",
    "                                r'Json_data/2024-09-27_14-45-55_SaraSecondSolo.json',\n",
    "                                r'Json_data/2024-10-17_17-11-46_ZimoSecondSolo.json',\n",
    "                                r'Json_data/2024-12-20_18-06-10_KirtanSecondSolo.json',\n",
    "                                r'Json_data/2025-01-15_16-14-58_RuiqingFirstSolo.json',\n",
    "                                r'Json_data/2024-11-19_15-14-19_HocineFirstSolo.json',\n",
    "                                r'Json_data/2024-11-20_14-42-16_JasonSecondSolo.json',\n",
    "                                r'Json_data/2024-12-19_15-20-18_JingjingFirstSolo.json',\n",
    "                                r'Json_data/2024-09-13_11-23-50_JerryFirstSolo.json',\n",
    "                                r'Json_data/2025-01-15_15-12-13_YixuanFirstSolo.json',\n",
    "                                r'Json_data/2024-11-19_15-47-29_HocineSecondSolo.json',\n",
    "                                r'Json_data/2024-11-19_14-44-00_AmySecondSolo.json']\n",
    "\n",
    "json_filename = r'Json_data/2024-11-12_13-31-14_KhadijaWendySocial.json'\n",
    "\n"
   ]
  },
  {
   "cell_type": "code",
   "execution_count": 200,
   "id": "7da26804-ba36-449b-99b5-c3ed828edc48",
   "metadata": {
    "collapsed": true,
    "jupyter": {
     "outputs_hidden": true
    }
   },
   "outputs": [
    {
     "name": "stdout",
     "output_type": "stream",
     "text": [
      "r'Json_data/2024-12-20_17-36-54_ChristopherFirstSolo.json',\n",
      "r'Json_data/2025-01-15_15-12-39_MarcoFirstSolo.json',\n",
      "r'Json_data/2024-12-19_15-51-33_YeungSecondSolo.json',\n",
      "r'Json_data/2024-11-12_15-44-54_FrancescaSecondSolo.json',\n",
      "r'Json_data/2024-11-12_15-11-45_SenFirstSolo.json',\n",
      "r'Json_data/2024-11-20_15-39-49_VinceSecondSolo.json',\n",
      "r'Json_data/2024-11-19_14-18-18_AmyFirstSolo.json',\n",
      "r'Json_data/2024-11-12_15-45-35_SenSecondSolo.json',\n",
      "r'Json_data/2024-11-12_13-50-23_KhadijaSecondSolo.json',\n",
      "r'Json_data/2024-11-13_15-21-50_HoiFirstSolo.json',\n",
      "r'Json_data/2024-09-13_11-23-37_YansuFirstSolo.json',\n",
      "r'Json_data/2024-11-13_15-22-20_YichuanFirstSolo.json',\n",
      "r'Json_data/2024-11-20_15-10-17_VinceFirstSolo.json',\n",
      "r'Json_data/2025-01-15_16-14-40_YuChunFirstSolo.json',\n",
      "r'Json_data/2024-11-12_13-18-59_WendyFirstSolo.json',\n",
      "r'Json_data/2024-10-17_14-51-22_AbigailSecondSolo.json',\n",
      "r'Json_data/2024-09-13_11-53-56_JerrySecondSolo.json',\n",
      "r'Json_data/2024-09-27_14-14-42_EmilyFirstSolo.json',\n",
      "r'Json_data/2025-01-15_16-50-13_YuChunSecondSolo.json',\n",
      "r'Json_data/2024-11-12_13-50-20_WendySecondSolo.json',\n",
      "r'Json_data/2025-01-15_15-46-04_MarcoSecondSolo.json',\n",
      "r'Json_data/2024-10-17_14-20-50_AbigailFirstSolo.json',\n",
      "r'Json_data/2024-11-13_15-51-39_YichuanSecondSolo.json',\n",
      "r'Json_data/2024-11-20_14-41-56_RahulSecondSolo.json',\n",
      "r'Json_data/2024-10-17_14-20-28_ShamirFirstSolo.json',\n",
      "r'Json_data/2025-01-15_15-47-11_YixuanSecondSolo.json',\n",
      "r'Json_data/2024-11-19_15-15-53_SophiaFirstSolo.json',\n",
      "r'Json_data/2025-01-15_16-50-37_RuiqingSecondSolo.json',\n",
      "r'Json_data/2024-11-20_15-40-08_SunnySecondSolo.json',\n",
      "r'Json_data/2024-09-27_14-14-31_SaraFirstSolo.json',\n",
      "r'Json_data/2024-09-27_14-45-46_EmilySecondSolo.json',\n",
      "r'Json_data/2024-11-12_13-19-22_KhadijaFirstSolo.json',\n",
      "r'Json_data/2024-11-12_15-13-34_FrancescaFirstSolo.json',\n",
      "r'Json_data/2024-11-19_15-47-53_SophiaSecondSolo.json',\n",
      "r'Json_data/2024-11-20_14-12-33_RahulFirstSolo.json',\n",
      "r'Json_data/2024-10-17_14-50-03_ShamirSecondSolo.json',\n",
      "r'Json_data/2024-09-13_11-53-34_YansuSecondSolo.json',\n",
      "r'Json_data/2024-10-17_17-12-29_ElsaSecondSolo.json',\n",
      "r'Json_data/2024-12-19_15-22-13_YeungFirstSolo.json',\n",
      "r'Json_data/2024-12-19_15-51-58_JingjingSecondSolo.json',\n",
      "r'Json_data/2024-11-13_15-51-16_HoiSecondSolo.json',\n",
      "r'Json_data/2024-11-19_14-18-44_XinyuanFirstSolo.json',\n",
      "r'Json_data/2024-12-20_18-06-44_ChristopherSecondSolo.json',\n",
      "r'Json_data/2024-10-17_16-35-45_ElsaFirstSolo.json',\n",
      "r'Json_data/2024-11-20_15-10-00_SunnyFirstSolo.json',\n",
      "r'Json_data/2024-11-19_14-44-31_XinyuanSecondSolo.json',\n",
      "r'Json_data/2024-11-20_14-12-06_JasonFirstSolo.json',\n",
      "r'Json_data/2024-12-20_17-36-27_KirtanFirstSolo.json',\n",
      "r'Json_data/2024-10-17_16-36-0_ZimoFirstSolo.json',\n",
      "r'Json_data/2024-09-27_14-45-55_SaraSecondSolo.json',\n",
      "r'Json_data/2024-10-17_17-11-46_ZimoSecondSolo.json',\n",
      "r'Json_data/2024-12-20_18-06-10_KirtanSecondSolo.json',\n",
      "r'Json_data/2025-01-15_16-14-58_RuiqingFirstSolo.json',\n",
      "r'Json_data/2024-11-19_15-14-19_HocineFirstSolo.json',\n",
      "r'Json_data/2024-11-20_14-42-16_JasonSecondSolo.json',\n",
      "r'Json_data/2024-12-19_15-20-18_JingjingFirstSolo.json',\n",
      "r'Json_data/2024-09-13_11-23-50_JerryFirstSolo.json',\n",
      "r'Json_data/2025-01-15_15-12-13_YixuanFirstSolo.json',\n",
      "r'Json_data/2024-11-19_15-47-29_HocineSecondSolo.json',\n",
      "r'Json_data/2024-11-19_14-44-00_AmySecondSolo.json'\n"
     ]
    }
   ],
   "source": [
    "import os\n",
    "\n",
    "folder_path = \"/Users/benny/Desktop/MSc/Project/Git/repos/octagon_analysis/Json_data\" \n",
    "\n",
    "# List all files in the folder and filter those ending with \"Solo.json\"\n",
    "json_files = [f for f in os.listdir(folder_path) if f.endswith(\"Solo.json\")]\n",
    "\n",
    "print(\",\\n\".join(rf\"r'Json_data/{file}'\" for file in json_files))"
   ]
  },
  {
   "cell_type": "code",
   "execution_count": 3,
   "id": "957a0fdf-bf2f-4355-b880-7eba599c0b98",
   "metadata": {
    "collapsed": true,
    "jupyter": {
     "outputs_hidden": true
    }
   },
   "outputs": [
    {
     "name": "stdout",
     "output_type": "stream",
     "text": [
      "filepath: /Users/benny/Desktop/MSc/Project/Git/repos/octagon_analysis/Json_data/2024-11-12_13-31-14_KhadijaWendySocial.json\n",
      "Loading complete.\n",
      "Preprocessing complete.\n"
     ]
    }
   ],
   "source": [
    "#test list\n",
    "ds, single_session = prepare_data.prepare_data(data_folder, json_filename)"
   ]
  },
  {
   "cell_type": "code",
   "execution_count": null,
   "id": "a6ff242f-13f0-41c1-b0e6-8adbe88c378b",
   "metadata": {},
   "outputs": [],
   "source": [
    "#note: 2025-01-15_16-50-37_RuiqingSecondSolo.json - last line deleted (null values)"
   ]
  },
  {
   "cell_type": "code",
   "execution_count": 208,
   "id": "dc77de95-6d9a-464f-92ab-8997415b4842",
   "metadata": {
    "collapsed": true,
    "jupyter": {
     "outputs_hidden": true
    }
   },
   "outputs": [
    {
     "name": "stdout",
     "output_type": "stream",
     "text": [
      "filepath: /Users/benny/Desktop/MSc/Project/Git/repos/octagon_analysis/Json_data/2024-12-20_17-36-54_ChristopherFirstSolo.json\n",
      "Loading complete.\n",
      "filepath: /Users/benny/Desktop/MSc/Project/Git/repos/octagon_analysis/Json_data/2025-01-15_15-12-39_MarcoFirstSolo.json\n",
      "Loading complete.\n",
      "filepath: /Users/benny/Desktop/MSc/Project/Git/repos/octagon_analysis/Json_data/2024-12-19_15-51-33_YeungSecondSolo.json\n",
      "Loading complete.\n",
      "filepath: /Users/benny/Desktop/MSc/Project/Git/repos/octagon_analysis/Json_data/2024-11-12_15-44-54_FrancescaSecondSolo.json\n",
      "Loading complete.\n",
      "filepath: /Users/benny/Desktop/MSc/Project/Git/repos/octagon_analysis/Json_data/2024-11-12_15-11-45_SenFirstSolo.json\n",
      "Loading complete.\n",
      "filepath: /Users/benny/Desktop/MSc/Project/Git/repos/octagon_analysis/Json_data/2024-11-20_15-39-49_VinceSecondSolo.json\n",
      "Loading complete.\n",
      "filepath: /Users/benny/Desktop/MSc/Project/Git/repos/octagon_analysis/Json_data/2024-11-19_14-18-18_AmyFirstSolo.json\n",
      "Loading complete.\n",
      "filepath: /Users/benny/Desktop/MSc/Project/Git/repos/octagon_analysis/Json_data/2024-11-12_15-45-35_SenSecondSolo.json\n",
      "Loading complete.\n",
      "filepath: /Users/benny/Desktop/MSc/Project/Git/repos/octagon_analysis/Json_data/2024-11-12_13-50-23_KhadijaSecondSolo.json\n",
      "Loading complete.\n",
      "filepath: /Users/benny/Desktop/MSc/Project/Git/repos/octagon_analysis/Json_data/2024-11-13_15-21-50_HoiFirstSolo.json\n",
      "Loading complete.\n",
      "filepath: /Users/benny/Desktop/MSc/Project/Git/repos/octagon_analysis/Json_data/2024-09-13_11-23-37_YansuFirstSolo.json\n",
      "Data is from period before 2024-09-13 00:00:00\n",
      "Running dataframe through playerinfo_playerposition_conversion.\n",
      "Loading complete.\n",
      "filepath: /Users/benny/Desktop/MSc/Project/Git/repos/octagon_analysis/Json_data/2024-11-13_15-22-20_YichuanFirstSolo.json\n",
      "Loading complete.\n",
      "filepath: /Users/benny/Desktop/MSc/Project/Git/repos/octagon_analysis/Json_data/2024-11-20_15-10-17_VinceFirstSolo.json\n",
      "Loading complete.\n",
      "filepath: /Users/benny/Desktop/MSc/Project/Git/repos/octagon_analysis/Json_data/2025-01-15_16-14-40_YuChunFirstSolo.json\n",
      "Loading complete.\n",
      "filepath: /Users/benny/Desktop/MSc/Project/Git/repos/octagon_analysis/Json_data/2024-11-12_13-18-59_WendyFirstSolo.json\n",
      "Loading complete.\n",
      "filepath: /Users/benny/Desktop/MSc/Project/Git/repos/octagon_analysis/Json_data/2024-10-17_14-51-22_AbigailSecondSolo.json\n",
      "Loading complete.\n",
      "filepath: /Users/benny/Desktop/MSc/Project/Git/repos/octagon_analysis/Json_data/2024-09-13_11-53-56_JerrySecondSolo.json\n",
      "Data is from period before 2024-09-13 00:00:00\n",
      "Running dataframe through playerinfo_playerposition_conversion.\n",
      "Loading complete.\n",
      "filepath: /Users/benny/Desktop/MSc/Project/Git/repos/octagon_analysis/Json_data/2024-09-27_14-14-42_EmilyFirstSolo.json\n",
      "Loading complete.\n",
      "filepath: /Users/benny/Desktop/MSc/Project/Git/repos/octagon_analysis/Json_data/2025-01-15_16-50-13_YuChunSecondSolo.json\n",
      "Loading complete.\n",
      "filepath: /Users/benny/Desktop/MSc/Project/Git/repos/octagon_analysis/Json_data/2024-11-12_13-50-20_WendySecondSolo.json\n",
      "Loading complete.\n",
      "filepath: /Users/benny/Desktop/MSc/Project/Git/repos/octagon_analysis/Json_data/2025-01-15_15-46-04_MarcoSecondSolo.json\n",
      "Loading complete.\n",
      "filepath: /Users/benny/Desktop/MSc/Project/Git/repos/octagon_analysis/Json_data/2024-10-17_14-20-50_AbigailFirstSolo.json\n",
      "Loading complete.\n",
      "filepath: /Users/benny/Desktop/MSc/Project/Git/repos/octagon_analysis/Json_data/2024-11-13_15-51-39_YichuanSecondSolo.json\n",
      "Loading complete.\n",
      "filepath: /Users/benny/Desktop/MSc/Project/Git/repos/octagon_analysis/Json_data/2024-11-20_14-41-56_RahulSecondSolo.json\n",
      "Loading complete.\n",
      "filepath: /Users/benny/Desktop/MSc/Project/Git/repos/octagon_analysis/Json_data/2024-10-17_14-20-28_ShamirFirstSolo.json\n",
      "Loading complete.\n",
      "filepath: /Users/benny/Desktop/MSc/Project/Git/repos/octagon_analysis/Json_data/2025-01-15_15-47-11_YixuanSecondSolo.json\n",
      "Loading complete.\n",
      "filepath: /Users/benny/Desktop/MSc/Project/Git/repos/octagon_analysis/Json_data/2024-11-19_15-15-53_SophiaFirstSolo.json\n",
      "Loading complete.\n",
      "filepath: /Users/benny/Desktop/MSc/Project/Git/repos/octagon_analysis/Json_data/2025-01-15_16-50-37_RuiqingSecondSolo.json\n",
      "Loading complete.\n",
      "filepath: /Users/benny/Desktop/MSc/Project/Git/repos/octagon_analysis/Json_data/2024-11-20_15-40-08_SunnySecondSolo.json\n",
      "Loading complete.\n",
      "filepath: /Users/benny/Desktop/MSc/Project/Git/repos/octagon_analysis/Json_data/2024-09-27_14-14-31_SaraFirstSolo.json\n",
      "Loading complete.\n",
      "filepath: /Users/benny/Desktop/MSc/Project/Git/repos/octagon_analysis/Json_data/2024-09-27_14-45-46_EmilySecondSolo.json\n",
      "Loading complete.\n",
      "filepath: /Users/benny/Desktop/MSc/Project/Git/repos/octagon_analysis/Json_data/2024-11-12_13-19-22_KhadijaFirstSolo.json\n",
      "Loading complete.\n",
      "filepath: /Users/benny/Desktop/MSc/Project/Git/repos/octagon_analysis/Json_data/2024-11-12_15-13-34_FrancescaFirstSolo.json\n",
      "Loading complete.\n",
      "filepath: /Users/benny/Desktop/MSc/Project/Git/repos/octagon_analysis/Json_data/2024-11-19_15-47-53_SophiaSecondSolo.json\n",
      "Loading complete.\n",
      "filepath: /Users/benny/Desktop/MSc/Project/Git/repos/octagon_analysis/Json_data/2024-11-20_14-12-33_RahulFirstSolo.json\n",
      "Loading complete.\n",
      "filepath: /Users/benny/Desktop/MSc/Project/Git/repos/octagon_analysis/Json_data/2024-10-17_14-50-03_ShamirSecondSolo.json\n",
      "Loading complete.\n",
      "filepath: /Users/benny/Desktop/MSc/Project/Git/repos/octagon_analysis/Json_data/2024-09-13_11-53-34_YansuSecondSolo.json\n",
      "Data is from period before 2024-09-13 00:00:00\n",
      "Running dataframe through playerinfo_playerposition_conversion.\n",
      "Loading complete.\n",
      "filepath: /Users/benny/Desktop/MSc/Project/Git/repos/octagon_analysis/Json_data/2024-10-17_17-12-29_ElsaSecondSolo.json\n",
      "Loading complete.\n",
      "filepath: /Users/benny/Desktop/MSc/Project/Git/repos/octagon_analysis/Json_data/2024-12-19_15-22-13_YeungFirstSolo.json\n",
      "Loading complete.\n",
      "filepath: /Users/benny/Desktop/MSc/Project/Git/repos/octagon_analysis/Json_data/2024-12-19_15-51-58_JingjingSecondSolo.json\n",
      "Loading complete.\n",
      "filepath: /Users/benny/Desktop/MSc/Project/Git/repos/octagon_analysis/Json_data/2024-11-13_15-51-16_HoiSecondSolo.json\n",
      "Loading complete.\n",
      "filepath: /Users/benny/Desktop/MSc/Project/Git/repos/octagon_analysis/Json_data/2024-11-19_14-18-44_XinyuanFirstSolo.json\n",
      "Loading complete.\n",
      "filepath: /Users/benny/Desktop/MSc/Project/Git/repos/octagon_analysis/Json_data/2024-12-20_18-06-44_ChristopherSecondSolo.json\n",
      "Loading complete.\n",
      "filepath: /Users/benny/Desktop/MSc/Project/Git/repos/octagon_analysis/Json_data/2024-10-17_16-35-45_ElsaFirstSolo.json\n",
      "Loading complete.\n",
      "filepath: /Users/benny/Desktop/MSc/Project/Git/repos/octagon_analysis/Json_data/2024-11-20_15-10-00_SunnyFirstSolo.json\n",
      "Loading complete.\n",
      "filepath: /Users/benny/Desktop/MSc/Project/Git/repos/octagon_analysis/Json_data/2024-11-19_14-44-31_XinyuanSecondSolo.json\n",
      "Loading complete.\n",
      "filepath: /Users/benny/Desktop/MSc/Project/Git/repos/octagon_analysis/Json_data/2024-11-20_14-12-06_JasonFirstSolo.json\n",
      "Loading complete.\n",
      "filepath: /Users/benny/Desktop/MSc/Project/Git/repos/octagon_analysis/Json_data/2024-12-20_17-36-27_KirtanFirstSolo.json\n",
      "Loading complete.\n",
      "filepath: /Users/benny/Desktop/MSc/Project/Git/repos/octagon_analysis/Json_data/2024-10-17_16-36-0_ZimoFirstSolo.json\n",
      "Loading complete.\n",
      "filepath: /Users/benny/Desktop/MSc/Project/Git/repos/octagon_analysis/Json_data/2024-09-27_14-45-55_SaraSecondSolo.json\n",
      "Loading complete.\n",
      "filepath: /Users/benny/Desktop/MSc/Project/Git/repos/octagon_analysis/Json_data/2024-10-17_17-11-46_ZimoSecondSolo.json\n",
      "Loading complete.\n",
      "filepath: /Users/benny/Desktop/MSc/Project/Git/repos/octagon_analysis/Json_data/2024-12-20_18-06-10_KirtanSecondSolo.json\n",
      "Loading complete.\n",
      "filepath: /Users/benny/Desktop/MSc/Project/Git/repos/octagon_analysis/Json_data/2025-01-15_16-14-58_RuiqingFirstSolo.json\n",
      "Loading complete.\n",
      "filepath: /Users/benny/Desktop/MSc/Project/Git/repos/octagon_analysis/Json_data/2024-11-19_15-14-19_HocineFirstSolo.json\n",
      "Loading complete.\n",
      "filepath: /Users/benny/Desktop/MSc/Project/Git/repos/octagon_analysis/Json_data/2024-11-20_14-42-16_JasonSecondSolo.json\n",
      "Loading complete.\n",
      "filepath: /Users/benny/Desktop/MSc/Project/Git/repos/octagon_analysis/Json_data/2024-12-19_15-20-18_JingjingFirstSolo.json\n",
      "Loading complete.\n",
      "filepath: /Users/benny/Desktop/MSc/Project/Git/repos/octagon_analysis/Json_data/2024-09-13_11-23-50_JerryFirstSolo.json\n",
      "Data is from period before 2024-09-13 00:00:00\n",
      "Running dataframe through playerinfo_playerposition_conversion.\n",
      "Loading complete.\n",
      "filepath: /Users/benny/Desktop/MSc/Project/Git/repos/octagon_analysis/Json_data/2025-01-15_15-12-13_YixuanFirstSolo.json\n",
      "Loading complete.\n",
      "filepath: /Users/benny/Desktop/MSc/Project/Git/repos/octagon_analysis/Json_data/2024-11-19_15-47-29_HocineSecondSolo.json\n",
      "Loading complete.\n",
      "filepath: /Users/benny/Desktop/MSc/Project/Git/repos/octagon_analysis/Json_data/2024-11-19_14-44-00_AmySecondSolo.json\n",
      "Loading complete.\n",
      "Preprocessing complete.\n",
      "Preprocessing complete.\n",
      "Preprocessing complete.\n",
      "Preprocessing complete.\n",
      "Preprocessing complete.\n",
      "Preprocessing complete.\n",
      "Preprocessing complete.\n",
      "Preprocessing complete.\n",
      "Preprocessing complete.\n",
      "Preprocessing complete.\n",
      "Preprocessing complete.\n",
      "Preprocessing complete.\n",
      "Preprocessing complete.\n",
      "Preprocessing complete.\n",
      "Preprocessing complete.\n",
      "Preprocessing complete.\n",
      "Preprocessing complete.\n",
      "Preprocessing complete.\n",
      "Preprocessing complete.\n",
      "Preprocessing complete.\n",
      "Preprocessing complete.\n",
      "Preprocessing complete.\n",
      "Preprocessing complete.\n",
      "Preprocessing complete.\n",
      "Preprocessing complete.\n",
      "Preprocessing complete.\n",
      "Preprocessing complete.\n",
      "Preprocessing complete.\n",
      "Preprocessing complete.\n",
      "Preprocessing complete.\n",
      "Preprocessing complete.\n",
      "Preprocessing complete.\n",
      "Preprocessing complete.\n",
      "Preprocessing complete.\n",
      "Preprocessing complete.\n",
      "Preprocessing complete.\n",
      "Preprocessing complete.\n",
      "Preprocessing complete.\n",
      "Preprocessing complete.\n",
      "Preprocessing complete.\n",
      "Preprocessing complete.\n",
      "Preprocessing complete.\n",
      "Preprocessing complete.\n",
      "Preprocessing complete.\n",
      "Preprocessing complete.\n",
      "Preprocessing complete.\n",
      "Preprocessing complete.\n",
      "Preprocessing complete.\n",
      "Preprocessing complete.\n",
      "Preprocessing complete.\n",
      "Preprocessing complete.\n",
      "Preprocessing complete.\n",
      "Preprocessing complete.\n",
      "Preprocessing complete.\n",
      "Preprocessing complete.\n",
      "Preprocessing complete.\n",
      "Preprocessing complete.\n",
      "Preprocessing complete.\n",
      "Preprocessing complete.\n",
      "Preprocessing complete.\n"
     ]
    }
   ],
   "source": [
    "dfs, solo_list = prepare_data.prepare_combined_session_data(data_folder, json_filenames_all_solo)"
   ]
  },
  {
   "cell_type": "code",
   "execution_count": 209,
   "id": "c7b1c459-0e5f-4092-8b2f-fda8d1eb3f77",
   "metadata": {},
   "outputs": [
    {
     "data": {
      "text/plain": [
       "2119"
      ]
     },
     "execution_count": 209,
     "metadata": {},
     "output_type": "execute_result"
    }
   ],
   "source": [
    "len(solo_list)"
   ]
  },
  {
   "cell_type": "code",
   "execution_count": 202,
   "id": "67fa783b-9d41-4d4a-8ba4-28fb722a1b6f",
   "metadata": {
    "collapsed": true,
    "jupyter": {
     "outputs_hidden": true
    },
    "scrolled": true
   },
   "outputs": [
    {
     "name": "stdout",
     "output_type": "stream",
     "text": [
      "filepath: /Users/benny/Desktop/MSc/Project/Git/repos/octagon_analysis/Json_data/2024-11-19_15-22-56_SophiaHocineSocial.json\n",
      "Loading complete.\n",
      "filepath: /Users/benny/Desktop/MSc/Project/Git/repos/octagon_analysis/Json_data/2024-11-12_13-31-14_KhadijaWendySocial.json\n",
      "Loading complete.\n",
      "filepath: /Users/benny/Desktop/MSc/Project/Git/repos/octagon_analysis/Json_data/2024-12-19_15-28-24_JingjingYeungSocial.json\n",
      "Loading complete.\n",
      "filepath: /Users/benny/Desktop/MSc/Project/Git/repos/octagon_analysis/Json_data/2024-10-17_16-41-38_ZimoElsaSocial.json\n",
      "Loading complete.\n",
      "filepath: /Users/benny/Desktop/MSc/Project/Git/repos/octagon_analysis/Json_data/2025-01-15_15-21-27_YixuanMarcoSocial.json\n",
      "Loading complete.\n",
      "filepath: /Users/benny/Desktop/MSc/Project/Git/repos/octagon_analysis/Json_data/2024-11-13_14-18-54_NasiaRyanSocial.json\n",
      "Loading complete.\n",
      "filepath: /Users/benny/Desktop/MSc/Project/Git/repos/octagon_analysis/Json_data/2024-11-19_14-24-49_AmyXinyuanSocial.json\n",
      "Loading complete.\n",
      "filepath: /Users/benny/Desktop/MSc/Project/Git/repos/octagon_analysis/Json_data/2024-09-27_14-25-20_SaraEmilySocial.json\n",
      "Loading complete.\n",
      "filepath: /Users/benny/Desktop/MSc/Project/Git/repos/octagon_analysis/Json_data/2024-11-13_15-28-07_YichuanHoiSocial.json\n",
      "Loading complete.\n",
      "filepath: /Users/benny/Desktop/MSc/Project/Git/repos/octagon_analysis/Json_data/2024-11-20_15-16-21_SunnyVinceSocial.json\n",
      "Loading complete.\n",
      "filepath: /Users/benny/Desktop/MSc/Project/Git/repos/octagon_analysis/Json_data/2025-01-15_16-50-13_YuChunSecondSocial.json\n",
      "Loading complete.\n",
      "filepath: /Users/benny/Desktop/MSc/Project/Git/repos/octagon_analysis/Json_data/2024-11-12_15-23-24_FrancescaSenSzeSocial.json\n",
      "Loading complete.\n",
      "filepath: /Users/benny/Desktop/MSc/Project/Git/repos/octagon_analysis/Json_data/2024-10-17_14-28-40_ShamirAbigailSocial.json\n",
      "Loading complete.\n",
      "filepath: /Users/benny/Desktop/MSc/Project/Git/repos/octagon_analysis/Json_data/2024-09-13_11-31-00_YansuJerrySocial.json\n",
      "Data is from period before 2024-09-13 00:00:00\n",
      "Running dataframe through playerinfo_playerposition_conversion.\n",
      "Loading complete.\n",
      "filepath: /Users/benny/Desktop/MSc/Project/Git/repos/octagon_analysis/Json_data/2024-11-20_14-17-44_JasonRahulSocial.json\n",
      "Loading complete.\n",
      "Preprocessing complete.\n",
      "Preprocessing complete.\n",
      "Preprocessing complete.\n",
      "Preprocessing complete.\n",
      "Preprocessing complete.\n",
      "Preprocessing complete.\n",
      "Preprocessing complete.\n",
      "Preprocessing complete.\n",
      "Preprocessing complete.\n",
      "Preprocessing complete.\n",
      "Preprocessing complete.\n",
      "Preprocessing complete.\n",
      "Preprocessing complete.\n",
      "Preprocessing complete.\n",
      "Preprocessing complete.\n"
     ]
    }
   ],
   "source": [
    "df, trial_list = prepare_data.prepare_combined_session_data(data_folder, json_filenames_all_social)"
   ]
  },
  {
   "cell_type": "code",
   "execution_count": 205,
   "id": "cfd11421-f49a-453b-b6e1-0d9160758815",
   "metadata": {},
   "outputs": [],
   "source": [
    "trial_list = trial_list[1:]  #remove buggy first trial from Sophia-Hocine Social"
   ]
  },
  {
   "cell_type": "code",
   "execution_count": 149,
   "id": "049be462-8ff1-44c2-ae1e-21a884b60417",
   "metadata": {},
   "outputs": [
    {
     "name": "stdout",
     "output_type": "stream",
     "text": [
      "1373\n",
      "623\n",
      "377\n",
      "373\n"
     ]
    }
   ],
   "source": [
    "#filter for specific trials\n",
    "\n",
    "#High-Low\n",
    "trial_list_indices = get_indices.get_trials_trialtype(trial_list, trial_type=globals.HIGH_LOW)\n",
    "trial_list_HL = [trial_list[i] for i in trial_list_indices]\n",
    "print(len(trial_list_HL))\n",
    "\n",
    "#45° wall separation\n",
    "single_wall_sep_trial_indices = get_indices.get_trials_with_wall_sep(trial_list_HL, wall_sep=1)\n",
    "trial_list_45_HL = [trial_list_HL[i] for i in single_wall_sep_trial_indices]\n",
    "print(len(trial_list_45_HL))\n",
    "\n",
    "#90° wall separation\n",
    "two_wall_sep_trial_indices = get_indices.get_trials_with_wall_sep(trial_list_HL, wall_sep=2)\n",
    "trial_list_90_HL = [trial_list_HL[i] for i in two_wall_sep_trial_indices]\n",
    "print(len(trial_list_90_HL))\n",
    "\n",
    "#90° wall separation\n",
    "four_wall_sep_trial_indices = get_indices.get_trials_with_wall_sep(trial_list_HL, wall_sep=4)\n",
    "trial_list_180_HL = [trial_list_HL[i] for i in four_wall_sep_trial_indices]\n",
    "print(len(trial_list_180_HL))\n"
   ]
  },
  {
   "cell_type": "code",
   "execution_count": 146,
   "id": "6de43681-61a6-4cdc-8121-fa14027be998",
   "metadata": {},
   "outputs": [],
   "source": [
    "#take whole trial list and update yaw & trajectory for both players\n",
    "#45\n",
    "updated_trial_list_45 = flip_rotate_headangle_functions.process_and_update_trials_both_players(trial_list_45_HL)"
   ]
  },
  {
   "cell_type": "code",
   "execution_count": 147,
   "id": "0feefc02-d1fa-4388-bb3a-12780d256b41",
   "metadata": {},
   "outputs": [],
   "source": [
    "#90\n",
    "updated_trial_list_90 = flip_rotate_headangle_functions.process_and_update_trials_both_players(trial_list_90_HL)"
   ]
  },
  {
   "cell_type": "code",
   "execution_count": 148,
   "id": "674f60ac-3114-4942-9ce6-41823adf8e01",
   "metadata": {},
   "outputs": [],
   "source": [
    "#180\n",
    "updated_trial_list_180 = flip_rotate_headangle_functions.process_and_update_trials_both_players(trial_list_180_HL)"
   ]
  },
  {
   "cell_type": "code",
   "execution_count": 110,
   "id": "7d97ee01-4757-42ad-8f36-3b6881a9e0e5",
   "metadata": {},
   "outputs": [],
   "source": [
    "#checking head angle and trajectory correspondence\n",
    "trial_example = trial_list_45_HL[0]\n",
    "example_trajectory = trajectory_vectors.extract_trial_player_trajectory(trial=trial_example, player_id=0)\n",
    "example_headangles = trajectory_vectors.extract_trial_player_headangles(trial=trial_example, player_id=0)"
   ]
  },
  {
   "cell_type": "code",
   "execution_count": 111,
   "id": "6accff85-61a8-42b3-8d50-76d199937261",
   "metadata": {
    "collapsed": true,
    "jupyter": {
     "outputs_hidden": true
    }
   },
   "outputs": [
    {
     "name": "stdout",
     "output_type": "stream",
     "text": [
      "[[ 0.00000000e+00  0.00000000e+00  0.00000000e+00  0.00000000e+00\n",
      "   0.00000000e+00  0.00000000e+00  0.00000000e+00  0.00000000e+00\n",
      "   0.00000000e+00  0.00000000e+00  0.00000000e+00  0.00000000e+00\n",
      "   0.00000000e+00  0.00000000e+00  0.00000000e+00  0.00000000e+00\n",
      "   0.00000000e+00  0.00000000e+00  0.00000000e+00  0.00000000e+00\n",
      "   0.00000000e+00  0.00000000e+00  0.00000000e+00  0.00000000e+00\n",
      "   0.00000000e+00  0.00000000e+00  0.00000000e+00  0.00000000e+00\n",
      "   0.00000000e+00  0.00000000e+00  0.00000000e+00  0.00000000e+00\n",
      "   0.00000000e+00  0.00000000e+00  0.00000000e+00  0.00000000e+00\n",
      "   0.00000000e+00  0.00000000e+00  0.00000000e+00  0.00000000e+00\n",
      "   0.00000000e+00  0.00000000e+00  0.00000000e+00  0.00000000e+00\n",
      "   0.00000000e+00  0.00000000e+00  0.00000000e+00  0.00000000e+00\n",
      "   0.00000000e+00  0.00000000e+00  0.00000000e+00  0.00000000e+00\n",
      "   0.00000000e+00  0.00000000e+00  0.00000000e+00  0.00000000e+00\n",
      "   0.00000000e+00  0.00000000e+00  0.00000000e+00  0.00000000e+00\n",
      "   0.00000000e+00  0.00000000e+00  0.00000000e+00  0.00000000e+00\n",
      "   0.00000000e+00  0.00000000e+00  0.00000000e+00  0.00000000e+00\n",
      "   0.00000000e+00  0.00000000e+00  0.00000000e+00  0.00000000e+00\n",
      "   0.00000000e+00  0.00000000e+00  0.00000000e+00  0.00000000e+00\n",
      "   0.00000000e+00  0.00000000e+00  0.00000000e+00  0.00000000e+00\n",
      "   0.00000000e+00  0.00000000e+00  0.00000000e+00  0.00000000e+00\n",
      "   0.00000000e+00  0.00000000e+00  0.00000000e+00  0.00000000e+00\n",
      "   0.00000000e+00  0.00000000e+00  0.00000000e+00  0.00000000e+00\n",
      "   0.00000000e+00  0.00000000e+00  0.00000000e+00  0.00000000e+00\n",
      "   0.00000000e+00  0.00000000e+00  0.00000000e+00  0.00000000e+00\n",
      "   0.00000000e+00  0.00000000e+00  0.00000000e+00  0.00000000e+00\n",
      "   0.00000000e+00  0.00000000e+00  0.00000000e+00  0.00000000e+00\n",
      "   0.00000000e+00  0.00000000e+00  0.00000000e+00  0.00000000e+00\n",
      "   0.00000000e+00  0.00000000e+00  0.00000000e+00  0.00000000e+00\n",
      "   0.00000000e+00  0.00000000e+00  0.00000000e+00  0.00000000e+00\n",
      "   0.00000000e+00  0.00000000e+00  0.00000000e+00  0.00000000e+00\n",
      "   0.00000000e+00  0.00000000e+00  0.00000000e+00  0.00000000e+00\n",
      "   0.00000000e+00  0.00000000e+00  0.00000000e+00  0.00000000e+00\n",
      "  -7.36566866e-03 -2.57777367e-02 -5.52423410e-02 -9.57536921e-02\n",
      "  -1.47314787e-01 -2.09923908e-01 -2.83595741e-01 -3.68376255e-01\n",
      "  -4.56769764e-01 -5.34124196e-01 -6.00420475e-01 -6.55685008e-01\n",
      "  -6.99888468e-01 -7.33076215e-01 -7.55168259e-01 -7.66211808e-01\n",
      "  -7.68664658e-01 -7.79717982e-01 -8.01815867e-01 -8.34960759e-01\n",
      "  -8.79155457e-01 -9.34398770e-01 -1.00068760e+00 -1.07803333e+00\n",
      "  -1.16644430e+00 -1.26588655e+00 -1.37638295e+00 -1.49853575e+00\n",
      "  -1.63115835e+00 -1.77484632e+00 -1.92957675e+00 -2.09535003e+00\n",
      "  -2.27090812e+00 -2.44767928e+00 -2.62443852e+00 -2.80120301e+00\n",
      "  -2.97060561e+00 -3.12894940e+00 -3.27627563e+00 -3.41251135e+00\n",
      "  -3.53770232e+00 -3.65185475e+00 -3.75496078e+00 -3.84701633e+00\n",
      "  -3.92803311e+00 -3.99798703e+00 -4.05767155e+00 -4.11243057e+00\n",
      "  -4.16302919e+00 -4.20947742e+00 -4.25176811e+00 -4.28990793e+00\n",
      "  -4.33127356e+00 -4.37952471e+00 -4.43509912e+00 -4.49727106e+00\n",
      "  -4.56625795e+00 -4.64219427e+00 -4.72498369e+00 -4.81465864e+00\n",
      "  -4.91123724e+00 -5.01469183e+00 -5.12438011e+00 -5.23468065e+00\n",
      "  -5.34419537e+00 -5.44759274e+00 -5.54411077e+00 -5.63371611e+00\n",
      "  -5.71643305e+00 -5.79225159e+00 -5.86118412e+00 -5.92321491e+00\n",
      "  -5.97835493e+00 -6.02660322e+00 -6.06795979e+00 -6.10610771e+00\n",
      "  -6.14839840e+00 -6.19503832e+00 -6.24565887e+00 -6.30049372e+00\n",
      "  -6.36022377e+00 -6.43046808e+00 -6.51158047e+00 -6.60381365e+00\n",
      "  -6.70702076e+00 -6.82127762e+00 -6.94658709e+00 -7.08325005e+00\n",
      "  -7.23067713e+00 -7.38915062e+00 -7.55868340e+00 -7.73545599e+00\n",
      "  -7.91234684e+00 -8.08909607e+00 -8.26585293e+00 -8.44263268e+00\n",
      "  -8.61938477e+00 -8.79614162e+00 -8.97290325e+00 -9.14965916e+00\n",
      "  -9.32643032e+00 -9.50318241e+00 -9.67995834e+00 -9.85671616e+00\n",
      "  -1.00334969e+01 -1.02102537e+01 -1.03857946e+01 -1.05515041e+01\n",
      "  -1.07062569e+01 -1.08498602e+01 -1.09836760e+01 -1.11061392e+01\n",
      "  -1.12233458e+01 -1.13364172e+01 -1.14453297e+01 -1.15506611e+01\n",
      "  -1.16512413e+01 -1.17476740e+01 -1.18399391e+01 -1.19282932e+01\n",
      "  -1.20122366e+01 -1.20923891e+01 -1.21694508e+01 -1.22522736e+01\n",
      "  -1.23419685e+01 -1.24386330e+01 -1.25421200e+01 -1.26516933e+01\n",
      "  -1.27620316e+01 -1.28723125e+01 -1.29825964e+01 -1.30929384e+01\n",
      "  -1.32033014e+01 -1.33112764e+01 -1.34123793e+01 -1.35065889e+01\n",
      "  -1.35938911e+01 -1.36743221e+01 -1.37478390e+01 -1.38157053e+01\n",
      "  -1.38867598e+01 -1.39617167e+01 -1.40408182e+01 -1.41240768e+01\n",
      "  -1.42116184e+01 -1.43032084e+01 -1.43989353e+01 -1.44988289e+01\n",
      "  -1.46028614e+01 -1.47134075e+01 -1.48349943e+01 -1.49676418e+01\n",
      "  -1.51113205e+01 -1.52660570e+01 -1.54318361e+01 -1.56073942e+01\n",
      "  -1.57843008e+01 -1.59610643e+01 -1.61378880e+01 -1.63146381e+01\n",
      "  -1.64914112e+01 -1.66689644e+01 -1.68457222e+01 -1.70224895e+01\n",
      "  -1.71992455e+01 -1.73760109e+01 -1.75527859e+01 -1.77302151e+01\n",
      "  -1.79069710e+01 -1.80837498e+01 -1.82605305e+01 -1.84372787e+01\n",
      "  -1.86140404e+01]\n",
      " [ 0.00000000e+00  0.00000000e+00  0.00000000e+00  0.00000000e+00\n",
      "   0.00000000e+00  0.00000000e+00  0.00000000e+00  0.00000000e+00\n",
      "   0.00000000e+00  0.00000000e+00  0.00000000e+00  0.00000000e+00\n",
      "   0.00000000e+00  0.00000000e+00  0.00000000e+00  0.00000000e+00\n",
      "   0.00000000e+00  0.00000000e+00  0.00000000e+00  0.00000000e+00\n",
      "   0.00000000e+00  0.00000000e+00  0.00000000e+00  0.00000000e+00\n",
      "   0.00000000e+00  0.00000000e+00  0.00000000e+00  0.00000000e+00\n",
      "   0.00000000e+00  0.00000000e+00  0.00000000e+00  0.00000000e+00\n",
      "   0.00000000e+00  0.00000000e+00  0.00000000e+00  0.00000000e+00\n",
      "   0.00000000e+00  0.00000000e+00  0.00000000e+00  0.00000000e+00\n",
      "   0.00000000e+00  0.00000000e+00  0.00000000e+00  0.00000000e+00\n",
      "   0.00000000e+00  0.00000000e+00  0.00000000e+00  0.00000000e+00\n",
      "   0.00000000e+00  0.00000000e+00  0.00000000e+00  0.00000000e+00\n",
      "   0.00000000e+00  0.00000000e+00  0.00000000e+00  0.00000000e+00\n",
      "   0.00000000e+00  0.00000000e+00  0.00000000e+00  0.00000000e+00\n",
      "   0.00000000e+00  0.00000000e+00  0.00000000e+00  0.00000000e+00\n",
      "   0.00000000e+00  0.00000000e+00  0.00000000e+00  0.00000000e+00\n",
      "   0.00000000e+00  0.00000000e+00  0.00000000e+00  0.00000000e+00\n",
      "   0.00000000e+00  0.00000000e+00  0.00000000e+00  0.00000000e+00\n",
      "   0.00000000e+00  0.00000000e+00  0.00000000e+00  0.00000000e+00\n",
      "   0.00000000e+00  0.00000000e+00  0.00000000e+00  0.00000000e+00\n",
      "   0.00000000e+00  0.00000000e+00  0.00000000e+00  0.00000000e+00\n",
      "   0.00000000e+00  0.00000000e+00  0.00000000e+00  0.00000000e+00\n",
      "   0.00000000e+00  0.00000000e+00  0.00000000e+00  0.00000000e+00\n",
      "   0.00000000e+00  0.00000000e+00  0.00000000e+00  0.00000000e+00\n",
      "   0.00000000e+00  0.00000000e+00  0.00000000e+00  0.00000000e+00\n",
      "   0.00000000e+00  0.00000000e+00  0.00000000e+00  0.00000000e+00\n",
      "   0.00000000e+00  0.00000000e+00  0.00000000e+00  0.00000000e+00\n",
      "   0.00000000e+00  0.00000000e+00  0.00000000e+00  0.00000000e+00\n",
      "   0.00000000e+00  0.00000000e+00  0.00000000e+00  0.00000000e+00\n",
      "   0.00000000e+00  0.00000000e+00  0.00000000e+00  0.00000000e+00\n",
      "   0.00000000e+00  0.00000000e+00  0.00000000e+00  0.00000000e+00\n",
      "   0.00000000e+00  0.00000000e+00  0.00000000e+00  0.00000000e+00\n",
      "   4.59582964e-03  1.60840917e-02  3.44686098e-02  5.97457848e-02\n",
      "   9.19174701e-02  1.30982608e-01  1.76950350e-01  2.29849383e-01\n",
      "   2.85002738e-01  3.33268285e-01  3.74634027e-01  4.09116477e-01\n",
      "   4.36697334e-01  4.57404912e-01  4.71189320e-01  4.78080004e-01\n",
      "   4.79610443e-01  4.86507207e-01  5.00295222e-01  5.20976067e-01\n",
      "   5.48551500e-01  5.83020687e-01  6.24381781e-01  6.72641933e-01\n",
      "   7.27806151e-01  7.89853454e-01  8.58797967e-01  9.35015559e-01\n",
      "   1.01776576e+00  1.10742033e+00  1.20396471e+00  1.30739951e+00\n",
      "   1.41693938e+00  1.52723622e+00  1.63752568e+00  1.74781835e+00\n",
      "   1.85351753e+00  1.95231664e+00  2.04424119e+00  2.12924600e+00\n",
      "   2.20735908e+00  2.27858496e+00  2.34291816e+00  2.40035653e+00\n",
      "   2.45090723e+00  2.49455500e+00  2.53008938e+00  2.54890490e+00\n",
      "   2.54977798e+00  2.53270912e+00  2.49770093e+00  2.44475651e+00\n",
      "   2.37846041e+00  2.30112910e+00  2.21206069e+00  2.11241865e+00\n",
      "   2.00185466e+00  1.88015234e+00  1.74746668e+00  1.60374665e+00\n",
      "   1.44896126e+00  1.28315580e+00  1.10736024e+00  9.30583060e-01\n",
      "   7.55065739e-01  5.89351714e-01  4.34664130e-01  2.91054904e-01\n",
      "   1.58485711e-01  3.69721390e-02 -7.35051855e-02 -1.72920689e-01\n",
      "  -2.61292815e-01 -3.38619292e-01 -4.04900998e-01 -4.57840741e-01\n",
      "  -4.92826879e-01 -5.09896994e-01 -5.08938074e-01 -4.90006328e-01\n",
      "  -4.54413861e-01 -4.10584837e-01 -3.59974504e-01 -3.02425355e-01\n",
      "  -2.38029078e-01 -1.66738153e-01 -8.85509551e-02 -3.27955023e-03\n",
      "   8.87078270e-02  1.87587827e-01  2.93368191e-01  4.03666139e-01\n",
      "   5.14037669e-01  6.24320805e-01  7.34608710e-01  8.44910860e-01\n",
      "   9.55196142e-01  1.06548405e+00  1.17577457e+00  1.28606188e+00\n",
      "   1.39635885e+00  1.50664353e+00  1.61694360e+00  1.72723198e+00\n",
      "   1.83753479e+00  1.94782317e+00  2.05735230e+00  2.16074705e+00\n",
      "   2.25730562e+00  2.34690690e+00  2.43040156e+00  2.50510120e+00\n",
      "   2.56287766e+00  2.60272193e+00  2.62462330e+00  2.62853813e+00\n",
      "   2.61445618e+00  2.58242989e+00  2.53246808e+00  2.46434021e+00\n",
      "   2.37845230e+00  2.27407980e+00  2.15308690e+00  2.02034831e+00\n",
      "   1.87659609e+00  1.72167230e+00  1.55581534e+00  1.38020337e+00\n",
      "   1.20336604e+00  1.02662027e+00  8.49871099e-01  6.73026919e-01\n",
      "   4.96150464e-01  3.23100239e-01  1.61064342e-01  1.00748306e-02\n",
      "  -1.29842848e-01 -2.58747935e-01 -3.76572996e-01 -4.82606590e-01\n",
      "  -5.71732163e-01 -6.42569900e-01 -6.95460141e-01 -7.30413139e-01\n",
      "  -7.47433424e-01 -7.46478915e-01 -7.27584004e-01 -6.90743983e-01\n",
      "  -6.35969937e-01 -5.66994786e-01 -4.91130114e-01 -4.08364207e-01\n",
      "  -3.18715632e-01 -2.22167686e-01 -1.18729435e-01 -9.18916892e-03\n",
      "   1.01192422e-01  2.11484551e-01  3.21814269e-01  4.32097912e-01\n",
      "   5.42395890e-01  6.53180301e-01  7.63469279e-01  8.73762965e-01\n",
      "   9.84050333e-01  1.09434402e+00  1.20464361e+00  1.31535125e+00\n",
      "   1.42563760e+00  1.53593981e+00  1.64624190e+00  1.75652456e+00\n",
      "   1.84078300e+00]]\n"
     ]
    }
   ],
   "source": [
    "print(example_trajectory)"
   ]
  },
  {
   "cell_type": "code",
   "execution_count": 112,
   "id": "a6e30064-c5c0-4044-a094-2b7fe4c8a767",
   "metadata": {
    "collapsed": true,
    "jupyter": {
     "outputs_hidden": true
    }
   },
   "outputs": [
    {
     "name": "stdout",
     "output_type": "stream",
     "text": [
      "1301    5.270234942\n",
      "1302    5.270234942\n",
      "1303    5.270234942\n",
      "1304    5.270234942\n",
      "1305    5.270234942\n",
      "           ...     \n",
      "1601    5.270234942\n",
      "1602    5.270234942\n",
      "1603    5.270234942\n",
      "1604    5.270234942\n",
      "1605    5.270234942\n",
      "Name: data.playerPosition.0.rotation.y, Length: 305, dtype: float64\n"
     ]
    }
   ],
   "source": [
    "print(example_headangles)"
   ]
  },
  {
   "cell_type": "code",
   "execution_count": 113,
   "id": "da5b4c93-6051-4e7c-9917-b1217482b619",
   "metadata": {},
   "outputs": [],
   "source": [
    "#checking head angle and trajectory correspondence\n",
    "updated_example = updated_trial_list[0]\n",
    "updated_trajectory = trajectory_vectors.extract_trial_player_trajectory(trial=updated_example, player_id=0)\n",
    "updated_headangles = trajectory_vectors.extract_trial_player_headangles(trial=updated_example, player_id=0)\n"
   ]
  },
  {
   "cell_type": "code",
   "execution_count": 114,
   "id": "d55f46c7-e6d3-4a37-bdad-f314cd76b4aa",
   "metadata": {
    "collapsed": true,
    "jupyter": {
     "outputs_hidden": true
    }
   },
   "outputs": [
    {
     "name": "stdout",
     "output_type": "stream",
     "text": [
      "[[ 0.00000000e+00  0.00000000e+00  0.00000000e+00  0.00000000e+00\n",
      "   0.00000000e+00  0.00000000e+00  0.00000000e+00  0.00000000e+00\n",
      "   0.00000000e+00  0.00000000e+00  0.00000000e+00  0.00000000e+00\n",
      "   0.00000000e+00  0.00000000e+00  0.00000000e+00  0.00000000e+00\n",
      "   0.00000000e+00  0.00000000e+00  0.00000000e+00  0.00000000e+00\n",
      "   0.00000000e+00  0.00000000e+00  0.00000000e+00  0.00000000e+00\n",
      "   0.00000000e+00  0.00000000e+00  0.00000000e+00  0.00000000e+00\n",
      "   0.00000000e+00  0.00000000e+00  0.00000000e+00  0.00000000e+00\n",
      "   0.00000000e+00  0.00000000e+00  0.00000000e+00  0.00000000e+00\n",
      "   0.00000000e+00  0.00000000e+00  0.00000000e+00  0.00000000e+00\n",
      "   0.00000000e+00  0.00000000e+00  0.00000000e+00  0.00000000e+00\n",
      "   0.00000000e+00  0.00000000e+00  0.00000000e+00  0.00000000e+00\n",
      "   0.00000000e+00  0.00000000e+00  0.00000000e+00  0.00000000e+00\n",
      "   0.00000000e+00  0.00000000e+00  0.00000000e+00  0.00000000e+00\n",
      "   0.00000000e+00  0.00000000e+00  0.00000000e+00  0.00000000e+00\n",
      "   0.00000000e+00  0.00000000e+00  0.00000000e+00  0.00000000e+00\n",
      "   0.00000000e+00  0.00000000e+00  0.00000000e+00  0.00000000e+00\n",
      "   0.00000000e+00  0.00000000e+00  0.00000000e+00  0.00000000e+00\n",
      "   0.00000000e+00  0.00000000e+00  0.00000000e+00  0.00000000e+00\n",
      "   0.00000000e+00  0.00000000e+00  0.00000000e+00  0.00000000e+00\n",
      "   0.00000000e+00  0.00000000e+00  0.00000000e+00  0.00000000e+00\n",
      "   0.00000000e+00  0.00000000e+00  0.00000000e+00  0.00000000e+00\n",
      "   0.00000000e+00  0.00000000e+00  0.00000000e+00  0.00000000e+00\n",
      "   0.00000000e+00  0.00000000e+00  0.00000000e+00  0.00000000e+00\n",
      "   0.00000000e+00  0.00000000e+00  0.00000000e+00  0.00000000e+00\n",
      "   0.00000000e+00  0.00000000e+00  0.00000000e+00  0.00000000e+00\n",
      "   0.00000000e+00  0.00000000e+00  0.00000000e+00  0.00000000e+00\n",
      "   0.00000000e+00  0.00000000e+00  0.00000000e+00  0.00000000e+00\n",
      "   0.00000000e+00  0.00000000e+00  0.00000000e+00  0.00000000e+00\n",
      "   0.00000000e+00  0.00000000e+00  0.00000000e+00  0.00000000e+00\n",
      "   0.00000000e+00  0.00000000e+00  0.00000000e+00  0.00000000e+00\n",
      "   0.00000000e+00  0.00000000e+00  0.00000000e+00  0.00000000e+00\n",
      "   0.00000000e+00  0.00000000e+00  0.00000000e+00  0.00000000e+00\n",
      "   4.59582964e-03  1.60840917e-02  3.44686098e-02  5.97457848e-02\n",
      "   9.19174701e-02  1.30982608e-01  1.76950350e-01  2.29849383e-01\n",
      "   2.85002738e-01  3.33268285e-01  3.74634027e-01  4.09116477e-01\n",
      "   4.36697334e-01  4.57404912e-01  4.71189320e-01  4.78080004e-01\n",
      "   4.79610443e-01  4.86507207e-01  5.00295222e-01  5.20976067e-01\n",
      "   5.48551500e-01  5.83020687e-01  6.24381781e-01  6.72641933e-01\n",
      "   7.27806151e-01  7.89853454e-01  8.58797967e-01  9.35015559e-01\n",
      "   1.01776576e+00  1.10742033e+00  1.20396471e+00  1.30739951e+00\n",
      "   1.41693938e+00  1.52723622e+00  1.63752568e+00  1.74781835e+00\n",
      "   1.85351753e+00  1.95231664e+00  2.04424119e+00  2.12924600e+00\n",
      "   2.20735908e+00  2.27858496e+00  2.34291816e+00  2.40035653e+00\n",
      "   2.45090723e+00  2.49455500e+00  2.53008938e+00  2.54890490e+00\n",
      "   2.54977798e+00  2.53270912e+00  2.49770093e+00  2.44475651e+00\n",
      "   2.37846041e+00  2.30112910e+00  2.21206069e+00  2.11241865e+00\n",
      "   2.00185466e+00  1.88015234e+00  1.74746668e+00  1.60374665e+00\n",
      "   1.44896126e+00  1.28315580e+00  1.10736024e+00  9.30583060e-01\n",
      "   7.55065739e-01  5.89351714e-01  4.34664130e-01  2.91054904e-01\n",
      "   1.58485711e-01  3.69721390e-02 -7.35051855e-02 -1.72920689e-01\n",
      "  -2.61292815e-01 -3.38619292e-01 -4.04900998e-01 -4.57840741e-01\n",
      "  -4.92826879e-01 -5.09896994e-01 -5.08938074e-01 -4.90006328e-01\n",
      "  -4.54413861e-01 -4.10584837e-01 -3.59974504e-01 -3.02425355e-01\n",
      "  -2.38029078e-01 -1.66738153e-01 -8.85509551e-02 -3.27955023e-03\n",
      "   8.87078270e-02  1.87587827e-01  2.93368191e-01  4.03666139e-01\n",
      "   5.14037669e-01  6.24320805e-01  7.34608710e-01  8.44910860e-01\n",
      "   9.55196142e-01  1.06548405e+00  1.17577457e+00  1.28606188e+00\n",
      "   1.39635885e+00  1.50664353e+00  1.61694360e+00  1.72723198e+00\n",
      "   1.83753479e+00  1.94782317e+00  2.05735230e+00  2.16074705e+00\n",
      "   2.25730562e+00  2.34690690e+00  2.43040156e+00  2.50510120e+00\n",
      "   2.56287766e+00  2.60272193e+00  2.62462330e+00  2.62853813e+00\n",
      "   2.61445618e+00  2.58242989e+00  2.53246808e+00  2.46434021e+00\n",
      "   2.37845230e+00  2.27407980e+00  2.15308690e+00  2.02034831e+00\n",
      "   1.87659609e+00  1.72167230e+00  1.55581534e+00  1.38020337e+00\n",
      "   1.20336604e+00  1.02662027e+00  8.49871099e-01  6.73026919e-01\n",
      "   4.96150464e-01  3.23100239e-01  1.61064342e-01  1.00748306e-02\n",
      "  -1.29842848e-01 -2.58747935e-01 -3.76572996e-01 -4.82606590e-01\n",
      "  -5.71732163e-01 -6.42569900e-01 -6.95460141e-01 -7.30413139e-01\n",
      "  -7.47433424e-01 -7.46478915e-01 -7.27584004e-01 -6.90743983e-01\n",
      "  -6.35969937e-01 -5.66994786e-01 -4.91130114e-01 -4.08364207e-01\n",
      "  -3.18715632e-01 -2.22167686e-01 -1.18729435e-01 -9.18916892e-03\n",
      "   1.01192422e-01  2.11484551e-01  3.21814269e-01  4.32097912e-01\n",
      "   5.42395890e-01  6.53180301e-01  7.63469279e-01  8.73762965e-01\n",
      "   9.84050333e-01  1.09434402e+00  1.20464361e+00  1.31535125e+00\n",
      "   1.42563760e+00  1.53593981e+00  1.64624190e+00  1.75652456e+00\n",
      "   1.84078300e+00]\n",
      " [ 0.00000000e+00  0.00000000e+00  0.00000000e+00  0.00000000e+00\n",
      "   0.00000000e+00  0.00000000e+00  0.00000000e+00  0.00000000e+00\n",
      "   0.00000000e+00  0.00000000e+00  0.00000000e+00  0.00000000e+00\n",
      "   0.00000000e+00  0.00000000e+00  0.00000000e+00  0.00000000e+00\n",
      "   0.00000000e+00  0.00000000e+00  0.00000000e+00  0.00000000e+00\n",
      "   0.00000000e+00  0.00000000e+00  0.00000000e+00  0.00000000e+00\n",
      "   0.00000000e+00  0.00000000e+00  0.00000000e+00  0.00000000e+00\n",
      "   0.00000000e+00  0.00000000e+00  0.00000000e+00  0.00000000e+00\n",
      "   0.00000000e+00  0.00000000e+00  0.00000000e+00  0.00000000e+00\n",
      "   0.00000000e+00  0.00000000e+00  0.00000000e+00  0.00000000e+00\n",
      "   0.00000000e+00  0.00000000e+00  0.00000000e+00  0.00000000e+00\n",
      "   0.00000000e+00  0.00000000e+00  0.00000000e+00  0.00000000e+00\n",
      "   0.00000000e+00  0.00000000e+00  0.00000000e+00  0.00000000e+00\n",
      "   0.00000000e+00  0.00000000e+00  0.00000000e+00  0.00000000e+00\n",
      "   0.00000000e+00  0.00000000e+00  0.00000000e+00  0.00000000e+00\n",
      "   0.00000000e+00  0.00000000e+00  0.00000000e+00  0.00000000e+00\n",
      "   0.00000000e+00  0.00000000e+00  0.00000000e+00  0.00000000e+00\n",
      "   0.00000000e+00  0.00000000e+00  0.00000000e+00  0.00000000e+00\n",
      "   0.00000000e+00  0.00000000e+00  0.00000000e+00  0.00000000e+00\n",
      "   0.00000000e+00  0.00000000e+00  0.00000000e+00  0.00000000e+00\n",
      "   0.00000000e+00  0.00000000e+00  0.00000000e+00  0.00000000e+00\n",
      "   0.00000000e+00  0.00000000e+00  0.00000000e+00  0.00000000e+00\n",
      "   0.00000000e+00  0.00000000e+00  0.00000000e+00  0.00000000e+00\n",
      "   0.00000000e+00  0.00000000e+00  0.00000000e+00  0.00000000e+00\n",
      "   0.00000000e+00  0.00000000e+00  0.00000000e+00  0.00000000e+00\n",
      "   0.00000000e+00  0.00000000e+00  0.00000000e+00  0.00000000e+00\n",
      "   0.00000000e+00  0.00000000e+00  0.00000000e+00  0.00000000e+00\n",
      "   0.00000000e+00  0.00000000e+00  0.00000000e+00  0.00000000e+00\n",
      "   0.00000000e+00  0.00000000e+00  0.00000000e+00  0.00000000e+00\n",
      "   0.00000000e+00  0.00000000e+00  0.00000000e+00  0.00000000e+00\n",
      "   0.00000000e+00  0.00000000e+00  0.00000000e+00  0.00000000e+00\n",
      "   0.00000000e+00  0.00000000e+00  0.00000000e+00  0.00000000e+00\n",
      "   0.00000000e+00  0.00000000e+00  0.00000000e+00  0.00000000e+00\n",
      "   7.36566866e-03  2.57777367e-02  5.52423410e-02  9.57536921e-02\n",
      "   1.47314787e-01  2.09923908e-01  2.83595741e-01  3.68376255e-01\n",
      "   4.56769764e-01  5.34124196e-01  6.00420475e-01  6.55685008e-01\n",
      "   6.99888468e-01  7.33076215e-01  7.55168259e-01  7.66211808e-01\n",
      "   7.68664658e-01  7.79717982e-01  8.01815867e-01  8.34960759e-01\n",
      "   8.79155457e-01  9.34398770e-01  1.00068760e+00  1.07803333e+00\n",
      "   1.16644430e+00  1.26588655e+00  1.37638295e+00  1.49853575e+00\n",
      "   1.63115835e+00  1.77484632e+00  1.92957675e+00  2.09535003e+00\n",
      "   2.27090812e+00  2.44767928e+00  2.62443852e+00  2.80120301e+00\n",
      "   2.97060561e+00  3.12894940e+00  3.27627563e+00  3.41251135e+00\n",
      "   3.53770232e+00  3.65185475e+00  3.75496078e+00  3.84701633e+00\n",
      "   3.92803311e+00  3.99798703e+00  4.05767155e+00  4.11243057e+00\n",
      "   4.16302919e+00  4.20947742e+00  4.25176811e+00  4.28990793e+00\n",
      "   4.33127356e+00  4.37952471e+00  4.43509912e+00  4.49727106e+00\n",
      "   4.56625795e+00  4.64219427e+00  4.72498369e+00  4.81465864e+00\n",
      "   4.91123724e+00  5.01469183e+00  5.12438011e+00  5.23468065e+00\n",
      "   5.34419537e+00  5.44759274e+00  5.54411077e+00  5.63371611e+00\n",
      "   5.71643305e+00  5.79225159e+00  5.86118412e+00  5.92321491e+00\n",
      "   5.97835493e+00  6.02660322e+00  6.06795979e+00  6.10610771e+00\n",
      "   6.14839840e+00  6.19503832e+00  6.24565887e+00  6.30049372e+00\n",
      "   6.36022377e+00  6.43046808e+00  6.51158047e+00  6.60381365e+00\n",
      "   6.70702076e+00  6.82127762e+00  6.94658709e+00  7.08325005e+00\n",
      "   7.23067713e+00  7.38915062e+00  7.55868340e+00  7.73545599e+00\n",
      "   7.91234684e+00  8.08909607e+00  8.26585293e+00  8.44263268e+00\n",
      "   8.61938477e+00  8.79614162e+00  8.97290325e+00  9.14965916e+00\n",
      "   9.32643032e+00  9.50318241e+00  9.67995834e+00  9.85671616e+00\n",
      "   1.00334969e+01  1.02102537e+01  1.03857946e+01  1.05515041e+01\n",
      "   1.07062569e+01  1.08498602e+01  1.09836760e+01  1.11061392e+01\n",
      "   1.12233458e+01  1.13364172e+01  1.14453297e+01  1.15506611e+01\n",
      "   1.16512413e+01  1.17476740e+01  1.18399391e+01  1.19282932e+01\n",
      "   1.20122366e+01  1.20923891e+01  1.21694508e+01  1.22522736e+01\n",
      "   1.23419685e+01  1.24386330e+01  1.25421200e+01  1.26516933e+01\n",
      "   1.27620316e+01  1.28723125e+01  1.29825964e+01  1.30929384e+01\n",
      "   1.32033014e+01  1.33112764e+01  1.34123793e+01  1.35065889e+01\n",
      "   1.35938911e+01  1.36743221e+01  1.37478390e+01  1.38157053e+01\n",
      "   1.38867598e+01  1.39617167e+01  1.40408182e+01  1.41240768e+01\n",
      "   1.42116184e+01  1.43032084e+01  1.43989353e+01  1.44988289e+01\n",
      "   1.46028614e+01  1.47134075e+01  1.48349943e+01  1.49676418e+01\n",
      "   1.51113205e+01  1.52660570e+01  1.54318361e+01  1.56073942e+01\n",
      "   1.57843008e+01  1.59610643e+01  1.61378880e+01  1.63146381e+01\n",
      "   1.64914112e+01  1.66689644e+01  1.68457222e+01  1.70224895e+01\n",
      "   1.71992455e+01  1.73760109e+01  1.75527859e+01  1.77302151e+01\n",
      "   1.79069710e+01  1.80837498e+01  1.82605305e+01  1.84372787e+01\n",
      "   1.86140404e+01]]\n"
     ]
    }
   ],
   "source": [
    "print(updated_trajectory)"
   ]
  },
  {
   "cell_type": "code",
   "execution_count": 115,
   "id": "e7454faa-ea89-442a-b0b3-7c5177877a00",
   "metadata": {
    "collapsed": true,
    "jupyter": {
     "outputs_hidden": true
    },
    "scrolled": true
   },
   "outputs": [
    {
     "name": "stdout",
     "output_type": "stream",
     "text": [
      "1301    0.557845962\n",
      "1302    0.557845962\n",
      "1303    0.557845962\n",
      "1304    0.557845962\n",
      "1305    0.557845962\n",
      "           ...     \n",
      "1601    0.557845962\n",
      "1602    0.557845962\n",
      "1603    0.557845962\n",
      "1604    0.557845962\n",
      "1605    0.557845962\n",
      "Name: data.playerPosition.0.rotation.y, Length: 305, dtype: float64\n"
     ]
    }
   ],
   "source": [
    "print(updated_headangles)"
   ]
  },
  {
   "cell_type": "code",
   "execution_count": 118,
   "id": "0c0f22d9-cbaf-40e5-be74-ff5152ccdd7f",
   "metadata": {},
   "outputs": [],
   "source": [
    "#plotting updated headangles to check logic\n",
    "trial_player_headangles = trajectory_headangle.get_player_headangle_vectors_for_trial(example_headangles)\n",
    "trial_player_headangles_smoothed = trajectory_headangle.get_smoothed_player_head_angle_vectors_for_trial(example_headangles, window_size=5, debug=False)\n",
    "trajectory = example_trajectory"
   ]
  },
  {
   "cell_type": "code",
   "execution_count": 119,
   "id": "4f9b8bf6-1fe3-49ff-bb9e-f2866d519324",
   "metadata": {
    "collapsed": true,
    "jupyter": {
     "outputs_hidden": true,
     "source_hidden": true
    }
   },
   "outputs": [
    {
     "data": {
      "image/png": "[encoded data removed]",
      "text/plain": [
       "<Figure size 640x480 with 1 Axes>"
      ]
     },
     "metadata": {},
     "output_type": "display_data"
    }
   ],
   "source": [
    "## Find the average head angle vector at all points throughout trajectory \n",
    "ax = plot_octagon.plot_octagon()\n",
    "ax.scatter(trajectory[0,:], trajectory[1,:], s=0.5)\n",
    "\n",
    "for time_index in range(0, trial_player_headangles_smoothed.shape[1],3):\n",
    "    x_start = trajectory[0,time_index]\n",
    "    y_start = trajectory[1,time_index]\n",
    "    x_gradient = trial_player_headangles_smoothed[0,time_index]\n",
    "    y_gradient = trial_player_headangles_smoothed[1,time_index]\n",
    "    vector_length = 3\n",
    "    \n",
    "    start = [x_start, y_start]\n",
    "    end = [x_start + x_gradient*vector_length, y_start + y_gradient*vector_length]\n",
    "    \n",
    "    this_head_angle_vector_coordinates = np.array(list(zip(start,end)))\n",
    "    ax.plot(this_head_angle_vector_coordinates[0,:], this_head_angle_vector_coordinates[1,:], c='r', linewidth=1.3)\n"
   ]
  },
  {
   "cell_type": "code",
   "execution_count": 120,
   "id": "d3fb119b-9465-4ae2-8ac2-4a3925cb68a9",
   "metadata": {
    "collapsed": true,
    "jupyter": {
     "outputs_hidden": true
    }
   },
   "outputs": [
    {
     "name": "stdout",
     "output_type": "stream",
     "text": [
      "smoothed_player_head_angles.shape:  (2, 300)\n",
      "smoothed_player_head_angles\n",
      " [[0.52935995 0.52935995 0.52935995 0.52935995 0.52935995 0.52935995\n",
      "  0.52935995 0.52935995 0.52935995 0.52935995]\n",
      " [0.84839734 0.84839734 0.84839734 0.84839734 0.84839734 0.84839734\n",
      "  0.84839734 0.84839734 0.84839734 0.84839734]]\n",
      "player_to_alcove_vectors.shape:  (2, 8, 305)\n",
      "player_to_alcove_vectors\n",
      " [[12.88832141 12.88832141 12.88832141 12.88832141 12.88832141 12.88832141\n",
      "  12.88832141 12.88832141 12.88832141 12.88832141]\n",
      " [12.88832141 12.88832141 12.88832141 12.88832141 12.88832141 12.88832141\n",
      "  12.88832141 12.88832141 12.88832141 12.88832141]]\n",
      "dot_products_trajectory.shape:  (8, 300)\n",
      "dot_products_trajectory\n",
      " [[ 15.46360167  15.46360167  15.46360167  15.46360167  15.46360167\n",
      "   15.46360167  15.46360167  15.46360167  15.46360167  15.46360167]\n",
      " [ 17.75697874  17.75697874  17.75697874  17.75697874  17.75697874\n",
      "   17.75697874  17.75697874  17.75697874  17.75697874  17.75697874]\n",
      " [  9.6485585    9.6485585    9.6485585    9.6485585    9.6485585\n",
      "    9.6485585    9.6485585    9.6485585    9.6485585    9.6485585 ]\n",
      " [ -4.11185646  -4.11185646  -4.11185646  -4.11185646  -4.11185646\n",
      "   -4.11185646  -4.11185646  -4.11185646  -4.11185646  -4.11185646]\n",
      " [-15.46360167 -15.46360167 -15.46360167 -15.46360167 -15.46360167\n",
      "  -15.46360167 -15.46360167 -15.46360167 -15.46360167 -15.46360167]\n",
      " [-17.75697874 -17.75697874 -17.75697874 -17.75697874 -17.75697874\n",
      "  -17.75697874 -17.75697874 -17.75697874 -17.75697874 -17.75697874]\n",
      " [ -9.6485585   -9.6485585   -9.6485585   -9.6485585   -9.6485585\n",
      "   -9.6485585   -9.6485585   -9.6485585   -9.6485585   -9.6485585 ]\n",
      " [  4.11185646   4.11185646   4.11185646   4.11185646   4.11185646\n",
      "    4.11185646   4.11185646   4.11185646   4.11185646   4.11185646]]\n",
      "head_angle_vector_norms_trajectory\n",
      " [1. 1. 1. 1. 1. 1. 1. 1. 1. 1.]\n",
      "player_to_alcove_vector_norms_trajectory\n",
      " [[18.22683894 18.22683894 18.22683894 18.22683894 18.22683894 18.22683894\n",
      "  18.22683894 18.22683894 18.22683894 18.22683894]\n",
      " [18.22683894 18.22683894 18.22683894 18.22683894 18.22683894 18.22683894\n",
      "  18.22683894 18.22683894 18.22683894 18.22683894]\n",
      " [18.22683894 18.22683894 18.22683894 18.22683894 18.22683894 18.22683894\n",
      "  18.22683894 18.22683894 18.22683894 18.22683894]\n",
      " [18.22683894 18.22683894 18.22683894 18.22683894 18.22683894 18.22683894\n",
      "  18.22683894 18.22683894 18.22683894 18.22683894]\n",
      " [18.22683894 18.22683894 18.22683894 18.22683894 18.22683894 18.22683894\n",
      "  18.22683894 18.22683894 18.22683894 18.22683894]\n",
      " [18.22683894 18.22683894 18.22683894 18.22683894 18.22683894 18.22683894\n",
      "  18.22683894 18.22683894 18.22683894 18.22683894]\n",
      " [18.22683894 18.22683894 18.22683894 18.22683894 18.22683894 18.22683894\n",
      "  18.22683894 18.22683894 18.22683894 18.22683894]\n",
      " [18.22683894 18.22683894 18.22683894 18.22683894 18.22683894 18.22683894\n",
      "  18.22683894 18.22683894 18.22683894 18.22683894]]\n",
      "head_angle_vector_norms_trajectory.shape:  (300,)\n",
      "player_to_alcove_vector_norms_trajectory.shape:  (8, 300)\n",
      "cosine_similairities_trajectory.shape:  (8, 300)\n",
      "Player 0: Bin 2\n",
      "smoothed_player_head_angles.shape:  (2, 300)\n",
      "smoothed_player_head_angles\n",
      " [[ 0.90270993  0.90810978  0.91365176  0.91958092  0.92593202  0.93248269\n",
      "   0.93924525  0.94604009  0.95239762  0.95829835]\n",
      " [-0.42990684 -0.41833443 -0.40603479 -0.39226964 -0.37684716 -0.3602293\n",
      "  -0.34205075 -0.32274472 -0.30346066 -0.2843039 ]]\n",
      "player_to_alcove_vectors.shape:  (2, 8, 305)\n",
      "player_to_alcove_vectors\n",
      " [[12.88832141 12.88832141 12.88832141 12.88832141 12.88832141 12.88832141\n",
      "  12.88832141 12.88832141 12.88832141 12.88832141]\n",
      " [14.06832148 14.06832148 14.06832148 14.06832148 14.06832148 14.06832148\n",
      "  14.06832148 14.06832148 14.06832148 14.06832148]]\n",
      "dot_products_trajectory.shape:  (8, 300)\n",
      "dot_products_trajectory\n",
      " [[ -8.34313289  -8.11854895  -7.87985174  -7.61271381  -7.31341225\n",
      "   -6.990912    -6.63812389  -6.26345475  -5.88921224  -5.51743993]\n",
      " [  5.58634799   5.81874743   6.06320966   6.333279     6.6321024\n",
      "    6.95031505   7.29321475   7.65239234   8.0056245    8.35117851]\n",
      " [ 15.94625831  16.05833599  16.17386244  16.29817509  16.43213408\n",
      "   16.57114121  16.71585203  16.86248159  17.00111446  17.13127102]\n",
      " [ 16.66790313  16.60200464  16.52942333  16.44467348  16.34595715\n",
      "   16.23581701  16.11013483  15.97166763  15.82782163  15.67957848]\n",
      " [  7.32855268   7.13127964   6.92160958   6.6869574    6.42405289\n",
      "    6.14077081   5.83088407   5.50177718   5.17304504   4.8464827 ]\n",
      " [ -6.60092819  -6.80601674  -7.02145181  -7.25903541  -7.52146175\n",
      "   -7.80045624  -8.10045457  -8.41406992  -8.7217917   -9.02213574]\n",
      " [-16.96083852 -17.04560531 -17.13210459 -17.2239315  -17.32149343\n",
      "  -17.42128241 -17.52309186 -17.62415917 -17.71728167 -17.80222825]\n",
      " [-17.68248334 -17.58927395 -17.48766548 -17.37042989 -17.23531651\n",
      "  -17.08595821 -16.91737466 -16.7333452  -16.54398884 -16.35053571]]\n",
      "head_angle_vector_norms_trajectory\n",
      " [0.99985254 0.99983352 0.99981188 0.99975224 0.99968189 0.99964449\n",
      " 0.9995901  0.99957791 0.99957471 0.99958213]\n",
      "player_to_alcove_vector_norms_trajectory\n",
      " [[19.406839   19.406839   19.406839   19.406839   19.406839   19.406839\n",
      "  19.406839   19.406839   19.406839   19.406839  ]\n",
      " [19.07947845 19.07947845 19.07947845 19.07947845 19.07947845 19.07947845\n",
      "  19.07947845 19.07947845 19.07947845 19.07947845]\n",
      " [18.26499542 18.26499542 18.26499542 18.26499542 18.26499542 18.26499542\n",
      "  18.26499542 18.26499542 18.26499542 18.26499542]\n",
      " [17.41245581 17.41245581 17.41245581 17.41245581 17.41245581 17.41245581\n",
      "  17.41245581 17.41245581 17.41245581 17.41245581]\n",
      " [17.04683887 17.04683887 17.04683887 17.04683887 17.04683887 17.04683887\n",
      "  17.04683887 17.04683887 17.04683887 17.04683887]\n",
      " [17.41245581 17.41245581 17.41245581 17.41245581 17.41245581 17.41245581\n",
      "  17.41245581 17.41245581 17.41245581 17.41245581]\n",
      " [18.26499542 18.26499542 18.26499542 18.26499542 18.26499542 18.26499542\n",
      "  18.26499542 18.26499542 18.26499542 18.26499542]\n",
      " [19.07947845 19.07947845 19.07947845 19.07947845 19.07947845 19.07947845\n",
      "  19.07947845 19.07947845 19.07947845 19.07947845]]\n",
      "head_angle_vector_norms_trajectory.shape:  (300,)\n",
      "player_to_alcove_vector_norms_trajectory.shape:  (8, 300)\n",
      "cosine_similairities_trajectory.shape:  (8, 300)\n",
      "Player 1: Bin 4\n"
     ]
    }
   ],
   "source": [
    "#test new bin functions\n",
    "bins_test = headangle_bin_assignment_new.sort_head_angle_into_bin(updated_trial_list, 0, debug=True)"
   ]
  },
  {
   "cell_type": "code",
   "execution_count": 121,
   "id": "2e6d9acf-6cf0-4b2e-aab0-9179e2012bd0",
   "metadata": {},
   "outputs": [
    {
     "name": "stdout",
     "output_type": "stream",
     "text": [
      "[2, 4]\n"
     ]
    },
    {
     "data": {
      "text/plain": [
       "2"
      ]
     },
     "execution_count": 121,
     "metadata": {},
     "output_type": "execute_result"
    }
   ],
   "source": [
    "print(bins_test)\n",
    "bins_test[0]"
   ]
  },
  {
   "cell_type": "code",
   "execution_count": 150,
   "id": "57f56a09-c7e0-4580-be6b-7a51f69a9b3b",
   "metadata": {},
   "outputs": [],
   "source": [
    "#bin assignments for the whole trial list\n",
    "#45\n",
    "bin_assignments_45 = headangle_bin_assignment_new.assign_bins_to_all_trials(updated_trial_list_45)"
   ]
  },
  {
   "cell_type": "code",
   "execution_count": 153,
   "id": "f0fe9979-3218-44b1-8b09-863a44d45b5c",
   "metadata": {},
   "outputs": [],
   "source": [
    "bins_45_player0 = bin_assignments_45[0]\n",
    "bins_45_player1 = bin_assignments_45[1]"
   ]
  },
  {
   "cell_type": "code",
   "execution_count": 151,
   "id": "eb696716-77cd-494a-aafb-24681a67f0fa",
   "metadata": {},
   "outputs": [],
   "source": [
    "#90\n",
    "bin_assignments_90 = headangle_bin_assignment_new.assign_bins_to_all_trials(updated_trial_list_90)"
   ]
  },
  {
   "cell_type": "code",
   "execution_count": 154,
   "id": "dd4d4fb7-e68b-420b-9857-a1ca150039e9",
   "metadata": {},
   "outputs": [],
   "source": [
    "bins_90_player0 = bin_assignments_90[0]\n",
    "bins_90_player1 = bin_assignments_90[1]"
   ]
  },
  {
   "cell_type": "code",
   "execution_count": 152,
   "id": "fecb129b-97de-41d0-be35-0d3fc983d895",
   "metadata": {},
   "outputs": [],
   "source": [
    "#180\n",
    "bin_assignments_180 = headangle_bin_assignment_new.assign_bins_to_all_trials(updated_trial_list_180)"
   ]
  },
  {
   "cell_type": "code",
   "execution_count": 155,
   "id": "a67ee47d-7d82-48ba-b7a9-ed812f420bfe",
   "metadata": {},
   "outputs": [],
   "source": [
    "bins_180_player0 = bin_assignments_180[0]\n",
    "bins_180_player1 = bin_assignments_180[1]"
   ]
  },
  {
   "cell_type": "code",
   "execution_count": 125,
   "id": "af165f4f-561e-4220-90ea-6397578ef55a",
   "metadata": {
    "jupyter": {
     "source_hidden": true
    }
   },
   "outputs": [],
   "source": [
    "def get_player_wall_choice(trial_list, player_id, inferred_choice=False, debug=False):\n",
    "    ''' Return int array of size len(trial_list) of the wall numbers chosen for\n",
    "        player player_id.\n",
    "        Can use inferred choice.'''\n",
    "\n",
    "    # decide whether to include loser's inferred choice based on function inputs\n",
    "    if inferred_choice:\n",
    "        # get the players choice, whether this is empirical, inferred, or nan\n",
    "        player_wall_choice = loser_inferred_choice.player_wall_choice_win_or_loss(trial_list, player_id, debug=debug)\n",
    "    else:\n",
    "        player_wall_choice = wall_choice.player_wall_choice_wins_only(trial_list, player_id, debug=debug)\n",
    "    if debug:\n",
    "        print(f\"include loser's inferred choice status: {inferred_choice}\")\n",
    "        print(f\"player wall choices for this player: {player_wall_choice}\")\n",
    "\n",
    "    return player_wall_choice\n",
    "\n",
    "\n",
    "\n",
    "def was_given_wall_chosen(trial_list, player_choice, given_wall_index):\n",
    "    ''' Identify whether the chosen wall on each trial agreed with given_wall_index\n",
    "        (e.g., wall1 or wall2). \n",
    "        Compatible with loser's choice\n",
    "        Returns a boolean array of length num_trials '''\n",
    "\n",
    "    # initialise array, default to false (bool(0))\n",
    "    given_wall_chosen = np.full(len(trial_list), np.nan)\n",
    "    \n",
    "    # get the chosen walls for each trial\n",
    "    chosen_walls = player_choice\n",
    "\n",
    "    # loop through trials, identify wall wall_index, and compare it to chosen wall\n",
    "    for i, trial in enumerate(trial_list):\n",
    "        \n",
    "        # find the wall number that aligns with the given wall (0 for WALL_1, 1 for WALL_2, etc.)\n",
    "        walls = get_walls(trial)\n",
    "        given_wall = walls[given_wall_index]\n",
    "\n",
    "        # if chosen wall and wall given_wall_index are identical, set to True for this trial\n",
    "        # else, false, preserving np.nan (which represents no valid choice data)\n",
    "        if np.isnan(chosen_walls[i]):  # If no valid choice, keep NaN\n",
    "            continue\n",
    "        elif given_wall == chosen_walls[i]:  \n",
    "            given_wall_chosen[i] = True\n",
    "        else:\n",
    "            given_wall_chosen[i] = False\n",
    "\n",
    "    return given_wall_chosen\n",
    "\n",
    "    \n",
    "def get_walls(trial=None, trial_list=None, trial_index=None, num_walls=2):\n",
    "    ''' Return a list with the numbers of all walls for this trial,\n",
    "        in ascending order '''\n",
    "    \n",
    "    this_trial = plot_trajectory.extract_trial(trial, trial_list, trial_index)\n",
    "    # print(f\"Trial in get_walls is: {type(trial)}\")\n",
    "\n",
    "    wall_column_names = [globals.WALL_1, globals.WALL_2, globals.WALL_3, globals.WALL_4]\n",
    "    \n",
    "    walls = []\n",
    "    for i in range(num_walls):\n",
    "        # print(f\"this_wall for trial {this_trial[globals.TRIAL_NUM].unique().item()}, wall {i}\")\n",
    "        this_wall = int(this_trial.iloc[0][wall_column_names[i]])\n",
    "        walls.append(this_wall)\n",
    "\n",
    "    return walls\n",
    "\n"
   ]
  },
  {
   "cell_type": "code",
   "execution_count": 156,
   "id": "ad90762e-fb03-453e-ad0b-e4b34b5a990c",
   "metadata": {
    "collapsed": true,
    "jupyter": {
     "outputs_hidden": true
    }
   },
   "outputs": [
    {
     "name": "stdout",
     "output_type": "stream",
     "text": [
      "Time taken for player_wall_choice_win_or_loss (one session for one player) is 5.44\n",
      "include loser's inferred choice status: True\n",
      "player wall choices for this player: [ 7. nan nan  8.  6.  6.  5.  5. nan  2.  6. nan  8.  1.  1.  3.  7.  4.\n",
      "  5. nan nan  8.  8.  5.  5.  7.  1.  4. nan  5.  4.  6.  1.  8. nan  1.\n",
      " nan  4.  1.  3.  4. nan  8.  8. nan  4.  3.  1.  7.  5.  6.  1.  6.  8.\n",
      "  2.  2.  3.  1.  5. nan nan  3.  6. nan  1.  6. nan  1.  6.  4.  2.  1.\n",
      "  1. nan  3. nan  3.  3.  1.  1.  7.  1.  6.  1.  2.  7.  3.  6. nan  6.\n",
      " nan nan nan  2. nan  8. nan nan nan  8.  6.  6. nan  1.  7.  3.  1.  1.\n",
      " nan  4. nan nan  5. nan  5.  2.  5.  4.  6. nan  6.  8.  6.  2.  4.  8.\n",
      " nan nan  1. nan  3.  5.  2.  8.  5.  8. nan  6.  4. nan  8.  2.  6.  3.\n",
      "  5. nan nan  1.  5.  2.  3. nan nan  4. nan  8. nan  6. nan  8.  6.  4.\n",
      "  6.  3.  7.  4.  6.  4.  8. nan nan  8. nan  6.  4.  5. nan nan  6.  8.\n",
      "  7.  6.  1.  6. nan  5.  6.  6. nan  8.  7.  1.  2.  2.  8. nan  7.  8.\n",
      "  1.  7.  8.  5.  5.  4.  8.  1.  2.  8.  7. nan nan  6.  3. nan  7.  2.\n",
      "  4.  8.  8.  5.  7.  4.  3.  2.  7.  2.  6.  8.  6.  1. nan  7. nan  7.\n",
      "  2.  6. nan  6.  7.  8.  3.  6. nan  6. nan nan  6.  1.  8.  5.  3.  4.\n",
      "  6. nan  6.  7. nan  5.  5. nan  6.  1.  1.  4.  5.  1.  3.  4.  4.  2.\n",
      "  1. nan  1.  7. nan nan  5. nan  4.  4. nan nan nan nan  7.  4.  5. nan\n",
      "  4.  2. nan  2.  8. nan  8.  7.  4. nan  3.  7.  3. nan nan nan nan  5.\n",
      "  7.  2.  5.  8.  1.  5.  3.  1. nan  3.  7.  2.  7.  5. nan  1.  5. nan\n",
      "  3.  7.  6.  2.  2.  8.  7.  7. nan  5.  3. nan nan  6. nan  5.  2.  7.\n",
      "  1.  7. nan  1. nan  5.  8. nan  8.  8.  7.  6.  1.  5.  8. nan  6.  2.\n",
      " nan  3. nan  6.  7.  6. nan  8.  3.  7.  4.  1.  5. nan  4.  4.  2. nan\n",
      "  2. nan nan  2. nan  8.  5.  4.  7.  3. nan  2.  6.  7.  4.  3. nan  3.\n",
      " nan  7. nan  3. nan  2.  7.  6.  8.  2.  4. nan  3.  4.  4. nan nan nan\n",
      "  8.  5.  4.  2.  7.  1.  7.  5.  4.  2.  7.  2.  3.  8.  6.  6.  8.  7.\n",
      "  2.  4.  7.  5.  6.  2.  3.  5.  8.  2.  7.  7.  4.  3.  8.  1.  8.  8.\n",
      "  4.  6.  1.  3.  1.  7.  4.  3.  3.  3. nan  2.  1.  3.  3.  4.  2.  5.\n",
      "  1.  5.  2.  6.  6.  3.  6. nan  7.  3.  6.  1.  3.  5.  1.  7.  5.  8.\n",
      "  5.  1.  6.  7.  1.  2.  5.  2.  5. nan  2.  6.  8.  1. nan  7.  6. nan\n",
      "  4.  5.  7.  8.  1.  5.  3.  3.  6. nan  8.  5.  2.  3. nan  2.  2. nan\n",
      "  5.  2.  8.  1.  1. nan  2.  8.  1. nan  6.  2.  6.  6.  1. nan  7.  5.\n",
      "  3.  4.  1.  8.  1.  1.  6.  2.  3.  1.  4.  1. nan  2.  4. nan nan nan\n",
      "  7. nan  4.  4.  1.  4.  4.  7. nan  5.  3.  8.  6.  8.  7.  6.  7.  4.\n",
      " nan  8. nan nan  4.  4.  6. nan  5. nan  3.  3.  7.  6.  7.  3. nan nan\n",
      "  4.  8.  6.  5.  1.  5. nan nan  7.  6.  4.  6.  2. nan  4.  4. nan nan\n",
      "  8.  5.  1.  4. nan  5.  2. nan  8.  7.  5.]\n"
     ]
    }
   ],
   "source": [
    "#get player wall choices from original trial list for both losses and wins\n",
    "#45\n",
    "choice_45_player0 = get_player_wall_choice(trial_list_45_HL, 0, inferred_choice=True, debug=True)"
   ]
  },
  {
   "cell_type": "code",
   "execution_count": 157,
   "id": "ea50e605-95ba-454d-b122-1499c92a2b52",
   "metadata": {
    "collapsed": true,
    "jupyter": {
     "outputs_hidden": true
    }
   },
   "outputs": [
    {
     "name": "stdout",
     "output_type": "stream",
     "text": [
      "Time taken for player_wall_choice_win_or_loss (one session for one player) is 5.19\n",
      "include loser's inferred choice status: True\n",
      "player wall choices for this player: [nan  2.  2. nan  5.  7.  2.  3.  4.  1.  6.  4.  1.  3.  1. nan  7.  3.\n",
      "  4.  7.  7. nan  7. nan nan  8.  1.  3.  3.  5. nan  6.  1.  1.  6.  8.\n",
      "  2. nan  1.  3.  5.  2.  7. nan  2.  3. nan  8.  6.  6.  6.  1.  6.  7.\n",
      "  8. nan  3.  1.  5.  8.  4. nan  6.  7.  1.  4.  8.  2.  1.  2.  3.  1.\n",
      "  8.  5. nan  2.  2.  2.  8.  8.  8.  2.  5.  1.  2.  7.  3.  6.  8. nan\n",
      "  2.  2.  7.  2.  5.  7.  4.  4.  6.  8.  6.  5.  7.  1.  8.  3.  8.  8.\n",
      "  6.  3.  1.  4.  5.  7.  7.  2.  5.  8.  6.  5.  5.  8.  6.  4.  4.  8.\n",
      "  4.  7.  2.  4.  4.  5.  2.  8.  5.  8.  8.  5.  4.  4.  1.  2. nan  3.\n",
      "  5.  7.  4. nan  6.  6. nan  1.  7.  3.  8. nan  3.  5.  4.  1.  6.  5.\n",
      " nan  3. nan  8. nan  4.  8.  6.  6.  8.  8.  6.  4. nan  7.  4.  6.  8.\n",
      "  7. nan  1.  6.  8. nan  6.  6.  6. nan  6.  1.  2.  3.  8.  5.  6.  8.\n",
      "  1.  7.  1.  4.  5.  4.  8.  1.  2.  8.  6.  6.  7.  5.  2.  3.  6.  2.\n",
      "  4.  8.  8.  5.  7.  4.  4.  3.  7.  1.  6.  5.  5.  1.  5.  7.  3.  8.\n",
      "  2.  7.  1.  7.  5.  7.  2.  7.  4.  4.  4.  7.  6.  8.  8.  4.  2.  4.\n",
      "  5.  8.  7.  6.  6.  6.  5.  7.  5. nan  1.  4.  4.  8.  2.  2.  5.  3.\n",
      " nan  5.  2.  7.  7.  2.  5.  6.  2.  4.  3.  4.  1.  8.  7.  4.  7.  8.\n",
      "  8.  3.  7.  2.  8.  5.  1.  7.  4.  7.  2.  7.  3.  3.  5.  5.  2.  4.\n",
      "  2.  2.  5.  8.  1.  2. nan  2.  5.  3.  6.  2.  6.  6.  1. nan  7.  3.\n",
      "  4.  1.  1. nan  3.  1.  6. nan  8.  4.  4.  1.  7.  6.  6.  4.  8.  7.\n",
      "  1.  8.  3.  7.  1.  4.  1.  5.  8.  8.  7.  6.  2.  7.  1.  2.  6.  1.\n",
      "  6.  1.  8.  5.  8.  5.  5.  8.  4.  7.  5.  2.  5.  2.  4.  4.  1.  4.\n",
      "  3.  5.  3.  2.  8.  7.  5.  5.  7.  4.  7.  3.  6.  8.  3.  3.  7.  4.\n",
      "  1.  5.  4.  2.  2.  2.  7. nan  8.  2.  5.  6.  3.  6.  3.  3.  3.  8.\n",
      " nan nan nan nan nan nan nan nan nan nan nan nan nan nan nan nan nan nan\n",
      " nan  1. nan  4. nan  4.  3.  5.  8.  4. nan  1.  4. nan nan  6. nan  7.\n",
      "  4.  7. nan  2.  8.  7.  5.  2. nan  4.  5. nan  2.  2.  4.  3.  2. nan\n",
      "  5.  5.  3. nan  7.  3.  7.  8.  7.  2.  5.  8. nan  5.  6. nan  2.  8.\n",
      "  5.  8.  5.  7.  2. nan nan  1. nan  1.  2.  6.  1.  1.  1.  8.  3.  7.\n",
      "  4.  4.  7.  7.  1.  6.  2.  4. nan  1. nan  8.  3.  2.  8.  2. nan  6.\n",
      " nan nan  1.  1.  8.  4.  2.  1.  2.  4.  6.  2. nan nan  4.  6.  7.  5.\n",
      "  4.  3.  1.  8.  1.  1.  6.  2.  3.  1.  5.  8.  5.  3.  4.  1.  4.  2.\n",
      "  6.  4.  4.  3.  8. nan  4.  6.  8.  5.  3.  8.  8.  1.  7.  5.  7.  4.\n",
      "  1.  1.  6.  5.  4. nan  5.  2. nan  6.  4.  3. nan  7.  7.  3.  6.  2.\n",
      "  5.  8.  6.  6.  1.  4.  4.  3.  1.  8.  7.  6.  1.  7.  4.  4.  4.  5.\n",
      "  6.  6.  7.  4.  2.  4.  2.  5.  2.  6.  5.]\n"
     ]
    }
   ],
   "source": [
    "choice_45_player1 = get_player_wall_choice(trial_list_45_HL, 1, inferred_choice=True, debug=True)"
   ]
  },
  {
   "cell_type": "code",
   "execution_count": 158,
   "id": "f0bb8f81-69e4-4ee0-820e-f39280aab5a5",
   "metadata": {
    "collapsed": true,
    "jupyter": {
     "outputs_hidden": true
    }
   },
   "outputs": [
    {
     "name": "stdout",
     "output_type": "stream",
     "text": [
      "Time taken for player_wall_choice_win_or_loss (one session for one player) is 3.11\n",
      "include loser's inferred choice status: True\n",
      "player wall choices for this player: [ 8. nan  6.  8.  6.  6. nan  3. nan nan nan  1. nan nan  3. nan  8. nan\n",
      " nan  7. nan nan  8.  3.  8.  3.  1.  4.  3.  7.  3. nan nan  1.  8.  1.\n",
      " nan  2. nan  4. nan nan  1.  1.  4.  7.  4. nan  1. nan  3.  8.  1.  6.\n",
      "  2.  1.  5.  4.  7. nan  8.  4.  1.  7. nan nan  7.  3.  1. nan  3.  4.\n",
      "  2.  3.  5.  3.  4.  1. nan  4.  2. nan  3. nan nan nan  1.  6.  2.  4.\n",
      " nan  4.  6. nan  5.  3.  8.  8.  7. nan  1.  5.  2.  8.  1.  7.  1. nan\n",
      "  1. nan  3.  5.  1.  3.  2. nan  5.  8. nan  5.  3.  2. nan  3. nan  8.\n",
      " nan  2.  2.  3.  3.  8.  3.  7.  7.  2. nan  5.  6.  2.  7.  7.  6.  5.\n",
      "  5. nan  5.  4.  6.  4.  2.  8.  5.  5.  3.  6. nan  4. nan nan  5. nan\n",
      "  2.  4.  5.  3.  3.  7.  6.  6.  2.  2.  8.  1. nan  6. nan nan  8.  5.\n",
      "  7.  6.  8.  8.  4. nan  6.  4.  2.  8. nan  4. nan  1. nan nan  1. nan\n",
      "  8. nan  7.  3. nan nan nan  2.  7. nan nan  6.  1.  5.  1.  8.  2.  3.\n",
      " nan  8.  1.  4. nan  6.  1.  6. nan nan  5.  6. nan  2.  1.  2.  7.  7.\n",
      "  2.  2. nan  5.  2.  5.  7.  5.  3.  5.  5.  3.  3.  7.  3.  3.  6.  6.\n",
      " nan  1. nan  8.  1.  5.  8.  7.  7.  6.  3.  6.  2.  1.  2.  4.  2.  6.\n",
      "  8.  6. nan  6.  7.  8.  8.  1.  8.  7.  7.  5.  1.  5.  5.  3.  7.  7.\n",
      "  3.  5.  4.  6.  7.  2.  4.  6.  4. nan  2. nan  3.  2.  3.  2. nan  2.\n",
      "  8.  3.  5.  1.  5.  3.  8. nan nan  5.  5.  8.  2.  3.  3. nan  5.  6.\n",
      "  4.  5.  6.  2.  5.  2.  1.  2. nan  5.  3.  2. nan  7.  3.  8.  4.  7.\n",
      "  1.  5.  2.  5.  8.  7. nan  8.  7. nan  7.  6.  3.  5.  7.  3.  7. nan\n",
      "  1.  7.  6.  3.  7.  3. nan  4.  8.  6.  5.  4.  4.  2.  8.  2.  4.]\n"
     ]
    }
   ],
   "source": [
    "#90\n",
    "choice_90_player0 = get_player_wall_choice(trial_list_90_HL, 0, inferred_choice=True, debug=True)"
   ]
  },
  {
   "cell_type": "code",
   "execution_count": 159,
   "id": "ac779e3c-4004-426f-a57d-4feb85dfd9fa",
   "metadata": {
    "collapsed": true,
    "jupyter": {
     "outputs_hidden": true
    }
   },
   "outputs": [
    {
     "name": "stdout",
     "output_type": "stream",
     "text": [
      "Time taken for player_wall_choice_win_or_loss (one session for one player) is 5.86\n",
      "include loser's inferred choice status: True\n",
      "player wall choices for this player: [ 2.  5.  7. nan nan nan  6.  1.  6.  3.  5. nan  3.  3.  1.  2.  8.  1.\n",
      "  3. nan  7.  2.  8.  2.  8.  2.  7.  3. nan  7.  2.  7.  1.  3.  8.  7.\n",
      "  1.  8.  6.  6.  7.  1.  2. nan  6. nan  3.  8.  7.  5.  1.  6.  1.  8.\n",
      "  2. nan nan  3.  6.  8.  2.  4.  8.  8.  5.  6.  5.  1.  1.  4.  4.  4.\n",
      "  2.  8.  5.  1.  3. nan  1.  4.  8.  3.  3.  7.  4.  7.  1.  4.  2.  5.\n",
      "  8.  4.  5.  6.  6.  3.  6.  2. nan  5.  7.  1.  8.  6.  1.  7.  2.  5.\n",
      "  7.  6.  1.  5.  1.  1.  4.  1.  5.  2.  6.  7.  3.  2.  6.  1.  8.  2.\n",
      "  7.  4.  4.  3.  1.  2.  3.  7.  8.  4.  4.  5.  8.  8.  7.  7.  4.  5.\n",
      "  5.  7.  3.  5.  8.  6.  8.  1.  5.  5.  5.  8.  7. nan  2.  8.  4.  6.\n",
      "  4.  5.  5.  4.  4.  5.  6.  7.  3.  8.  8.  7.  5.  6.  8.  2.  7.  6.\n",
      "  6.  3.  1.  7.  4.  7.  8.  8.  3.  1.  1.  3.  5.  3.  6.  1.  6.  3.\n",
      "  2.  6.  8.  1.  3.  6.  1. nan  4.  6.  5.  4.  1.  5.  7.  8.  8.  7.\n",
      "  6.  6.  1.  4.  7.  6.  7.  4.  5.  6.  5.  6.  8.  8.  8.  7.  1.  5.\n",
      "  4.  2.  3.  5.  2.  7.  6.  6.  2.  6.  7.  1.  3.  4.  4.  5.  3.  6.\n",
      "  5.  7.  6.  6.  1.  3.  7.  5.  1. nan nan nan nan nan nan nan nan nan\n",
      " nan nan  2.  4.  6. nan nan  3.  7.  7. nan  1. nan  3.  3.  1.  1.  7.\n",
      "  1.  1.  2.  6.  1.  2.  2.  6.  4.  1.  2.  7.  2.  1.  1.  8.  7.  1.\n",
      "  6.  2.  6.  7. nan  1.  6.  1.  7. nan  6.  7.  1.  3.  3.  2.  8.  6.\n",
      "  3.  3.  4.  4.  5.  3.  3. nan  8.  5.  1.  1.  8.  7. nan  2.  5.  1.\n",
      "  1.  3.  8.  7.  7.  7.  5.  3.  2.  8. nan  4.  2.  3.  7.  3.  1.  2.\n",
      "  6.  7.  7.  5.  7.  6.  6.  4.  6.  6.  4. nan  5.  2.  2.  8.  2.]\n"
     ]
    }
   ],
   "source": [
    "choice_90_player1 = get_player_wall_choice(trial_list_90_HL, 1, inferred_choice=True, debug=True)"
   ]
  },
  {
   "cell_type": "code",
   "execution_count": 162,
   "id": "e376181b-7d85-49a2-b465-bc73145d7554",
   "metadata": {
    "collapsed": true,
    "jupyter": {
     "outputs_hidden": true
    }
   },
   "outputs": [
    {
     "name": "stdout",
     "output_type": "stream",
     "text": [
      "Time taken for player_wall_choice_win_or_loss (one session for one player) is 2.61\n",
      "include loser's inferred choice status: True\n",
      "player wall choices for this player: [nan nan  7.  2.  6. nan  6.  6. nan  7.  3.  6. nan nan nan nan  8.  8.\n",
      "  8.  2. nan nan  8.  6. nan  7.  4. nan nan  3.  7.  8.  6. nan nan  6.\n",
      "  6.  4.  4.  5.  8. nan  3.  1.  2.  4.  8. nan  4.  6.  8.  3.  5.  4.\n",
      "  8.  4. nan  7.  4.  3.  8.  3.  2.  6.  5.  7. nan  7.  5.  4.  4. nan\n",
      "  6.  5.  5.  8.  3.  5.  2.  3.  4. nan  1. nan  2.  3.  2. nan  4. nan\n",
      " nan  1.  5.  1.  5.  7.  1.  7. nan nan  5.  3.  7.  1.  6.  7. nan nan\n",
      "  2.  7.  6.  1.  2.  8.  4.  5.  3.  7.  6.  3.  3.  4.  1.  6.  4.  7.\n",
      "  8.  4.  8.  4.  2.  7.  7.  8.  5.  7.  2.  7.  3.  3.  2.  2. nan  1.\n",
      "  4.  8.  6. nan  5.  8.  4. nan  2.  4.  4.  8.  3.  4.  5. nan  5.  1.\n",
      "  2.  7.  1.  3.  4. nan  8. nan nan nan nan nan  6. nan  4.  4.  1.  2.\n",
      "  5.  6.  2.  5. nan nan  4.  3.  5.  5.  3.  8.  8.  1.  3.  6.  1. nan\n",
      "  7.  4.  1.  5.  5.  1.  3. nan nan  1.  2.  2.  8.  2.  6.  4. nan nan\n",
      "  7.  6.  6.  6. nan  1.  1.  7.  8.  3. nan  6. nan  5.  2. nan  2.  6.\n",
      "  7.  3.  4.  4.  5.  4. nan  3.  1. nan  5.  2.  2. nan  4.  2.  4.  4.\n",
      "  3.  7.  1.  5.  7.  4.  8.  8.  5.  2.  1.  8.  4.  4.  3.  6.  8.  8.\n",
      "  6.  2.  8.  8.  2.  8.  1.  2. nan  1.  7.  4.  2.  8. nan  2.  1. nan\n",
      " nan  8.  8.  1. nan  4.  1.  5.  4. nan  1.  2.  6.  4. nan nan nan  4.\n",
      "  7. nan  7.  8.  3.  5.  6. nan  3. nan  7.  1.  4.  7. nan  6. nan  3.\n",
      "  1.  7.  2.  2. nan nan  2.  8.  8.  3.  6.  5.  1.  6.  5. nan  1.  5.\n",
      "  7.  3. nan  5.  3.  8.  3.  2. nan  2.  6.  4.  4.  8.  6.  8.  8.  5.\n",
      " nan  2. nan  5.  6.  4.  8.  5.  1.  6.  8.  5.  6.]\n"
     ]
    }
   ],
   "source": [
    "#180\n",
    "choice_180_player0 = get_player_wall_choice(trial_list_180_HL, 0, inferred_choice=True, debug=True)"
   ]
  },
  {
   "cell_type": "code",
   "execution_count": 163,
   "id": "83705bff-5515-46c4-9f96-ee72d4289ab1",
   "metadata": {
    "collapsed": true,
    "jupyter": {
     "outputs_hidden": true
    },
    "scrolled": true
   },
   "outputs": [
    {
     "name": "stdout",
     "output_type": "stream",
     "text": [
      "Time taken for player_wall_choice_win_or_loss (one session for one player) is 3.14\n",
      "include loser's inferred choice status: True\n",
      "player wall choices for this player: [ 5.  3. nan  5.  2.  5.  2.  2.  7.  6.  7.  2.  7.  1.  6.  7.  8.  4.\n",
      "  5.  1.  1.  7.  4.  6.  7.  3.  7.  7.  2.  5.  7.  4.  2.  4.  8.  2.\n",
      "  6.  7.  8.  5.  8.  3.  8.  5.  2.  4.  8.  4.  4.  2.  5.  3.  5.  4.\n",
      " nan  8.  3.  7.  8.  7.  4.  3.  6.  2.  1.  3.  3.  3.  1.  8.  8.  1.\n",
      " nan  1. nan  8.  3.  1.  6.  7.  8.  3.  1.  3.  2.  3.  6.  7.  8.  6.\n",
      "  1.  8.  1.  5.  1.  3.  5.  7.  5.  5.  1.  7.  3.  5.  2.  7.  1.  5.\n",
      "  2.  7.  6.  1.  2.  4.  4.  5.  7.  3.  2.  7. nan  1.  5.  2.  8.  3.\n",
      "  4.  4.  4.  4.  2.  7.  7.  8.  5.  3.  6.  7.  7.  3. nan  6.  4.  6.\n",
      "  5.  3.  8.  6.  1.  1.  4.  5.  2. nan  4.  5.  2. nan  5.  3.  6.  1.\n",
      "  6.  3.  6.  7.  1.  8.  4.  4.  3.  5.  5.  5.  7.  6.  4.  4.  1.  2.\n",
      "  5.  6.  2.  1.  4.  1.  5.  6.  4.  5.  8.  4.  4.  5.  7.  2.  4.  3.\n",
      "  4.  8.  5.  5.  1.  5.  3.  1.  4.  1.  2. nan  5.  2.  2.  8.  2.  3.\n",
      "  7. nan  2.  3.  8.  5.  8.  3.  4.  3.  2.  7.  7.  1.  3.  7.  6.  2.\n",
      "  3.  7.  8.  4.  4.  8.  1.  4.  5.  4.  5.  6.  6.  8. nan nan nan nan\n",
      " nan nan nan nan  4.  4.  4.  7.  1. nan  2.  4.  4.  3.  3.  2.  4.  8.\n",
      "  6.  1.  4.  1.  6.  4.  5. nan  3.  5. nan  8.  5.  4.  8.  5.  5.  6.\n",
      "  7.  5.  4.  4.  8.  4. nan  1. nan  4.  3.  6.  5.  8.  6.  4.  8.  8.\n",
      "  3.  4.  3. nan  5.  6.  2.  8.  7.  3.  8.  5.  4.  2.  6.  2.  4.  1.\n",
      "  2.  3.  1.  6.  3.  4.  6.  4.  4.  7.  2.  1.  1.  2.  1.  7.  5.  4.\n",
      "  2.  2.  1.  5.  7.  8.  4.  2.  1.  6.  2.  4.  8.  8.  2.  4.  8.  5.\n",
      "  6.  6.  1.  1.  2.  8.  8.  1.  5.  6.  8.  1.  6.]\n"
     ]
    }
   ],
   "source": [
    "choice_180_player1 = get_player_wall_choice(trial_list_180_HL, 1, inferred_choice=True, debug=True)"
   ]
  },
  {
   "cell_type": "code",
   "execution_count": 164,
   "id": "d9288f7a-4abf-4aee-be34-c4a2987b4766",
   "metadata": {},
   "outputs": [],
   "source": [
    "#check whether high wall was chosen\n",
    "#45\n",
    "high_wall_chosen_45_player0 = was_given_wall_chosen(trial_list_45_HL, choice_45_player0, 0)"
   ]
  },
  {
   "cell_type": "code",
   "execution_count": 165,
   "id": "8560690e-a465-4acc-8809-9a837cbeda9e",
   "metadata": {},
   "outputs": [],
   "source": [
    "high_wall_chosen_45_player1 = was_given_wall_chosen(trial_list_45_HL, choice_45_player1, 0)"
   ]
  },
  {
   "cell_type": "code",
   "execution_count": 166,
   "id": "33073412-af78-4b45-8e44-ab6cca81e5e6",
   "metadata": {},
   "outputs": [],
   "source": [
    "high_wall_chosen_90_player0 = was_given_wall_chosen(trial_list_90_HL, choice_90_player0, 0)"
   ]
  },
  {
   "cell_type": "code",
   "execution_count": 167,
   "id": "b51b97b0-0353-4748-a18d-ef1c29b73f36",
   "metadata": {},
   "outputs": [],
   "source": [
    "high_wall_chosen_90_player1 = was_given_wall_chosen(trial_list_90_HL, choice_90_player1, 0)"
   ]
  },
  {
   "cell_type": "code",
   "execution_count": 168,
   "id": "c94bcaab-2594-480f-85e5-cb682a07d518",
   "metadata": {},
   "outputs": [],
   "source": [
    "high_wall_chosen_180_player0 = was_given_wall_chosen(trial_list_180_HL, choice_180_player0, 0)"
   ]
  },
  {
   "cell_type": "code",
   "execution_count": 169,
   "id": "5fc03f11-5c05-4a65-b867-d1fe747be28a",
   "metadata": {},
   "outputs": [],
   "source": [
    "high_wall_chosen_180_player1 = was_given_wall_chosen(trial_list_180_HL, choice_180_player1, 0)"
   ]
  },
  {
   "cell_type": "code",
   "execution_count": null,
   "id": "189f6f09-406b-4715-af4b-6b9bcd9f056a",
   "metadata": {},
   "outputs": [],
   "source": [
    "#45"
   ]
  },
  {
   "cell_type": "code",
   "execution_count": 170,
   "id": "336a8046-ded7-4a1f-9145-de1c4cad04f3",
   "metadata": {
    "scrolled": true
   },
   "outputs": [
    {
     "name": "stdout",
     "output_type": "stream",
     "text": [
      "[0.910958904109589, 0.7832167832167832, 0.5078125, 0.6293103448275862, 0.616, 0.6545454545454545, 0.7786885245901639, 0.8571428571428571]\n",
      "Bin 1: 0.91 (True/Total = 133/146)\n",
      "Bin 2: 0.78 (True/Total = 112/143)\n",
      "Bin 3: 0.51 (True/Total = 65/128)\n",
      "Bin 4: 0.63 (True/Total = 73/116)\n",
      "Bin 5: 0.62 (True/Total = 77/125)\n",
      "Bin 6: 0.65 (True/Total = 72/110)\n",
      "Bin 7: 0.78 (True/Total = 95/122)\n",
      "Bin 8: 0.86 (True/Total = 120/140)\n"
     ]
    }
   ],
   "source": [
    "#obtain ratios for how many times a given player chose high given their head angle bin at slice onset\n",
    "from collections import defaultdict\n",
    "\n",
    "#creating dictionaries to store the counts\n",
    "bin_total_counts_45 = defaultdict(int)\n",
    "bin_true_counts_45 = defaultdict(int)\n",
    "\n",
    "#match bin assignments to high wall chosen lists\n",
    "trial_data_45 = [(bins_45_player0, high_wall_chosen_45_player0),\n",
    "                 (bins_45_player1, high_wall_chosen_45_player1)]\n",
    "\n",
    "for bin_assignments, high_wall_chosen in trial_data_45:\n",
    "\n",
    "    for bin_index, is_high_wall_chosen in zip(bin_assignments, high_wall_chosen):\n",
    "\n",
    "        if np.isnan(is_high_wall_chosen):\n",
    "            continue\n",
    "            \n",
    "        bin_total_counts_45[bin_index] += 1\n",
    "        \n",
    "        if is_high_wall_chosen:\n",
    "            \n",
    "            bin_true_counts_45[bin_index] += 1\n",
    "\n",
    "#calculate probabilities\n",
    "probabilities_45 = {bin_index: bin_true_counts_45[bin_index] / bin_total_counts_45[bin_index]\n",
    "                        for bin_index in sorted(bin_total_counts_45)}\n",
    "\n",
    "#convert the dictionary to a list of values\n",
    "#bin_probabilities_list_45 = list(probabilities_45.values())\n",
    "\n",
    "#order by bin index\n",
    "probabilities_list_45 = [probabilities_45[bin_index] for bin_index in sorted(bin_total_counts_45)]\n",
    "\n",
    "print(probabilities_list_45)\n",
    "\n",
    "#print the results\n",
    "for bin_index, probability in sorted(probabilities_45.items()):\n",
    "    print(f\"Bin {bin_index}: {probability:.2f} (True/Total = {bin_true_counts_45[bin_index]}/{bin_total_counts_45[bin_index]})\")\n"
   ]
  },
  {
   "cell_type": "code",
   "execution_count": null,
   "id": "96711fec-76cb-4806-8db7-a5c5b8904515",
   "metadata": {},
   "outputs": [],
   "source": [
    "#90"
   ]
  },
  {
   "cell_type": "code",
   "execution_count": 171,
   "id": "68ef459e",
   "metadata": {
    "scrolled": true
   },
   "outputs": [
    {
     "name": "stdout",
     "output_type": "stream",
     "text": [
      "[0.8913043478260869, 0.7619047619047619, 0.30864197530864196, 0.32967032967032966, 0.53125, 0.4177215189873418, 0.56, 0.8194444444444444]\n",
      "Bin 1: 0.89 (True/Total = 82/92)\n",
      "Bin 2: 0.76 (True/Total = 64/84)\n",
      "Bin 3: 0.31 (True/Total = 25/81)\n",
      "Bin 4: 0.33 (True/Total = 30/91)\n",
      "Bin 5: 0.53 (True/Total = 34/64)\n",
      "Bin 6: 0.42 (True/Total = 33/79)\n",
      "Bin 7: 0.56 (True/Total = 42/75)\n",
      "Bin 8: 0.82 (True/Total = 59/72)\n"
     ]
    }
   ],
   "source": [
    "#obtain ratios for how many times a given player chose high given their head angle bin at slice onset\n",
    "from collections import defaultdict\n",
    "\n",
    "#creating dictionaries to store the counts\n",
    "bin_total_counts_90 = defaultdict(int)\n",
    "bin_true_counts_90 = defaultdict(int)\n",
    "\n",
    "#match bin assignments to high wall chosen lists\n",
    "trial_data_90 = [(bins_90_player0, high_wall_chosen_90_player0),\n",
    "                 (bins_90_player1, high_wall_chosen_90_player1)]\n",
    "\n",
    "for bin_assignments, high_wall_chosen in trial_data_90:\n",
    "\n",
    "    for bin_index, is_high_wall_chosen in zip(bin_assignments, high_wall_chosen):\n",
    "\n",
    "        if np.isnan(is_high_wall_chosen):\n",
    "            continue\n",
    "            \n",
    "        bin_total_counts_90[bin_index] += 1\n",
    "        \n",
    "        if is_high_wall_chosen:\n",
    "            \n",
    "            bin_true_counts_90[bin_index] += 1\n",
    "\n",
    "#calculate probabilities\n",
    "probabilities_90 = {bin_index: bin_true_counts_90[bin_index] / bin_total_counts_90[bin_index]\n",
    "                        for bin_index in sorted(bin_total_counts_90)}\n",
    "\n",
    "#convert the dictionary to a list of values\n",
    "#bin_probabilities_list_45 = list(probabilities_45.values())\n",
    "\n",
    "#order by bin index\n",
    "probabilities_list_90 = [probabilities_90[bin_index] for bin_index in sorted(bin_total_counts_90)]\n",
    "\n",
    "print(probabilities_list_90)\n",
    "\n",
    "#print the results\n",
    "for bin_index, probability in sorted(probabilities_90.items()):\n",
    "    print(f\"Bin {bin_index}: {probability:.2f} (True/Total = {bin_true_counts_90[bin_index]}/{bin_total_counts_90[bin_index]})\")\n"
   ]
  },
  {
   "cell_type": "code",
   "execution_count": null,
   "id": "13f21c32-2dff-4fee-9032-cfb265d4b833",
   "metadata": {},
   "outputs": [],
   "source": [
    "#180"
   ]
  },
  {
   "cell_type": "code",
   "execution_count": 174,
   "id": "18d09e7a",
   "metadata": {
    "scrolled": true
   },
   "outputs": [
    {
     "name": "stdout",
     "output_type": "stream",
     "text": [
      "[0.8961038961038961, 0.7471264367816092, 0.37681159420289856, 0.13333333333333333, 0.14634146341463414, 0.2222222222222222, 0.5714285714285714, 0.8461538461538461]\n",
      "Bin 1: 0.90 (True/Total = 69/77)\n",
      "Bin 2: 0.75 (True/Total = 65/87)\n",
      "Bin 3: 0.38 (True/Total = 26/69)\n",
      "Bin 4: 0.13 (True/Total = 12/90)\n",
      "Bin 5: 0.15 (True/Total = 12/82)\n",
      "Bin 6: 0.22 (True/Total = 12/54)\n",
      "Bin 7: 0.57 (True/Total = 48/84)\n",
      "Bin 8: 0.85 (True/Total = 88/104)\n"
     ]
    }
   ],
   "source": [
    "#obtain ratios for how many times a given player chose high given their head angle bin at slice onset\n",
    "from collections import defaultdict\n",
    "\n",
    "#creating dictionaries to store the counts\n",
    "bin_total_counts_180 = defaultdict(int)\n",
    "bin_true_counts_180 = defaultdict(int)\n",
    "\n",
    "#match bin assignments to high wall chosen lists\n",
    "trial_data_180 = [(bins_180_player0, high_wall_chosen_180_player0),\n",
    "                  (bins_180_player1, high_wall_chosen_180_player1)]\n",
    "\n",
    "for bin_assignments, high_wall_chosen in trial_data_180:\n",
    "\n",
    "    for bin_index, is_high_wall_chosen in zip(bin_assignments, high_wall_chosen):\n",
    "\n",
    "        if np.isnan(is_high_wall_chosen):\n",
    "            continue\n",
    "            \n",
    "        bin_total_counts_180[bin_index] += 1\n",
    "        \n",
    "        if is_high_wall_chosen:\n",
    "            \n",
    "            bin_true_counts_180[bin_index] += 1\n",
    "\n",
    "#calculate probabilities\n",
    "probabilities_180 = {bin_index: bin_true_counts_180[bin_index] / bin_total_counts_180[bin_index]\n",
    "                        for bin_index in sorted(bin_total_counts_180)}\n",
    "\n",
    "#convert the dictionary to a list of values\n",
    "#bin_probabilities_list_45 = list(probabilities_45.values())\n",
    "\n",
    "#order by bin index\n",
    "probabilities_list_180 = [probabilities_180[bin_index] for bin_index in sorted(bin_total_counts_180)]\n",
    "\n",
    "print(probabilities_list_180)\n",
    "\n",
    "#print the results\n",
    "for bin_index, probability in sorted(probabilities_180.items()):\n",
    "    print(f\"Bin {bin_index}: {probability:.2f} (True/Total = {bin_true_counts_180[bin_index]}/{bin_total_counts_180[bin_index]})\")\n"
   ]
  },
  {
   "cell_type": "code",
   "execution_count": null,
   "id": "12a1a2f4-a5ad-46f3-893b-4310e8d03724",
   "metadata": {},
   "outputs": [],
   "source": [
    "#45"
   ]
  },
  {
   "cell_type": "code",
   "execution_count": 175,
   "id": "c158673b-0c9a-4734-a499-efb2ac8511da",
   "metadata": {},
   "outputs": [
    {
     "name": "stdout",
     "output_type": "stream",
     "text": [
      "747\n",
      "1030\n",
      "0.7252427184466019\n"
     ]
    }
   ],
   "source": [
    "#calculate average p(H) regardless of bin\n",
    "\n",
    "from collections import defaultdict\n",
    "\n",
    "#initialize counters for the total high wall choices and total trials overall\n",
    "true_counts_45 = 0\n",
    "total_counts_45 = 0\n",
    "\n",
    "#bin assignments and high wall chosen for all trial lists\n",
    "trial_data_45 = [(bins_45_player0, high_wall_chosen_45_player0),\n",
    "                 (bins_45_player1, high_wall_chosen_45_player1)]\n",
    "\n",
    "\n",
    "#iterate through all provided trial lists\n",
    "for bin_assignments, high_wall_chosen in trial_data_45:\n",
    "\n",
    "    #iterate over both lists simultaneously for the current trial list\n",
    "    for is_high_wall_chosen in high_wall_chosen:\n",
    "\n",
    "        if np.isnan(is_high_wall_chosen):  \n",
    "            continue         \n",
    "        \n",
    "        total_counts_45 += 1  #increment total trial count for the bin\n",
    "        \n",
    "        if is_high_wall_chosen:          #increment True count if high wall is chosen\n",
    "            true_counts_45 += 1\n",
    "\n",
    "#calculate the average ratio \n",
    "print(true_counts_45)\n",
    "print(total_counts_45)\n",
    "overall_probability_45 = true_counts_45 / total_counts_45\n",
    "\n",
    "print(overall_probability_45)\n"
   ]
  },
  {
   "cell_type": "code",
   "execution_count": 176,
   "id": "b547262d-4157-4657-9a4a-1c9489bd9c19",
   "metadata": {},
   "outputs": [],
   "source": [
    "#90"
   ]
  },
  {
   "cell_type": "code",
   "execution_count": 177,
   "id": "d306ed21",
   "metadata": {},
   "outputs": [
    {
     "name": "stdout",
     "output_type": "stream",
     "text": [
      "369\n",
      "638\n",
      "0.5783699059561128\n"
     ]
    }
   ],
   "source": [
    "#calculate average p(H) regardless of bin\n",
    "\n",
    "from collections import defaultdict\n",
    "\n",
    "#initialize counters for the total high wall choices and total trials overall\n",
    "true_counts_90 = 0\n",
    "total_counts_90 = 0\n",
    "\n",
    "#bin assignments and high wall chosen for all trial lists\n",
    "trial_data_90 = [(bins_90_player0, high_wall_chosen_90_player0),\n",
    "                 (bins_90_player1, high_wall_chosen_90_player1)]\n",
    "\n",
    "\n",
    "#iterate through all provided trial lists\n",
    "for bin_assignments, high_wall_chosen in trial_data_90:\n",
    "\n",
    "    #iterate over both lists simultaneously for the current trial list\n",
    "    for is_high_wall_chosen in high_wall_chosen:\n",
    "\n",
    "        if np.isnan(is_high_wall_chosen):  \n",
    "            continue         \n",
    "        \n",
    "        total_counts_90 += 1  #increment total trial count for the bin\n",
    "        \n",
    "        if is_high_wall_chosen:          #increment True count if high wall is chosen\n",
    "            true_counts_90 += 1\n",
    "\n",
    "#calculate the average ratio \n",
    "print(true_counts_90)\n",
    "print(total_counts_90)\n",
    "overall_probability_90 = true_counts_90/ total_counts_90\n",
    "\n",
    "print(overall_probability_90)\n"
   ]
  },
  {
   "cell_type": "code",
   "execution_count": 178,
   "id": "1046daa0-6085-47ee-8712-6a8eb7394245",
   "metadata": {},
   "outputs": [],
   "source": [
    "#180"
   ]
  },
  {
   "cell_type": "code",
   "execution_count": 179,
   "id": "8980f883",
   "metadata": {},
   "outputs": [
    {
     "name": "stdout",
     "output_type": "stream",
     "text": [
      "332\n",
      "647\n",
      "0.5131375579598145\n"
     ]
    }
   ],
   "source": [
    "#calculate average p(H) regardless of bin\n",
    "\n",
    "from collections import defaultdict\n",
    "\n",
    "#initialize counters for the total high wall choices and total trials overall\n",
    "true_counts_180 = 0\n",
    "total_counts_180 = 0\n",
    "\n",
    "#bin assignments and high wall chosen for all trial lists\n",
    "trial_data_180 = [(bins_180_player0, high_wall_chosen_180_player0),\n",
    "                 (bins_180_player1, high_wall_chosen_180_player1)]\n",
    "\n",
    "\n",
    "#iterate through all provided trial lists\n",
    "for bin_assignments, high_wall_chosen in trial_data_180:\n",
    "\n",
    "    #iterate over both lists simultaneously for the current trial list\n",
    "    for is_high_wall_chosen in high_wall_chosen:\n",
    "\n",
    "        if np.isnan(is_high_wall_chosen):  \n",
    "            continue         \n",
    "        \n",
    "        total_counts_180 += 1  #increment total trial count for the bin\n",
    "        \n",
    "        if is_high_wall_chosen:          #increment True count if high wall is chosen\n",
    "            true_counts_180 += 1\n",
    "\n",
    "#calculate the average ratio \n",
    "print(true_counts_180)\n",
    "print(total_counts_180)\n",
    "overall_probability_180 = true_counts_180 / total_counts_180\n",
    "\n",
    "print(overall_probability_180)\n"
   ]
  },
  {
   "cell_type": "code",
   "execution_count": 180,
   "id": "ca9adc36-a57d-46f0-9056-e42e851fa7c1",
   "metadata": {},
   "outputs": [
    {
     "name": "stdout",
     "output_type": "stream",
     "text": [
      "[0.1857161856629871, 0.0579740647701813, -0.21743021844660193, -0.09593237361901574, -0.10924271844660194, -0.07069726390114739, 0.05344580614356198, 0.13190013869625516]\n",
      "[0.1857161856629871, 0.0579740647701813, -0.21743021844660193, -0.09593237361901574, -0.10924271844660194, -0.07069726390114739, 0.05344580614356198, 0.13190013869625516]\n",
      "[0.1857161856629871, 0.0579740647701813, -0.21743021844660193, -0.09593237361901574, -0.10924271844660194, -0.07069726390114739, 0.05344580614356198, 0.13190013869625516]\n"
     ]
    }
   ],
   "source": [
    "#obtain difference between p(H) given bin and average p(H)\n",
    "#45\n",
    "new_probabilities_list_45 = [probability - overall_probability_45 for probability in probabilities_list_45]\n",
    "print(new_probabilities_list)\n",
    "#90\n",
    "new_probabilities_list_90 = [probability - overall_probability_90 for probability in probabilities_list_90]\n",
    "print(new_probabilities_list)\n",
    "#180\n",
    "new_probabilities_list_180 = [probability - overall_probability_180 for probability in probabilities_list_180]\n",
    "print(new_probabilities_list)"
   ]
  },
  {
   "cell_type": "code",
   "execution_count": 181,
   "id": "60c5183c-07b9-4afb-9b85-6e52e56dd61d",
   "metadata": {},
   "outputs": [
    {
     "name": "stdout",
     "output_type": "stream",
     "text": [
      "(2, 8)\n"
     ]
    },
    {
     "data": {
      "image/png": "[encoded data removed]",
      "text/plain": [
       "<Figure size 640x480 with 1 Axes>"
      ]
     },
     "metadata": {},
     "output_type": "display_data"
    }
   ],
   "source": [
    "#45\n",
    "import matplotlib.pyplot as plt\n",
    "\n",
    "#plot octagon with new ratios list \n",
    "ax = plot_octagon.plot_octagon()\n",
    "\n",
    "#plot the ratios under the alcoves\n",
    "ax = headangle_analysis_plotting_functions.plot_ratios_under_alcoves(ax, new_probabilities_list_45)\n",
    "\n",
    "plt.show()\n"
   ]
  },
  {
   "cell_type": "code",
   "execution_count": 182,
   "id": "491c17f0",
   "metadata": {},
   "outputs": [
    {
     "name": "stdout",
     "output_type": "stream",
     "text": [
      "(2, 8)\n"
     ]
    },
    {
     "data": {
      "image/png": "[encoded data removed]",
      "text/plain": [
       "<Figure size 640x480 with 1 Axes>"
      ]
     },
     "metadata": {},
     "output_type": "display_data"
    }
   ],
   "source": [
    "#90\n",
    "import matplotlib.pyplot as plt\n",
    "\n",
    "#plot octagon with new ratios list \n",
    "ax = plot_octagon.plot_octagon()\n",
    "\n",
    "#plot the ratios under the alcoves\n",
    "ax = headangle_analysis_plotting_functions.plot_ratios_under_alcoves(ax, new_probabilities_list_90)\n",
    "\n",
    "plt.show()\n"
   ]
  },
  {
   "cell_type": "code",
   "execution_count": 183,
   "id": "511a3380",
   "metadata": {},
   "outputs": [
    {
     "name": "stdout",
     "output_type": "stream",
     "text": [
      "(2, 8)\n"
     ]
    },
    {
     "data": {
      "image/png": "[encoded data removed]",
      "text/plain": [
       "<Figure size 640x480 with 1 Axes>"
      ]
     },
     "metadata": {},
     "output_type": "display_data"
    }
   ],
   "source": [
    "#180\n",
    "import matplotlib.pyplot as plt\n",
    "\n",
    "#plot octagon with new ratios list \n",
    "ax = plot_octagon.plot_octagon()\n",
    "\n",
    "#plot the ratios under the alcoves\n",
    "ax = headangle_analysis_plotting_functions.plot_ratios_under_alcoves(ax, new_probabilities_list_180)\n",
    "\n",
    "plt.show()\n"
   ]
  },
  {
   "cell_type": "code",
   "execution_count": 184,
   "id": "2c696e6a-0566-4833-b8ed-d266969417ff",
   "metadata": {},
   "outputs": [
    {
     "name": "stdout",
     "output_type": "stream",
     "text": [
      "[(np.float64(5.8904862254808625), np.float64(0.3926990816987242)), (np.float64(0.39269908169872414), np.float64(1.1780972450961724)), (np.float64(1.1780972450961726), np.float64(1.963495408493621)), (np.float64(1.9634954084936211), np.float64(2.7488935718910694)), (np.float64(2.748893571891069), np.float64(3.5342917352885173)), (np.float64(3.5342917352885173), np.float64(4.319689898685965)), (np.float64(4.319689898685965), np.float64(5.105088062083414)), (np.float64(5.105088062083414), np.float64(5.890486225480862))]\n"
     ]
    }
   ],
   "source": [
    "bin_ranges = headangle_bin_assignment.define_45_degree_bins()\n",
    "print(bin_ranges)"
   ]
  },
  {
   "cell_type": "code",
   "execution_count": 241,
   "id": "2455982a-0c46-4d9d-acf1-0ded43c5d76f",
   "metadata": {},
   "outputs": [
    {
     "name": "stdout",
     "output_type": "stream",
     "text": [
      "(2, 8)\n"
     ]
    },
    {
     "data": {
      "image/png": "[encoded data removed]",
      "text/plain": [
       "<Figure size 600x600 with 2 Axes>"
      ]
     },
     "metadata": {},
     "output_type": "display_data"
    },
    {
     "name": "stdout",
     "output_type": "stream",
     "text": [
      "[0.1857161856629871, 0.0579740647701813, -0.21743021844660193, -0.09593237361901574, -0.10924271844660194, -0.07069726390114739, 0.05344580614356198, 0.13190013869625516]\n"
     ]
    }
   ],
   "source": [
    "#45\n",
    "#plot color gradient octagon for new ratios list\n",
    "\n",
    "fig, ax = plt.subplots(figsize=(6, 6))\n",
    "\n",
    "#plot octagon\n",
    "ax = plot_octagon.plot_octagon(ax=ax)\n",
    "\n",
    "#define bin_ranges\n",
    "bin_ranges = bin_ranges\n",
    "\n",
    "\n",
    "#define ratios list\n",
    "#probabilities_list_reversed = probabilities_list[::-1]\n",
    "\n",
    "#color the segments of the octagon\n",
    "ax = headangle_analysis_plotting_functions.plot_colored_octagon(ax, bin_ranges, new_probabilities_list_45)\n",
    "\n",
    "#plot the ratios under the alcoves\n",
    "ax = headangle_analysis_plotting_functions.plot_ratios_under_alcoves(ax, new_probabilities_list_45)\n",
    "\n",
    "#add wall labels\n",
    "alcove_centers = plot_octagon.return_alcove_centre_points()\n",
    "\n",
    "alcove_center1_x, alcove_center1_y = alcove_centers[:,0]\n",
    "alcove_center2_x, alcove_center2_y = alcove_centers[:,1]\n",
    "\n",
    "ax.text(alcove_center1_x, alcove_center1_y + 5, f'{\"High\"}', \n",
    "                ha='center', va='center', fontsize=14, color='Red')\n",
    "ax.text(alcove_center2_x + 3, alcove_center2_y + 5, f'{\"Low\"}', \n",
    "                ha='center', va='center', fontsize=14, color='Blue')\n",
    "\n",
    "#add a colorbar for reference\n",
    "sm = plt.cm.ScalarMappable(cmap=plt.cm.plasma, norm=plt.Normalize(vmax=max(new_probabilities_list_45), vmin=min(new_probabilities_list_45)))\n",
    "sm.set_array([])  # Only necessary for ScalarMappable\n",
    "cbar = plt.colorbar(sm, ax=ax, shrink=0.8)\n",
    "cbar.set_label(\"P(H) - avg(P(H))\", fontsize=13, rotation=270, labelpad=15)\n",
    "\n",
    "rounded_prob_45 = round(overall_probability_45, 2)\n",
    "plt.title(f\"P(H) = {rounded_prob_45}\", fontsize=14)\n",
    "plt.axis('equal')\n",
    "plt.axis('off')\n",
    "plt.show()\n",
    "print(new_probabilities_list_45)"
   ]
  },
  {
   "cell_type": "code",
   "execution_count": 245,
   "id": "b7ecbae2",
   "metadata": {},
   "outputs": [
    {
     "name": "stdout",
     "output_type": "stream",
     "text": [
      "(2, 8)\n"
     ]
    },
    {
     "data": {
      "image/png": "[encoded data removed]",
      "text/plain": [
       "<Figure size 600x600 with 2 Axes>"
      ]
     },
     "metadata": {},
     "output_type": "display_data"
    },
    {
     "name": "stdout",
     "output_type": "stream",
     "text": [
      "[0.3129344418699741, 0.18353485594864904, -0.26972793064747086, -0.24869957628578315, -0.04711990595611282, -0.16064838696877104, -0.018369905956112764, 0.2410745384883316]\n"
     ]
    }
   ],
   "source": [
    "#90\n",
    "#plot color gradient octagon for new ratios list\n",
    "\n",
    "fig, ax = plt.subplots(figsize=(6, 6))\n",
    "\n",
    "#plot octagon\n",
    "ax = plot_octagon.plot_octagon(ax=ax)\n",
    "\n",
    "#define bin_ranges\n",
    "bin_ranges = bin_ranges\n",
    "\n",
    "\n",
    "#define ratios list\n",
    "#probabilities_list_reversed = probabilities_list[::-1]\n",
    "\n",
    "#color the segments of the octagon\n",
    "ax = headangle_analysis_plotting_functions.plot_colored_octagon(ax, bin_ranges, new_probabilities_list_90)\n",
    "\n",
    "#plot the ratios under the alcoves\n",
    "ax = headangle_analysis_plotting_functions.plot_ratios_under_alcoves(ax, new_probabilities_list_90)\n",
    "\n",
    "#add wall labels\n",
    "alcove_centers = plot_octagon.return_alcove_centre_points()\n",
    "\n",
    "alcove_center1_x, alcove_center1_y = alcove_centers[:,0]\n",
    "alcove_center3_x, alcove_center3_y = alcove_centers[:,2]\n",
    "\n",
    "ax.text(alcove_center1_x, alcove_center1_y + 5, f'{\"High\"}', \n",
    "                ha='center', va='center', fontsize=14, color='Red')\n",
    "ax.text(alcove_center3_x + 3, alcove_center3_y + 5, f'{\"Low\"}', \n",
    "                ha='center', va='center', fontsize=14, color='Blue')\n",
    "\n",
    "#add a colorbar for reference\n",
    "sm = plt.cm.ScalarMappable(cmap=plt.cm.plasma, norm=plt.Normalize(vmax=max(new_probabilities_list_90), vmin=min(new_probabilities_list_90)))\n",
    "sm.set_array([])  # Only necessary for ScalarMappable\n",
    "cbar = plt.colorbar(sm, ax=ax, shrink=0.8)\n",
    "cbar.set_label(\"P(H) - avg(P(H))\", fontsize=13, rotation=270, labelpad=15)\n",
    "\n",
    "rounded_prob_90 = round(overall_probability_90, 2)\n",
    "plt.title(f\"P(H) = {rounded_prob_90}\", fontsize=14)\n",
    "plt.axis('equal')\n",
    "plt.axis('off')\n",
    "plt.show()\n",
    "print(new_probabilities_list_90)"
   ]
  },
  {
   "cell_type": "code",
   "execution_count": 244,
   "id": "48199d91",
   "metadata": {},
   "outputs": [
    {
     "name": "stdout",
     "output_type": "stream",
     "text": [
      "(2, 8)\n"
     ]
    },
    {
     "data": {
      "image/png": "[encoded data removed]",
      "text/plain": [
       "<Figure size 600x600 with 2 Axes>"
      ]
     },
     "metadata": {},
     "output_type": "display_data"
    },
    {
     "name": "stdout",
     "output_type": "stream",
     "text": [
      "[0.38296633814408154, 0.23398887882179464, -0.13632596375691597, -0.3798042246264812, -0.36679609454518036, -0.2909153357375923, 0.05829101346875687, 0.3330162881940316]\n"
     ]
    }
   ],
   "source": [
    "#180\n",
    "#plot color gradient octagon for new ratios list\n",
    "\n",
    "fig, ax = plt.subplots(figsize=(6, 6))\n",
    "\n",
    "#plot octagon\n",
    "ax = plot_octagon.plot_octagon(ax=ax)\n",
    "\n",
    "#define bin_ranges\n",
    "bin_ranges = bin_ranges\n",
    "\n",
    "\n",
    "#define ratios list\n",
    "#probabilities_list_reversed = probabilities_list[::-1]\n",
    "\n",
    "#color the segments of the octagon\n",
    "ax = headangle_analysis_plotting_functions.plot_colored_octagon(ax, bin_ranges, new_probabilities_list_180)\n",
    "\n",
    "#plot the ratios under the alcoves\n",
    "ax = headangle_analysis_plotting_functions.plot_ratios_under_alcoves(ax, new_probabilities_list_180)\n",
    "\n",
    "#add wall labels\n",
    "alcove_centers = plot_octagon.return_alcove_centre_points()\n",
    "\n",
    "alcove_center1_x, alcove_center1_y = alcove_centers[:,0]\n",
    "alcove_center5_x, alcove_center5_y = alcove_centers[:,4]\n",
    "\n",
    "ax.text(alcove_center1_x, alcove_center1_y + 5, f'{\"High\"}', \n",
    "                ha='center', va='center', fontsize=14, color='Red')\n",
    "ax.text(alcove_center5_x, alcove_center5_y - 5, f'{\"Low\"}', \n",
    "                ha='center', va='center', fontsize=14, color='Blue')\n",
    "\n",
    "#add a colorbar for reference\n",
    "sm = plt.cm.ScalarMappable(cmap=plt.cm.plasma, norm=plt.Normalize(vmax=max(new_probabilities_list_180), vmin=min(new_probabilities_list_180)))\n",
    "sm.set_array([])  # Only necessary for ScalarMappable\n",
    "cbar = plt.colorbar(sm, ax=ax, shrink=0.8)\n",
    "cbar.set_label(\"P(H) - avg(P(H))\", fontsize=13, rotation=270, labelpad=15)\n",
    "\n",
    "rounded_prob_180 = round(overall_probability_180, 2)\n",
    "plt.title(f\"P(H) = {rounded_prob_180}\", fontsize=14)\n",
    "plt.axis('equal')\n",
    "plt.axis('off')\n",
    "plt.show()\n",
    "print(new_probabilities_list_180)"
   ]
  },
  {
   "cell_type": "code",
   "execution_count": null,
   "id": "99c5a722-ea59-417c-ba7a-f7315da07321",
   "metadata": {},
   "outputs": [],
   "source": []
  }
 ],
 "metadata": {
  "kernelspec": {
   "display_name": "Python 3 (ipykernel)",
   "language": "python",
   "name": "python3"
  },
  "language_info": {
   "codemirror_mode": {
    "name": "ipython",
    "version": 3
   },
   "file_extension": ".py",
   "mimetype": "text/x-python",
   "name": "python",
   "nbconvert_exporter": "python",
   "pygments_lexer": "ipython3",
   "version": "3.13.0"
  }
 },
 "nbformat": 4,
 "nbformat_minor": 5
}
