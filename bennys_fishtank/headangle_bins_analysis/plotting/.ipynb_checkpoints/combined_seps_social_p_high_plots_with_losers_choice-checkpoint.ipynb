{
 "cells": [
  {
   "cell_type": "code",
   "execution_count": 2,
   "id": "5b6e8342-de08-409b-a8e0-1703c96dcf0b",
   "metadata": {},
   "outputs": [
    {
     "name": "stdout",
     "output_type": "stream",
     "text": [
      "Added paths to sys.path: /Users/benny/Desktop/MSc/Project/Git/repos/benny_dev_dir/bennys_fishtank/main_copy /Users/benny/Desktop/MSc/Project/Git/repos/benny_dev_dir/bennys_fishtank/benny_dev_dir\n"
     ]
    }
   ],
   "source": [
    "import sys\n",
    "import os\n",
    "\n",
    "parent_dir = os.path.abspath(os.path.join(os.getcwd(), \"..\", \"..\"))\n",
    "main_copy_dir = os.path.join(parent_dir, \"main_copy\")\n",
    "benny_dev_dir = os.path.join(parent_dir, \"benny_dev_dir\")\n",
    "sys.path.append(main_copy_dir)\n",
    "sys.path.append(benny_dev_dir)\n",
    "\n",
    "print(\"Added paths to sys.path:\", main_copy_dir, benny_dev_dir)"
   ]
  },
  {
   "cell_type": "code",
   "execution_count": 3,
   "id": "225e9d51-fb69-4ea6-a8ee-4d934b270e67",
   "metadata": {},
   "outputs": [
    {
     "name": "stdout",
     "output_type": "stream",
     "text": [
      "The autoreload extension is already loaded. To reload it, use:\n",
      "  %reload_ext autoreload\n"
     ]
    },
    {
     "ename": "ModuleNotFoundError",
     "evalue": "No module named 'parse_data'",
     "output_type": "error",
     "traceback": [
      "\u001b[0;31m---------------------------------------------------------------------------\u001b[0m",
      "\u001b[0;31mModuleNotFoundError\u001b[0m                       Traceback (most recent call last)",
      "Cell \u001b[0;32mIn[3], line 7\u001b[0m\n\u001b[1;32m      5\u001b[0m \u001b[38;5;28;01mimport\u001b[39;00m \u001b[38;5;21;01mnumpy\u001b[39;00m \u001b[38;5;28;01mas\u001b[39;00m \u001b[38;5;21;01mnp\u001b[39;00m\n\u001b[1;32m      6\u001b[0m \u001b[38;5;28;01mimport\u001b[39;00m \u001b[38;5;21;01mpandas\u001b[39;00m \u001b[38;5;28;01mas\u001b[39;00m \u001b[38;5;21;01mpd\u001b[39;00m\n\u001b[0;32m----> 7\u001b[0m \u001b[38;5;28;01mimport\u001b[39;00m \u001b[38;5;21;01mparse_data\u001b[39;00m\u001b[38;5;21;01m.\u001b[39;00m\u001b[38;5;21;01mprepare_data\u001b[39;00m \u001b[38;5;28;01mas\u001b[39;00m \u001b[38;5;21;01mprepare_data\u001b[39;00m\n\u001b[1;32m      8\u001b[0m \u001b[38;5;28;01mimport\u001b[39;00m \u001b[38;5;21;01mparse_data\u001b[39;00m\u001b[38;5;21;01m.\u001b[39;00m\u001b[38;5;21;01mflip_rotate_trajectories\u001b[39;00m \u001b[38;5;28;01mas\u001b[39;00m \u001b[38;5;21;01mflip_rotate_trajectories\u001b[39;00m\n\u001b[1;32m      9\u001b[0m \u001b[38;5;28;01mimport\u001b[39;00m \u001b[38;5;21;01mdata_extraction\u001b[39;00m\u001b[38;5;21;01m.\u001b[39;00m\u001b[38;5;21;01mget_indices\u001b[39;00m \u001b[38;5;28;01mas\u001b[39;00m \u001b[38;5;21;01mget_indices\u001b[39;00m\n",
      "\u001b[0;31mModuleNotFoundError\u001b[0m: No module named 'parse_data'"
     ]
    }
   ],
   "source": [
    "#imports\n",
    "%load_ext autoreload\n",
    "%autoreload 2\n",
    "import json\n",
    "import numpy as np\n",
    "import pandas as pd\n",
    "import parse_data.prepare_data as prepare_data\n",
    "import parse_data.flip_rotate_trajectories as flip_rotate_trajectories\n",
    "import data_extraction.get_indices as get_indices\n",
    "import plotting.plot_trajectory as plot_trajectory\n",
    "import trajectory_analysis.trajectory_vectors as trajectory_vectors\n",
    "import trajectory_analysis.trajectory_headangle as trajectory_headangle\n",
    "import plotting.plot_octagon as plot_octagon\n",
    "import data_extraction.extract_trial as extract_trial\n",
    "import globals\n",
    "import scipy\n",
    "import math\n",
    "import parse_data.preprocess as preprocess\n",
    "import flip_rotate_headangle_functions\n",
    "import headangle_bin_assignment\n",
    "import headangle_bin_assignment_new\n",
    "import headangle_analysis_plotting_functions\n",
    "import analysis.loser_inferred_choice as loser_inferred_choice\n",
    "import analysis.wall_choice as wall_choice\n",
    "import analysis.wall_visibility_and_choice as wall_visibility_and_choice\n",
    "import matplotlib.cm as cm"
   ]
  },
  {
   "cell_type": "code",
   "execution_count": null,
   "id": "8d3d670c-2501-4703-9953-9e0b510b867d",
   "metadata": {},
   "outputs": [],
   "source": [
    "data_folder = '/Users/benny/Desktop/MSc/Project/Git/repos/octagon_analysis'\n",
    "\n",
    "json_filenames_all_social = [r'Json_data/2024-11-19_15-22-56_SophiaHocineSocial.json',\n",
    "                                r'Json_data/2024-11-12_13-31-14_KhadijaWendySocial.json', \n",
    "                                r'Json_data/2024-12-19_15-28-24_JingjingYeungSocial.json', \n",
    "                                r'Json_data/2024-10-17_16-41-38_ZimoElsaSocial.json', \n",
    "                                r'Json_data/2025-01-15_15-21-27_YixuanMarcoSocial.json',\n",
    "                                r'Json_data/2024-11-13_14-18-54_NasiaRyanSocial.json', \n",
    "                                r'Json_data/2024-11-19_14-24-49_AmyXinyuanSocial.json', \n",
    "                                r'Json_data/2024-09-27_14-25-20_SaraEmilySocial.json', \n",
    "                                r'Json_data/2024-11-13_15-28-07_YichuanHoiSocial.json', \n",
    "                                r'Json_data/2024-11-20_15-16-21_SunnyVinceSocial.json', \n",
    "                                r'Json_data/2025-01-15_16-50-13_YuChunSecondSocial.json', \n",
    "                                r'Json_data/2024-11-12_15-23-24_FrancescaSenSzeSocial.json', \n",
    "                                r'Json_data/2024-10-17_14-28-40_ShamirAbigailSocial.json', \n",
    "                                r'Json_data/2024-09-13_11-31-00_YansuJerrySocial.json', \n",
    "                                r'Json_data/2024-11-20_14-17-44_JasonRahulSocial.json']\n",
    " \n",
    "json_filenames_all_solo = [r'Json_data/2024-12-20_17-36-54_ChristopherFirstSolo.json',\n",
    "                                r'Json_data/2025-01-15_15-12-39_MarcoFirstSolo.json',\n",
    "                                r'Json_data/2024-12-19_15-51-33_YeungSecondSolo.json',\n",
    "                                r'Json_data/2024-11-12_15-44-54_FrancescaSecondSolo.json',\n",
    "                                r'Json_data/2024-11-12_15-11-45_SenFirstSolo.json',\n",
    "                                r'Json_data/2024-11-20_15-39-49_VinceSecondSolo.json',\n",
    "                                r'Json_data/2024-11-19_14-18-18_AmyFirstSolo.json',\n",
    "                                r'Json_data/2024-11-12_15-45-35_SenSecondSolo.json',\n",
    "                                r'Json_data/2024-11-12_13-50-23_KhadijaSecondSolo.json',\n",
    "                                r'Json_data/2024-11-13_15-21-50_HoiFirstSolo.json',\n",
    "                                r'Json_data/2024-09-13_11-23-37_YansuFirstSolo.json',\n",
    "                                r'Json_data/2024-11-13_15-22-20_YichuanFirstSolo.json',\n",
    "                                r'Json_data/2024-11-20_15-10-17_VinceFirstSolo.json',\n",
    "                                r'Json_data/2025-01-15_16-14-40_YuChunFirstSolo.json',\n",
    "                                r'Json_data/2024-11-12_13-18-59_WendyFirstSolo.json',\n",
    "                                r'Json_data/2024-10-17_14-51-22_AbigailSecondSolo.json',\n",
    "                                r'Json_data/2024-09-13_11-53-56_JerrySecondSolo.json',\n",
    "                                r'Json_data/2024-09-27_14-14-42_EmilyFirstSolo.json',\n",
    "                                r'Json_data/2025-01-15_16-50-13_YuChunSecondSolo.json',\n",
    "                                r'Json_data/2024-11-12_13-50-20_WendySecondSolo.json',\n",
    "                                r'Json_data/2025-01-15_15-46-04_MarcoSecondSolo.json',\n",
    "                                r'Json_data/2024-10-17_14-20-50_AbigailFirstSolo.json',\n",
    "                                r'Json_data/2024-11-13_15-51-39_YichuanSecondSolo.json',\n",
    "                                r'Json_data/2024-11-20_14-41-56_RahulSecondSolo.json',\n",
    "                                r'Json_data/2024-10-17_14-20-28_ShamirFirstSolo.json',\n",
    "                                'Json_data/2025-01-15_15-47-11_YixuanSecondSolo.json',\n",
    "                                r'Json_data/2024-11-19_15-15-53_SophiaFirstSolo.json',\n",
    "                                r'Json_data/2025-01-15_16-50-37_RuiqingSecondSolo.json',\n",
    "                                r'Json_data/2024-11-20_15-40-08_SunnySecondSolo.json',\n",
    "                                r'Json_data/2024-09-27_14-14-31_SaraFirstSolo.json',\n",
    "                                r'Json_data/2024-09-27_14-45-46_EmilySecondSolo.json',\n",
    "                                r'Json_data/2024-11-12_13-19-22_KhadijaFirstSolo.json',\n",
    "                                r'Json_data/2024-11-12_15-13-34_FrancescaFirstSolo.json',\n",
    "                                r'Json_data/2024-11-19_15-47-53_SophiaSecondSolo.json',\n",
    "                                r'Json_data/2024-11-20_14-12-33_RahulFirstSolo.json',\n",
    "                                r'Json_data/2024-10-17_14-50-03_ShamirSecondSolo.json',\n",
    "                                r'Json_data/2024-09-13_11-53-34_YansuSecondSolo.json',\n",
    "                                r'Json_data/2024-10-17_17-12-29_ElsaSecondSolo.json',\n",
    "                                r'Json_data/2024-12-19_15-22-13_YeungFirstSolo.json',\n",
    "                                r'Json_data/2024-12-19_15-51-58_JingjingSecondSolo.json',\n",
    "                                r'Json_data/2024-11-13_15-51-16_HoiSecondSolo.json',\n",
    "                                r'Json_data/2024-11-19_14-18-44_XinyuanFirstSolo.json',\n",
    "                                r'Json_data/2024-12-20_18-06-44_ChristopherSecondSolo.json',\n",
    "                                r'Json_data/2024-10-17_16-35-45_ElsaFirstSolo.json',\n",
    "                                r'Json_data/2024-11-20_15-10-00_SunnyFirstSolo.json',\n",
    "                                r'Json_data/2024-11-19_14-44-31_XinyuanSecondSolo.json',\n",
    "                                r'Json_data/2024-11-20_14-12-06_JasonFirstSolo.json',\n",
    "                                r'Json_data/2024-12-20_17-36-27_KirtanFirstSolo.json',\n",
    "                                r'Json_data/2024-10-17_16-36-0_ZimoFirstSolo.json',\n",
    "                                r'Json_data/2024-09-27_14-45-55_SaraSecondSolo.json',\n",
    "                                r'Json_data/2024-10-17_17-11-46_ZimoSecondSolo.json',\n",
    "                                r'Json_data/2024-12-20_18-06-10_KirtanSecondSolo.json',\n",
    "                                r'Json_data/2025-01-15_16-14-58_RuiqingFirstSolo.json',\n",
    "                                r'Json_data/2024-11-19_15-14-19_HocineFirstSolo.json',\n",
    "                                r'Json_data/2024-11-20_14-42-16_JasonSecondSolo.json',\n",
    "                                r'Json_data/2024-12-19_15-20-18_JingjingFirstSolo.json',\n",
    "                                r'Json_data/2024-09-13_11-23-50_JerryFirstSolo.json',\n",
    "                                r'Json_data/2025-01-15_15-12-13_YixuanFirstSolo.json',\n",
    "                                r'Json_data/2024-11-19_15-47-29_HocineSecondSolo.json',\n",
    "                                r'Json_data/2024-11-19_14-44-00_AmySecondSolo.json']\n",
    "\n",
    "json_filename = r'Json_data/2024-11-12_13-50-23_KhadijaSecondSolo.json'\n",
    "\n"
   ]
  },
  {
   "cell_type": "code",
   "execution_count": null,
   "id": "67fa783b-9d41-4d4a-8ba4-28fb722a1b6f",
   "metadata": {
    "scrolled": true
   },
   "outputs": [],
   "source": [
    "#socials\n",
    "df, trial_list = prepare_data.prepare_combined_session_data(data_folder, json_filenames_all_social)"
   ]
  },
  {
   "cell_type": "code",
   "execution_count": null,
   "id": "cfd11421-f49a-453b-b6e1-0d9160758815",
   "metadata": {},
   "outputs": [],
   "source": [
    "trial_list = trial_list[1:]  #remove buggy first trial from Sophia-Hocine Social"
   ]
  },
  {
   "cell_type": "code",
   "execution_count": null,
   "id": "049be462-8ff1-44c2-ae1e-21a884b60417",
   "metadata": {},
   "outputs": [],
   "source": [
    "#filter for specific trials\n",
    "\n",
    "#High-Low\n",
    "trial_list_indices = get_indices.get_trials_trialtype(trial_list, trial_type=globals.HIGH_LOW)\n",
    "trial_list_HL = [trial_list[i] for i in trial_list_indices]\n",
    "print(len(trial_list_HL))\n",
    "\n",
    "#45° wall separation\n",
    "single_wall_sep_trial_indices = get_indices.get_trials_with_wall_sep(trial_list_HL, wall_sep=1)\n",
    "trial_list_45_HL = [trial_list_HL[i] for i in single_wall_sep_trial_indices]\n",
    "print(len(trial_list_45_HL))\n",
    "\n",
    "#90° wall separation\n",
    "two_wall_sep_trial_indices = get_indices.get_trials_with_wall_sep(trial_list_HL, wall_sep=2)\n",
    "trial_list_90_HL = [trial_list_HL[i] for i in two_wall_sep_trial_indices]\n",
    "print(len(trial_list_90_HL))\n",
    "\n",
    "#90° wall separation\n",
    "four_wall_sep_trial_indices = get_indices.get_trials_with_wall_sep(trial_list_HL, wall_sep=4)\n",
    "trial_list_180_HL = [trial_list_HL[i] for i in four_wall_sep_trial_indices]\n",
    "print(len(trial_list_180_HL))\n"
   ]
  },
  {
   "cell_type": "code",
   "execution_count": null,
   "id": "20bbf64f-1abb-4f46-80ae-b2b8f3f9a18a",
   "metadata": {},
   "outputs": [],
   "source": [
    "updated_trial_list = flip_rotate_headangle_functions.process_and_update_trials_both_players(trial_list_HL)"
   ]
  },
  {
   "cell_type": "code",
   "execution_count": null,
   "id": "6de43681-61a6-4cdc-8121-fa14027be998",
   "metadata": {},
   "outputs": [],
   "source": [
    "#take whole trial list and update yaw & trajectory for both players\n",
    "#45\n",
    "updated_trial_list_45 = flip_rotate_headangle_functions.process_and_update_trials_both_players(trial_list_45_HL)"
   ]
  },
  {
   "cell_type": "code",
   "execution_count": null,
   "id": "0feefc02-d1fa-4388-bb3a-12780d256b41",
   "metadata": {},
   "outputs": [],
   "source": [
    "#90\n",
    "updated_trial_list_90 = flip_rotate_headangle_functions.process_and_update_trials_both_players(trial_list_90_HL)"
   ]
  },
  {
   "cell_type": "code",
   "execution_count": null,
   "id": "674f60ac-3114-4942-9ce6-41823adf8e01",
   "metadata": {},
   "outputs": [],
   "source": [
    "#180\n",
    "updated_trial_list_180 = flip_rotate_headangle_functions.process_and_update_trials_both_players(trial_list_180_HL)"
   ]
  },
  {
   "cell_type": "code",
   "execution_count": null,
   "id": "7d97ee01-4757-42ad-8f36-3b6881a9e0e5",
   "metadata": {},
   "outputs": [],
   "source": [
    "#checking head angle and trajectory correspondence\n",
    "trial_example = trial_list_45_HL[0]\n",
    "example_trajectory = trajectory_vectors.extract_trial_player_trajectory(trial=trial_example, player_id=0)\n",
    "example_headangles = trajectory_vectors.extract_trial_player_headangles(trial=trial_example, player_id=0)"
   ]
  },
  {
   "cell_type": "code",
   "execution_count": null,
   "id": "6accff85-61a8-42b3-8d50-76d199937261",
   "metadata": {},
   "outputs": [],
   "source": [
    "print(example_trajectory)"
   ]
  },
  {
   "cell_type": "code",
   "execution_count": null,
   "id": "a6e30064-c5c0-4044-a094-2b7fe4c8a767",
   "metadata": {},
   "outputs": [],
   "source": [
    "print(example_headangles)"
   ]
  },
  {
   "cell_type": "code",
   "execution_count": null,
   "id": "da5b4c93-6051-4e7c-9917-b1217482b619",
   "metadata": {},
   "outputs": [],
   "source": [
    "#checking head angle and trajectory correspondence\n",
    "updated_example = updated_trial_list[0]\n",
    "updated_trajectory = trajectory_vectors.extract_trial_player_trajectory(trial=updated_example, player_id=0)\n",
    "updated_headangles = trajectory_vectors.extract_trial_player_headangles(trial=updated_example, player_id=0)\n"
   ]
  },
  {
   "cell_type": "code",
   "execution_count": null,
   "id": "d55f46c7-e6d3-4a37-bdad-f314cd76b4aa",
   "metadata": {},
   "outputs": [],
   "source": [
    "print(updated_trajectory)"
   ]
  },
  {
   "cell_type": "code",
   "execution_count": null,
   "id": "e7454faa-ea89-442a-b0b3-7c5177877a00",
   "metadata": {
    "scrolled": true
   },
   "outputs": [],
   "source": [
    "print(updated_headangles)"
   ]
  },
  {
   "cell_type": "code",
   "execution_count": null,
   "id": "0c0f22d9-cbaf-40e5-be74-ff5152ccdd7f",
   "metadata": {},
   "outputs": [],
   "source": [
    "#plotting updated headangles to check logic\n",
    "trial_player_headangles = trajectory_headangle.get_player_headangle_vectors_for_trial(example_headangles)\n",
    "trial_player_headangles_smoothed = trajectory_headangle.get_smoothed_player_head_angle_vectors_for_trial(example_headangles, window_size=5, debug=False)\n",
    "trajectory = example_trajectory"
   ]
  },
  {
   "cell_type": "code",
   "execution_count": null,
   "id": "4f9b8bf6-1fe3-49ff-bb9e-f2866d519324",
   "metadata": {
    "jupyter": {
     "source_hidden": true
    }
   },
   "outputs": [],
   "source": [
    "## Find the average head angle vector at all points throughout trajectory \n",
    "ax = plot_octagon.plot_octagon()\n",
    "ax.scatter(trajectory[0,:], trajectory[1,:], s=0.5)\n",
    "\n",
    "for time_index in range(0, trial_player_headangles_smoothed.shape[1],3):\n",
    "    x_start = trajectory[0,time_index]\n",
    "    y_start = trajectory[1,time_index]\n",
    "    x_gradient = trial_player_headangles_smoothed[0,time_index]\n",
    "    y_gradient = trial_player_headangles_smoothed[1,time_index]\n",
    "    vector_length = 3\n",
    "    \n",
    "    start = [x_start, y_start]\n",
    "    end = [x_start + x_gradient*vector_length, y_start + y_gradient*vector_length]\n",
    "    \n",
    "    this_head_angle_vector_coordinates = np.array(list(zip(start,end)))\n",
    "    ax.plot(this_head_angle_vector_coordinates[0,:], this_head_angle_vector_coordinates[1,:], c='r', linewidth=1.3)\n"
   ]
  },
  {
   "cell_type": "code",
   "execution_count": null,
   "id": "d3fb119b-9465-4ae2-8ac2-4a3925cb68a9",
   "metadata": {
    "scrolled": true
   },
   "outputs": [],
   "source": [
    "#test new bin functions\n",
    "bins = []\n",
    "for trial_index in range(len(updated_trial_list_180)):\n",
    "    bins_test = headangle_bin_assignment_new.sort_head_angle_into_bin(updated_trial_list_180, trial_index, debug=True)\n",
    "    print(f\"trial {trial_index}: {bins_test}\")\n",
    "    bins.append(bins_test)"
   ]
  },
  {
   "cell_type": "code",
   "execution_count": null,
   "id": "2e6d9acf-6cf0-4b2e-aab0-9179e2012bd0",
   "metadata": {},
   "outputs": [],
   "source": [
    "len(bins)"
   ]
  },
  {
   "cell_type": "code",
   "execution_count": null,
   "id": "57f56a09-c7e0-4580-be6b-7a51f69a9b3b",
   "metadata": {},
   "outputs": [],
   "source": [
    "#bin assignments for the whole trial list\n",
    "#45\n",
    "bin_assignments_45 = headangle_bin_assignment_new.assign_bins_to_all_trials(updated_trial_list_45)"
   ]
  },
  {
   "cell_type": "code",
   "execution_count": null,
   "id": "f0fe9979-3218-44b1-8b09-863a44d45b5c",
   "metadata": {},
   "outputs": [],
   "source": [
    "bins_45_player0 = bin_assignments_45\n",
    "print(bins_45_player0)"
   ]
  },
  {
   "cell_type": "code",
   "execution_count": null,
   "id": "eb696716-77cd-494a-aafb-24681a67f0fa",
   "metadata": {},
   "outputs": [],
   "source": [
    "#90\n",
    "bin_assignments_90 = headangle_bin_assignment_new.assign_bins_to_all_trials(updated_trial_list_90)"
   ]
  },
  {
   "cell_type": "code",
   "execution_count": null,
   "id": "dd4d4fb7-e68b-420b-9857-a1ca150039e9",
   "metadata": {},
   "outputs": [],
   "source": [
    "bins_90_player0 = bin_assignments_90\n",
    "len(bins_90_player0)"
   ]
  },
  {
   "cell_type": "code",
   "execution_count": null,
   "id": "fecb129b-97de-41d0-be35-0d3fc983d895",
   "metadata": {},
   "outputs": [],
   "source": [
    "#180\n",
    "bin_assignments_180 = headangle_bin_assignment_new.assign_bins_to_all_trials(updated_trial_list_180)"
   ]
  },
  {
   "cell_type": "code",
   "execution_count": null,
   "id": "a67ee47d-7d82-48ba-b7a9-ed812f420bfe",
   "metadata": {},
   "outputs": [],
   "source": [
    "bins_180_player0 = bin_assignments_180\n",
    "len(bins_180_player0)"
   ]
  },
  {
   "cell_type": "code",
   "execution_count": null,
   "id": "af165f4f-561e-4220-90ea-6397578ef55a",
   "metadata": {
    "jupyter": {
     "source_hidden": true
    }
   },
   "outputs": [],
   "source": [
    "def get_player_wall_choice(trial_list, player_id, inferred_choice=False, debug=False):\n",
    "    ''' Return int array of size len(trial_list) of the wall numbers chosen for\n",
    "        player player_id.\n",
    "        Can use inferred choice.'''\n",
    "\n",
    "    # decide whether to include loser's inferred choice based on function inputs\n",
    "    if inferred_choice:\n",
    "        # get the players choice, whether this is empirical, inferred, or nan\n",
    "        player_wall_choice = loser_inferred_choice.player_wall_choice_win_or_loss(trial_list, player_id, debug=debug)\n",
    "    else:\n",
    "        player_wall_choice = wall_choice.player_wall_choice_wins_only(trial_list, player_id, debug=debug)\n",
    "    if debug:\n",
    "        print(f\"include loser's inferred choice status: {inferred_choice}\")\n",
    "        print(f\"player wall choices for this player: {player_wall_choice}\")\n",
    "\n",
    "    return player_wall_choice\n",
    "\n",
    "\n",
    "\n",
    "def was_given_wall_chosen(trial_list, player_choice, given_wall_index):\n",
    "    ''' Identify whether the chosen wall on each trial agreed with given_wall_index\n",
    "        (e.g., wall1 or wall2). \n",
    "        Compatible with loser's choice\n",
    "        Returns a boolean array of length num_trials '''\n",
    "\n",
    "    # initialise array, default to false (bool(0))\n",
    "    given_wall_chosen = np.full(len(trial_list), np.nan)\n",
    "    \n",
    "    # get the chosen walls for each trial\n",
    "    chosen_walls = player_choice\n",
    "\n",
    "    # loop through trials, identify wall wall_index, and compare it to chosen wall\n",
    "    for i, trial in enumerate(trial_list):\n",
    "        \n",
    "        # find the wall number that aligns with the given wall (0 for WALL_1, 1 for WALL_2, etc.)\n",
    "        walls = get_walls(trial)\n",
    "        given_wall = walls[given_wall_index]\n",
    "\n",
    "        # if chosen wall and wall given_wall_index are identical, set to True for this trial\n",
    "        # else, false, preserving np.nan (which represents no valid choice data)\n",
    "        if np.isnan(chosen_walls[i]):  # If no valid choice, keep NaN\n",
    "            continue\n",
    "        elif given_wall == chosen_walls[i]:  \n",
    "            given_wall_chosen[i] = True\n",
    "        else:\n",
    "            given_wall_chosen[i] = False\n",
    "\n",
    "    return given_wall_chosen\n",
    "\n",
    "    \n",
    "def get_walls(trial=None, trial_list=None, trial_index=None, num_walls=2):\n",
    "    ''' Return a list with the numbers of all walls for this trial,\n",
    "        in ascending order '''\n",
    "    \n",
    "    this_trial = plot_trajectory.extract_trial(trial, trial_list, trial_index)\n",
    "    # print(f\"Trial in get_walls is: {type(trial)}\")\n",
    "\n",
    "    wall_column_names = [globals.WALL_1, globals.WALL_2, globals.WALL_3, globals.WALL_4]\n",
    "    \n",
    "    walls = []\n",
    "    for i in range(num_walls):\n",
    "        # print(f\"this_wall for trial {this_trial[globals.TRIAL_NUM].unique().item()}, wall {i}\")\n",
    "        this_wall = int(this_trial.iloc[0][wall_column_names[i]])\n",
    "        walls.append(this_wall)\n",
    "\n",
    "    return walls\n",
    "\n"
   ]
  },
  {
   "cell_type": "code",
   "execution_count": null,
   "id": "ad90762e-fb03-453e-ad0b-e4b34b5a990c",
   "metadata": {},
   "outputs": [],
   "source": [
    "#get player wall choices from original trial list for both losses and wins\n",
    "#45\n",
    "choice_45_player0 = get_player_wall_choice(trial_list_45_HL, 0, inferred_choice=False, debug=True)"
   ]
  },
  {
   "cell_type": "code",
   "execution_count": null,
   "id": "f0bb8f81-69e4-4ee0-820e-f39280aab5a5",
   "metadata": {},
   "outputs": [],
   "source": [
    "#90\n",
    "choice_90_player0 = get_player_wall_choice(trial_list_90_HL, 0, inferred_choice=False, debug=True)"
   ]
  },
  {
   "cell_type": "code",
   "execution_count": null,
   "id": "e376181b-7d85-49a2-b465-bc73145d7554",
   "metadata": {},
   "outputs": [],
   "source": [
    "#180\n",
    "choice_180_player0 = get_player_wall_choice(trial_list_180_HL, 0, inferred_choice=False, debug=True)"
   ]
  },
  {
   "cell_type": "code",
   "execution_count": null,
   "id": "d9288f7a-4abf-4aee-be34-c4a2987b4766",
   "metadata": {},
   "outputs": [],
   "source": [
    "#check whether high wall was chosen\n",
    "#45\n",
    "high_wall_chosen_45_player0 = was_given_wall_chosen(trial_list_45_HL, choice_45_player0, 0)"
   ]
  },
  {
   "cell_type": "code",
   "execution_count": null,
   "id": "33073412-af78-4b45-8e44-ab6cca81e5e6",
   "metadata": {},
   "outputs": [],
   "source": [
    "high_wall_chosen_90_player0 = was_given_wall_chosen(trial_list_90_HL, choice_90_player0, 0)"
   ]
  },
  {
   "cell_type": "code",
   "execution_count": null,
   "id": "c94bcaab-2594-480f-85e5-cb682a07d518",
   "metadata": {},
   "outputs": [],
   "source": [
    "high_wall_chosen_180_player0 = was_given_wall_chosen(trial_list_180_HL, choice_180_player0, 0)"
   ]
  },
  {
   "cell_type": "code",
   "execution_count": null,
   "id": "336a8046-ded7-4a1f-9145-de1c4cad04f3",
   "metadata": {
    "scrolled": true
   },
   "outputs": [],
   "source": [
    "#obtain ratios for how many times a given player chose high given their head angle bin at slice onset\n",
    "from collections import defaultdict\n",
    "\n",
    "#creating dictionaries to store the counts\n",
    "bin_total_counts = defaultdict(int)\n",
    "bin_true_counts = defaultdict(int)\n",
    "\n",
    "#match bin assignments to high wall chosen lists\n",
    "trial_data = [(bins_45_player0, high_wall_chosen_45_player0),\n",
    "              (bins_90_player0, high_wall_chosen_90_player0),\n",
    "              (bins_180_player0, high_wall_chosen_180_player0)]\n",
    "\n",
    "for bin_assignments, high_wall_chosen in trial_data:\n",
    "\n",
    "    for bin_index, is_high_wall_chosen in zip(bin_assignments, high_wall_chosen):\n",
    "\n",
    "        if np.isnan(is_high_wall_chosen):\n",
    "            continue\n",
    "            \n",
    "        bin_total_counts[bin_index] += 1\n",
    "        \n",
    "        if is_high_wall_chosen:\n",
    "            \n",
    "            bin_true_counts[bin_index] += 1\n",
    "\n",
    "#calculate probabilities\n",
    "probabilities = {bin_index: bin_true_counts[bin_index] / bin_total_counts[bin_index]\n",
    "                        for bin_index in sorted(bin_total_counts)}\n",
    "\n",
    "#convert the dictionary to a list of values\n",
    "#bin_probabilities_list_45 = list(probabilities_45.values())\n",
    "\n",
    "#order by bin index\n",
    "probabilities_list = [probabilities[bin_index] for bin_index in sorted(bin_total_counts)]\n",
    "\n",
    "print(probabilities_list)\n",
    "\n",
    "#print the results\n",
    "for bin_index, probability in sorted(probabilities.items()):\n",
    "    print(f\"Bin {bin_index}: {probability:.2f} (True/Total = {bin_true_counts[bin_index]}/{bin_total_counts[bin_index]})\")\n"
   ]
  },
  {
   "cell_type": "code",
   "execution_count": null,
   "id": "c158673b-0c9a-4734-a499-efb2ac8511da",
   "metadata": {},
   "outputs": [],
   "source": [
    "#calculate average p(H) regardless of bin\n",
    "\n",
    "from collections import defaultdict\n",
    "\n",
    "#initialize counters for the total high wall choices and total trials overall\n",
    "true_counts = 0\n",
    "total_counts = 0\n",
    "\n",
    "#bin assignments and high wall chosen for all trial lists\n",
    "trial_data = [(bins_45_player0, high_wall_chosen_45_player0),\n",
    "              (bins_90_player0, high_wall_chosen_90_player0),\n",
    "              (bins_180_player0, high_wall_chosen_180_player0)]\n",
    "\n",
    "\n",
    "#iterate through all provided trial lists\n",
    "for bin_assignments, high_wall_chosen in trial_data:\n",
    "\n",
    "    #iterate over both lists simultaneously for the current trial list\n",
    "    for is_high_wall_chosen in high_wall_chosen:\n",
    "\n",
    "        if np.isnan(is_high_wall_chosen):  \n",
    "            continue         \n",
    "        \n",
    "        total_counts += 1  #increment total trial count for the bin\n",
    "        \n",
    "        if is_high_wall_chosen:          #increment True count if high wall is chosen\n",
    "            true_counts += 1\n",
    "\n",
    "#calculate the average ratio \n",
    "print(true_counts)\n",
    "print(total_counts)\n",
    "overall_probability = true_counts / total_counts\n",
    "\n",
    "print(overall_probability)\n"
   ]
  },
  {
   "cell_type": "code",
   "execution_count": null,
   "id": "ca9adc36-a57d-46f0-9056-e42e851fa7c1",
   "metadata": {},
   "outputs": [],
   "source": [
    "#obtain difference between p(H) given bin and average p(H)\n",
    "new_probabilities_list = [probability - overall_probability for probability in probabilities_list]\n",
    "print(new_probabilities_list)\n"
   ]
  },
  {
   "cell_type": "code",
   "execution_count": null,
   "id": "60c5183c-07b9-4afb-9b85-6e52e56dd61d",
   "metadata": {},
   "outputs": [],
   "source": [
    "#45\n",
    "import matplotlib.pyplot as plt\n",
    "\n",
    "#plot octagon with new ratios list \n",
    "ax = plot_octagon.plot_octagon()\n",
    "\n",
    "#plot the ratios under the alcoves\n",
    "ax = headangle_analysis_plotting_functions.plot_ratios_under_alcoves(ax, new_probabilities_list)\n",
    "\n",
    "plt.show()\n"
   ]
  },
  {
   "cell_type": "code",
   "execution_count": null,
   "id": "2c696e6a-0566-4833-b8ed-d266969417ff",
   "metadata": {},
   "outputs": [],
   "source": [
    "bin_ranges = headangle_bin_assignment.define_45_degree_bins()\n",
    "print(bin_ranges)"
   ]
  },
  {
   "cell_type": "code",
   "execution_count": null,
   "id": "2455982a-0c46-4d9d-acf1-0ded43c5d76f",
   "metadata": {},
   "outputs": [],
   "source": [
    "#45\n",
    "#plot color gradient octagon for new ratios list\n",
    "\n",
    "fig, ax = plt.subplots(figsize=(6, 6))\n",
    "\n",
    "#plot octagon\n",
    "ax = plot_octagon.plot_octagon(ax=ax)\n",
    "\n",
    "#define bin_ranges\n",
    "bin_ranges = bin_ranges\n",
    "\n",
    "\n",
    "#define ratios list\n",
    "#probabilities_list_reversed = probabilities_list[::-1]\n",
    "\n",
    "#color the segments of the octagon\n",
    "ax = headangle_analysis_plotting_functions.plot_colored_octagon(ax, bin_ranges, new_probabilities_list)\n",
    "\n",
    "#plot the ratios under the alcoves\n",
    "ax = headangle_analysis_plotting_functions.plot_ratios_under_alcoves(ax, new_probabilities_list)\n",
    "\n",
    "\n",
    "#add a colorbar for reference\n",
    "sm = plt.cm.ScalarMappable(cmap=plt.cm.plasma, norm=plt.Normalize(vmax=max(new_probabilities_list), vmin=min(new_probabilities_list)))\n",
    "sm.set_array([])  # Only necessary for ScalarMappable\n",
    "cbar = plt.colorbar(sm, ax=ax, shrink=0.8)\n",
    "cbar.set_label(\"P(H) - avg(P(H))\", fontsize=13, rotation=270, labelpad=15)\n",
    "\n",
    "rounded_prob = round(overall_probability, 2)\n",
    "plt.title(f\"P(H) = {rounded_prob}\", fontsize=14)\n",
    "plt.axis('equal')\n",
    "plt.axis('off')\n",
    "plt.show()\n",
    "print(new_probabilities_list)"
   ]
  },
  {
   "cell_type": "code",
   "execution_count": null,
   "id": "17629368-2aad-43cb-9780-df288c0aacca",
   "metadata": {},
   "outputs": [],
   "source": []
  }
 ],
 "metadata": {
  "kernelspec": {
   "display_name": "Python 3 (ipykernel)",
   "language": "python",
   "name": "python3"
  },
  "language_info": {
   "codemirror_mode": {
    "name": "ipython",
    "version": 3
   },
   "file_extension": ".py",
   "mimetype": "text/x-python",
   "name": "python",
   "nbconvert_exporter": "python",
   "pygments_lexer": "ipython3",
   "version": "3.13.0"
  }
 },
 "nbformat": 4,
 "nbformat_minor": 5
}
