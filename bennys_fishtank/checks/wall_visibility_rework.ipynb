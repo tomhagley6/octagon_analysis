{
 "cells": [
  {
   "cell_type": "code",
   "execution_count": 1,
   "id": "9350822f",
   "metadata": {},
   "outputs": [
    {
     "name": "stdout",
     "output_type": "stream",
     "text": [
      "Added paths to sys.path /Users/benny/Desktop/MSc/Project/Git/repos/main_copy /Users/benny/Desktop/MSc/Project/Git/repos/octagon_analysis\n"
     ]
    }
   ],
   "source": [
    "# get access to the complete repo\n",
    "import sys\n",
    "import os\n",
    "\n",
    "parent_dir = os.path.abspath(os.path.join(os.getcwd(),\"..\",\"..\"))\n",
    "main_copy_dir = os.path.join(parent_dir, \"main_copy\")\n",
    "octagon_analysis = os.path.join(parent_dir, \"octagon_analysis\")\n",
    "sys.path.append(main_copy_dir)\n",
    "sys.path.append(octagon_analysis)\n",
    "\n",
    "print(\"Added paths to sys.path\", main_copy_dir, octagon_analysis)"
   ]
  },
  {
   "cell_type": "code",
   "execution_count": 2,
   "id": "bd1cee84",
   "metadata": {},
   "outputs": [
    {
     "name": "stdout",
     "output_type": "stream",
     "text": [
      "The autoreload extension is already loaded. To reload it, use:\n",
      "  %reload_ext autoreload\n"
     ]
    }
   ],
   "source": [
    "# imports\n",
    "%load_ext autoreload\n",
    "%autoreload 2\n",
    "\n",
    "import parse_data.prepare_data as prepare_data\n",
    "import analysis.opponent_visibility as opponent_visibility\n",
    "import trajectory_analysis.trajectory_vectors as trajectory_vectors\n",
    "import trajectory_analysis.trajectory_headangle as trajectory_headangle\n",
    "import trajectory_analysis.trajectory_direction as trajectory_direction\n",
    "import data_extraction.trial_list_filters as trial_list_filters\n",
    "import data_extraction.get_indices as get_indices\n",
    "from plotting import plot_octagon, plot_trajectory\n",
    "import utils.cosine_similarity as cosine_similarity\n",
    "import data_extraction.extract_trial as extract_trial\n",
    "import parse_data.identify_filepaths as identify_filepaths\n",
    "import analysis.loser_inferred_choice as loser_inferred_choice\n",
    "import plotting.flipped_rotated_trajectory_testing_functions as flipped_rotated_trajectory_testing_functions\n",
    "\n",
    "\n",
    "import numpy as np\n",
    "import pandas as pd\n",
    "import matplotlib.pyplot as plt\n",
    "import globals"
   ]
  },
  {
   "cell_type": "code",
   "execution_count": 3,
   "id": "08a3e897",
   "metadata": {},
   "outputs": [],
   "source": [
    "# data folder and filenames\n",
    "data_folder = \"/Users/benny/Desktop/MSc/Project/Git/repos/main_copy/questionnaire_analysis/pseudonymised_json_files\"\n",
    "\n",
    "social_files, ordered_solos = identify_filepaths.get_filenames(data_folder=data_folder)"
   ]
  },
  {
   "cell_type": "code",
   "execution_count": 4,
   "id": "447f9588",
   "metadata": {},
   "outputs": [],
   "source": [
    "# single json filename\n",
    "\n",
    "json_filename = social_files[17]"
   ]
  },
  {
   "cell_type": "code",
   "execution_count": 5,
   "id": "2aed3b1f",
   "metadata": {},
   "outputs": [
    {
     "name": "stdout",
     "output_type": "stream",
     "text": [
      "filepath: /Users/benny/Desktop/MSc/Project/Git/repos/main_copy/questionnaire_analysis/pseudonymised_json_files/241203_1/2024-12-03_14-31-51_PO03_NN03_Social.json\n",
      "Loading complete.\n",
      "Preprocessing complete.\n"
     ]
    }
   ],
   "source": [
    "_, trial_list = prepare_data.prepare_data(data_folder, json_filename, combine=True)"
   ]
  },
  {
   "cell_type": "code",
   "execution_count": 31,
   "id": "dcf2ed4c",
   "metadata": {},
   "outputs": [],
   "source": [
    "wall_visible = trajectory_headangle.get_wall_visible(trial_list=trial_list, trial_index=17, trial=None, player_id=1, current_fov=110.36, debug=False)"
   ]
  },
  {
   "cell_type": "code",
   "execution_count": 28,
   "id": "631f8669",
   "metadata": {},
   "outputs": [],
   "source": [
    "def wall_visibility_player_window(wall_visible, trial, window=5):\n",
    "    ''' Identify whether either of the relevant walls for this trial are visible between trial start and end time point\n",
    "        Takes a boolean array of shape num_walls*timepoints which is True when a wall falls within the FoV\n",
    "        range of the player\n",
    "        Also takes the trial\n",
    "        Returns 2 bools, reflecting wall visibility for wall 1 and wall 2 at trial start'''\n",
    "\n",
    "    # local variables for logic\n",
    "    wall1_visible = False\n",
    "    wall2_visible = False\n",
    "  \n",
    "    # identify walls\n",
    "    walls = get_indices.get_walls(trial=trial)\n",
    "    # take the wall index instead of the wall number, to index wall_visible\n",
    "    wall1_index = walls[0] - 1\n",
    "    wall2_index = walls[1] - 1\n",
    "\n",
    "    # identify which walls are initially visible\n",
    "    if np.any(wall_visible[wall1_index,0:window]):\n",
    "        wall1_visible = True\n",
    "    if np.any(wall_visible[wall2_index,0:window]):\n",
    "        wall2_visible = True\n",
    "\n",
    "\n",
    "    return wall1_visible, wall2_visible"
   ]
  },
  {
   "cell_type": "code",
   "execution_count": 33,
   "id": "d39e3bd4",
   "metadata": {},
   "outputs": [],
   "source": [
    "trial_index = 17"
   ]
  },
  {
   "cell_type": "code",
   "execution_count": 34,
   "id": "90cda8f2",
   "metadata": {},
   "outputs": [],
   "source": [
    "wall1_visible, wall2_visible = wall_visibility_player_window(wall_visible, trial=trial_list[trial_index], window=5)"
   ]
  }
 ],
 "metadata": {
  "kernelspec": {
   "display_name": "Python 3",
   "language": "python",
   "name": "python3"
  },
  "language_info": {
   "codemirror_mode": {
    "name": "ipython",
    "version": 3
   },
   "file_extension": ".py",
   "mimetype": "text/x-python",
   "name": "python",
   "nbconvert_exporter": "python",
   "pygments_lexer": "ipython3",
   "version": "3.10.10"
  }
 },
 "nbformat": 4,
 "nbformat_minor": 5
}
