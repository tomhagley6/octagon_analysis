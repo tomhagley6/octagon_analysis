{
 "cells": [
  {
   "cell_type": "code",
   "execution_count": 109,
   "id": "3071fc56-16d3-40f3-96b3-62a56cba6f49",
   "metadata": {},
   "outputs": [],
   "source": [
    "import json\n",
    "import numpy as np\n",
    "import pandas as pd\n",
    "import parse_data.prepare_data as prepare_data\n",
    "import globals\n",
    "import scipy\n",
    "import math\n",
    "from parse_data import preprocess"
   ]
  },
  {
   "cell_type": "code",
   "execution_count": null,
   "id": "70364ae4-fe37-49d4-a233-b0e27f59bd23",
   "metadata": {
    "scrolled": true
   },
   "outputs": [],
   "source": [
    "data_folder = '/Users/benny/Desktop/MSc/Project/Git/repos/octagon_analysis/Json_data'\n",
    "json_filenames = ['2024-09-13_11-31-00_YansuJerrySocial.json']\n",
    "#'2024-09-27_14-25-20_SaraEmilySocial.json', '2024-11-20_15-16-21_SunnyVinceSocial.json', '2024-11-19_14-24-49_AmyXinyuanSocial.json', '2024-11-19_15-22-56_SophiaHocineSocial.json', '2024-11-20_14-17-44_JasonRahulSocial.json', ]\n",
    "\n",
    "df, trial_list = prepare_data.prepare_data(data_folder, json_filenames)\n",
    "df1, trial_list1 = prepare_data.prepare_data(data_folder, ['2024-09-27_14-25-20_SaraEmilySocial.json'])\n",
    "df2, trial_list2 = prepare_data.prepare_data(data_folder, ['2024-11-20_15-16-21_SunnyVinceSocial.json'])\n",
    "df3, trial_list3 = prepare_data.prepare_data(data_folder, ['2024-11-19_14-24-49_AmyXinyuanSocial.json'])\n",
    "df4, trial_list4 = prepare_data.prepare_data(data_folder, ['2024-11-19_15-22-56_SophiaHocineSocial.json'])\n",
    "df5, trial_list5 = prepare_data.prepare_data(data_folder, ['2024-11-20_14-17-44_JasonRahulSocial.json'])\n",
    "\n",
    "df6, trial_list6 = prepare_data.prepare_data(data_folder, ['2024-10-17_14-28-40_ShamirAbigailSocial.json'])\n",
    "df7, trial_list7 = prepare_data.prepare_data(data_folder, ['2024-10-17_16-41-38_ZimoElsaSocial.json'])\n",
    "df8, trial_list8 = prepare_data.prepare_data(data_folder, ['2024-11-12_13-31-14_KhadijaWendySocial.json'])\n",
    "df9, trial_list9 = prepare_data.prepare_data(data_folder, ['2024-11-12_15-23-24_FrancescaSenSzeSocial.json'])\n",
    "df10, trial_list10 = prepare_data.prepare_data(data_folder, ['2024-11-13_14-18-54_NasiaRyanSocial.json'])\n",
    "df11, trial_list11 = prepare_data.prepare_data(data_folder, ['2024-11-13_15-28-07_YichuanHoiSocial.json'])\n",
    "\n"
   ]
  },
  {
   "cell_type": "code",
   "execution_count": null,
   "id": "4726692e-9747-489d-835d-cb554caff03f",
   "metadata": {},
   "outputs": [],
   "source": [
    "def assign_player_scores(trial_list, trial_index, i):\n",
    "    \n",
    "   this_trial = trial_list[trial_index]\n",
    "\n",
    "   trial_end = this_trial[this_trial['eventDescription'] == globals.TRIAL_END]\n",
    "    \n",
    "   trial_end_idx = trial_end.index[0]\n",
    "   trial_end_idx = int(trial_end_idx - this_trial.index[0])\n",
    "\n",
    "   player_score = trial_end[globals.PLAYER_SCORE_DICT[i]['score']].item()\n",
    "    \n",
    "   return player_score\n",
    " "
   ]
  },
  {
   "cell_type": "code",
   "execution_count": 126,
   "id": "254323fd-db4a-41f6-8616-5df13b027a16",
   "metadata": {
    "scrolled": true
   },
   "outputs": [],
   "source": [
    "def get_final_score(trial_list, i, fallback_to_second_last=True):\n",
    "    \n",
    "    try:\n",
    "        final_trial_scores = assign_player_scores(trial_list, -1, i)\n",
    "        \n",
    "        if final_trial_scores is None and fallback_to_second_last:\n",
    "            print(f\"No 'TRIAL_END'\")\n",
    "            final_trial_scores = assign_player_scores(trial_list, -2, i)\n",
    "        \n",
    "        return final_trial_scores\n",
    "    except Exception as e:\n",
    "        print(f\"Error encountered: {e}\")\n",
    "        return None \n",
    "\n"
   ]
  },
  {
   "cell_type": "code",
   "execution_count": null,
   "id": "ce286fa0-f6c4-4d1b-a6dd-05481066412f",
   "metadata": {
    "scrolled": true
   },
   "outputs": [],
   "source": [
    "def get_winners(trial_list, player=None):\n",
    "\n",
    "   trial_winners = {}\n",
    "\n",
    "   for trial_index in range(len(trial_list)):\n",
    "       this_trial = trial_list[trial_index]\n",
    "       \n",
    "       slice_onset_event = this_trial[this_trial['eventDescription'] == globals.SLICE_ONSET]\n",
    "       \n",
    "       trigger_event = this_trial[this_trial['eventDescription'] == globals.SELECTED_TRIGGER_ACTIVATION]\n",
    "       \n",
    "       winner = int(trigger_event[globals.TRIGGER_CLIENT].item())\n",
    "       \n",
    "       trial_winners[trial_index] = winner\n",
    "    \n",
    "   if player is not None:\n",
    "        \n",
    "       player_wins = sum(1 for winner in trial_winners.values() if winner == player)\n",
    "       return player_wins\n",
    "\n",
    "   return trial_winners\n"
   ]
  },
  {
   "cell_type": "code",
   "execution_count": null,
   "id": "0719dda3-f69e-45d1-b3d9-91750aa8e293",
   "metadata": {},
   "outputs": [],
   "source": [
    "#TEST\n",
    "trial_winners = get_winners(trial_list, player = 1)\n",
    "print(trial_winners)\n"
   ]
  },
  {
   "cell_type": "code",
   "execution_count": 18,
   "id": "2be97169-c2f1-455c-993f-40fb4ee1374c",
   "metadata": {},
   "outputs": [],
   "source": [
    "import matplotlib.pyplot as plt\n",
    "import numpy as np"
   ]
  },
  {
   "cell_type": "code",
   "execution_count": 137,
   "id": "6e1bddb6-ad6f-4b05-a591-baebd0b17fe2",
   "metadata": {
    "scrolled": true
   },
   "outputs": [
    {
     "data": {
      "image/png": "[encoded data removed]",
      "text/plain": [
       "<Figure size 1400x700 with 1 Axes>"
      ]
     },
     "metadata": {},
     "output_type": "display_data"
    }
   ],
   "source": [
    "plt.figure(figsize=(14,7))\n",
    "\n",
    "P0_wins = get_winners(trial_list, player=0)\n",
    "P0_wins1 = get_winners(trial_list1, player=0)\n",
    "P0_wins2 = get_winners(trial_list2, player=0)\n",
    "P0_wins3 = get_winners(trial_list3, player=0)\n",
    "P0_wins4 = get_winners(trial_list4, player=0)\n",
    "P0_wins5 = get_winners(trial_list5, player=0)\n",
    "P0_wins6 = get_winners(trial_list6, player=0)\n",
    "P0_wins7 = get_winners(trial_list7, player=0)\n",
    "P0_wins8 = get_winners(trial_list8, player=0)\n",
    "P0_wins9 = get_winners(trial_list9, player=0)\n",
    "#P0_wins10 = get_winners(trial_list10, player=0)\n",
    "P0_wins11 = get_winners(trial_list11, player=0)\n",
    "\n",
    "\n",
    "num_trials = len(trial_list)\n",
    "\n",
    "win_prop_P0 = P0_wins/num_trials\n",
    "win_prop_P01 = P0_wins1/num_trials\n",
    "win_prop_P02 = P0_wins2/num_trials\n",
    "win_prop_P03 = P0_wins3/num_trials\n",
    "win_prop_P04 = P0_wins4/num_trials\n",
    "win_prop_P05 = P0_wins5/num_trials\n",
    "win_prop_P06 = P0_wins6/num_trials\n",
    "win_prop_P07 = P0_wins7/num_trials\n",
    "win_prop_P08 = P0_wins8/num_trials\n",
    "win_prop_P09 = P0_wins9/num_trials\n",
    "#win_prop_P010 = P0_wins4/num_trials\n",
    "win_prop_P011 = P0_wins11/num_trials\n",
    "\n",
    "\n",
    "P0_score = assign_player_scores(trial_list, -1, 0)\n",
    "P0_score1 = assign_player_scores(trial_list1, -3, 0)\n",
    "P0_score2 = assign_player_scores(trial_list2, -1, 0)\n",
    "P0_score3 = assign_player_scores(trial_list3, -2, 0)\n",
    "P0_score4 = assign_player_scores(trial_list4, -1, 0)\n",
    "P0_score5 = assign_player_scores(trial_list5, -3, 0)\n",
    "P0_score6 = assign_player_scores(trial_list6, -1, 0)\n",
    "P0_score7 = assign_player_scores(trial_list7, -2, 0)\n",
    "P0_score8 = assign_player_scores(trial_list8, -1, 0)\n",
    "P0_score9 = assign_player_scores(trial_list9, -1, 0)\n",
    "#P0_score10 = assign_player_scores(trial_list10, -1, 0)\n",
    "P0_score11 = assign_player_scores(trial_list11, -1, 0)\n",
    "\n",
    "P1_score = assign_player_scores(trial_list, -1,1)\n",
    "P1_score1 = assign_player_scores(trial_list1, -3, 1)\n",
    "P1_score2 = assign_player_scores(trial_list2, -1, 1)\n",
    "P1_score3 = assign_player_scores(trial_list3, -2, 1)\n",
    "P1_score4 = assign_player_scores(trial_list4, -1, 1)\n",
    "P1_score5 = assign_player_scores(trial_list5, -3, 1)\n",
    "P1_score6 = assign_player_scores(trial_list6, -1, 1)\n",
    "P1_score7 = assign_player_scores(trial_list7, -2, 1)\n",
    "P1_score8 = assign_player_scores(trial_list8, -1, 1)\n",
    "P1_score9 = assign_player_scores(trial_list9, -1, 1)\n",
    "#P1_score10 = assign_player_scores(trial_list10, -1, 1)\n",
    "P1_score11 = assign_player_scores(trial_list11, -1, 1)\n",
    "\n",
    "total_score = P0_score + P1_score\n",
    "total_score1 = P0_score1 + P1_score1\n",
    "total_score2 = P0_score2 + P1_score2\n",
    "total_score3 = P0_score3 + P1_score3\n",
    "total_score4 = P0_score4 + P1_score4\n",
    "total_score5 = P0_score5 + P1_score5\n",
    "total_score6 = P0_score6 + P1_score6\n",
    "total_score7 = P0_score7 + P1_score7\n",
    "total_score8 = P0_score8 + P1_score8\n",
    "total_score9 = P0_score9 + P1_score9\n",
    "#total_score10 = P0_score10 + P1_score10\n",
    "total_score11 = P0_score11 + P1_score11\n",
    "\n",
    "prop_score_P0 = P0_score/total_score\n",
    "prop_score_P01 = P0_score1/total_score1\n",
    "prop_score_P02 = P0_score2/total_score2\n",
    "prop_score_P03 = P0_score3/total_score3\n",
    "prop_score_P04 = P0_score4/total_score4\n",
    "prop_score_P05 = P0_score5/total_score5\n",
    "prop_score_P06 = P0_score6/total_score6\n",
    "prop_score_P07 = P0_score7/total_score7\n",
    "prop_score_P08 = P0_score8/total_score8\n",
    "prop_score_P09 = P0_score9/total_score9\n",
    "#prop_score_P010 = P0_score10/total_score10\n",
    "prop_score_P011 = P0_score11/total_score11\n",
    "\n",
    "\n",
    "plt.scatter(win_prop_P0, prop_score_P0, color='blue', alpha=0.5)\n",
    "plt.scatter(win_prop_P01, prop_score_P01, color='blue', alpha=0.5)\n",
    "plt.scatter(win_prop_P02, prop_score_P02, color='blue', alpha=0.5)\n",
    "plt.scatter(win_prop_P03, prop_score_P03, color='blue', alpha=0.5)\n",
    "plt.scatter(win_prop_P04, prop_score_P04, color='blue', alpha=0.5)\n",
    "plt.scatter(win_prop_P05, prop_score_P05, color='blue', alpha=0.5)\n",
    "plt.scatter(win_prop_P06, prop_score_P06, color='blue', alpha=0.5)\n",
    "plt.scatter(win_prop_P07, prop_score_P07, color='blue', alpha=0.5)\n",
    "plt.scatter(win_prop_P08, prop_score_P08, color='blue', alpha=0.5)\n",
    "plt.scatter(win_prop_P09, prop_score_P09, color='blue', alpha=0.5)\n",
    "plt.scatter(win_prop_P011, prop_score_P011, color='blue', alpha=0.5)\n",
    "\n",
    "plt.gca().set_aspect(1)\n",
    "plt.ylim(0, 1)\n",
    "plt.xlim(0, 1)\n",
    "plt.xlabel('player wins/total trial num')\n",
    "plt.ylabel('final player score/total score')\n",
    "plt.grid(True)\n",
    "plt.show()"
   ]
  },
  {
   "cell_type": "code",
   "execution_count": null,
   "id": "f57c18cc-c0b0-4c3a-9586-6a323daaf58b",
   "metadata": {
    "scrolled": true
   },
   "outputs": [],
   "source": [
    "def plot_multiple_datasets(data_folder, json_filenames):\n",
    "\n",
    "    plt.figure(figsize=(14, 7))\n",
    "\n",
    "    for json_filename in json_filenames:\n",
    "        \n",
    "        df, trial_list = prepare_data.prepare_data(data_folder, [json_filename])\n",
    "\n",
    "####\n",
    "plot_multiple_datasets(data_folder, json_filenames)\n",
    "\n",
    "    \n",
    "        \n"
   ]
  },
  {
   "cell_type": "code",
   "execution_count": null,
   "id": "5f52ea5d-89d4-465d-b90f-60942b096b0f",
   "metadata": {},
   "outputs": [],
   "source": []
  }
 ],
 "metadata": {
  "kernelspec": {
   "display_name": "Python 3 (ipykernel)",
   "language": "python",
   "name": "python3"
  },
  "language_info": {
   "codemirror_mode": {
    "name": "ipython",
    "version": 3
   },
   "file_extension": ".py",
   "mimetype": "text/x-python",
   "name": "python",
   "nbconvert_exporter": "python",
   "pygments_lexer": "ipython3",
   "version": "3.13.0"
  }
 },
 "nbformat": 4,
 "nbformat_minor": 5
}
