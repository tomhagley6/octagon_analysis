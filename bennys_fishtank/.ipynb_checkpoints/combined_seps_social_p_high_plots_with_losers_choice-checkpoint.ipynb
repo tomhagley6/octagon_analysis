{
 "cells": [
  {
   "cell_type": "code",
   "execution_count": 1,
   "id": "f34b0f09-34c9-44f2-86f6-98b764942cb7",
   "metadata": {},
   "outputs": [
    {
     "name": "stdout",
     "output_type": "stream",
     "text": [
      "Added paths to sys.path: /Users/benny/Desktop/MSc/Project/Git/repos/main_copy /Users/benny/Desktop/MSc/Project/Git/repos/benny_dev_dir\n"
     ]
    }
   ],
   "source": [
    "import sys\n",
    "import os\n",
    "\n",
    "parent_dir = os.path.abspath(os.path.join(os.getcwd(), \"..\", \"..\"))\n",
    "main_copy_dir = os.path.join(parent_dir, \"main_copy\")\n",
    "benny_dev_dir = os.path.join(parent_dir, \"benny_dev_dir\")\n",
    "sys.path.append(main_copy_dir)\n",
    "sys.path.append(benny_dev_dir)\n",
    "\n",
    "print(\"Added paths to sys.path:\", main_copy_dir, benny_dev_dir)"
   ]
  },
  {
   "cell_type": "code",
   "execution_count": 4,
   "id": "225e9d51-fb69-4ea6-a8ee-4d934b270e67",
   "metadata": {},
   "outputs": [
    {
     "name": "stdout",
     "output_type": "stream",
     "text": [
      "The autoreload extension is already loaded. To reload it, use:\n",
      "  %reload_ext autoreload\n"
     ]
    }
   ],
   "source": [
    "#imports\n",
    "%load_ext autoreload\n",
    "%autoreload 2\n",
    "import json\n",
    "import numpy as np\n",
    "import pandas as pd\n",
    "import parse_data.prepare_data as prepare_data\n",
    "import parse_data.flip_rotate_trajectories as flip_rotate_trajectories\n",
    "import data_extraction.get_indices as get_indices\n",
    "import plotting.plot_trajectory as plot_trajectory\n",
    "import trajectory_analysis.trajectory_vectors as trajectory_vectors\n",
    "import trajectory_analysis.trajectory_headangle as trajectory_headangle\n",
    "import plotting.plot_octagon as plot_octagon\n",
    "import data_extraction.extract_trial as extract_trial\n",
    "import globals\n",
    "import scipy\n",
    "import math\n",
    "import parse_data.preprocess as preprocess\n",
    "import benny_dev.flip_rotate_headangle_functions as flip_rotate_headangle_functions\n",
    "import benny_dev.headangle_bin_assignment as headangle_bin_assignment\n",
    "import benny_dev.headangle_bin_assignment_new as headangle_bin_assignment_new\n",
    "import benny_dev.headangle_analysis_plotting_functions as headangle_analysis_plotting_functions\n",
    "import analysis.loser_inferred_choice as loser_inferred_choice\n",
    "import analysis.wall_choice as wall_choice\n",
    "import analysis.wall_visibility_and_choice as wall_visibility_and_choice\n",
    "import matplotlib.cm as cm"
   ]
  },
  {
   "cell_type": "code",
   "execution_count": 7,
   "id": "8d3d670c-2501-4703-9953-9e0b510b867d",
   "metadata": {},
   "outputs": [],
   "source": [
    "data_folder = '/Users/benny/Desktop/MSc/Project/Git/repos_backup/octagon_analysis'\n",
    "\n",
    "json_filenames_all_social = [r'Json_data/2024-11-19_15-22-56_SophiaHocineSocial.json',\n",
    "                                r'Json_data/2024-11-12_13-31-14_KhadijaWendySocial.json', \n",
    "                                r'Json_data/2024-12-19_15-28-24_JingjingYeungSocial.json', \n",
    "                                r'Json_data/2024-10-17_16-41-38_ZimoElsaSocial.json', \n",
    "                                r'Json_data/2025-01-15_15-21-27_YixuanMarcoSocial.json',\n",
    "                                r'Json_data/2024-11-13_14-18-54_NasiaRyanSocial.json', \n",
    "                                r'Json_data/2024-11-19_14-24-49_AmyXinyuanSocial.json', \n",
    "                                r'Json_data/2024-09-27_14-25-20_SaraEmilySocial.json', \n",
    "                                r'Json_data/2024-11-13_15-28-07_YichuanHoiSocial.json', \n",
    "                                r'Json_data/2024-11-20_15-16-21_SunnyVinceSocial.json', \n",
    "                                r'Json_data/2025-01-15_16-50-13_YuChunSecondSocial.json', \n",
    "                                r'Json_data/2024-11-12_15-23-24_FrancescaSenSzeSocial.json', \n",
    "                                r'Json_data/2024-10-17_14-28-40_ShamirAbigailSocial.json', \n",
    "                                r'Json_data/2024-09-13_11-31-00_YansuJerrySocial.json', \n",
    "                                r'Json_data/2024-11-20_14-17-44_JasonRahulSocial.json']\n",
    " \n",
    "json_filenames_all_solo = [r'Json_data/2024-12-20_17-36-54_ChristopherFirstSolo.json',\n",
    "                                r'Json_data/2025-01-15_15-12-39_MarcoFirstSolo.json',\n",
    "                                r'Json_data/2024-12-19_15-51-33_YeungSecondSolo.json',\n",
    "                                r'Json_data/2024-11-12_15-44-54_FrancescaSecondSolo.json',\n",
    "                                r'Json_data/2024-11-12_15-11-45_SenFirstSolo.json',\n",
    "                                r'Json_data/2024-11-20_15-39-49_VinceSecondSolo.json',\n",
    "                                r'Json_data/2024-11-19_14-18-18_AmyFirstSolo.json',\n",
    "                                r'Json_data/2024-11-12_15-45-35_SenSecondSolo.json',\n",
    "                                r'Json_data/2024-11-12_13-50-23_KhadijaSecondSolo.json',\n",
    "                                r'Json_data/2024-11-13_15-21-50_HoiFirstSolo.json',\n",
    "                                r'Json_data/2024-09-13_11-23-37_YansuFirstSolo.json',\n",
    "                                r'Json_data/2024-11-13_15-22-20_YichuanFirstSolo.json',\n",
    "                                r'Json_data/2024-11-20_15-10-17_VinceFirstSolo.json',\n",
    "                                r'Json_data/2025-01-15_16-14-40_YuChunFirstSolo.json',\n",
    "                                r'Json_data/2024-11-12_13-18-59_WendyFirstSolo.json',\n",
    "                                r'Json_data/2024-10-17_14-51-22_AbigailSecondSolo.json',\n",
    "                                r'Json_data/2024-09-13_11-53-56_JerrySecondSolo.json',\n",
    "                                r'Json_data/2024-09-27_14-14-42_EmilyFirstSolo.json',\n",
    "                                r'Json_data/2025-01-15_16-50-13_YuChunSecondSolo.json',\n",
    "                                r'Json_data/2024-11-12_13-50-20_WendySecondSolo.json',\n",
    "                                r'Json_data/2025-01-15_15-46-04_MarcoSecondSolo.json',\n",
    "                                r'Json_data/2024-10-17_14-20-50_AbigailFirstSolo.json',\n",
    "                                r'Json_data/2024-11-13_15-51-39_YichuanSecondSolo.json',\n",
    "                                r'Json_data/2024-11-20_14-41-56_RahulSecondSolo.json',\n",
    "                                r'Json_data/2024-10-17_14-20-28_ShamirFirstSolo.json',\n",
    "                                'Json_data/2025-01-15_15-47-11_YixuanSecondSolo.json',\n",
    "                                r'Json_data/2024-11-19_15-15-53_SophiaFirstSolo.json',\n",
    "                                r'Json_data/2025-01-15_16-50-37_RuiqingSecondSolo.json',\n",
    "                                r'Json_data/2024-11-20_15-40-08_SunnySecondSolo.json',\n",
    "                                r'Json_data/2024-09-27_14-14-31_SaraFirstSolo.json',\n",
    "                                r'Json_data/2024-09-27_14-45-46_EmilySecondSolo.json',\n",
    "                                r'Json_data/2024-11-12_13-19-22_KhadijaFirstSolo.json',\n",
    "                                r'Json_data/2024-11-12_15-13-34_FrancescaFirstSolo.json',\n",
    "                                r'Json_data/2024-11-19_15-47-53_SophiaSecondSolo.json',\n",
    "                                r'Json_data/2024-11-20_14-12-33_RahulFirstSolo.json',\n",
    "                                r'Json_data/2024-10-17_14-50-03_ShamirSecondSolo.json',\n",
    "                                r'Json_data/2024-09-13_11-53-34_YansuSecondSolo.json',\n",
    "                                r'Json_data/2024-10-17_17-12-29_ElsaSecondSolo.json',\n",
    "                                r'Json_data/2024-12-19_15-22-13_YeungFirstSolo.json',\n",
    "                                r'Json_data/2024-12-19_15-51-58_JingjingSecondSolo.json',\n",
    "                                r'Json_data/2024-11-13_15-51-16_HoiSecondSolo.json',\n",
    "                                r'Json_data/2024-11-19_14-18-44_XinyuanFirstSolo.json',\n",
    "                                r'Json_data/2024-12-20_18-06-44_ChristopherSecondSolo.json',\n",
    "                                r'Json_data/2024-10-17_16-35-45_ElsaFirstSolo.json',\n",
    "                                r'Json_data/2024-11-20_15-10-00_SunnyFirstSolo.json',\n",
    "                                r'Json_data/2024-11-19_14-44-31_XinyuanSecondSolo.json',\n",
    "                                r'Json_data/2024-11-20_14-12-06_JasonFirstSolo.json',\n",
    "                                r'Json_data/2024-12-20_17-36-27_KirtanFirstSolo.json',\n",
    "                                r'Json_data/2024-10-17_16-36-0_ZimoFirstSolo.json',\n",
    "                                r'Json_data/2024-09-27_14-45-55_SaraSecondSolo.json',\n",
    "                                r'Json_data/2024-10-17_17-11-46_ZimoSecondSolo.json',\n",
    "                                r'Json_data/2024-12-20_18-06-10_KirtanSecondSolo.json',\n",
    "                                r'Json_data/2025-01-15_16-14-58_RuiqingFirstSolo.json',\n",
    "                                r'Json_data/2024-11-19_15-14-19_HocineFirstSolo.json',\n",
    "                                r'Json_data/2024-11-20_14-42-16_JasonSecondSolo.json',\n",
    "                                r'Json_data/2024-12-19_15-20-18_JingjingFirstSolo.json',\n",
    "                                r'Json_data/2024-09-13_11-23-50_JerryFirstSolo.json',\n",
    "                                r'Json_data/2025-01-15_15-12-13_YixuanFirstSolo.json',\n",
    "                                r'Json_data/2024-11-19_15-47-29_HocineSecondSolo.json',\n",
    "                                r'Json_data/2024-11-19_14-44-00_AmySecondSolo.json']\n",
    "\n",
    "json_filename = r'Json_data/2024-11-12_13-50-23_KhadijaSecondSolo.json'\n",
    "\n"
   ]
  },
  {
   "cell_type": "code",
   "execution_count": null,
   "id": "67fa783b-9d41-4d4a-8ba4-28fb722a1b6f",
   "metadata": {
    "scrolled": true
   },
   "outputs": [],
   "source": [
    "#socials\n",
    "df, trial_list = prepare_data.prepare_combined_session_data(data_folder, json_filenames_all_social)"
   ]
  },
  {
   "cell_type": "code",
   "execution_count": 9,
   "id": "cfd11421-f49a-453b-b6e1-0d9160758815",
   "metadata": {},
   "outputs": [],
   "source": [
    "trial_list = trial_list[1:]  #remove buggy first trial from Sophia-Hocine Social"
   ]
  },
  {
   "cell_type": "code",
   "execution_count": 10,
   "id": "049be462-8ff1-44c2-ae1e-21a884b60417",
   "metadata": {},
   "outputs": [
    {
     "name": "stdout",
     "output_type": "stream",
     "text": [
      "1470\n",
      "678\n",
      "408\n",
      "384\n"
     ]
    }
   ],
   "source": [
    "#filter for specific trials\n",
    "\n",
    "#High-Low\n",
    "trial_list_indices = get_indices.get_trials_trialtype(trial_list, trial_type=globals.HIGH_LOW)\n",
    "trial_list_HL = [trial_list[i] for i in trial_list_indices]\n",
    "print(len(trial_list_HL))\n",
    "\n",
    "#45° wall separation\n",
    "single_wall_sep_trial_indices = get_indices.get_trials_with_wall_sep(trial_list_HL, wall_sep=1)\n",
    "trial_list_45_HL = [trial_list_HL[i] for i in single_wall_sep_trial_indices]\n",
    "print(len(trial_list_45_HL))\n",
    "\n",
    "#90° wall separation\n",
    "two_wall_sep_trial_indices = get_indices.get_trials_with_wall_sep(trial_list_HL, wall_sep=2)\n",
    "trial_list_90_HL = [trial_list_HL[i] for i in two_wall_sep_trial_indices]\n",
    "print(len(trial_list_90_HL))\n",
    "\n",
    "#90° wall separation\n",
    "four_wall_sep_trial_indices = get_indices.get_trials_with_wall_sep(trial_list_HL, wall_sep=4)\n",
    "trial_list_180_HL = [trial_list_HL[i] for i in four_wall_sep_trial_indices]\n",
    "print(len(trial_list_180_HL))\n"
   ]
  },
  {
   "cell_type": "code",
   "execution_count": 11,
   "id": "20bbf64f-1abb-4f46-80ae-b2b8f3f9a18a",
   "metadata": {},
   "outputs": [],
   "source": [
    "updated_trial_list = flip_rotate_headangle_functions.process_and_update_trials_both_players(trial_list_HL)"
   ]
  },
  {
   "cell_type": "code",
   "execution_count": 12,
   "id": "6de43681-61a6-4cdc-8121-fa14027be998",
   "metadata": {},
   "outputs": [],
   "source": [
    "#take whole trial list and update yaw & trajectory for both players\n",
    "#45\n",
    "updated_trial_list_45 = flip_rotate_headangle_functions.process_and_update_trials_both_players(trial_list_45_HL)"
   ]
  },
  {
   "cell_type": "code",
   "execution_count": 13,
   "id": "0feefc02-d1fa-4388-bb3a-12780d256b41",
   "metadata": {},
   "outputs": [],
   "source": [
    "#90\n",
    "updated_trial_list_90 = flip_rotate_headangle_functions.process_and_update_trials_both_players(trial_list_90_HL)"
   ]
  },
  {
   "cell_type": "code",
   "execution_count": 14,
   "id": "674f60ac-3114-4942-9ce6-41823adf8e01",
   "metadata": {},
   "outputs": [],
   "source": [
    "#180\n",
    "updated_trial_list_180 = flip_rotate_headangle_functions.process_and_update_trials_both_players(trial_list_180_HL)"
   ]
  },
  {
   "cell_type": "code",
   "execution_count": 52,
   "id": "57f56a09-c7e0-4580-be6b-7a51f69a9b3b",
   "metadata": {},
   "outputs": [],
   "source": [
    "#bin assignments for the whole trial list\n",
    "#45\n",
    "bin_assignments_45 = headangle_bin_assignment_new.assign_bins_to_all_trials(updated_trial_list_45)"
   ]
  },
  {
   "cell_type": "code",
   "execution_count": 55,
   "id": "f0fe9979-3218-44b1-8b09-863a44d45b5c",
   "metadata": {},
   "outputs": [],
   "source": [
    "bins_45_player0 = bin_assignments_45[0]\n",
    "bins_45_player1 = bin_assignments_45[1]"
   ]
  },
  {
   "cell_type": "code",
   "execution_count": 63,
   "id": "eb696716-77cd-494a-aafb-24681a67f0fa",
   "metadata": {},
   "outputs": [
    {
     "name": "stdout",
     "output_type": "stream",
     "text": [
      "Thetas empty, skipping trial\n",
      "Skipping bin assignment for trial 4, empty bin\n"
     ]
    }
   ],
   "source": [
    "#90\n",
    "bin_assignments_90 = headangle_bin_assignment_new.assign_bins_to_all_trials(updated_trial_list_90)"
   ]
  },
  {
   "cell_type": "code",
   "execution_count": 64,
   "id": "dd4d4fb7-e68b-420b-9857-a1ca150039e9",
   "metadata": {},
   "outputs": [],
   "source": [
    "bins_90_player0 = bin_assignments_90[0]\n",
    "bins_90_player1 = bin_assignments_90[1]"
   ]
  },
  {
   "cell_type": "code",
   "execution_count": 65,
   "id": "fecb129b-97de-41d0-be35-0d3fc983d895",
   "metadata": {},
   "outputs": [],
   "source": [
    "#180\n",
    "bin_assignments_180 = headangle_bin_assignment_new.assign_bins_to_all_trials(updated_trial_list_180)"
   ]
  },
  {
   "cell_type": "code",
   "execution_count": 66,
   "id": "a67ee47d-7d82-48ba-b7a9-ed812f420bfe",
   "metadata": {},
   "outputs": [],
   "source": [
    "bins_180_player0 = bin_assignments_180[0]\n",
    "bins_180_player1 = bin_assignments_180[1]"
   ]
  },
  {
   "cell_type": "code",
   "execution_count": null,
   "id": "ad90762e-fb03-453e-ad0b-e4b34b5a990c",
   "metadata": {},
   "outputs": [],
   "source": [
    "#get player wall choices from original trial list for both losses and wins\n",
    "#45\n",
    "choice_45_player0 = wall_visibility_and_choice.get_player_wall_choice(trial_list_45_HL, 0, inferred_choice=True, debug=True)"
   ]
  },
  {
   "cell_type": "code",
   "execution_count": null,
   "id": "8028e383-216c-461a-a8f4-b3c28b52de6b",
   "metadata": {},
   "outputs": [],
   "source": [
    "choice_45_player1 = wall_visibility_and_choice.get_player_wall_choice(trial_list_45_HL, 1, inferred_choice=True, debug=True)"
   ]
  },
  {
   "cell_type": "code",
   "execution_count": null,
   "id": "f0bb8f81-69e4-4ee0-820e-f39280aab5a5",
   "metadata": {},
   "outputs": [],
   "source": [
    "#90\n",
    "choice_90_player0 = wall_visibility_and_choice.get_player_wall_choice(trial_list_90_HL, 0, inferred_choice=True, debug=True)"
   ]
  },
  {
   "cell_type": "code",
   "execution_count": null,
   "id": "5f806c68-dee3-4240-9e5d-1e23cec2f3ed",
   "metadata": {},
   "outputs": [],
   "source": [
    "choice_90_player1 = wall_visibility_and_choice.get_player_wall_choice(trial_list_90_HL, 1, inferred_choice=True, debug=True)"
   ]
  },
  {
   "cell_type": "code",
   "execution_count": null,
   "id": "e376181b-7d85-49a2-b465-bc73145d7554",
   "metadata": {},
   "outputs": [],
   "source": [
    "#180\n",
    "choice_180_player0 = wall_visibility_and_choice.get_player_wall_choice(trial_list_180_HL, 0, inferred_choice=True, debug=True)"
   ]
  },
  {
   "cell_type": "code",
   "execution_count": null,
   "id": "83bfa51b-40c5-4c0a-88d6-d0c0f162cb0e",
   "metadata": {},
   "outputs": [],
   "source": [
    "choice_180_player1 = wall_visibility_and_choice.get_player_wall_choice(trial_list_180_HL, 1, inferred_choice=True, debug=True)"
   ]
  },
  {
   "cell_type": "code",
   "execution_count": 75,
   "id": "d9288f7a-4abf-4aee-be34-c4a2987b4766",
   "metadata": {},
   "outputs": [],
   "source": [
    "#check whether high wall was chosen\n",
    "#45\n",
    "high_wall_chosen_45_player0 = get_indices.was_given_wall_chosen(trial_list_45_HL, choice_45_player0, 0)"
   ]
  },
  {
   "cell_type": "code",
   "execution_count": 76,
   "id": "2e419395-4e47-48d7-9def-3934dbae6c6c",
   "metadata": {},
   "outputs": [],
   "source": [
    "high_wall_chosen_45_player1 = get_indices.was_given_wall_chosen(trial_list_45_HL, choice_45_player1, 0)"
   ]
  },
  {
   "cell_type": "code",
   "execution_count": 77,
   "id": "33073412-af78-4b45-8e44-ab6cca81e5e6",
   "metadata": {},
   "outputs": [],
   "source": [
    "high_wall_chosen_90_player0 = get_indices.was_given_wall_chosen(trial_list_90_HL, choice_90_player0, 0)"
   ]
  },
  {
   "cell_type": "code",
   "execution_count": 78,
   "id": "9b828697-8aab-449f-93b6-edf76d40ebf4",
   "metadata": {},
   "outputs": [],
   "source": [
    "high_wall_chosen_90_player1 = get_indices.was_given_wall_chosen(trial_list_90_HL, choice_90_player1, 0)"
   ]
  },
  {
   "cell_type": "code",
   "execution_count": 79,
   "id": "c94bcaab-2594-480f-85e5-cb682a07d518",
   "metadata": {},
   "outputs": [],
   "source": [
    "high_wall_chosen_180_player0 = get_indices.was_given_wall_chosen(trial_list_180_HL, choice_180_player0, 0)"
   ]
  },
  {
   "cell_type": "code",
   "execution_count": 80,
   "id": "8997fcca-be93-4e15-9d73-39371a8ac178",
   "metadata": {},
   "outputs": [],
   "source": [
    "high_wall_chosen_180_player1 = get_indices.was_given_wall_chosen(trial_list_180_HL, choice_180_player1, 0)"
   ]
  },
  {
   "cell_type": "code",
   "execution_count": 81,
   "id": "336a8046-ded7-4a1f-9145-de1c4cad04f3",
   "metadata": {
    "scrolled": true
   },
   "outputs": [
    {
     "name": "stdout",
     "output_type": "stream",
     "text": [
      "[0.8079268292682927, 0.7069486404833837, 0.48109965635738833, 0.4603174603174603, 0.49310344827586206, 0.5201465201465202, 0.6767676767676768, 0.7794117647058824]\n",
      "Bin 1: 0.81 (True/Total = 265/328)\n",
      "Bin 2: 0.71 (True/Total = 234/331)\n",
      "Bin 3: 0.48 (True/Total = 140/291)\n",
      "Bin 4: 0.46 (True/Total = 145/315)\n",
      "Bin 5: 0.49 (True/Total = 143/290)\n",
      "Bin 6: 0.52 (True/Total = 142/273)\n",
      "Bin 7: 0.68 (True/Total = 201/297)\n",
      "Bin 8: 0.78 (True/Total = 265/340)\n"
     ]
    }
   ],
   "source": [
    "#obtain ratios for how many times a given player chose high given their head angle bin at slice onset\n",
    "from collections import defaultdict\n",
    "\n",
    "#creating dictionaries to store the counts\n",
    "bin_total_counts = defaultdict(int)\n",
    "bin_true_counts = defaultdict(int)\n",
    "\n",
    "#match bin assignments to high wall chosen lists\n",
    "trial_data = [(bins_45_player0, high_wall_chosen_45_player0),\n",
    "              (bins_45_player1, high_wall_chosen_45_player1),\n",
    "              (bins_90_player0, high_wall_chosen_90_player0),\n",
    "              (bins_90_player1, high_wall_chosen_90_player1),\n",
    "              (bins_180_player0, high_wall_chosen_180_player0),\n",
    "              (bins_180_player1, high_wall_chosen_180_player1)]\n",
    "\n",
    "for bin_assignments, high_wall_chosen in trial_data:\n",
    "\n",
    "    for bin_index, is_high_wall_chosen in zip(bin_assignments, high_wall_chosen):\n",
    "\n",
    "        if np.isnan(is_high_wall_chosen):\n",
    "            continue\n",
    "            \n",
    "        bin_total_counts[bin_index] += 1\n",
    "        \n",
    "        if is_high_wall_chosen:\n",
    "            \n",
    "            bin_true_counts[bin_index] += 1\n",
    "\n",
    "#calculate probabilities\n",
    "probabilities = {bin_index: bin_true_counts[bin_index] / bin_total_counts[bin_index]\n",
    "                        for bin_index in sorted(bin_total_counts)}\n",
    "\n",
    "#convert the dictionary to a list of values\n",
    "#bin_probabilities_list_45 = list(probabilities_45.values())\n",
    "\n",
    "#order by bin index\n",
    "probabilities_list = [probabilities[bin_index] for bin_index in sorted(bin_total_counts)]\n",
    "\n",
    "print(probabilities_list)\n",
    "\n",
    "#print the results\n",
    "for bin_index, probability in sorted(probabilities.items()):\n",
    "    print(f\"Bin {bin_index}: {probability:.2f} (True/Total = {bin_true_counts[bin_index]}/{bin_total_counts[bin_index]})\")\n"
   ]
  },
  {
   "cell_type": "code",
   "execution_count": 82,
   "id": "c158673b-0c9a-4734-a499-efb2ac8511da",
   "metadata": {},
   "outputs": [
    {
     "name": "stdout",
     "output_type": "stream",
     "text": [
      "1535\n",
      "2467\n",
      "0.6222132144304824\n"
     ]
    }
   ],
   "source": [
    "#calculate average p(H) regardless of bin\n",
    "\n",
    "from collections import defaultdict\n",
    "\n",
    "#initialize counters for the total high wall choices and total trials overall\n",
    "true_counts = 0\n",
    "total_counts = 0\n",
    "\n",
    "#bin assignments and high wall chosen for all trial lists\n",
    "trial_data = [(bins_45_player0, high_wall_chosen_45_player0),\n",
    "              (bins_45_player1, high_wall_chosen_45_player1),\n",
    "              (bins_90_player0, high_wall_chosen_90_player0),\n",
    "              (bins_90_player1, high_wall_chosen_90_player1),\n",
    "              (bins_180_player0, high_wall_chosen_180_player0),\n",
    "              (bins_180_player1, high_wall_chosen_180_player1)]\n",
    "\n",
    "\n",
    "#iterate through all provided trial lists\n",
    "for bin_assignments, high_wall_chosen in trial_data:\n",
    "\n",
    "    #iterate over both lists simultaneously for the current trial list\n",
    "    for is_high_wall_chosen in high_wall_chosen:\n",
    "\n",
    "        if np.isnan(is_high_wall_chosen):  \n",
    "            continue         \n",
    "        \n",
    "        total_counts += 1  #increment total trial count for the bin\n",
    "        \n",
    "        if is_high_wall_chosen:          #increment True count if high wall is chosen\n",
    "            true_counts += 1\n",
    "\n",
    "#calculate the average ratio \n",
    "print(true_counts)\n",
    "print(total_counts)\n",
    "overall_probability = true_counts / total_counts\n",
    "\n",
    "print(overall_probability)\n"
   ]
  },
  {
   "cell_type": "code",
   "execution_count": 83,
   "id": "ca9adc36-a57d-46f0-9056-e42e851fa7c1",
   "metadata": {},
   "outputs": [
    {
     "name": "stdout",
     "output_type": "stream",
     "text": [
      "[0.18571361483781035, 0.0847354260529013, -0.14111355807309406, -0.1618957541130221, -0.12910976615462033, -0.1020666942839622, 0.05455446233719441, 0.15719855027539997]\n"
     ]
    }
   ],
   "source": [
    "#obtain difference between p(H) given bin and average p(H)\n",
    "new_probabilities_list = [probability - overall_probability for probability in probabilities_list]\n",
    "print(new_probabilities_list)\n"
   ]
  },
  {
   "cell_type": "code",
   "execution_count": 84,
   "id": "60c5183c-07b9-4afb-9b85-6e52e56dd61d",
   "metadata": {},
   "outputs": [
    {
     "name": "stdout",
     "output_type": "stream",
     "text": [
      "(2, 8)\n"
     ]
    },
    {
     "data": {
      "image/png": "[encoded data removed]",
      "text/plain": [
       "<Figure size 640x480 with 1 Axes>"
      ]
     },
     "metadata": {},
     "output_type": "display_data"
    }
   ],
   "source": [
    "#45\n",
    "import matplotlib.pyplot as plt\n",
    "\n",
    "#plot octagon with new ratios list \n",
    "ax = plot_octagon.plot_octagon()\n",
    "\n",
    "#plot the ratios under the alcoves\n",
    "ax = headangle_analysis_plotting_functions.plot_ratios_under_alcoves(ax, new_probabilities_list)\n",
    "\n",
    "plt.show()\n"
   ]
  },
  {
   "cell_type": "code",
   "execution_count": 85,
   "id": "2c696e6a-0566-4833-b8ed-d266969417ff",
   "metadata": {},
   "outputs": [
    {
     "name": "stdout",
     "output_type": "stream",
     "text": [
      "[(np.float64(5.8904862254808625), np.float64(0.3926990816987242)), (np.float64(0.39269908169872414), np.float64(1.1780972450961724)), (np.float64(1.1780972450961726), np.float64(1.963495408493621)), (np.float64(1.9634954084936211), np.float64(2.7488935718910694)), (np.float64(2.748893571891069), np.float64(3.5342917352885173)), (np.float64(3.5342917352885173), np.float64(4.319689898685965)), (np.float64(4.319689898685965), np.float64(5.105088062083414)), (np.float64(5.105088062083414), np.float64(5.890486225480862))]\n"
     ]
    }
   ],
   "source": [
    "bin_ranges = headangle_bin_assignment.define_45_degree_bins()\n",
    "print(bin_ranges)"
   ]
  },
  {
   "cell_type": "code",
   "execution_count": 86,
   "id": "2455982a-0c46-4d9d-acf1-0ded43c5d76f",
   "metadata": {},
   "outputs": [
    {
     "name": "stdout",
     "output_type": "stream",
     "text": [
      "(2, 8)\n"
     ]
    },
    {
     "data": {
      "image/png": "[encoded data removed]",
      "text/plain": [
       "<Figure size 600x600 with 2 Axes>"
      ]
     },
     "metadata": {},
     "output_type": "display_data"
    },
    {
     "name": "stdout",
     "output_type": "stream",
     "text": [
      "[0.18571361483781035, 0.0847354260529013, -0.14111355807309406, -0.1618957541130221, -0.12910976615462033, -0.1020666942839622, 0.05455446233719441, 0.15719855027539997]\n"
     ]
    }
   ],
   "source": [
    "#combined socials\n",
    "#plot color gradient octagon for new ratios list\n",
    "\n",
    "fig, ax = plt.subplots(figsize=(6, 6))\n",
    "\n",
    "#plot octagon\n",
    "ax = plot_octagon.plot_octagon(ax=ax)\n",
    "\n",
    "#define bin_ranges\n",
    "bin_ranges = bin_ranges\n",
    "\n",
    "\n",
    "#define ratios list\n",
    "#probabilities_list_reversed = probabilities_list[::-1]\n",
    "\n",
    "#color the segments of the octagon\n",
    "ax = headangle_analysis_plotting_functions.plot_colored_octagon(ax, bin_ranges, new_probabilities_list)\n",
    "\n",
    "#plot the ratios under the alcoves\n",
    "ax = headangle_analysis_plotting_functions.plot_ratios_under_alcoves(ax, new_probabilities_list)\n",
    "\n",
    "\n",
    "#add a colorbar for reference\n",
    "sm = plt.cm.ScalarMappable(cmap=plt.cm.plasma, norm=plt.Normalize(vmax=max(new_probabilities_list), vmin=min(new_probabilities_list)))\n",
    "sm.set_array([])  # Only necessary for ScalarMappable\n",
    "cbar = plt.colorbar(sm, ax=ax, shrink=0.8)\n",
    "cbar.set_label(\"P(H) - avg(P(H))\", fontsize=13, rotation=270, labelpad=15)\n",
    "\n",
    "rounded_prob = round(overall_probability, 2)\n",
    "plt.title(f\"P(H) = {rounded_prob}\", fontsize=14)\n",
    "plt.axis('equal')\n",
    "plt.axis('off')\n",
    "plt.show()\n",
    "print(new_probabilities_list)"
   ]
  },
  {
   "cell_type": "code",
   "execution_count": null,
   "id": "17629368-2aad-43cb-9780-df288c0aacca",
   "metadata": {},
   "outputs": [],
   "source": []
  }
 ],
 "metadata": {
  "kernelspec": {
   "display_name": "Python 3 (ipykernel)",
   "language": "python",
   "name": "python3"
  },
  "language_info": {
   "codemirror_mode": {
    "name": "ipython",
    "version": 3
   },
   "file_extension": ".py",
   "mimetype": "text/x-python",
   "name": "python",
   "nbconvert_exporter": "python",
   "pygments_lexer": "ipython3",
   "version": "3.13.0"
  }
 },
 "nbformat": 4,
 "nbformat_minor": 5
}
