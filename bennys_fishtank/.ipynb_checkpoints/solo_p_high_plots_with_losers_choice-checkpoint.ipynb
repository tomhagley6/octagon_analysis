{
 "cells": [
  {
   "cell_type": "code",
   "execution_count": 1,
   "id": "225e9d51-fb69-4ea6-a8ee-4d934b270e67",
   "metadata": {},
   "outputs": [],
   "source": [
    "#imports\n",
    "%load_ext autoreload\n",
    "%autoreload 2\n",
    "import json\n",
    "import numpy as np\n",
    "import pandas as pd\n",
    "import parse_data.prepare_data as prepare_data\n",
    "import parse_data.flip_rotate_trajectories as flip_rotate_trajectories\n",
    "import data_extraction.get_indices as get_indices\n",
    "import plotting.plot_trajectory as plot_trajectory\n",
    "import trajectory_analysis.trajectory_vectors as trajectory_vectors\n",
    "import trajectory_analysis.trajectory_headangle as trajectory_headangle\n",
    "import plotting.plot_octagon as plot_octagon\n",
    "import data_extraction.extract_trial as extract_trial\n",
    "import globals\n",
    "import scipy\n",
    "import math\n",
    "import parse_data.preprocess as preprocess\n",
    "import flip_rotate_headangle_functions\n",
    "import headangle_bin_assignment\n",
    "import headangle_bin_assignment_new\n",
    "import headangle_analysis_plotting_functions\n",
    "import analysis.loser_inferred_choice as loser_inferred_choice\n",
    "import analysis.wall_choice as wall_choice\n",
    "import analysis.wall_visibility_and_choice as wall_visibility_and_choice\n",
    "import matplotlib.cm as cm"
   ]
  },
  {
   "cell_type": "code",
   "execution_count": 90,
   "id": "8d3d670c-2501-4703-9953-9e0b510b867d",
   "metadata": {},
   "outputs": [],
   "source": [
    "data_folder = '/Users/benny/Desktop/MSc/Project/Git/repos/octagon_analysis'\n",
    "\n",
    "json_filenames_all_social = [r'Json_data/2024-11-19_15-22-56_SophiaHocineSocial.json',\n",
    "                                r'Json_data/2024-11-12_13-31-14_KhadijaWendySocial.json', \n",
    "                                r'Json_data/2024-12-19_15-28-24_JingjingYeungSocial.json', \n",
    "                                r'Json_data/2024-10-17_16-41-38_ZimoElsaSocial.json', \n",
    "                                r'Json_data/2025-01-15_15-21-27_YixuanMarcoSocial.json',\n",
    "                                r'Json_data/2024-11-13_14-18-54_NasiaRyanSocial.json', \n",
    "                                r'Json_data/2024-11-19_14-24-49_AmyXinyuanSocial.json', \n",
    "                                r'Json_data/2024-09-27_14-25-20_SaraEmilySocial.json', \n",
    "                                r'Json_data/2024-11-13_15-28-07_YichuanHoiSocial.json', \n",
    "                                r'Json_data/2024-11-20_15-16-21_SunnyVinceSocial.json', \n",
    "                                r'Json_data/2025-01-15_16-50-13_YuChunSecondSocial.json', \n",
    "                                r'Json_data/2024-11-12_15-23-24_FrancescaSenSzeSocial.json', \n",
    "                                r'Json_data/2024-10-17_14-28-40_ShamirAbigailSocial.json', \n",
    "                                r'Json_data/2024-09-13_11-31-00_YansuJerrySocial.json', \n",
    "                                r'Json_data/2024-11-20_14-17-44_JasonRahulSocial.json']\n",
    " \n",
    "json_filenames_all_solo = [r'Json_data/2024-12-20_17-36-54_ChristopherFirstSolo.json',\n",
    "                                r'Json_data/2025-01-15_15-12-39_MarcoFirstSolo.json',\n",
    "                                r'Json_data/2024-12-19_15-51-33_YeungSecondSolo.json',\n",
    "                                r'Json_data/2024-11-12_15-44-54_FrancescaSecondSolo.json',\n",
    "                                r'Json_data/2024-11-12_15-11-45_SenFirstSolo.json',\n",
    "                                r'Json_data/2024-11-20_15-39-49_VinceSecondSolo.json',\n",
    "                                r'Json_data/2024-11-19_14-18-18_AmyFirstSolo.json',\n",
    "                                r'Json_data/2024-11-12_15-45-35_SenSecondSolo.json',\n",
    "                                r'Json_data/2024-11-12_13-50-23_KhadijaSecondSolo.json',\n",
    "                                r'Json_data/2024-11-13_15-21-50_HoiFirstSolo.json',\n",
    "                                r'Json_data/2024-09-13_11-23-37_YansuFirstSolo.json',\n",
    "                                r'Json_data/2024-11-13_15-22-20_YichuanFirstSolo.json',\n",
    "                                r'Json_data/2024-11-20_15-10-17_VinceFirstSolo.json',\n",
    "                                r'Json_data/2025-01-15_16-14-40_YuChunFirstSolo.json',\n",
    "                                r'Json_data/2024-11-12_13-18-59_WendyFirstSolo.json',\n",
    "                                r'Json_data/2024-10-17_14-51-22_AbigailSecondSolo.json',\n",
    "                                r'Json_data/2024-09-13_11-53-56_JerrySecondSolo.json',\n",
    "                                r'Json_data/2024-09-27_14-14-42_EmilyFirstSolo.json',\n",
    "                                r'Json_data/2025-01-15_16-50-13_YuChunSecondSolo.json',\n",
    "                                r'Json_data/2024-11-12_13-50-20_WendySecondSolo.json',\n",
    "                                r'Json_data/2025-01-15_15-46-04_MarcoSecondSolo.json',\n",
    "                                r'Json_data/2024-10-17_14-20-50_AbigailFirstSolo.json',\n",
    "                                r'Json_data/2024-11-13_15-51-39_YichuanSecondSolo.json',\n",
    "                                r'Json_data/2024-11-20_14-41-56_RahulSecondSolo.json',\n",
    "                                r'Json_data/2024-10-17_14-20-28_ShamirFirstSolo.json',\n",
    "                                'Json_data/2025-01-15_15-47-11_YixuanSecondSolo.json',\n",
    "                                r'Json_data/2024-11-19_15-15-53_SophiaFirstSolo.json',\n",
    "                                r'Json_data/2025-01-15_16-50-37_RuiqingSecondSolo.json',\n",
    "                                r'Json_data/2024-11-20_15-40-08_SunnySecondSolo.json',\n",
    "                                r'Json_data/2024-09-27_14-14-31_SaraFirstSolo.json',\n",
    "                                r'Json_data/2024-09-27_14-45-46_EmilySecondSolo.json',\n",
    "                                r'Json_data/2024-11-12_13-19-22_KhadijaFirstSolo.json',\n",
    "                                r'Json_data/2024-11-12_15-13-34_FrancescaFirstSolo.json',\n",
    "                                r'Json_data/2024-11-19_15-47-53_SophiaSecondSolo.json',\n",
    "                                r'Json_data/2024-11-20_14-12-33_RahulFirstSolo.json',\n",
    "                                r'Json_data/2024-10-17_14-50-03_ShamirSecondSolo.json',\n",
    "                                r'Json_data/2024-09-13_11-53-34_YansuSecondSolo.json',\n",
    "                                r'Json_data/2024-10-17_17-12-29_ElsaSecondSolo.json',\n",
    "                                r'Json_data/2024-12-19_15-22-13_YeungFirstSolo.json',\n",
    "                                r'Json_data/2024-12-19_15-51-58_JingjingSecondSolo.json',\n",
    "                                r'Json_data/2024-11-13_15-51-16_HoiSecondSolo.json',\n",
    "                                r'Json_data/2024-11-19_14-18-44_XinyuanFirstSolo.json',\n",
    "                                r'Json_data/2024-12-20_18-06-44_ChristopherSecondSolo.json',\n",
    "                                r'Json_data/2024-10-17_16-35-45_ElsaFirstSolo.json',\n",
    "                                r'Json_data/2024-11-20_15-10-00_SunnyFirstSolo.json',\n",
    "                                r'Json_data/2024-11-19_14-44-31_XinyuanSecondSolo.json',\n",
    "                                r'Json_data/2024-11-20_14-12-06_JasonFirstSolo.json',\n",
    "                                r'Json_data/2024-12-20_17-36-27_KirtanFirstSolo.json',\n",
    "                                r'Json_data/2024-10-17_16-36-0_ZimoFirstSolo.json',\n",
    "                                r'Json_data/2024-09-27_14-45-55_SaraSecondSolo.json',\n",
    "                                r'Json_data/2024-10-17_17-11-46_ZimoSecondSolo.json',\n",
    "                                r'Json_data/2024-12-20_18-06-10_KirtanSecondSolo.json',\n",
    "                                r'Json_data/2025-01-15_16-14-58_RuiqingFirstSolo.json',\n",
    "                                r'Json_data/2024-11-19_15-14-19_HocineFirstSolo.json',\n",
    "                                r'Json_data/2024-11-20_14-42-16_JasonSecondSolo.json',\n",
    "                                r'Json_data/2024-12-19_15-20-18_JingjingFirstSolo.json',\n",
    "                                r'Json_data/2024-09-13_11-23-50_JerryFirstSolo.json',\n",
    "                                r'Json_data/2025-01-15_15-12-13_YixuanFirstSolo.json',\n",
    "                                r'Json_data/2024-11-19_15-47-29_HocineSecondSolo.json',\n",
    "                                r'Json_data/2024-11-19_14-44-00_AmySecondSolo.json']\n",
    "\n",
    "json_filename = r'Json_data/2024-11-12_13-50-23_KhadijaSecondSolo.json'\n",
    "\n"
   ]
  },
  {
   "cell_type": "code",
   "execution_count": 200,
   "id": "7da26804-ba36-449b-99b5-c3ed828edc48",
   "metadata": {
    "collapsed": true,
    "jupyter": {
     "outputs_hidden": true
    }
   },
   "outputs": [
    {
     "name": "stdout",
     "output_type": "stream",
     "text": [
      "r'Json_data/2024-12-20_17-36-54_ChristopherFirstSolo.json',\n",
      "r'Json_data/2025-01-15_15-12-39_MarcoFirstSolo.json',\n",
      "r'Json_data/2024-12-19_15-51-33_YeungSecondSolo.json',\n",
      "r'Json_data/2024-11-12_15-44-54_FrancescaSecondSolo.json',\n",
      "r'Json_data/2024-11-12_15-11-45_SenFirstSolo.json',\n",
      "r'Json_data/2024-11-20_15-39-49_VinceSecondSolo.json',\n",
      "r'Json_data/2024-11-19_14-18-18_AmyFirstSolo.json',\n",
      "r'Json_data/2024-11-12_15-45-35_SenSecondSolo.json',\n",
      "r'Json_data/2024-11-12_13-50-23_KhadijaSecondSolo.json',\n",
      "r'Json_data/2024-11-13_15-21-50_HoiFirstSolo.json',\n",
      "r'Json_data/2024-09-13_11-23-37_YansuFirstSolo.json',\n",
      "r'Json_data/2024-11-13_15-22-20_YichuanFirstSolo.json',\n",
      "r'Json_data/2024-11-20_15-10-17_VinceFirstSolo.json',\n",
      "r'Json_data/2025-01-15_16-14-40_YuChunFirstSolo.json',\n",
      "r'Json_data/2024-11-12_13-18-59_WendyFirstSolo.json',\n",
      "r'Json_data/2024-10-17_14-51-22_AbigailSecondSolo.json',\n",
      "r'Json_data/2024-09-13_11-53-56_JerrySecondSolo.json',\n",
      "r'Json_data/2024-09-27_14-14-42_EmilyFirstSolo.json',\n",
      "r'Json_data/2025-01-15_16-50-13_YuChunSecondSolo.json',\n",
      "r'Json_data/2024-11-12_13-50-20_WendySecondSolo.json',\n",
      "r'Json_data/2025-01-15_15-46-04_MarcoSecondSolo.json',\n",
      "r'Json_data/2024-10-17_14-20-50_AbigailFirstSolo.json',\n",
      "r'Json_data/2024-11-13_15-51-39_YichuanSecondSolo.json',\n",
      "r'Json_data/2024-11-20_14-41-56_RahulSecondSolo.json',\n",
      "r'Json_data/2024-10-17_14-20-28_ShamirFirstSolo.json',\n",
      "r'Json_data/2025-01-15_15-47-11_YixuanSecondSolo.json',\n",
      "r'Json_data/2024-11-19_15-15-53_SophiaFirstSolo.json',\n",
      "r'Json_data/2025-01-15_16-50-37_RuiqingSecondSolo.json',\n",
      "r'Json_data/2024-11-20_15-40-08_SunnySecondSolo.json',\n",
      "r'Json_data/2024-09-27_14-14-31_SaraFirstSolo.json',\n",
      "r'Json_data/2024-09-27_14-45-46_EmilySecondSolo.json',\n",
      "r'Json_data/2024-11-12_13-19-22_KhadijaFirstSolo.json',\n",
      "r'Json_data/2024-11-12_15-13-34_FrancescaFirstSolo.json',\n",
      "r'Json_data/2024-11-19_15-47-53_SophiaSecondSolo.json',\n",
      "r'Json_data/2024-11-20_14-12-33_RahulFirstSolo.json',\n",
      "r'Json_data/2024-10-17_14-50-03_ShamirSecondSolo.json',\n",
      "r'Json_data/2024-09-13_11-53-34_YansuSecondSolo.json',\n",
      "r'Json_data/2024-10-17_17-12-29_ElsaSecondSolo.json',\n",
      "r'Json_data/2024-12-19_15-22-13_YeungFirstSolo.json',\n",
      "r'Json_data/2024-12-19_15-51-58_JingjingSecondSolo.json',\n",
      "r'Json_data/2024-11-13_15-51-16_HoiSecondSolo.json',\n",
      "r'Json_data/2024-11-19_14-18-44_XinyuanFirstSolo.json',\n",
      "r'Json_data/2024-12-20_18-06-44_ChristopherSecondSolo.json',\n",
      "r'Json_data/2024-10-17_16-35-45_ElsaFirstSolo.json',\n",
      "r'Json_data/2024-11-20_15-10-00_SunnyFirstSolo.json',\n",
      "r'Json_data/2024-11-19_14-44-31_XinyuanSecondSolo.json',\n",
      "r'Json_data/2024-11-20_14-12-06_JasonFirstSolo.json',\n",
      "r'Json_data/2024-12-20_17-36-27_KirtanFirstSolo.json',\n",
      "r'Json_data/2024-10-17_16-36-0_ZimoFirstSolo.json',\n",
      "r'Json_data/2024-09-27_14-45-55_SaraSecondSolo.json',\n",
      "r'Json_data/2024-10-17_17-11-46_ZimoSecondSolo.json',\n",
      "r'Json_data/2024-12-20_18-06-10_KirtanSecondSolo.json',\n",
      "r'Json_data/2025-01-15_16-14-58_RuiqingFirstSolo.json',\n",
      "r'Json_data/2024-11-19_15-14-19_HocineFirstSolo.json',\n",
      "r'Json_data/2024-11-20_14-42-16_JasonSecondSolo.json',\n",
      "r'Json_data/2024-12-19_15-20-18_JingjingFirstSolo.json',\n",
      "r'Json_data/2024-09-13_11-23-50_JerryFirstSolo.json',\n",
      "r'Json_data/2025-01-15_15-12-13_YixuanFirstSolo.json',\n",
      "r'Json_data/2024-11-19_15-47-29_HocineSecondSolo.json',\n",
      "r'Json_data/2024-11-19_14-44-00_AmySecondSolo.json'\n"
     ]
    }
   ],
   "source": [
    "import os\n",
    "\n",
    "folder_path = \"/Users/benny/Desktop/MSc/Project/Git/repos/octagon_analysis/Json_data\" \n",
    "\n",
    "# List all files in the folder and filter those ending with \"Solo.json\"\n",
    "json_files = [f for f in os.listdir(folder_path) if f.endswith(\"Solo.json\")]\n",
    "\n",
    "print(\",\\n\".join(rf\"r'Json_data/{file}'\" for file in json_files))"
   ]
  },
  {
   "cell_type": "code",
   "execution_count": null,
   "id": "957a0fdf-bf2f-4355-b880-7eba599c0b98",
   "metadata": {},
   "outputs": [],
   "source": [
    "#test list\n",
    "ds, single_session = prepare_data.prepare_data(data_folder, json_filename)"
   ]
  },
  {
   "cell_type": "code",
   "execution_count": 93,
   "id": "29c9b677-d9ee-44fe-becf-382faa4b83a9",
   "metadata": {},
   "outputs": [
    {
     "data": {
      "text/plain": [
       "28"
      ]
     },
     "execution_count": 93,
     "metadata": {},
     "output_type": "execute_result"
    }
   ],
   "source": [
    "len(single_session)"
   ]
  },
  {
   "cell_type": "code",
   "execution_count": null,
   "id": "a6ff242f-13f0-41c1-b0e6-8adbe88c378b",
   "metadata": {},
   "outputs": [],
   "source": [
    "#note: 2025-01-15_16-50-37_RuiqingSecondSolo.json - last line deleted (null values)"
   ]
  },
  {
   "cell_type": "code",
   "execution_count": null,
   "id": "dc77de95-6d9a-464f-92ab-8997415b4842",
   "metadata": {},
   "outputs": [],
   "source": [
    "dfs, solo_list = prepare_data.prepare_combined_session_data(data_folder, json_filenames_all_solo)"
   ]
  },
  {
   "cell_type": "code",
   "execution_count": 209,
   "id": "c7b1c459-0e5f-4092-8b2f-fda8d1eb3f77",
   "metadata": {},
   "outputs": [
    {
     "data": {
      "text/plain": [
       "2119"
      ]
     },
     "execution_count": 209,
     "metadata": {},
     "output_type": "execute_result"
    }
   ],
   "source": [
    "len(solo_list)"
   ]
  },
  {
   "cell_type": "code",
   "execution_count": null,
   "id": "67fa783b-9d41-4d4a-8ba4-28fb722a1b6f",
   "metadata": {
    "scrolled": true
   },
   "outputs": [],
   "source": [
    "#socials\n",
    "df, trial_list = prepare_data.prepare_combined_session_data(data_folder, json_filenames_all_social)"
   ]
  },
  {
   "cell_type": "code",
   "execution_count": 205,
   "id": "cfd11421-f49a-453b-b6e1-0d9160758815",
   "metadata": {},
   "outputs": [],
   "source": [
    "trial_list = trial_list[1:]  #remove buggy first trial from Sophia-Hocine Social"
   ]
  },
  {
   "cell_type": "code",
   "execution_count": 94,
   "id": "049be462-8ff1-44c2-ae1e-21a884b60417",
   "metadata": {},
   "outputs": [
    {
     "name": "stdout",
     "output_type": "stream",
     "text": [
      "1668\n",
      "690\n",
      "510\n",
      "468\n"
     ]
    }
   ],
   "source": [
    "#filter for specific trials\n",
    "#cutting trial of index 21 in the KhadjaSecondSolo single_session list and index 355 in solo_list\n",
    "#short trial not returning thetas - presumably because trajectory is too short to perform head angle smoothing\n",
    "solo_list = [trial for i, trial in enumerate(solo_list) if i != 355]\n",
    "\n",
    "#High-Low\n",
    "trial_list_indices = get_indices.get_trials_trialtype(solo_list, trial_type=globals.HIGH_LOW)\n",
    "trial_list_HL = [solo_list[i] for i in trial_list_indices]\n",
    "print(len(trial_list_HL))\n",
    "\n",
    "#45° wall separation\n",
    "single_wall_sep_trial_indices = get_indices.get_trials_with_wall_sep(trial_list_HL, wall_sep=1)\n",
    "trial_list_45_HL = [trial_list_HL[i] for i in single_wall_sep_trial_indices]\n",
    "print(len(trial_list_45_HL))\n",
    "\n",
    "#90° wall separation\n",
    "two_wall_sep_trial_indices = get_indices.get_trials_with_wall_sep(trial_list_HL, wall_sep=2)\n",
    "trial_list_90_HL = [trial_list_HL[i] for i in two_wall_sep_trial_indices]\n",
    "print(len(trial_list_90_HL))\n",
    "\n",
    "#90° wall separation\n",
    "four_wall_sep_trial_indices = get_indices.get_trials_with_wall_sep(trial_list_HL, wall_sep=4)\n",
    "trial_list_180_HL = [trial_list_HL[i] for i in four_wall_sep_trial_indices]\n",
    "print(len(trial_list_180_HL))\n"
   ]
  },
  {
   "cell_type": "code",
   "execution_count": 95,
   "id": "6de43681-61a6-4cdc-8121-fa14027be998",
   "metadata": {},
   "outputs": [],
   "source": [
    "#take whole trial list and update yaw & trajectory for both players\n",
    "#45\n",
    "updated_trial_list_45 = flip_rotate_headangle_functions.process_and_update_trials_both_players(trial_list_45_HL)"
   ]
  },
  {
   "cell_type": "code",
   "execution_count": 96,
   "id": "0feefc02-d1fa-4388-bb3a-12780d256b41",
   "metadata": {},
   "outputs": [],
   "source": [
    "#90\n",
    "updated_trial_list_90 = flip_rotate_headangle_functions.process_and_update_trials_both_players(trial_list_90_HL)"
   ]
  },
  {
   "cell_type": "code",
   "execution_count": 97,
   "id": "674f60ac-3114-4942-9ce6-41823adf8e01",
   "metadata": {},
   "outputs": [],
   "source": [
    "#180\n",
    "updated_trial_list_180 = flip_rotate_headangle_functions.process_and_update_trials_both_players(trial_list_180_HL)"
   ]
  },
  {
   "cell_type": "code",
   "execution_count": 110,
   "id": "7d97ee01-4757-42ad-8f36-3b6881a9e0e5",
   "metadata": {},
   "outputs": [],
   "source": [
    "#checking head angle and trajectory correspondence\n",
    "trial_example = trial_list_45_HL[0]\n",
    "example_trajectory = trajectory_vectors.extract_trial_player_trajectory(trial=trial_example, player_id=0)\n",
    "example_headangles = trajectory_vectors.extract_trial_player_headangles(trial=trial_example, player_id=0)"
   ]
  },
  {
   "cell_type": "code",
   "execution_count": null,
   "id": "6accff85-61a8-42b3-8d50-76d199937261",
   "metadata": {},
   "outputs": [],
   "source": [
    "print(example_trajectory)"
   ]
  },
  {
   "cell_type": "code",
   "execution_count": null,
   "id": "a6e30064-c5c0-4044-a094-2b7fe4c8a767",
   "metadata": {},
   "outputs": [],
   "source": [
    "print(example_headangles)"
   ]
  },
  {
   "cell_type": "code",
   "execution_count": 113,
   "id": "da5b4c93-6051-4e7c-9917-b1217482b619",
   "metadata": {},
   "outputs": [],
   "source": [
    "#checking head angle and trajectory correspondence\n",
    "updated_example = updated_trial_list[0]\n",
    "updated_trajectory = trajectory_vectors.extract_trial_player_trajectory(trial=updated_example, player_id=0)\n",
    "updated_headangles = trajectory_vectors.extract_trial_player_headangles(trial=updated_example, player_id=0)\n"
   ]
  },
  {
   "cell_type": "code",
   "execution_count": null,
   "id": "d55f46c7-e6d3-4a37-bdad-f314cd76b4aa",
   "metadata": {},
   "outputs": [],
   "source": [
    "print(updated_trajectory)"
   ]
  },
  {
   "cell_type": "code",
   "execution_count": null,
   "id": "e7454faa-ea89-442a-b0b3-7c5177877a00",
   "metadata": {
    "scrolled": true
   },
   "outputs": [],
   "source": [
    "print(updated_headangles)"
   ]
  },
  {
   "cell_type": "code",
   "execution_count": 118,
   "id": "0c0f22d9-cbaf-40e5-be74-ff5152ccdd7f",
   "metadata": {},
   "outputs": [],
   "source": [
    "#plotting updated headangles to check logic\n",
    "trial_player_headangles = trajectory_headangle.get_player_headangle_vectors_for_trial(example_headangles)\n",
    "trial_player_headangles_smoothed = trajectory_headangle.get_smoothed_player_head_angle_vectors_for_trial(example_headangles, window_size=5, debug=False)\n",
    "trajectory = example_trajectory"
   ]
  },
  {
   "cell_type": "code",
   "execution_count": 119,
   "id": "4f9b8bf6-1fe3-49ff-bb9e-f2866d519324",
   "metadata": {
    "collapsed": true,
    "jupyter": {
     "outputs_hidden": true,
     "source_hidden": true
    }
   },
   "outputs": [
    {
     "data": {
      "image/png": "[encoded data removed]",
      "text/plain": [
       "<Figure size 640x480 with 1 Axes>"
      ]
     },
     "metadata": {},
     "output_type": "display_data"
    }
   ],
   "source": [
    "## Find the average head angle vector at all points throughout trajectory \n",
    "ax = plot_octagon.plot_octagon()\n",
    "ax.scatter(trajectory[0,:], trajectory[1,:], s=0.5)\n",
    "\n",
    "for time_index in range(0, trial_player_headangles_smoothed.shape[1],3):\n",
    "    x_start = trajectory[0,time_index]\n",
    "    y_start = trajectory[1,time_index]\n",
    "    x_gradient = trial_player_headangles_smoothed[0,time_index]\n",
    "    y_gradient = trial_player_headangles_smoothed[1,time_index]\n",
    "    vector_length = 3\n",
    "    \n",
    "    start = [x_start, y_start]\n",
    "    end = [x_start + x_gradient*vector_length, y_start + y_gradient*vector_length]\n",
    "    \n",
    "    this_head_angle_vector_coordinates = np.array(list(zip(start,end)))\n",
    "    ax.plot(this_head_angle_vector_coordinates[0,:], this_head_angle_vector_coordinates[1,:], c='r', linewidth=1.3)\n"
   ]
  },
  {
   "cell_type": "code",
   "execution_count": 120,
   "id": "a0c610c0-fd84-4b50-abfc-762e13ce326d",
   "metadata": {},
   "outputs": [],
   "source": [
    "#temporarily cutting trial returning math error - value is outside of valid cosine function range for cosine similarity\n",
    "updated_trial_list_45_test = [trial for i, trial in enumerate(updated_trial_list_45) if i != 401]\n",
    "trial_list_45_test = [trial for i, trial in enumerate(trial_list_45_HL) if i != 401]"
   ]
  },
  {
   "cell_type": "code",
   "execution_count": 121,
   "id": "85d928e5-01d3-42d3-8c2d-a27e383c3d5f",
   "metadata": {},
   "outputs": [],
   "source": [
    "#temporarily cutting invalid trial for thetas (short trajectory)\n",
    "updated_trial_list_90_test = [trial for i, trial in enumerate(updated_trial_list_90) if i != 251]\n",
    "trial_list_90_test = [trial for i, trial in enumerate(trial_list_90_HL) if i != 251]\n"
   ]
  },
  {
   "cell_type": "code",
   "execution_count": null,
   "id": "d3fb119b-9465-4ae2-8ac2-4a3925cb68a9",
   "metadata": {
    "scrolled": true
   },
   "outputs": [],
   "source": [
    "#test new bin functions\n",
    "bins = []\n",
    "for trial_index in range(len(updated_trial_list_180)):\n",
    "    bins_test = headangle_bin_assignment_new.sort_head_angle_into_bin(updated_trial_list_180, trial_index, debug=True)\n",
    "    print(f\"trial {trial_index}: {bins_test}\")\n",
    "    bins.append(bins_test)"
   ]
  },
  {
   "cell_type": "code",
   "execution_count": 117,
   "id": "2e6d9acf-6cf0-4b2e-aab0-9179e2012bd0",
   "metadata": {},
   "outputs": [
    {
     "data": {
      "text/plain": [
       "468"
      ]
     },
     "execution_count": 117,
     "metadata": {},
     "output_type": "execute_result"
    }
   ],
   "source": [
    "len(bins)"
   ]
  },
  {
   "cell_type": "code",
   "execution_count": 103,
   "id": "57f56a09-c7e0-4580-be6b-7a51f69a9b3b",
   "metadata": {},
   "outputs": [],
   "source": [
    "#bin assignments for the whole trial list\n",
    "#45\n",
    "bin_assignments_45 = headangle_bin_assignment_new.assign_bins_to_all_trials(updated_trial_list_45_test)"
   ]
  },
  {
   "cell_type": "code",
   "execution_count": null,
   "id": "f0fe9979-3218-44b1-8b09-863a44d45b5c",
   "metadata": {},
   "outputs": [],
   "source": [
    "bins_45_player0 = bin_assignments_45\n",
    "print(bins_45_player0)"
   ]
  },
  {
   "cell_type": "code",
   "execution_count": 113,
   "id": "eb696716-77cd-494a-aafb-24681a67f0fa",
   "metadata": {},
   "outputs": [],
   "source": [
    "#90\n",
    "bin_assignments_90 = headangle_bin_assignment_new.assign_bins_to_all_trials(updated_trial_list_90_test)"
   ]
  },
  {
   "cell_type": "code",
   "execution_count": null,
   "id": "dd4d4fb7-e68b-420b-9857-a1ca150039e9",
   "metadata": {
    "scrolled": true
   },
   "outputs": [],
   "source": [
    "bins_90_player0 = bin_assignments_90\n",
    "len(bins_90_player0)"
   ]
  },
  {
   "cell_type": "code",
   "execution_count": 118,
   "id": "fecb129b-97de-41d0-be35-0d3fc983d895",
   "metadata": {},
   "outputs": [],
   "source": [
    "#180\n",
    "bin_assignments_180 = headangle_bin_assignment_new.assign_bins_to_all_trials(updated_trial_list_180)"
   ]
  },
  {
   "cell_type": "code",
   "execution_count": null,
   "id": "a67ee47d-7d82-48ba-b7a9-ed812f420bfe",
   "metadata": {},
   "outputs": [],
   "source": [
    "bins_180_player0 = bin_assignments_180\n",
    "len(bins_180_player0)"
   ]
  },
  {
   "cell_type": "code",
   "execution_count": null,
   "id": "ad90762e-fb03-453e-ad0b-e4b34b5a990c",
   "metadata": {},
   "outputs": [],
   "source": [
    "#get player wall choices from original trial list for both losses and wins\n",
    "#45\n",
    "choice_45_player0 = wall_visibility_and_choice.get_player_wall_choice(trial_list_45_test, 0, inferred_choice=False, debug=True)"
   ]
  },
  {
   "cell_type": "code",
   "execution_count": null,
   "id": "f0bb8f81-69e4-4ee0-820e-f39280aab5a5",
   "metadata": {},
   "outputs": [],
   "source": [
    "#90\n",
    "choice_90_player0 = wall_visibility_and_choice.get_player_wall_choice(trial_list_90_test, 0, inferred_choice=False, debug=True)"
   ]
  },
  {
   "cell_type": "code",
   "execution_count": null,
   "id": "e376181b-7d85-49a2-b465-bc73145d7554",
   "metadata": {},
   "outputs": [],
   "source": [
    "#180\n",
    "choice_180_player0 = wall_visibility_and_choice.get_player_wall_choice(trial_list_180_HL, 0, inferred_choice=False, debug=True)"
   ]
  },
  {
   "cell_type": "code",
   "execution_count": 140,
   "id": "d9288f7a-4abf-4aee-be34-c4a2987b4766",
   "metadata": {},
   "outputs": [],
   "source": [
    "#check whether high wall was chosen\n",
    "#45\n",
    "high_wall_chosen_45_player0 = get_indices.was_given_wall_chosen(trial_list_45_test, choice_45_player0, 0)"
   ]
  },
  {
   "cell_type": "code",
   "execution_count": 141,
   "id": "33073412-af78-4b45-8e44-ab6cca81e5e6",
   "metadata": {},
   "outputs": [],
   "source": [
    "high_wall_chosen_90_player0 = get_indices.was_given_wall_chosen(trial_list_90_test, choice_90_player0, 0)"
   ]
  },
  {
   "cell_type": "code",
   "execution_count": 142,
   "id": "c94bcaab-2594-480f-85e5-cb682a07d518",
   "metadata": {},
   "outputs": [],
   "source": [
    "high_wall_chosen_180_player0 = get_indices.was_given_wall_chosen(trial_list_180_HL, choice_180_player0, 0)"
   ]
  },
  {
   "cell_type": "code",
   "execution_count": null,
   "id": "189f6f09-406b-4715-af4b-6b9bcd9f056a",
   "metadata": {},
   "outputs": [],
   "source": [
    "#45"
   ]
  },
  {
   "cell_type": "code",
   "execution_count": 144,
   "id": "336a8046-ded7-4a1f-9145-de1c4cad04f3",
   "metadata": {
    "scrolled": true
   },
   "outputs": [
    {
     "name": "stdout",
     "output_type": "stream",
     "text": [
      "[0.9368421052631579, 0.9259259259259259, 0.8222222222222222, 0.8311688311688312, 0.9113924050632911, 0.9363636363636364, 0.9358974358974359, 0.9493670886075949]\n",
      "Bin 1: 0.94 (True/Total = 89/95)\n",
      "Bin 2: 0.93 (True/Total = 75/81)\n",
      "Bin 3: 0.82 (True/Total = 74/90)\n",
      "Bin 4: 0.83 (True/Total = 64/77)\n",
      "Bin 5: 0.91 (True/Total = 72/79)\n",
      "Bin 6: 0.94 (True/Total = 103/110)\n",
      "Bin 7: 0.94 (True/Total = 73/78)\n",
      "Bin 8: 0.95 (True/Total = 75/79)\n"
     ]
    }
   ],
   "source": [
    "#obtain ratios for how many times a given player chose high given their head angle bin at slice onset\n",
    "from collections import defaultdict\n",
    "\n",
    "#creating dictionaries to store the counts\n",
    "bin_total_counts_45 = defaultdict(int)\n",
    "bin_true_counts_45 = defaultdict(int)\n",
    "\n",
    "#match bin assignments to high wall chosen lists\n",
    "trial_data_45 = [(bins_45_player0, high_wall_chosen_45_player0)]\n",
    "\n",
    "for bin_assignments, high_wall_chosen in trial_data_45:\n",
    "\n",
    "    for bin_index, is_high_wall_chosen in zip(bin_assignments, high_wall_chosen):\n",
    "\n",
    "        if np.isnan(is_high_wall_chosen):\n",
    "            continue\n",
    "            \n",
    "        bin_total_counts_45[bin_index] += 1\n",
    "        \n",
    "        if is_high_wall_chosen:\n",
    "            \n",
    "            bin_true_counts_45[bin_index] += 1\n",
    "\n",
    "#calculate probabilities\n",
    "probabilities_45 = {bin_index: bin_true_counts_45[bin_index] / bin_total_counts_45[bin_index]\n",
    "                        for bin_index in sorted(bin_total_counts_45)}\n",
    "\n",
    "#convert the dictionary to a list of values\n",
    "#bin_probabilities_list_45 = list(probabilities_45.values())\n",
    "\n",
    "#order by bin index\n",
    "probabilities_list_45 = [probabilities_45[bin_index] for bin_index in sorted(bin_total_counts_45)]\n",
    "\n",
    "print(probabilities_list_45)\n",
    "\n",
    "#print the results\n",
    "for bin_index, probability in sorted(probabilities_45.items()):\n",
    "    print(f\"Bin {bin_index}: {probability:.2f} (True/Total = {bin_true_counts_45[bin_index]}/{bin_total_counts_45[bin_index]})\")\n"
   ]
  },
  {
   "cell_type": "code",
   "execution_count": null,
   "id": "96711fec-76cb-4806-8db7-a5c5b8904515",
   "metadata": {},
   "outputs": [],
   "source": [
    "#90"
   ]
  },
  {
   "cell_type": "code",
   "execution_count": 145,
   "id": "3a97cc3e",
   "metadata": {
    "collapsed": true,
    "jupyter": {
     "outputs_hidden": true
    },
    "scrolled": true
   },
   "outputs": [
    {
     "name": "stdout",
     "output_type": "stream",
     "text": [
      "[0.9642857142857143, 0.9516129032258065, 0.7352941176470589, 0.6438356164383562, 0.7457627118644068, 0.8148148148148148, 0.84375, 0.9178082191780822]\n",
      "Bin 1: 0.96 (True/Total = 54/56)\n",
      "Bin 2: 0.95 (True/Total = 59/62)\n",
      "Bin 3: 0.74 (True/Total = 50/68)\n",
      "Bin 4: 0.64 (True/Total = 47/73)\n",
      "Bin 5: 0.75 (True/Total = 44/59)\n",
      "Bin 6: 0.81 (True/Total = 44/54)\n",
      "Bin 7: 0.84 (True/Total = 54/64)\n",
      "Bin 8: 0.92 (True/Total = 67/73)\n"
     ]
    }
   ],
   "source": [
    "#obtain ratios for how many times a given player chose high given their head angle bin at slice onset\n",
    "from collections import defaultdict\n",
    "\n",
    "#creating dictionaries to store the counts\n",
    "bin_total_counts_90 = defaultdict(int)\n",
    "bin_true_counts_90 = defaultdict(int)\n",
    "\n",
    "#match bin assignments to high wall chosen lists\n",
    "trial_data_90 = [(bins_90_player0, high_wall_chosen_90_player0)]\n",
    "\n",
    "for bin_assignments, high_wall_chosen in trial_data_90:\n",
    "\n",
    "    for bin_index, is_high_wall_chosen in zip(bin_assignments, high_wall_chosen):\n",
    "\n",
    "        if np.isnan(is_high_wall_chosen):\n",
    "            continue\n",
    "            \n",
    "        bin_total_counts_90[bin_index] += 1\n",
    "        \n",
    "        if is_high_wall_chosen:\n",
    "            \n",
    "            bin_true_counts_90[bin_index] += 1\n",
    "\n",
    "#calculate probabilities\n",
    "probabilities_90 = {bin_index: bin_true_counts_90[bin_index] / bin_total_counts_90[bin_index]\n",
    "                        for bin_index in sorted(bin_total_counts_90)}\n",
    "\n",
    "#convert the dictionary to a list of values\n",
    "#bin_probabilities_list_45 = list(probabilities_45.values())\n",
    "\n",
    "#order by bin index\n",
    "probabilities_list_90 = [probabilities_90[bin_index] for bin_index in sorted(bin_total_counts_90)]\n",
    "\n",
    "print(probabilities_list_90)\n",
    "\n",
    "#print the results\n",
    "for bin_index, probability in sorted(probabilities_90.items()):\n",
    "    print(f\"Bin {bin_index}: {probability:.2f} (True/Total = {bin_true_counts_90[bin_index]}/{bin_total_counts_90[bin_index]})\")\n"
   ]
  },
  {
   "cell_type": "code",
   "execution_count": null,
   "id": "13f21c32-2dff-4fee-9032-cfb265d4b833",
   "metadata": {},
   "outputs": [],
   "source": [
    "#180"
   ]
  },
  {
   "cell_type": "code",
   "execution_count": 146,
   "id": "3f6d2614",
   "metadata": {
    "scrolled": true
   },
   "outputs": [
    {
     "name": "stdout",
     "output_type": "stream",
     "text": [
      "[0.9298245614035088, 0.9464285714285714, 0.803030303030303, 0.5517241379310345, 0.5833333333333334, 0.5555555555555556, 0.9516129032258065, 0.9272727272727272]\n",
      "Bin 1: 0.93 (True/Total = 53/57)\n",
      "Bin 2: 0.95 (True/Total = 53/56)\n",
      "Bin 3: 0.80 (True/Total = 53/66)\n",
      "Bin 4: 0.55 (True/Total = 32/58)\n",
      "Bin 5: 0.58 (True/Total = 35/60)\n",
      "Bin 6: 0.56 (True/Total = 30/54)\n",
      "Bin 7: 0.95 (True/Total = 59/62)\n",
      "Bin 8: 0.93 (True/Total = 51/55)\n"
     ]
    }
   ],
   "source": [
    "#obtain ratios for how many times a given player chose high given their head angle bin at slice onset\n",
    "from collections import defaultdict\n",
    "\n",
    "#creating dictionaries to store the counts\n",
    "bin_total_counts_180 = defaultdict(int)\n",
    "bin_true_counts_180 = defaultdict(int)\n",
    "\n",
    "#match bin assignments to high wall chosen lists\n",
    "trial_data_180 = [(bins_180_player0, high_wall_chosen_180_player0)]\n",
    "\n",
    "for bin_assignments, high_wall_chosen in trial_data_180:\n",
    "\n",
    "    for bin_index, is_high_wall_chosen in zip(bin_assignments, high_wall_chosen):\n",
    "\n",
    "        if np.isnan(is_high_wall_chosen):\n",
    "            continue\n",
    "            \n",
    "        bin_total_counts_180[bin_index] += 1\n",
    "        \n",
    "        if is_high_wall_chosen:\n",
    "            \n",
    "            bin_true_counts_180[bin_index] += 1\n",
    "\n",
    "#calculate probabilities\n",
    "probabilities_180 = {bin_index: bin_true_counts_180[bin_index] / bin_total_counts_180[bin_index]\n",
    "                        for bin_index in sorted(bin_total_counts_180)}\n",
    "\n",
    "#convert the dictionary to a list of values\n",
    "#bin_probabilities_list_45 = list(probabilities_45.values())\n",
    "\n",
    "#order by bin index\n",
    "probabilities_list_180 = [probabilities_180[bin_index] for bin_index in sorted(bin_total_counts_180)]\n",
    "\n",
    "print(probabilities_list_180)\n",
    "\n",
    "#print the results\n",
    "for bin_index, probability in sorted(probabilities_180.items()):\n",
    "    print(f\"Bin {bin_index}: {probability:.2f} (True/Total = {bin_true_counts_180[bin_index]}/{bin_total_counts_180[bin_index]})\")\n"
   ]
  },
  {
   "cell_type": "code",
   "execution_count": null,
   "id": "869e7f74-47ee-49b1-8cd9-d0941c1b3f27",
   "metadata": {},
   "outputs": [],
   "source": []
  },
  {
   "cell_type": "code",
   "execution_count": null,
   "id": "12a1a2f4-a5ad-46f3-893b-4310e8d03724",
   "metadata": {},
   "outputs": [],
   "source": [
    "#45"
   ]
  },
  {
   "cell_type": "code",
   "execution_count": 147,
   "id": "c158673b-0c9a-4734-a499-efb2ac8511da",
   "metadata": {},
   "outputs": [
    {
     "name": "stdout",
     "output_type": "stream",
     "text": [
      "625\n",
      "689\n",
      "0.9071117561683599\n"
     ]
    }
   ],
   "source": [
    "#calculate average p(H) regardless of bin\n",
    "\n",
    "from collections import defaultdict\n",
    "\n",
    "#initialize counters for the total high wall choices and total trials overall\n",
    "true_counts_45 = 0\n",
    "total_counts_45 = 0\n",
    "\n",
    "#bin assignments and high wall chosen for all trial lists\n",
    "trial_data_45 = [(bins_45_player0, high_wall_chosen_45_player0)]\n",
    "\n",
    "\n",
    "#iterate through all provided trial lists\n",
    "for bin_assignments, high_wall_chosen in trial_data_45:\n",
    "\n",
    "    #iterate over both lists simultaneously for the current trial list\n",
    "    for is_high_wall_chosen in high_wall_chosen:\n",
    "\n",
    "        if np.isnan(is_high_wall_chosen):  \n",
    "            continue         \n",
    "        \n",
    "        total_counts_45 += 1  #increment total trial count for the bin\n",
    "        \n",
    "        if is_high_wall_chosen:          #increment True count if high wall is chosen\n",
    "            true_counts_45 += 1\n",
    "\n",
    "#calculate the average ratio \n",
    "print(true_counts_45)\n",
    "print(total_counts_45)\n",
    "overall_probability_45 = true_counts_45 / total_counts_45\n",
    "\n",
    "print(overall_probability_45)\n"
   ]
  },
  {
   "cell_type": "code",
   "execution_count": 176,
   "id": "b547262d-4157-4657-9a4a-1c9489bd9c19",
   "metadata": {},
   "outputs": [],
   "source": [
    "#90"
   ]
  },
  {
   "cell_type": "code",
   "execution_count": 148,
   "id": "efdd0d72",
   "metadata": {},
   "outputs": [
    {
     "name": "stdout",
     "output_type": "stream",
     "text": [
      "419\n",
      "509\n",
      "0.8231827111984283\n"
     ]
    }
   ],
   "source": [
    "#calculate average p(H) regardless of bin\n",
    "\n",
    "from collections import defaultdict\n",
    "\n",
    "#initialize counters for the total high wall choices and total trials overall\n",
    "true_counts_90 = 0\n",
    "total_counts_90 = 0\n",
    "\n",
    "#bin assignments and high wall chosen for all trial lists\n",
    "trial_data_90 = [(bins_90_player0, high_wall_chosen_90_player0)]\n",
    "\n",
    "\n",
    "#iterate through all provided trial lists\n",
    "for bin_assignments, high_wall_chosen in trial_data_90:\n",
    "\n",
    "    #iterate over both lists simultaneously for the current trial list\n",
    "    for is_high_wall_chosen in high_wall_chosen:\n",
    "\n",
    "        if np.isnan(is_high_wall_chosen):  \n",
    "            continue         \n",
    "        \n",
    "        total_counts_90 += 1  #increment total trial count for the bin\n",
    "        \n",
    "        if is_high_wall_chosen:          #increment True count if high wall is chosen\n",
    "            true_counts_90 += 1\n",
    "\n",
    "#calculate the average ratio \n",
    "print(true_counts_90)\n",
    "print(total_counts_90)\n",
    "overall_probability_90 = true_counts_90/ total_counts_90\n",
    "\n",
    "print(overall_probability_90)\n"
   ]
  },
  {
   "cell_type": "code",
   "execution_count": 178,
   "id": "1046daa0-6085-47ee-8712-6a8eb7394245",
   "metadata": {},
   "outputs": [],
   "source": [
    "#180"
   ]
  },
  {
   "cell_type": "code",
   "execution_count": 149,
   "id": "8c63045a",
   "metadata": {},
   "outputs": [
    {
     "name": "stdout",
     "output_type": "stream",
     "text": [
      "366\n",
      "468\n",
      "0.782051282051282\n"
     ]
    }
   ],
   "source": [
    "#calculate average p(H) regardless of bin\n",
    "\n",
    "from collections import defaultdict\n",
    "\n",
    "#initialize counters for the total high wall choices and total trials overall\n",
    "true_counts_180 = 0\n",
    "total_counts_180 = 0\n",
    "\n",
    "#bin assignments and high wall chosen for all trial lists\n",
    "trial_data_180 = [(bins_180_player0, high_wall_chosen_180_player0)]\n",
    "\n",
    "\n",
    "#iterate through all provided trial lists\n",
    "for bin_assignments, high_wall_chosen in trial_data_180:\n",
    "\n",
    "    #iterate over both lists simultaneously for the current trial list\n",
    "    for is_high_wall_chosen in high_wall_chosen:\n",
    "\n",
    "        if np.isnan(is_high_wall_chosen):  \n",
    "            continue         \n",
    "        \n",
    "        total_counts_180 += 1  #increment total trial count for the bin\n",
    "        \n",
    "        if is_high_wall_chosen:          #increment True count if high wall is chosen\n",
    "            true_counts_180 += 1\n",
    "\n",
    "#calculate the average ratio \n",
    "print(true_counts_180)\n",
    "print(total_counts_180)\n",
    "overall_probability_180 = true_counts_180 / total_counts_180\n",
    "\n",
    "print(overall_probability_180)\n"
   ]
  },
  {
   "cell_type": "code",
   "execution_count": 151,
   "id": "ca9adc36-a57d-46f0-9056-e42e851fa7c1",
   "metadata": {},
   "outputs": [
    {
     "name": "stdout",
     "output_type": "stream",
     "text": [
      "[0.029730349094797992, 0.018814169757566, -0.08488953394613774, -0.0759429249995287, 0.004280648894931183, 0.02925188019527647, 0.028785679729075975, 0.04225533243923496]\n",
      "[0.14110300308728596, 0.12843019202737815, -0.08788859355136946, -0.17934709476007216, -0.07741999933402155, -0.008367896383613571, 0.02056728880157166, 0.09462550797965386]\n",
      "[0.14777327935222673, 0.16437728937728935, 0.020979020979020935, -0.23032714412024757, -0.19871794871794868, -0.22649572649572647, 0.16956162117452445, 0.1452214452214452]\n"
     ]
    }
   ],
   "source": [
    "#obtain difference between p(H) given bin and average p(H)\n",
    "#45\n",
    "new_probabilities_list_45 = [probability - overall_probability_45 for probability in probabilities_list_45]\n",
    "print(new_probabilities_list_45)\n",
    "#90\n",
    "new_probabilities_list_90 = [probability - overall_probability_90 for probability in probabilities_list_90]\n",
    "print(new_probabilities_list_90)\n",
    "#180\n",
    "new_probabilities_list_180 = [probability - overall_probability_180 for probability in probabilities_list_180]\n",
    "print(new_probabilities_list_180)"
   ]
  },
  {
   "cell_type": "code",
   "execution_count": 152,
   "id": "60c5183c-07b9-4afb-9b85-6e52e56dd61d",
   "metadata": {},
   "outputs": [
    {
     "name": "stdout",
     "output_type": "stream",
     "text": [
      "(2, 8)\n"
     ]
    },
    {
     "data": {
      "image/png": "[encoded data removed]",
      "text/plain": [
       "<Figure size 640x480 with 1 Axes>"
      ]
     },
     "metadata": {},
     "output_type": "display_data"
    }
   ],
   "source": [
    "#45\n",
    "import matplotlib.pyplot as plt\n",
    "\n",
    "#plot octagon with new ratios list \n",
    "ax = plot_octagon.plot_octagon()\n",
    "\n",
    "#plot the ratios under the alcoves\n",
    "ax = headangle_analysis_plotting_functions.plot_ratios_under_alcoves(ax, new_probabilities_list_45)\n",
    "\n",
    "plt.show()\n"
   ]
  },
  {
   "cell_type": "code",
   "execution_count": 153,
   "id": "47e944c9",
   "metadata": {},
   "outputs": [
    {
     "name": "stdout",
     "output_type": "stream",
     "text": [
      "(2, 8)\n"
     ]
    },
    {
     "data": {
      "image/png": "[encoded data removed]",
      "text/plain": [
       "<Figure size 640x480 with 1 Axes>"
      ]
     },
     "metadata": {},
     "output_type": "display_data"
    }
   ],
   "source": [
    "#90\n",
    "import matplotlib.pyplot as plt\n",
    "\n",
    "#plot octagon with new ratios list \n",
    "ax = plot_octagon.plot_octagon()\n",
    "\n",
    "#plot the ratios under the alcoves\n",
    "ax = headangle_analysis_plotting_functions.plot_ratios_under_alcoves(ax, new_probabilities_list_90)\n",
    "\n",
    "plt.show()\n"
   ]
  },
  {
   "cell_type": "code",
   "execution_count": 154,
   "id": "f5e856f4",
   "metadata": {},
   "outputs": [
    {
     "name": "stdout",
     "output_type": "stream",
     "text": [
      "(2, 8)\n"
     ]
    },
    {
     "data": {
      "image/png": "[encoded data removed]",
      "text/plain": [
       "<Figure size 640x480 with 1 Axes>"
      ]
     },
     "metadata": {},
     "output_type": "display_data"
    }
   ],
   "source": [
    "#180\n",
    "import matplotlib.pyplot as plt\n",
    "\n",
    "#plot octagon with new ratios list \n",
    "ax = plot_octagon.plot_octagon()\n",
    "\n",
    "#plot the ratios under the alcoves\n",
    "ax = headangle_analysis_plotting_functions.plot_ratios_under_alcoves(ax, new_probabilities_list_180)\n",
    "\n",
    "plt.show()\n"
   ]
  },
  {
   "cell_type": "code",
   "execution_count": 155,
   "id": "2c696e6a-0566-4833-b8ed-d266969417ff",
   "metadata": {},
   "outputs": [
    {
     "name": "stdout",
     "output_type": "stream",
     "text": [
      "[(np.float64(5.8904862254808625), np.float64(0.3926990816987242)), (np.float64(0.39269908169872414), np.float64(1.1780972450961724)), (np.float64(1.1780972450961726), np.float64(1.963495408493621)), (np.float64(1.9634954084936211), np.float64(2.7488935718910694)), (np.float64(2.748893571891069), np.float64(3.5342917352885173)), (np.float64(3.5342917352885173), np.float64(4.319689898685965)), (np.float64(4.319689898685965), np.float64(5.105088062083414)), (np.float64(5.105088062083414), np.float64(5.890486225480862))]\n"
     ]
    }
   ],
   "source": [
    "bin_ranges = headangle_bin_assignment.define_45_degree_bins()\n",
    "print(bin_ranges)"
   ]
  },
  {
   "cell_type": "code",
   "execution_count": 160,
   "id": "2455982a-0c46-4d9d-acf1-0ded43c5d76f",
   "metadata": {},
   "outputs": [
    {
     "name": "stdout",
     "output_type": "stream",
     "text": [
      "(2, 8)\n"
     ]
    },
    {
     "data": {
      "image/png": "[encoded data removed]",
      "text/plain": [
       "<Figure size 600x600 with 2 Axes>"
      ]
     },
     "metadata": {},
     "output_type": "display_data"
    },
    {
     "name": "stdout",
     "output_type": "stream",
     "text": [
      "[0.029730349094797992, 0.018814169757566, -0.08488953394613774, -0.0759429249995287, 0.004280648894931183, 0.02925188019527647, 0.028785679729075975, 0.04225533243923496]\n"
     ]
    }
   ],
   "source": [
    "#45\n",
    "#plot color gradient octagon for new ratios list\n",
    "\n",
    "fig, ax = plt.subplots(figsize=(6, 6))\n",
    "\n",
    "#plot octagon\n",
    "ax = plot_octagon.plot_octagon(ax=ax)\n",
    "\n",
    "#define bin_ranges\n",
    "bin_ranges = bin_ranges\n",
    "\n",
    "\n",
    "#define ratios list\n",
    "#probabilities_list_reversed = probabilities_list[::-1]\n",
    "\n",
    "#color the segments of the octagon\n",
    "ax = headangle_analysis_plotting_functions.plot_colored_octagon(ax, bin_ranges, new_probabilities_list_45)\n",
    "\n",
    "#plot the ratios under the alcoves\n",
    "ax = headangle_analysis_plotting_functions.plot_ratios_under_alcoves(ax, new_probabilities_list_45)\n",
    "\n",
    "#add wall labels\n",
    "alcove_centers = plot_octagon.return_alcove_centre_points()\n",
    "\n",
    "alcove_center1_x, alcove_center1_y = alcove_centers[:,0]\n",
    "alcove_center2_x, alcove_center2_y = alcove_centers[:,1]\n",
    "\n",
    "ax.text(alcove_center1_x, alcove_center1_y + 5, f'{\"High\"}', \n",
    "                ha='center', va='center', fontsize=14, color='Red')\n",
    "ax.text(alcove_center2_x + 3, alcove_center2_y + 5, f'{\"Low\"}', \n",
    "                ha='center', va='center', fontsize=14, color='Blue')\n",
    "\n",
    "#add a colorbar for reference\n",
    "sm = plt.cm.ScalarMappable(cmap=plt.cm.plasma, norm=plt.Normalize(vmax=max(new_probabilities_list_45), vmin=min(new_probabilities_list_45)))\n",
    "sm.set_array([])  # Only necessary for ScalarMappable\n",
    "cbar = plt.colorbar(sm, ax=ax, shrink=0.8)\n",
    "cbar.set_label(\"P(H) - avg(P(H))\", fontsize=13, rotation=270, labelpad=15)\n",
    "\n",
    "rounded_prob_45 = round(overall_probability_45, 2)\n",
    "plt.title(f\"P(H) = {rounded_prob_45}\", fontsize=14)\n",
    "plt.axis('equal')\n",
    "plt.axis('off')\n",
    "plt.show()\n",
    "print(new_probabilities_list_45)"
   ]
  },
  {
   "cell_type": "code",
   "execution_count": 162,
   "id": "720f633a",
   "metadata": {},
   "outputs": [
    {
     "name": "stdout",
     "output_type": "stream",
     "text": [
      "(2, 8)\n"
     ]
    },
    {
     "data": {
      "image/png": "[encoded data removed]",
      "text/plain": [
       "<Figure size 600x600 with 2 Axes>"
      ]
     },
     "metadata": {},
     "output_type": "display_data"
    },
    {
     "name": "stdout",
     "output_type": "stream",
     "text": [
      "[0.14110300308728596, 0.12843019202737815, -0.08788859355136946, -0.17934709476007216, -0.07741999933402155, -0.008367896383613571, 0.02056728880157166, 0.09462550797965386]\n"
     ]
    }
   ],
   "source": [
    "#90\n",
    "#plot color gradient octagon for new ratios list\n",
    "\n",
    "fig, ax = plt.subplots(figsize=(6, 6))\n",
    "\n",
    "#plot octagon\n",
    "ax = plot_octagon.plot_octagon(ax=ax)\n",
    "\n",
    "#define bin_ranges\n",
    "bin_ranges = bin_ranges\n",
    "\n",
    "\n",
    "#define ratios list\n",
    "#probabilities_list_reversed = probabilities_list[::-1]\n",
    "\n",
    "#color the segments of the octagon\n",
    "ax = headangle_analysis_plotting_functions.plot_colored_octagon(ax, bin_ranges, new_probabilities_list_90)\n",
    "\n",
    "#plot the ratios under the alcoves\n",
    "ax = headangle_analysis_plotting_functions.plot_ratios_under_alcoves(ax, new_probabilities_list_90)\n",
    "\n",
    "#add wall labels\n",
    "alcove_centers = plot_octagon.return_alcove_centre_points()\n",
    "\n",
    "alcove_center1_x, alcove_center1_y = alcove_centers[:,0]\n",
    "alcove_center3_x, alcove_center3_y = alcove_centers[:,2]\n",
    "\n",
    "ax.text(alcove_center1_x, alcove_center1_y + 5, f'{\"High\"}', \n",
    "                ha='center', va='center', fontsize=14, color='Red')\n",
    "ax.text(alcove_center3_x + 3, alcove_center3_y + 5, f'{\"Low\"}', \n",
    "                ha='center', va='center', fontsize=14, color='Blue')\n",
    "\n",
    "#add a colorbar for reference\n",
    "sm = plt.cm.ScalarMappable(cmap=plt.cm.plasma, norm=plt.Normalize(vmax=max(new_probabilities_list_90), vmin=min(new_probabilities_list_90)))\n",
    "sm.set_array([])  # Only necessary for ScalarMappable\n",
    "cbar = plt.colorbar(sm, ax=ax, shrink=0.8)\n",
    "cbar.set_label(\"P(H) - avg(P(H))\", fontsize=13, rotation=270, labelpad=15)\n",
    "\n",
    "rounded_prob_90 = round(overall_probability_90, 2)\n",
    "plt.title(f\"P(H) = {rounded_prob_90}\", fontsize=14)\n",
    "plt.axis('equal')\n",
    "plt.axis('off')\n",
    "plt.show()\n",
    "print(new_probabilities_list_90)"
   ]
  },
  {
   "cell_type": "code",
   "execution_count": 163,
   "id": "eaf1d71f",
   "metadata": {},
   "outputs": [
    {
     "name": "stdout",
     "output_type": "stream",
     "text": [
      "(2, 8)\n"
     ]
    },
    {
     "data": {
      "image/png": "[encoded data removed]",
      "text/plain": [
       "<Figure size 600x600 with 2 Axes>"
      ]
     },
     "metadata": {},
     "output_type": "display_data"
    },
    {
     "name": "stdout",
     "output_type": "stream",
     "text": [
      "[0.14777327935222673, 0.16437728937728935, 0.020979020979020935, -0.23032714412024757, -0.19871794871794868, -0.22649572649572647, 0.16956162117452445, 0.1452214452214452]\n"
     ]
    }
   ],
   "source": [
    "#180\n",
    "#plot color gradient octagon for new ratios list\n",
    "\n",
    "fig, ax = plt.subplots(figsize=(6, 6))\n",
    "\n",
    "#plot octagon\n",
    "ax = plot_octagon.plot_octagon(ax=ax)\n",
    "\n",
    "#define bin_ranges\n",
    "bin_ranges = bin_ranges\n",
    "\n",
    "\n",
    "#define ratios list\n",
    "#probabilities_list_reversed = probabilities_list[::-1]\n",
    "\n",
    "#color the segments of the octagon\n",
    "ax = headangle_analysis_plotting_functions.plot_colored_octagon(ax, bin_ranges, new_probabilities_list_180)\n",
    "\n",
    "#plot the ratios under the alcoves\n",
    "ax = headangle_analysis_plotting_functions.plot_ratios_under_alcoves(ax, new_probabilities_list_180)\n",
    "\n",
    "#add wall labels\n",
    "alcove_centers = plot_octagon.return_alcove_centre_points()\n",
    "\n",
    "alcove_center1_x, alcove_center1_y = alcove_centers[:,0]\n",
    "alcove_center4_x, alcove_center4_y = alcove_centers[:,4]\n",
    "\n",
    "ax.text(alcove_center1_x, alcove_center1_y + 5, f'{\"High\"}', \n",
    "                ha='center', va='center', fontsize=14, color='Red')\n",
    "ax.text(alcove_center4_x, alcove_center4_y - 5, f'{\"Low\"}', \n",
    "                ha='center', va='center', fontsize=14, color='Blue')\n",
    "\n",
    "#add a colorbar for reference\n",
    "sm = plt.cm.ScalarMappable(cmap=plt.cm.plasma, norm=plt.Normalize(vmax=max(new_probabilities_list_180), vmin=min(new_probabilities_list_180)))\n",
    "sm.set_array([])  # Only necessary for ScalarMappable\n",
    "cbar = plt.colorbar(sm, ax=ax, shrink=0.8)\n",
    "cbar.set_label(\"P(H) - avg(P(H))\", fontsize=13, rotation=270, labelpad=15)\n",
    "\n",
    "rounded_prob_180 = round(overall_probability_180, 2)\n",
    "plt.title(f\"P(H) = {rounded_prob_180}\", fontsize=14)\n",
    "plt.axis('equal')\n",
    "plt.axis('off')\n",
    "plt.show()\n",
    "print(new_probabilities_list_180)"
   ]
  },
  {
   "cell_type": "code",
   "execution_count": null,
   "id": "17629368-2aad-43cb-9780-df288c0aacca",
   "metadata": {},
   "outputs": [],
   "source": []
  }
 ],
 "metadata": {
  "kernelspec": {
   "display_name": "Python 3 (ipykernel)",
   "language": "python",
   "name": "python3"
  },
  "language_info": {
   "codemirror_mode": {
    "name": "ipython",
    "version": 3
   },
   "file_extension": ".py",
   "mimetype": "text/x-python",
   "name": "python",
   "nbconvert_exporter": "python",
   "pygments_lexer": "ipython3",
   "version": "3.13.0"
  }
 },
 "nbformat": 4,
 "nbformat_minor": 5
}
