{
 "cells": [
  {
   "cell_type": "code",
   "execution_count": 1,
   "id": "5dc201c1",
   "metadata": {},
   "outputs": [],
   "source": [
    "%load_ext autoreload\n",
    "%autoreload 2\n",
    "import globals\n",
    "import parse_data.prepare_data as prepare_data\n",
    "import data_extraction.trial_list_filters as trial_list_filters\n",
    "from matplotlib.patches import Wedge\n",
    "from matplotlib import pyplot as plt\n",
    "import data_extraction.get_indices as get_indices\n",
    "import parse_data.identify_filepaths as identify_filepaths\n",
    "import globals\n",
    "import numpy as np\n",
    "import matplotlib.pyplot as plt\n",
    "import matplotlib as mpl\n",
    "from matplotlib.path import Path\n",
    "from matplotlib.patches import PathPatch\n",
    "from matplotlib.patches import Polygon\n",
    "from matplotlib import cm\n",
    "import math\n",
    "from parse_data import flip_rotate_trajectories\n",
    "# import occupancy_and_strategy\n",
    "from mpl_toolkits.axes_grid1 import make_axes_locatable\n",
    "import data_strings\n",
    "import data_extraction.data_saving as data_saving\n",
    "import plotting.plot_octagon as plot_octagon\n",
    "import analysis.heatmap_phigh as heatmap_phigh\n",
    "import pickle\n",
    "import os"
   ]
  },
  {
   "cell_type": "markdown",
   "id": "87ada826",
   "metadata": {},
   "source": [
    "### Adapted Benny's code into flexible functions\n"
   ]
  },
  {
   "cell_type": "code",
   "execution_count": 2,
   "id": "6c676c65",
   "metadata": {},
   "outputs": [],
   "source": [
    "load_heatmap_data = False"
   ]
  },
  {
   "cell_type": "code",
   "execution_count": null,
   "id": "a3d90b8a",
   "metadata": {},
   "outputs": [],
   "source": []
  },
  {
   "cell_type": "code",
   "execution_count": 5,
   "id": "f27ade8d",
   "metadata": {},
   "outputs": [],
   "source": [
    "if not load_heatmap_data:\n",
    "    # load previously prepared data\n",
    "    trial_lists_solo = data_saving.load_data(r'trial_lists_solo_combined_standard_50')\n",
    "    trial_lists_social = data_saving.load_data(r'trial_lists_social_standard_50')\n",
    "else:\n",
    "    folder = \"heatmap_phigh_variables\"\n",
    "    # variable_name = 'competitive_see-low_choose-high'\n",
    "    variable_name = 'solo_see-low_choose-high'\n",
    "     \n",
    "    with open(os.path.join(folder, variable_name), 'rb') as f:\n",
    "        bins_dict_wall_seen_wall_chosen, bins_dict_wall_seen = pickle.load(f)\n",
    "    "
   ]
  },
  {
   "cell_type": "code",
   "execution_count": 7,
   "id": "a0b57137",
   "metadata": {},
   "outputs": [],
   "source": [
    "trial_lists = trial_lists_social\n",
    "num_players = 1\n",
    "first_visible_wall_index = 1\n",
    "chosen_wall_index = 0  # high wall"
   ]
  },
  {
   "cell_type": "code",
   "execution_count": 8,
   "id": "78a65011",
   "metadata": {},
   "outputs": [],
   "source": [
    "(trial_list_vis_filtered,\n",
    "  trial_list_vis_and_choice_filtered) = heatmap_phigh.filter_pipeline_p_high_first_seen_wall_no_filtering_vis(trial_lists,\n",
    "                                                                                                        num_players,\n",
    "                                                                                                        first_visible_wall_index,\n",
    "                                                                                                        chosen_wall_index)"
   ]
  },
  {
   "cell_type": "code",
   "execution_count": 9,
   "id": "d6dd74a9",
   "metadata": {},
   "outputs": [
    {
     "name": "stdout",
     "output_type": "stream",
     "text": [
      "Done for player 0, counts in numerator index (3,0): 31.0 \n"
     ]
    }
   ],
   "source": [
    "# binning params\n",
    "n_rows, n_cols = 10, 10\n",
    "x_min, x_max = -20, 20\n",
    "y_min, y_max = -20, 20\n",
    "grid_width = (x_max - x_min) / n_cols\n",
    "grid_height = (y_max - y_min) / n_rows\n",
    "\n",
    "# initialise bin counts grid, choice grid\n",
    "bins_dict_wall_seen = np.zeros((n_rows, n_cols))\n",
    "bins_dict_wall_seen_wall_chosen = np.zeros((n_rows, n_cols))\n",
    "\n",
    "# across player ID 1 or 2\n",
    "for player_id in range(num_players):\n",
    "    \n",
    "    # filtered for trials where player saw specified first-seen wall\n",
    "    trial_lists_denominator = trial_list_vis_filtered[player_id]\n",
    "    # filter for trials where player additionally chose specified chosen wall\n",
    "    trial_lists_numerator = trial_list_vis_and_choice_filtered[player_id]\n",
    "\n",
    "    \n",
    "    # across each trial list for this player ID\n",
    "    for trial_list_index, trial_list in enumerate(trial_lists_denominator):\n",
    "\n",
    "        # across each trial in the trial list\n",
    "        for trial_index, trial in enumerate(trial_list):\n",
    "            \n",
    "            # get slice onset position (denominator)\n",
    "            x_val, y_val = get_indices.get_player_slice_onset_loc(trial, player_id=player_id)\n",
    "\n",
    "            # bin position\n",
    "            x_bin = int((x_val - x_min) / grid_width)\n",
    "            y_bin = int((y_val - y_min) / grid_height)\n",
    "\n",
    "            # increment denominator bin count\n",
    "            bins_dict_wall_seen[y_bin,x_bin] += 1\n",
    "\n",
    "\n",
    "\n",
    "    # across each trial list for this player ID\n",
    "    for trial_list_index, trial_list in enumerate(trial_lists_numerator):\n",
    "        \n",
    "        # across each trial in the filtered list\n",
    "        for trial_index, trial in enumerate(trial_list):\n",
    "            # get slice onset position (numerator)\n",
    "            x_val, y_val = get_indices.get_player_slice_onset_loc(trial, player_id=player_id)\n",
    "\n",
    "            # bin position\n",
    "            x_bin = int((x_val - x_min) / grid_width)\n",
    "            y_bin = int((y_val - y_min) / grid_height)\n",
    "\n",
    "            # increment numerator bin count\n",
    "            bins_dict_wall_seen_wall_chosen[y_bin,x_bin] += 1\n",
    "\n",
    "    print(f\"Done for player {player_id}, counts in numerator index (3,0): {bins_dict_wall_seen_wall_chosen[6,0]} \")"
   ]
  },
  {
   "cell_type": "code",
   "execution_count": 10,
   "id": "091b5a46",
   "metadata": {},
   "outputs": [],
   "source": [
    "# bins_dict_wall_seen_wall_chosen, bins_dict_wall_seen"
   ]
  },
  {
   "cell_type": "code",
   "execution_count": null,
   "id": "a99636c3",
   "metadata": {},
   "outputs": [],
   "source": [
    "# element-wise division of numerator and denominator arrays, with handling for division by zero\n",
    "pH_by_bin_low_social = np.divide(\n",
    "    bins_dict_wall_seen_wall_chosen, bins_dict_wall_seen,\n",
    "    out=np.zeros_like(bins_dict_wall_seen_wall_chosen, dtype=float),\n",
    "    # boolean array to mask division for only non-zero denominator entries\n",
    "    where=bins_dict_wall_seen > 0\n",
    ")\n",
    "\n",
    "# filter out bins with fewer than x trials\n",
    "pH_by_bin_low_social[bins_dict_wall_seen <= 10] = np.nan\n",
    "probabilities = pH_by_bin_low_social"
   ]
  },
  {
   "cell_type": "code",
   "execution_count": 15,
   "id": "73d39f79",
   "metadata": {},
   "outputs": [],
   "source": [
    "n_rows, n_cols = 10, 10\n",
    "x_min, x_max = -20, 20\n",
    "y_min, y_max = -20, 20"
   ]
  },
  {
   "cell_type": "code",
   "execution_count": 16,
   "id": "1031989f",
   "metadata": {},
   "outputs": [
    {
     "data": {
      "image/png": "[encoded data removed]",
      "text/plain": [
       "<Figure size 600x600 with 2 Axes>"
      ]
     },
     "metadata": {},
     "output_type": "display_data"
    }
   ],
   "source": [
    "heatmap_phigh.plot_heatmap_phigh(probabilities, n_rows=10, n_cols=10, difference=False)"
   ]
  },
  {
   "cell_type": "code",
   "execution_count": 11,
   "id": "e5b31940",
   "metadata": {},
   "outputs": [
    {
     "name": "stderr",
     "output_type": "stream",
     "text": [
      "C:\\Users\\Tom\\AppData\\Local\\Temp\\ipykernel_31540\\3873701531.py:11: MatplotlibDeprecationWarning: The get_cmap function was deprecated in Matplotlib 3.7 and will be removed in 3.11. Use ``matplotlib.colormaps[name]`` or ``matplotlib.colormaps.get_cmap()`` or ``pyplot.get_cmap()`` instead.\n",
      "  cmap = cm.get_cmap('inferno').copy()\n"
     ]
    },
    {
     "data": {
      "image/png": "[encoded data removed]",
      "text/plain": [
       "<Figure size 600x600 with 2 Axes>"
      ]
     },
     "metadata": {},
     "output_type": "display_data"
    }
   ],
   "source": [
    "\n",
    "n_rows, n_cols = 10, 10\n",
    "x_min, x_max = -20, 20\n",
    "y_min, y_max = -20, 20\n",
    "grid_width = (x_max - x_min) / n_cols\n",
    "grid_height = (y_max - y_min) / n_rows\n",
    "\n",
    "octagon_vertex_coordinates = plot_octagon.return_octagon_path_points()\n",
    "\n",
    "fig, ax = plt.subplots(figsize=(6, 6))\n",
    "\n",
    "cmap = cm.get_cmap('inferno').copy()\n",
    "cmap.set_bad(color='lightgrey')\n",
    "norm = mpl.colors.Normalize(vmin=0, vmax=1)\n",
    "\n",
    "im = ax.imshow(pH_by_bin_low_social, extent=[x_min, x_max, y_min, y_max],\n",
    "               origin='lower', norm=norm, cmap=cmap)\n",
    "\n",
    "patch = Polygon(octagon_vertex_coordinates, edgecolor='black', facecolor='none', lw=2)\n",
    "ax.add_patch(patch)\n",
    "im.set_clip_path(patch)\n",
    "\n",
    "ax.set_xlim([-22, 22])\n",
    "ax.set_ylim([-22, 22])\n",
    "ax.set_aspect(1.)\n",
    "ax.set_xticks([])\n",
    "ax.set_yticks([])\n",
    "for spine in ax.spines.values():\n",
    "    spine.set_visible(False)\n",
    "\n",
    "divider = make_axes_locatable(ax)\n",
    "cax = divider.append_axes(\"right\", size=\"5%\", pad=0.05)\n",
    "cbar = plt.colorbar(im, cax=cax)\n",
    "#cbar.set_label(\"Average Occupancy\", fontsize=16)\n",
    "cbar.ax.tick_params(labelsize=16)\n",
    "\n",
    "plt.tight_layout()\n",
    "plt.show()\n"
   ]
  },
  {
   "cell_type": "code",
   "execution_count": null,
   "id": "9669ad13",
   "metadata": {},
   "outputs": [],
   "source": [
    "# optionally save variables\n",
    "\n",
    "folder = \"heatmap_phigh_variables\"\n",
    "# variable_name = 'competitive_see-low_choose-high'\n",
    "variable_name = 'competitive_see-low_choose-high'\n",
    "path = os.path.join(folder, variable_name )\n",
    "with open(path, 'wb') as f:\n",
    "    # pickle.dump((bins_dict_wall_seen_wall_chosen, bins_dict_wall_seen), f)"
   ]
  },
  {
   "cell_type": "markdown",
   "id": "48077fff",
   "metadata": {},
   "source": [
    "### Difference heat map"
   ]
  },
  {
   "cell_type": "code",
   "execution_count": 14,
   "id": "7bcd6cea",
   "metadata": {},
   "outputs": [],
   "source": [
    "difference_map_solo = False"
   ]
  },
  {
   "cell_type": "code",
   "execution_count": 15,
   "id": "1bb8b65d",
   "metadata": {},
   "outputs": [],
   "source": [
    "# load in data for both filters of either solo or social\n",
    "folder = \"heatmap_phigh_variables\"\n",
    "if difference_map_solo:\n",
    "    variable_name_low_first_seen = 'solo_see-low_choose-high'\n",
    "    variable_name_high_first_seen = 'solo_see-high_choose-high'\n",
    "\n",
    "    with open(os.path.join(folder, variable_name_low_first_seen), 'rb') as f:\n",
    "        bins_dict_lowwallseen_highwallchosen, bins_dict_lowwallseen = pickle.load(f)\n",
    "\n",
    "    with open(os.path.join(folder, variable_name_high_first_seen), 'rb') as f:\n",
    "        bins_dict_highwallseen_highwallchosen, bins_dict_highwallseen = pickle.load(f)\n",
    "\n",
    "elif difference_map_solo == False:\n",
    "    variable_name_low_first_seen = 'competitive_see-low_choose-high'\n",
    "    variable_name_high_first_seen = 'competitive_see-high_choose-high'\n",
    "\n",
    "    with open(os.path.join(folder, variable_name_low_first_seen), 'rb') as f:\n",
    "        bins_dict_lowwallseen_highwallchosen, bins_dict_lowwallseen = pickle.load(f)\n",
    "\n",
    "    with open(os.path.join(folder, variable_name_high_first_seen), 'rb') as f:\n",
    "        bins_dict_highwallseen_highwallchosen, bins_dict_highwallseen = pickle.load(f)"
   ]
  },
  {
   "cell_type": "code",
   "execution_count": null,
   "id": "32167ffe",
   "metadata": {},
   "outputs": [],
   "source": [
    "# # combine data for the difference heatmap\n",
    "# bins_dict_seen_chosen = bins_dict_highwallseen_highwallchosen - bins_dict_lowwallseen_highwallchosen\n",
    "# bins_dict_seen = bins_dict_highwallseen - bins_dict_lowwallseen"
   ]
  },
  {
   "cell_type": "code",
   "execution_count": 16,
   "id": "b0e78398",
   "metadata": {},
   "outputs": [],
   "source": [
    "probabilities_high = heatmap_phigh.heatmap_counts_division(bins_dict_highwallseen_highwallchosen,\n",
    "                                                      bins_dict_highwallseen)\n",
    "probabilities_low = heatmap_phigh.heatmap_counts_division(bins_dict_lowwallseen_highwallchosen,\n",
    "                                                      bins_dict_lowwallseen)\n",
    "\n",
    "probabilities_diff = probabilities_high - probabilities_low\n",
    "\n",
    "probabilities_diff_filtered = heatmap_phigh.heatmap_lowbincounts_filter(probabilities_diff,\n",
    "                                                                   [bins_dict_highwallseen, bins_dict_lowwallseen],\n",
    "                                                                   min_trials=10)"
   ]
  },
  {
   "cell_type": "code",
   "execution_count": 17,
   "id": "5581ea33",
   "metadata": {},
   "outputs": [
    {
     "data": {
      "image/png": "[encoded data removed]",
      "text/plain": [
       "<Figure size 600x600 with 2 Axes>"
      ]
     },
     "metadata": {},
     "output_type": "display_data"
    }
   ],
   "source": [
    "n_rows, n_cols = 10, 10\n",
    "x_min, x_max = -20, 20\n",
    "y_min, y_max = -20, 20\n",
    "heatmap_phigh.plot_heatmap_phigh(probabilities_diff_filtered, n_rows=10, n_cols=10, difference=True, diff_cmap_name='PiYG')"
   ]
  }
 ],
 "metadata": {
  "kernelspec": {
   "display_name": "octagon_analysis",
   "language": "python",
   "name": "python3"
  },
  "language_info": {
   "codemirror_mode": {
    "name": "ipython",
    "version": 3
   },
   "file_extension": ".py",
   "mimetype": "text/x-python",
   "name": "python",
   "nbconvert_exporter": "python",
   "pygments_lexer": "ipython3",
   "version": "3.12.7"
  }
 },
 "nbformat": 4,
 "nbformat_minor": 5
}
