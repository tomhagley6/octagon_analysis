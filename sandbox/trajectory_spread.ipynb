{
 "cells": [
  {
   "cell_type": "code",
   "execution_count": 8,
   "id": "ba986e87",
   "metadata": {},
   "outputs": [],
   "source": [
    "import parse_data.preprocess as preprocess\n",
    "import parse_data.loading as loading\n",
    "from analysis.response_times import calculate_response_times, plot_response_times\n",
    "from datetime import datetime, timedelta\n",
    "import numpy as np\n",
    "import pandas as pd\n",
    "import scipy\n",
    "import matplotlib.pyplot as plt\n",
    "import globals\n",
    "import data_strings\n",
    "import parse_data.identify_filepaths as identify_filepaths"
   ]
  },
  {
   "cell_type": "code",
   "execution_count": 14,
   "id": "d37ef2b3",
   "metadata": {},
   "outputs": [],
   "source": [
    "# Load JSON file into pandas df with collapsed data dictionary and adjustments based on date of recording \n",
    "data_folder = data_strings.DATA_FOLDER\n",
    "json_filenames_social, json_filenames_solo = identify_filepaths.get_filenames(data_folder=data_folder)"
   ]
  },
  {
   "cell_type": "code",
   "execution_count": null,
   "id": "cc6455a7",
   "metadata": {},
   "outputs": [
    {
     "name": "stdout",
     "output_type": "stream",
     "text": [
      "Preprocessing complete.\n"
     ]
    }
   ],
   "source": [
    "# Pre-process data \n",
    "df = preprocess.standard_preprocessing(df)"
   ]
  },
  {
   "cell_type": "code",
   "execution_count": 13,
   "id": "8c302a3f",
   "metadata": {},
   "outputs": [
    {
     "data": {
      "text/plain": [
       "['240913_1\\\\2024-09-13_11-31-00_YW13_JL13_Social.json',\n",
       " '240927_1\\\\2024-09-27_14-25-20_SH27_EN27_Social.json',\n",
       " '241017_1\\\\2024-10-17_14-28-40_SP17_AW17_Social.json',\n",
       " '241017_2\\\\2024-10-17_16-41-38_ZH17_EM17_Social.json',\n",
       " '241112_1\\\\2024-11-12_13-31-14_KA12_WM12_Social.json',\n",
       " '241112_2\\\\2024-11-12_15-23-24_FA12_SL12_Social.json',\n",
       " '241113_1\\\\2024-11-13_14-18-54_NK13_RD13_Social.json',\n",
       " '241113_2\\\\2024-11-13_15-28-07_YL13_HC13_Social.json',\n",
       " '241119_1\\\\2024-11-19_14-24-49_AV19_XG19_Social.json',\n",
       " '241119_2\\\\2024-11-19_15-22-56_SB19_HH19_Social.json',\n",
       " '241120_1\\\\2024-11-20_14-17-44_JS20_RR20_Social.json',\n",
       " '241120_2\\\\2024-11-20_15-16-21_ZS20_VC20_Social.json',\n",
       " '241203_1\\\\2024-12-03_14-31-51_PO03_NN03_Social.json',\n",
       " '241203_2\\\\2024-12-03_15-27-28_EX03_BC03_Social.json',\n",
       " '241210_1\\\\2024-12-10_14-21-17_TE10_TK10_Social.json',\n",
       " '241210_2\\\\2024-12-10_15-20-11_RK10_RU10_Social.json',\n",
       " '241219_1\\\\2024-12-19_15-28-24_JU19_SY19_Social.json',\n",
       " '241220_1\\\\2024-12-20_17-44-50_KS20_CS20_Social.json',\n",
       " '250115_1\\\\2025-01-15_15-21-27_YY15_MR15_Social.json',\n",
       " '250115_2\\\\2025-01-15_16-27-23_YL15_RR15_Social.json',\n",
       " '250204_2\\\\2025-02-04_17-11-07_DB04_GG04_Social.json',\n",
       " '250314_1\\\\2025-03-14_12-12-57_KC14_WL14_Social.json',\n",
       " '250314_2\\\\2025-03-14_13-10-49_AE14_JL14_Social.json',\n",
       " '250314_3\\\\2025-03-14_14-24-05_MA14_RM14_Social.json',\n",
       " '250318_1\\\\2025-03-18_14-22-29_SJ18_CD18_Social.json',\n",
       " '250318_2\\\\2025-03-18_16-22-17_JK18_HL18_Social.json',\n",
       " '250318_3\\\\2025-03-18_17-27-32_HM18_SC18_Social.json',\n",
       " '250319_1\\\\2025-03-19_13-29-40_HL19_AW19_Social.json',\n",
       " '250319_2\\\\2025-03-19_14-33-16_PT19_JL19_Social.json',\n",
       " '250401_1\\\\2025-04-01_14-27-01_IS01_HQ01_Social.json',\n",
       " '250401_2\\\\2025-04-01_15-29-49_AL01_NL01_Social.json',\n",
       " '250402_1\\\\2025-04-02_16-26-25_SH02_ML02_Social.json',\n",
       " '250404_1\\\\2025-04-04_10-31-29_JW04_JI04_Social.json',\n",
       " '250410_1\\\\2025-04-10_12-29-00_AR10_MY10_Social.json',\n",
       " '250411_1\\\\2025-04-11_09-29-35_IN11_CW11_Social.json',\n",
       " '250421_1\\\\2025-04-21_09-29-53_NM21_KC21_Social.json',\n",
       " '250421_2\\\\2025-04-21_10-29-08_LM21_LC21_Social.json',\n",
       " '250502_1\\\\2025-05-02_11-21-38_JC02_KS02_Social.json',\n",
       " '250509_1\\\\2025-05-09_12-30-13_AM09_MC09_Social.json',\n",
       " '250512_1\\\\2025-05-12_09-35-29_TG12_SC12_Social.json']"
      ]
     },
     "execution_count": 13,
     "metadata": {},
     "output_type": "execute_result"
    }
   ],
   "source": [
    "json_filenames_social"
   ]
  }
 ],
 "metadata": {
  "kernelspec": {
   "display_name": "octagon_analysis",
   "language": "python",
   "name": "python3"
  },
  "language_info": {
   "codemirror_mode": {
    "name": "ipython",
    "version": 3
   },
   "file_extension": ".py",
   "mimetype": "text/x-python",
   "name": "python",
   "nbconvert_exporter": "python",
   "pygments_lexer": "ipython3",
   "version": "3.12.7"
  }
 },
 "nbformat": 4,
 "nbformat_minor": 5
}
