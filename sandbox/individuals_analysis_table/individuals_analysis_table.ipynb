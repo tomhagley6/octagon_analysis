{
 "cells": [
  {
   "cell_type": "code",
   "execution_count": 2,
   "metadata": {},
   "outputs": [
    {
     "name": "stdout",
     "output_type": "stream",
     "text": [
      "The autoreload extension is already loaded. To reload it, use:\n",
      "  %reload_ext autoreload\n"
     ]
    }
   ],
   "source": [
    "%load_ext autoreload\n",
    "%autoreload 2\n",
    "\n",
    "import parse_data.prepare_data as prepare_data\n",
    "import parse_data.flip_rotate_trajectories as rotate\n",
    "from analysis.response_times import calculate_response_times, plot_response_times\n",
    "import data_extraction.get_indices as get_indices\n",
    "import plotting.plot_octagon as plot_octagon\n",
    "import globals\n",
    "import numpy as np\n",
    "import pandas as pd\n",
    "import matplotlib.pyplot as plt\n",
    "from matplotlib.patches import Polygon\n",
    "import analysis.loser_inferred_choice as loser_inferred_choice\n",
    "import seaborn as sns\n",
    "import data_strings\n",
    "import data_extraction.trial_list_filters as trial_list_filters\n"
   ]
  },
  {
   "cell_type": "markdown",
   "metadata": {},
   "source": [
    "### Umbrella notebook to collect all analysis on individuals"
   ]
  },
  {
   "cell_type": "markdown",
   "metadata": {},
   "source": [
    "#### List of analyses:\n",
    "- Solo performance (score per unit time)\n",
    "- Social performance (score per unit time)\n",
    "- P(win) social\n",
    "- Sensory effects (P(H|H first vis) - P(H|L first vis)) (solo and social)\n",
    "- Sensory effects difference (comparing solo and social)\n",
    "- Performance across wall sep \n",
    "- Sensory effects across wall sep\n",
    "- Game control ability\n"
   ]
  },
  {
   "cell_type": "markdown",
   "metadata": {},
   "source": [
    "#### Dictionary structure A: Individual participant analysis is the lowest level"
   ]
  },
  {
   "cell_type": "code",
   "execution_count": null,
   "metadata": {},
   "outputs": [],
   "source": [
    "analysis_results = {\n",
    "    session_id: {\n",
    "        player_id: {\n",
    "\n",
    "            # solo analysis\n",
    "            'solo': {\n",
    "                'placeholder_data1': None,\n",
    "            },\n",
    "\n",
    "            # social analysis\n",
    "            'social': {\n",
    "                'placeholder_data2': None,\n",
    "            },\n",
    "\n",
    "            # solo-social comparison analysis\n",
    "            'difference': {\n",
    "                'placeholder_data3': None,\n",
    "\n",
    "            }\n",
    "        }\n",
    "        for player_id in placeholder[session_id]\n",
    "    }\n",
    "    for session_id in placeholder2\n",
    "}"
   ]
  },
  {
   "cell_type": "markdown",
   "metadata": {},
   "source": [
    "#### Dictionary structure B: Analysis remains in array format "
   ]
  },
  {
   "cell_type": "code",
   "execution_count": null,
   "metadata": {},
   "outputs": [],
   "source": [
    "analysis_results = {\n",
    "    \"social\": {\n",
    "        \"performance\": None\n",
    "        \"sensory_effects\": None\n",
    "    },\n",
    "\n",
    "    \"solo\": {\n",
    "        \"performance\": None\n",
    "        \"sensory_effects\": None\n",
    "    },\n",
    "\n",
    "    \"difference\": {\n",
    "        \"placeholder\": None\n",
    "    }\n",
    "\n",
    "}"
   ]
  },
  {
   "cell_type": "markdown",
   "metadata": {},
   "source": [
    "### Alternative approach: Use object-oriented structure because of the complexity"
   ]
  },
  {
   "cell_type": "code",
   "execution_count": null,
   "metadata": {},
   "outputs": [],
   "source": [
    "# low-level class for an individual analysis, with name and dictionary of results\n",
    "class Analysis:\n",
    "    def __init__(self, name, results):\n",
    "        self.name = name\n",
    "        self.results = results\n",
    "\n",
    "    def get_result(self, key):\n",
    "        return self.results.get(key, None)\n",
    "    \n",
    "    def add_result(self, key, value):\n",
    "        self.results[key] = value\n",
    "\n",
    "# instance made for each participant in an experiment\n",
    "class Participant:\n",
    "    def __init__(self, participant_id):\n",
    "        self.participant_id = participant_id\n",
    "        self.analyses = {}\n",
    "\n",
    "    def add_analysis(self, analysis_name, results):\n",
    "        # Create an Analysis object and add it to the dict\n",
    "        self.analyses[analysis_name] = Analysis(analysis_name, results)\n",
    "\n",
    "    def get_analysis(self, analysis_name):\n",
    "        return self.analyses.get(analysis_name, None)\n",
    "    \n",
    "    def add_analysis_object(self, analysis_obj):\n",
    "        # use to add a pre-existing Analysis object\n",
    "        self.analyses[analysis_obj.name] = analysis_obj\n",
    "\n",
    "# instance made for each experiment\n",
    "class Experiment:\n",
    "    def __init__(self, experiment_id):\n",
    "        self.experiment_id = experiment_id\n",
    "        self.participants = {}\n",
    "\n",
    "    def add_participant(self, participant_id):\n",
    "        if participant_id not in self.participants:\n",
    "            self.participants[participant_id] = Participant(participant_id)\n",
    "    \n",
    "    def get_participant(self, participant_id):\n",
    "        if participant_id in self.participants:\n",
    "            return self.participants[participant_id]\n",
    "        else:\n",
    "            return None"
   ]
  }
 ],
 "metadata": {
  "kernelspec": {
   "display_name": "octagon_analysis",
   "language": "python",
   "name": "python3"
  },
  "language_info": {
   "codemirror_mode": {
    "name": "ipython",
    "version": 3
   },
   "file_extension": ".py",
   "mimetype": "text/x-python",
   "name": "python",
   "nbconvert_exporter": "python",
   "pygments_lexer": "ipython3",
   "version": "3.12.7"
  }
 },
 "nbformat": 4,
 "nbformat_minor": 2
}
