{
 "cells": [
  {
   "cell_type": "markdown",
   "id": "5dfe96a1",
   "metadata": {},
   "source": [
    "- Pick a random string of 20 trials\n",
    "  - player_scores.proportion_score_subset_sessions_df()\n",
    "- Give a flat increase for winning social\n",
    "  - +£2 to winner, -£2 to loser (applied after other calculations)\n",
    "- Compare second solo scores\n",
    "  - player_scores.proportion_score_solo_sessions_df()"
   ]
  },
  {
   "cell_type": "code",
   "execution_count": 7,
   "id": "41af2ea1",
   "metadata": {},
   "outputs": [
    {
     "name": "stdout",
     "output_type": "stream",
     "text": [
      "The autoreload extension is already loaded. To reload it, use:\n",
      "  %reload_ext autoreload\n"
     ]
    }
   ],
   "source": [
    "%load_ext autoreload\n",
    "%autoreload 2\n",
    "import parse_data.prepare_data as prepare_data\n",
    "import numpy as np\n",
    "import pandas as pd\n",
    "import matplotlib.pyplot as plt\n",
    "import globals\n",
    "import data_strings\n",
    "import plotting.plot_octagon as plot_octagon\n",
    "import plotting.plot_probability_chose_wall as plot_probability_chose_wall\n",
    "import plotting.plot_trajectory as plot_trajectory\n",
    "import analysis.wall_visibility_and_choice as wall_visibility_and_choice\n",
    "import plotting.plot_probability_chose_wall as plot_probability_chose_wall\n",
    "import data_extraction.trial_list_filters as trial_list_filters\n",
    "from scipy.stats import norm\n",
    "import data_extraction.data_saving as data_saving\n",
    "import parse_data.identify_filepaths as identify_filepaths\n",
    "import analysis.player_scores as player_scores"
   ]
  },
  {
   "cell_type": "markdown",
   "id": "0d359943",
   "metadata": {},
   "source": [
    "### Generic starting point for work on session data"
   ]
  },
  {
   "cell_type": "code",
   "execution_count": 8,
   "id": "09b294c8",
   "metadata": {},
   "outputs": [],
   "source": [
    "loading = False\n",
    "last_n_sessions = True\n",
    "n = 5"
   ]
  },
  {
   "cell_type": "code",
   "execution_count": 9,
   "id": "ac8acecb",
   "metadata": {},
   "outputs": [],
   "source": [
    "# to load all data:\n",
    "if loading:\n",
    "    # load previously prepared data\n",
    "    trial_lists_solo = data_saving.load_data(r'trial_lists_solo_combined_standard_50')\n",
    "    trial_lists_social = data_saving.load_data(r'trial_lists_social_standard_50')"
   ]
  },
  {
   "cell_type": "code",
   "execution_count": 11,
   "id": "6ee528a3",
   "metadata": {},
   "outputs": [],
   "source": [
    "data_folder = data_strings.DATA_FOLDER\n",
    "json_filenames_social, json_filenames_solo = identify_filepaths.get_filenames(data_folder=data_folder)\n",
    "test = identify_filepaths.get_relative_paths('Solo', data_folder=data_folder)\n",
    "\n",
    "if last_n_sessions:\n",
    "    json_filenames_social = json_filenames_social[-n:]\n",
    "    json_filenames_solo = json_filenames_solo[-n*4:]"
   ]
  },
  {
   "cell_type": "code",
   "execution_count": 12,
   "id": "80622c9b",
   "metadata": {},
   "outputs": [
    {
     "data": {
      "application/vnd.jupyter.widget-view+json": {
       "model_id": "07958dd55c25488d8664503eb21a2122",
       "version_major": 2,
       "version_minor": 0
      },
      "text/plain": [
       "IntProgress(value=0, max=20)"
      ]
     },
     "metadata": {},
     "output_type": "display_data"
    },
    {
     "name": "stdout",
     "output_type": "stream",
     "text": [
      "filepath: O:\\human_octagon\\RAW\\standard\\250523_1\\2025-05-23_17-54-31_JW23_FirstSolo.json\n",
      "Loading complete.\n",
      "Preprocessing complete.\n",
      "filepath: O:\\human_octagon\\RAW\\standard\\250523_1\\2025-05-23_18-27-58_JW23_SecondSolo.json\n",
      "Loading complete.\n",
      "Preprocessing complete.\n",
      "filepath: O:\\human_octagon\\RAW\\standard\\250523_1\\2025-05-23_17-54-43_YL23_FirstSolo.json\n",
      "Loading complete.\n",
      "Preprocessing complete.\n",
      "filepath: O:\\human_octagon\\RAW\\standard\\250523_1\\2025-05-23_18-27-42_YL23_SecondSolo.json\n",
      "Loading complete.\n",
      "Preprocessing complete.\n",
      "filepath: O:\\human_octagon\\RAW\\standard\\250524_1\\2025-05-24_10-16-54_JP24_FirstSolo.json\n",
      "Loading complete.\n",
      "Preprocessing complete.\n",
      "filepath: O:\\human_octagon\\RAW\\standard\\250524_1\\2025-05-24_10-53-00_JP24_SecondSolo.json\n",
      "Loading complete.\n",
      "Preprocessing complete.\n",
      "filepath: O:\\human_octagon\\RAW\\standard\\250524_1\\2025-05-24_10-17-04_IP24_FirstSolo.json\n",
      "Loading complete.\n",
      "Preprocessing complete.\n",
      "filepath: O:\\human_octagon\\RAW\\standard\\250524_1\\2025-05-24_10-52-48_IP24_SecondSolo.json\n",
      "Loading complete.\n",
      "Preprocessing complete.\n",
      "filepath: O:\\human_octagon\\RAW\\standard\\250530_1\\2025-05-30_11-18-37_ZZ30_FirstSolo.json\n",
      "Loading complete.\n",
      "Preprocessing complete.\n",
      "filepath: O:\\human_octagon\\RAW\\standard\\250530_1\\2025-05-30_11-57-32_ZZ30_SecondSolo.json\n",
      "Loading complete.\n",
      "Preprocessing complete.\n",
      "filepath: O:\\human_octagon\\RAW\\standard\\250530_1\\2025-05-30_11-18-19_VW30_FirstSolo.json\n",
      "Loading complete.\n",
      "Preprocessing complete.\n",
      "filepath: O:\\human_octagon\\RAW\\standard\\250530_1\\2025-05-30_11-56-49_VW30_SecondSolo.json\n",
      "Loading complete.\n",
      "Preprocessing complete.\n",
      "filepath: O:\\human_octagon\\RAW\\standard\\250604_1\\2025-06-04_15-11-03_MP04_FirstSolo.json\n",
      "Loading complete.\n",
      "Preprocessing complete.\n",
      "filepath: O:\\human_octagon\\RAW\\standard\\250604_1\\2025-06-04_15-46-01_MP04_SecondSolo.json\n",
      "Loading complete.\n",
      "Preprocessing complete.\n",
      "filepath: O:\\human_octagon\\RAW\\standard\\250604_1\\2025-06-04_15-11-26_SH04_FirstSolo.json\n",
      "Loading complete.\n",
      "Preprocessing complete.\n",
      "filepath: O:\\human_octagon\\RAW\\standard\\250604_1\\2025-06-04_15-45-49_SH04_SecondSolo.json\n",
      "Loading complete.\n",
      "Preprocessing complete.\n",
      "filepath: O:\\human_octagon\\RAW\\standard\\250620_1\\2025-06-20_15-18-58_JK20_FirstSolo.json\n",
      "Loading complete.\n",
      "Preprocessing complete.\n",
      "filepath: O:\\human_octagon\\RAW\\standard\\250620_1\\2025-06-20_15-51-01_JK20_SecondSolo.json\n",
      "Loading complete.\n",
      "Preprocessing complete.\n",
      "filepath: O:\\human_octagon\\RAW\\standard\\250620_1\\2025-06-20_15-19-07_DD20_FirstSolo.json\n",
      "Loading complete.\n",
      "Preprocessing complete.\n",
      "filepath: O:\\human_octagon\\RAW\\standard\\250620_1\\2025-06-20_15-50-46_DD20_SecondSolo.json\n",
      "Loading complete.\n",
      "Preprocessing complete.\n"
     ]
    }
   ],
   "source": [
    "_, trials_lists_solo = prepare_data.prepare_data(data_folder, json_filenames_solo, combine=False)"
   ]
  },
  {
   "cell_type": "code",
   "execution_count": 13,
   "id": "3a0f58c5",
   "metadata": {},
   "outputs": [
    {
     "data": {
      "application/vnd.jupyter.widget-view+json": {
       "model_id": "b55ba205969d4f4ab537fe03e66f4b63",
       "version_major": 2,
       "version_minor": 0
      },
      "text/plain": [
       "IntProgress(value=0, max=5)"
      ]
     },
     "metadata": {},
     "output_type": "display_data"
    },
    {
     "name": "stdout",
     "output_type": "stream",
     "text": [
      "filepath: O:\\human_octagon\\RAW\\standard\\250523_1\\2025-05-23_18-05-58_JW23_YL23_Social.json\n",
      "Loading complete.\n",
      "Preprocessing complete.\n",
      "filepath: O:\\human_octagon\\RAW\\standard\\250524_1\\2025-05-24_10-28-19_JP24_IP24_Social.json\n",
      "Loading complete.\n",
      "Preprocessing complete.\n",
      "filepath: O:\\human_octagon\\RAW\\standard\\250530_1\\2025-05-30_11-33-24_ZZ30_VW30_Social.json\n",
      "Loading complete.\n",
      "Preprocessing complete.\n",
      "filepath: O:\\human_octagon\\RAW\\standard\\250604_1\\2025-06-04_15-23-18_MP04_SH04_Social.json\n",
      "Loading complete.\n",
      "Preprocessing complete.\n",
      "filepath: O:\\human_octagon\\RAW\\standard\\250620_1\\2025-06-20_15-30-03_JK20_DD20_Social.json\n",
      "Loading complete.\n",
      "Preprocessing complete.\n"
     ]
    }
   ],
   "source": [
    "_, trials_list_social = prepare_data.prepare_data(data_folder, json_filenames_social, combine=False)"
   ]
  },
  {
   "cell_type": "code",
   "execution_count": 23,
   "id": "d1e0b560",
   "metadata": {},
   "outputs": [
    {
     "name": "stdout",
     "output_type": "stream",
     "text": [
      "Session 0: total_trials=128, subset_length=40, start_index=13\n",
      "Starting trial end scores -> player0: 470.0, player1: 140.0\n",
      "Ending   trial end scores -> player0: 1320.0, player1: 850.0\n",
      "Accumulated scores -> player0: 850.0, player1: 710.0\n",
      "Accumulated total: 1560.0\n",
      "Proportion accumulated total earned by player0: 0.5448717948717948\n",
      "Session 1: total_trials=148, subset_length=40, start_index=77\n",
      "Starting trial end scores -> player0: 1350.0, player1: 2010.0\n",
      "Ending   trial end scores -> player0: 2130.0, player1: 2820.0\n",
      "Accumulated scores -> player0: 780.0, player1: 810.0\n",
      "Accumulated total: 1590.0\n",
      "Proportion accumulated total earned by player0: 0.49056603773584906\n",
      "Session 2: total_trials=149, subset_length=40, start_index=86\n",
      "Starting trial end scores -> player0: 1300.0, player1: 2270.0\n",
      "Ending   trial end scores -> player0: 1830.0, player1: 3270.0\n",
      "Accumulated scores -> player0: 530.0, player1: 1000.0\n",
      "Accumulated total: 1530.0\n",
      "Proportion accumulated total earned by player0: 0.3464052287581699\n",
      "Session 3: total_trials=143, subset_length=40, start_index=62\n",
      "Starting trial end scores -> player0: 1860.0, player1: 750.0\n",
      "Ending   trial end scores -> player0: 2670.0, player1: 1500.0\n",
      "Accumulated scores -> player0: 810.0, player1: 750.0\n",
      "Accumulated total: 1560.0\n",
      "Proportion accumulated total earned by player0: 0.5192307692307693\n",
      "Session 4: total_trials=122, subset_length=40, start_index=4\n",
      "Starting trial end scores -> player0: 250.0, player1: 0.0\n",
      "Ending   trial end scores -> player0: 1200.0, player1: 700.0\n",
      "Accumulated scores -> player0: 950.0, player1: 700.0\n",
      "Accumulated total: 1650.0\n",
      "Proportion accumulated total earned by player0: 0.5757575757575758\n"
     ]
    }
   ],
   "source": [
    "proportion_scores_social_subset = player_scores.proportion_score_subset_sessions_df(trials_list_social, num_trials=40)"
   ]
  },
  {
   "cell_type": "code",
   "execution_count": 24,
   "id": "34d7e3d9",
   "metadata": {},
   "outputs": [
    {
     "data": {
      "text/plain": [
       "array([[0.54487179, 0.45512821],\n",
       "       [0.49056604, 0.50943396],\n",
       "       [0.34640523, 0.65359477],\n",
       "       [0.51923077, 0.48076923],\n",
       "       [0.57575758, 0.42424242]])"
      ]
     },
     "execution_count": 24,
     "metadata": {},
     "output_type": "execute_result"
    }
   ],
   "source": [
    "proportion_scores_social_subset"
   ]
  },
  {
   "cell_type": "code",
   "execution_count": 18,
   "id": "667c171a",
   "metadata": {},
   "outputs": [
    {
     "data": {
      "text/plain": [
       "['250523_1\\\\2025-05-23_18-05-58_JW23_YL23_Social.json',\n",
       " '250524_1\\\\2025-05-24_10-28-19_JP24_IP24_Social.json',\n",
       " '250530_1\\\\2025-05-30_11-33-24_ZZ30_VW30_Social.json',\n",
       " '250604_1\\\\2025-06-04_15-23-18_MP04_SH04_Social.json',\n",
       " '250620_1\\\\2025-06-20_15-30-03_JK20_DD20_Social.json']"
      ]
     },
     "execution_count": 18,
     "metadata": {},
     "output_type": "execute_result"
    }
   ],
   "source": [
    "json_filenames_social"
   ]
  }
 ],
 "metadata": {
  "kernelspec": {
   "display_name": "octagon_analysis",
   "language": "python",
   "name": "python3"
  },
  "language_info": {
   "codemirror_mode": {
    "name": "ipython",
    "version": 3
   },
   "file_extension": ".py",
   "mimetype": "text/x-python",
   "name": "python",
   "nbconvert_exporter": "python",
   "pygments_lexer": "ipython3",
   "version": "3.12.7"
  }
 },
 "nbformat": 4,
 "nbformat_minor": 5
}
