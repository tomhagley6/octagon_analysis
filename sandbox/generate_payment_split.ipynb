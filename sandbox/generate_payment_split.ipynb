{
 "cells": [
  {
   "cell_type": "code",
   "execution_count": 1,
   "id": "41af2ea1",
   "metadata": {},
   "outputs": [],
   "source": [
    "%load_ext autoreload\n",
    "%autoreload 2\n",
    "import parse_data.prepare_data as prepare_data\n",
    "import numpy as np\n",
    "import pandas as pd\n",
    "import matplotlib.pyplot as plt\n",
    "import globals\n",
    "import data_strings\n",
    "import plotting.plot_octagon as plot_octagon\n",
    "import plotting.plot_probability_chose_wall as plot_probability_chose_wall\n",
    "import plotting.plot_trajectory as plot_trajectory\n",
    "import analysis.wall_visibility_and_choice as wall_visibility_and_choice\n",
    "import plotting.plot_probability_chose_wall as plot_probability_chose_wall\n",
    "import data_extraction.trial_list_filters as trial_list_filters\n",
    "from scipy.stats import norm\n",
    "import data_extraction.data_saving as data_saving\n",
    "import parse_data.identify_filepaths as identify_filepaths\n",
    "import analysis.player_scores as player_scores"
   ]
  },
  {
   "cell_type": "markdown",
   "id": "8b79c761",
   "metadata": {},
   "source": [
    "### Notebook to generate payment split based on player performance across solo and competitive sessions"
   ]
  },
  {
   "cell_type": "markdown",
   "id": "5dfe96a1",
   "metadata": {},
   "source": [
    "- Pick a random string of n trials\n",
    "  - player_scores.proportion_score_subset_sessions_df()\n",
    "- Give a flat increase for winning social\n",
    "  - player_scores.is_winner()\n",
    "- Compare second solo scores\n",
    "  - player_scores.proportion_score_solo_sessions_df()"
   ]
  },
  {
   "cell_type": "code",
   "execution_count": 55,
   "id": "09b294c8",
   "metadata": {},
   "outputs": [],
   "source": [
    "loading = False\n",
    "last_n_sessions = True\n",
    "n = 5"
   ]
  },
  {
   "cell_type": "code",
   "execution_count": 45,
   "id": "18513f04",
   "metadata": {},
   "outputs": [],
   "source": [
    "weight_social = 0.7\n",
    "weight_solo = 0.15\n",
    "weight_winner = 0.15"
   ]
  },
  {
   "cell_type": "code",
   "execution_count": 46,
   "id": "ac8acecb",
   "metadata": {},
   "outputs": [],
   "source": [
    "# to load all data:\n",
    "if loading:\n",
    "    # load previously prepared data\n",
    "    trial_lists_solo = data_saving.load_data(r'trial_lists_solo_combined_standard_50')\n",
    "    trial_lists_social = data_saving.load_data(r'trial_lists_social_standard_50')"
   ]
  },
  {
   "cell_type": "code",
   "execution_count": null,
   "id": "19fe6527",
   "metadata": {},
   "outputs": [],
   "source": [
    "2025-10-17_10-28-49_XL17_EV17_Social.json\n",
    "2025-06-20_15-30-03_JK20_DD20_Social.json"
   ]
  },
  {
   "cell_type": "code",
   "execution_count": null,
   "id": "fcdb8795",
   "metadata": {},
   "outputs": [],
   "source": [
    "2025-06-20_15-18-58_JK20_FirstSolo.json\n",
    "2025-10-17_10-16-46_XL17_FirstSolo.json\n",
    "2025-10-17_10-17-01_EV17_FirstSolo.json\n",
    "2025-10-17_10-50-57_EV17_SecondSolo.json\n",
    "2025-10-17_10-51-05_XL17_SecondSolo.json"
   ]
  },
  {
   "cell_type": "code",
   "execution_count": 56,
   "id": "6ee528a3",
   "metadata": {},
   "outputs": [
    {
     "name": "stdout",
     "output_type": "stream",
     "text": [
      "['251013_1/2025-10-13_13-13-04_FA13_FirstSolo.json', '251013_1/2025-10-13_13-44-03_FA13_SecondSolo.json', '251013_1/2025-10-13_13-12-53_SW13_FirstSolo.json', '251013_1/2025-10-13_13-44-12_SW13_SecondSolo.json', '251013_2/2025-10-13_14-16-45_SW13_FirstSolo.json', '251013_2/2025-10-13_14-45-48_SW13_SecondSolo.json', '251013_2/2025-10-13_14-16-36_MU13_FirstSolo.json', '251013_2/2025-10-13_14-45-03_MU13_SecondSolo.json', '251015_1/2025-10-15_09-10-38_CS15_FirstSolo.json', '251015_1/2025-10-15_09-42-32_CS15_SecondSolo.json', '251015_1/2025-10-15_09-10-52_SK15_FirstSolo.json', '251015_1/2025-10-15_09-42-45_SK15_SecondSolo.json', '251017_1/2025-10-17_10-16-46_XL17_FirstSolo.json', '251017_1/2025-10-17_10-51-05_XL17_SecondSolo.json', '251017_1/2025-10-17_10-17-01_EV17_FirstSolo.json', '251017_1/2025-10-17_10-50-57_EV17_SecondSolo.json', '251017_2/2025-10-17_11-18-32_MZ17_FirstSolo.json', '251017_2/2025-10-17_11-50-05_MZ17_SecondSolo.json', '251017_2/2025-10-17_11-18-44_CW17_FirstSolo.json', '251017_2/2025-10-17_11-50-15_CW17_SecondSolo.json']\n"
     ]
    },
    {
     "data": {
      "application/vnd.jupyter.widget-view+json": {
       "model_id": "1e136e692cb249bc80b127550cf38726",
       "version_major": 2,
       "version_minor": 0
      },
      "text/plain": [
       "IntProgress(value=0, max=20)"
      ]
     },
     "metadata": {},
     "output_type": "display_data"
    },
    {
     "name": "stdout",
     "output_type": "stream",
     "text": [
      "filepath: /mnt/tom/ceph/ogma/human_octagon/RAW/standard/251013_1/2025-10-13_13-13-04_FA13_FirstSolo.json\n",
      "Loading complete.\n",
      "Preprocessing complete.\n",
      "filepath: /mnt/tom/ceph/ogma/human_octagon/RAW/standard/251013_1/2025-10-13_13-44-03_FA13_SecondSolo.json\n",
      "Loading complete.\n",
      "Preprocessing complete.\n",
      "filepath: /mnt/tom/ceph/ogma/human_octagon/RAW/standard/251013_1/2025-10-13_13-12-53_SW13_FirstSolo.json\n",
      "Loading complete.\n",
      "Preprocessing complete.\n",
      "filepath: /mnt/tom/ceph/ogma/human_octagon/RAW/standard/251013_1/2025-10-13_13-44-12_SW13_SecondSolo.json\n",
      "Loading complete.\n",
      "Preprocessing complete.\n",
      "filepath: /mnt/tom/ceph/ogma/human_octagon/RAW/standard/251013_2/2025-10-13_14-16-45_SW13_FirstSolo.json\n",
      "Loading complete.\n",
      "Preprocessing complete.\n",
      "filepath: /mnt/tom/ceph/ogma/human_octagon/RAW/standard/251013_2/2025-10-13_14-45-48_SW13_SecondSolo.json\n",
      "Loading complete.\n",
      "Preprocessing complete.\n",
      "filepath: /mnt/tom/ceph/ogma/human_octagon/RAW/standard/251013_2/2025-10-13_14-16-36_MU13_FirstSolo.json\n",
      "Loading complete.\n",
      "Preprocessing complete.\n",
      "filepath: /mnt/tom/ceph/ogma/human_octagon/RAW/standard/251013_2/2025-10-13_14-45-03_MU13_SecondSolo.json\n",
      "Loading complete.\n",
      "Preprocessing complete.\n",
      "filepath: /mnt/tom/ceph/ogma/human_octagon/RAW/standard/251015_1/2025-10-15_09-10-38_CS15_FirstSolo.json\n",
      "Loading complete.\n",
      "Preprocessing complete.\n",
      "filepath: /mnt/tom/ceph/ogma/human_octagon/RAW/standard/251015_1/2025-10-15_09-42-32_CS15_SecondSolo.json\n",
      "Loading complete.\n",
      "Preprocessing complete.\n",
      "filepath: /mnt/tom/ceph/ogma/human_octagon/RAW/standard/251015_1/2025-10-15_09-10-52_SK15_FirstSolo.json\n",
      "Loading complete.\n",
      "Preprocessing complete.\n",
      "filepath: /mnt/tom/ceph/ogma/human_octagon/RAW/standard/251015_1/2025-10-15_09-42-45_SK15_SecondSolo.json\n",
      "Loading complete.\n",
      "Preprocessing complete.\n",
      "filepath: /mnt/tom/ceph/ogma/human_octagon/RAW/standard/251017_1/2025-10-17_10-16-46_XL17_FirstSolo.json\n",
      "Loading complete.\n",
      "Preprocessing complete.\n",
      "filepath: /mnt/tom/ceph/ogma/human_octagon/RAW/standard/251017_1/2025-10-17_10-51-05_XL17_SecondSolo.json\n",
      "Loading complete.\n",
      "Preprocessing complete.\n",
      "filepath: /mnt/tom/ceph/ogma/human_octagon/RAW/standard/251017_1/2025-10-17_10-17-01_EV17_FirstSolo.json\n",
      "Loading complete.\n",
      "Preprocessing complete.\n",
      "filepath: /mnt/tom/ceph/ogma/human_octagon/RAW/standard/251017_1/2025-10-17_10-50-57_EV17_SecondSolo.json\n",
      "Loading complete.\n",
      "Preprocessing complete.\n",
      "filepath: /mnt/tom/ceph/ogma/human_octagon/RAW/standard/251017_2/2025-10-17_11-18-32_MZ17_FirstSolo.json\n",
      "Loading complete.\n",
      "Preprocessing complete.\n",
      "filepath: /mnt/tom/ceph/ogma/human_octagon/RAW/standard/251017_2/2025-10-17_11-50-05_MZ17_SecondSolo.json\n",
      "Loading complete.\n",
      "Preprocessing complete.\n",
      "filepath: /mnt/tom/ceph/ogma/human_octagon/RAW/standard/251017_2/2025-10-17_11-18-44_CW17_FirstSolo.json\n",
      "Loading complete.\n",
      "Preprocessing complete.\n",
      "filepath: /mnt/tom/ceph/ogma/human_octagon/RAW/standard/251017_2/2025-10-17_11-50-15_CW17_SecondSolo.json\n",
      "Loading complete.\n",
      "Preprocessing complete.\n"
     ]
    },
    {
     "data": {
      "application/vnd.jupyter.widget-view+json": {
       "model_id": "ef7716f79fe140d8b76b77a458690028",
       "version_major": 2,
       "version_minor": 0
      },
      "text/plain": [
       "IntProgress(value=0, max=5)"
      ]
     },
     "metadata": {},
     "output_type": "display_data"
    },
    {
     "name": "stdout",
     "output_type": "stream",
     "text": [
      "filepath: /mnt/tom/ceph/ogma/human_octagon/RAW/standard/251013_1/2025-10-13_13-23-15_FA13_SW13_Social.json\n",
      "Loading complete.\n",
      "Preprocessing complete.\n",
      "filepath: /mnt/tom/ceph/ogma/human_octagon/RAW/standard/251013_2/2025-10-13_14-27-33_SW13_MU13_Social.json\n",
      "Loading complete.\n",
      "Preprocessing complete.\n",
      "filepath: /mnt/tom/ceph/ogma/human_octagon/RAW/standard/251015_1/2025-10-15_09-21-08_CS15_SK15_Social.json\n",
      "Loading complete.\n",
      "Preprocessing complete.\n",
      "filepath: /mnt/tom/ceph/ogma/human_octagon/RAW/standard/251017_1/2025-10-17_10-28-49_XL17_EV17_Social.json\n",
      "Loading complete.\n",
      "Preprocessing complete.\n",
      "filepath: /mnt/tom/ceph/ogma/human_octagon/RAW/standard/251017_2/2025-10-17_11-28-45_MZ17_CW17_Social.json\n",
      "Loading complete.\n",
      "Preprocessing complete.\n"
     ]
    }
   ],
   "source": [
    "if not loading:\n",
    "    data_folder = data_strings.DATA_FOLDER\n",
    "    json_filenames_social, json_filenames_solo = identify_filepaths.get_filenames(data_folder=data_folder)\n",
    "    test = identify_filepaths.get_relative_paths('Solo', data_folder=data_folder)\n",
    "\n",
    "    if last_n_sessions:\n",
    "        json_filenames_social = json_filenames_social[-n:]\n",
    "        json_filenames_solo = json_filenames_solo[-n*4:]\n",
    "\n",
    "print(json_filenames_solo)\n",
    "\n",
    "_, trials_lists_solo = prepare_data.prepare_data(data_folder, json_filenames_solo, combine=False)\n",
    "_, trials_lists_social = prepare_data.prepare_data(data_folder, json_filenames_social, combine=False)"
   ]
  },
  {
   "cell_type": "code",
   "execution_count": 64,
   "id": "667c171a",
   "metadata": {},
   "outputs": [
    {
     "data": {
      "text/plain": [
       "['251013_1/2025-10-13_13-23-15_FA13_SW13_Social.json',\n",
       " '251013_2/2025-10-13_14-27-33_SW13_MU13_Social.json',\n",
       " '251015_1/2025-10-15_09-21-08_CS15_SK15_Social.json',\n",
       " '251017_1/2025-10-17_10-28-49_XL17_EV17_Social.json',\n",
       " '251017_2/2025-10-17_11-28-45_MZ17_CW17_Social.json']"
      ]
     },
     "execution_count": 64,
     "metadata": {},
     "output_type": "execute_result"
    }
   ],
   "source": [
    "json_filenames_social"
   ]
  },
  {
   "cell_type": "code",
   "execution_count": 65,
   "id": "d1e0b560",
   "metadata": {},
   "outputs": [
    {
     "name": "stdout",
     "output_type": "stream",
     "text": [
      "Session 0: total_trials=130, subset_length=40, start_index=38\n",
      "Starting trial end scores -> player0: 710.0, player1: 820.0\n",
      "Ending   trial end scores -> player0: 1860.0, player1: 1260.0\n",
      "Accumulated scores -> player0: 1150.0, player1: 440.0\n",
      "Accumulated total: 1590.0\n",
      "Proportion accumulated total earned by player0: 0.7232704402515723\n",
      "Session 1: total_trials=107, subset_length=40, start_index=52\n",
      "Starting trial end scores -> player0: 920.0, player1: 1280.0\n",
      "Ending   trial end scores -> player0: 1610.0, player1: 2030.0\n",
      "Accumulated scores -> player0: 690.0, player1: 750.0\n",
      "Accumulated total: 1440.0\n",
      "Proportion accumulated total earned by player0: 0.4791666666666667\n",
      "Session 2: total_trials=137, subset_length=40, start_index=16\n",
      "Starting trial end scores -> player0: 400.0, player1: 300.0\n",
      "Ending   trial end scores -> player0: 1400.0, player1: 890.0\n",
      "Accumulated scores -> player0: 1000.0, player1: 590.0\n",
      "Accumulated total: 1590.0\n",
      "Proportion accumulated total earned by player0: 0.6289308176100629\n",
      "Session 3: total_trials=138, subset_length=40, start_index=13\n",
      "Starting trial end scores -> player0: 440.0, player1: 200.0\n",
      "Ending   trial end scores -> player0: 1610.0, player1: 590.0\n",
      "Accumulated scores -> player0: 1170.0, player1: 390.0\n",
      "Accumulated total: 1560.0\n",
      "Proportion accumulated total earned by player0: 0.75\n",
      "Session 4: total_trials=135, subset_length=40, start_index=42\n",
      "Starting trial end scores -> player0: 1250.0, player1: 450.0\n",
      "Ending   trial end scores -> player0: 2050.0, player1: 1360.0\n",
      "Accumulated scores -> player0: 800.0, player1: 910.0\n",
      "Accumulated total: 1710.0\n",
      "Proportion accumulated total earned by player0: 0.4678362573099415\n"
     ]
    }
   ],
   "source": [
    "proportion_scores_social_subset = player_scores.proportion_score_subset_sessions_df(trials_lists_social, num_trials=40, debug=False)"
   ]
  },
  {
   "cell_type": "code",
   "execution_count": 60,
   "id": "34d7e3d9",
   "metadata": {},
   "outputs": [
    {
     "data": {
      "text/plain": [
       "array([[0.74404762, 0.25595238],\n",
       "       [0.4822695 , 0.5177305 ],\n",
       "       [0.6918239 , 0.3081761 ],\n",
       "       [0.69934641, 0.30065359],\n",
       "       [0.73856209, 0.26143791]])"
      ]
     },
     "execution_count": 60,
     "metadata": {},
     "output_type": "execute_result"
    }
   ],
   "source": [
    "proportion_scores_social_subset"
   ]
  },
  {
   "cell_type": "code",
   "execution_count": 67,
   "id": "eb65fbf6",
   "metadata": {},
   "outputs": [],
   "source": [
    "is_winner = player_scores.is_winner(trials_lists_social, debug=False)"
   ]
  },
  {
   "cell_type": "code",
   "execution_count": 68,
   "id": "51c32444",
   "metadata": {},
   "outputs": [],
   "source": [
    "# player0 and player1 second solos. Use index [1::2] to get all second solos in one list\n",
    "trials_lists_player0 = trials_lists_solo[1::4]\n",
    "trials_lists_player1 = trials_lists_solo[3::4]"
   ]
  },
  {
   "cell_type": "code",
   "execution_count": 69,
   "id": "481f6479",
   "metadata": {},
   "outputs": [],
   "source": [
    "solo_proportion_scores = player_scores.proportion_score_solo_sessions_df(trials_lists_player0, trials_lists_player1, debug=False)"
   ]
  },
  {
   "cell_type": "code",
   "execution_count": 70,
   "id": "ffa29b99",
   "metadata": {},
   "outputs": [
    {
     "data": {
      "text/plain": [
       "(array([[0.72327044, 0.27672956],\n",
       "        [0.47916667, 0.52083333],\n",
       "        [0.62893082, 0.37106918],\n",
       "        [0.75      , 0.25      ],\n",
       "        [0.46783626, 0.53216374]]),\n",
       " array([[0.50272232, 0.49727768],\n",
       "        [0.49667774, 0.50332226],\n",
       "        [0.47282609, 0.52717391],\n",
       "        [0.50195312, 0.49804688],\n",
       "        [0.51538462, 0.48461538]]),\n",
       " array([[1., 0.],\n",
       "        [0., 1.],\n",
       "        [1., 0.],\n",
       "        [1., 0.],\n",
       "        [1., 0.]]))"
      ]
     },
     "execution_count": 70,
     "metadata": {},
     "output_type": "execute_result"
    }
   ],
   "source": [
    "proportion_scores_social_subset, solo_proportion_scores, is_winner"
   ]
  },
  {
   "cell_type": "code",
   "execution_count": 71,
   "id": "329d389d",
   "metadata": {},
   "outputs": [],
   "source": [
    "\n",
    "final_array = proportion_scores_social_subset*weight_social + solo_proportion_scores*weight_solo + is_winner*weight_winner"
   ]
  },
  {
   "cell_type": "code",
   "execution_count": 72,
   "id": "b2a7cf67",
   "metadata": {},
   "outputs": [
    {
     "data": {
      "text/plain": [
       "array([[0.73169766, 0.26830234],\n",
       "       [0.40991833, 0.59008167],\n",
       "       [0.66117549, 0.33882451],\n",
       "       [0.75029297, 0.24970703],\n",
       "       [0.55479307, 0.44520693]])"
      ]
     },
     "execution_count": 72,
     "metadata": {},
     "output_type": "execute_result"
    }
   ],
   "source": [
    "final_array"
   ]
  }
 ],
 "metadata": {
  "kernelspec": {
   "display_name": "octagon_analysis",
   "language": "python",
   "name": "python3"
  },
  "language_info": {
   "codemirror_mode": {
    "name": "ipython",
    "version": 3
   },
   "file_extension": ".py",
   "mimetype": "text/x-python",
   "name": "python",
   "nbconvert_exporter": "python",
   "pygments_lexer": "ipython3",
   "version": "3.12.10"
  }
 },
 "nbformat": 4,
 "nbformat_minor": 5
}
