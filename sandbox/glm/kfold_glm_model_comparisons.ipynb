{
 "cells": [
  {
   "cell_type": "code",
   "execution_count": 2,
   "id": "7165c571",
   "metadata": {},
   "outputs": [
    {
     "name": "stdout",
     "output_type": "stream",
     "text": [
      "[1] \"R version 4.1.3 (2022-03-10)\"\n",
      "\n"
     ]
    }
   ],
   "source": [
    "%load_ext autoreload\n",
    "%autoreload 2\n",
    "\n",
    "import os \n",
    "# os.environ['R_HOME']= r'C:\\Users\\tomha\\miniconda3\\envs\\octagon_analysis\\lib\\R'\n",
    "os.environ['R_HOME']= r'D:\\Users\\Tom\\miniconda3\\envs\\octagon_analysis\\lib\\R'\n",
    "# os.environ['R_HOME']= '/home/tom/miniconda3/envs/octagon_analysis/lib/R'\n",
    "\n",
    "import rpy2\n",
    "\n",
    "import rpy2.robjects as robjects\n",
    "print(robjects.r('R.version.string'))\n",
    "\n",
    "import parse_data.prepare_data as prepare_data\n",
    "import numpy as np\n",
    "import pandas as pd\n",
    "import matplotlib.pyplot as plt\n",
    "# import globals\n",
    "import data_strings\n",
    "import data_extraction.get_indices as get_indices\n",
    "import analysis.wall_visibility_and_choice as wall_visibility_and_choice\n",
    "from trajectory_analysis import trajectory_vectors\n",
    "from plotting import plot_octagon\n",
    "import parse_data.identify_filepaths as identify_filepaths \n",
    "from data_extraction.trial_list_filters import filter_trials_other_visible\n",
    "from analysis import opponent_visibility\n",
    "from ipywidgets import IntProgress\n",
    "from IPython.display import display\n",
    "import time\n",
    "from pymer4.models import Lmer\n",
    "import populate_dataframes\n",
    "\n"
   ]
  },
  {
   "cell_type": "code",
   "execution_count": 3,
   "id": "bb7e93d8",
   "metadata": {},
   "outputs": [],
   "source": [
    "k = 20\n",
    "split_dataframes = True"
   ]
  },
  {
   "cell_type": "code",
   "execution_count": 57,
   "id": "d5367aff",
   "metadata": {},
   "outputs": [],
   "source": [
    "true_vals = analysis_results[session][player]['social']['dependent']['choice']"
   ]
  },
  {
   "cell_type": "code",
   "execution_count": 58,
   "id": "c3d2a905",
   "metadata": {},
   "outputs": [
    {
     "data": {
      "text/plain": [
       "array([1., 1., 1., 1., 1., 1., 0., 1., 1., 0., 1., 1., 1., 0., 1., 1., 1.,\n",
       "       0., 1., 1., 1., 0., 0., 0., 0., 1., 1., 1., 0., 1., 0., 1., 0., 1.,\n",
       "       1., 1., 1., 1., 0., 1., 1., 1., 1., 1., 0., 1., 0., 1., 1., 1., 1.,\n",
       "       0., 1., 1., 1., 1., 0., 1., 0., 0., 1., 1., 0., 1., 1., 0., 1., 0.,\n",
       "       1., 1., 1., 0., 0., 1., 0., 1., 1., 0., 0., 1., 1., 0., 1., 1., 0.,\n",
       "       1., 0., 1., 0., 1., 0., 1., 1., 1., 0., 1., 1., 1., 0., 0.])"
      ]
     },
     "execution_count": 58,
     "metadata": {},
     "output_type": "execute_result"
    }
   ],
   "source": [
    "true_vals[~np.isnan(true_vals)]"
   ]
  },
  {
   "cell_type": "code",
   "execution_count": 45,
   "id": "1b46f61d",
   "metadata": {},
   "outputs": [
    {
     "name": "stdout",
     "output_type": "stream",
     "text": [
      "{'choice': array([nan,  1.,  0.,  0., nan, nan,  0., nan,  1.,  1.,  1.,  1., nan,\n",
      "        1., nan,  1.,  1., nan,  0., nan,  1.,  1., nan,  0., nan,  0.,\n",
      "        1.,  1.,  0.,  0.,  0., nan,  0.,  0., nan,  1.,  1., nan,  0.,\n",
      "       nan,  1.,  1.,  1.,  1., nan,  1.,  1.,  1., nan, nan,  0.,  0.,\n",
      "        1., nan,  1.,  1.,  0.,  0.,  1.,  1.,  0.,  0.,  1., nan,  1.,\n",
      "        1.,  0.,  1.,  1.,  1., nan,  1., nan,  0.,  0.,  0.,  1.,  1.,\n",
      "        0.,  1.,  0.,  0.,  1., nan,  0.,  1.,  1.,  0.,  1.,  0.,  0.,\n",
      "        1., nan,  0.,  1.,  1., nan, nan, nan, nan, nan,  1.])}\n",
      "{'choice': array([ 1., nan, nan,  0.,  1.,  1.,  1.,  0.,  0.,  0.,  0.,  0.,  1.,\n",
      "        1.,  1.,  0.,  1.,  1.,  1.,  0.,  0., nan,  1., nan,  1., nan,\n",
      "        1.,  1.,  1.,  1.,  1.,  0.,  1.,  1.,  1., nan, nan,  1.,  1.,\n",
      "        0.,  1.,  1.,  1., nan,  1., nan, nan,  1.,  0.,  1.,  1.,  0.,\n",
      "       nan,  1.,  0.,  1.,  1.,  1., nan,  1., nan, nan,  0.,  1.,  1.,\n",
      "        0.,  0.,  1.,  1.,  1.,  1.,  1.,  1.,  1.,  0.,  1.,  0.,  0.,\n",
      "        0.,  0.,  1.,  1.,  0.,  1.,  1.,  0.,  0.,  1.,  0.,  0.,  1.,\n",
      "        0.,  0.,  1., nan,  1.,  1.,  0.,  1.,  1.,  1.,  1.])}\n",
      "{'choice': array([nan,  0.,  0.,  1., nan,  1., nan,  1.,  1.,  0.,  0., nan,  0.,\n",
      "       nan, nan,  0.,  0., nan,  0., nan,  1., nan,  0., nan, nan, nan,\n",
      "        0., nan, nan, nan, nan, nan,  1., nan, nan,  1., nan,  1.,  1.,\n",
      "       nan, nan, nan, nan,  1., nan,  1.,  1.,  1.,  1.,  0.,  0., nan,\n",
      "       nan,  0.,  1.,  1., nan,  0.,  1.,  1., nan,  0.,  1., nan, nan,\n",
      "       nan,  0., nan,  1., nan,  0., nan, nan, nan,  1., nan,  1.,  1.,\n",
      "        1.])}\n",
      "{'choice': array([ 1.,  0.,  1.,  1.,  1.,  1.,  1.,  0.,  1.,  1., nan,  1.,  1.,\n",
      "        1.,  1., nan,  1.,  1.,  0.,  1., nan,  1.,  1.,  0.,  1.,  1.,\n",
      "       nan,  1.,  1.,  1.,  0.,  1., nan,  1.,  0.,  1.,  1.,  1.,  0.,\n",
      "        1.,  1.,  1.,  1.,  0.,  0.,  1.,  1.,  1.,  1.,  0.,  0.,  0.,\n",
      "        1.,  1.,  1.,  1.,  1.,  1.,  1.,  1.,  1.,  0.,  1.,  1.,  1.,\n",
      "        0.,  0.,  1.,  0.,  1.,  1.,  1.,  1.,  0.,  0.,  1., nan,  1.,\n",
      "        1.])}\n",
      "{'choice': array([nan,  0., nan,  1.,  1.,  1.,  0., nan, nan,  1.,  1.,  1.,  1.,\n",
      "        1., nan,  1., nan,  1., nan, nan,  1.,  1.,  1.,  0., nan,  0.,\n",
      "        1.,  1., nan,  1., nan,  0.,  0., nan,  1.,  1.,  0.,  1., nan,\n",
      "        0.,  1., nan, nan,  0., nan,  1.,  0., nan, nan, nan, nan, nan,\n",
      "        1.,  1.,  1.,  1.,  0.,  0.,  1.,  0.,  1.,  1.,  0.,  1.,  1.,\n",
      "       nan,  1.,  0.,  1., nan,  0.,  1.,  1., nan,  1.,  1.,  1., nan,\n",
      "       nan,  0., nan, nan, nan,  1., nan,  1.,  1.,  1.,  1.,  1., nan,\n",
      "        1., nan])}\n",
      "{'choice': array([ 0.,  1.,  0., nan, nan,  0.,  1.,  1.,  1.,  1.,  1.,  1.,  1.,\n",
      "        0.,  1.,  0.,  1.,  1.,  1.,  0.,  0.,  1.,  0.,  1.,  0., nan,\n",
      "       nan,  0.,  1., nan,  1., nan,  1.,  1.,  1.,  1.,  1.,  0.,  1.,\n",
      "        0.,  0.,  0.,  1.,  1.,  0., nan,  1.,  0.,  1.,  1.,  1.,  0.,\n",
      "        1.,  0.,  0.,  1., nan,  1.,  1.,  1.,  0.,  0.,  1., nan,  0.,\n",
      "        1.,  1., nan, nan,  1., nan,  0.,  0.,  1., nan,  0., nan,  1.,\n",
      "        0., nan,  1.,  1.,  0.,  0.,  0.,  1., nan,  1.,  1.,  0.,  0.,\n",
      "       nan,  0.])}\n",
      "{'choice': array([ 0.,  1., nan,  1.,  1.,  1.,  1.,  1., nan,  1.,  0.,  1., nan,\n",
      "        0., nan, nan,  0.,  1.,  1., nan, nan,  0.,  1.,  0., nan, nan,\n",
      "        1., nan,  0.,  1.,  1., nan, nan,  1.,  1.,  1.,  0.,  0., nan,\n",
      "        0.,  1.,  0.,  0., nan,  1., nan,  1.,  0.,  0., nan,  1.,  0.,\n",
      "        0.,  0.,  1.,  0., nan,  0., nan,  1.,  1.,  0.,  0., nan,  0.,\n",
      "        0., nan, nan, nan, nan,  0.,  1.,  1.,  0.,  0., nan,  1., nan,\n",
      "       nan,  1.,  0., nan,  0., nan, nan,  1.,  0.,  1., nan,  1.,  1.,\n",
      "       nan,  1., nan, nan, nan,  1.,  0.,  1.,  1.,  1.,  0.,  1.,  1.,\n",
      "        1.,  0.,  1.,  1., nan, nan, nan,  0.,  1.,  1., nan,  0.,  1.,\n",
      "        1., nan,  1.,  1., nan,  1., nan,  1.,  0., nan,  1.,  1.,  1.,\n",
      "        1., nan,  1., nan, nan,  0.])}\n",
      "{'choice': array([ 1.,  1.,  1., nan,  1.,  1.,  1.,  1.,  1.,  0., nan,  1.,  0.,\n",
      "        0.,  1.,  1.,  0.,  1.,  1.,  1.,  1.,  0.,  0.,  1.,  0.,  0.,\n",
      "       nan,  1.,  0.,  1.,  1.,  1.,  1.,  1., nan,  1.,  0.,  1.,  1.,\n",
      "        1.,  1.,  1.,  0.,  1.,  1.,  1.,  0.,  1.,  1.,  1.,  1.,  1.,\n",
      "       nan,  0.,  1.,  1.,  1.,  1.,  1.,  0.,  0.,  0.,  1.,  0.,  0.,\n",
      "        1.,  0.,  0.,  1.,  0.,  1.,  1.,  0.,  1.,  0.,  1.,  0.,  1.,\n",
      "        1.,  1.,  1.,  1.,  1.,  1.,  1., nan,  1.,  1.,  0., nan,  1.,\n",
      "        1.,  1.,  1.,  1.,  1.,  1.,  1.,  0.,  1.,  1.,  1., nan,  0.,\n",
      "        0.,  1., nan,  1.,  1.,  1.,  1.,  1.,  0.,  1.,  1.,  1.,  1.,\n",
      "        1.,  1.,  1.,  1.,  1.,  1.,  1.,  1.,  1.,  1.,  0.,  1.,  1.,\n",
      "        0.,  0., nan,  1.,  0.,  1.])}\n",
      "{'choice': array([ 1., nan, nan, nan, nan,  0.,  1., nan,  1., nan,  0.,  1.,  0.,\n",
      "       nan, nan,  0.,  0., nan, nan,  0.,  1.,  1., nan,  0.,  1.,  0.,\n",
      "       nan,  0., nan, nan,  1.,  0., nan,  1.,  0.,  0.,  0., nan,  1.,\n",
      "       nan, nan, nan, nan,  1.,  0.,  0.,  0.,  1., nan, nan,  0.,  1.,\n",
      "        0., nan,  1.,  1.,  0., nan, nan, nan,  1.,  1.,  1., nan,  0.,\n",
      "       nan, nan,  0.,  1., nan, nan,  0., nan,  1.,  1.,  1.,  1.])}\n",
      "{'choice': array([nan,  0.,  0.,  1.,  1.,  1., nan,  1., nan,  1.,  1.,  0.,  1.,\n",
      "        1.,  1., nan, nan,  1.,  1., nan,  0.,  1.,  1., nan,  0.,  1.,\n",
      "        1., nan,  1.,  1.,  1., nan,  1.,  1.,  1.,  1.,  1.,  1.,  0.,\n",
      "        0.,  0.,  0.,  1., nan,  1., nan, nan, nan,  1.,  1.,  1.,  1.,\n",
      "        1.,  1.,  1., nan, nan,  0.,  1.,  1.,  1., nan,  1.,  1.,  1.,\n",
      "        1.,  1.,  1.,  1.,  1.,  1.,  0.,  0., nan, nan,  0.,  1.])}\n",
      "{'choice': array([nan,  1., nan,  1.,  1.,  1.,  0.,  1.,  0.,  1.,  1.,  1.,  1.,\n",
      "        1.,  1.,  1.,  1.,  0.,  1.,  1.,  1.,  1.,  1.,  1.,  1.,  0.,\n",
      "        0.,  1.,  1.,  1.,  0.,  1.,  1.,  1.,  1.,  1.,  0.,  1.,  1.,\n",
      "        0.,  0.,  1.,  1.,  1.,  1.,  1.,  1.,  1.,  1.,  0.,  0.,  0.,\n",
      "        1.,  1.,  1., nan,  1.,  1.,  1.,  1.,  0.,  1.,  1.,  1.,  1.,\n",
      "        1.,  1.,  1.,  0.,  1.,  1.,  1.,  1.,  1.,  1.,  1.,  0.,  0.,\n",
      "        1.,  1.,  0., nan,  1.,  0.,  1.,  1.,  0.,  1.,  1.,  1.,  1.,\n",
      "        1.,  1.])}\n",
      "{'choice': array([ 1., nan,  0., nan,  1.,  0.,  1., nan,  1.,  0., nan, nan,  1.,\n",
      "        1., nan,  1., nan, nan, nan, nan,  0., nan,  1., nan, nan, nan,\n",
      "       nan, nan, nan,  0., nan,  0.,  1.,  1., nan,  0., nan, nan, nan,\n",
      "        0., nan,  1.,  0.,  0.,  0.,  0.,  0.,  0.,  1.,  1.,  0.,  1.,\n",
      "       nan,  0.,  0.,  1., nan,  0., nan,  0.,  0., nan,  0.,  1.,  1.,\n",
      "        0., nan, nan,  1., nan, nan,  1.,  1.,  0.,  0., nan,  1.,  0.,\n",
      "       nan,  0.,  1.,  1.,  1.,  1.,  0.,  0.,  1.,  1.,  0.,  0., nan,\n",
      "       nan,  1.])}\n",
      "{'choice': array([ 1.,  1.,  1.,  1.,  1.,  1.,  1.,  1.,  1.,  1., nan,  1., nan,\n",
      "       nan,  1.,  1., nan,  1.,  1.,  1.,  1.,  1.,  0.,  0.,  0.,  0.,\n",
      "        0.,  0.,  1.,  1.,  1.,  0.,  1.,  1.,  0.,  1.,  1.,  1.,  0.,\n",
      "        1.,  1.,  1., nan,  0.,  1.,  1.,  1.,  1.,  0., nan, nan,  0.,\n",
      "        0.,  0., nan,  0.,  1.,  1.,  1.,  1.,  1.,  0.,  0.,  1.,  0.,\n",
      "        1.,  1.,  1.,  0.,  0.,  0.,  1.,  1.,  0.,  0.,  0.,  1.,  0.,\n",
      "        1.,  1.,  0.,  1.,  1.,  0.,  1.,  0.,  0.,  0.,  0.,  1.,  1.,\n",
      "        0.,  1.])}\n",
      "{'choice': array([ 1.,  1.,  1.,  1.,  0.,  1.,  1.,  0.,  1.,  1.,  0.,  1.,  1.,\n",
      "        1.,  0.,  1.,  1.,  1.,  1.,  1.,  1.,  0.,  1.,  1.,  0.,  1.,\n",
      "        0.,  1.,  1.,  1.,  0.,  0.,  0.,  0.,  0.,  1.,  1.,  1.,  1.,\n",
      "        0.,  1.,  1.,  1., nan,  1.,  0., nan, nan,  1.,  1.,  1.,  1.,\n",
      "        1.,  1.,  1.,  1.,  1.,  1.,  0.,  1.,  1.,  1.,  0.,  0.,  1.,\n",
      "        1.,  0.,  0.,  0.,  0.,  1.,  1.,  1.,  1.,  0.,  1.,  1.,  1.,\n",
      "        1., nan,  0.,  1.,  1.,  1.,  1.,  1.,  1.,  1.,  1.,  1.,  1.,\n",
      "        1.,  1.])}\n",
      "{'choice': array([nan,  1.,  1.,  1., nan, nan,  1., nan,  1.,  1., nan, nan, nan,\n",
      "        0., nan,  1.,  1., nan,  1., nan,  1.,  0.,  0.,  1., nan, nan,\n",
      "        0.,  0.,  0.,  1.,  0.,  1., nan, nan,  1.,  0., nan,  1.,  1.,\n",
      "        0., nan,  1.,  1.,  1.,  0.,  1.,  0.,  0.,  1.,  0., nan,  1.,\n",
      "        1.,  1., nan,  1., nan,  0.,  0.,  0., nan,  0., nan,  1., nan,\n",
      "        1., nan,  1.,  1.,  1.,  0., nan, nan,  1.,  1., nan, nan,  1.,\n",
      "        0.,  1., nan, nan, nan,  1.,  1.,  1.,  1.,  1.,  1.,  1.,  1.,\n",
      "        1., nan, nan,  0., nan, nan, nan,  1.,  1.,  1.,  1.,  1.,  1.,\n",
      "        1., nan,  1.,  1.,  1.])}\n",
      "{'choice': array([ 0.,  1., nan,  1.,  0.,  1.,  0.,  1., nan,  0.,  1.,  0.,  1.,\n",
      "       nan,  1.,  1.,  1.,  1.,  0.,  0.,  0.,  0.,  1.,  0.,  1.,  0.,\n",
      "        1.,  1.,  1., nan,  1., nan,  0.,  1.,  0., nan,  1., nan, nan,\n",
      "        1.,  1.,  0., nan,  1., nan,  1.,  1.,  1.,  0., nan,  1.,  0.,\n",
      "        0.,  0.,  1.,  1.,  1.,  1.,  0.,  0.,  1.,  1.,  1.,  0.,  1.,\n",
      "        0.,  1.,  0.,  1.,  1.,  0.,  1.,  1.,  1., nan,  1.,  1.,  1.,\n",
      "        1.,  0.,  1.,  1.,  0.,  1.,  1.,  1.,  1.,  1.,  0.,  0.,  1.,\n",
      "       nan,  1.,  0.,  0.,  1.,  1.,  1., nan,  1.,  0.,  1., nan,  1.,\n",
      "        1.,  1.,  0.,  0., nan])}\n",
      "{'choice': array([nan,  0.,  0., nan, nan, nan,  0.,  1., nan,  1.,  0., nan,  1.,\n",
      "       nan, nan,  1., nan,  1., nan,  1., nan,  0., nan,  1.,  1., nan,\n",
      "        0.,  1.,  1., nan,  1.,  0.,  1., nan, nan, nan,  1., nan,  1.,\n",
      "        1.,  0.,  1.,  0., nan,  1.,  1.,  1.,  1.,  0., nan, nan,  0.,\n",
      "       nan,  1.,  0.,  1.,  0., nan, nan,  0.,  1.,  1.,  1., nan,  0.,\n",
      "        1., nan,  1.,  1.,  1.,  1.,  1.,  1.,  1., nan,  1., nan, nan,\n",
      "       nan, nan,  0., nan,  1., nan,  1.,  1., nan, nan,  1., nan, nan,\n",
      "        0.,  1.])}\n",
      "{'choice': array([ 1., nan,  1.,  1.,  0.,  1.,  1.,  1.,  0.,  1., nan,  0., nan,\n",
      "        1.,  0.,  1.,  0., nan,  0.,  0.,  0.,  1.,  1., nan,  0.,  1.,\n",
      "        1.,  0., nan,  0.,  1., nan,  0.,  0.,  0.,  1., nan,  1.,  1.,\n",
      "        0.,  0.,  0.,  1.,  0.,  0.,  1.,  0.,  1.,  1.,  0.,  1.,  0.,\n",
      "        1.,  0.,  1.,  0.,  0.,  1.,  1.,  0.,  0.,  0.,  1.,  1.,  1.,\n",
      "       nan,  0., nan,  1.,  1.,  1.,  0.,  0.,  1.,  1., nan,  0.,  1.,\n",
      "        1.,  1., nan,  1., nan,  0., nan, nan,  1.,  1.,  1.,  1.,  1.,\n",
      "       nan, nan])}\n",
      "{'choice': array([ 1.,  1.,  1.,  1.,  1.,  1.,  0.,  1.,  0.,  1., nan,  1.,  1.,\n",
      "        1.,  1.,  1., nan,  1.,  0.,  0.,  1., nan,  0.,  0.,  0.,  0.,\n",
      "        1.,  1.,  0.,  0.,  1.,  1.,  1.,  1.,  1.,  1.,  1.,  0.,  1.,\n",
      "        0., nan, nan,  1.,  1.,  0.,  1.,  1.,  1.,  1.,  1.,  1.,  1.,\n",
      "       nan,  1.,  1.,  1.,  1.,  1.,  1.,  1.,  1., nan, nan,  0.,  1.,\n",
      "        1.,  1.,  1.,  0.,  1.,  1., nan, nan, nan, nan,  1.,  1.,  1.,\n",
      "        0.,  0.,  0.,  1.,  0., nan,  1.,  1.,  1.,  1., nan,  1.,  1.,\n",
      "        1.,  1.,  0.,  1.,  1.,  1.,  1.])}\n",
      "{'choice': array([nan, nan, nan, nan, nan,  0.,  0., nan, nan,  1.,  1.,  1., nan,\n",
      "       nan,  0., nan,  1., nan, nan, nan, nan,  1., nan, nan, nan,  1.,\n",
      "       nan, nan,  0.,  1., nan, nan,  1.,  0.,  1.,  0., nan, nan, nan,\n",
      "       nan,  0.,  0., nan,  0.,  1.,  0.,  1., nan,  0., nan, nan,  1.,\n",
      "        1., nan, nan, nan,  1., nan, nan, nan,  0.,  0.,  1.,  1., nan,\n",
      "        1., nan, nan, nan, nan,  0.,  1.,  0.,  0.,  0.,  0.,  1.,  0.,\n",
      "       nan,  0.,  0., nan, nan,  0., nan,  1.,  0., nan,  0., nan, nan,\n",
      "        0.,  1., nan, nan,  1.,  1.,  1.])}\n",
      "{'choice': array([nan, nan, nan, nan, nan, nan, nan,  1.,  0.,  0.,  1., nan,  0.,\n",
      "        1.,  1.,  0.,  0., nan,  1.,  1.,  1.,  1., nan,  0.,  0., nan,\n",
      "        1.,  0., nan,  1.,  1.,  1., nan,  0.,  1., nan, nan,  1., nan,\n",
      "        0.,  1., nan,  1.,  0.,  0., nan,  0.,  1.,  0., nan,  0.,  1.,\n",
      "        1., nan,  1.,  1., nan, nan, nan,  0.,  0., nan,  1.,  1.,  1.,\n",
      "        0., nan,  0.,  1.,  1.,  0.,  0.,  0., nan,  1.,  1.,  1., nan,\n",
      "       nan,  0., nan,  0., nan, nan,  0., nan,  0., nan,  1.,  0.,  0.,\n",
      "        1.,  1.,  0.,  0.,  1.,  0., nan,  1.,  1., nan,  0.,  0.,  1.,\n",
      "       nan, nan, nan,  0., nan,  1.,  1.,  1., nan,  1.,  1.,  0.,  0.,\n",
      "        0., nan, nan,  0.,  1., nan,  1.])}\n",
      "{'choice': array([ 1.,  1.,  1.,  1.,  1.,  1.,  1.,  1.,  1.,  1.,  1.,  0.,  1.,\n",
      "       nan,  1.,  1.,  0.,  1., nan,  1.,  1.,  1.,  1.,  1.,  1.,  1.,\n",
      "        1.,  1.,  1.,  1.,  0.,  1.,  1.,  0.,  1.,  0.,  1.,  1.,  1.,\n",
      "        0., nan,  1.,  0.,  1.,  1.,  1.,  1., nan,  0.,  1.,  1.,  1.,\n",
      "       nan,  1.,  1.,  1.,  1.,  0.,  1.,  1.,  1.,  1.,  1.,  1.,  1.,\n",
      "        0.,  1.,  1.,  0.,  1.,  1.,  1.,  1.,  1.,  1.,  1.,  1.,  1.,\n",
      "        1.,  1.,  1.,  1.,  1.,  1., nan,  1.,  1.,  1.,  1.,  1.,  1.,\n",
      "        1.,  1.,  1.,  0., nan,  1.,  1.,  1.,  1.,  1.,  1.,  0., nan,\n",
      "        1.,  1.,  1.,  1.,  1.,  1.,  0.,  1.,  1.,  1., nan,  1.,  1.,\n",
      "        0.,  1.,  1.,  1.,  1.,  0.,  1.])}\n",
      "{'choice': array([nan, nan, nan, nan,  1.,  1.,  0.,  0.,  0.,  1.,  0., nan,  1.,\n",
      "       nan,  1., nan, nan,  1.,  1.,  0.,  1.,  1.,  0.,  1.,  1.,  0.,\n",
      "        0.,  1.,  1.,  0., nan,  1., nan,  1.,  1.,  1.,  1., nan, nan,\n",
      "        1., nan, nan,  0., nan, nan, nan, nan,  1., nan, nan, nan,  0.,\n",
      "        0., nan,  1.,  0.,  0.,  1.,  1.,  1., nan,  0.,  1., nan, nan,\n",
      "        1., nan,  0., nan,  1.,  1., nan,  0., nan,  0., nan,  1., nan,\n",
      "        1., nan,  0.,  1.,  0.,  0., nan, nan,  1., nan,  1., nan, nan,\n",
      "        1.,  0.,  1.,  1., nan,  1.,  0.,  0.,  0., nan, nan, nan,  0.,\n",
      "        1.,  0., nan,  1.,  1.,  0.,  0.,  0., nan,  1.,  0., nan, nan,\n",
      "        1., nan])}\n",
      "{'choice': array([ 1.,  1.,  1.,  1.,  1., nan,  1., nan,  1.,  0.,  1.,  1.,  0.,\n",
      "        1.,  1.,  1.,  0.,  0.,  0.,  1.,  1.,  0.,  1., nan,  1.,  1.,\n",
      "        1.,  0.,  1.,  1.,  1.,  1.,  0.,  1.,  1.,  1.,  1.,  1.,  1.,\n",
      "        0.,  0.,  1.,  1.,  1.,  1.,  1.,  1.,  1.,  1.,  1.,  1.,  1.,\n",
      "        1.,  0.,  1.,  1.,  1.,  1.,  0.,  0.,  1.,  1.,  1.,  1.,  1.,\n",
      "        1.,  0.,  1.,  1.,  0.,  1.,  1.,  1.,  1.,  1.,  1.,  0.,  0.,\n",
      "        0.,  1.,  1.,  1.,  1.,  1.,  1.,  0.,  1.,  1.,  0.,  0.,  0.,\n",
      "        1., nan,  1.,  1.,  1.,  1.,  1.,  1.,  1.,  1.,  0.,  1.,  1.,\n",
      "        1.,  0.,  1.,  0.,  1.,  1.,  1.,  1.,  1., nan,  1.,  1.,  1.,\n",
      "        0.,  1.])}\n",
      "{'choice': array([ 0.,  1.,  1.,  1., nan, nan,  0.,  1.,  1.,  1.,  0.,  1.,  1.,\n",
      "        1.,  1.,  0., nan,  1.,  1.,  1.,  1.,  1.,  0.,  0.,  1.,  1.,\n",
      "       nan,  1.,  1.,  1.,  1.,  1.,  1.,  0., nan,  1.,  1.,  0., nan,\n",
      "       nan,  0.,  0.,  1.,  0.,  1.,  1.,  1.,  1.,  1.,  0.,  1.,  1.,\n",
      "        0.,  1.,  1.,  1., nan,  0., nan, nan,  1.,  1.,  1., nan,  1.,\n",
      "        1.,  1.,  1.,  0.,  0., nan,  1.,  1.,  1.,  1.,  1.,  1.,  1.,\n",
      "        1.,  1.,  1.,  1., nan,  1.,  1.,  1.,  1.])}\n",
      "{'choice': array([ 1., nan, nan, nan,  1.,  1.,  1.,  0.,  1.,  0.,  1.,  0.,  0.,\n",
      "        0.,  0.,  1.,  1.,  1.,  0.,  1.,  1., nan, nan, nan, nan,  0.,\n",
      "        1.,  0.,  1.,  1.,  1.,  0., nan,  1.,  1., nan,  0.,  0.,  1.,\n",
      "        1.,  1., nan,  1., nan, nan,  0., nan,  0.,  0.,  1.,  1., nan,\n",
      "       nan, nan,  0., nan,  1.,  1.,  1.,  0., nan, nan,  0.,  1.,  1.,\n",
      "        0.,  1.,  1.,  0.,  1.,  0.,  1.,  0., nan, nan, nan, nan, nan,\n",
      "       nan, nan,  1., nan,  1.,  1.,  1.,  0.,  0.])}\n",
      "{'choice': array([ 1.,  1.,  1.,  0.,  0.,  1.,  1., nan,  1., nan,  0., nan,  1.,\n",
      "        1., nan,  1.,  1.,  1.,  1.,  1.,  1.,  1., nan,  1.,  1.,  1.,\n",
      "       nan,  1.,  1., nan, nan,  1.,  1.,  1.,  1.,  1., nan,  1.,  0.,\n",
      "        1.,  1.,  1.,  1.,  1.,  1., nan,  1., nan, nan,  1.,  1.,  1.,\n",
      "        1.,  1.,  1.,  1.,  1., nan,  1.,  0., nan,  1., nan,  1.,  1.,\n",
      "        1.,  1.,  1., nan,  1.,  1.,  1.,  1.,  1., nan,  1.,  0.,  0.,\n",
      "        1.,  1.,  1.,  1.,  1.,  1.,  1.,  1., nan,  1.,  1., nan,  1.,\n",
      "        1.,  1., nan,  0.])}\n",
      "{'choice': array([nan, nan,  1.,  0.,  1., nan,  1.,  1., nan,  1.,  1.,  1.,  1.,\n",
      "        0.,  1.,  1.,  1.,  1., nan, nan, nan, nan,  1., nan,  1.,  0.,\n",
      "        1.,  1., nan,  1.,  1., nan, nan,  0., nan, nan,  1., nan,  1.,\n",
      "       nan,  1., nan,  0., nan, nan,  1., nan,  1.,  0., nan,  0.,  1.,\n",
      "        0.,  0., nan,  1.,  1.,  0.,  0.,  1.,  1.,  1.,  1., nan, nan,\n",
      "        0.,  0.,  0.,  0.,  1., nan,  0.,  0.,  0.,  1., nan,  0.,  1.,\n",
      "        1., nan, nan,  0., nan, nan,  1., nan,  0., nan,  0.,  1., nan,\n",
      "       nan,  0.,  1.,  1.])}\n",
      "{'choice': array([ 0.,  1.,  1., nan, nan,  1.,  1.,  0.,  0.,  1.,  0., nan, nan,\n",
      "        0.,  1.,  1.,  1., nan,  1.,  0., nan, nan, nan,  0., nan,  1.,\n",
      "        1., nan,  1., nan,  1.,  0.,  1., nan,  0.,  1.,  1.,  1.,  1.,\n",
      "       nan, nan,  0., nan,  0.,  1.,  1.,  1., nan,  0.,  0., nan,  1.,\n",
      "       nan,  0., nan,  1.,  1.,  1.,  1.,  1.,  1., nan,  1.,  1., nan,\n",
      "       nan,  1.,  1., nan,  1.,  1.,  1.,  1.,  0.,  0.,  0., nan, nan,\n",
      "        1., nan, nan,  1.,  1., nan,  1., nan, nan, nan,  1.,  0.,  1.,\n",
      "        1., nan,  0.,  0.,  1., nan,  1.,  1., nan,  0.,  0.,  1.,  1.,\n",
      "        1.,  1.,  1.,  0.,  0., nan])}\n",
      "{'choice': array([ 1.,  1.,  1.,  0.,  1., nan, nan,  1.,  1.,  0., nan,  1.,  0.,\n",
      "        1.,  0.,  1.,  1.,  1.,  0., nan,  0.,  0.,  0., nan,  1.,  0.,\n",
      "       nan,  0.,  0.,  0., nan,  1.,  0.,  0.,  1., nan,  1., nan,  0.,\n",
      "        0.,  1.,  1.,  1.,  1., nan, nan,  0.,  0.,  1.,  1.,  0.,  0.,\n",
      "        1.,  1.,  1., nan,  1.,  1., nan, nan,  0.,  1.,  1.,  1.,  1.,\n",
      "        0.,  1.,  0.,  0.,  0.,  0.,  1., nan,  0.,  0.,  1.,  0.,  1.,\n",
      "        0.,  0.,  0.,  0.,  0.,  0.,  1.,  1.,  0.,  0.,  1., nan,  1.,\n",
      "        1.,  1.,  1.,  1.,  0.,  0.,  0., nan,  1.,  0.,  0.,  0.,  1.,\n",
      "        1., nan,  0.,  1., nan,  0.])}\n",
      "{'choice': array([nan,  0.,  0.,  1.,  1.,  1.,  0.,  1., nan,  1.,  1., nan,  0.,\n",
      "       nan, nan,  1.,  0.,  1.,  1.,  1.,  1.,  1., nan,  0., nan,  0.,\n",
      "       nan, nan, nan,  1.,  1.,  1.,  1.,  0.,  1.,  1.,  1.,  1.,  1.,\n",
      "        1.,  0.,  1., nan,  1.,  1.,  1.,  1.,  1.,  1.,  1.,  1.,  0.,\n",
      "        1., nan,  1., nan, nan,  1., nan,  1.,  0.,  1.,  1.,  0.,  1.,\n",
      "       nan,  1.,  0.,  1., nan, nan,  1., nan,  0.,  1.,  1., nan,  1.,\n",
      "        1., nan,  0.,  1.,  1.,  1.,  1.,  1.,  1.,  1.,  1.,  0.,  1.,\n",
      "        1., nan,  1.,  0.,  1.,  1., nan,  1., nan, nan, nan,  1., nan,\n",
      "        1., nan,  1.,  1.,  1., nan,  1.,  0., nan, nan,  1.])}\n",
      "{'choice': array([ 1., nan,  1., nan, nan,  0.,  0.,  1.,  1., nan, nan,  1.,  0.,\n",
      "        1.,  1.,  1.,  1.,  0.,  1., nan,  0.,  1.,  1., nan,  1.,  1.,\n",
      "        1.,  1.,  0.,  1.,  1., nan,  1.,  1.,  0.,  1., nan,  0.,  1.,\n",
      "        0., nan,  1.,  1., nan,  1.,  1.,  1.,  1.,  0.,  0.,  1., nan,\n",
      "        1.,  1.,  0.,  1.,  0.,  1.,  1.,  1.,  1., nan,  1., nan,  1.,\n",
      "        1.,  1.,  1., nan,  1.,  1., nan,  1.,  1.,  1.,  1.,  1.,  1.,\n",
      "       nan,  0., nan,  1.,  1.,  0., nan, nan,  0., nan,  0.,  1.,  0.,\n",
      "        0.,  1.,  1., nan,  1.,  0.,  1., nan,  0.,  1.,  1.,  1.,  1.,\n",
      "        1.,  1., nan,  1.,  0.,  1., nan, nan,  0.,  1.,  1.])}\n",
      "{'choice': array([nan,  1.,  1.,  1., nan, nan,  1., nan, nan,  1.,  1., nan,  1.,\n",
      "        0., nan,  1.,  1., nan,  0.,  1.,  1.,  1.,  1.,  1.,  1.,  0.,\n",
      "        0., nan,  0., nan,  1.,  0., nan,  0.,  1., nan,  0., nan, nan,\n",
      "        0.,  0.,  0.,  0., nan,  1., nan,  1.,  1.,  0.,  1.,  1., nan,\n",
      "       nan,  0.,  0., nan,  1.,  1.,  0., nan,  1., nan, nan, nan,  1.,\n",
      "       nan,  1.,  1.,  1., nan,  1.,  1.,  1.,  1.,  1.,  1.,  1.,  1.,\n",
      "       nan,  1.,  1., nan,  1.,  1.,  0., nan,  1., nan,  1.,  1.,  0.,\n",
      "        0.,  1.,  1.,  1.,  1.,  0.,  1.,  1.,  0., nan,  0.,  1.,  0.,\n",
      "        0.,  1.,  0.,  0.,  0., nan, nan,  1.,  0.,  1.])}\n",
      "{'choice': array([ 1.,  1.,  0., nan,  1.,  1.,  1.,  1.,  0.,  1., nan,  1.,  0.,\n",
      "        1.,  0., nan, nan,  1., nan,  0.,  0.,  1.,  1., nan, nan,  1.,\n",
      "        1.,  1.,  1.,  0.,  1.,  1.,  0.,  0., nan,  1.,  0.,  0.,  1.,\n",
      "        1.,  1.,  0.,  1.,  1.,  1.,  0., nan,  1.,  0.,  0.,  1.,  1.,\n",
      "        1.,  1.,  1.,  1., nan,  1.,  1.,  1.,  1.,  1.,  1.,  1., nan,\n",
      "        1., nan,  0., nan,  1., nan, nan,  0.,  0., nan,  0., nan,  1.,\n",
      "        1.,  1.,  0.,  0.,  0.,  0.,  1.,  1., nan,  1.,  1., nan,  1.,\n",
      "        1.,  1., nan,  0.,  0., nan, nan,  0., nan,  1.,  1.,  1., nan,\n",
      "        1.,  1., nan,  1.,  0.,  1.,  1.,  0.,  1.,  0.])}\n",
      "{'choice': array([ 0.,  1.,  1., nan,  0., nan, nan,  1.,  0.,  1., nan,  0.,  0.,\n",
      "       nan, nan,  1.,  0., nan,  0.,  1., nan,  0.,  1., nan,  1.,  1.,\n",
      "       nan,  0.,  0.,  1.,  0.,  0.,  1.,  1.,  1.,  0.,  1.,  0., nan,\n",
      "        0.,  0.,  0.,  1.,  0.,  1.,  1.,  1.,  1.,  1.,  0., nan, nan,\n",
      "        0., nan,  1.,  1.,  0.,  0.,  0., nan, nan,  1.,  0.,  0.,  1.,\n",
      "       nan,  0.,  0.,  0., nan, nan, nan,  0.,  1.,  0., nan,  1., nan,\n",
      "       nan,  1.,  0.,  0.,  1.,  1.,  1.,  0., nan, nan,  0.,  0.,  0.,\n",
      "        1.,  1.,  0.,  0.,  1.,  1., nan,  1.,  0.])}\n",
      "{'choice': array([ 0.,  1., nan,  0.,  1.,  0.,  1.,  0., nan, nan,  1.,  0.,  1.,\n",
      "        1.,  1.,  0.,  0.,  1.,  1.,  1.,  1.,  0.,  0.,  1., nan,  1.,\n",
      "        0., nan,  1.,  0., nan,  0., nan,  0., nan, nan,  0.,  1.,  0.,\n",
      "        1.,  0.,  1., nan,  1.,  0.,  1.,  0., nan,  0., nan,  1.,  1.,\n",
      "       nan,  1., nan, nan,  0.,  0., nan,  0.,  1.,  0.,  0., nan,  0.,\n",
      "        0., nan, nan, nan,  0.,  1.,  0., nan,  1.,  0.,  0., nan,  0.,\n",
      "        1., nan, nan, nan,  1.,  0., nan, nan,  1.,  0.,  0., nan,  1.,\n",
      "       nan, nan, nan,  1., nan,  1.,  1.,  0.,  1.])}\n",
      "{'choice': array([ 0.,  1.,  0., nan,  1.,  1.,  1.,  0.,  1., nan, nan, nan,  1.,\n",
      "        1.,  0.,  1.,  0., nan,  0.,  0.,  1.,  1.,  1.,  0., nan,  1.,\n",
      "        1.,  1.,  0., nan, nan,  1.,  0., nan,  1., nan, nan,  1.,  0.,\n",
      "        0.,  1.,  1., nan,  1.,  0.,  1.,  1., nan, nan, nan,  1., nan,\n",
      "        1.,  0., nan, nan, nan,  1., nan,  0.,  0., nan,  1.,  1.,  1.,\n",
      "        1.,  0.,  1.,  1.,  1.,  0., nan,  0.,  0., nan,  1.,  0., nan,\n",
      "        0.,  1.,  0.,  1.,  1.,  1., nan, nan,  1., nan,  1.,  1., nan,\n",
      "        1.,  1.,  1.,  1., nan, nan,  1.,  1.,  1., nan,  1.,  0.])}\n",
      "{'choice': array([ 1.,  1.,  1.,  1.,  1.,  1.,  1.,  1.,  1.,  1.,  1.,  1.,  0.,\n",
      "        1., nan,  1.,  0.,  1.,  1.,  1.,  1., nan,  1.,  1.,  1.,  1.,\n",
      "        0.,  1.,  1.,  1.,  1., nan,  1.,  1., nan,  1.,  1.,  0.,  1.,\n",
      "        1.,  0.,  0.,  1.,  1.,  1.,  1.,  1.,  1.,  1.,  1., nan,  1.,\n",
      "        0.,  1.,  1.,  1.,  1.,  1.,  1.,  1.,  1.,  1., nan,  1., nan,\n",
      "       nan,  1., nan,  1.,  1.,  1.,  0.,  1.,  1.,  1.,  1.,  1.,  1.,\n",
      "        1.,  1.,  1.,  1.,  1., nan,  1.,  1.,  1.,  1.,  1.,  1.,  0.,\n",
      "        1., nan,  1.,  1.,  1.,  1., nan,  1.,  1.,  1., nan,  1.])}\n",
      "{'choice': array([nan, nan, nan, nan, nan, nan,  1.,  0.,  0.,  0.,  1., nan,  0.,\n",
      "       nan,  1.,  1., nan, nan,  1., nan,  1.,  1.,  0., nan, nan,  1.,\n",
      "       nan, nan,  1.,  0.,  1.,  0., nan, nan,  1., nan,  0., nan,  1.,\n",
      "        1.,  1., nan, nan, nan,  1., nan, nan, nan,  1.,  1., nan,  1.,\n",
      "       nan, nan,  0., nan,  0.,  0.,  1., nan,  1.,  1.,  1., nan,  0.,\n",
      "        1.,  1., nan,  1.,  0.,  0.,  1.,  0., nan, nan,  1., nan, nan,\n",
      "       nan,  1., nan,  0., nan,  0.,  1., nan, nan, nan, nan,  1., nan,\n",
      "        1., nan,  1., nan,  0., nan,  0., nan,  1., nan, nan, nan, nan,\n",
      "        0.,  1.,  1., nan,  1.])}\n",
      "{'choice': array([ 1.,  1.,  1.,  1.,  1.,  1.,  0., nan,  1.,  1.,  0.,  1.,  1.,\n",
      "        1., nan, nan,  0.,  1., nan,  1.,  1.,  0.,  1.,  1.,  1.,  0.,\n",
      "        0.,  0.,  0.,  1.,  1.,  1.,  0.,  1.,  0.,  1.,  0.,  1., nan,\n",
      "        1.,  1.,  1.,  1.,  0.,  1.,  1.,  1.,  1.,  1.,  0.,  1.,  0.,\n",
      "        1.,  1.,  1.,  1.,  0.,  1.,  1.,  1.,  1.,  0.,  1.,  0.,  0.,\n",
      "       nan,  1.,  1.,  0.,  1.,  1.,  0.,  1.,  0.,  1.,  1.,  1.,  0.,\n",
      "        0.,  1.,  0.,  1.,  1.,  0.,  0.,  1.,  1.,  0.,  1.,  1.,  0.,\n",
      "        1.,  0., nan,  1.,  0.,  1.,  0.,  1., nan,  1.,  1.,  0.,  1.,\n",
      "        1.,  1.,  0.,  0., nan])}\n"
     ]
    }
   ],
   "source": [
    "for session in range(20):\n",
    "    for player in range(2):\n",
    "        print(analysis_results[session][player]['social']['dependent'])"
   ]
  },
  {
   "cell_type": "markdown",
   "id": "e71cf003",
   "metadata": {},
   "source": [
    "### load data"
   ]
  },
  {
   "cell_type": "code",
   "execution_count": 44,
   "id": "08a034bc",
   "metadata": {},
   "outputs": [],
   "source": [
    "import pickle\n",
    "\n",
    "analysis_dir = os.path.join('..', 'data')\n",
    "analysis_file = 'analysis_results_2levelsforFirstSeenWall.pkl'\n",
    "# analysis_file = 'analysis_results_3levelsFirstSeenWall_normalisedWallSep.pkl'\n",
    "filename = os.path.join(analysis_dir, analysis_file)\n",
    "# load the analysis results\n",
    "with open(filename, 'rb') as f:\n",
    "    analysis_results = pickle.load(f)"
   ]
  },
  {
   "cell_type": "markdown",
   "id": "7e5eda65",
   "metadata": {},
   "source": [
    "### populate dataframes for glm input"
   ]
  },
  {
   "cell_type": "code",
   "execution_count": 5,
   "id": "8913bcfb",
   "metadata": {},
   "outputs": [],
   "source": [
    "# populate dataframes for solo, solosocial, and social analysis_type\n",
    "glm_df_solo = populate_dataframes.populate_dataframe(analysis_results, analysis_type='solo')\n",
    "glm_df_solosocial = populate_dataframes.populate_dataframe(analysis_results, analysis_type='solosocial')\n",
    "glm_df_social = populate_dataframes.populate_dataframe(analysis_results, analysis_type='social')\n"
   ]
  },
  {
   "cell_type": "markdown",
   "id": "be390a9d",
   "metadata": {},
   "source": [
    "### create reference to dataframes"
   ]
  },
  {
   "cell_type": "code",
   "execution_count": 6,
   "id": "ed566cf8",
   "metadata": {},
   "outputs": [],
   "source": [
    "dataframes = {\n",
    "    'glm_df_solo': glm_df_solo,\n",
    "    'glm_df_solosocial': glm_df_solosocial,\n",
    "    'glm_df_social': glm_df_social\n",
    "}"
   ]
  },
  {
   "cell_type": "markdown",
   "id": "73a02e26",
   "metadata": {},
   "source": [
    "### shuffle the dataframes for k-fold index selection\n"
   ]
  },
  {
   "cell_type": "code",
   "execution_count": 7,
   "id": "41d72dfa",
   "metadata": {},
   "outputs": [],
   "source": [
    "shuffled_dataframes = os.path.join('..', 'data', 'k_fold_CV', 'shuffled_dataframes.pkl')\n",
    "\n",
    "if split_dataframes:\n",
    "    \n",
    "    # shuffle each dataframe\n",
    "    for name, df in dataframes.items():\n",
    "        dataframes[name] = df.sample(frac=1, random_state=17).reset_index(drop=True)\n",
    "\n",
    "    # pickle save shuffled dataframes to sandbox > data, as one dictionary\n",
    "    with open(shuffled_dataframes, 'wb') as f:\n",
    "        pickle.dump(dataframes, f)\n",
    "\n",
    "else:\n",
    "    # load the shuffled dataframes\n",
    "    with open(shuffled_dataframes, 'rb') as f:\n",
    "        shuffled_dataframes = pickle.load(f)\n",
    "\n"
   ]
  },
  {
   "cell_type": "markdown",
   "id": "1122a240",
   "metadata": {},
   "source": [
    "### Split each dataframe into folds"
   ]
  },
  {
   "cell_type": "code",
   "execution_count": 8,
   "id": "b531ca51",
   "metadata": {},
   "outputs": [
    {
     "name": "stderr",
     "output_type": "stream",
     "text": [
      "d:\\Users\\Tom\\miniconda3\\envs\\octagon_analysis\\Lib\\site-packages\\numpy\\_core\\fromnumeric.py:57: FutureWarning: 'DataFrame.swapaxes' is deprecated and will be removed in a future version. Please use 'DataFrame.transpose' instead.\n",
      "  return bound(*args, **kwds)\n"
     ]
    }
   ],
   "source": [
    "# split each dataframe into k equal parts\n",
    "split_dataframes = {name: np.array_split(df, k) for name, df in dataframes.items()}"
   ]
  },
  {
   "cell_type": "markdown",
   "id": "1939740f",
   "metadata": {},
   "source": [
    "### Cross-validation functions"
   ]
  },
  {
   "cell_type": "code",
   "execution_count": null,
   "id": "6ee3414c",
   "metadata": {},
   "outputs": [],
   "source": [
    "from contextlib import redirect_stdout\n",
    "\n",
    "def fit_models(split_df, model_formula):\n",
    "    '''\n",
    "    Takes a dataframe and a model formula, and fits k models to the data.\n",
    "    Wjere k is the number of folds in the split dataframe.\n",
    "    Use k-1 folds to train each model'''\n",
    "    \n",
    "    models = []\n",
    "    max_count = len(split_df)\n",
    "    f = IntProgress(min=0, max=max_count, description='Fitting models')\n",
    "    display(f)\n",
    "\n",
    "    # for i, df in enumerate(split_df):\n",
    "    #     print(f\"Fold {i}: Type = {type(df)}\")\n",
    "\n",
    "    # Suppress the output of the models fitting process\n",
    "    with open(os.devnull, 'w') as fnull:\n",
    "        with redirect_stdout(fnull):\n",
    "            for i in range(len(split_df)):\n",
    "                # Combine all folds except the i-th fold\n",
    "                train_data = pd.concat([df for j, df in enumerate(split_df) if j != i], ignore_index=True)                \n",
    "                # Fit the Lmer model to these folds\n",
    "                model = Lmer(model_formula, data=train_data, family='binomial')\n",
    "                model.fit()\n",
    "                models.append(model)\n",
    "                print(f\"Model {i} fit with {len(train_data)} rows\")\n",
    "                f.value += 1\n",
    "    \n",
    "    return models\n",
    "\n",
    "\n",
    "def calculate_predictions(split_df, models):\n",
    "    ''' \n",
    "    Predict on the held-out fold, for each trained model\n",
    "    '''\n",
    "\n",
    "    all_predictions = []\n",
    "    \n",
    "    # for each dataframe type, predict on the held-out fold using the relevant model\n",
    "    for i, model in enumerate(models):\n",
    "        \n",
    "        # predict on the held-out fold\n",
    "        predict_data = split_df[i]\n",
    "        predictions = model.predict(predict_data, skip_data_checks=True, verify_predictions=False)\n",
    "\n",
    "        # concatenate these predictions to the predictions array\n",
    "        all_predictions.append(predictions)\n",
    "\n",
    "    return all_predictions\n",
    "\n",
    "\n",
    "\n",
    "def calculate_likelihoods(split_df, predictions):\n",
    "    ''' \n",
    "    Calculate the likelihood of each prediction given the true output.\n",
    "    The likelihood is calculated as p^y * (1-p)^(1-y), where p is the predicted probability\n",
    "    and y is the true output (0 or 1).\n",
    "\n",
    "    Takes a list of dataframes and a list of predictions, where each array of predictions corresponds\n",
    "    to the dataframe of the same index.\n",
    "\n",
    "    Avoid calculating the likelihood for NaN ground truth values. (Social trials without confident inferred\n",
    "    choices)\n",
    "    '''\n",
    "    \n",
    "    all_likelihoods = []\n",
    "    for i, prediction_fold in enumerate(predictions):\n",
    "        predicted_output = np.array(prediction_fold)\n",
    "        true_output = split_df[i]\n",
    "\n",
    "        # only calculate the likelihood for non-NaN ground truth values      \n",
    "        nonnan_mask = ~np.isnan(true_output['ChooseHigh'])\n",
    "        true_output = true_output[nonnan_mask]\n",
    "        try:\n",
    "            predicted_output = predicted_output[nonnan_mask]\n",
    "        except Exception as e:\n",
    "            print(f\"Error: {e}\")\n",
    "            print(f\"predicted output shape: {predicted_output.shape}, non-nan mask shape: {nonnan_mask.shape}\")\n",
    "            print(f\"predicted output: {predicted_output}\")\n",
    "            print(f\"nonnan mask: {nonnan_mask}\")\n",
    "            predicted_output = predicted_output[nonnan_mask.to_numpy()]\n",
    "\n",
    "        # initialise likelihoods array to be the size of the ground truth data once nans have been filtered\n",
    "        likelihoods = np.full(len(predicted_output), np.nan)\n",
    "\n",
    "\n",
    "        # calculate the metric for each prediction\n",
    "\n",
    "        for i, prediction in enumerate(predicted_output):\n",
    "            ground_truth = true_output.iloc[i]['ChooseHigh']\n",
    "            likelihood = prediction**ground_truth * (1 - prediction)**(1 - ground_truth)\n",
    "            likelihoods[i] = likelihood\n",
    "            if np.isnan(likelihood):\n",
    "                print(f\"NaN likelihood for prediction {prediction} and ground truth {ground_truth}\")\n",
    "                print(f\"prediction**ground_truth: {prediction**ground_truth}\")\n",
    "                print(f\"(1 - prediction)**(1 - ground_truth): {(1 - prediction)**(1 - ground_truth)}\")\n",
    "\n",
    "        all_likelihoods.append(likelihoods)\n",
    "    \n",
    "    return all_likelihoods\n",
    "\n",
    "def calculate_nll(likelihoods):\n",
    "    # #### sum the logs of the likelihoods, and take the negative\n",
    "\n",
    "    concatenated_likelihoods = np.concatenate(likelihoods)\n",
    "    summed_log_likelihoods = np.sum(np.log(concatenated_likelihoods)) \n",
    "    nll = -summed_log_likelihoods\n",
    "    average_nll = nll / concatenated_likelihoods.shape[0]\n",
    "\n",
    "    return nll, average_nll\n",
    "\n",
    "\n",
    "def save_cross_validation_results(name, model_formula, split_df, num_folds, predictions, nll, average_nll, k):\n",
    "    ''' Save the cross-validation results to a file. '''\n",
    "    \n",
    "    cross_validation_results = {\n",
    "        \"name\": name,\n",
    "        \"model_formula\": model_formula,\n",
    "        \"split_df\": split_df,\n",
    "        \"num_folds\" : num_folds,\n",
    "        # \"models\" : models,\n",
    "        \"predictions\" : predictions,\n",
    "        \"nll\" : nll,\n",
    "        \"average_nll\" : average_nll\n",
    "    }\n",
    "\n",
    "   # Save the cross-validation results to a file\n",
    "    dir = os.path.join('..', 'data', 'k_fold_CV')\n",
    "    filename = f'{k}-fold-CV_results_{name}.pickle'\n",
    "    filepath = os.path.join(dir, filename)\n",
    "    with open(filepath, 'wb') as f:\n",
    "        pickle.dump(cross_validation_results, f)\n",
    "\n",
    "    print(f\"{k}-fold CV data saved to: \", filepath)"
   ]
  },
  {
   "cell_type": "code",
   "execution_count": 10,
   "id": "eaf06e8d",
   "metadata": {},
   "outputs": [],
   "source": [
    "def run_cross_validation(split_df, model_formula, name, save_results=False):\n",
    "    ''' \n",
    "    Run k-fold cross-validation on the given dataframes.\n",
    "    '''\n",
    "\n",
    "    n_folds = len(split_df)\n",
    "\n",
    "    # Step 1: Fit models on k-1 folds for all iterations\n",
    "    models = fit_models(split_df, model_formula)\n",
    "\n",
    "    # Step 2: Calculate predictions on the held-out fold for each model\n",
    "    predictions = calculate_predictions(split_df, models)\n",
    "\n",
    "    # Step 3: Calculate likelihoods for each prediction\n",
    "    likelihoods = calculate_likelihoods(split_df, predictions)\n",
    "\n",
    "    # Step 4: Calculate NLL\n",
    "    nll, average_nll = calculate_nll(likelihoods)\n",
    "\n",
    "    # Step 5: Save data to file (optional)\n",
    "    if save_results:\n",
    "        save_cross_validation_results(name, model_formula, split_df, n_folds, predictions, nll, average_nll, k=n_folds)\n",
    "\n",
    "    return nll, models, predictions, likelihoods\n"
   ]
  },
  {
   "cell_type": "markdown",
   "id": "3526c187",
   "metadata": {},
   "source": [
    "### Solo models"
   ]
  },
  {
   "cell_type": "code",
   "execution_count": null,
   "id": "43fefcae",
   "metadata": {},
   "outputs": [],
   "source": [
    "model_formula = 'ChooseHigh ~ 1 + D2H + D2L + FirstSeenWall + WallSep + (1|GlmPlayerID)'\n",
    "(nll, models,\n",
    "  predictions, likelihoods) = run_cross_validation(split_dataframes['glm_df_solo'], model_formula,\n",
    "                                                    \"solo_randomintercepts\",\n",
    "                                                      save_results=True)"
   ]
  },
  {
   "cell_type": "code",
   "execution_count": null,
   "id": "68b78753",
   "metadata": {},
   "outputs": [],
   "source": [
    "model_formula = 'ChooseHigh ~ 1 + D2H + D2L + (1|GlmPlayerID)'\n",
    "(nll, models,\n",
    "  predictions, likelihoods) = run_cross_validation(split_dataframes['glm_df_solo'], model_formula,\n",
    "                                                    \"solo_randomintercepts_onlydistance\",\n",
    "                                                      save_results=True)"
   ]
  },
  {
   "cell_type": "code",
   "execution_count": 34,
   "id": "0ba095ed",
   "metadata": {},
   "outputs": [
    {
     "data": {
      "text/plain": [
       "np.float64(1708.3926916845578)"
      ]
     },
     "execution_count": 34,
     "metadata": {},
     "output_type": "execute_result"
    }
   ],
   "source": [
    "nll"
   ]
  },
  {
   "cell_type": "code",
   "execution_count": 35,
   "id": "c585ba9d",
   "metadata": {},
   "outputs": [
    {
     "data": {
      "text/plain": [
       "np.float64(1708.3926916845578)"
      ]
     },
     "execution_count": 35,
     "metadata": {},
     "output_type": "execute_result"
    }
   ],
   "source": [
    "nll"
   ]
  },
  {
   "cell_type": "code",
   "execution_count": null,
   "id": "685af237",
   "metadata": {},
   "outputs": [],
   "source": [
    "model_formula = 'ChooseHigh ~ 1 + FirstSeenWall + (1|GlmPlayerID)'\n",
    "(nll, models,\n",
    "  predictions, likelihoods) = run_cross_validation(split_dataframes['glm_df_solo'], model_formula,\n",
    "                                                    \"solo_randomintercepts_firstseenonly\",\n",
    "                                                      save_results=True)"
   ]
  },
  {
   "cell_type": "code",
   "execution_count": null,
   "id": "30b03bbc",
   "metadata": {},
   "outputs": [],
   "source": [
    "model_formula = 'ChooseHigh ~ 1 + WallSep + FirstSeenWall + (1|GlmPlayerID)'\n",
    "(nll, models,\n",
    "  predictions, likelihoods) = run_cross_validation(split_dataframes['glm_df_solo'], model_formula,\n",
    "                                                    \"solo_randomintercepts_wallsep_firstseen\",\n",
    "                                                      save_results=True)"
   ]
  },
  {
   "cell_type": "code",
   "execution_count": null,
   "id": "2264e147",
   "metadata": {},
   "outputs": [],
   "source": [
    "model_formula = 'ChooseHigh ~ 1 + D2H + D2L + WallSep + (1|GlmPlayerID)'\n",
    "(nll, models,\n",
    "  predictions, likelihoods) = run_cross_validation(split_dataframes['glm_df_solo'], model_formula,\n",
    "                                                    \"solo_randomintercepts_distancepluswallsep\",\n",
    "                                                      save_results=True)"
   ]
  },
  {
   "cell_type": "code",
   "execution_count": null,
   "id": "75c410e6",
   "metadata": {},
   "outputs": [],
   "source": [
    "model_formula = 'ChooseHigh ~ 1 + D2H + D2L + FirstSeenWall + (1|GlmPlayerID)'\n",
    "(nll, models,\n",
    "  predictions, likelihoods) = run_cross_validation(split_dataframes['glm_df_solo'], model_formula,\n",
    "                                                    \"solo_randomintercepts_distanceplusfirstseen\",\n",
    "                                                      save_results=True)"
   ]
  },
  {
   "cell_type": "code",
   "execution_count": null,
   "id": "9fdf0a55",
   "metadata": {},
   "outputs": [],
   "source": [
    "model_formula = 'ChooseHigh ~ 1 + D2H + D2L + FirstSeenWall + WallSep + D2H:FirstSeenWall + D2L:FirstSeenWall + (1|GlmPlayerID)'\n",
    "(nll, models,\n",
    "  predictions, likelihoods) = run_cross_validation(split_dataframes['glm_df_solo'], model_formula,\n",
    "                                                    \"solo_randomintercepts__distancesinteraction\",\n",
    "                                                      save_results=True)"
   ]
  },
  {
   "cell_type": "code",
   "execution_count": null,
   "id": "395966be",
   "metadata": {},
   "outputs": [],
   "source": [
    "model_formula = 'ChooseHigh ~ 1 + D2H + D2L + FirstSeenWall + WallSep + D2H:FirstSeenWall + D2L:FirstSeenWall + FirstSeenWall:WallSep + (1|GlmPlayerID)'\n",
    "(nll, models,\n",
    "  predictions, likelihoods) = run_cross_validation(split_dataframes['glm_df_solo'], model_formula,\n",
    "                                                    \"solo_randomintercepts_distancesandwallsepinteraction\",\n",
    "                                                      save_results=True)"
   ]
  },
  {
   "cell_type": "markdown",
   "id": "7729d2a8",
   "metadata": {},
   "source": [
    "### Social models"
   ]
  },
  {
   "cell_type": "code",
   "execution_count": 60,
   "id": "bee4a86c",
   "metadata": {},
   "outputs": [
    {
     "data": {
      "application/vnd.jupyter.widget-view+json": {
       "model_id": "c51fbe2c22c24c5e8878a75ae79bf58d",
       "version_major": 2,
       "version_minor": 0
      },
      "text/plain": [
       "IntProgress(value=0, description='Fitting models', max=20)"
      ]
     },
     "metadata": {},
     "output_type": "display_data"
    },
    {
     "name": "stderr",
     "output_type": "stream",
     "text": [
      "d:\\Users\\Tom\\miniconda3\\envs\\octagon_analysis\\Lib\\site-packages\\pymer4\\models\\Lmer.py:733: FutureWarning: DataFrame.applymap has been deprecated. Use DataFrame.map instead.\n",
      "  ran_vars = ran_vars.applymap(\n",
      "d:\\Users\\Tom\\miniconda3\\envs\\octagon_analysis\\Lib\\site-packages\\pymer4\\models\\Lmer.py:733: FutureWarning: DataFrame.applymap has been deprecated. Use DataFrame.map instead.\n",
      "  ran_vars = ran_vars.applymap(\n",
      "d:\\Users\\Tom\\miniconda3\\envs\\octagon_analysis\\Lib\\site-packages\\pymer4\\models\\Lmer.py:733: FutureWarning: DataFrame.applymap has been deprecated. Use DataFrame.map instead.\n",
      "  ran_vars = ran_vars.applymap(\n",
      "d:\\Users\\Tom\\miniconda3\\envs\\octagon_analysis\\Lib\\site-packages\\pymer4\\models\\Lmer.py:733: FutureWarning: DataFrame.applymap has been deprecated. Use DataFrame.map instead.\n",
      "  ran_vars = ran_vars.applymap(\n",
      "d:\\Users\\Tom\\miniconda3\\envs\\octagon_analysis\\Lib\\site-packages\\pymer4\\models\\Lmer.py:733: FutureWarning: DataFrame.applymap has been deprecated. Use DataFrame.map instead.\n",
      "  ran_vars = ran_vars.applymap(\n",
      "d:\\Users\\Tom\\miniconda3\\envs\\octagon_analysis\\Lib\\site-packages\\pymer4\\models\\Lmer.py:733: FutureWarning: DataFrame.applymap has been deprecated. Use DataFrame.map instead.\n",
      "  ran_vars = ran_vars.applymap(\n",
      "d:\\Users\\Tom\\miniconda3\\envs\\octagon_analysis\\Lib\\site-packages\\pymer4\\models\\Lmer.py:733: FutureWarning: DataFrame.applymap has been deprecated. Use DataFrame.map instead.\n",
      "  ran_vars = ran_vars.applymap(\n",
      "d:\\Users\\Tom\\miniconda3\\envs\\octagon_analysis\\Lib\\site-packages\\pymer4\\models\\Lmer.py:733: FutureWarning: DataFrame.applymap has been deprecated. Use DataFrame.map instead.\n",
      "  ran_vars = ran_vars.applymap(\n",
      "d:\\Users\\Tom\\miniconda3\\envs\\octagon_analysis\\Lib\\site-packages\\pymer4\\models\\Lmer.py:733: FutureWarning: DataFrame.applymap has been deprecated. Use DataFrame.map instead.\n",
      "  ran_vars = ran_vars.applymap(\n",
      "d:\\Users\\Tom\\miniconda3\\envs\\octagon_analysis\\Lib\\site-packages\\pymer4\\models\\Lmer.py:733: FutureWarning: DataFrame.applymap has been deprecated. Use DataFrame.map instead.\n",
      "  ran_vars = ran_vars.applymap(\n",
      "d:\\Users\\Tom\\miniconda3\\envs\\octagon_analysis\\Lib\\site-packages\\pymer4\\models\\Lmer.py:733: FutureWarning: DataFrame.applymap has been deprecated. Use DataFrame.map instead.\n",
      "  ran_vars = ran_vars.applymap(\n",
      "d:\\Users\\Tom\\miniconda3\\envs\\octagon_analysis\\Lib\\site-packages\\pymer4\\models\\Lmer.py:733: FutureWarning: DataFrame.applymap has been deprecated. Use DataFrame.map instead.\n",
      "  ran_vars = ran_vars.applymap(\n",
      "d:\\Users\\Tom\\miniconda3\\envs\\octagon_analysis\\Lib\\site-packages\\pymer4\\models\\Lmer.py:733: FutureWarning: DataFrame.applymap has been deprecated. Use DataFrame.map instead.\n",
      "  ran_vars = ran_vars.applymap(\n",
      "d:\\Users\\Tom\\miniconda3\\envs\\octagon_analysis\\Lib\\site-packages\\pymer4\\models\\Lmer.py:733: FutureWarning: DataFrame.applymap has been deprecated. Use DataFrame.map instead.\n",
      "  ran_vars = ran_vars.applymap(\n",
      "d:\\Users\\Tom\\miniconda3\\envs\\octagon_analysis\\Lib\\site-packages\\pymer4\\models\\Lmer.py:733: FutureWarning: DataFrame.applymap has been deprecated. Use DataFrame.map instead.\n",
      "  ran_vars = ran_vars.applymap(\n",
      "d:\\Users\\Tom\\miniconda3\\envs\\octagon_analysis\\Lib\\site-packages\\pymer4\\models\\Lmer.py:733: FutureWarning: DataFrame.applymap has been deprecated. Use DataFrame.map instead.\n",
      "  ran_vars = ran_vars.applymap(\n",
      "d:\\Users\\Tom\\miniconda3\\envs\\octagon_analysis\\Lib\\site-packages\\pymer4\\models\\Lmer.py:733: FutureWarning: DataFrame.applymap has been deprecated. Use DataFrame.map instead.\n",
      "  ran_vars = ran_vars.applymap(\n",
      "d:\\Users\\Tom\\miniconda3\\envs\\octagon_analysis\\Lib\\site-packages\\pymer4\\models\\Lmer.py:733: FutureWarning: DataFrame.applymap has been deprecated. Use DataFrame.map instead.\n",
      "  ran_vars = ran_vars.applymap(\n",
      "d:\\Users\\Tom\\miniconda3\\envs\\octagon_analysis\\Lib\\site-packages\\pymer4\\models\\Lmer.py:733: FutureWarning: DataFrame.applymap has been deprecated. Use DataFrame.map instead.\n",
      "  ran_vars = ran_vars.applymap(\n",
      "d:\\Users\\Tom\\miniconda3\\envs\\octagon_analysis\\Lib\\site-packages\\pymer4\\models\\Lmer.py:733: FutureWarning: DataFrame.applymap has been deprecated. Use DataFrame.map instead.\n",
      "  ran_vars = ran_vars.applymap(\n"
     ]
    },
    {
     "name": "stdout",
     "output_type": "stream",
     "text": [
      "20-fold CV data saved to:  ..\\data\\k_fold_CV\\20-fold-CV_results_social_randomintercepts_opponentvisible.pickle\n"
     ]
    }
   ],
   "source": [
    "model_formula = 'ChooseHigh ~ 1 + D2H + D2L + FirstSeenWall + WallSep + OpponentVisible + (1|GlmPlayerID)'\n",
    "\n",
    "(nll, models,\n",
    "  predictions, likelihoods) = run_cross_validation(split_dataframes['glm_df_social'], model_formula,\n",
    "                                                    \"social_randomintercepts_opponentvisible\",\n",
    "                                                      save_results=True)"
   ]
  },
  {
   "cell_type": "code",
   "execution_count": 61,
   "id": "20780dde",
   "metadata": {},
   "outputs": [
    {
     "data": {
      "application/vnd.jupyter.widget-view+json": {
       "model_id": "b1da791afef14491a94d4233cd4ee8ce",
       "version_major": 2,
       "version_minor": 0
      },
      "text/plain": [
       "IntProgress(value=0, description='Fitting models', max=20)"
      ]
     },
     "metadata": {},
     "output_type": "display_data"
    },
    {
     "name": "stderr",
     "output_type": "stream",
     "text": [
      "d:\\Users\\Tom\\miniconda3\\envs\\octagon_analysis\\Lib\\site-packages\\pymer4\\models\\Lmer.py:733: FutureWarning: DataFrame.applymap has been deprecated. Use DataFrame.map instead.\n",
      "  ran_vars = ran_vars.applymap(\n",
      "d:\\Users\\Tom\\miniconda3\\envs\\octagon_analysis\\Lib\\site-packages\\pymer4\\models\\Lmer.py:733: FutureWarning: DataFrame.applymap has been deprecated. Use DataFrame.map instead.\n",
      "  ran_vars = ran_vars.applymap(\n",
      "d:\\Users\\Tom\\miniconda3\\envs\\octagon_analysis\\Lib\\site-packages\\pymer4\\models\\Lmer.py:733: FutureWarning: DataFrame.applymap has been deprecated. Use DataFrame.map instead.\n",
      "  ran_vars = ran_vars.applymap(\n",
      "d:\\Users\\Tom\\miniconda3\\envs\\octagon_analysis\\Lib\\site-packages\\pymer4\\models\\Lmer.py:733: FutureWarning: DataFrame.applymap has been deprecated. Use DataFrame.map instead.\n",
      "  ran_vars = ran_vars.applymap(\n",
      "d:\\Users\\Tom\\miniconda3\\envs\\octagon_analysis\\Lib\\site-packages\\pymer4\\models\\Lmer.py:733: FutureWarning: DataFrame.applymap has been deprecated. Use DataFrame.map instead.\n",
      "  ran_vars = ran_vars.applymap(\n",
      "d:\\Users\\Tom\\miniconda3\\envs\\octagon_analysis\\Lib\\site-packages\\pymer4\\models\\Lmer.py:733: FutureWarning: DataFrame.applymap has been deprecated. Use DataFrame.map instead.\n",
      "  ran_vars = ran_vars.applymap(\n",
      "d:\\Users\\Tom\\miniconda3\\envs\\octagon_analysis\\Lib\\site-packages\\pymer4\\models\\Lmer.py:733: FutureWarning: DataFrame.applymap has been deprecated. Use DataFrame.map instead.\n",
      "  ran_vars = ran_vars.applymap(\n",
      "d:\\Users\\Tom\\miniconda3\\envs\\octagon_analysis\\Lib\\site-packages\\pymer4\\models\\Lmer.py:733: FutureWarning: DataFrame.applymap has been deprecated. Use DataFrame.map instead.\n",
      "  ran_vars = ran_vars.applymap(\n",
      "d:\\Users\\Tom\\miniconda3\\envs\\octagon_analysis\\Lib\\site-packages\\pymer4\\models\\Lmer.py:733: FutureWarning: DataFrame.applymap has been deprecated. Use DataFrame.map instead.\n",
      "  ran_vars = ran_vars.applymap(\n",
      "d:\\Users\\Tom\\miniconda3\\envs\\octagon_analysis\\Lib\\site-packages\\pymer4\\models\\Lmer.py:733: FutureWarning: DataFrame.applymap has been deprecated. Use DataFrame.map instead.\n",
      "  ran_vars = ran_vars.applymap(\n",
      "d:\\Users\\Tom\\miniconda3\\envs\\octagon_analysis\\Lib\\site-packages\\pymer4\\models\\Lmer.py:733: FutureWarning: DataFrame.applymap has been deprecated. Use DataFrame.map instead.\n",
      "  ran_vars = ran_vars.applymap(\n",
      "d:\\Users\\Tom\\miniconda3\\envs\\octagon_analysis\\Lib\\site-packages\\pymer4\\models\\Lmer.py:733: FutureWarning: DataFrame.applymap has been deprecated. Use DataFrame.map instead.\n",
      "  ran_vars = ran_vars.applymap(\n",
      "d:\\Users\\Tom\\miniconda3\\envs\\octagon_analysis\\Lib\\site-packages\\pymer4\\models\\Lmer.py:733: FutureWarning: DataFrame.applymap has been deprecated. Use DataFrame.map instead.\n",
      "  ran_vars = ran_vars.applymap(\n",
      "d:\\Users\\Tom\\miniconda3\\envs\\octagon_analysis\\Lib\\site-packages\\pymer4\\models\\Lmer.py:733: FutureWarning: DataFrame.applymap has been deprecated. Use DataFrame.map instead.\n",
      "  ran_vars = ran_vars.applymap(\n",
      "d:\\Users\\Tom\\miniconda3\\envs\\octagon_analysis\\Lib\\site-packages\\pymer4\\models\\Lmer.py:733: FutureWarning: DataFrame.applymap has been deprecated. Use DataFrame.map instead.\n",
      "  ran_vars = ran_vars.applymap(\n",
      "d:\\Users\\Tom\\miniconda3\\envs\\octagon_analysis\\Lib\\site-packages\\pymer4\\models\\Lmer.py:733: FutureWarning: DataFrame.applymap has been deprecated. Use DataFrame.map instead.\n",
      "  ran_vars = ran_vars.applymap(\n",
      "d:\\Users\\Tom\\miniconda3\\envs\\octagon_analysis\\Lib\\site-packages\\pymer4\\models\\Lmer.py:733: FutureWarning: DataFrame.applymap has been deprecated. Use DataFrame.map instead.\n",
      "  ran_vars = ran_vars.applymap(\n",
      "d:\\Users\\Tom\\miniconda3\\envs\\octagon_analysis\\Lib\\site-packages\\pymer4\\models\\Lmer.py:733: FutureWarning: DataFrame.applymap has been deprecated. Use DataFrame.map instead.\n",
      "  ran_vars = ran_vars.applymap(\n",
      "d:\\Users\\Tom\\miniconda3\\envs\\octagon_analysis\\Lib\\site-packages\\pymer4\\models\\Lmer.py:733: FutureWarning: DataFrame.applymap has been deprecated. Use DataFrame.map instead.\n",
      "  ran_vars = ran_vars.applymap(\n",
      "d:\\Users\\Tom\\miniconda3\\envs\\octagon_analysis\\Lib\\site-packages\\pymer4\\models\\Lmer.py:733: FutureWarning: DataFrame.applymap has been deprecated. Use DataFrame.map instead.\n",
      "  ran_vars = ran_vars.applymap(\n"
     ]
    },
    {
     "name": "stdout",
     "output_type": "stream",
     "text": [
      "20-fold CV data saved to:  ..\\data\\k_fold_CV\\20-fold-CV_results_social_randomintercepts_no-opponentvisible.pickle\n"
     ]
    }
   ],
   "source": [
    "model_formula = 'ChooseHigh ~ 1 + D2H + D2L + FirstSeenWall + WallSep + (1|GlmPlayerID)'\n",
    "\n",
    "(nll, models,\n",
    "  predictions, likelihoods) = run_cross_validation(split_dataframes['glm_df_social'], model_formula,\n",
    "                                                    \"social_randomintercepts_no-opponentvisible\",\n",
    "                                                      save_results=True)"
   ]
  },
  {
   "cell_type": "code",
   "execution_count": 62,
   "id": "a2b988c1",
   "metadata": {},
   "outputs": [
    {
     "data": {
      "application/vnd.jupyter.widget-view+json": {
       "model_id": "21d70ae4fd6a41108179bd45662801c5",
       "version_major": 2,
       "version_minor": 0
      },
      "text/plain": [
       "IntProgress(value=0, description='Fitting models', max=20)"
      ]
     },
     "metadata": {},
     "output_type": "display_data"
    },
    {
     "name": "stderr",
     "output_type": "stream",
     "text": [
      "d:\\Users\\Tom\\miniconda3\\envs\\octagon_analysis\\Lib\\site-packages\\pymer4\\models\\Lmer.py:733: FutureWarning: DataFrame.applymap has been deprecated. Use DataFrame.map instead.\n",
      "  ran_vars = ran_vars.applymap(\n",
      "d:\\Users\\Tom\\miniconda3\\envs\\octagon_analysis\\Lib\\site-packages\\pymer4\\models\\Lmer.py:733: FutureWarning: DataFrame.applymap has been deprecated. Use DataFrame.map instead.\n",
      "  ran_vars = ran_vars.applymap(\n",
      "d:\\Users\\Tom\\miniconda3\\envs\\octagon_analysis\\Lib\\site-packages\\pymer4\\models\\Lmer.py:733: FutureWarning: DataFrame.applymap has been deprecated. Use DataFrame.map instead.\n",
      "  ran_vars = ran_vars.applymap(\n",
      "d:\\Users\\Tom\\miniconda3\\envs\\octagon_analysis\\Lib\\site-packages\\pymer4\\models\\Lmer.py:733: FutureWarning: DataFrame.applymap has been deprecated. Use DataFrame.map instead.\n",
      "  ran_vars = ran_vars.applymap(\n",
      "d:\\Users\\Tom\\miniconda3\\envs\\octagon_analysis\\Lib\\site-packages\\pymer4\\models\\Lmer.py:733: FutureWarning: DataFrame.applymap has been deprecated. Use DataFrame.map instead.\n",
      "  ran_vars = ran_vars.applymap(\n",
      "d:\\Users\\Tom\\miniconda3\\envs\\octagon_analysis\\Lib\\site-packages\\pymer4\\models\\Lmer.py:733: FutureWarning: DataFrame.applymap has been deprecated. Use DataFrame.map instead.\n",
      "  ran_vars = ran_vars.applymap(\n",
      "d:\\Users\\Tom\\miniconda3\\envs\\octagon_analysis\\Lib\\site-packages\\pymer4\\models\\Lmer.py:733: FutureWarning: DataFrame.applymap has been deprecated. Use DataFrame.map instead.\n",
      "  ran_vars = ran_vars.applymap(\n",
      "d:\\Users\\Tom\\miniconda3\\envs\\octagon_analysis\\Lib\\site-packages\\pymer4\\models\\Lmer.py:733: FutureWarning: DataFrame.applymap has been deprecated. Use DataFrame.map instead.\n",
      "  ran_vars = ran_vars.applymap(\n",
      "d:\\Users\\Tom\\miniconda3\\envs\\octagon_analysis\\Lib\\site-packages\\pymer4\\models\\Lmer.py:733: FutureWarning: DataFrame.applymap has been deprecated. Use DataFrame.map instead.\n",
      "  ran_vars = ran_vars.applymap(\n",
      "d:\\Users\\Tom\\miniconda3\\envs\\octagon_analysis\\Lib\\site-packages\\pymer4\\models\\Lmer.py:733: FutureWarning: DataFrame.applymap has been deprecated. Use DataFrame.map instead.\n",
      "  ran_vars = ran_vars.applymap(\n",
      "d:\\Users\\Tom\\miniconda3\\envs\\octagon_analysis\\Lib\\site-packages\\pymer4\\models\\Lmer.py:733: FutureWarning: DataFrame.applymap has been deprecated. Use DataFrame.map instead.\n",
      "  ran_vars = ran_vars.applymap(\n",
      "d:\\Users\\Tom\\miniconda3\\envs\\octagon_analysis\\Lib\\site-packages\\pymer4\\models\\Lmer.py:733: FutureWarning: DataFrame.applymap has been deprecated. Use DataFrame.map instead.\n",
      "  ran_vars = ran_vars.applymap(\n",
      "d:\\Users\\Tom\\miniconda3\\envs\\octagon_analysis\\Lib\\site-packages\\pymer4\\models\\Lmer.py:733: FutureWarning: DataFrame.applymap has been deprecated. Use DataFrame.map instead.\n",
      "  ran_vars = ran_vars.applymap(\n",
      "d:\\Users\\Tom\\miniconda3\\envs\\octagon_analysis\\Lib\\site-packages\\pymer4\\models\\Lmer.py:733: FutureWarning: DataFrame.applymap has been deprecated. Use DataFrame.map instead.\n",
      "  ran_vars = ran_vars.applymap(\n",
      "d:\\Users\\Tom\\miniconda3\\envs\\octagon_analysis\\Lib\\site-packages\\pymer4\\models\\Lmer.py:733: FutureWarning: DataFrame.applymap has been deprecated. Use DataFrame.map instead.\n",
      "  ran_vars = ran_vars.applymap(\n",
      "d:\\Users\\Tom\\miniconda3\\envs\\octagon_analysis\\Lib\\site-packages\\pymer4\\models\\Lmer.py:733: FutureWarning: DataFrame.applymap has been deprecated. Use DataFrame.map instead.\n",
      "  ran_vars = ran_vars.applymap(\n",
      "d:\\Users\\Tom\\miniconda3\\envs\\octagon_analysis\\Lib\\site-packages\\pymer4\\models\\Lmer.py:733: FutureWarning: DataFrame.applymap has been deprecated. Use DataFrame.map instead.\n",
      "  ran_vars = ran_vars.applymap(\n",
      "d:\\Users\\Tom\\miniconda3\\envs\\octagon_analysis\\Lib\\site-packages\\pymer4\\models\\Lmer.py:733: FutureWarning: DataFrame.applymap has been deprecated. Use DataFrame.map instead.\n",
      "  ran_vars = ran_vars.applymap(\n",
      "d:\\Users\\Tom\\miniconda3\\envs\\octagon_analysis\\Lib\\site-packages\\pymer4\\models\\Lmer.py:733: FutureWarning: DataFrame.applymap has been deprecated. Use DataFrame.map instead.\n",
      "  ran_vars = ran_vars.applymap(\n",
      "d:\\Users\\Tom\\miniconda3\\envs\\octagon_analysis\\Lib\\site-packages\\pymer4\\models\\Lmer.py:733: FutureWarning: DataFrame.applymap has been deprecated. Use DataFrame.map instead.\n",
      "  ran_vars = ran_vars.applymap(\n"
     ]
    },
    {
     "name": "stdout",
     "output_type": "stream",
     "text": [
      "20-fold CV data saved to:  ..\\data\\k_fold_CV\\20-fold-CV_results_social_randomintercepts_no-opponentvisible_opponentdistance.pickle\n"
     ]
    }
   ],
   "source": [
    "model_formula = 'ChooseHigh ~ 1 + D2H + D2L + FirstSeenWall + WallSep  + OpponentD2H' \\\n",
    "' + OpponentD2L + (1|GlmPlayerID)'\n",
    "\n",
    "(nll, models,\n",
    "  predictions, likelihoods) = run_cross_validation(split_dataframes['glm_df_social'], model_formula,\n",
    "                                                    \"social_randomintercepts_no-opponentvisible_opponentdistance\",\n",
    "                                                      save_results=True)"
   ]
  },
  {
   "cell_type": "code",
   "execution_count": 59,
   "id": "cbd96390",
   "metadata": {},
   "outputs": [
    {
     "data": {
      "application/vnd.jupyter.widget-view+json": {
       "model_id": "a6445ebe786d4156a4da98df3f84e2b2",
       "version_major": 2,
       "version_minor": 0
      },
      "text/plain": [
       "IntProgress(value=0, description='Fitting models', max=20)"
      ]
     },
     "metadata": {},
     "output_type": "display_data"
    },
    {
     "name": "stderr",
     "output_type": "stream",
     "text": [
      "d:\\Users\\Tom\\miniconda3\\envs\\octagon_analysis\\Lib\\site-packages\\pymer4\\models\\Lmer.py:733: FutureWarning: DataFrame.applymap has been deprecated. Use DataFrame.map instead.\n",
      "  ran_vars = ran_vars.applymap(\n",
      "d:\\Users\\Tom\\miniconda3\\envs\\octagon_analysis\\Lib\\site-packages\\pymer4\\models\\Lmer.py:733: FutureWarning: DataFrame.applymap has been deprecated. Use DataFrame.map instead.\n",
      "  ran_vars = ran_vars.applymap(\n",
      "d:\\Users\\Tom\\miniconda3\\envs\\octagon_analysis\\Lib\\site-packages\\pymer4\\models\\Lmer.py:733: FutureWarning: DataFrame.applymap has been deprecated. Use DataFrame.map instead.\n",
      "  ran_vars = ran_vars.applymap(\n",
      "d:\\Users\\Tom\\miniconda3\\envs\\octagon_analysis\\Lib\\site-packages\\pymer4\\models\\Lmer.py:733: FutureWarning: DataFrame.applymap has been deprecated. Use DataFrame.map instead.\n",
      "  ran_vars = ran_vars.applymap(\n",
      "d:\\Users\\Tom\\miniconda3\\envs\\octagon_analysis\\Lib\\site-packages\\pymer4\\models\\Lmer.py:733: FutureWarning: DataFrame.applymap has been deprecated. Use DataFrame.map instead.\n",
      "  ran_vars = ran_vars.applymap(\n",
      "d:\\Users\\Tom\\miniconda3\\envs\\octagon_analysis\\Lib\\site-packages\\pymer4\\models\\Lmer.py:733: FutureWarning: DataFrame.applymap has been deprecated. Use DataFrame.map instead.\n",
      "  ran_vars = ran_vars.applymap(\n",
      "d:\\Users\\Tom\\miniconda3\\envs\\octagon_analysis\\Lib\\site-packages\\pymer4\\models\\Lmer.py:733: FutureWarning: DataFrame.applymap has been deprecated. Use DataFrame.map instead.\n",
      "  ran_vars = ran_vars.applymap(\n",
      "d:\\Users\\Tom\\miniconda3\\envs\\octagon_analysis\\Lib\\site-packages\\pymer4\\models\\Lmer.py:733: FutureWarning: DataFrame.applymap has been deprecated. Use DataFrame.map instead.\n",
      "  ran_vars = ran_vars.applymap(\n",
      "d:\\Users\\Tom\\miniconda3\\envs\\octagon_analysis\\Lib\\site-packages\\pymer4\\models\\Lmer.py:733: FutureWarning: DataFrame.applymap has been deprecated. Use DataFrame.map instead.\n",
      "  ran_vars = ran_vars.applymap(\n",
      "d:\\Users\\Tom\\miniconda3\\envs\\octagon_analysis\\Lib\\site-packages\\pymer4\\models\\Lmer.py:733: FutureWarning: DataFrame.applymap has been deprecated. Use DataFrame.map instead.\n",
      "  ran_vars = ran_vars.applymap(\n",
      "d:\\Users\\Tom\\miniconda3\\envs\\octagon_analysis\\Lib\\site-packages\\pymer4\\models\\Lmer.py:733: FutureWarning: DataFrame.applymap has been deprecated. Use DataFrame.map instead.\n",
      "  ran_vars = ran_vars.applymap(\n",
      "d:\\Users\\Tom\\miniconda3\\envs\\octagon_analysis\\Lib\\site-packages\\pymer4\\models\\Lmer.py:733: FutureWarning: DataFrame.applymap has been deprecated. Use DataFrame.map instead.\n",
      "  ran_vars = ran_vars.applymap(\n",
      "d:\\Users\\Tom\\miniconda3\\envs\\octagon_analysis\\Lib\\site-packages\\pymer4\\models\\Lmer.py:733: FutureWarning: DataFrame.applymap has been deprecated. Use DataFrame.map instead.\n",
      "  ran_vars = ran_vars.applymap(\n",
      "d:\\Users\\Tom\\miniconda3\\envs\\octagon_analysis\\Lib\\site-packages\\pymer4\\models\\Lmer.py:733: FutureWarning: DataFrame.applymap has been deprecated. Use DataFrame.map instead.\n",
      "  ran_vars = ran_vars.applymap(\n",
      "d:\\Users\\Tom\\miniconda3\\envs\\octagon_analysis\\Lib\\site-packages\\pymer4\\models\\Lmer.py:733: FutureWarning: DataFrame.applymap has been deprecated. Use DataFrame.map instead.\n",
      "  ran_vars = ran_vars.applymap(\n",
      "d:\\Users\\Tom\\miniconda3\\envs\\octagon_analysis\\Lib\\site-packages\\pymer4\\models\\Lmer.py:733: FutureWarning: DataFrame.applymap has been deprecated. Use DataFrame.map instead.\n",
      "  ran_vars = ran_vars.applymap(\n",
      "d:\\Users\\Tom\\miniconda3\\envs\\octagon_analysis\\Lib\\site-packages\\pymer4\\models\\Lmer.py:733: FutureWarning: DataFrame.applymap has been deprecated. Use DataFrame.map instead.\n",
      "  ran_vars = ran_vars.applymap(\n",
      "d:\\Users\\Tom\\miniconda3\\envs\\octagon_analysis\\Lib\\site-packages\\pymer4\\models\\Lmer.py:733: FutureWarning: DataFrame.applymap has been deprecated. Use DataFrame.map instead.\n",
      "  ran_vars = ran_vars.applymap(\n",
      "d:\\Users\\Tom\\miniconda3\\envs\\octagon_analysis\\Lib\\site-packages\\pymer4\\models\\Lmer.py:733: FutureWarning: DataFrame.applymap has been deprecated. Use DataFrame.map instead.\n",
      "  ran_vars = ran_vars.applymap(\n",
      "d:\\Users\\Tom\\miniconda3\\envs\\octagon_analysis\\Lib\\site-packages\\pymer4\\models\\Lmer.py:733: FutureWarning: DataFrame.applymap has been deprecated. Use DataFrame.map instead.\n",
      "  ran_vars = ran_vars.applymap(\n"
     ]
    },
    {
     "name": "stdout",
     "output_type": "stream",
     "text": [
      "20-fold CV data saved to:  ..\\data\\k_fold_CV\\20-fold-CV_results_social_randomintercepts_no-opponentvisible_opponentdistance_opponentfirstseen.pickle\n"
     ]
    }
   ],
   "source": [
    "model_formula = 'ChooseHigh ~ 1 + D2H + D2L + FirstSeenWall + WallSep  + OpponentD2H' \\\n",
    "' + OpponentD2L + OpponentFirstSeenWall + (1|GlmPlayerID)'\n",
    "\n",
    "(nll, models,\n",
    "  predictions, likelihoods) = run_cross_validation(split_dataframes['glm_df_social'], model_formula,\n",
    "                                                    \"social_randomintercepts_no-opponentvisible_opponentdistance_opponentfirstseen\",\n",
    "                                                      save_results=True)"
   ]
  },
  {
   "cell_type": "markdown",
   "id": "059561cf",
   "metadata": {},
   "source": [
    "### Solo-social models"
   ]
  },
  {
   "cell_type": "code",
   "execution_count": 28,
   "id": "a90062eb",
   "metadata": {},
   "outputs": [
    {
     "data": {
      "text/plain": [
       "12592    1.0\n",
       "12593    1.0\n",
       "12594    0.0\n",
       "12595    NaN\n",
       "12596    1.0\n",
       "        ... \n",
       "13286    NaN\n",
       "13287    1.0\n",
       "13288    1.0\n",
       "13289    1.0\n",
       "13290    1.0\n",
       "Name: ChooseHigh, Length: 699, dtype: float64"
      ]
     },
     "execution_count": 28,
     "metadata": {},
     "output_type": "execute_result"
    }
   ],
   "source": [
    "split_dataframes['glm_df_solosocial'][-2]['ChooseHigh']"
   ]
  },
  {
   "cell_type": "code",
   "execution_count": 88,
   "id": "8198a462",
   "metadata": {},
   "outputs": [
    {
     "data": {
      "text/plain": [
       "array([0.94149218, 0.86470678, 0.73216744, 0.62010978, 0.97387397,\n",
       "       0.90110192, 0.84284536, 0.81722358, 0.33330827, 0.91752329,\n",
       "       0.30575726, 0.92532929, 0.88264805, 0.95786084, 0.82901805,\n",
       "       0.5803856 , 0.56442236, 0.94291141, 0.75202869, 0.6456233 ,\n",
       "       0.33238321, 0.57359379, 0.87745118, 0.93222857, 0.80397616,\n",
       "       0.88485025, 0.57398076,        nan,        nan,        nan,\n",
       "              nan,        nan,        nan,        nan,        nan,\n",
       "              nan,        nan,        nan,        nan,        nan,\n",
       "              nan,        nan,        nan,        nan,        nan,\n",
       "              nan,        nan,        nan,        nan,        nan,\n",
       "              nan,        nan,        nan,        nan,        nan,\n",
       "              nan,        nan,        nan,        nan,        nan,\n",
       "              nan,        nan,        nan,        nan,        nan,\n",
       "              nan,        nan,        nan,        nan,        nan,\n",
       "              nan,        nan,        nan,        nan,        nan,\n",
       "              nan,        nan,        nan,        nan,        nan,\n",
       "              nan,        nan,        nan,        nan,        nan,\n",
       "              nan,        nan,        nan,        nan,        nan,\n",
       "              nan,        nan,        nan,        nan,        nan,\n",
       "              nan,        nan,        nan,        nan,        nan,\n",
       "              nan,        nan,        nan,        nan,        nan,\n",
       "              nan,        nan,        nan,        nan,        nan,\n",
       "              nan,        nan,        nan,        nan,        nan,\n",
       "              nan,        nan,        nan,        nan,        nan,\n",
       "              nan,        nan,        nan,        nan,        nan,\n",
       "              nan,        nan,        nan,        nan,        nan,\n",
       "              nan,        nan,        nan,        nan,        nan,\n",
       "              nan,        nan,        nan,        nan,        nan,\n",
       "              nan,        nan,        nan,        nan,        nan,\n",
       "              nan,        nan,        nan,        nan])"
      ]
     },
     "execution_count": 88,
     "metadata": {},
     "output_type": "execute_result"
    }
   ],
   "source": [
    "likelihoods[-1][550:]"
   ]
  },
  {
   "cell_type": "code",
   "execution_count": 83,
   "id": "5ba0bd5e",
   "metadata": {},
   "outputs": [
    {
     "data": {
      "application/vnd.jupyter.widget-view+json": {
       "model_id": "db5030606c854e2e926ce072051c8636",
       "version_major": 2,
       "version_minor": 0
      },
      "text/plain": [
       "IntProgress(value=0, description='Fitting models', max=20)"
      ]
     },
     "metadata": {},
     "output_type": "display_data"
    },
    {
     "name": "stderr",
     "output_type": "stream",
     "text": [
      "d:\\Users\\Tom\\miniconda3\\envs\\octagon_analysis\\Lib\\site-packages\\pymer4\\models\\Lmer.py:733: FutureWarning: DataFrame.applymap has been deprecated. Use DataFrame.map instead.\n",
      "  ran_vars = ran_vars.applymap(\n",
      "d:\\Users\\Tom\\miniconda3\\envs\\octagon_analysis\\Lib\\site-packages\\pymer4\\models\\Lmer.py:733: FutureWarning: DataFrame.applymap has been deprecated. Use DataFrame.map instead.\n",
      "  ran_vars = ran_vars.applymap(\n",
      "d:\\Users\\Tom\\miniconda3\\envs\\octagon_analysis\\Lib\\site-packages\\pymer4\\models\\Lmer.py:733: FutureWarning: DataFrame.applymap has been deprecated. Use DataFrame.map instead.\n",
      "  ran_vars = ran_vars.applymap(\n",
      "d:\\Users\\Tom\\miniconda3\\envs\\octagon_analysis\\Lib\\site-packages\\pymer4\\models\\Lmer.py:733: FutureWarning: DataFrame.applymap has been deprecated. Use DataFrame.map instead.\n",
      "  ran_vars = ran_vars.applymap(\n",
      "d:\\Users\\Tom\\miniconda3\\envs\\octagon_analysis\\Lib\\site-packages\\pymer4\\models\\Lmer.py:733: FutureWarning: DataFrame.applymap has been deprecated. Use DataFrame.map instead.\n",
      "  ran_vars = ran_vars.applymap(\n",
      "d:\\Users\\Tom\\miniconda3\\envs\\octagon_analysis\\Lib\\site-packages\\pymer4\\models\\Lmer.py:733: FutureWarning: DataFrame.applymap has been deprecated. Use DataFrame.map instead.\n",
      "  ran_vars = ran_vars.applymap(\n",
      "d:\\Users\\Tom\\miniconda3\\envs\\octagon_analysis\\Lib\\site-packages\\pymer4\\models\\Lmer.py:733: FutureWarning: DataFrame.applymap has been deprecated. Use DataFrame.map instead.\n",
      "  ran_vars = ran_vars.applymap(\n",
      "d:\\Users\\Tom\\miniconda3\\envs\\octagon_analysis\\Lib\\site-packages\\pymer4\\models\\Lmer.py:733: FutureWarning: DataFrame.applymap has been deprecated. Use DataFrame.map instead.\n",
      "  ran_vars = ran_vars.applymap(\n",
      "d:\\Users\\Tom\\miniconda3\\envs\\octagon_analysis\\Lib\\site-packages\\pymer4\\models\\Lmer.py:733: FutureWarning: DataFrame.applymap has been deprecated. Use DataFrame.map instead.\n",
      "  ran_vars = ran_vars.applymap(\n",
      "d:\\Users\\Tom\\miniconda3\\envs\\octagon_analysis\\Lib\\site-packages\\pymer4\\models\\Lmer.py:733: FutureWarning: DataFrame.applymap has been deprecated. Use DataFrame.map instead.\n",
      "  ran_vars = ran_vars.applymap(\n",
      "d:\\Users\\Tom\\miniconda3\\envs\\octagon_analysis\\Lib\\site-packages\\pymer4\\models\\Lmer.py:733: FutureWarning: DataFrame.applymap has been deprecated. Use DataFrame.map instead.\n",
      "  ran_vars = ran_vars.applymap(\n",
      "d:\\Users\\Tom\\miniconda3\\envs\\octagon_analysis\\Lib\\site-packages\\pymer4\\models\\Lmer.py:733: FutureWarning: DataFrame.applymap has been deprecated. Use DataFrame.map instead.\n",
      "  ran_vars = ran_vars.applymap(\n",
      "d:\\Users\\Tom\\miniconda3\\envs\\octagon_analysis\\Lib\\site-packages\\pymer4\\models\\Lmer.py:733: FutureWarning: DataFrame.applymap has been deprecated. Use DataFrame.map instead.\n",
      "  ran_vars = ran_vars.applymap(\n",
      "d:\\Users\\Tom\\miniconda3\\envs\\octagon_analysis\\Lib\\site-packages\\pymer4\\models\\Lmer.py:733: FutureWarning: DataFrame.applymap has been deprecated. Use DataFrame.map instead.\n",
      "  ran_vars = ran_vars.applymap(\n",
      "d:\\Users\\Tom\\miniconda3\\envs\\octagon_analysis\\Lib\\site-packages\\pymer4\\models\\Lmer.py:733: FutureWarning: DataFrame.applymap has been deprecated. Use DataFrame.map instead.\n",
      "  ran_vars = ran_vars.applymap(\n",
      "d:\\Users\\Tom\\miniconda3\\envs\\octagon_analysis\\Lib\\site-packages\\pymer4\\models\\Lmer.py:733: FutureWarning: DataFrame.applymap has been deprecated. Use DataFrame.map instead.\n",
      "  ran_vars = ran_vars.applymap(\n",
      "d:\\Users\\Tom\\miniconda3\\envs\\octagon_analysis\\Lib\\site-packages\\pymer4\\models\\Lmer.py:733: FutureWarning: DataFrame.applymap has been deprecated. Use DataFrame.map instead.\n",
      "  ran_vars = ran_vars.applymap(\n",
      "d:\\Users\\Tom\\miniconda3\\envs\\octagon_analysis\\Lib\\site-packages\\pymer4\\models\\Lmer.py:733: FutureWarning: DataFrame.applymap has been deprecated. Use DataFrame.map instead.\n",
      "  ran_vars = ran_vars.applymap(\n",
      "d:\\Users\\Tom\\miniconda3\\envs\\octagon_analysis\\Lib\\site-packages\\pymer4\\models\\Lmer.py:733: FutureWarning: DataFrame.applymap has been deprecated. Use DataFrame.map instead.\n",
      "  ran_vars = ran_vars.applymap(\n",
      "d:\\Users\\Tom\\miniconda3\\envs\\octagon_analysis\\Lib\\site-packages\\pymer4\\models\\Lmer.py:733: FutureWarning: DataFrame.applymap has been deprecated. Use DataFrame.map instead.\n",
      "  ran_vars = ran_vars.applymap(\n"
     ]
    },
    {
     "name": "stdout",
     "output_type": "stream",
     "text": [
      "20-fold CV data saved to:  ..\\data\\k_fold_CV\\20-fold-CV_results_solosocial_randomintercepts.pickle\n"
     ]
    }
   ],
   "source": [
    "model_formula = 'ChooseHigh ~ 1 + D2H + D2L + FirstSeenWall + WallSep + (1 |GlmPlayerID)'\n",
    "(nll, models,\n",
    "  predictions, likelihoods) = run_cross_validation(split_dataframes['glm_df_solosocial'], model_formula,\n",
    "                                                    \"solosocial_randomintercepts\", \n",
    "                                                      save_results=True)"
   ]
  },
  {
   "cell_type": "code",
   "execution_count": 56,
   "id": "79c710aa",
   "metadata": {},
   "outputs": [
    {
     "data": {
      "application/vnd.jupyter.widget-view+json": {
       "model_id": "cac5a2c90519475fabc0a257465ccacb",
       "version_major": 2,
       "version_minor": 0
      },
      "text/plain": [
       "IntProgress(value=0, description='Fitting models', max=20)"
      ]
     },
     "metadata": {},
     "output_type": "display_data"
    },
    {
     "name": "stderr",
     "output_type": "stream",
     "text": [
      "d:\\Users\\Tom\\miniconda3\\envs\\octagon_analysis\\Lib\\site-packages\\pymer4\\models\\Lmer.py:733: FutureWarning: DataFrame.applymap has been deprecated. Use DataFrame.map instead.\n",
      "  ran_vars = ran_vars.applymap(\n",
      "d:\\Users\\Tom\\miniconda3\\envs\\octagon_analysis\\Lib\\site-packages\\pymer4\\models\\Lmer.py:733: FutureWarning: DataFrame.applymap has been deprecated. Use DataFrame.map instead.\n",
      "  ran_vars = ran_vars.applymap(\n",
      "d:\\Users\\Tom\\miniconda3\\envs\\octagon_analysis\\Lib\\site-packages\\pymer4\\models\\Lmer.py:733: FutureWarning: DataFrame.applymap has been deprecated. Use DataFrame.map instead.\n",
      "  ran_vars = ran_vars.applymap(\n",
      "d:\\Users\\Tom\\miniconda3\\envs\\octagon_analysis\\Lib\\site-packages\\pymer4\\models\\Lmer.py:733: FutureWarning: DataFrame.applymap has been deprecated. Use DataFrame.map instead.\n",
      "  ran_vars = ran_vars.applymap(\n",
      "d:\\Users\\Tom\\miniconda3\\envs\\octagon_analysis\\Lib\\site-packages\\pymer4\\models\\Lmer.py:733: FutureWarning: DataFrame.applymap has been deprecated. Use DataFrame.map instead.\n",
      "  ran_vars = ran_vars.applymap(\n",
      "d:\\Users\\Tom\\miniconda3\\envs\\octagon_analysis\\Lib\\site-packages\\pymer4\\models\\Lmer.py:733: FutureWarning: DataFrame.applymap has been deprecated. Use DataFrame.map instead.\n",
      "  ran_vars = ran_vars.applymap(\n",
      "d:\\Users\\Tom\\miniconda3\\envs\\octagon_analysis\\Lib\\site-packages\\pymer4\\models\\Lmer.py:733: FutureWarning: DataFrame.applymap has been deprecated. Use DataFrame.map instead.\n",
      "  ran_vars = ran_vars.applymap(\n",
      "d:\\Users\\Tom\\miniconda3\\envs\\octagon_analysis\\Lib\\site-packages\\pymer4\\models\\Lmer.py:733: FutureWarning: DataFrame.applymap has been deprecated. Use DataFrame.map instead.\n",
      "  ran_vars = ran_vars.applymap(\n",
      "d:\\Users\\Tom\\miniconda3\\envs\\octagon_analysis\\Lib\\site-packages\\pymer4\\models\\Lmer.py:733: FutureWarning: DataFrame.applymap has been deprecated. Use DataFrame.map instead.\n",
      "  ran_vars = ran_vars.applymap(\n",
      "d:\\Users\\Tom\\miniconda3\\envs\\octagon_analysis\\Lib\\site-packages\\pymer4\\models\\Lmer.py:733: FutureWarning: DataFrame.applymap has been deprecated. Use DataFrame.map instead.\n",
      "  ran_vars = ran_vars.applymap(\n",
      "d:\\Users\\Tom\\miniconda3\\envs\\octagon_analysis\\Lib\\site-packages\\pymer4\\models\\Lmer.py:733: FutureWarning: DataFrame.applymap has been deprecated. Use DataFrame.map instead.\n",
      "  ran_vars = ran_vars.applymap(\n",
      "d:\\Users\\Tom\\miniconda3\\envs\\octagon_analysis\\Lib\\site-packages\\pymer4\\models\\Lmer.py:733: FutureWarning: DataFrame.applymap has been deprecated. Use DataFrame.map instead.\n",
      "  ran_vars = ran_vars.applymap(\n",
      "d:\\Users\\Tom\\miniconda3\\envs\\octagon_analysis\\Lib\\site-packages\\pymer4\\models\\Lmer.py:733: FutureWarning: DataFrame.applymap has been deprecated. Use DataFrame.map instead.\n",
      "  ran_vars = ran_vars.applymap(\n",
      "d:\\Users\\Tom\\miniconda3\\envs\\octagon_analysis\\Lib\\site-packages\\pymer4\\models\\Lmer.py:733: FutureWarning: DataFrame.applymap has been deprecated. Use DataFrame.map instead.\n",
      "  ran_vars = ran_vars.applymap(\n",
      "d:\\Users\\Tom\\miniconda3\\envs\\octagon_analysis\\Lib\\site-packages\\pymer4\\models\\Lmer.py:733: FutureWarning: DataFrame.applymap has been deprecated. Use DataFrame.map instead.\n",
      "  ran_vars = ran_vars.applymap(\n",
      "d:\\Users\\Tom\\miniconda3\\envs\\octagon_analysis\\Lib\\site-packages\\pymer4\\models\\Lmer.py:733: FutureWarning: DataFrame.applymap has been deprecated. Use DataFrame.map instead.\n",
      "  ran_vars = ran_vars.applymap(\n",
      "d:\\Users\\Tom\\miniconda3\\envs\\octagon_analysis\\Lib\\site-packages\\pymer4\\models\\Lmer.py:733: FutureWarning: DataFrame.applymap has been deprecated. Use DataFrame.map instead.\n",
      "  ran_vars = ran_vars.applymap(\n",
      "d:\\Users\\Tom\\miniconda3\\envs\\octagon_analysis\\Lib\\site-packages\\pymer4\\models\\Lmer.py:733: FutureWarning: DataFrame.applymap has been deprecated. Use DataFrame.map instead.\n",
      "  ran_vars = ran_vars.applymap(\n",
      "d:\\Users\\Tom\\miniconda3\\envs\\octagon_analysis\\Lib\\site-packages\\pymer4\\models\\Lmer.py:733: FutureWarning: DataFrame.applymap has been deprecated. Use DataFrame.map instead.\n",
      "  ran_vars = ran_vars.applymap(\n",
      "d:\\Users\\Tom\\miniconda3\\envs\\octagon_analysis\\Lib\\site-packages\\pymer4\\models\\Lmer.py:733: FutureWarning: DataFrame.applymap has been deprecated. Use DataFrame.map instead.\n",
      "  ran_vars = ran_vars.applymap(\n"
     ]
    },
    {
     "name": "stdout",
     "output_type": "stream",
     "text": [
      "20-fold CV data saved to:  ..\\data\\k_fold_CV\\20-fold-CV_results_solosocial_randomintercepts_plus-socialcontext.pickle\n"
     ]
    }
   ],
   "source": [
    "model_formula = 'ChooseHigh ~ 1 + D2H + D2L + FirstSeenWall + WallSep + SocialContext + (1 |GlmPlayerID)'\n",
    "(nll, models,\n",
    "  predictions, likelihoods) = run_cross_validation(split_dataframes['glm_df_solosocial'], model_formula,\n",
    "                                                    \"solosocial_randomintercepts_plus-socialcontext\", \n",
    "                                                      save_results=True)"
   ]
  },
  {
   "cell_type": "code",
   "execution_count": 57,
   "id": "7757064e",
   "metadata": {},
   "outputs": [
    {
     "data": {
      "application/vnd.jupyter.widget-view+json": {
       "model_id": "0615a4f8187845b19775e59c277adbc2",
       "version_major": 2,
       "version_minor": 0
      },
      "text/plain": [
       "IntProgress(value=0, description='Fitting models', max=20)"
      ]
     },
     "metadata": {},
     "output_type": "display_data"
    },
    {
     "name": "stderr",
     "output_type": "stream",
     "text": [
      "d:\\Users\\Tom\\miniconda3\\envs\\octagon_analysis\\Lib\\site-packages\\pymer4\\models\\Lmer.py:733: FutureWarning: DataFrame.applymap has been deprecated. Use DataFrame.map instead.\n",
      "  ran_vars = ran_vars.applymap(\n",
      "d:\\Users\\Tom\\miniconda3\\envs\\octagon_analysis\\Lib\\site-packages\\pymer4\\models\\Lmer.py:733: FutureWarning: DataFrame.applymap has been deprecated. Use DataFrame.map instead.\n",
      "  ran_vars = ran_vars.applymap(\n",
      "d:\\Users\\Tom\\miniconda3\\envs\\octagon_analysis\\Lib\\site-packages\\pymer4\\models\\Lmer.py:733: FutureWarning: DataFrame.applymap has been deprecated. Use DataFrame.map instead.\n",
      "  ran_vars = ran_vars.applymap(\n",
      "d:\\Users\\Tom\\miniconda3\\envs\\octagon_analysis\\Lib\\site-packages\\pymer4\\models\\Lmer.py:733: FutureWarning: DataFrame.applymap has been deprecated. Use DataFrame.map instead.\n",
      "  ran_vars = ran_vars.applymap(\n",
      "d:\\Users\\Tom\\miniconda3\\envs\\octagon_analysis\\Lib\\site-packages\\pymer4\\models\\Lmer.py:733: FutureWarning: DataFrame.applymap has been deprecated. Use DataFrame.map instead.\n",
      "  ran_vars = ran_vars.applymap(\n",
      "d:\\Users\\Tom\\miniconda3\\envs\\octagon_analysis\\Lib\\site-packages\\pymer4\\models\\Lmer.py:733: FutureWarning: DataFrame.applymap has been deprecated. Use DataFrame.map instead.\n",
      "  ran_vars = ran_vars.applymap(\n",
      "d:\\Users\\Tom\\miniconda3\\envs\\octagon_analysis\\Lib\\site-packages\\pymer4\\models\\Lmer.py:733: FutureWarning: DataFrame.applymap has been deprecated. Use DataFrame.map instead.\n",
      "  ran_vars = ran_vars.applymap(\n",
      "d:\\Users\\Tom\\miniconda3\\envs\\octagon_analysis\\Lib\\site-packages\\pymer4\\models\\Lmer.py:733: FutureWarning: DataFrame.applymap has been deprecated. Use DataFrame.map instead.\n",
      "  ran_vars = ran_vars.applymap(\n",
      "d:\\Users\\Tom\\miniconda3\\envs\\octagon_analysis\\Lib\\site-packages\\pymer4\\models\\Lmer.py:733: FutureWarning: DataFrame.applymap has been deprecated. Use DataFrame.map instead.\n",
      "  ran_vars = ran_vars.applymap(\n",
      "d:\\Users\\Tom\\miniconda3\\envs\\octagon_analysis\\Lib\\site-packages\\pymer4\\models\\Lmer.py:733: FutureWarning: DataFrame.applymap has been deprecated. Use DataFrame.map instead.\n",
      "  ran_vars = ran_vars.applymap(\n",
      "d:\\Users\\Tom\\miniconda3\\envs\\octagon_analysis\\Lib\\site-packages\\pymer4\\models\\Lmer.py:733: FutureWarning: DataFrame.applymap has been deprecated. Use DataFrame.map instead.\n",
      "  ran_vars = ran_vars.applymap(\n",
      "d:\\Users\\Tom\\miniconda3\\envs\\octagon_analysis\\Lib\\site-packages\\pymer4\\models\\Lmer.py:733: FutureWarning: DataFrame.applymap has been deprecated. Use DataFrame.map instead.\n",
      "  ran_vars = ran_vars.applymap(\n",
      "d:\\Users\\Tom\\miniconda3\\envs\\octagon_analysis\\Lib\\site-packages\\pymer4\\models\\Lmer.py:733: FutureWarning: DataFrame.applymap has been deprecated. Use DataFrame.map instead.\n",
      "  ran_vars = ran_vars.applymap(\n",
      "d:\\Users\\Tom\\miniconda3\\envs\\octagon_analysis\\Lib\\site-packages\\pymer4\\models\\Lmer.py:733: FutureWarning: DataFrame.applymap has been deprecated. Use DataFrame.map instead.\n",
      "  ran_vars = ran_vars.applymap(\n",
      "d:\\Users\\Tom\\miniconda3\\envs\\octagon_analysis\\Lib\\site-packages\\pymer4\\models\\Lmer.py:733: FutureWarning: DataFrame.applymap has been deprecated. Use DataFrame.map instead.\n",
      "  ran_vars = ran_vars.applymap(\n",
      "d:\\Users\\Tom\\miniconda3\\envs\\octagon_analysis\\Lib\\site-packages\\pymer4\\models\\Lmer.py:733: FutureWarning: DataFrame.applymap has been deprecated. Use DataFrame.map instead.\n",
      "  ran_vars = ran_vars.applymap(\n",
      "d:\\Users\\Tom\\miniconda3\\envs\\octagon_analysis\\Lib\\site-packages\\pymer4\\models\\Lmer.py:733: FutureWarning: DataFrame.applymap has been deprecated. Use DataFrame.map instead.\n",
      "  ran_vars = ran_vars.applymap(\n",
      "d:\\Users\\Tom\\miniconda3\\envs\\octagon_analysis\\Lib\\site-packages\\pymer4\\models\\Lmer.py:733: FutureWarning: DataFrame.applymap has been deprecated. Use DataFrame.map instead.\n",
      "  ran_vars = ran_vars.applymap(\n",
      "d:\\Users\\Tom\\miniconda3\\envs\\octagon_analysis\\Lib\\site-packages\\pymer4\\models\\Lmer.py:733: FutureWarning: DataFrame.applymap has been deprecated. Use DataFrame.map instead.\n",
      "  ran_vars = ran_vars.applymap(\n",
      "d:\\Users\\Tom\\miniconda3\\envs\\octagon_analysis\\Lib\\site-packages\\pymer4\\models\\Lmer.py:733: FutureWarning: DataFrame.applymap has been deprecated. Use DataFrame.map instead.\n",
      "  ran_vars = ran_vars.applymap(\n"
     ]
    },
    {
     "name": "stdout",
     "output_type": "stream",
     "text": [
      "20-fold CV data saved to:  ..\\data\\k_fold_CV\\20-fold-CV_results_solosocial_randomintercepts_plus-socialcontext_fsw-interactions.pickle\n"
     ]
    }
   ],
   "source": [
    "model_formula = 'ChooseHigh ~ 1 + D2H + D2L + FirstSeenWall + WallSep + SocialContext + SocialContext:FirstSeenWall + (1 |GlmPlayerID)'\n",
    "(nll, models,\n",
    "  predictions, likelihoods) = run_cross_validation(split_dataframes['glm_df_solosocial'], model_formula,\n",
    "                                                    \"solosocial_randomintercepts_plus-socialcontext_fsw-interactions\", \n",
    "                                                      save_results=True)"
   ]
  },
  {
   "cell_type": "code",
   "execution_count": 58,
   "id": "a72003ff",
   "metadata": {},
   "outputs": [
    {
     "data": {
      "application/vnd.jupyter.widget-view+json": {
       "model_id": "8bbc20a3e27947759698f9c6e976ab06",
       "version_major": 2,
       "version_minor": 0
      },
      "text/plain": [
       "IntProgress(value=0, description='Fitting models', max=20)"
      ]
     },
     "metadata": {},
     "output_type": "display_data"
    },
    {
     "name": "stderr",
     "output_type": "stream",
     "text": [
      "d:\\Users\\Tom\\miniconda3\\envs\\octagon_analysis\\Lib\\site-packages\\pymer4\\models\\Lmer.py:733: FutureWarning: DataFrame.applymap has been deprecated. Use DataFrame.map instead.\n",
      "  ran_vars = ran_vars.applymap(\n",
      "d:\\Users\\Tom\\miniconda3\\envs\\octagon_analysis\\Lib\\site-packages\\pymer4\\models\\Lmer.py:733: FutureWarning: DataFrame.applymap has been deprecated. Use DataFrame.map instead.\n",
      "  ran_vars = ran_vars.applymap(\n",
      "d:\\Users\\Tom\\miniconda3\\envs\\octagon_analysis\\Lib\\site-packages\\pymer4\\models\\Lmer.py:733: FutureWarning: DataFrame.applymap has been deprecated. Use DataFrame.map instead.\n",
      "  ran_vars = ran_vars.applymap(\n",
      "d:\\Users\\Tom\\miniconda3\\envs\\octagon_analysis\\Lib\\site-packages\\pymer4\\models\\Lmer.py:733: FutureWarning: DataFrame.applymap has been deprecated. Use DataFrame.map instead.\n",
      "  ran_vars = ran_vars.applymap(\n",
      "d:\\Users\\Tom\\miniconda3\\envs\\octagon_analysis\\Lib\\site-packages\\pymer4\\models\\Lmer.py:733: FutureWarning: DataFrame.applymap has been deprecated. Use DataFrame.map instead.\n",
      "  ran_vars = ran_vars.applymap(\n",
      "d:\\Users\\Tom\\miniconda3\\envs\\octagon_analysis\\Lib\\site-packages\\pymer4\\models\\Lmer.py:733: FutureWarning: DataFrame.applymap has been deprecated. Use DataFrame.map instead.\n",
      "  ran_vars = ran_vars.applymap(\n",
      "d:\\Users\\Tom\\miniconda3\\envs\\octagon_analysis\\Lib\\site-packages\\pymer4\\models\\Lmer.py:733: FutureWarning: DataFrame.applymap has been deprecated. Use DataFrame.map instead.\n",
      "  ran_vars = ran_vars.applymap(\n",
      "d:\\Users\\Tom\\miniconda3\\envs\\octagon_analysis\\Lib\\site-packages\\pymer4\\models\\Lmer.py:733: FutureWarning: DataFrame.applymap has been deprecated. Use DataFrame.map instead.\n",
      "  ran_vars = ran_vars.applymap(\n",
      "d:\\Users\\Tom\\miniconda3\\envs\\octagon_analysis\\Lib\\site-packages\\pymer4\\models\\Lmer.py:733: FutureWarning: DataFrame.applymap has been deprecated. Use DataFrame.map instead.\n",
      "  ran_vars = ran_vars.applymap(\n",
      "d:\\Users\\Tom\\miniconda3\\envs\\octagon_analysis\\Lib\\site-packages\\pymer4\\models\\Lmer.py:733: FutureWarning: DataFrame.applymap has been deprecated. Use DataFrame.map instead.\n",
      "  ran_vars = ran_vars.applymap(\n",
      "d:\\Users\\Tom\\miniconda3\\envs\\octagon_analysis\\Lib\\site-packages\\pymer4\\models\\Lmer.py:733: FutureWarning: DataFrame.applymap has been deprecated. Use DataFrame.map instead.\n",
      "  ran_vars = ran_vars.applymap(\n",
      "d:\\Users\\Tom\\miniconda3\\envs\\octagon_analysis\\Lib\\site-packages\\pymer4\\models\\Lmer.py:733: FutureWarning: DataFrame.applymap has been deprecated. Use DataFrame.map instead.\n",
      "  ran_vars = ran_vars.applymap(\n",
      "d:\\Users\\Tom\\miniconda3\\envs\\octagon_analysis\\Lib\\site-packages\\pymer4\\models\\Lmer.py:733: FutureWarning: DataFrame.applymap has been deprecated. Use DataFrame.map instead.\n",
      "  ran_vars = ran_vars.applymap(\n",
      "d:\\Users\\Tom\\miniconda3\\envs\\octagon_analysis\\Lib\\site-packages\\pymer4\\models\\Lmer.py:733: FutureWarning: DataFrame.applymap has been deprecated. Use DataFrame.map instead.\n",
      "  ran_vars = ran_vars.applymap(\n",
      "d:\\Users\\Tom\\miniconda3\\envs\\octagon_analysis\\Lib\\site-packages\\pymer4\\models\\Lmer.py:733: FutureWarning: DataFrame.applymap has been deprecated. Use DataFrame.map instead.\n",
      "  ran_vars = ran_vars.applymap(\n",
      "d:\\Users\\Tom\\miniconda3\\envs\\octagon_analysis\\Lib\\site-packages\\pymer4\\models\\Lmer.py:733: FutureWarning: DataFrame.applymap has been deprecated. Use DataFrame.map instead.\n",
      "  ran_vars = ran_vars.applymap(\n",
      "d:\\Users\\Tom\\miniconda3\\envs\\octagon_analysis\\Lib\\site-packages\\pymer4\\models\\Lmer.py:733: FutureWarning: DataFrame.applymap has been deprecated. Use DataFrame.map instead.\n",
      "  ran_vars = ran_vars.applymap(\n",
      "d:\\Users\\Tom\\miniconda3\\envs\\octagon_analysis\\Lib\\site-packages\\pymer4\\models\\Lmer.py:733: FutureWarning: DataFrame.applymap has been deprecated. Use DataFrame.map instead.\n",
      "  ran_vars = ran_vars.applymap(\n",
      "d:\\Users\\Tom\\miniconda3\\envs\\octagon_analysis\\Lib\\site-packages\\pymer4\\models\\Lmer.py:733: FutureWarning: DataFrame.applymap has been deprecated. Use DataFrame.map instead.\n",
      "  ran_vars = ran_vars.applymap(\n",
      "d:\\Users\\Tom\\miniconda3\\envs\\octagon_analysis\\Lib\\site-packages\\pymer4\\models\\Lmer.py:733: FutureWarning: DataFrame.applymap has been deprecated. Use DataFrame.map instead.\n",
      "  ran_vars = ran_vars.applymap(\n"
     ]
    },
    {
     "name": "stdout",
     "output_type": "stream",
     "text": [
      "20-fold CV data saved to:  ..\\data\\k_fold_CV\\20-fold-CV_results_solosocial_randomintercepts_plus-socialcontext_fsw-interactions_socialcontext-dist_interactions.pickle\n"
     ]
    }
   ],
   "source": [
    "model_formula = 'ChooseHigh ~ 1 + D2H + D2L + FirstSeenWall + WallSep + SocialContext + D2H:SocialContext + D2L:SocialContext + (1 |GlmPlayerID)'\n",
    "(nll, models,\n",
    "  predictions, likelihoods) = run_cross_validation(split_dataframes['glm_df_solosocial'], model_formula,\n",
    "                                                    \"solosocial_randomintercepts_plus-socialcontext_fsw-interactions_socialcontext-dist_interactions\", \n",
    "                                                      save_results=True)"
   ]
  },
  {
   "cell_type": "code",
   "execution_count": null,
   "id": "0412f208",
   "metadata": {},
   "outputs": [],
   "source": []
  }
 ],
 "metadata": {
  "kernelspec": {
   "display_name": "octagon_analysis",
   "language": "python",
   "name": "python3"
  },
  "language_info": {
   "codemirror_mode": {
    "name": "ipython",
    "version": 3
   },
   "file_extension": ".py",
   "mimetype": "text/x-python",
   "name": "python",
   "nbconvert_exporter": "python",
   "pygments_lexer": "ipython3",
   "version": "3.12.7"
  }
 },
 "nbformat": 4,
 "nbformat_minor": 5
}
