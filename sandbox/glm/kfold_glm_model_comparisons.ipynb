{
 "cells": [
  {
   "cell_type": "code",
   "execution_count": 17,
   "id": "7165c571",
   "metadata": {},
   "outputs": [
    {
     "name": "stdout",
     "output_type": "stream",
     "text": [
      "The autoreload extension is already loaded. To reload it, use:\n",
      "  %reload_ext autoreload\n",
      "[1] \"R version 4.1.3 (2022-03-10)\"\n",
      "\n"
     ]
    }
   ],
   "source": [
    "%load_ext autoreload\n",
    "%autoreload 2\n",
    "\n",
    "import os \n",
    "# Set the environment for R\n",
    "if os.environ.get('HOME') == '/home/tom':                                           # Linux\n",
    "    os.environ['R_HOME'] = '/home/tom/miniconda3/envs/octagon_analysis/lib/R'           # Lab desktop\n",
    "\n",
    "elif os.environ.get('HOME') is None:                                                # Windows\n",
    "    if os.environ.get('USERPROFILE') == r'C:\\Users\\tomha':\n",
    "        os.environ['R_HOME']= r'C:\\Users\\tomha\\miniconda3\\envs\\octagon_analysis\\lib\\R'  # Laptop\n",
    "    elif os.environ.get('USERPROFILE') == r'C:\\Users\\Tom':\n",
    "        os.environ['R_HOME']=r'D:\\Users\\Tom\\miniconda3\\envs\\octagon_analysis\\lib\\R'     # Home desktop\n",
    "# elif:\n",
    "    # append other machines here\n",
    "\n",
    "\n",
    "import rpy2.robjects as robjects\n",
    "print(robjects.r('R.version.string'))\n",
    "\n",
    "import numpy as np\n",
    "import pandas as pd\n",
    "from ipywidgets import IntProgress\n",
    "from IPython.display import display\n",
    "from pymer4.models import Lmer\n",
    "import populate_dataframes\n",
    "import re\n",
    "\n",
    "\n"
   ]
  },
  {
   "cell_type": "code",
   "execution_count": 18,
   "id": "bb7e93d8",
   "metadata": {},
   "outputs": [],
   "source": [
    "k = 20\n",
    "new_split_dataframes = False"
   ]
  },
  {
   "cell_type": "markdown",
   "id": "e71cf003",
   "metadata": {},
   "source": [
    "### load data"
   ]
  },
  {
   "cell_type": "code",
   "execution_count": 19,
   "id": "08a034bc",
   "metadata": {},
   "outputs": [],
   "source": [
    "import pickle\n",
    "\n",
    "analysis_dir = os.path.join('..', 'data')\n",
    "# analysis_file = 'analysis_results_2levelsFirstSeenWall_normalisedWallSep.pkl'\n",
    "analysis_file = 'analysis_results_3levelsFirstSeenWall_normalisedWallSep.pkl'\n",
    "filename = os.path.join(analysis_dir, analysis_file)\n",
    "# load the analysis results\n",
    "with open(filename, 'rb') as f:\n",
    "    analysis_results = pickle.load(f)"
   ]
  },
  {
   "cell_type": "code",
   "execution_count": 23,
   "id": "c3babbb3",
   "metadata": {},
   "outputs": [
    {
     "data": {
      "text/plain": [
       "dict_keys([np.int64(0), np.int64(1), np.int64(2), np.int64(3), np.int64(4), np.int64(5), np.int64(6), np.int64(7), np.int64(8), np.int64(9), np.int64(10), np.int64(11), np.int64(12), np.int64(13), np.int64(14), np.int64(15), np.int64(16), np.int64(17), np.int64(18), np.int64(19), np.int64(20), np.int64(21), np.int64(22), np.int64(23), np.int64(24), np.int64(25), np.int64(26), np.int64(27), np.int64(28), np.int64(29), np.int64(30), np.int64(31), np.int64(32), np.int64(33), np.int64(34), np.int64(35), np.int64(36), np.int64(37), np.int64(38), np.int64(39), np.int64(40), np.int64(41), np.int64(42), np.int64(43), np.int64(44), np.int64(45), np.int64(46), np.int64(47), np.int64(48), np.int64(49)])"
      ]
     },
     "execution_count": 23,
     "metadata": {},
     "output_type": "execute_result"
    }
   ],
   "source": [
    "analysis_results.keys()\n"
   ]
  },
  {
   "cell_type": "markdown",
   "id": "7e5eda65",
   "metadata": {},
   "source": [
    "### populate dataframes for glm input"
   ]
  },
  {
   "cell_type": "code",
   "execution_count": 24,
   "id": "8913bcfb",
   "metadata": {},
   "outputs": [],
   "source": [
    "# populate dataframes for solo, solosocial, and social analysis_type\n",
    "glm_df_solo = populate_dataframes.populate_dataframe(analysis_results, analysis_type='solo')\n",
    "glm_df_solosocial = populate_dataframes.populate_dataframe(analysis_results, analysis_type='solosocial')\n",
    "glm_df_social = populate_dataframes.populate_dataframe(analysis_results, analysis_type='social')\n"
   ]
  },
  {
   "cell_type": "markdown",
   "id": "be390a9d",
   "metadata": {},
   "source": [
    "### create reference to dataframes"
   ]
  },
  {
   "cell_type": "code",
   "execution_count": 25,
   "id": "ef434e7e",
   "metadata": {},
   "outputs": [
    {
     "data": {
      "text/plain": [
       "WallSep\n",
       "0.25    5002\n",
       "0.50    3002\n",
       "1.00    2680\n",
       "Name: count, dtype: int64"
      ]
     },
     "execution_count": 25,
     "metadata": {},
     "output_type": "execute_result"
    }
   ],
   "source": [
    "glm_df_social['WallSep'].value_counts()"
   ]
  },
  {
   "cell_type": "code",
   "execution_count": 26,
   "id": "ed566cf8",
   "metadata": {},
   "outputs": [],
   "source": [
    "dataframes = {\n",
    "    'glm_df_solo': glm_df_solo,\n",
    "    'glm_df_solosocial': glm_df_solosocial,\n",
    "    'glm_df_social': glm_df_social\n",
    "}"
   ]
  },
  {
   "cell_type": "markdown",
   "id": "73a02e26",
   "metadata": {},
   "source": [
    "### shuffle the dataframes for k-fold index selection\n"
   ]
  },
  {
   "cell_type": "code",
   "execution_count": 27,
   "id": "41d72dfa",
   "metadata": {},
   "outputs": [],
   "source": [
    "shuffled_dataframes_path = os.path.join('..', 'data', 'k_fold_CV', 'shuffled_dataframes.pkl')\n",
    "\n",
    "if new_split_dataframes:\n",
    "    \n",
    "    # shuffle each dataframe\n",
    "    for name, df in dataframes.items():\n",
    "        dataframes[name] = df.sample(frac=1, random_state=17).reset_index(drop=True)\n",
    "\n",
    "    # pickle save shuffled dataframes to sandbox > data, as one dictionary\n",
    "    with open(shuffled_dataframes_path, 'wb') as f:\n",
    "        pickle.dump(dataframes, f)\n",
    "\n",
    "    shuffled_dataframes = dataframes\n",
    "\n",
    "else:\n",
    "    # load the shuffled dataframes\n",
    "    with open(shuffled_dataframes_path, 'rb') as f:\n",
    "        shuffled_dataframes = pickle.load(f)\n",
    "\n"
   ]
  },
  {
   "cell_type": "markdown",
   "id": "1122a240",
   "metadata": {},
   "source": [
    "### Split each dataframe into folds"
   ]
  },
  {
   "cell_type": "code",
   "execution_count": 28,
   "id": "b531ca51",
   "metadata": {},
   "outputs": [
    {
     "name": "stderr",
     "output_type": "stream",
     "text": [
      "d:\\Users\\Tom\\miniconda3\\envs\\octagon_analysis\\Lib\\site-packages\\numpy\\_core\\fromnumeric.py:57: FutureWarning: 'DataFrame.swapaxes' is deprecated and will be removed in a future version. Please use 'DataFrame.transpose' instead.\n",
      "  return bound(*args, **kwds)\n"
     ]
    }
   ],
   "source": [
    "# split each dataframe into k equal parts\n",
    "split_dataframes = {name: np.array_split(df, k) for name, df in shuffled_dataframes.items()}"
   ]
  },
  {
   "cell_type": "markdown",
   "id": "1939740f",
   "metadata": {},
   "source": [
    "### Cross-validation functions"
   ]
  },
  {
   "cell_type": "code",
   "execution_count": 29,
   "id": "6ee3414c",
   "metadata": {},
   "outputs": [],
   "source": [
    "from contextlib import redirect_stdout\n",
    "\n",
    "def fit_models(split_df, model_formula):\n",
    "    '''\n",
    "    Takes a dataframe and a model formula, and fits k models to the data.\n",
    "    Wjere k is the number of folds in the split dataframe.\n",
    "    Use k-1 folds to train each model'''\n",
    "    \n",
    "    models = []\n",
    "    max_count = len(split_df)\n",
    "    f = IntProgress(min=0, max=max_count, description='Fitting models')\n",
    "    display(f)\n",
    "\n",
    "    # for i, df in enumerate(split_df):\n",
    "    #     print(f\"Fold {i}: Type = {type(df)}\")\n",
    "\n",
    "    # Suppress the output of the models fitting process\n",
    "    with open(os.devnull, 'w') as fnull:\n",
    "        with redirect_stdout(fnull):\n",
    "            for i in range(len(split_df)):\n",
    "                # Combine all folds except the i-th fold\n",
    "                train_data = pd.concat([df for j, df in enumerate(split_df) if j != i], ignore_index=True)                \n",
    "                # Fit the Lmer model to these folds\n",
    "                model = Lmer(model_formula, data=train_data, family='binomial')\n",
    "                model.fit(\n",
    "                    # use the bobyqa optimizer and 10000 iterations\n",
    "                    control=\"optimizer='bobyqa', optCtrl=list(maxfun=10000)\"\n",
    "                )\n",
    "                models.append(model)\n",
    "                print(f\"Model {i} fit with {len(train_data)} rows\")\n",
    "                f.value += 1\n",
    "    \n",
    "    return models\n",
    "\n",
    "def drop_nans_relevant_columns(df, model_formula):\n",
    "    ''' Remove rows with NaNs in any columns that contain them, if these columns are in the model formula.\n",
    "    This is to avoid making predictions on rows with NaNs in the relevant columns, which would cause errors.\n",
    "    And also to avoid making predictions on rows with NaNs in the ground truth column, where\n",
    "    the ground truth cannot be used to check them '''\n",
    "    \n",
    "    # drop rows with nans in any columns that contain them (if these columns are in the model formula)\n",
    "    nan_containing_cols = list(df.isna().sum()[df.isna().sum() > 0].index)\n",
    "    nan_containing_cols = [col for col in df.columns if df[col].isna().any() and re.search(col, model_formula)]\n",
    "    for column in nan_containing_cols:\n",
    "        pattern = re.compile(column)\n",
    "        match = re.search(pattern, model_formula)\n",
    "        # if match and match.group(0) != \"ChooseHigh\": # 'ChooseHigh' is dependent variable, we don't need to drop this\n",
    "        if match:\n",
    "            df = df.dropna(subset=nan_containing_cols)\n",
    "        else:\n",
    "            continue\n",
    "\n",
    "\n",
    "    return df\n",
    "\n",
    "def calculate_predictions(split_df, models):\n",
    "    ''' \n",
    "    Predict on the held-out fold, for each trained model\n",
    "    '''\n",
    "\n",
    "    all_predictions = []\n",
    "    all_predict_data = []\n",
    "    \n",
    "    # for each dataframe type, predict on the held-out fold using the relevant model\n",
    "    for i, model in enumerate(models):\n",
    "        \n",
    "        # predict on the held-out fold\n",
    "        predict_data = split_df[i].copy()\n",
    "\n",
    "        # drop rows with nans in any columns that contain them (if these columns are in the model formula)\n",
    "        # excluding the dependent variable 'ChooseHigh'\n",
    "        predict_data = drop_nans_relevant_columns(predict_data, model.formula)\n",
    "        all_predict_data.append(predict_data) # save this to provide data for ground truth later\n",
    "\n",
    "        predictions = model.predict(predict_data, skip_data_checks=True, verify_predictions=False)\n",
    "\n",
    "        # concatenate these predictions to the predictions array\n",
    "        all_predictions.append(predictions)\n",
    "\n",
    "    return all_predictions, all_predict_data\n",
    "\n",
    "\n",
    "\n",
    "def calculate_likelihoods(split_df, predictions, model_formula):\n",
    "    ''' \n",
    "    Calculate the likelihood of each prediction given the true output.\n",
    "    The likelihood is calculated as p^y * (1-p)^(1-y), where p is the predicted probability\n",
    "    and y is the true output (0 or 1).\n",
    "\n",
    "    Takes a list of dataframes and a list of predictions, where each array of predictions corresponds\n",
    "    to the dataframe of the same index.\n",
    "\n",
    "    Avoid calculating the likelihood for NaN ground truth values. (Social trials without confident inferred\n",
    "    choices)\n",
    "    '''\n",
    "    \n",
    "    fold_likelihoods = []\n",
    "    for i, prediction_fold in enumerate(predictions):\n",
    "        \n",
    "        predicted_output = np.array(prediction_fold)\n",
    "        true_output = split_df[i].copy()\n",
    "        \n",
    "        # drop rows with nans in any columns that contain them (if these columns are in the model formula)\n",
    "        # excluding the dependent variable 'ChooseHigh'\n",
    "        true_output = drop_nans_relevant_columns(true_output, model_formula)\n",
    "\n",
    "        # only calculate the likelihood for non-NaN ground truth values      \n",
    "        nonnan_mask = ~np.isnan(true_output['ChooseHigh'])\n",
    "        true_output = true_output[nonnan_mask]\n",
    "        try:\n",
    "            predicted_output = predicted_output[nonnan_mask]\n",
    "        except Exception as e:\n",
    "            print(f\"Error: {e}\")\n",
    "            print(f\"predicted output shape: {predicted_output.shape}, non-nan mask shape: {nonnan_mask.shape}\")\n",
    "            print(f\"predicted output: {predicted_output}\")\n",
    "            print(f\"nonnan mask: {nonnan_mask}\")\n",
    "            predicted_output = predicted_output[nonnan_mask.to_numpy()]\n",
    "\n",
    "        # initialise likelihoods array to be the size of the ground truth data once nans have been filtered\n",
    "        likelihoods = np.full(len(predicted_output), np.nan)\n",
    "\n",
    "\n",
    "        # calculate the metric for each prediction\n",
    "\n",
    "        for i, prediction in enumerate(predicted_output):\n",
    "            ground_truth = true_output.iloc[i]['ChooseHigh']\n",
    "            likelihood = prediction**ground_truth * (1 - prediction)**(1 - ground_truth)\n",
    "            likelihoods[i] = likelihood\n",
    "            if np.isnan(likelihood):\n",
    "                print(f\"NaN likelihood for prediction {prediction} and ground truth {ground_truth}\")\n",
    "                print(f\"prediction**ground_truth: {prediction**ground_truth}\")\n",
    "                print(f\"(1 - prediction)**(1 - ground_truth): {(1 - prediction)**(1 - ground_truth)}\")\n",
    "\n",
    "        fold_likelihoods.append(likelihoods)\n",
    "\n",
    "    return fold_likelihoods\n",
    "\n",
    "def calculate_nlls(fold_likelihoods):\n",
    "    # #### sum the logs of the likelihoods, and take the negative\n",
    "\n",
    "    fold_avg_nlls = np.full(len(fold_likelihoods), np.nan)\n",
    "    fold_all_nlls = []\n",
    "    for i, prediction_fold in enumerate(fold_likelihoods):\n",
    "        fold_nlls = -np.log(prediction_fold)\n",
    "        fold_avg_nll = np.nanmean(fold_nlls)\n",
    "        print(f\"Fold {i} average NLL: {fold_avg_nll}\")\n",
    "\n",
    "        fold_avg_nlls[i] = fold_avg_nll\n",
    "        fold_all_nlls.append(fold_nlls)\n",
    "\n",
    "    model_avg_nll = np.nanmean(fold_avg_nlls)\n",
    "\n",
    "    return fold_all_nlls, fold_avg_nlls, model_avg_nll\n",
    "\n",
    "\n",
    "def save_cross_validation_results(name, model_formula, split_df, num_folds, predictions,\n",
    "                                  predict_data, fold_likelihoods, fold_nlls, fold_avg_nlls, model_avg_nll):\n",
    "    ''' Save the cross-validation results to a file.\n",
    "     \n",
    "      Args:\n",
    "        name (str): Name of the model type.\n",
    "        model_formula (str): The formula used for the model.\n",
    "        split_df (list): List of dataframes for each fold.\n",
    "        num_folds (int): Number of folds in the cross-validation.\n",
    "        predictions (list): List of arrays of predictions for each fold.\n",
    "        predict_data (list): List of dataframes used for predictions (different to split_df\n",
    "        in that all of the rows with nans in relevant prediction columns are removed).\n",
    "        fold_avg_nlls (np.array): Average negative log likelihoods for each fold.\n",
    "        model_avg_nll (float): Average negative log likelihood across all folds.\n",
    "        k (int): Number of folds in the cross-validation.'''\n",
    "    \n",
    "    cross_validation_results = {\n",
    "        \"name\": name,\n",
    "        \"model_formula\" : model_formula,\n",
    "        \"split_df\" : split_df,\n",
    "        \"num_folds\" : num_folds,\n",
    "        # \"models\" : models,\n",
    "        \"predictions\" : predictions,\n",
    "        \"predict_data\" : predict_data,\n",
    "        \"fold_likelihoods\" : fold_likelihoods, \n",
    "        \"fold_nlls\" : fold_nlls,\n",
    "        \"fold_avg_nlls\" : fold_avg_nlls,\n",
    "        \"average_nll\" : model_avg_nll\n",
    "    }\n",
    "\n",
    "   # Save the cross-validation results to a file\n",
    "    dir = os.path.join('..', 'data', 'k_fold_CV')\n",
    "    filename = f'{num_folds}-fold-CV_results_{name}.pickle'\n",
    "    filepath = os.path.join(dir, filename)\n",
    "    with open(filepath, 'wb') as f:\n",
    "        pickle.dump(cross_validation_results, f)\n",
    "\n",
    "    print(f\"{num_folds}-fold CV data saved to: \", filepath)"
   ]
  },
  {
   "cell_type": "code",
   "execution_count": 30,
   "id": "eaf06e8d",
   "metadata": {},
   "outputs": [],
   "source": [
    "def run_cross_validation(split_df, model_formula, name, save_results=False):\n",
    "    ''' \n",
    "    Run k-fold cross-validation on the given dataframes.\n",
    "    Returns:\n",
    "    - model_avg_nll: the average negative log likelihood (NLL) across all folds,\n",
    "    - models: a list of the fitted model for each fold,\n",
    "    - predictions: a list of arrays of predictions for each fold,\n",
    "    - predict_data: a list of dataframes used for predictions for each fold,\n",
    "    - fold_avg_nlls: a list of the average NLL for each fold.\n",
    "    '''\n",
    "\n",
    "    n_folds = len(split_df)\n",
    "\n",
    "    # Step 1: Fit models on k-1 folds for all iterations\n",
    "    models = fit_models(split_df, model_formula)\n",
    "\n",
    "    # Step 2: Calculate predictions on the held-out fold for each model\n",
    "    predictions, predict_data = calculate_predictions(split_df, models)\n",
    "\n",
    "    # Step 3: Calculate likelihoods for each prediction\n",
    "    fold_likelihoods = calculate_likelihoods(split_df, predictions, model_formula)\n",
    "\n",
    "    # Step 4: Calculate NLLs \n",
    "    fold_all_nlls, fold_avg_nlls, model_avg_nll = calculate_nlls(fold_likelihoods)\n",
    "\n",
    "    # Step 5: Save data to file (optional)\n",
    "    if save_results:\n",
    "        save_cross_validation_results(name, model_formula, split_df, n_folds, predictions,\n",
    "                                       predict_data, fold_likelihoods, fold_all_nlls, fold_avg_nlls, model_avg_nll)\n",
    "\n",
    "    return model_avg_nll, models, predictions, fold_all_nlls, fold_avg_nlls\n"
   ]
  },
  {
   "cell_type": "markdown",
   "id": "3526c187",
   "metadata": {},
   "source": [
    "### Solo models"
   ]
  },
  {
   "cell_type": "code",
   "execution_count": 11,
   "id": "68b78753",
   "metadata": {},
   "outputs": [
    {
     "data": {
      "application/vnd.jupyter.widget-view+json": {
       "model_id": "f48fd7a9956240c38a7f34d4604b95dc",
       "version_major": 2,
       "version_minor": 0
      },
      "text/plain": [
       "IntProgress(value=0, description='Fitting models', max=20)"
      ]
     },
     "metadata": {},
     "output_type": "display_data"
    },
    {
     "name": "stderr",
     "output_type": "stream",
     "text": [
      "/home/tom/miniconda3/envs/octagon_analysis/lib/python3.12/site-packages/pymer4/models/Lmer.py:733: FutureWarning: DataFrame.applymap has been deprecated. Use DataFrame.map instead.\n",
      "  ran_vars = ran_vars.applymap(\n",
      "/home/tom/miniconda3/envs/octagon_analysis/lib/python3.12/site-packages/pymer4/models/Lmer.py:733: FutureWarning: DataFrame.applymap has been deprecated. Use DataFrame.map instead.\n",
      "  ran_vars = ran_vars.applymap(\n",
      "/home/tom/miniconda3/envs/octagon_analysis/lib/python3.12/site-packages/pymer4/models/Lmer.py:733: FutureWarning: DataFrame.applymap has been deprecated. Use DataFrame.map instead.\n",
      "  ran_vars = ran_vars.applymap(\n",
      "/home/tom/miniconda3/envs/octagon_analysis/lib/python3.12/site-packages/pymer4/models/Lmer.py:733: FutureWarning: DataFrame.applymap has been deprecated. Use DataFrame.map instead.\n",
      "  ran_vars = ran_vars.applymap(\n",
      "/home/tom/miniconda3/envs/octagon_analysis/lib/python3.12/site-packages/pymer4/models/Lmer.py:733: FutureWarning: DataFrame.applymap has been deprecated. Use DataFrame.map instead.\n",
      "  ran_vars = ran_vars.applymap(\n",
      "/home/tom/miniconda3/envs/octagon_analysis/lib/python3.12/site-packages/pymer4/models/Lmer.py:733: FutureWarning: DataFrame.applymap has been deprecated. Use DataFrame.map instead.\n",
      "  ran_vars = ran_vars.applymap(\n",
      "/home/tom/miniconda3/envs/octagon_analysis/lib/python3.12/site-packages/pymer4/models/Lmer.py:733: FutureWarning: DataFrame.applymap has been deprecated. Use DataFrame.map instead.\n",
      "  ran_vars = ran_vars.applymap(\n",
      "/home/tom/miniconda3/envs/octagon_analysis/lib/python3.12/site-packages/pymer4/models/Lmer.py:733: FutureWarning: DataFrame.applymap has been deprecated. Use DataFrame.map instead.\n",
      "  ran_vars = ran_vars.applymap(\n",
      "/home/tom/miniconda3/envs/octagon_analysis/lib/python3.12/site-packages/pymer4/models/Lmer.py:733: FutureWarning: DataFrame.applymap has been deprecated. Use DataFrame.map instead.\n",
      "  ran_vars = ran_vars.applymap(\n",
      "/home/tom/miniconda3/envs/octagon_analysis/lib/python3.12/site-packages/pymer4/models/Lmer.py:733: FutureWarning: DataFrame.applymap has been deprecated. Use DataFrame.map instead.\n",
      "  ran_vars = ran_vars.applymap(\n",
      "/home/tom/miniconda3/envs/octagon_analysis/lib/python3.12/site-packages/pymer4/models/Lmer.py:733: FutureWarning: DataFrame.applymap has been deprecated. Use DataFrame.map instead.\n",
      "  ran_vars = ran_vars.applymap(\n",
      "/home/tom/miniconda3/envs/octagon_analysis/lib/python3.12/site-packages/pymer4/models/Lmer.py:733: FutureWarning: DataFrame.applymap has been deprecated. Use DataFrame.map instead.\n",
      "  ran_vars = ran_vars.applymap(\n",
      "/home/tom/miniconda3/envs/octagon_analysis/lib/python3.12/site-packages/pymer4/models/Lmer.py:733: FutureWarning: DataFrame.applymap has been deprecated. Use DataFrame.map instead.\n",
      "  ran_vars = ran_vars.applymap(\n",
      "/home/tom/miniconda3/envs/octagon_analysis/lib/python3.12/site-packages/pymer4/models/Lmer.py:733: FutureWarning: DataFrame.applymap has been deprecated. Use DataFrame.map instead.\n",
      "  ran_vars = ran_vars.applymap(\n",
      "/home/tom/miniconda3/envs/octagon_analysis/lib/python3.12/site-packages/pymer4/models/Lmer.py:733: FutureWarning: DataFrame.applymap has been deprecated. Use DataFrame.map instead.\n",
      "  ran_vars = ran_vars.applymap(\n",
      "/home/tom/miniconda3/envs/octagon_analysis/lib/python3.12/site-packages/pymer4/models/Lmer.py:733: FutureWarning: DataFrame.applymap has been deprecated. Use DataFrame.map instead.\n",
      "  ran_vars = ran_vars.applymap(\n",
      "/home/tom/miniconda3/envs/octagon_analysis/lib/python3.12/site-packages/pymer4/models/Lmer.py:733: FutureWarning: DataFrame.applymap has been deprecated. Use DataFrame.map instead.\n",
      "  ran_vars = ran_vars.applymap(\n",
      "/home/tom/miniconda3/envs/octagon_analysis/lib/python3.12/site-packages/pymer4/models/Lmer.py:733: FutureWarning: DataFrame.applymap has been deprecated. Use DataFrame.map instead.\n",
      "  ran_vars = ran_vars.applymap(\n",
      "/home/tom/miniconda3/envs/octagon_analysis/lib/python3.12/site-packages/pymer4/models/Lmer.py:733: FutureWarning: DataFrame.applymap has been deprecated. Use DataFrame.map instead.\n",
      "  ran_vars = ran_vars.applymap(\n",
      "/home/tom/miniconda3/envs/octagon_analysis/lib/python3.12/site-packages/pymer4/models/Lmer.py:733: FutureWarning: DataFrame.applymap has been deprecated. Use DataFrame.map instead.\n",
      "  ran_vars = ran_vars.applymap(\n"
     ]
    },
    {
     "name": "stdout",
     "output_type": "stream",
     "text": [
      "Fold 0 average NLL: 0.2766952133024275\n",
      "Fold 1 average NLL: 0.29547240143271825\n",
      "Fold 2 average NLL: 0.35201941241464557\n",
      "Fold 3 average NLL: 0.3050664850705333\n",
      "Fold 4 average NLL: 0.27903473587078614\n",
      "Fold 5 average NLL: 0.32706753096465824\n",
      "Fold 6 average NLL: 0.33218722977686727\n",
      "Fold 7 average NLL: 0.2911329382949599\n",
      "Fold 8 average NLL: 0.291881688905881\n",
      "Fold 9 average NLL: 0.33534334032056234\n",
      "Fold 10 average NLL: 0.2609944338529338\n",
      "Fold 11 average NLL: 0.31158630675134713\n",
      "Fold 12 average NLL: 0.3202526104138483\n",
      "Fold 13 average NLL: 0.3755990009843784\n",
      "Fold 14 average NLL: 0.26480240115494963\n",
      "Fold 15 average NLL: 0.286986946589787\n",
      "Fold 16 average NLL: 0.2842538365962073\n",
      "Fold 17 average NLL: 0.3213138941841158\n",
      "Fold 18 average NLL: 0.3050602679679428\n",
      "Fold 19 average NLL: 0.3462938016127225\n",
      "20-fold CV data saved to:  ../data/k_fold_CV/20-fold-CV_results_solo_randomintercepts_onlydistance.pickle\n"
     ]
    }
   ],
   "source": [
    "model_formula = 'ChooseHigh ~ 1 + D2H + D2L + (1|GlmPlayerID)'\n",
    "(model_avg_nll, models,\n",
    "predictions, fold_all_nlls, fold_avg_nlls) = run_cross_validation(split_dataframes['glm_df_solo'], model_formula,\n",
    "                                                    \"solo_randomintercepts_onlydistance\",\n",
    "                                                      save_results=True)"
   ]
  },
  {
   "cell_type": "code",
   "execution_count": 12,
   "id": "7986a11e",
   "metadata": {},
   "outputs": [
    {
     "data": {
      "text/plain": [
       "(np.float64(80.85122782692903), np.float64(80.85122782692903))"
      ]
     },
     "execution_count": 12,
     "metadata": {},
     "output_type": "execute_result"
    }
   ],
   "source": [
    "np.sum(fold_all_nlls[8]), fold_avg_nlls[8]*len(fold_all_nlls[8])"
   ]
  },
  {
   "cell_type": "code",
   "execution_count": 13,
   "id": "685af237",
   "metadata": {},
   "outputs": [],
   "source": [
    "# model_formula = 'ChooseHigh ~ 1 + FirstSeenWall + (1|GlmPlayerID)'\n",
    "# (model_avg_nll, models,\n",
    "#   predictions, fold_all_nlls, fold_avg_nlls) = run_cross_validation(split_dataframes['glm_df_solo'], model_formula,\n",
    "#                                                     \"solo_randomintercepts_firstseenonly\",\n",
    "#                                                       save_results=True)"
   ]
  },
  {
   "cell_type": "code",
   "execution_count": 14,
   "id": "30b03bbc",
   "metadata": {},
   "outputs": [],
   "source": [
    "# model_formula = 'ChooseHigh ~ 1 + WallSep + FirstSeenWall + (1|GlmPlayerID)'\n",
    "# (model_avg_nll, models,\n",
    "#   predictions, fold_all_nlls, fold_avg_nlls) = run_cross_validation(split_dataframes['glm_df_solo'], model_formula,\n",
    "#                                                     \"solo_randomintercepts_wallsep_firstseen\",\n",
    "#                                                       save_results=True)"
   ]
  },
  {
   "cell_type": "code",
   "execution_count": 15,
   "id": "2264e147",
   "metadata": {},
   "outputs": [
    {
     "data": {
      "application/vnd.jupyter.widget-view+json": {
       "model_id": "29563efea4f4424a8bc9416266355d00",
       "version_major": 2,
       "version_minor": 0
      },
      "text/plain": [
       "IntProgress(value=0, description='Fitting models', max=20)"
      ]
     },
     "metadata": {},
     "output_type": "display_data"
    },
    {
     "name": "stderr",
     "output_type": "stream",
     "text": [
      "/home/tom/miniconda3/envs/octagon_analysis/lib/python3.12/site-packages/pymer4/models/Lmer.py:733: FutureWarning: DataFrame.applymap has been deprecated. Use DataFrame.map instead.\n",
      "  ran_vars = ran_vars.applymap(\n",
      "/home/tom/miniconda3/envs/octagon_analysis/lib/python3.12/site-packages/pymer4/models/Lmer.py:733: FutureWarning: DataFrame.applymap has been deprecated. Use DataFrame.map instead.\n",
      "  ran_vars = ran_vars.applymap(\n",
      "/home/tom/miniconda3/envs/octagon_analysis/lib/python3.12/site-packages/pymer4/models/Lmer.py:733: FutureWarning: DataFrame.applymap has been deprecated. Use DataFrame.map instead.\n",
      "  ran_vars = ran_vars.applymap(\n",
      "/home/tom/miniconda3/envs/octagon_analysis/lib/python3.12/site-packages/pymer4/models/Lmer.py:733: FutureWarning: DataFrame.applymap has been deprecated. Use DataFrame.map instead.\n",
      "  ran_vars = ran_vars.applymap(\n",
      "/home/tom/miniconda3/envs/octagon_analysis/lib/python3.12/site-packages/pymer4/models/Lmer.py:733: FutureWarning: DataFrame.applymap has been deprecated. Use DataFrame.map instead.\n",
      "  ran_vars = ran_vars.applymap(\n",
      "/home/tom/miniconda3/envs/octagon_analysis/lib/python3.12/site-packages/pymer4/models/Lmer.py:733: FutureWarning: DataFrame.applymap has been deprecated. Use DataFrame.map instead.\n",
      "  ran_vars = ran_vars.applymap(\n",
      "/home/tom/miniconda3/envs/octagon_analysis/lib/python3.12/site-packages/pymer4/models/Lmer.py:733: FutureWarning: DataFrame.applymap has been deprecated. Use DataFrame.map instead.\n",
      "  ran_vars = ran_vars.applymap(\n",
      "/home/tom/miniconda3/envs/octagon_analysis/lib/python3.12/site-packages/pymer4/models/Lmer.py:733: FutureWarning: DataFrame.applymap has been deprecated. Use DataFrame.map instead.\n",
      "  ran_vars = ran_vars.applymap(\n",
      "/home/tom/miniconda3/envs/octagon_analysis/lib/python3.12/site-packages/pymer4/models/Lmer.py:733: FutureWarning: DataFrame.applymap has been deprecated. Use DataFrame.map instead.\n",
      "  ran_vars = ran_vars.applymap(\n",
      "/home/tom/miniconda3/envs/octagon_analysis/lib/python3.12/site-packages/pymer4/models/Lmer.py:733: FutureWarning: DataFrame.applymap has been deprecated. Use DataFrame.map instead.\n",
      "  ran_vars = ran_vars.applymap(\n",
      "/home/tom/miniconda3/envs/octagon_analysis/lib/python3.12/site-packages/pymer4/models/Lmer.py:733: FutureWarning: DataFrame.applymap has been deprecated. Use DataFrame.map instead.\n",
      "  ran_vars = ran_vars.applymap(\n",
      "/home/tom/miniconda3/envs/octagon_analysis/lib/python3.12/site-packages/pymer4/models/Lmer.py:733: FutureWarning: DataFrame.applymap has been deprecated. Use DataFrame.map instead.\n",
      "  ran_vars = ran_vars.applymap(\n",
      "/home/tom/miniconda3/envs/octagon_analysis/lib/python3.12/site-packages/pymer4/models/Lmer.py:733: FutureWarning: DataFrame.applymap has been deprecated. Use DataFrame.map instead.\n",
      "  ran_vars = ran_vars.applymap(\n",
      "/home/tom/miniconda3/envs/octagon_analysis/lib/python3.12/site-packages/pymer4/models/Lmer.py:733: FutureWarning: DataFrame.applymap has been deprecated. Use DataFrame.map instead.\n",
      "  ran_vars = ran_vars.applymap(\n",
      "/home/tom/miniconda3/envs/octagon_analysis/lib/python3.12/site-packages/pymer4/models/Lmer.py:733: FutureWarning: DataFrame.applymap has been deprecated. Use DataFrame.map instead.\n",
      "  ran_vars = ran_vars.applymap(\n",
      "/home/tom/miniconda3/envs/octagon_analysis/lib/python3.12/site-packages/pymer4/models/Lmer.py:733: FutureWarning: DataFrame.applymap has been deprecated. Use DataFrame.map instead.\n",
      "  ran_vars = ran_vars.applymap(\n",
      "/home/tom/miniconda3/envs/octagon_analysis/lib/python3.12/site-packages/pymer4/models/Lmer.py:733: FutureWarning: DataFrame.applymap has been deprecated. Use DataFrame.map instead.\n",
      "  ran_vars = ran_vars.applymap(\n",
      "/home/tom/miniconda3/envs/octagon_analysis/lib/python3.12/site-packages/pymer4/models/Lmer.py:733: FutureWarning: DataFrame.applymap has been deprecated. Use DataFrame.map instead.\n",
      "  ran_vars = ran_vars.applymap(\n",
      "/home/tom/miniconda3/envs/octagon_analysis/lib/python3.12/site-packages/pymer4/models/Lmer.py:733: FutureWarning: DataFrame.applymap has been deprecated. Use DataFrame.map instead.\n",
      "  ran_vars = ran_vars.applymap(\n",
      "/home/tom/miniconda3/envs/octagon_analysis/lib/python3.12/site-packages/pymer4/models/Lmer.py:733: FutureWarning: DataFrame.applymap has been deprecated. Use DataFrame.map instead.\n",
      "  ran_vars = ran_vars.applymap(\n"
     ]
    },
    {
     "name": "stdout",
     "output_type": "stream",
     "text": [
      "Fold 0 average NLL: 0.2608716532217139\n",
      "Fold 1 average NLL: 0.28423615569857774\n",
      "Fold 2 average NLL: 0.3537761641730709\n",
      "Fold 3 average NLL: 0.2765300163988237\n",
      "Fold 4 average NLL: 0.268371630167254\n",
      "Fold 5 average NLL: 0.32541908624876065\n",
      "Fold 6 average NLL: 0.3232770412527495\n",
      "Fold 7 average NLL: 0.2828335964917251\n",
      "Fold 8 average NLL: 0.2721974469167486\n",
      "Fold 9 average NLL: 0.316280123888434\n",
      "Fold 10 average NLL: 0.2647775482642371\n",
      "Fold 11 average NLL: 0.3004453462536089\n",
      "Fold 12 average NLL: 0.2994898980519323\n",
      "Fold 13 average NLL: 0.3555282746523882\n",
      "Fold 14 average NLL: 0.2575248079485923\n",
      "Fold 15 average NLL: 0.26859325569930953\n",
      "Fold 16 average NLL: 0.2846100754785221\n",
      "Fold 17 average NLL: 0.30559057058977246\n",
      "Fold 18 average NLL: 0.29440382299777795\n",
      "Fold 19 average NLL: 0.3404700918331636\n",
      "20-fold CV data saved to:  ../data/k_fold_CV/20-fold-CV_results_solo_randomintercepts_distancepluswallsep.pickle\n"
     ]
    }
   ],
   "source": [
    "model_formula = 'ChooseHigh ~ 1 + D2H + D2L + WallSep + (1|GlmPlayerID)'\n",
    "(model_avg_nll, models,\n",
    "  predictions, fold_all_nlls, fold_avg_nlls) = run_cross_validation(split_dataframes['glm_df_solo'], model_formula,\n",
    "                                                    \"solo_randomintercepts_distancepluswallsep\",\n",
    "                                                      save_results=True)"
   ]
  },
  {
   "cell_type": "code",
   "execution_count": 16,
   "id": "ef4c6421",
   "metadata": {},
   "outputs": [
    {
     "data": {
      "text/plain": [
       "20"
      ]
     },
     "execution_count": 16,
     "metadata": {},
     "output_type": "execute_result"
    }
   ],
   "source": [
    "len(predictions)"
   ]
  },
  {
   "cell_type": "code",
   "execution_count": 17,
   "id": "43fefcae",
   "metadata": {},
   "outputs": [
    {
     "data": {
      "application/vnd.jupyter.widget-view+json": {
       "model_id": "3d92a808939d4d668b58b33391003d58",
       "version_major": 2,
       "version_minor": 0
      },
      "text/plain": [
       "IntProgress(value=0, description='Fitting models', max=20)"
      ]
     },
     "metadata": {},
     "output_type": "display_data"
    },
    {
     "name": "stderr",
     "output_type": "stream",
     "text": [
      "/home/tom/miniconda3/envs/octagon_analysis/lib/python3.12/site-packages/pymer4/models/Lmer.py:733: FutureWarning: DataFrame.applymap has been deprecated. Use DataFrame.map instead.\n",
      "  ran_vars = ran_vars.applymap(\n",
      "/home/tom/miniconda3/envs/octagon_analysis/lib/python3.12/site-packages/pymer4/models/Lmer.py:733: FutureWarning: DataFrame.applymap has been deprecated. Use DataFrame.map instead.\n",
      "  ran_vars = ran_vars.applymap(\n",
      "/home/tom/miniconda3/envs/octagon_analysis/lib/python3.12/site-packages/pymer4/models/Lmer.py:733: FutureWarning: DataFrame.applymap has been deprecated. Use DataFrame.map instead.\n",
      "  ran_vars = ran_vars.applymap(\n",
      "/home/tom/miniconda3/envs/octagon_analysis/lib/python3.12/site-packages/pymer4/models/Lmer.py:733: FutureWarning: DataFrame.applymap has been deprecated. Use DataFrame.map instead.\n",
      "  ran_vars = ran_vars.applymap(\n",
      "/home/tom/miniconda3/envs/octagon_analysis/lib/python3.12/site-packages/pymer4/models/Lmer.py:733: FutureWarning: DataFrame.applymap has been deprecated. Use DataFrame.map instead.\n",
      "  ran_vars = ran_vars.applymap(\n",
      "/home/tom/miniconda3/envs/octagon_analysis/lib/python3.12/site-packages/pymer4/models/Lmer.py:733: FutureWarning: DataFrame.applymap has been deprecated. Use DataFrame.map instead.\n",
      "  ran_vars = ran_vars.applymap(\n",
      "/home/tom/miniconda3/envs/octagon_analysis/lib/python3.12/site-packages/pymer4/models/Lmer.py:733: FutureWarning: DataFrame.applymap has been deprecated. Use DataFrame.map instead.\n",
      "  ran_vars = ran_vars.applymap(\n",
      "/home/tom/miniconda3/envs/octagon_analysis/lib/python3.12/site-packages/pymer4/models/Lmer.py:733: FutureWarning: DataFrame.applymap has been deprecated. Use DataFrame.map instead.\n",
      "  ran_vars = ran_vars.applymap(\n",
      "/home/tom/miniconda3/envs/octagon_analysis/lib/python3.12/site-packages/pymer4/models/Lmer.py:733: FutureWarning: DataFrame.applymap has been deprecated. Use DataFrame.map instead.\n",
      "  ran_vars = ran_vars.applymap(\n",
      "/home/tom/miniconda3/envs/octagon_analysis/lib/python3.12/site-packages/pymer4/models/Lmer.py:733: FutureWarning: DataFrame.applymap has been deprecated. Use DataFrame.map instead.\n",
      "  ran_vars = ran_vars.applymap(\n",
      "/home/tom/miniconda3/envs/octagon_analysis/lib/python3.12/site-packages/pymer4/models/Lmer.py:733: FutureWarning: DataFrame.applymap has been deprecated. Use DataFrame.map instead.\n",
      "  ran_vars = ran_vars.applymap(\n",
      "/home/tom/miniconda3/envs/octagon_analysis/lib/python3.12/site-packages/pymer4/models/Lmer.py:733: FutureWarning: DataFrame.applymap has been deprecated. Use DataFrame.map instead.\n",
      "  ran_vars = ran_vars.applymap(\n",
      "/home/tom/miniconda3/envs/octagon_analysis/lib/python3.12/site-packages/pymer4/models/Lmer.py:733: FutureWarning: DataFrame.applymap has been deprecated. Use DataFrame.map instead.\n",
      "  ran_vars = ran_vars.applymap(\n",
      "/home/tom/miniconda3/envs/octagon_analysis/lib/python3.12/site-packages/pymer4/models/Lmer.py:733: FutureWarning: DataFrame.applymap has been deprecated. Use DataFrame.map instead.\n",
      "  ran_vars = ran_vars.applymap(\n",
      "/home/tom/miniconda3/envs/octagon_analysis/lib/python3.12/site-packages/pymer4/models/Lmer.py:733: FutureWarning: DataFrame.applymap has been deprecated. Use DataFrame.map instead.\n",
      "  ran_vars = ran_vars.applymap(\n",
      "/home/tom/miniconda3/envs/octagon_analysis/lib/python3.12/site-packages/pymer4/models/Lmer.py:733: FutureWarning: DataFrame.applymap has been deprecated. Use DataFrame.map instead.\n",
      "  ran_vars = ran_vars.applymap(\n",
      "/home/tom/miniconda3/envs/octagon_analysis/lib/python3.12/site-packages/pymer4/models/Lmer.py:733: FutureWarning: DataFrame.applymap has been deprecated. Use DataFrame.map instead.\n",
      "  ran_vars = ran_vars.applymap(\n",
      "/home/tom/miniconda3/envs/octagon_analysis/lib/python3.12/site-packages/pymer4/models/Lmer.py:733: FutureWarning: DataFrame.applymap has been deprecated. Use DataFrame.map instead.\n",
      "  ran_vars = ran_vars.applymap(\n",
      "/home/tom/miniconda3/envs/octagon_analysis/lib/python3.12/site-packages/pymer4/models/Lmer.py:733: FutureWarning: DataFrame.applymap has been deprecated. Use DataFrame.map instead.\n",
      "  ran_vars = ran_vars.applymap(\n",
      "/home/tom/miniconda3/envs/octagon_analysis/lib/python3.12/site-packages/pymer4/models/Lmer.py:733: FutureWarning: DataFrame.applymap has been deprecated. Use DataFrame.map instead.\n",
      "  ran_vars = ran_vars.applymap(\n"
     ]
    },
    {
     "name": "stdout",
     "output_type": "stream",
     "text": [
      "Fold 0 average NLL: 0.2028514652524724\n",
      "Fold 1 average NLL: 0.22639336248567762\n",
      "Fold 2 average NLL: 0.3175652338695547\n",
      "Fold 3 average NLL: 0.2511471480833932\n",
      "Fold 4 average NLL: 0.23648463508359766\n",
      "Fold 5 average NLL: 0.2429810302280435\n",
      "Fold 6 average NLL: 0.26330095099959133\n",
      "Fold 7 average NLL: 0.21977558989693743\n",
      "Fold 8 average NLL: 0.2418839827183015\n",
      "Fold 9 average NLL: 0.23474079654119584\n",
      "Fold 10 average NLL: 0.22813391568421867\n",
      "Fold 11 average NLL: 0.2381150325607726\n",
      "Fold 12 average NLL: 0.22334582116974142\n",
      "Fold 13 average NLL: 0.2786534588603849\n",
      "Fold 14 average NLL: 0.20793963417313363\n",
      "Fold 15 average NLL: 0.2254346650344118\n",
      "Fold 16 average NLL: 0.21139702041152308\n",
      "Fold 17 average NLL: 0.20681982968963997\n",
      "Fold 18 average NLL: 0.2085992434064052\n",
      "Fold 19 average NLL: 0.2734534861790109\n",
      "20-fold CV data saved to:  ../data/k_fold_CV/20-fold-CV_results_solo_randomintercepts.pickle\n"
     ]
    }
   ],
   "source": [
    "model_formula = 'ChooseHigh ~ 1 + D2H + D2L + FirstSeenWall + WallSep + (1|GlmPlayerID)'\n",
    "(model_avg_nll, models,\n",
    "  predictions, fold_all_nlls, fold_avg_nlls) = run_cross_validation(split_dataframes['glm_df_solo'], model_formula,\n",
    "                                                    \"solo_randomintercepts\",\n",
    "                                                      save_results=True)"
   ]
  },
  {
   "cell_type": "code",
   "execution_count": 18,
   "id": "75c410e6",
   "metadata": {},
   "outputs": [],
   "source": [
    "# model_formula = 'ChooseHigh ~ 1 + D2H + D2L + FirstSeenWall + (1|GlmPlayerID)'\n",
    "# (model_avg_nll, models,\n",
    "#   predictions, fold_all_nlls, fold_avg_nlls) = run_cross_validation(split_dataframes['glm_df_solo'], model_formula,\n",
    "#                                                     \"solo_randomintercepts_distanceplusfirstseen\",\n",
    "#                                                       save_results=True)"
   ]
  },
  {
   "cell_type": "code",
   "execution_count": 19,
   "id": "9fdf0a55",
   "metadata": {},
   "outputs": [
    {
     "data": {
      "application/vnd.jupyter.widget-view+json": {
       "model_id": "277e61879ff3416eb43b793482d3e331",
       "version_major": 2,
       "version_minor": 0
      },
      "text/plain": [
       "IntProgress(value=0, description='Fitting models', max=20)"
      ]
     },
     "metadata": {},
     "output_type": "display_data"
    },
    {
     "name": "stderr",
     "output_type": "stream",
     "text": [
      "/home/tom/miniconda3/envs/octagon_analysis/lib/python3.12/site-packages/pymer4/models/Lmer.py:733: FutureWarning: DataFrame.applymap has been deprecated. Use DataFrame.map instead.\n",
      "  ran_vars = ran_vars.applymap(\n",
      "/home/tom/miniconda3/envs/octagon_analysis/lib/python3.12/site-packages/pymer4/models/Lmer.py:733: FutureWarning: DataFrame.applymap has been deprecated. Use DataFrame.map instead.\n",
      "  ran_vars = ran_vars.applymap(\n",
      "/home/tom/miniconda3/envs/octagon_analysis/lib/python3.12/site-packages/pymer4/models/Lmer.py:733: FutureWarning: DataFrame.applymap has been deprecated. Use DataFrame.map instead.\n",
      "  ran_vars = ran_vars.applymap(\n",
      "/home/tom/miniconda3/envs/octagon_analysis/lib/python3.12/site-packages/pymer4/models/Lmer.py:733: FutureWarning: DataFrame.applymap has been deprecated. Use DataFrame.map instead.\n",
      "  ran_vars = ran_vars.applymap(\n",
      "/home/tom/miniconda3/envs/octagon_analysis/lib/python3.12/site-packages/pymer4/models/Lmer.py:733: FutureWarning: DataFrame.applymap has been deprecated. Use DataFrame.map instead.\n",
      "  ran_vars = ran_vars.applymap(\n",
      "/home/tom/miniconda3/envs/octagon_analysis/lib/python3.12/site-packages/pymer4/models/Lmer.py:733: FutureWarning: DataFrame.applymap has been deprecated. Use DataFrame.map instead.\n",
      "  ran_vars = ran_vars.applymap(\n",
      "/home/tom/miniconda3/envs/octagon_analysis/lib/python3.12/site-packages/pymer4/models/Lmer.py:733: FutureWarning: DataFrame.applymap has been deprecated. Use DataFrame.map instead.\n",
      "  ran_vars = ran_vars.applymap(\n",
      "/home/tom/miniconda3/envs/octagon_analysis/lib/python3.12/site-packages/pymer4/models/Lmer.py:733: FutureWarning: DataFrame.applymap has been deprecated. Use DataFrame.map instead.\n",
      "  ran_vars = ran_vars.applymap(\n",
      "/home/tom/miniconda3/envs/octagon_analysis/lib/python3.12/site-packages/pymer4/models/Lmer.py:733: FutureWarning: DataFrame.applymap has been deprecated. Use DataFrame.map instead.\n",
      "  ran_vars = ran_vars.applymap(\n",
      "/home/tom/miniconda3/envs/octagon_analysis/lib/python3.12/site-packages/pymer4/models/Lmer.py:733: FutureWarning: DataFrame.applymap has been deprecated. Use DataFrame.map instead.\n",
      "  ran_vars = ran_vars.applymap(\n",
      "/home/tom/miniconda3/envs/octagon_analysis/lib/python3.12/site-packages/pymer4/models/Lmer.py:733: FutureWarning: DataFrame.applymap has been deprecated. Use DataFrame.map instead.\n",
      "  ran_vars = ran_vars.applymap(\n",
      "/home/tom/miniconda3/envs/octagon_analysis/lib/python3.12/site-packages/pymer4/models/Lmer.py:733: FutureWarning: DataFrame.applymap has been deprecated. Use DataFrame.map instead.\n",
      "  ran_vars = ran_vars.applymap(\n",
      "/home/tom/miniconda3/envs/octagon_analysis/lib/python3.12/site-packages/pymer4/models/Lmer.py:733: FutureWarning: DataFrame.applymap has been deprecated. Use DataFrame.map instead.\n",
      "  ran_vars = ran_vars.applymap(\n",
      "/home/tom/miniconda3/envs/octagon_analysis/lib/python3.12/site-packages/pymer4/models/Lmer.py:733: FutureWarning: DataFrame.applymap has been deprecated. Use DataFrame.map instead.\n",
      "  ran_vars = ran_vars.applymap(\n",
      "/home/tom/miniconda3/envs/octagon_analysis/lib/python3.12/site-packages/pymer4/models/Lmer.py:733: FutureWarning: DataFrame.applymap has been deprecated. Use DataFrame.map instead.\n",
      "  ran_vars = ran_vars.applymap(\n",
      "/home/tom/miniconda3/envs/octagon_analysis/lib/python3.12/site-packages/pymer4/models/Lmer.py:733: FutureWarning: DataFrame.applymap has been deprecated. Use DataFrame.map instead.\n",
      "  ran_vars = ran_vars.applymap(\n",
      "/home/tom/miniconda3/envs/octagon_analysis/lib/python3.12/site-packages/pymer4/models/Lmer.py:733: FutureWarning: DataFrame.applymap has been deprecated. Use DataFrame.map instead.\n",
      "  ran_vars = ran_vars.applymap(\n",
      "/home/tom/miniconda3/envs/octagon_analysis/lib/python3.12/site-packages/pymer4/models/Lmer.py:733: FutureWarning: DataFrame.applymap has been deprecated. Use DataFrame.map instead.\n",
      "  ran_vars = ran_vars.applymap(\n",
      "/home/tom/miniconda3/envs/octagon_analysis/lib/python3.12/site-packages/pymer4/models/Lmer.py:733: FutureWarning: DataFrame.applymap has been deprecated. Use DataFrame.map instead.\n",
      "  ran_vars = ran_vars.applymap(\n",
      "/home/tom/miniconda3/envs/octagon_analysis/lib/python3.12/site-packages/pymer4/models/Lmer.py:733: FutureWarning: DataFrame.applymap has been deprecated. Use DataFrame.map instead.\n",
      "  ran_vars = ran_vars.applymap(\n"
     ]
    },
    {
     "name": "stdout",
     "output_type": "stream",
     "text": [
      "Fold 0 average NLL: 0.20014338210088178\n",
      "Fold 1 average NLL: 0.22826607915380842\n",
      "Fold 2 average NLL: 0.30784508589420334\n",
      "Fold 3 average NLL: 0.24507121754761882\n",
      "Fold 4 average NLL: 0.24380197133039772\n",
      "Fold 5 average NLL: 0.23714140504291556\n",
      "Fold 6 average NLL: 0.26320417954844183\n",
      "Fold 7 average NLL: 0.22047372125783424\n",
      "Fold 8 average NLL: 0.2490422880612596\n",
      "Fold 9 average NLL: 0.2339755197248215\n",
      "Fold 10 average NLL: 0.2226618990053057\n",
      "Fold 11 average NLL: 0.23574990613721608\n",
      "Fold 12 average NLL: 0.22613322693950336\n",
      "Fold 13 average NLL: 0.2790930080832302\n",
      "Fold 14 average NLL: 0.20224940817251963\n",
      "Fold 15 average NLL: 0.22382585923474965\n",
      "Fold 16 average NLL: 0.21301978349971998\n",
      "Fold 17 average NLL: 0.2053446185693556\n",
      "Fold 18 average NLL: 0.20170337557385334\n",
      "Fold 19 average NLL: 0.2679330262080944\n",
      "20-fold CV data saved to:  ../data/k_fold_CV/20-fold-CV_results_solo_randomintercepts_distancesinteraction.pickle\n"
     ]
    }
   ],
   "source": [
    "model_formula = 'ChooseHigh ~ 1 + D2H + D2L + FirstSeenWall + WallSep + D2H:FirstSeenWall + D2L:FirstSeenWall + (1|GlmPlayerID)'\n",
    "(model_avg_nll, models,\n",
    "  predictions, fold_all_nlls, fold_avg_nlls) = run_cross_validation(split_dataframes['glm_df_solo'], model_formula,\n",
    "                                                    \"solo_randomintercepts_distancesinteraction\",\n",
    "                                                      save_results=True)"
   ]
  },
  {
   "cell_type": "code",
   "execution_count": 20,
   "id": "395966be",
   "metadata": {},
   "outputs": [
    {
     "data": {
      "application/vnd.jupyter.widget-view+json": {
       "model_id": "5b45b30df18949c0a34c75fae9fe2174",
       "version_major": 2,
       "version_minor": 0
      },
      "text/plain": [
       "IntProgress(value=0, description='Fitting models', max=20)"
      ]
     },
     "metadata": {},
     "output_type": "display_data"
    },
    {
     "name": "stderr",
     "output_type": "stream",
     "text": [
      "/home/tom/miniconda3/envs/octagon_analysis/lib/python3.12/site-packages/pymer4/models/Lmer.py:733: FutureWarning: DataFrame.applymap has been deprecated. Use DataFrame.map instead.\n",
      "  ran_vars = ran_vars.applymap(\n",
      "/home/tom/miniconda3/envs/octagon_analysis/lib/python3.12/site-packages/pymer4/models/Lmer.py:733: FutureWarning: DataFrame.applymap has been deprecated. Use DataFrame.map instead.\n",
      "  ran_vars = ran_vars.applymap(\n",
      "/home/tom/miniconda3/envs/octagon_analysis/lib/python3.12/site-packages/pymer4/models/Lmer.py:733: FutureWarning: DataFrame.applymap has been deprecated. Use DataFrame.map instead.\n",
      "  ran_vars = ran_vars.applymap(\n",
      "/home/tom/miniconda3/envs/octagon_analysis/lib/python3.12/site-packages/pymer4/models/Lmer.py:733: FutureWarning: DataFrame.applymap has been deprecated. Use DataFrame.map instead.\n",
      "  ran_vars = ran_vars.applymap(\n",
      "/home/tom/miniconda3/envs/octagon_analysis/lib/python3.12/site-packages/pymer4/models/Lmer.py:733: FutureWarning: DataFrame.applymap has been deprecated. Use DataFrame.map instead.\n",
      "  ran_vars = ran_vars.applymap(\n",
      "/home/tom/miniconda3/envs/octagon_analysis/lib/python3.12/site-packages/pymer4/models/Lmer.py:733: FutureWarning: DataFrame.applymap has been deprecated. Use DataFrame.map instead.\n",
      "  ran_vars = ran_vars.applymap(\n",
      "/home/tom/miniconda3/envs/octagon_analysis/lib/python3.12/site-packages/pymer4/models/Lmer.py:733: FutureWarning: DataFrame.applymap has been deprecated. Use DataFrame.map instead.\n",
      "  ran_vars = ran_vars.applymap(\n",
      "/home/tom/miniconda3/envs/octagon_analysis/lib/python3.12/site-packages/pymer4/models/Lmer.py:733: FutureWarning: DataFrame.applymap has been deprecated. Use DataFrame.map instead.\n",
      "  ran_vars = ran_vars.applymap(\n",
      "/home/tom/miniconda3/envs/octagon_analysis/lib/python3.12/site-packages/pymer4/models/Lmer.py:733: FutureWarning: DataFrame.applymap has been deprecated. Use DataFrame.map instead.\n",
      "  ran_vars = ran_vars.applymap(\n",
      "/home/tom/miniconda3/envs/octagon_analysis/lib/python3.12/site-packages/pymer4/models/Lmer.py:733: FutureWarning: DataFrame.applymap has been deprecated. Use DataFrame.map instead.\n",
      "  ran_vars = ran_vars.applymap(\n",
      "/home/tom/miniconda3/envs/octagon_analysis/lib/python3.12/site-packages/pymer4/models/Lmer.py:733: FutureWarning: DataFrame.applymap has been deprecated. Use DataFrame.map instead.\n",
      "  ran_vars = ran_vars.applymap(\n",
      "/home/tom/miniconda3/envs/octagon_analysis/lib/python3.12/site-packages/pymer4/models/Lmer.py:733: FutureWarning: DataFrame.applymap has been deprecated. Use DataFrame.map instead.\n",
      "  ran_vars = ran_vars.applymap(\n",
      "/home/tom/miniconda3/envs/octagon_analysis/lib/python3.12/site-packages/pymer4/models/Lmer.py:733: FutureWarning: DataFrame.applymap has been deprecated. Use DataFrame.map instead.\n",
      "  ran_vars = ran_vars.applymap(\n",
      "/home/tom/miniconda3/envs/octagon_analysis/lib/python3.12/site-packages/pymer4/models/Lmer.py:733: FutureWarning: DataFrame.applymap has been deprecated. Use DataFrame.map instead.\n",
      "  ran_vars = ran_vars.applymap(\n",
      "/home/tom/miniconda3/envs/octagon_analysis/lib/python3.12/site-packages/pymer4/models/Lmer.py:733: FutureWarning: DataFrame.applymap has been deprecated. Use DataFrame.map instead.\n",
      "  ran_vars = ran_vars.applymap(\n",
      "/home/tom/miniconda3/envs/octagon_analysis/lib/python3.12/site-packages/pymer4/models/Lmer.py:733: FutureWarning: DataFrame.applymap has been deprecated. Use DataFrame.map instead.\n",
      "  ran_vars = ran_vars.applymap(\n",
      "/home/tom/miniconda3/envs/octagon_analysis/lib/python3.12/site-packages/pymer4/models/Lmer.py:733: FutureWarning: DataFrame.applymap has been deprecated. Use DataFrame.map instead.\n",
      "  ran_vars = ran_vars.applymap(\n",
      "/home/tom/miniconda3/envs/octagon_analysis/lib/python3.12/site-packages/pymer4/models/Lmer.py:733: FutureWarning: DataFrame.applymap has been deprecated. Use DataFrame.map instead.\n",
      "  ran_vars = ran_vars.applymap(\n",
      "/home/tom/miniconda3/envs/octagon_analysis/lib/python3.12/site-packages/pymer4/models/Lmer.py:733: FutureWarning: DataFrame.applymap has been deprecated. Use DataFrame.map instead.\n",
      "  ran_vars = ran_vars.applymap(\n",
      "/home/tom/miniconda3/envs/octagon_analysis/lib/python3.12/site-packages/pymer4/models/Lmer.py:733: FutureWarning: DataFrame.applymap has been deprecated. Use DataFrame.map instead.\n",
      "  ran_vars = ran_vars.applymap(\n"
     ]
    },
    {
     "name": "stdout",
     "output_type": "stream",
     "text": [
      "Fold 0 average NLL: 0.19983984801028123\n",
      "Fold 1 average NLL: 0.22225474962594832\n",
      "Fold 2 average NLL: 0.29599880530204975\n",
      "Fold 3 average NLL: 0.23961011967606782\n",
      "Fold 4 average NLL: 0.24788890002978067\n",
      "Fold 5 average NLL: 0.22847044968944616\n",
      "Fold 6 average NLL: 0.2512963368373837\n",
      "Fold 7 average NLL: 0.20964622782961265\n",
      "Fold 8 average NLL: 0.24624720612164097\n",
      "Fold 9 average NLL: 0.2303474004048569\n",
      "Fold 10 average NLL: 0.21832877693643668\n",
      "Fold 11 average NLL: 0.2309651116179803\n",
      "Fold 12 average NLL: 0.22073586117716654\n",
      "Fold 13 average NLL: 0.28777764011756846\n",
      "Fold 14 average NLL: 0.19779428512453878\n",
      "Fold 15 average NLL: 0.22797894000434438\n",
      "Fold 16 average NLL: 0.21018117645372303\n",
      "Fold 17 average NLL: 0.20596021564579636\n",
      "Fold 18 average NLL: 0.19720898426324812\n",
      "Fold 19 average NLL: 0.2669010004274252\n",
      "20-fold CV data saved to:  ../data/k_fold_CV/20-fold-CV_results_solo_randomintercepts_distancesandwallsepinteraction.pickle\n"
     ]
    }
   ],
   "source": [
    "model_formula = 'ChooseHigh ~ 1 + D2H + D2L + FirstSeenWall + WallSep + D2H:FirstSeenWall + D2L:FirstSeenWall + FirstSeenWall:WallSep + (1|GlmPlayerID)'\n",
    "(model_avg_nll, models,\n",
    "  predictions, fold_all_nlls, fold_avg_nlls) = run_cross_validation(split_dataframes['glm_df_solo'], model_formula,\n",
    "                                                    \"solo_randomintercepts_distancesandwallsepinteraction\",\n",
    "                                                      save_results=True)"
   ]
  },
  {
   "cell_type": "markdown",
   "id": "7729d2a8",
   "metadata": {},
   "source": [
    "### Social models"
   ]
  },
  {
   "cell_type": "code",
   "execution_count": 11,
   "id": "20780dde",
   "metadata": {},
   "outputs": [
    {
     "data": {
      "application/vnd.jupyter.widget-view+json": {
       "model_id": "bbfa87fcae854b9dadd98a64afcf0c27",
       "version_major": 2,
       "version_minor": 0
      },
      "text/plain": [
       "IntProgress(value=0, description='Fitting models', max=20)"
      ]
     },
     "metadata": {},
     "output_type": "display_data"
    },
    {
     "name": "stderr",
     "output_type": "stream",
     "text": [
      "d:\\Users\\Tom\\miniconda3\\envs\\octagon_analysis\\Lib\\site-packages\\pymer4\\models\\Lmer.py:733: FutureWarning: DataFrame.applymap has been deprecated. Use DataFrame.map instead.\n",
      "  ran_vars = ran_vars.applymap(\n",
      "d:\\Users\\Tom\\miniconda3\\envs\\octagon_analysis\\Lib\\site-packages\\pymer4\\models\\Lmer.py:733: FutureWarning: DataFrame.applymap has been deprecated. Use DataFrame.map instead.\n",
      "  ran_vars = ran_vars.applymap(\n",
      "d:\\Users\\Tom\\miniconda3\\envs\\octagon_analysis\\Lib\\site-packages\\pymer4\\models\\Lmer.py:733: FutureWarning: DataFrame.applymap has been deprecated. Use DataFrame.map instead.\n",
      "  ran_vars = ran_vars.applymap(\n",
      "d:\\Users\\Tom\\miniconda3\\envs\\octagon_analysis\\Lib\\site-packages\\pymer4\\models\\Lmer.py:733: FutureWarning: DataFrame.applymap has been deprecated. Use DataFrame.map instead.\n",
      "  ran_vars = ran_vars.applymap(\n",
      "d:\\Users\\Tom\\miniconda3\\envs\\octagon_analysis\\Lib\\site-packages\\pymer4\\models\\Lmer.py:733: FutureWarning: DataFrame.applymap has been deprecated. Use DataFrame.map instead.\n",
      "  ran_vars = ran_vars.applymap(\n",
      "d:\\Users\\Tom\\miniconda3\\envs\\octagon_analysis\\Lib\\site-packages\\pymer4\\models\\Lmer.py:733: FutureWarning: DataFrame.applymap has been deprecated. Use DataFrame.map instead.\n",
      "  ran_vars = ran_vars.applymap(\n",
      "d:\\Users\\Tom\\miniconda3\\envs\\octagon_analysis\\Lib\\site-packages\\pymer4\\models\\Lmer.py:733: FutureWarning: DataFrame.applymap has been deprecated. Use DataFrame.map instead.\n",
      "  ran_vars = ran_vars.applymap(\n",
      "d:\\Users\\Tom\\miniconda3\\envs\\octagon_analysis\\Lib\\site-packages\\pymer4\\models\\Lmer.py:733: FutureWarning: DataFrame.applymap has been deprecated. Use DataFrame.map instead.\n",
      "  ran_vars = ran_vars.applymap(\n",
      "d:\\Users\\Tom\\miniconda3\\envs\\octagon_analysis\\Lib\\site-packages\\pymer4\\models\\Lmer.py:733: FutureWarning: DataFrame.applymap has been deprecated. Use DataFrame.map instead.\n",
      "  ran_vars = ran_vars.applymap(\n",
      "d:\\Users\\Tom\\miniconda3\\envs\\octagon_analysis\\Lib\\site-packages\\pymer4\\models\\Lmer.py:733: FutureWarning: DataFrame.applymap has been deprecated. Use DataFrame.map instead.\n",
      "  ran_vars = ran_vars.applymap(\n",
      "d:\\Users\\Tom\\miniconda3\\envs\\octagon_analysis\\Lib\\site-packages\\pymer4\\models\\Lmer.py:733: FutureWarning: DataFrame.applymap has been deprecated. Use DataFrame.map instead.\n",
      "  ran_vars = ran_vars.applymap(\n",
      "d:\\Users\\Tom\\miniconda3\\envs\\octagon_analysis\\Lib\\site-packages\\pymer4\\models\\Lmer.py:733: FutureWarning: DataFrame.applymap has been deprecated. Use DataFrame.map instead.\n",
      "  ran_vars = ran_vars.applymap(\n",
      "d:\\Users\\Tom\\miniconda3\\envs\\octagon_analysis\\Lib\\site-packages\\pymer4\\models\\Lmer.py:733: FutureWarning: DataFrame.applymap has been deprecated. Use DataFrame.map instead.\n",
      "  ran_vars = ran_vars.applymap(\n",
      "d:\\Users\\Tom\\miniconda3\\envs\\octagon_analysis\\Lib\\site-packages\\pymer4\\models\\Lmer.py:733: FutureWarning: DataFrame.applymap has been deprecated. Use DataFrame.map instead.\n",
      "  ran_vars = ran_vars.applymap(\n",
      "d:\\Users\\Tom\\miniconda3\\envs\\octagon_analysis\\Lib\\site-packages\\pymer4\\models\\Lmer.py:733: FutureWarning: DataFrame.applymap has been deprecated. Use DataFrame.map instead.\n",
      "  ran_vars = ran_vars.applymap(\n",
      "d:\\Users\\Tom\\miniconda3\\envs\\octagon_analysis\\Lib\\site-packages\\pymer4\\models\\Lmer.py:733: FutureWarning: DataFrame.applymap has been deprecated. Use DataFrame.map instead.\n",
      "  ran_vars = ran_vars.applymap(\n",
      "d:\\Users\\Tom\\miniconda3\\envs\\octagon_analysis\\Lib\\site-packages\\pymer4\\models\\Lmer.py:733: FutureWarning: DataFrame.applymap has been deprecated. Use DataFrame.map instead.\n",
      "  ran_vars = ran_vars.applymap(\n",
      "d:\\Users\\Tom\\miniconda3\\envs\\octagon_analysis\\Lib\\site-packages\\pymer4\\models\\Lmer.py:733: FutureWarning: DataFrame.applymap has been deprecated. Use DataFrame.map instead.\n",
      "  ran_vars = ran_vars.applymap(\n",
      "d:\\Users\\Tom\\miniconda3\\envs\\octagon_analysis\\Lib\\site-packages\\pymer4\\models\\Lmer.py:733: FutureWarning: DataFrame.applymap has been deprecated. Use DataFrame.map instead.\n",
      "  ran_vars = ran_vars.applymap(\n",
      "d:\\Users\\Tom\\miniconda3\\envs\\octagon_analysis\\Lib\\site-packages\\pymer4\\models\\Lmer.py:733: FutureWarning: DataFrame.applymap has been deprecated. Use DataFrame.map instead.\n",
      "  ran_vars = ran_vars.applymap(\n"
     ]
    },
    {
     "name": "stdout",
     "output_type": "stream",
     "text": [
      "Fold 0 average NLL: 0.4751931456919329\n",
      "Fold 1 average NLL: 0.47663962575468505\n",
      "Fold 2 average NLL: 0.45577030724957235\n",
      "Fold 3 average NLL: 0.45303921745097064\n",
      "Fold 4 average NLL: 0.5004359738783594\n",
      "Fold 5 average NLL: 0.4622226258552302\n",
      "Fold 6 average NLL: 0.4453357040885455\n",
      "Fold 7 average NLL: 0.4084156967199007\n",
      "Fold 8 average NLL: 0.4298405716443027\n",
      "Fold 9 average NLL: 0.40773188481009315\n",
      "Fold 10 average NLL: 0.489615672163937\n",
      "Fold 11 average NLL: 0.4985930091597386\n",
      "Fold 12 average NLL: 0.4483834525740958\n",
      "Fold 13 average NLL: 0.39740868356262526\n",
      "Fold 14 average NLL: 0.3502134616959384\n",
      "Fold 15 average NLL: 0.45595055096840015\n",
      "Fold 16 average NLL: 0.4410751015961143\n",
      "Fold 17 average NLL: 0.42958941661583516\n",
      "Fold 18 average NLL: 0.4474993173996655\n",
      "Fold 19 average NLL: 0.45614070695012\n",
      "20-fold CV data saved to:  ..\\data\\k_fold_CV\\20-fold-CV_results_social_randomintercepts_bestsolomodel.pickle\n"
     ]
    }
   ],
   "source": [
    "model_formula = 'ChooseHigh ~ 1 + D2H + D2L + FirstSeenWall + WallSep + D2H:FirstSeenWall + D2L:FirstSeenWall + FirstSeenWall:WallSep + (1|GlmPlayerID)'\n",
    "(model_avg_nll, models,\n",
    "  predictions, fold_all_nlls, fold_avg_nlls) = run_cross_validation(split_dataframes['glm_df_social'], model_formula,\n",
    "                                                    \"social_randomintercepts_bestsolomodel\",\n",
    "                                                      save_results=True)"
   ]
  },
  {
   "cell_type": "code",
   "execution_count": 12,
   "id": "bee4a86c",
   "metadata": {},
   "outputs": [
    {
     "data": {
      "application/vnd.jupyter.widget-view+json": {
       "model_id": "58c9bda69008450e9c3985dfbdca9a25",
       "version_major": 2,
       "version_minor": 0
      },
      "text/plain": [
       "IntProgress(value=0, description='Fitting models', max=20)"
      ]
     },
     "metadata": {},
     "output_type": "display_data"
    },
    {
     "name": "stderr",
     "output_type": "stream",
     "text": [
      "d:\\Users\\Tom\\miniconda3\\envs\\octagon_analysis\\Lib\\site-packages\\pymer4\\models\\Lmer.py:733: FutureWarning: DataFrame.applymap has been deprecated. Use DataFrame.map instead.\n",
      "  ran_vars = ran_vars.applymap(\n",
      "d:\\Users\\Tom\\miniconda3\\envs\\octagon_analysis\\Lib\\site-packages\\pymer4\\models\\Lmer.py:733: FutureWarning: DataFrame.applymap has been deprecated. Use DataFrame.map instead.\n",
      "  ran_vars = ran_vars.applymap(\n",
      "d:\\Users\\Tom\\miniconda3\\envs\\octagon_analysis\\Lib\\site-packages\\pymer4\\models\\Lmer.py:733: FutureWarning: DataFrame.applymap has been deprecated. Use DataFrame.map instead.\n",
      "  ran_vars = ran_vars.applymap(\n",
      "d:\\Users\\Tom\\miniconda3\\envs\\octagon_analysis\\Lib\\site-packages\\pymer4\\models\\Lmer.py:733: FutureWarning: DataFrame.applymap has been deprecated. Use DataFrame.map instead.\n",
      "  ran_vars = ran_vars.applymap(\n",
      "d:\\Users\\Tom\\miniconda3\\envs\\octagon_analysis\\Lib\\site-packages\\pymer4\\models\\Lmer.py:733: FutureWarning: DataFrame.applymap has been deprecated. Use DataFrame.map instead.\n",
      "  ran_vars = ran_vars.applymap(\n",
      "d:\\Users\\Tom\\miniconda3\\envs\\octagon_analysis\\Lib\\site-packages\\pymer4\\models\\Lmer.py:733: FutureWarning: DataFrame.applymap has been deprecated. Use DataFrame.map instead.\n",
      "  ran_vars = ran_vars.applymap(\n",
      "d:\\Users\\Tom\\miniconda3\\envs\\octagon_analysis\\Lib\\site-packages\\pymer4\\models\\Lmer.py:733: FutureWarning: DataFrame.applymap has been deprecated. Use DataFrame.map instead.\n",
      "  ran_vars = ran_vars.applymap(\n",
      "d:\\Users\\Tom\\miniconda3\\envs\\octagon_analysis\\Lib\\site-packages\\pymer4\\models\\Lmer.py:733: FutureWarning: DataFrame.applymap has been deprecated. Use DataFrame.map instead.\n",
      "  ran_vars = ran_vars.applymap(\n",
      "d:\\Users\\Tom\\miniconda3\\envs\\octagon_analysis\\Lib\\site-packages\\pymer4\\models\\Lmer.py:733: FutureWarning: DataFrame.applymap has been deprecated. Use DataFrame.map instead.\n",
      "  ran_vars = ran_vars.applymap(\n",
      "d:\\Users\\Tom\\miniconda3\\envs\\octagon_analysis\\Lib\\site-packages\\pymer4\\models\\Lmer.py:733: FutureWarning: DataFrame.applymap has been deprecated. Use DataFrame.map instead.\n",
      "  ran_vars = ran_vars.applymap(\n",
      "d:\\Users\\Tom\\miniconda3\\envs\\octagon_analysis\\Lib\\site-packages\\pymer4\\models\\Lmer.py:733: FutureWarning: DataFrame.applymap has been deprecated. Use DataFrame.map instead.\n",
      "  ran_vars = ran_vars.applymap(\n",
      "d:\\Users\\Tom\\miniconda3\\envs\\octagon_analysis\\Lib\\site-packages\\pymer4\\models\\Lmer.py:733: FutureWarning: DataFrame.applymap has been deprecated. Use DataFrame.map instead.\n",
      "  ran_vars = ran_vars.applymap(\n",
      "d:\\Users\\Tom\\miniconda3\\envs\\octagon_analysis\\Lib\\site-packages\\pymer4\\models\\Lmer.py:733: FutureWarning: DataFrame.applymap has been deprecated. Use DataFrame.map instead.\n",
      "  ran_vars = ran_vars.applymap(\n",
      "d:\\Users\\Tom\\miniconda3\\envs\\octagon_analysis\\Lib\\site-packages\\pymer4\\models\\Lmer.py:733: FutureWarning: DataFrame.applymap has been deprecated. Use DataFrame.map instead.\n",
      "  ran_vars = ran_vars.applymap(\n",
      "d:\\Users\\Tom\\miniconda3\\envs\\octagon_analysis\\Lib\\site-packages\\pymer4\\models\\Lmer.py:733: FutureWarning: DataFrame.applymap has been deprecated. Use DataFrame.map instead.\n",
      "  ran_vars = ran_vars.applymap(\n",
      "d:\\Users\\Tom\\miniconda3\\envs\\octagon_analysis\\Lib\\site-packages\\pymer4\\models\\Lmer.py:733: FutureWarning: DataFrame.applymap has been deprecated. Use DataFrame.map instead.\n",
      "  ran_vars = ran_vars.applymap(\n",
      "d:\\Users\\Tom\\miniconda3\\envs\\octagon_analysis\\Lib\\site-packages\\pymer4\\models\\Lmer.py:733: FutureWarning: DataFrame.applymap has been deprecated. Use DataFrame.map instead.\n",
      "  ran_vars = ran_vars.applymap(\n",
      "d:\\Users\\Tom\\miniconda3\\envs\\octagon_analysis\\Lib\\site-packages\\pymer4\\models\\Lmer.py:733: FutureWarning: DataFrame.applymap has been deprecated. Use DataFrame.map instead.\n",
      "  ran_vars = ran_vars.applymap(\n",
      "d:\\Users\\Tom\\miniconda3\\envs\\octagon_analysis\\Lib\\site-packages\\pymer4\\models\\Lmer.py:733: FutureWarning: DataFrame.applymap has been deprecated. Use DataFrame.map instead.\n",
      "  ran_vars = ran_vars.applymap(\n",
      "d:\\Users\\Tom\\miniconda3\\envs\\octagon_analysis\\Lib\\site-packages\\pymer4\\models\\Lmer.py:733: FutureWarning: DataFrame.applymap has been deprecated. Use DataFrame.map instead.\n",
      "  ran_vars = ran_vars.applymap(\n"
     ]
    },
    {
     "name": "stdout",
     "output_type": "stream",
     "text": [
      "Fold 0 average NLL: 0.47396436727609886\n",
      "Fold 1 average NLL: 0.47538748625288785\n",
      "Fold 2 average NLL: 0.4566651665594501\n",
      "Fold 3 average NLL: 0.4539333345019922\n",
      "Fold 4 average NLL: 0.4987968593268262\n",
      "Fold 5 average NLL: 0.46179428093908725\n",
      "Fold 6 average NLL: 0.44754449666833745\n",
      "Fold 7 average NLL: 0.4086496487237087\n",
      "Fold 8 average NLL: 0.4297021385416864\n",
      "Fold 9 average NLL: 0.40747695340090834\n",
      "Fold 10 average NLL: 0.4897868693689682\n",
      "Fold 11 average NLL: 0.4989989120606497\n",
      "Fold 12 average NLL: 0.4478847278054629\n",
      "Fold 13 average NLL: 0.397206565517138\n",
      "Fold 14 average NLL: 0.3518447087929723\n",
      "Fold 15 average NLL: 0.45572273034985666\n",
      "Fold 16 average NLL: 0.4397174327740685\n",
      "Fold 17 average NLL: 0.4297513109982603\n",
      "Fold 18 average NLL: 0.44757406439865244\n",
      "Fold 19 average NLL: 0.4568264950594689\n",
      "20-fold CV data saved to:  ..\\data\\k_fold_CV\\20-fold-CV_results_social_randomintercepts_bestsolo_opponentvisible.pickle\n"
     ]
    }
   ],
   "source": [
    "model_formula = 'ChooseHigh ~ 1 + D2H + D2L + FirstSeenWall + WallSep + D2H:FirstSeenWall \\\n",
    "    + D2L:FirstSeenWall + FirstSeenWall:WallSep + OpponentVisible + (1|GlmPlayerID)'\n",
    "\n",
    "(model_avg_nll, models,\n",
    "  predictions, fold_all_nlls, fold_avg_nlls) = run_cross_validation(split_dataframes['glm_df_social'], model_formula,\n",
    "                                                    \"social_randomintercepts_bestsolo_opponentvisible\",\n",
    "                                                      save_results=True)"
   ]
  },
  {
   "cell_type": "code",
   "execution_count": 13,
   "id": "a2b988c1",
   "metadata": {},
   "outputs": [
    {
     "data": {
      "application/vnd.jupyter.widget-view+json": {
       "model_id": "91762516c25346a1b58e23a0ded92d89",
       "version_major": 2,
       "version_minor": 0
      },
      "text/plain": [
       "IntProgress(value=0, description='Fitting models', max=20)"
      ]
     },
     "metadata": {},
     "output_type": "display_data"
    },
    {
     "name": "stderr",
     "output_type": "stream",
     "text": [
      "d:\\Users\\Tom\\miniconda3\\envs\\octagon_analysis\\Lib\\site-packages\\pymer4\\models\\Lmer.py:733: FutureWarning: DataFrame.applymap has been deprecated. Use DataFrame.map instead.\n",
      "  ran_vars = ran_vars.applymap(\n",
      "d:\\Users\\Tom\\miniconda3\\envs\\octagon_analysis\\Lib\\site-packages\\pymer4\\models\\Lmer.py:733: FutureWarning: DataFrame.applymap has been deprecated. Use DataFrame.map instead.\n",
      "  ran_vars = ran_vars.applymap(\n",
      "d:\\Users\\Tom\\miniconda3\\envs\\octagon_analysis\\Lib\\site-packages\\pymer4\\models\\Lmer.py:733: FutureWarning: DataFrame.applymap has been deprecated. Use DataFrame.map instead.\n",
      "  ran_vars = ran_vars.applymap(\n",
      "d:\\Users\\Tom\\miniconda3\\envs\\octagon_analysis\\Lib\\site-packages\\pymer4\\models\\Lmer.py:733: FutureWarning: DataFrame.applymap has been deprecated. Use DataFrame.map instead.\n",
      "  ran_vars = ran_vars.applymap(\n",
      "d:\\Users\\Tom\\miniconda3\\envs\\octagon_analysis\\Lib\\site-packages\\pymer4\\models\\Lmer.py:733: FutureWarning: DataFrame.applymap has been deprecated. Use DataFrame.map instead.\n",
      "  ran_vars = ran_vars.applymap(\n",
      "d:\\Users\\Tom\\miniconda3\\envs\\octagon_analysis\\Lib\\site-packages\\pymer4\\models\\Lmer.py:733: FutureWarning: DataFrame.applymap has been deprecated. Use DataFrame.map instead.\n",
      "  ran_vars = ran_vars.applymap(\n",
      "d:\\Users\\Tom\\miniconda3\\envs\\octagon_analysis\\Lib\\site-packages\\pymer4\\models\\Lmer.py:733: FutureWarning: DataFrame.applymap has been deprecated. Use DataFrame.map instead.\n",
      "  ran_vars = ran_vars.applymap(\n",
      "d:\\Users\\Tom\\miniconda3\\envs\\octagon_analysis\\Lib\\site-packages\\pymer4\\models\\Lmer.py:733: FutureWarning: DataFrame.applymap has been deprecated. Use DataFrame.map instead.\n",
      "  ran_vars = ran_vars.applymap(\n",
      "d:\\Users\\Tom\\miniconda3\\envs\\octagon_analysis\\Lib\\site-packages\\pymer4\\models\\Lmer.py:733: FutureWarning: DataFrame.applymap has been deprecated. Use DataFrame.map instead.\n",
      "  ran_vars = ran_vars.applymap(\n",
      "d:\\Users\\Tom\\miniconda3\\envs\\octagon_analysis\\Lib\\site-packages\\pymer4\\models\\Lmer.py:733: FutureWarning: DataFrame.applymap has been deprecated. Use DataFrame.map instead.\n",
      "  ran_vars = ran_vars.applymap(\n",
      "d:\\Users\\Tom\\miniconda3\\envs\\octagon_analysis\\Lib\\site-packages\\pymer4\\models\\Lmer.py:733: FutureWarning: DataFrame.applymap has been deprecated. Use DataFrame.map instead.\n",
      "  ran_vars = ran_vars.applymap(\n",
      "d:\\Users\\Tom\\miniconda3\\envs\\octagon_analysis\\Lib\\site-packages\\pymer4\\models\\Lmer.py:733: FutureWarning: DataFrame.applymap has been deprecated. Use DataFrame.map instead.\n",
      "  ran_vars = ran_vars.applymap(\n",
      "d:\\Users\\Tom\\miniconda3\\envs\\octagon_analysis\\Lib\\site-packages\\pymer4\\models\\Lmer.py:733: FutureWarning: DataFrame.applymap has been deprecated. Use DataFrame.map instead.\n",
      "  ran_vars = ran_vars.applymap(\n",
      "d:\\Users\\Tom\\miniconda3\\envs\\octagon_analysis\\Lib\\site-packages\\pymer4\\models\\Lmer.py:733: FutureWarning: DataFrame.applymap has been deprecated. Use DataFrame.map instead.\n",
      "  ran_vars = ran_vars.applymap(\n",
      "d:\\Users\\Tom\\miniconda3\\envs\\octagon_analysis\\Lib\\site-packages\\pymer4\\models\\Lmer.py:733: FutureWarning: DataFrame.applymap has been deprecated. Use DataFrame.map instead.\n",
      "  ran_vars = ran_vars.applymap(\n",
      "d:\\Users\\Tom\\miniconda3\\envs\\octagon_analysis\\Lib\\site-packages\\pymer4\\models\\Lmer.py:733: FutureWarning: DataFrame.applymap has been deprecated. Use DataFrame.map instead.\n",
      "  ran_vars = ran_vars.applymap(\n",
      "d:\\Users\\Tom\\miniconda3\\envs\\octagon_analysis\\Lib\\site-packages\\pymer4\\models\\Lmer.py:733: FutureWarning: DataFrame.applymap has been deprecated. Use DataFrame.map instead.\n",
      "  ran_vars = ran_vars.applymap(\n",
      "d:\\Users\\Tom\\miniconda3\\envs\\octagon_analysis\\Lib\\site-packages\\pymer4\\models\\Lmer.py:733: FutureWarning: DataFrame.applymap has been deprecated. Use DataFrame.map instead.\n",
      "  ran_vars = ran_vars.applymap(\n",
      "d:\\Users\\Tom\\miniconda3\\envs\\octagon_analysis\\Lib\\site-packages\\pymer4\\models\\Lmer.py:733: FutureWarning: DataFrame.applymap has been deprecated. Use DataFrame.map instead.\n",
      "  ran_vars = ran_vars.applymap(\n",
      "d:\\Users\\Tom\\miniconda3\\envs\\octagon_analysis\\Lib\\site-packages\\pymer4\\models\\Lmer.py:733: FutureWarning: DataFrame.applymap has been deprecated. Use DataFrame.map instead.\n",
      "  ran_vars = ran_vars.applymap(\n"
     ]
    },
    {
     "name": "stdout",
     "output_type": "stream",
     "text": [
      "Fold 0 average NLL: 0.47636445122533105\n",
      "Fold 1 average NLL: 0.47064181706320857\n",
      "Fold 2 average NLL: 0.45694116668621626\n",
      "Fold 3 average NLL: 0.4424432744130312\n",
      "Fold 4 average NLL: 0.4953717382736513\n",
      "Fold 5 average NLL: 0.46860193943525663\n",
      "Fold 6 average NLL: 0.4433414321044491\n",
      "Fold 7 average NLL: 0.4005737443511836\n",
      "Fold 8 average NLL: 0.4203754871438912\n",
      "Fold 9 average NLL: 0.406494202224009\n",
      "Fold 10 average NLL: 0.49047324808387793\n",
      "Fold 11 average NLL: 0.5015796404578784\n",
      "Fold 12 average NLL: 0.43816946665044365\n",
      "Fold 13 average NLL: 0.38938813230992364\n",
      "Fold 14 average NLL: 0.34550751263733936\n",
      "Fold 15 average NLL: 0.44591940755684245\n",
      "Fold 16 average NLL: 0.4417617393143986\n",
      "Fold 17 average NLL: 0.4317217705490126\n",
      "Fold 18 average NLL: 0.44601756495338446\n",
      "Fold 19 average NLL: 0.45891457763687615\n",
      "20-fold CV data saved to:  ..\\data\\k_fold_CV\\20-fold-CV_results_social_randomintercepts_bestsolo_opponentdistance.pickle\n"
     ]
    }
   ],
   "source": [
    "model_formula = 'ChooseHigh ~ 1 + D2H + D2L + FirstSeenWall + WallSep + D2H:FirstSeenWall \\\n",
    "  + D2L:FirstSeenWall + FirstSeenWall:WallSep + OpponentD2L + OpponentD2H + (1|GlmPlayerID)'\n",
    "\n",
    "(model_avg_nll, models,\n",
    "  predictions, fold_all_nlls, fold_avg_nlls) = run_cross_validation(split_dataframes['glm_df_social'], model_formula,\n",
    "                                                    \"social_randomintercepts_bestsolo_opponentdistance\",\n",
    "                                                      save_results=True)"
   ]
  },
  {
   "cell_type": "code",
   "execution_count": 14,
   "id": "cbd96390",
   "metadata": {},
   "outputs": [
    {
     "data": {
      "application/vnd.jupyter.widget-view+json": {
       "model_id": "1522552dbcdb47208e9416497a2eaba7",
       "version_major": 2,
       "version_minor": 0
      },
      "text/plain": [
       "IntProgress(value=0, description='Fitting models', max=20)"
      ]
     },
     "metadata": {},
     "output_type": "display_data"
    },
    {
     "name": "stderr",
     "output_type": "stream",
     "text": [
      "d:\\Users\\Tom\\miniconda3\\envs\\octagon_analysis\\Lib\\site-packages\\pymer4\\models\\Lmer.py:733: FutureWarning: DataFrame.applymap has been deprecated. Use DataFrame.map instead.\n",
      "  ran_vars = ran_vars.applymap(\n",
      "d:\\Users\\Tom\\miniconda3\\envs\\octagon_analysis\\Lib\\site-packages\\pymer4\\models\\Lmer.py:733: FutureWarning: DataFrame.applymap has been deprecated. Use DataFrame.map instead.\n",
      "  ran_vars = ran_vars.applymap(\n",
      "d:\\Users\\Tom\\miniconda3\\envs\\octagon_analysis\\Lib\\site-packages\\pymer4\\models\\Lmer.py:733: FutureWarning: DataFrame.applymap has been deprecated. Use DataFrame.map instead.\n",
      "  ran_vars = ran_vars.applymap(\n",
      "d:\\Users\\Tom\\miniconda3\\envs\\octagon_analysis\\Lib\\site-packages\\pymer4\\models\\Lmer.py:733: FutureWarning: DataFrame.applymap has been deprecated. Use DataFrame.map instead.\n",
      "  ran_vars = ran_vars.applymap(\n",
      "d:\\Users\\Tom\\miniconda3\\envs\\octagon_analysis\\Lib\\site-packages\\pymer4\\models\\Lmer.py:733: FutureWarning: DataFrame.applymap has been deprecated. Use DataFrame.map instead.\n",
      "  ran_vars = ran_vars.applymap(\n",
      "d:\\Users\\Tom\\miniconda3\\envs\\octagon_analysis\\Lib\\site-packages\\pymer4\\models\\Lmer.py:733: FutureWarning: DataFrame.applymap has been deprecated. Use DataFrame.map instead.\n",
      "  ran_vars = ran_vars.applymap(\n",
      "d:\\Users\\Tom\\miniconda3\\envs\\octagon_analysis\\Lib\\site-packages\\pymer4\\models\\Lmer.py:733: FutureWarning: DataFrame.applymap has been deprecated. Use DataFrame.map instead.\n",
      "  ran_vars = ran_vars.applymap(\n",
      "d:\\Users\\Tom\\miniconda3\\envs\\octagon_analysis\\Lib\\site-packages\\pymer4\\models\\Lmer.py:733: FutureWarning: DataFrame.applymap has been deprecated. Use DataFrame.map instead.\n",
      "  ran_vars = ran_vars.applymap(\n",
      "d:\\Users\\Tom\\miniconda3\\envs\\octagon_analysis\\Lib\\site-packages\\pymer4\\models\\Lmer.py:733: FutureWarning: DataFrame.applymap has been deprecated. Use DataFrame.map instead.\n",
      "  ran_vars = ran_vars.applymap(\n",
      "d:\\Users\\Tom\\miniconda3\\envs\\octagon_analysis\\Lib\\site-packages\\pymer4\\models\\Lmer.py:733: FutureWarning: DataFrame.applymap has been deprecated. Use DataFrame.map instead.\n",
      "  ran_vars = ran_vars.applymap(\n",
      "d:\\Users\\Tom\\miniconda3\\envs\\octagon_analysis\\Lib\\site-packages\\pymer4\\models\\Lmer.py:733: FutureWarning: DataFrame.applymap has been deprecated. Use DataFrame.map instead.\n",
      "  ran_vars = ran_vars.applymap(\n",
      "d:\\Users\\Tom\\miniconda3\\envs\\octagon_analysis\\Lib\\site-packages\\pymer4\\models\\Lmer.py:733: FutureWarning: DataFrame.applymap has been deprecated. Use DataFrame.map instead.\n",
      "  ran_vars = ran_vars.applymap(\n",
      "d:\\Users\\Tom\\miniconda3\\envs\\octagon_analysis\\Lib\\site-packages\\pymer4\\models\\Lmer.py:733: FutureWarning: DataFrame.applymap has been deprecated. Use DataFrame.map instead.\n",
      "  ran_vars = ran_vars.applymap(\n",
      "d:\\Users\\Tom\\miniconda3\\envs\\octagon_analysis\\Lib\\site-packages\\pymer4\\models\\Lmer.py:733: FutureWarning: DataFrame.applymap has been deprecated. Use DataFrame.map instead.\n",
      "  ran_vars = ran_vars.applymap(\n",
      "d:\\Users\\Tom\\miniconda3\\envs\\octagon_analysis\\Lib\\site-packages\\pymer4\\models\\Lmer.py:733: FutureWarning: DataFrame.applymap has been deprecated. Use DataFrame.map instead.\n",
      "  ran_vars = ran_vars.applymap(\n",
      "d:\\Users\\Tom\\miniconda3\\envs\\octagon_analysis\\Lib\\site-packages\\pymer4\\models\\Lmer.py:733: FutureWarning: DataFrame.applymap has been deprecated. Use DataFrame.map instead.\n",
      "  ran_vars = ran_vars.applymap(\n",
      "d:\\Users\\Tom\\miniconda3\\envs\\octagon_analysis\\Lib\\site-packages\\pymer4\\models\\Lmer.py:733: FutureWarning: DataFrame.applymap has been deprecated. Use DataFrame.map instead.\n",
      "  ran_vars = ran_vars.applymap(\n",
      "d:\\Users\\Tom\\miniconda3\\envs\\octagon_analysis\\Lib\\site-packages\\pymer4\\models\\Lmer.py:733: FutureWarning: DataFrame.applymap has been deprecated. Use DataFrame.map instead.\n",
      "  ran_vars = ran_vars.applymap(\n",
      "d:\\Users\\Tom\\miniconda3\\envs\\octagon_analysis\\Lib\\site-packages\\pymer4\\models\\Lmer.py:733: FutureWarning: DataFrame.applymap has been deprecated. Use DataFrame.map instead.\n",
      "  ran_vars = ran_vars.applymap(\n",
      "d:\\Users\\Tom\\miniconda3\\envs\\octagon_analysis\\Lib\\site-packages\\pymer4\\models\\Lmer.py:733: FutureWarning: DataFrame.applymap has been deprecated. Use DataFrame.map instead.\n",
      "  ran_vars = ran_vars.applymap(\n"
     ]
    },
    {
     "name": "stdout",
     "output_type": "stream",
     "text": [
      "Fold 0 average NLL: 0.452706387871175\n",
      "Fold 1 average NLL: 0.46475196690072973\n",
      "Fold 2 average NLL: 0.44351151614196827\n",
      "Fold 3 average NLL: 0.4544092874719606\n",
      "Fold 4 average NLL: 0.49354751014675874\n",
      "Fold 5 average NLL: 0.4418203134679448\n",
      "Fold 6 average NLL: 0.42614620919918783\n",
      "Fold 7 average NLL: 0.37410424049546914\n",
      "Fold 8 average NLL: 0.3874470924619482\n",
      "Fold 9 average NLL: 0.38351524047961966\n",
      "Fold 10 average NLL: 0.5169562352554643\n",
      "Fold 11 average NLL: 0.489805645701984\n",
      "Fold 12 average NLL: 0.42833852328639793\n",
      "Fold 13 average NLL: 0.3666162313737495\n",
      "Fold 14 average NLL: 0.3238843849500479\n",
      "Fold 15 average NLL: 0.4420437696357614\n",
      "Fold 16 average NLL: 0.4491055739316145\n",
      "Fold 17 average NLL: 0.35465953645492765\n",
      "Fold 18 average NLL: 0.4369431432138068\n",
      "Fold 19 average NLL: 0.468668988658836\n",
      "20-fold CV data saved to:  ..\\data\\k_fold_CV\\20-fold-CV_results_social_randomintercepts_bestsolo_opponentdistance_opponentfirstseen.pickle\n"
     ]
    }
   ],
   "source": [
    "model_formula = 'ChooseHigh ~ 1 + D2H + D2L + FirstSeenWall + WallSep + D2H:FirstSeenWall \\\n",
    "  + D2L:FirstSeenWall + FirstSeenWall:WallSep + OpponentD2L + OpponentD2H + \\\n",
    "     OpponentFirstSeenWall + (1|GlmPlayerID)'\n",
    "\n",
    "(model_avg_nll, models,\n",
    "  predictions, fold_all_nlls, fold_avg_nlls) = run_cross_validation(split_dataframes['glm_df_social'], model_formula,\n",
    "                                                    \"social_randomintercepts_bestsolo_opponentdistance_opponentfirstseen\",\n",
    "                                                      save_results=True)"
   ]
  },
  {
   "cell_type": "code",
   "execution_count": 15,
   "id": "96b8d45a",
   "metadata": {},
   "outputs": [],
   "source": [
    "# model_formula = 'ChooseHigh ~ 1 + D2H + D2L + FirstSeenWall + WallSep  + OpponentD2H' \\\n",
    "# ' + OpponentD2L + OpponentFirstSeenWall + FirstSeenWall:WallSep + D2H:FirstSeenWall + D2L:FirstSeenWall + (1|GlmPlayerID)'\n",
    "\n",
    "# (model_avg_nll, models,\n",
    "#   predictions, fold_all_nlls, fold_avg_nlls) = run_cross_validation(split_dataframes['glm_df_social'], model_formula,\n",
    "#                                                     \"social_randomintercepts_no-opponentvisible_opponentdistance_opponentfirstseen_solointeractions\",\n",
    "#                                                       save_results=True)"
   ]
  },
  {
   "cell_type": "code",
   "execution_count": 16,
   "id": "a831724b",
   "metadata": {},
   "outputs": [
    {
     "data": {
      "application/vnd.jupyter.widget-view+json": {
       "model_id": "233a7fb1d63a4ac993a185170daf763a",
       "version_major": 2,
       "version_minor": 0
      },
      "text/plain": [
       "IntProgress(value=0, description='Fitting models', max=20)"
      ]
     },
     "metadata": {},
     "output_type": "display_data"
    },
    {
     "name": "stderr",
     "output_type": "stream",
     "text": [
      "d:\\Users\\Tom\\miniconda3\\envs\\octagon_analysis\\Lib\\site-packages\\pymer4\\models\\Lmer.py:733: FutureWarning: DataFrame.applymap has been deprecated. Use DataFrame.map instead.\n",
      "  ran_vars = ran_vars.applymap(\n",
      "d:\\Users\\Tom\\miniconda3\\envs\\octagon_analysis\\Lib\\site-packages\\pymer4\\models\\Lmer.py:733: FutureWarning: DataFrame.applymap has been deprecated. Use DataFrame.map instead.\n",
      "  ran_vars = ran_vars.applymap(\n",
      "d:\\Users\\Tom\\miniconda3\\envs\\octagon_analysis\\Lib\\site-packages\\pymer4\\models\\Lmer.py:733: FutureWarning: DataFrame.applymap has been deprecated. Use DataFrame.map instead.\n",
      "  ran_vars = ran_vars.applymap(\n",
      "d:\\Users\\Tom\\miniconda3\\envs\\octagon_analysis\\Lib\\site-packages\\pymer4\\models\\Lmer.py:733: FutureWarning: DataFrame.applymap has been deprecated. Use DataFrame.map instead.\n",
      "  ran_vars = ran_vars.applymap(\n",
      "d:\\Users\\Tom\\miniconda3\\envs\\octagon_analysis\\Lib\\site-packages\\pymer4\\models\\Lmer.py:733: FutureWarning: DataFrame.applymap has been deprecated. Use DataFrame.map instead.\n",
      "  ran_vars = ran_vars.applymap(\n",
      "d:\\Users\\Tom\\miniconda3\\envs\\octagon_analysis\\Lib\\site-packages\\pymer4\\models\\Lmer.py:733: FutureWarning: DataFrame.applymap has been deprecated. Use DataFrame.map instead.\n",
      "  ran_vars = ran_vars.applymap(\n",
      "d:\\Users\\Tom\\miniconda3\\envs\\octagon_analysis\\Lib\\site-packages\\pymer4\\models\\Lmer.py:733: FutureWarning: DataFrame.applymap has been deprecated. Use DataFrame.map instead.\n",
      "  ran_vars = ran_vars.applymap(\n",
      "d:\\Users\\Tom\\miniconda3\\envs\\octagon_analysis\\Lib\\site-packages\\pymer4\\models\\Lmer.py:733: FutureWarning: DataFrame.applymap has been deprecated. Use DataFrame.map instead.\n",
      "  ran_vars = ran_vars.applymap(\n",
      "d:\\Users\\Tom\\miniconda3\\envs\\octagon_analysis\\Lib\\site-packages\\pymer4\\models\\Lmer.py:733: FutureWarning: DataFrame.applymap has been deprecated. Use DataFrame.map instead.\n",
      "  ran_vars = ran_vars.applymap(\n",
      "d:\\Users\\Tom\\miniconda3\\envs\\octagon_analysis\\Lib\\site-packages\\pymer4\\models\\Lmer.py:733: FutureWarning: DataFrame.applymap has been deprecated. Use DataFrame.map instead.\n",
      "  ran_vars = ran_vars.applymap(\n",
      "d:\\Users\\Tom\\miniconda3\\envs\\octagon_analysis\\Lib\\site-packages\\pymer4\\models\\Lmer.py:733: FutureWarning: DataFrame.applymap has been deprecated. Use DataFrame.map instead.\n",
      "  ran_vars = ran_vars.applymap(\n",
      "d:\\Users\\Tom\\miniconda3\\envs\\octagon_analysis\\Lib\\site-packages\\pymer4\\models\\Lmer.py:733: FutureWarning: DataFrame.applymap has been deprecated. Use DataFrame.map instead.\n",
      "  ran_vars = ran_vars.applymap(\n",
      "d:\\Users\\Tom\\miniconda3\\envs\\octagon_analysis\\Lib\\site-packages\\pymer4\\models\\Lmer.py:733: FutureWarning: DataFrame.applymap has been deprecated. Use DataFrame.map instead.\n",
      "  ran_vars = ran_vars.applymap(\n",
      "d:\\Users\\Tom\\miniconda3\\envs\\octagon_analysis\\Lib\\site-packages\\pymer4\\models\\Lmer.py:733: FutureWarning: DataFrame.applymap has been deprecated. Use DataFrame.map instead.\n",
      "  ran_vars = ran_vars.applymap(\n",
      "d:\\Users\\Tom\\miniconda3\\envs\\octagon_analysis\\Lib\\site-packages\\pymer4\\models\\Lmer.py:733: FutureWarning: DataFrame.applymap has been deprecated. Use DataFrame.map instead.\n",
      "  ran_vars = ran_vars.applymap(\n",
      "d:\\Users\\Tom\\miniconda3\\envs\\octagon_analysis\\Lib\\site-packages\\pymer4\\models\\Lmer.py:733: FutureWarning: DataFrame.applymap has been deprecated. Use DataFrame.map instead.\n",
      "  ran_vars = ran_vars.applymap(\n",
      "d:\\Users\\Tom\\miniconda3\\envs\\octagon_analysis\\Lib\\site-packages\\pymer4\\models\\Lmer.py:733: FutureWarning: DataFrame.applymap has been deprecated. Use DataFrame.map instead.\n",
      "  ran_vars = ran_vars.applymap(\n",
      "d:\\Users\\Tom\\miniconda3\\envs\\octagon_analysis\\Lib\\site-packages\\pymer4\\models\\Lmer.py:733: FutureWarning: DataFrame.applymap has been deprecated. Use DataFrame.map instead.\n",
      "  ran_vars = ran_vars.applymap(\n",
      "d:\\Users\\Tom\\miniconda3\\envs\\octagon_analysis\\Lib\\site-packages\\pymer4\\models\\Lmer.py:733: FutureWarning: DataFrame.applymap has been deprecated. Use DataFrame.map instead.\n",
      "  ran_vars = ran_vars.applymap(\n",
      "d:\\Users\\Tom\\miniconda3\\envs\\octagon_analysis\\Lib\\site-packages\\pymer4\\models\\Lmer.py:733: FutureWarning: DataFrame.applymap has been deprecated. Use DataFrame.map instead.\n",
      "  ran_vars = ran_vars.applymap(\n"
     ]
    },
    {
     "name": "stdout",
     "output_type": "stream",
     "text": [
      "Fold 0 average NLL: 0.45182695428226055\n",
      "Fold 1 average NLL: 0.4633562146135017\n",
      "Fold 2 average NLL: 0.4451211025640971\n",
      "Fold 3 average NLL: 0.4572972486984334\n",
      "Fold 4 average NLL: 0.4915909623607254\n",
      "Fold 5 average NLL: 0.43996626448668175\n",
      "Fold 6 average NLL: 0.4253468855584289\n",
      "Fold 7 average NLL: 0.37538668689109633\n",
      "Fold 8 average NLL: 0.3885775459746287\n",
      "Fold 9 average NLL: 0.38212798094916217\n",
      "Fold 10 average NLL: 0.5180695497783088\n",
      "Fold 11 average NLL: 0.49287443204984116\n",
      "Fold 12 average NLL: 0.4314738228471011\n",
      "Fold 13 average NLL: 0.3657051785226947\n",
      "Fold 14 average NLL: 0.32504872122832895\n",
      "Fold 15 average NLL: 0.4405841026447561\n",
      "Fold 16 average NLL: 0.44864868371261885\n",
      "Fold 17 average NLL: 0.35485352947760324\n",
      "Fold 18 average NLL: 0.43663427755273093\n",
      "Fold 19 average NLL: 0.46856667797313933\n",
      "20-fold CV data saved to:  ..\\data\\k_fold_CV\\20-fold-CV_results_social_randomintercepts_bestsolo_opponentdistance_opponentfirstseen_socialdistinteractions.pickle\n"
     ]
    }
   ],
   "source": [
    "model_formula = 'ChooseHigh ~ 1 + D2H + D2L + FirstSeenWall + WallSep  +  + FirstSeenWall:WallSep + D2H:FirstSeenWall + D2L:FirstSeenWall +' \\\n",
    "' + OpponentD2H + OpponentD2L + OpponentFirstSeenWall' \\\n",
    "' + D2H:OpponentD2H + D2L:OpponentD2L + (1|GlmPlayerID)'\n",
    "\n",
    "(model_avg_nll, models,\n",
    "  predictions, fold_all_nlls, fold_avg_nlls) = run_cross_validation(split_dataframes['glm_df_social'], model_formula,\n",
    "                                                    \"social_randomintercepts_bestsolo_opponentdistance_opponentfirstseen_socialdistinteractions\",\n",
    "                                                      save_results=True)"
   ]
  },
  {
   "cell_type": "code",
   "execution_count": null,
   "id": "1ad4a000",
   "metadata": {},
   "outputs": [],
   "source": []
  },
  {
   "cell_type": "markdown",
   "id": "059561cf",
   "metadata": {},
   "source": [
    "### Solo-social models"
   ]
  },
  {
   "cell_type": "code",
   "execution_count": 31,
   "id": "5ba0bd5e",
   "metadata": {},
   "outputs": [
    {
     "data": {
      "application/vnd.jupyter.widget-view+json": {
       "model_id": "039722d4d302414fb259aa60d93a9aba",
       "version_major": 2,
       "version_minor": 0
      },
      "text/plain": [
       "IntProgress(value=0, description='Fitting models', max=20)"
      ]
     },
     "metadata": {},
     "output_type": "display_data"
    },
    {
     "name": "stderr",
     "output_type": "stream",
     "text": [
      "d:\\Users\\Tom\\miniconda3\\envs\\octagon_analysis\\Lib\\site-packages\\pymer4\\models\\Lmer.py:733: FutureWarning: DataFrame.applymap has been deprecated. Use DataFrame.map instead.\n",
      "  ran_vars = ran_vars.applymap(\n",
      "d:\\Users\\Tom\\miniconda3\\envs\\octagon_analysis\\Lib\\site-packages\\pymer4\\models\\Lmer.py:733: FutureWarning: DataFrame.applymap has been deprecated. Use DataFrame.map instead.\n",
      "  ran_vars = ran_vars.applymap(\n",
      "d:\\Users\\Tom\\miniconda3\\envs\\octagon_analysis\\Lib\\site-packages\\pymer4\\models\\Lmer.py:733: FutureWarning: DataFrame.applymap has been deprecated. Use DataFrame.map instead.\n",
      "  ran_vars = ran_vars.applymap(\n",
      "d:\\Users\\Tom\\miniconda3\\envs\\octagon_analysis\\Lib\\site-packages\\pymer4\\models\\Lmer.py:733: FutureWarning: DataFrame.applymap has been deprecated. Use DataFrame.map instead.\n",
      "  ran_vars = ran_vars.applymap(\n",
      "d:\\Users\\Tom\\miniconda3\\envs\\octagon_analysis\\Lib\\site-packages\\pymer4\\models\\Lmer.py:733: FutureWarning: DataFrame.applymap has been deprecated. Use DataFrame.map instead.\n",
      "  ran_vars = ran_vars.applymap(\n",
      "d:\\Users\\Tom\\miniconda3\\envs\\octagon_analysis\\Lib\\site-packages\\pymer4\\models\\Lmer.py:733: FutureWarning: DataFrame.applymap has been deprecated. Use DataFrame.map instead.\n",
      "  ran_vars = ran_vars.applymap(\n",
      "d:\\Users\\Tom\\miniconda3\\envs\\octagon_analysis\\Lib\\site-packages\\pymer4\\models\\Lmer.py:733: FutureWarning: DataFrame.applymap has been deprecated. Use DataFrame.map instead.\n",
      "  ran_vars = ran_vars.applymap(\n",
      "d:\\Users\\Tom\\miniconda3\\envs\\octagon_analysis\\Lib\\site-packages\\pymer4\\models\\Lmer.py:733: FutureWarning: DataFrame.applymap has been deprecated. Use DataFrame.map instead.\n",
      "  ran_vars = ran_vars.applymap(\n",
      "d:\\Users\\Tom\\miniconda3\\envs\\octagon_analysis\\Lib\\site-packages\\pymer4\\models\\Lmer.py:733: FutureWarning: DataFrame.applymap has been deprecated. Use DataFrame.map instead.\n",
      "  ran_vars = ran_vars.applymap(\n",
      "d:\\Users\\Tom\\miniconda3\\envs\\octagon_analysis\\Lib\\site-packages\\pymer4\\models\\Lmer.py:733: FutureWarning: DataFrame.applymap has been deprecated. Use DataFrame.map instead.\n",
      "  ran_vars = ran_vars.applymap(\n",
      "d:\\Users\\Tom\\miniconda3\\envs\\octagon_analysis\\Lib\\site-packages\\pymer4\\models\\Lmer.py:733: FutureWarning: DataFrame.applymap has been deprecated. Use DataFrame.map instead.\n",
      "  ran_vars = ran_vars.applymap(\n",
      "d:\\Users\\Tom\\miniconda3\\envs\\octagon_analysis\\Lib\\site-packages\\pymer4\\models\\Lmer.py:733: FutureWarning: DataFrame.applymap has been deprecated. Use DataFrame.map instead.\n",
      "  ran_vars = ran_vars.applymap(\n",
      "d:\\Users\\Tom\\miniconda3\\envs\\octagon_analysis\\Lib\\site-packages\\pymer4\\models\\Lmer.py:733: FutureWarning: DataFrame.applymap has been deprecated. Use DataFrame.map instead.\n",
      "  ran_vars = ran_vars.applymap(\n",
      "d:\\Users\\Tom\\miniconda3\\envs\\octagon_analysis\\Lib\\site-packages\\pymer4\\models\\Lmer.py:733: FutureWarning: DataFrame.applymap has been deprecated. Use DataFrame.map instead.\n",
      "  ran_vars = ran_vars.applymap(\n",
      "d:\\Users\\Tom\\miniconda3\\envs\\octagon_analysis\\Lib\\site-packages\\pymer4\\models\\Lmer.py:733: FutureWarning: DataFrame.applymap has been deprecated. Use DataFrame.map instead.\n",
      "  ran_vars = ran_vars.applymap(\n",
      "d:\\Users\\Tom\\miniconda3\\envs\\octagon_analysis\\Lib\\site-packages\\pymer4\\models\\Lmer.py:733: FutureWarning: DataFrame.applymap has been deprecated. Use DataFrame.map instead.\n",
      "  ran_vars = ran_vars.applymap(\n",
      "d:\\Users\\Tom\\miniconda3\\envs\\octagon_analysis\\Lib\\site-packages\\pymer4\\models\\Lmer.py:733: FutureWarning: DataFrame.applymap has been deprecated. Use DataFrame.map instead.\n",
      "  ran_vars = ran_vars.applymap(\n",
      "d:\\Users\\Tom\\miniconda3\\envs\\octagon_analysis\\Lib\\site-packages\\pymer4\\models\\Lmer.py:733: FutureWarning: DataFrame.applymap has been deprecated. Use DataFrame.map instead.\n",
      "  ran_vars = ran_vars.applymap(\n",
      "d:\\Users\\Tom\\miniconda3\\envs\\octagon_analysis\\Lib\\site-packages\\pymer4\\models\\Lmer.py:733: FutureWarning: DataFrame.applymap has been deprecated. Use DataFrame.map instead.\n",
      "  ran_vars = ran_vars.applymap(\n",
      "d:\\Users\\Tom\\miniconda3\\envs\\octagon_analysis\\Lib\\site-packages\\pymer4\\models\\Lmer.py:733: FutureWarning: DataFrame.applymap has been deprecated. Use DataFrame.map instead.\n",
      "  ran_vars = ran_vars.applymap(\n"
     ]
    },
    {
     "name": "stdout",
     "output_type": "stream",
     "text": [
      "Fold 0 average NLL: 0.4463617179875169\n",
      "Fold 1 average NLL: 0.38893860254387647\n",
      "Fold 2 average NLL: 0.43191533862804493\n",
      "Fold 3 average NLL: 0.4521986380649368\n",
      "Fold 4 average NLL: 0.40138949371093274\n",
      "Fold 5 average NLL: 0.3616687662077192\n",
      "Fold 6 average NLL: 0.41800925140950645\n",
      "Fold 7 average NLL: 0.47663319997513254\n",
      "Fold 8 average NLL: 0.4170050402657199\n",
      "Fold 9 average NLL: 0.40006254587452805\n",
      "Fold 10 average NLL: 0.4030287137389233\n",
      "Fold 11 average NLL: 0.4130576063747779\n",
      "Fold 12 average NLL: 0.42347952949299633\n",
      "Fold 13 average NLL: 0.4067966831230869\n",
      "Fold 14 average NLL: 0.3824206192345322\n",
      "Fold 15 average NLL: 0.4544003030017002\n",
      "Fold 16 average NLL: 0.3970292037356399\n",
      "Fold 17 average NLL: 0.44516696177091636\n",
      "Fold 18 average NLL: 0.42056155259693867\n",
      "Fold 19 average NLL: 0.40116046967149727\n",
      "20-fold CV data saved to:  ..\\data\\k_fold_CV\\20-fold-CV_results_solosocial_randomintercepts_bestsolomodel.pickle\n"
     ]
    }
   ],
   "source": [
    "model_formula = 'ChooseHigh ~ 1 + D2H + D2L + FirstSeenWall + WallSep + D2H:FirstSeenWall + D2L:FirstSeenWall + FirstSeenWall:WallSep + (1 |GlmPlayerID)'\n",
    "(model_avg_nll, models,\n",
    "  predictions, fold_all_nlls, fold_avg_nlls) = run_cross_validation(split_dataframes['glm_df_solosocial'], model_formula,\n",
    "                                                    \"solosocial_randomintercepts_bestsolomodel\", \n",
    "                                                      save_results=True)"
   ]
  },
  {
   "cell_type": "code",
   "execution_count": 32,
   "id": "79c710aa",
   "metadata": {},
   "outputs": [
    {
     "data": {
      "application/vnd.jupyter.widget-view+json": {
       "model_id": "abfc5661d40941499960358c593e79ff",
       "version_major": 2,
       "version_minor": 0
      },
      "text/plain": [
       "IntProgress(value=0, description='Fitting models', max=20)"
      ]
     },
     "metadata": {},
     "output_type": "display_data"
    },
    {
     "name": "stderr",
     "output_type": "stream",
     "text": [
      "d:\\Users\\Tom\\miniconda3\\envs\\octagon_analysis\\Lib\\site-packages\\pymer4\\models\\Lmer.py:733: FutureWarning: DataFrame.applymap has been deprecated. Use DataFrame.map instead.\n",
      "  ran_vars = ran_vars.applymap(\n",
      "d:\\Users\\Tom\\miniconda3\\envs\\octagon_analysis\\Lib\\site-packages\\pymer4\\models\\Lmer.py:733: FutureWarning: DataFrame.applymap has been deprecated. Use DataFrame.map instead.\n",
      "  ran_vars = ran_vars.applymap(\n",
      "d:\\Users\\Tom\\miniconda3\\envs\\octagon_analysis\\Lib\\site-packages\\pymer4\\models\\Lmer.py:733: FutureWarning: DataFrame.applymap has been deprecated. Use DataFrame.map instead.\n",
      "  ran_vars = ran_vars.applymap(\n",
      "d:\\Users\\Tom\\miniconda3\\envs\\octagon_analysis\\Lib\\site-packages\\pymer4\\models\\Lmer.py:733: FutureWarning: DataFrame.applymap has been deprecated. Use DataFrame.map instead.\n",
      "  ran_vars = ran_vars.applymap(\n",
      "d:\\Users\\Tom\\miniconda3\\envs\\octagon_analysis\\Lib\\site-packages\\pymer4\\models\\Lmer.py:733: FutureWarning: DataFrame.applymap has been deprecated. Use DataFrame.map instead.\n",
      "  ran_vars = ran_vars.applymap(\n",
      "d:\\Users\\Tom\\miniconda3\\envs\\octagon_analysis\\Lib\\site-packages\\pymer4\\models\\Lmer.py:733: FutureWarning: DataFrame.applymap has been deprecated. Use DataFrame.map instead.\n",
      "  ran_vars = ran_vars.applymap(\n",
      "d:\\Users\\Tom\\miniconda3\\envs\\octagon_analysis\\Lib\\site-packages\\pymer4\\models\\Lmer.py:733: FutureWarning: DataFrame.applymap has been deprecated. Use DataFrame.map instead.\n",
      "  ran_vars = ran_vars.applymap(\n",
      "d:\\Users\\Tom\\miniconda3\\envs\\octagon_analysis\\Lib\\site-packages\\pymer4\\models\\Lmer.py:733: FutureWarning: DataFrame.applymap has been deprecated. Use DataFrame.map instead.\n",
      "  ran_vars = ran_vars.applymap(\n",
      "d:\\Users\\Tom\\miniconda3\\envs\\octagon_analysis\\Lib\\site-packages\\pymer4\\models\\Lmer.py:733: FutureWarning: DataFrame.applymap has been deprecated. Use DataFrame.map instead.\n",
      "  ran_vars = ran_vars.applymap(\n",
      "d:\\Users\\Tom\\miniconda3\\envs\\octagon_analysis\\Lib\\site-packages\\pymer4\\models\\Lmer.py:733: FutureWarning: DataFrame.applymap has been deprecated. Use DataFrame.map instead.\n",
      "  ran_vars = ran_vars.applymap(\n",
      "d:\\Users\\Tom\\miniconda3\\envs\\octagon_analysis\\Lib\\site-packages\\pymer4\\models\\Lmer.py:733: FutureWarning: DataFrame.applymap has been deprecated. Use DataFrame.map instead.\n",
      "  ran_vars = ran_vars.applymap(\n",
      "d:\\Users\\Tom\\miniconda3\\envs\\octagon_analysis\\Lib\\site-packages\\pymer4\\models\\Lmer.py:733: FutureWarning: DataFrame.applymap has been deprecated. Use DataFrame.map instead.\n",
      "  ran_vars = ran_vars.applymap(\n",
      "d:\\Users\\Tom\\miniconda3\\envs\\octagon_analysis\\Lib\\site-packages\\pymer4\\models\\Lmer.py:733: FutureWarning: DataFrame.applymap has been deprecated. Use DataFrame.map instead.\n",
      "  ran_vars = ran_vars.applymap(\n",
      "d:\\Users\\Tom\\miniconda3\\envs\\octagon_analysis\\Lib\\site-packages\\pymer4\\models\\Lmer.py:733: FutureWarning: DataFrame.applymap has been deprecated. Use DataFrame.map instead.\n",
      "  ran_vars = ran_vars.applymap(\n",
      "d:\\Users\\Tom\\miniconda3\\envs\\octagon_analysis\\Lib\\site-packages\\pymer4\\models\\Lmer.py:733: FutureWarning: DataFrame.applymap has been deprecated. Use DataFrame.map instead.\n",
      "  ran_vars = ran_vars.applymap(\n",
      "d:\\Users\\Tom\\miniconda3\\envs\\octagon_analysis\\Lib\\site-packages\\pymer4\\models\\Lmer.py:733: FutureWarning: DataFrame.applymap has been deprecated. Use DataFrame.map instead.\n",
      "  ran_vars = ran_vars.applymap(\n",
      "d:\\Users\\Tom\\miniconda3\\envs\\octagon_analysis\\Lib\\site-packages\\pymer4\\models\\Lmer.py:733: FutureWarning: DataFrame.applymap has been deprecated. Use DataFrame.map instead.\n",
      "  ran_vars = ran_vars.applymap(\n",
      "d:\\Users\\Tom\\miniconda3\\envs\\octagon_analysis\\Lib\\site-packages\\pymer4\\models\\Lmer.py:733: FutureWarning: DataFrame.applymap has been deprecated. Use DataFrame.map instead.\n",
      "  ran_vars = ran_vars.applymap(\n",
      "d:\\Users\\Tom\\miniconda3\\envs\\octagon_analysis\\Lib\\site-packages\\pymer4\\models\\Lmer.py:733: FutureWarning: DataFrame.applymap has been deprecated. Use DataFrame.map instead.\n",
      "  ran_vars = ran_vars.applymap(\n",
      "d:\\Users\\Tom\\miniconda3\\envs\\octagon_analysis\\Lib\\site-packages\\pymer4\\models\\Lmer.py:733: FutureWarning: DataFrame.applymap has been deprecated. Use DataFrame.map instead.\n",
      "  ran_vars = ran_vars.applymap(\n"
     ]
    },
    {
     "name": "stdout",
     "output_type": "stream",
     "text": [
      "Fold 0 average NLL: 0.38777122093177013\n",
      "Fold 1 average NLL: 0.3412161091699096\n",
      "Fold 2 average NLL: 0.37322286661203685\n",
      "Fold 3 average NLL: 0.4051682253360674\n",
      "Fold 4 average NLL: 0.35741830279403325\n",
      "Fold 5 average NLL: 0.3196107496364403\n",
      "Fold 6 average NLL: 0.3465923540772242\n",
      "Fold 7 average NLL: 0.4222315713257453\n",
      "Fold 8 average NLL: 0.37123457049067254\n",
      "Fold 9 average NLL: 0.3464097015372949\n",
      "Fold 10 average NLL: 0.3430317238572632\n",
      "Fold 11 average NLL: 0.35486453367088655\n",
      "Fold 12 average NLL: 0.35447055421227297\n",
      "Fold 13 average NLL: 0.3802617633853407\n",
      "Fold 14 average NLL: 0.3284275496261719\n",
      "Fold 15 average NLL: 0.414657410795059\n",
      "Fold 16 average NLL: 0.32915292989867373\n",
      "Fold 17 average NLL: 0.38490525285082866\n",
      "Fold 18 average NLL: 0.3674733298361879\n",
      "Fold 19 average NLL: 0.3670216180749687\n",
      "20-fold CV data saved to:  ..\\data\\k_fold_CV\\20-fold-CV_results_solosocial_randomintercepts_bestsolomodel_socialcontext.pickle\n"
     ]
    }
   ],
   "source": [
    "model_formula = 'ChooseHigh ~ 1 + D2H + D2L + FirstSeenWall + WallSep + D2H:FirstSeenWall + D2L:FirstSeenWall + FirstSeenWall:WallSep + (1 |GlmPlayerID)' \\\n",
    "                + ' + SocialContext'\n",
    "(model_avg_nll, models,\n",
    "  predictions, fold_all_nlls, fold_avg_nlls) = run_cross_validation(split_dataframes['glm_df_solosocial'], model_formula,\n",
    "                                                    \"solosocial_randomintercepts_bestsolomodel_socialcontext\", \n",
    "                                                      save_results=True)"
   ]
  },
  {
   "cell_type": "code",
   "execution_count": 33,
   "id": "65c4c345",
   "metadata": {},
   "outputs": [
    {
     "data": {
      "application/vnd.jupyter.widget-view+json": {
       "model_id": "3a84fa6af9054e96b4c7b2c9d9f8717a",
       "version_major": 2,
       "version_minor": 0
      },
      "text/plain": [
       "IntProgress(value=0, description='Fitting models', max=20)"
      ]
     },
     "metadata": {},
     "output_type": "display_data"
    },
    {
     "name": "stderr",
     "output_type": "stream",
     "text": [
      "d:\\Users\\Tom\\miniconda3\\envs\\octagon_analysis\\Lib\\site-packages\\pymer4\\models\\Lmer.py:733: FutureWarning: DataFrame.applymap has been deprecated. Use DataFrame.map instead.\n",
      "  ran_vars = ran_vars.applymap(\n",
      "d:\\Users\\Tom\\miniconda3\\envs\\octagon_analysis\\Lib\\site-packages\\pymer4\\models\\Lmer.py:733: FutureWarning: DataFrame.applymap has been deprecated. Use DataFrame.map instead.\n",
      "  ran_vars = ran_vars.applymap(\n",
      "d:\\Users\\Tom\\miniconda3\\envs\\octagon_analysis\\Lib\\site-packages\\pymer4\\models\\Lmer.py:733: FutureWarning: DataFrame.applymap has been deprecated. Use DataFrame.map instead.\n",
      "  ran_vars = ran_vars.applymap(\n",
      "d:\\Users\\Tom\\miniconda3\\envs\\octagon_analysis\\Lib\\site-packages\\pymer4\\models\\Lmer.py:733: FutureWarning: DataFrame.applymap has been deprecated. Use DataFrame.map instead.\n",
      "  ran_vars = ran_vars.applymap(\n",
      "d:\\Users\\Tom\\miniconda3\\envs\\octagon_analysis\\Lib\\site-packages\\pymer4\\models\\Lmer.py:733: FutureWarning: DataFrame.applymap has been deprecated. Use DataFrame.map instead.\n",
      "  ran_vars = ran_vars.applymap(\n",
      "d:\\Users\\Tom\\miniconda3\\envs\\octagon_analysis\\Lib\\site-packages\\pymer4\\models\\Lmer.py:733: FutureWarning: DataFrame.applymap has been deprecated. Use DataFrame.map instead.\n",
      "  ran_vars = ran_vars.applymap(\n",
      "d:\\Users\\Tom\\miniconda3\\envs\\octagon_analysis\\Lib\\site-packages\\pymer4\\models\\Lmer.py:733: FutureWarning: DataFrame.applymap has been deprecated. Use DataFrame.map instead.\n",
      "  ran_vars = ran_vars.applymap(\n",
      "d:\\Users\\Tom\\miniconda3\\envs\\octagon_analysis\\Lib\\site-packages\\pymer4\\models\\Lmer.py:733: FutureWarning: DataFrame.applymap has been deprecated. Use DataFrame.map instead.\n",
      "  ran_vars = ran_vars.applymap(\n",
      "d:\\Users\\Tom\\miniconda3\\envs\\octagon_analysis\\Lib\\site-packages\\pymer4\\models\\Lmer.py:733: FutureWarning: DataFrame.applymap has been deprecated. Use DataFrame.map instead.\n",
      "  ran_vars = ran_vars.applymap(\n",
      "d:\\Users\\Tom\\miniconda3\\envs\\octagon_analysis\\Lib\\site-packages\\pymer4\\models\\Lmer.py:733: FutureWarning: DataFrame.applymap has been deprecated. Use DataFrame.map instead.\n",
      "  ran_vars = ran_vars.applymap(\n",
      "d:\\Users\\Tom\\miniconda3\\envs\\octagon_analysis\\Lib\\site-packages\\pymer4\\models\\Lmer.py:733: FutureWarning: DataFrame.applymap has been deprecated. Use DataFrame.map instead.\n",
      "  ran_vars = ran_vars.applymap(\n",
      "d:\\Users\\Tom\\miniconda3\\envs\\octagon_analysis\\Lib\\site-packages\\pymer4\\models\\Lmer.py:733: FutureWarning: DataFrame.applymap has been deprecated. Use DataFrame.map instead.\n",
      "  ran_vars = ran_vars.applymap(\n",
      "d:\\Users\\Tom\\miniconda3\\envs\\octagon_analysis\\Lib\\site-packages\\pymer4\\models\\Lmer.py:733: FutureWarning: DataFrame.applymap has been deprecated. Use DataFrame.map instead.\n",
      "  ran_vars = ran_vars.applymap(\n",
      "d:\\Users\\Tom\\miniconda3\\envs\\octagon_analysis\\Lib\\site-packages\\pymer4\\models\\Lmer.py:733: FutureWarning: DataFrame.applymap has been deprecated. Use DataFrame.map instead.\n",
      "  ran_vars = ran_vars.applymap(\n",
      "d:\\Users\\Tom\\miniconda3\\envs\\octagon_analysis\\Lib\\site-packages\\pymer4\\models\\Lmer.py:733: FutureWarning: DataFrame.applymap has been deprecated. Use DataFrame.map instead.\n",
      "  ran_vars = ran_vars.applymap(\n",
      "d:\\Users\\Tom\\miniconda3\\envs\\octagon_analysis\\Lib\\site-packages\\pymer4\\models\\Lmer.py:733: FutureWarning: DataFrame.applymap has been deprecated. Use DataFrame.map instead.\n",
      "  ran_vars = ran_vars.applymap(\n",
      "d:\\Users\\Tom\\miniconda3\\envs\\octagon_analysis\\Lib\\site-packages\\pymer4\\models\\Lmer.py:733: FutureWarning: DataFrame.applymap has been deprecated. Use DataFrame.map instead.\n",
      "  ran_vars = ran_vars.applymap(\n",
      "d:\\Users\\Tom\\miniconda3\\envs\\octagon_analysis\\Lib\\site-packages\\pymer4\\models\\Lmer.py:733: FutureWarning: DataFrame.applymap has been deprecated. Use DataFrame.map instead.\n",
      "  ran_vars = ran_vars.applymap(\n",
      "d:\\Users\\Tom\\miniconda3\\envs\\octagon_analysis\\Lib\\site-packages\\pymer4\\models\\Lmer.py:733: FutureWarning: DataFrame.applymap has been deprecated. Use DataFrame.map instead.\n",
      "  ran_vars = ran_vars.applymap(\n",
      "d:\\Users\\Tom\\miniconda3\\envs\\octagon_analysis\\Lib\\site-packages\\pymer4\\models\\Lmer.py:733: FutureWarning: DataFrame.applymap has been deprecated. Use DataFrame.map instead.\n",
      "  ran_vars = ran_vars.applymap(\n"
     ]
    },
    {
     "name": "stdout",
     "output_type": "stream",
     "text": [
      "Fold 0 average NLL: 0.3870080111337435\n",
      "Fold 1 average NLL: 0.3325287685648883\n",
      "Fold 2 average NLL: 0.3687354280752905\n",
      "Fold 3 average NLL: 0.40213236997069457\n",
      "Fold 4 average NLL: 0.35145907442123364\n",
      "Fold 5 average NLL: 0.31527796865154123\n",
      "Fold 6 average NLL: 0.3450361399349646\n",
      "Fold 7 average NLL: 0.41445196794468003\n",
      "Fold 8 average NLL: 0.3641337465014102\n",
      "Fold 9 average NLL: 0.3430998327164872\n",
      "Fold 10 average NLL: 0.3363119011134161\n",
      "Fold 11 average NLL: 0.3539822275697298\n",
      "Fold 12 average NLL: 0.3519247391567121\n",
      "Fold 13 average NLL: 0.3737798881336077\n",
      "Fold 14 average NLL: 0.32744626679939626\n",
      "Fold 15 average NLL: 0.4046942352482743\n",
      "Fold 16 average NLL: 0.3263219288451895\n",
      "Fold 17 average NLL: 0.37745223229928954\n",
      "Fold 18 average NLL: 0.36314165831557527\n",
      "Fold 19 average NLL: 0.3657600803817109\n",
      "20-fold CV data saved to:  ..\\data\\k_fold_CV\\20-fold-CV_results_solosocial_randomintercepts_bestsolomodel_socialcontext_allinteractions.pickle\n"
     ]
    }
   ],
   "source": [
    "model_formula = 'ChooseHigh ~ 1 + D2H + D2L + FirstSeenWall + WallSep + D2H:FirstSeenWall + D2L:FirstSeenWall + FirstSeenWall:WallSep + (1 |GlmPlayerID)' \\\n",
    "                + ' + SocialContext + SocialContext:FirstSeenWall + SocialContext:WallSep + SocialContext:D2H + SocialContext:D2L'\n",
    "(model_avg_nll, models,\n",
    "  predictions, fold_all_nlls, fold_avg_nlls) = run_cross_validation(split_dataframes['glm_df_solosocial'], model_formula,\n",
    "                                                    \"solosocial_randomintercepts_bestsolomodel_socialcontext_allinteractions\", \n",
    "                                                      save_results=True)"
   ]
  },
  {
   "cell_type": "code",
   "execution_count": 34,
   "id": "7757064e",
   "metadata": {},
   "outputs": [
    {
     "data": {
      "application/vnd.jupyter.widget-view+json": {
       "model_id": "da50667ec23f445e8dcacb47b8028bc1",
       "version_major": 2,
       "version_minor": 0
      },
      "text/plain": [
       "IntProgress(value=0, description='Fitting models', max=20)"
      ]
     },
     "metadata": {},
     "output_type": "display_data"
    },
    {
     "name": "stderr",
     "output_type": "stream",
     "text": [
      "d:\\Users\\Tom\\miniconda3\\envs\\octagon_analysis\\Lib\\site-packages\\pymer4\\models\\Lmer.py:733: FutureWarning: DataFrame.applymap has been deprecated. Use DataFrame.map instead.\n",
      "  ran_vars = ran_vars.applymap(\n",
      "d:\\Users\\Tom\\miniconda3\\envs\\octagon_analysis\\Lib\\site-packages\\pymer4\\models\\Lmer.py:733: FutureWarning: DataFrame.applymap has been deprecated. Use DataFrame.map instead.\n",
      "  ran_vars = ran_vars.applymap(\n",
      "d:\\Users\\Tom\\miniconda3\\envs\\octagon_analysis\\Lib\\site-packages\\pymer4\\models\\Lmer.py:733: FutureWarning: DataFrame.applymap has been deprecated. Use DataFrame.map instead.\n",
      "  ran_vars = ran_vars.applymap(\n",
      "d:\\Users\\Tom\\miniconda3\\envs\\octagon_analysis\\Lib\\site-packages\\pymer4\\models\\Lmer.py:733: FutureWarning: DataFrame.applymap has been deprecated. Use DataFrame.map instead.\n",
      "  ran_vars = ran_vars.applymap(\n",
      "d:\\Users\\Tom\\miniconda3\\envs\\octagon_analysis\\Lib\\site-packages\\pymer4\\models\\Lmer.py:733: FutureWarning: DataFrame.applymap has been deprecated. Use DataFrame.map instead.\n",
      "  ran_vars = ran_vars.applymap(\n",
      "d:\\Users\\Tom\\miniconda3\\envs\\octagon_analysis\\Lib\\site-packages\\pymer4\\models\\Lmer.py:733: FutureWarning: DataFrame.applymap has been deprecated. Use DataFrame.map instead.\n",
      "  ran_vars = ran_vars.applymap(\n",
      "d:\\Users\\Tom\\miniconda3\\envs\\octagon_analysis\\Lib\\site-packages\\pymer4\\models\\Lmer.py:733: FutureWarning: DataFrame.applymap has been deprecated. Use DataFrame.map instead.\n",
      "  ran_vars = ran_vars.applymap(\n",
      "d:\\Users\\Tom\\miniconda3\\envs\\octagon_analysis\\Lib\\site-packages\\pymer4\\models\\Lmer.py:733: FutureWarning: DataFrame.applymap has been deprecated. Use DataFrame.map instead.\n",
      "  ran_vars = ran_vars.applymap(\n",
      "d:\\Users\\Tom\\miniconda3\\envs\\octagon_analysis\\Lib\\site-packages\\pymer4\\models\\Lmer.py:733: FutureWarning: DataFrame.applymap has been deprecated. Use DataFrame.map instead.\n",
      "  ran_vars = ran_vars.applymap(\n",
      "d:\\Users\\Tom\\miniconda3\\envs\\octagon_analysis\\Lib\\site-packages\\pymer4\\models\\Lmer.py:733: FutureWarning: DataFrame.applymap has been deprecated. Use DataFrame.map instead.\n",
      "  ran_vars = ran_vars.applymap(\n",
      "d:\\Users\\Tom\\miniconda3\\envs\\octagon_analysis\\Lib\\site-packages\\pymer4\\models\\Lmer.py:733: FutureWarning: DataFrame.applymap has been deprecated. Use DataFrame.map instead.\n",
      "  ran_vars = ran_vars.applymap(\n",
      "d:\\Users\\Tom\\miniconda3\\envs\\octagon_analysis\\Lib\\site-packages\\pymer4\\models\\Lmer.py:733: FutureWarning: DataFrame.applymap has been deprecated. Use DataFrame.map instead.\n",
      "  ran_vars = ran_vars.applymap(\n",
      "d:\\Users\\Tom\\miniconda3\\envs\\octagon_analysis\\Lib\\site-packages\\pymer4\\models\\Lmer.py:733: FutureWarning: DataFrame.applymap has been deprecated. Use DataFrame.map instead.\n",
      "  ran_vars = ran_vars.applymap(\n",
      "d:\\Users\\Tom\\miniconda3\\envs\\octagon_analysis\\Lib\\site-packages\\pymer4\\models\\Lmer.py:733: FutureWarning: DataFrame.applymap has been deprecated. Use DataFrame.map instead.\n",
      "  ran_vars = ran_vars.applymap(\n",
      "d:\\Users\\Tom\\miniconda3\\envs\\octagon_analysis\\Lib\\site-packages\\pymer4\\models\\Lmer.py:733: FutureWarning: DataFrame.applymap has been deprecated. Use DataFrame.map instead.\n",
      "  ran_vars = ran_vars.applymap(\n",
      "d:\\Users\\Tom\\miniconda3\\envs\\octagon_analysis\\Lib\\site-packages\\pymer4\\models\\Lmer.py:733: FutureWarning: DataFrame.applymap has been deprecated. Use DataFrame.map instead.\n",
      "  ran_vars = ran_vars.applymap(\n",
      "d:\\Users\\Tom\\miniconda3\\envs\\octagon_analysis\\Lib\\site-packages\\pymer4\\models\\Lmer.py:733: FutureWarning: DataFrame.applymap has been deprecated. Use DataFrame.map instead.\n",
      "  ran_vars = ran_vars.applymap(\n",
      "d:\\Users\\Tom\\miniconda3\\envs\\octagon_analysis\\Lib\\site-packages\\pymer4\\models\\Lmer.py:733: FutureWarning: DataFrame.applymap has been deprecated. Use DataFrame.map instead.\n",
      "  ran_vars = ran_vars.applymap(\n",
      "d:\\Users\\Tom\\miniconda3\\envs\\octagon_analysis\\Lib\\site-packages\\pymer4\\models\\Lmer.py:733: FutureWarning: DataFrame.applymap has been deprecated. Use DataFrame.map instead.\n",
      "  ran_vars = ran_vars.applymap(\n",
      "d:\\Users\\Tom\\miniconda3\\envs\\octagon_analysis\\Lib\\site-packages\\pymer4\\models\\Lmer.py:733: FutureWarning: DataFrame.applymap has been deprecated. Use DataFrame.map instead.\n",
      "  ran_vars = ran_vars.applymap(\n"
     ]
    },
    {
     "name": "stdout",
     "output_type": "stream",
     "text": [
      "Fold 0 average NLL: 0.38736803135956505\n",
      "Fold 1 average NLL: 0.3418323968353272\n",
      "Fold 2 average NLL: 0.3727148581524858\n",
      "Fold 3 average NLL: 0.4049183186896521\n",
      "Fold 4 average NLL: 0.3594468617514337\n",
      "Fold 5 average NLL: 0.31929744522150094\n",
      "Fold 6 average NLL: 0.34732996633438845\n",
      "Fold 7 average NLL: 0.42309582946995683\n",
      "Fold 8 average NLL: 0.37055801258585747\n",
      "Fold 9 average NLL: 0.34668731631130073\n",
      "Fold 10 average NLL: 0.3425822789369963\n",
      "Fold 11 average NLL: 0.35483436892866627\n",
      "Fold 12 average NLL: 0.35381489408758776\n",
      "Fold 13 average NLL: 0.3799306349634119\n",
      "Fold 14 average NLL: 0.327793038212842\n",
      "Fold 15 average NLL: 0.4150666429489938\n",
      "Fold 16 average NLL: 0.32940920806729507\n",
      "Fold 17 average NLL: 0.38517539733892003\n",
      "Fold 18 average NLL: 0.36781989720888225\n",
      "Fold 19 average NLL: 0.36657720023086454\n",
      "20-fold CV data saved to:  ..\\data\\k_fold_CV\\20-fold-CV_results_solosocial_randomintercepts_bestsolomodel_socialcontext_SC-FSW-interactions.pickle\n"
     ]
    }
   ],
   "source": [
    "model_formula = 'ChooseHigh ~ 1 + D2H + D2L + FirstSeenWall + WallSep + D2H:FirstSeenWall + D2L:FirstSeenWall + FirstSeenWall:WallSep + (1 |GlmPlayerID)' \\\n",
    "                + ' + SocialContext + SocialContext:FirstSeenWall'\n",
    "(model_avg_nll, models,\n",
    "  predictions, fold_all_nlls, fold_avg_nlls) = run_cross_validation(split_dataframes['glm_df_solosocial'], model_formula,\n",
    "                                                    \"solosocial_randomintercepts_bestsolomodel_socialcontext_SC-FSW-interactions\", \n",
    "                                                      save_results=True)"
   ]
  },
  {
   "cell_type": "code",
   "execution_count": 35,
   "id": "a74dca9e",
   "metadata": {},
   "outputs": [
    {
     "data": {
      "application/vnd.jupyter.widget-view+json": {
       "model_id": "376beefa05474b8dbf39d1c47507b0fd",
       "version_major": 2,
       "version_minor": 0
      },
      "text/plain": [
       "IntProgress(value=0, description='Fitting models', max=20)"
      ]
     },
     "metadata": {},
     "output_type": "display_data"
    },
    {
     "name": "stderr",
     "output_type": "stream",
     "text": [
      "d:\\Users\\Tom\\miniconda3\\envs\\octagon_analysis\\Lib\\site-packages\\pymer4\\models\\Lmer.py:733: FutureWarning: DataFrame.applymap has been deprecated. Use DataFrame.map instead.\n",
      "  ran_vars = ran_vars.applymap(\n",
      "d:\\Users\\Tom\\miniconda3\\envs\\octagon_analysis\\Lib\\site-packages\\pymer4\\models\\Lmer.py:733: FutureWarning: DataFrame.applymap has been deprecated. Use DataFrame.map instead.\n",
      "  ran_vars = ran_vars.applymap(\n",
      "d:\\Users\\Tom\\miniconda3\\envs\\octagon_analysis\\Lib\\site-packages\\pymer4\\models\\Lmer.py:733: FutureWarning: DataFrame.applymap has been deprecated. Use DataFrame.map instead.\n",
      "  ran_vars = ran_vars.applymap(\n",
      "d:\\Users\\Tom\\miniconda3\\envs\\octagon_analysis\\Lib\\site-packages\\pymer4\\models\\Lmer.py:733: FutureWarning: DataFrame.applymap has been deprecated. Use DataFrame.map instead.\n",
      "  ran_vars = ran_vars.applymap(\n",
      "d:\\Users\\Tom\\miniconda3\\envs\\octagon_analysis\\Lib\\site-packages\\pymer4\\models\\Lmer.py:733: FutureWarning: DataFrame.applymap has been deprecated. Use DataFrame.map instead.\n",
      "  ran_vars = ran_vars.applymap(\n",
      "d:\\Users\\Tom\\miniconda3\\envs\\octagon_analysis\\Lib\\site-packages\\pymer4\\models\\Lmer.py:733: FutureWarning: DataFrame.applymap has been deprecated. Use DataFrame.map instead.\n",
      "  ran_vars = ran_vars.applymap(\n",
      "d:\\Users\\Tom\\miniconda3\\envs\\octagon_analysis\\Lib\\site-packages\\pymer4\\models\\Lmer.py:733: FutureWarning: DataFrame.applymap has been deprecated. Use DataFrame.map instead.\n",
      "  ran_vars = ran_vars.applymap(\n",
      "d:\\Users\\Tom\\miniconda3\\envs\\octagon_analysis\\Lib\\site-packages\\pymer4\\models\\Lmer.py:733: FutureWarning: DataFrame.applymap has been deprecated. Use DataFrame.map instead.\n",
      "  ran_vars = ran_vars.applymap(\n",
      "d:\\Users\\Tom\\miniconda3\\envs\\octagon_analysis\\Lib\\site-packages\\pymer4\\models\\Lmer.py:733: FutureWarning: DataFrame.applymap has been deprecated. Use DataFrame.map instead.\n",
      "  ran_vars = ran_vars.applymap(\n",
      "d:\\Users\\Tom\\miniconda3\\envs\\octagon_analysis\\Lib\\site-packages\\pymer4\\models\\Lmer.py:733: FutureWarning: DataFrame.applymap has been deprecated. Use DataFrame.map instead.\n",
      "  ran_vars = ran_vars.applymap(\n",
      "d:\\Users\\Tom\\miniconda3\\envs\\octagon_analysis\\Lib\\site-packages\\pymer4\\models\\Lmer.py:733: FutureWarning: DataFrame.applymap has been deprecated. Use DataFrame.map instead.\n",
      "  ran_vars = ran_vars.applymap(\n",
      "d:\\Users\\Tom\\miniconda3\\envs\\octagon_analysis\\Lib\\site-packages\\pymer4\\models\\Lmer.py:733: FutureWarning: DataFrame.applymap has been deprecated. Use DataFrame.map instead.\n",
      "  ran_vars = ran_vars.applymap(\n",
      "d:\\Users\\Tom\\miniconda3\\envs\\octagon_analysis\\Lib\\site-packages\\pymer4\\models\\Lmer.py:733: FutureWarning: DataFrame.applymap has been deprecated. Use DataFrame.map instead.\n",
      "  ran_vars = ran_vars.applymap(\n",
      "d:\\Users\\Tom\\miniconda3\\envs\\octagon_analysis\\Lib\\site-packages\\pymer4\\models\\Lmer.py:733: FutureWarning: DataFrame.applymap has been deprecated. Use DataFrame.map instead.\n",
      "  ran_vars = ran_vars.applymap(\n",
      "d:\\Users\\Tom\\miniconda3\\envs\\octagon_analysis\\Lib\\site-packages\\pymer4\\models\\Lmer.py:733: FutureWarning: DataFrame.applymap has been deprecated. Use DataFrame.map instead.\n",
      "  ran_vars = ran_vars.applymap(\n",
      "d:\\Users\\Tom\\miniconda3\\envs\\octagon_analysis\\Lib\\site-packages\\pymer4\\models\\Lmer.py:733: FutureWarning: DataFrame.applymap has been deprecated. Use DataFrame.map instead.\n",
      "  ran_vars = ran_vars.applymap(\n",
      "d:\\Users\\Tom\\miniconda3\\envs\\octagon_analysis\\Lib\\site-packages\\pymer4\\models\\Lmer.py:733: FutureWarning: DataFrame.applymap has been deprecated. Use DataFrame.map instead.\n",
      "  ran_vars = ran_vars.applymap(\n",
      "d:\\Users\\Tom\\miniconda3\\envs\\octagon_analysis\\Lib\\site-packages\\pymer4\\models\\Lmer.py:733: FutureWarning: DataFrame.applymap has been deprecated. Use DataFrame.map instead.\n",
      "  ran_vars = ran_vars.applymap(\n",
      "d:\\Users\\Tom\\miniconda3\\envs\\octagon_analysis\\Lib\\site-packages\\pymer4\\models\\Lmer.py:733: FutureWarning: DataFrame.applymap has been deprecated. Use DataFrame.map instead.\n",
      "  ran_vars = ran_vars.applymap(\n",
      "d:\\Users\\Tom\\miniconda3\\envs\\octagon_analysis\\Lib\\site-packages\\pymer4\\models\\Lmer.py:733: FutureWarning: DataFrame.applymap has been deprecated. Use DataFrame.map instead.\n",
      "  ran_vars = ran_vars.applymap(\n"
     ]
    },
    {
     "name": "stdout",
     "output_type": "stream",
     "text": [
      "Fold 0 average NLL: 0.38823514129702336\n",
      "Fold 1 average NLL: 0.34112275077720194\n",
      "Fold 2 average NLL: 0.3728625109730981\n",
      "Fold 3 average NLL: 0.4051067210995662\n",
      "Fold 4 average NLL: 0.3571027597791351\n",
      "Fold 5 average NLL: 0.3197112405775514\n",
      "Fold 6 average NLL: 0.34685965849003125\n",
      "Fold 7 average NLL: 0.4216332237806378\n",
      "Fold 8 average NLL: 0.3709729408073362\n",
      "Fold 9 average NLL: 0.34685838069213765\n",
      "Fold 10 average NLL: 0.34278283483335764\n",
      "Fold 11 average NLL: 0.35452746008232267\n",
      "Fold 12 average NLL: 0.3543039240157314\n",
      "Fold 13 average NLL: 0.3813872838856566\n",
      "Fold 14 average NLL: 0.32804825871221605\n",
      "Fold 15 average NLL: 0.41427645197290375\n",
      "Fold 16 average NLL: 0.3299488412954252\n",
      "Fold 17 average NLL: 0.38469370773715644\n",
      "Fold 18 average NLL: 0.36717603537212234\n",
      "Fold 19 average NLL: 0.3681283667195239\n",
      "20-fold CV data saved to:  ..\\data\\k_fold_CV\\20-fold-CV_results_solosocial_randomintercepts_bestsolomodel_socialcontext_SC-WS-interactions.pickle\n"
     ]
    }
   ],
   "source": [
    "model_formula = 'ChooseHigh ~ 1 + D2H + D2L + FirstSeenWall + WallSep + D2H:FirstSeenWall + D2L:FirstSeenWall + FirstSeenWall:WallSep + (1 |GlmPlayerID)' \\\n",
    "                + ' + SocialContext + SocialContext:WallSep'\n",
    "(model_avg_nll, models,\n",
    "  predictions, fold_all_nlls, fold_avg_nlls) = run_cross_validation(split_dataframes['glm_df_solosocial'], model_formula,\n",
    "                                                    \"solosocial_randomintercepts_bestsolomodel_socialcontext_SC-WS-interactions\", \n",
    "                                                      save_results=True)"
   ]
  },
  {
   "cell_type": "code",
   "execution_count": 36,
   "id": "8cf1fc8a",
   "metadata": {},
   "outputs": [
    {
     "data": {
      "application/vnd.jupyter.widget-view+json": {
       "model_id": "8b4067d4b5f640739ad776a4cbe88006",
       "version_major": 2,
       "version_minor": 0
      },
      "text/plain": [
       "IntProgress(value=0, description='Fitting models', max=20)"
      ]
     },
     "metadata": {},
     "output_type": "display_data"
    },
    {
     "name": "stderr",
     "output_type": "stream",
     "text": [
      "d:\\Users\\Tom\\miniconda3\\envs\\octagon_analysis\\Lib\\site-packages\\pymer4\\models\\Lmer.py:733: FutureWarning: DataFrame.applymap has been deprecated. Use DataFrame.map instead.\n",
      "  ran_vars = ran_vars.applymap(\n",
      "d:\\Users\\Tom\\miniconda3\\envs\\octagon_analysis\\Lib\\site-packages\\pymer4\\models\\Lmer.py:733: FutureWarning: DataFrame.applymap has been deprecated. Use DataFrame.map instead.\n",
      "  ran_vars = ran_vars.applymap(\n",
      "d:\\Users\\Tom\\miniconda3\\envs\\octagon_analysis\\Lib\\site-packages\\pymer4\\models\\Lmer.py:733: FutureWarning: DataFrame.applymap has been deprecated. Use DataFrame.map instead.\n",
      "  ran_vars = ran_vars.applymap(\n",
      "d:\\Users\\Tom\\miniconda3\\envs\\octagon_analysis\\Lib\\site-packages\\pymer4\\models\\Lmer.py:733: FutureWarning: DataFrame.applymap has been deprecated. Use DataFrame.map instead.\n",
      "  ran_vars = ran_vars.applymap(\n",
      "d:\\Users\\Tom\\miniconda3\\envs\\octagon_analysis\\Lib\\site-packages\\pymer4\\models\\Lmer.py:733: FutureWarning: DataFrame.applymap has been deprecated. Use DataFrame.map instead.\n",
      "  ran_vars = ran_vars.applymap(\n",
      "d:\\Users\\Tom\\miniconda3\\envs\\octagon_analysis\\Lib\\site-packages\\pymer4\\models\\Lmer.py:733: FutureWarning: DataFrame.applymap has been deprecated. Use DataFrame.map instead.\n",
      "  ran_vars = ran_vars.applymap(\n",
      "d:\\Users\\Tom\\miniconda3\\envs\\octagon_analysis\\Lib\\site-packages\\pymer4\\models\\Lmer.py:733: FutureWarning: DataFrame.applymap has been deprecated. Use DataFrame.map instead.\n",
      "  ran_vars = ran_vars.applymap(\n",
      "d:\\Users\\Tom\\miniconda3\\envs\\octagon_analysis\\Lib\\site-packages\\pymer4\\models\\Lmer.py:733: FutureWarning: DataFrame.applymap has been deprecated. Use DataFrame.map instead.\n",
      "  ran_vars = ran_vars.applymap(\n",
      "d:\\Users\\Tom\\miniconda3\\envs\\octagon_analysis\\Lib\\site-packages\\pymer4\\models\\Lmer.py:733: FutureWarning: DataFrame.applymap has been deprecated. Use DataFrame.map instead.\n",
      "  ran_vars = ran_vars.applymap(\n",
      "d:\\Users\\Tom\\miniconda3\\envs\\octagon_analysis\\Lib\\site-packages\\pymer4\\models\\Lmer.py:733: FutureWarning: DataFrame.applymap has been deprecated. Use DataFrame.map instead.\n",
      "  ran_vars = ran_vars.applymap(\n",
      "d:\\Users\\Tom\\miniconda3\\envs\\octagon_analysis\\Lib\\site-packages\\pymer4\\models\\Lmer.py:733: FutureWarning: DataFrame.applymap has been deprecated. Use DataFrame.map instead.\n",
      "  ran_vars = ran_vars.applymap(\n",
      "d:\\Users\\Tom\\miniconda3\\envs\\octagon_analysis\\Lib\\site-packages\\pymer4\\models\\Lmer.py:733: FutureWarning: DataFrame.applymap has been deprecated. Use DataFrame.map instead.\n",
      "  ran_vars = ran_vars.applymap(\n",
      "d:\\Users\\Tom\\miniconda3\\envs\\octagon_analysis\\Lib\\site-packages\\pymer4\\models\\Lmer.py:733: FutureWarning: DataFrame.applymap has been deprecated. Use DataFrame.map instead.\n",
      "  ran_vars = ran_vars.applymap(\n",
      "d:\\Users\\Tom\\miniconda3\\envs\\octagon_analysis\\Lib\\site-packages\\pymer4\\models\\Lmer.py:733: FutureWarning: DataFrame.applymap has been deprecated. Use DataFrame.map instead.\n",
      "  ran_vars = ran_vars.applymap(\n",
      "d:\\Users\\Tom\\miniconda3\\envs\\octagon_analysis\\Lib\\site-packages\\pymer4\\models\\Lmer.py:733: FutureWarning: DataFrame.applymap has been deprecated. Use DataFrame.map instead.\n",
      "  ran_vars = ran_vars.applymap(\n",
      "d:\\Users\\Tom\\miniconda3\\envs\\octagon_analysis\\Lib\\site-packages\\pymer4\\models\\Lmer.py:733: FutureWarning: DataFrame.applymap has been deprecated. Use DataFrame.map instead.\n",
      "  ran_vars = ran_vars.applymap(\n",
      "d:\\Users\\Tom\\miniconda3\\envs\\octagon_analysis\\Lib\\site-packages\\pymer4\\models\\Lmer.py:733: FutureWarning: DataFrame.applymap has been deprecated. Use DataFrame.map instead.\n",
      "  ran_vars = ran_vars.applymap(\n",
      "d:\\Users\\Tom\\miniconda3\\envs\\octagon_analysis\\Lib\\site-packages\\pymer4\\models\\Lmer.py:733: FutureWarning: DataFrame.applymap has been deprecated. Use DataFrame.map instead.\n",
      "  ran_vars = ran_vars.applymap(\n",
      "d:\\Users\\Tom\\miniconda3\\envs\\octagon_analysis\\Lib\\site-packages\\pymer4\\models\\Lmer.py:733: FutureWarning: DataFrame.applymap has been deprecated. Use DataFrame.map instead.\n",
      "  ran_vars = ran_vars.applymap(\n",
      "d:\\Users\\Tom\\miniconda3\\envs\\octagon_analysis\\Lib\\site-packages\\pymer4\\models\\Lmer.py:733: FutureWarning: DataFrame.applymap has been deprecated. Use DataFrame.map instead.\n",
      "  ran_vars = ran_vars.applymap(\n"
     ]
    },
    {
     "name": "stdout",
     "output_type": "stream",
     "text": [
      "Fold 0 average NLL: 0.3905287076229453\n",
      "Fold 1 average NLL: 0.3363343869431589\n",
      "Fold 2 average NLL: 0.36886403986957683\n",
      "Fold 3 average NLL: 0.4040381832877353\n",
      "Fold 4 average NLL: 0.3544548284402793\n",
      "Fold 5 average NLL: 0.3146852426444742\n",
      "Fold 6 average NLL: 0.3422057394691339\n",
      "Fold 7 average NLL: 0.41672915095878266\n",
      "Fold 8 average NLL: 0.366482086829888\n",
      "Fold 9 average NLL: 0.3471492178181681\n",
      "Fold 10 average NLL: 0.33521782556146673\n",
      "Fold 11 average NLL: 0.3529558301894002\n",
      "Fold 12 average NLL: 0.3527209269547742\n",
      "Fold 13 average NLL: 0.37449795231571015\n",
      "Fold 14 average NLL: 0.3264237099174831\n",
      "Fold 15 average NLL: 0.40513227744914104\n",
      "Fold 16 average NLL: 0.3248745778797144\n",
      "Fold 17 average NLL: 0.3772293323432602\n",
      "Fold 18 average NLL: 0.3624555814166042\n",
      "Fold 19 average NLL: 0.3651004688156854\n",
      "20-fold CV data saved to:  ..\\data\\k_fold_CV\\20-fold-CV_results_solosocial_randomintercepts_bestsolomodel_socialcontext_SC-dist-interactions.pickle\n"
     ]
    }
   ],
   "source": [
    "model_formula = 'ChooseHigh ~ 1 + D2H + D2L + FirstSeenWall + WallSep + D2H:FirstSeenWall + D2L:FirstSeenWall + FirstSeenWall:WallSep + (1 |GlmPlayerID)' \\\n",
    "                + ' + SocialContext + SocialContext:D2H + SocialContext:D2L'\n",
    "(model_avg_nll, models,\n",
    "  predictions, fold_all_nlls, fold_avg_nlls) = run_cross_validation(split_dataframes['glm_df_solosocial'], model_formula,\n",
    "                                                    \"solosocial_randomintercepts_bestsolomodel_socialcontext_SC-dist-interactions\", \n",
    "                                                      save_results=True)"
   ]
  },
  {
   "cell_type": "code",
   "execution_count": 31,
   "id": "a72003ff",
   "metadata": {},
   "outputs": [
    {
     "data": {
      "application/vnd.jupyter.widget-view+json": {
       "model_id": "b87aa4110622410589924a871b858168",
       "version_major": 2,
       "version_minor": 0
      },
      "text/plain": [
       "IntProgress(value=0, description='Fitting models', max=20)"
      ]
     },
     "metadata": {},
     "output_type": "display_data"
    },
    {
     "name": "stderr",
     "output_type": "stream",
     "text": [
      "/home/tom/miniconda3/envs/octagon_analysis/lib/python3.12/site-packages/pymer4/models/Lmer.py:733: FutureWarning: DataFrame.applymap has been deprecated. Use DataFrame.map instead.\n",
      "  ran_vars = ran_vars.applymap(\n",
      "/home/tom/miniconda3/envs/octagon_analysis/lib/python3.12/site-packages/pymer4/models/Lmer.py:733: FutureWarning: DataFrame.applymap has been deprecated. Use DataFrame.map instead.\n",
      "  ran_vars = ran_vars.applymap(\n",
      "/home/tom/miniconda3/envs/octagon_analysis/lib/python3.12/site-packages/pymer4/models/Lmer.py:733: FutureWarning: DataFrame.applymap has been deprecated. Use DataFrame.map instead.\n",
      "  ran_vars = ran_vars.applymap(\n",
      "/home/tom/miniconda3/envs/octagon_analysis/lib/python3.12/site-packages/pymer4/models/Lmer.py:733: FutureWarning: DataFrame.applymap has been deprecated. Use DataFrame.map instead.\n",
      "  ran_vars = ran_vars.applymap(\n",
      "/home/tom/miniconda3/envs/octagon_analysis/lib/python3.12/site-packages/pymer4/models/Lmer.py:733: FutureWarning: DataFrame.applymap has been deprecated. Use DataFrame.map instead.\n",
      "  ran_vars = ran_vars.applymap(\n",
      "/home/tom/miniconda3/envs/octagon_analysis/lib/python3.12/site-packages/pymer4/models/Lmer.py:733: FutureWarning: DataFrame.applymap has been deprecated. Use DataFrame.map instead.\n",
      "  ran_vars = ran_vars.applymap(\n",
      "/home/tom/miniconda3/envs/octagon_analysis/lib/python3.12/site-packages/pymer4/models/Lmer.py:733: FutureWarning: DataFrame.applymap has been deprecated. Use DataFrame.map instead.\n",
      "  ran_vars = ran_vars.applymap(\n",
      "/home/tom/miniconda3/envs/octagon_analysis/lib/python3.12/site-packages/pymer4/models/Lmer.py:733: FutureWarning: DataFrame.applymap has been deprecated. Use DataFrame.map instead.\n",
      "  ran_vars = ran_vars.applymap(\n",
      "/home/tom/miniconda3/envs/octagon_analysis/lib/python3.12/site-packages/pymer4/models/Lmer.py:733: FutureWarning: DataFrame.applymap has been deprecated. Use DataFrame.map instead.\n",
      "  ran_vars = ran_vars.applymap(\n",
      "/home/tom/miniconda3/envs/octagon_analysis/lib/python3.12/site-packages/pymer4/models/Lmer.py:733: FutureWarning: DataFrame.applymap has been deprecated. Use DataFrame.map instead.\n",
      "  ran_vars = ran_vars.applymap(\n",
      "/home/tom/miniconda3/envs/octagon_analysis/lib/python3.12/site-packages/pymer4/models/Lmer.py:733: FutureWarning: DataFrame.applymap has been deprecated. Use DataFrame.map instead.\n",
      "  ran_vars = ran_vars.applymap(\n",
      "/home/tom/miniconda3/envs/octagon_analysis/lib/python3.12/site-packages/pymer4/models/Lmer.py:733: FutureWarning: DataFrame.applymap has been deprecated. Use DataFrame.map instead.\n",
      "  ran_vars = ran_vars.applymap(\n",
      "/home/tom/miniconda3/envs/octagon_analysis/lib/python3.12/site-packages/pymer4/models/Lmer.py:733: FutureWarning: DataFrame.applymap has been deprecated. Use DataFrame.map instead.\n",
      "  ran_vars = ran_vars.applymap(\n",
      "/home/tom/miniconda3/envs/octagon_analysis/lib/python3.12/site-packages/pymer4/models/Lmer.py:733: FutureWarning: DataFrame.applymap has been deprecated. Use DataFrame.map instead.\n",
      "  ran_vars = ran_vars.applymap(\n",
      "/home/tom/miniconda3/envs/octagon_analysis/lib/python3.12/site-packages/pymer4/models/Lmer.py:733: FutureWarning: DataFrame.applymap has been deprecated. Use DataFrame.map instead.\n",
      "  ran_vars = ran_vars.applymap(\n",
      "/home/tom/miniconda3/envs/octagon_analysis/lib/python3.12/site-packages/pymer4/models/Lmer.py:733: FutureWarning: DataFrame.applymap has been deprecated. Use DataFrame.map instead.\n",
      "  ran_vars = ran_vars.applymap(\n",
      "/home/tom/miniconda3/envs/octagon_analysis/lib/python3.12/site-packages/pymer4/models/Lmer.py:733: FutureWarning: DataFrame.applymap has been deprecated. Use DataFrame.map instead.\n",
      "  ran_vars = ran_vars.applymap(\n",
      "/home/tom/miniconda3/envs/octagon_analysis/lib/python3.12/site-packages/pymer4/models/Lmer.py:733: FutureWarning: DataFrame.applymap has been deprecated. Use DataFrame.map instead.\n",
      "  ran_vars = ran_vars.applymap(\n",
      "/home/tom/miniconda3/envs/octagon_analysis/lib/python3.12/site-packages/pymer4/models/Lmer.py:733: FutureWarning: DataFrame.applymap has been deprecated. Use DataFrame.map instead.\n",
      "  ran_vars = ran_vars.applymap(\n",
      "/home/tom/miniconda3/envs/octagon_analysis/lib/python3.12/site-packages/pymer4/models/Lmer.py:733: FutureWarning: DataFrame.applymap has been deprecated. Use DataFrame.map instead.\n",
      "  ran_vars = ran_vars.applymap(\n"
     ]
    },
    {
     "name": "stdout",
     "output_type": "stream",
     "text": [
      "Fold 0 average NLL: 0.38596294642034606\n",
      "Fold 1 average NLL: 0.35639297556985194\n",
      "Fold 2 average NLL: 0.3800264229777872\n",
      "Fold 3 average NLL: 0.40143100767363765\n",
      "Fold 4 average NLL: 0.35728499255787666\n",
      "Fold 5 average NLL: 0.32811226156624623\n",
      "Fold 6 average NLL: 0.3671101552968014\n",
      "Fold 7 average NLL: 0.4278953364125747\n",
      "Fold 8 average NLL: 0.39380652398587057\n",
      "Fold 9 average NLL: 0.3508724544916122\n",
      "Fold 10 average NLL: 0.3466662525643493\n",
      "Fold 11 average NLL: 0.37569896484303067\n",
      "Fold 12 average NLL: 0.36171663114662195\n",
      "Fold 13 average NLL: 0.3865608456688019\n",
      "Fold 14 average NLL: 0.3331236527152994\n",
      "Fold 15 average NLL: 0.41434044610366466\n",
      "Fold 16 average NLL: 0.3439543693865903\n",
      "Fold 17 average NLL: 0.3895402551270885\n",
      "Fold 18 average NLL: 0.36876876164637773\n",
      "Fold 19 average NLL: 0.361714927831515\n",
      "20-fold CV data saved to:  ../data/k_fold_CV/20-fold-CV_results_solosocial_randomintercepts_plus-socialcontext_fsw-interactions_socialcontext-dist_interactions.pickle\n"
     ]
    }
   ],
   "source": [
    "model_formula = 'ChooseHigh ~ 1 + D2H + D2L + FirstSeenWall + WallSep + SocialContext + D2H:SocialContext + D2L:SocialContext + (1 |GlmPlayerID)'\n",
    "(model_avg_nll, models,\n",
    "  predictions, fold_all_nlls, fold_avg_nlls) = run_cross_validation(split_dataframes['glm_df_solosocial'], model_formula,\n",
    "                                                    \"solosocial_randomintercepts_plus-socialcontext_fsw-interactions_socialcontext-dist_interactions\", \n",
    "                                                      save_results=True)"
   ]
  },
  {
   "cell_type": "code",
   "execution_count": 32,
   "id": "d77a23d4",
   "metadata": {},
   "outputs": [
    {
     "data": {
      "application/vnd.jupyter.widget-view+json": {
       "model_id": "dee71d327e7144148f43b493f1487d87",
       "version_major": 2,
       "version_minor": 0
      },
      "text/plain": [
       "IntProgress(value=0, description='Fitting models', max=20)"
      ]
     },
     "metadata": {},
     "output_type": "display_data"
    },
    {
     "name": "stderr",
     "output_type": "stream",
     "text": [
      "/home/tom/miniconda3/envs/octagon_analysis/lib/python3.12/site-packages/pymer4/models/Lmer.py:733: FutureWarning: DataFrame.applymap has been deprecated. Use DataFrame.map instead.\n",
      "  ran_vars = ran_vars.applymap(\n",
      "/home/tom/miniconda3/envs/octagon_analysis/lib/python3.12/site-packages/pymer4/models/Lmer.py:733: FutureWarning: DataFrame.applymap has been deprecated. Use DataFrame.map instead.\n",
      "  ran_vars = ran_vars.applymap(\n",
      "/home/tom/miniconda3/envs/octagon_analysis/lib/python3.12/site-packages/pymer4/models/Lmer.py:733: FutureWarning: DataFrame.applymap has been deprecated. Use DataFrame.map instead.\n",
      "  ran_vars = ran_vars.applymap(\n",
      "/home/tom/miniconda3/envs/octagon_analysis/lib/python3.12/site-packages/pymer4/models/Lmer.py:733: FutureWarning: DataFrame.applymap has been deprecated. Use DataFrame.map instead.\n",
      "  ran_vars = ran_vars.applymap(\n",
      "/home/tom/miniconda3/envs/octagon_analysis/lib/python3.12/site-packages/pymer4/models/Lmer.py:733: FutureWarning: DataFrame.applymap has been deprecated. Use DataFrame.map instead.\n",
      "  ran_vars = ran_vars.applymap(\n",
      "/home/tom/miniconda3/envs/octagon_analysis/lib/python3.12/site-packages/pymer4/models/Lmer.py:733: FutureWarning: DataFrame.applymap has been deprecated. Use DataFrame.map instead.\n",
      "  ran_vars = ran_vars.applymap(\n",
      "/home/tom/miniconda3/envs/octagon_analysis/lib/python3.12/site-packages/pymer4/models/Lmer.py:733: FutureWarning: DataFrame.applymap has been deprecated. Use DataFrame.map instead.\n",
      "  ran_vars = ran_vars.applymap(\n",
      "/home/tom/miniconda3/envs/octagon_analysis/lib/python3.12/site-packages/pymer4/models/Lmer.py:733: FutureWarning: DataFrame.applymap has been deprecated. Use DataFrame.map instead.\n",
      "  ran_vars = ran_vars.applymap(\n",
      "/home/tom/miniconda3/envs/octagon_analysis/lib/python3.12/site-packages/pymer4/models/Lmer.py:733: FutureWarning: DataFrame.applymap has been deprecated. Use DataFrame.map instead.\n",
      "  ran_vars = ran_vars.applymap(\n",
      "/home/tom/miniconda3/envs/octagon_analysis/lib/python3.12/site-packages/pymer4/models/Lmer.py:733: FutureWarning: DataFrame.applymap has been deprecated. Use DataFrame.map instead.\n",
      "  ran_vars = ran_vars.applymap(\n",
      "/home/tom/miniconda3/envs/octagon_analysis/lib/python3.12/site-packages/pymer4/models/Lmer.py:733: FutureWarning: DataFrame.applymap has been deprecated. Use DataFrame.map instead.\n",
      "  ran_vars = ran_vars.applymap(\n",
      "/home/tom/miniconda3/envs/octagon_analysis/lib/python3.12/site-packages/pymer4/models/Lmer.py:733: FutureWarning: DataFrame.applymap has been deprecated. Use DataFrame.map instead.\n",
      "  ran_vars = ran_vars.applymap(\n",
      "/home/tom/miniconda3/envs/octagon_analysis/lib/python3.12/site-packages/pymer4/models/Lmer.py:733: FutureWarning: DataFrame.applymap has been deprecated. Use DataFrame.map instead.\n",
      "  ran_vars = ran_vars.applymap(\n",
      "/home/tom/miniconda3/envs/octagon_analysis/lib/python3.12/site-packages/pymer4/models/Lmer.py:733: FutureWarning: DataFrame.applymap has been deprecated. Use DataFrame.map instead.\n",
      "  ran_vars = ran_vars.applymap(\n",
      "/home/tom/miniconda3/envs/octagon_analysis/lib/python3.12/site-packages/pymer4/models/Lmer.py:733: FutureWarning: DataFrame.applymap has been deprecated. Use DataFrame.map instead.\n",
      "  ran_vars = ran_vars.applymap(\n",
      "/home/tom/miniconda3/envs/octagon_analysis/lib/python3.12/site-packages/pymer4/models/Lmer.py:733: FutureWarning: DataFrame.applymap has been deprecated. Use DataFrame.map instead.\n",
      "  ran_vars = ran_vars.applymap(\n",
      "/home/tom/miniconda3/envs/octagon_analysis/lib/python3.12/site-packages/pymer4/models/Lmer.py:733: FutureWarning: DataFrame.applymap has been deprecated. Use DataFrame.map instead.\n",
      "  ran_vars = ran_vars.applymap(\n",
      "/home/tom/miniconda3/envs/octagon_analysis/lib/python3.12/site-packages/pymer4/models/Lmer.py:733: FutureWarning: DataFrame.applymap has been deprecated. Use DataFrame.map instead.\n",
      "  ran_vars = ran_vars.applymap(\n",
      "/home/tom/miniconda3/envs/octagon_analysis/lib/python3.12/site-packages/pymer4/models/Lmer.py:733: FutureWarning: DataFrame.applymap has been deprecated. Use DataFrame.map instead.\n",
      "  ran_vars = ran_vars.applymap(\n",
      "/home/tom/miniconda3/envs/octagon_analysis/lib/python3.12/site-packages/pymer4/models/Lmer.py:733: FutureWarning: DataFrame.applymap has been deprecated. Use DataFrame.map instead.\n",
      "  ran_vars = ran_vars.applymap(\n"
     ]
    },
    {
     "name": "stdout",
     "output_type": "stream",
     "text": [
      "Fold 0 average NLL: 0.3905287063059076\n",
      "Fold 1 average NLL: 0.33633441285843413\n",
      "Fold 2 average NLL: 0.3688640269729019\n",
      "Fold 3 average NLL: 0.40403817613974463\n",
      "Fold 4 average NLL: 0.35445463902409946\n",
      "Fold 5 average NLL: 0.3146852458950841\n",
      "Fold 6 average NLL: 0.3422057833672172\n",
      "Fold 7 average NLL: 0.4167291459502028\n",
      "Fold 8 average NLL: 0.3664822810411201\n",
      "Fold 9 average NLL: 0.34714920126273013\n",
      "Fold 10 average NLL: 0.33521781978902837\n",
      "Fold 11 average NLL: 0.352955803355181\n",
      "Fold 12 average NLL: 0.35272081308056075\n",
      "Fold 13 average NLL: 0.3744979056345644\n",
      "Fold 14 average NLL: 0.32642372297384353\n",
      "Fold 15 average NLL: 0.40513215048725115\n",
      "Fold 16 average NLL: 0.3248745211525455\n",
      "Fold 17 average NLL: 0.3772293241899721\n",
      "Fold 18 average NLL: 0.36245558666022365\n",
      "Fold 19 average NLL: 0.3651005096239049\n",
      "20-fold CV data saved to:  ../data/k_fold_CV/20-fold-CV_results_solosocial_randomintercepts_plus-socialcontext_fsw-interactions_socialcontext-dist-interactions_solo-interactions.pickle\n"
     ]
    }
   ],
   "source": [
    "model_formula = 'ChooseHigh ~ 1 + D2H + D2L + FirstSeenWall + WallSep + SocialContext + D2H:SocialContext + D2L:SocialContext ' \\\n",
    "'+ FirstSeenWall:WallSep + D2H:FirstSeenWall + D2L:FirstSeenWall + (1 |GlmPlayerID)'\n",
    "(model_avg_nll, models,\n",
    "  predictions, fold_all_nlls, fold_avg_nlls) = run_cross_validation(split_dataframes['glm_df_solosocial'], model_formula,\n",
    "                                                    \"solosocial_randomintercepts_plus-socialcontext_fsw-interactions_socialcontext-dist-interactions_solo-interactions\", \n",
    "                                                      save_results=True)"
   ]
  },
  {
   "cell_type": "code",
   "execution_count": null,
   "id": "645bfff0",
   "metadata": {},
   "outputs": [],
   "source": []
  }
 ],
 "metadata": {
  "kernelspec": {
   "display_name": "octagon_analysis",
   "language": "python",
   "name": "python3"
  },
  "language_info": {
   "codemirror_mode": {
    "name": "ipython",
    "version": 3
   },
   "file_extension": ".py",
   "mimetype": "text/x-python",
   "name": "python",
   "nbconvert_exporter": "python",
   "pygments_lexer": "ipython3",
   "version": "3.12.7"
  }
 },
 "nbformat": 4,
 "nbformat_minor": 5
}
