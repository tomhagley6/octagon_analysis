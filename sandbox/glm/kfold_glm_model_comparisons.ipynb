{
 "cells": [
  {
   "cell_type": "code",
   "execution_count": 1,
   "id": "7165c571",
   "metadata": {},
   "outputs": [
    {
     "name": "stdout",
     "output_type": "stream",
     "text": [
      "[1] \"R version 4.1.3 (2022-03-10)\"\n",
      "\n"
     ]
    }
   ],
   "source": [
    "%load_ext autoreload\n",
    "%autoreload 2\n",
    "\n",
    "import data_strings\n",
    "\n",
    "import os  \n",
    "# Set the environment for R\n",
    "if os.environ.get('HOME') == '/home/tom':\n",
    "    os.environ['R_HOME'] = '/home/tom/miniconda3/envs/octagon_analysis/lib/R'  # Lab desktop\n",
    "elif os.environ.get('HOME') == 1:\n",
    "    os.environ['R_HOME']= r'C:\\Users\\tomha\\miniconda3\\envs\\octagon_analysis\\lib\\R'  # Laptop\n",
    "elif data_strings.DATA_FOLDER == r'D:\\Users\\Tom\\OneDrive\\PhD\\SWC\\data\\pseudonymised_json_files':\n",
    "    os.environ['R_HOME']=r'D:\\Users\\Tom\\miniconda3\\envs\\octagon_analysis\\lib\\R'       # Home desktop\n",
    "# elif:\n",
    "    # append other machines here\n",
    "\n",
    "import rpy2.robjects as robjects\n",
    "print(robjects.r('R.version.string'))\n",
    "\n",
    "import numpy as np\n",
    "import pandas as pd\n",
    "from ipywidgets import IntProgress\n",
    "from IPython.display import display\n",
    "from pymer4.models import Lmer\n",
    "import populate_dataframes\n",
    "import re\n",
    "\n",
    "\n"
   ]
  },
  {
   "cell_type": "code",
   "execution_count": 2,
   "id": "bb7e93d8",
   "metadata": {},
   "outputs": [],
   "source": [
    "k = 20\n",
    "new_split_dataframes = False"
   ]
  },
  {
   "cell_type": "markdown",
   "id": "e71cf003",
   "metadata": {},
   "source": [
    "### load data"
   ]
  },
  {
   "cell_type": "code",
   "execution_count": 3,
   "id": "08a034bc",
   "metadata": {},
   "outputs": [],
   "source": [
    "import pickle\n",
    "\n",
    "analysis_dir = os.path.join('..', 'data')\n",
    "# analysis_file = 'analysis_results_2levelsFirstSeenWall_normalisedWallSep.pkl'\n",
    "analysis_file = 'analysis_results_3levelsFirstSeenWall_normalisedWallSep.pkl'\n",
    "filename = os.path.join(analysis_dir, analysis_file)\n",
    "# load the analysis results\n",
    "with open(filename, 'rb') as f:\n",
    "    analysis_results = pickle.load(f)"
   ]
  },
  {
   "cell_type": "markdown",
   "id": "7e5eda65",
   "metadata": {},
   "source": [
    "### populate dataframes for glm input"
   ]
  },
  {
   "cell_type": "code",
   "execution_count": 4,
   "id": "8913bcfb",
   "metadata": {},
   "outputs": [],
   "source": [
    "# populate dataframes for solo, solosocial, and social analysis_type\n",
    "glm_df_solo = populate_dataframes.populate_dataframe(analysis_results, analysis_type='solo')\n",
    "glm_df_solosocial = populate_dataframes.populate_dataframe(analysis_results, analysis_type='solosocial')\n",
    "glm_df_social = populate_dataframes.populate_dataframe(analysis_results, analysis_type='social')\n"
   ]
  },
  {
   "cell_type": "markdown",
   "id": "be390a9d",
   "metadata": {},
   "source": [
    "### create reference to dataframes"
   ]
  },
  {
   "cell_type": "code",
   "execution_count": 6,
   "id": "ef434e7e",
   "metadata": {},
   "outputs": [
    {
     "data": {
      "text/plain": [
       "WallSep\n",
       "0.25    3888\n",
       "0.50    2428\n",
       "1.00    2130\n",
       "Name: count, dtype: int64"
      ]
     },
     "execution_count": 6,
     "metadata": {},
     "output_type": "execute_result"
    }
   ],
   "source": [
    "glm_df_social['WallSep'].value_counts()"
   ]
  },
  {
   "cell_type": "code",
   "execution_count": 7,
   "id": "ed566cf8",
   "metadata": {},
   "outputs": [],
   "source": [
    "dataframes = {\n",
    "    'glm_df_solo': glm_df_solo,\n",
    "    'glm_df_solosocial': glm_df_solosocial,\n",
    "    'glm_df_social': glm_df_social\n",
    "}"
   ]
  },
  {
   "cell_type": "markdown",
   "id": "73a02e26",
   "metadata": {},
   "source": [
    "### shuffle the dataframes for k-fold index selection\n"
   ]
  },
  {
   "cell_type": "code",
   "execution_count": 8,
   "id": "41d72dfa",
   "metadata": {},
   "outputs": [],
   "source": [
    "shuffled_dataframes_path = os.path.join('..', 'data', 'k_fold_CV', 'shuffled_dataframes.pkl')\n",
    "\n",
    "if new_split_dataframes:\n",
    "    \n",
    "    # shuffle each dataframe\n",
    "    for name, df in dataframes.items():\n",
    "        dataframes[name] = df.sample(frac=1, random_state=17).reset_index(drop=True)\n",
    "\n",
    "    # pickle save shuffled dataframes to sandbox > data, as one dictionary\n",
    "    with open(shuffled_dataframes_path, 'wb') as f:\n",
    "        pickle.dump(dataframes, f)\n",
    "\n",
    "    shuffled_dataframes = dataframes\n",
    "\n",
    "else:\n",
    "    # load the shuffled dataframes\n",
    "    with open(shuffled_dataframes_path, 'rb') as f:\n",
    "        shuffled_dataframes = pickle.load(f)\n",
    "\n"
   ]
  },
  {
   "cell_type": "markdown",
   "id": "1122a240",
   "metadata": {},
   "source": [
    "### Split each dataframe into folds"
   ]
  },
  {
   "cell_type": "code",
   "execution_count": 9,
   "id": "b531ca51",
   "metadata": {},
   "outputs": [
    {
     "name": "stderr",
     "output_type": "stream",
     "text": [
      "d:\\Users\\Tom\\miniconda3\\envs\\octagon_analysis\\Lib\\site-packages\\numpy\\_core\\fromnumeric.py:57: FutureWarning: 'DataFrame.swapaxes' is deprecated and will be removed in a future version. Please use 'DataFrame.transpose' instead.\n",
      "  return bound(*args, **kwds)\n"
     ]
    }
   ],
   "source": [
    "# split each dataframe into k equal parts\n",
    "split_dataframes = {name: np.array_split(df, k) for name, df in shuffled_dataframes.items()}"
   ]
  },
  {
   "cell_type": "markdown",
   "id": "1939740f",
   "metadata": {},
   "source": [
    "### Cross-validation functions"
   ]
  },
  {
   "cell_type": "code",
   "execution_count": 10,
   "id": "6ee3414c",
   "metadata": {},
   "outputs": [],
   "source": [
    "from contextlib import redirect_stdout\n",
    "\n",
    "def fit_models(split_df, model_formula):\n",
    "    '''\n",
    "    Takes a dataframe and a model formula, and fits k models to the data.\n",
    "    Wjere k is the number of folds in the split dataframe.\n",
    "    Use k-1 folds to train each model'''\n",
    "    \n",
    "    models = []\n",
    "    max_count = len(split_df)\n",
    "    f = IntProgress(min=0, max=max_count, description='Fitting models')\n",
    "    display(f)\n",
    "\n",
    "    # for i, df in enumerate(split_df):\n",
    "    #     print(f\"Fold {i}: Type = {type(df)}\")\n",
    "\n",
    "    # Suppress the output of the models fitting process\n",
    "    with open(os.devnull, 'w') as fnull:\n",
    "        with redirect_stdout(fnull):\n",
    "            for i in range(len(split_df)):\n",
    "                # Combine all folds except the i-th fold\n",
    "                train_data = pd.concat([df for j, df in enumerate(split_df) if j != i], ignore_index=True)                \n",
    "                # Fit the Lmer model to these folds\n",
    "                model = Lmer(model_formula, data=train_data, family='binomial')\n",
    "                model.fit(\n",
    "                    # use the bobyqa optimizer and 10000 iterations\n",
    "                    control=\"optimizer='bobyqa', optCtrl=list(maxfun=10000)\"\n",
    "                )\n",
    "                models.append(model)\n",
    "                print(f\"Model {i} fit with {len(train_data)} rows\")\n",
    "                f.value += 1\n",
    "    \n",
    "    return models\n",
    "\n",
    "def drop_nans_relevant_columns(df, model_formula):\n",
    "    ''' Remove rows with NaNs in any columns that contain them, if these columns are in the model formula.\n",
    "    This is to avoid making predictions on rows with NaNs in the relevant columns, which would cause errors.\n",
    "    And also to avoid making predictions on rows with NaNs in the ground truth column, where\n",
    "    the ground truth cannot be used to check them '''\n",
    "    \n",
    "    # drop rows with nans in any columns that contain them (if these columns are in the model formula)\n",
    "    nan_containing_cols = list(df.isna().sum()[df.isna().sum() > 0].index)\n",
    "    for column in nan_containing_cols:\n",
    "        pattern = re.compile(column)\n",
    "        match = re.search(pattern, model_formula)\n",
    "        # if match and match.group(0) != \"ChooseHigh\": # 'ChooseHigh' is dependent variable, we don't need to drop this\n",
    "        if match:\n",
    "            df = df.dropna(subset=column)\n",
    "        else:\n",
    "            continue\n",
    "\n",
    "\n",
    "    return df\n",
    "\n",
    "def calculate_predictions(split_df, models):\n",
    "    ''' \n",
    "    Predict on the held-out fold, for each trained model\n",
    "    '''\n",
    "\n",
    "    all_predictions = []\n",
    "    all_predict_data = []\n",
    "    \n",
    "    # for each dataframe type, predict on the held-out fold using the relevant model\n",
    "    for i, model in enumerate(models):\n",
    "        \n",
    "        # predict on the held-out fold\n",
    "        predict_data = split_df[i].copy()\n",
    "\n",
    "        # drop rows with nans in any columns that contain them (if these columns are in the model formula)\n",
    "        # excluding the dependent variable 'ChooseHigh'\n",
    "        predict_data = drop_nans_relevant_columns(predict_data, model.formula)\n",
    "        all_predict_data.append(predict_data) # save this to provide data for ground truth later\n",
    "\n",
    "        predictions = model.predict(predict_data, skip_data_checks=True, verify_predictions=False)\n",
    "\n",
    "        # concatenate these predictions to the predictions array\n",
    "        all_predictions.append(predictions)\n",
    "\n",
    "    return all_predictions, all_predict_data\n",
    "\n",
    "\n",
    "\n",
    "def calculate_likelihoods(split_df, predictions, model_formula):\n",
    "    ''' \n",
    "    Calculate the likelihood of each prediction given the true output.\n",
    "    The likelihood is calculated as p^y * (1-p)^(1-y), where p is the predicted probability\n",
    "    and y is the true output (0 or 1).\n",
    "\n",
    "    Takes a list of dataframes and a list of predictions, where each array of predictions corresponds\n",
    "    to the dataframe of the same index.\n",
    "\n",
    "    Avoid calculating the likelihood for NaN ground truth values. (Social trials without confident inferred\n",
    "    choices)\n",
    "    '''\n",
    "    \n",
    "    fold_likelihoods = []\n",
    "    for i, prediction_fold in enumerate(predictions):\n",
    "        \n",
    "        predicted_output = np.array(prediction_fold)\n",
    "        true_output = split_df[i].copy()\n",
    "        \n",
    "        # drop rows with nans in any columns that contain them (if these columns are in the model formula)\n",
    "        # excluding the dependent variable 'ChooseHigh'\n",
    "        true_output = drop_nans_relevant_columns(true_output, model_formula)\n",
    "\n",
    "        # only calculate the likelihood for non-NaN ground truth values      \n",
    "        nonnan_mask = ~np.isnan(true_output['ChooseHigh'])\n",
    "        true_output = true_output[nonnan_mask]\n",
    "        try:\n",
    "            predicted_output = predicted_output[nonnan_mask]\n",
    "        except Exception as e:\n",
    "            print(f\"Error: {e}\")\n",
    "            print(f\"predicted output shape: {predicted_output.shape}, non-nan mask shape: {nonnan_mask.shape}\")\n",
    "            print(f\"predicted output: {predicted_output}\")\n",
    "            print(f\"nonnan mask: {nonnan_mask}\")\n",
    "            predicted_output = predicted_output[nonnan_mask.to_numpy()]\n",
    "\n",
    "        # initialise likelihoods array to be the size of the ground truth data once nans have been filtered\n",
    "        likelihoods = np.full(len(predicted_output), np.nan)\n",
    "\n",
    "\n",
    "        # calculate the metric for each prediction\n",
    "\n",
    "        for i, prediction in enumerate(predicted_output):\n",
    "            ground_truth = true_output.iloc[i]['ChooseHigh']\n",
    "            likelihood = prediction**ground_truth * (1 - prediction)**(1 - ground_truth)\n",
    "            likelihoods[i] = likelihood\n",
    "            if np.isnan(likelihood):\n",
    "                print(f\"NaN likelihood for prediction {prediction} and ground truth {ground_truth}\")\n",
    "                print(f\"prediction**ground_truth: {prediction**ground_truth}\")\n",
    "                print(f\"(1 - prediction)**(1 - ground_truth): {(1 - prediction)**(1 - ground_truth)}\")\n",
    "\n",
    "        fold_likelihoods.append(likelihoods)\n",
    "\n",
    "    return fold_likelihoods\n",
    "\n",
    "def calculate_nlls(fold_likelihoods):\n",
    "    # #### sum the logs of the likelihoods, and take the negative\n",
    "\n",
    "    fold_avg_nlls = np.full(len(fold_likelihoods), np.nan)\n",
    "    for i, prediction_fold in enumerate(fold_likelihoods):\n",
    "        fold_nlls = -np.log(prediction_fold)\n",
    "        fold_avg_nll = np.nanmean(fold_nlls)\n",
    "        print(f\"Fold {i} average NLL: {fold_avg_nll}\")\n",
    "\n",
    "        fold_avg_nlls[i] = fold_avg_nll\n",
    "\n",
    "    model_avg_nll = np.nanmean(fold_avg_nlls)\n",
    "\n",
    "    return fold_avg_nlls, model_avg_nll\n",
    "\n",
    "\n",
    "def save_cross_validation_results(name, model_formula, split_df, num_folds, predictions,\n",
    "                                  predict_data, fold_avg_nlls, model_avg_nll):\n",
    "    ''' Save the cross-validation results to a file.\n",
    "     \n",
    "      Args:\n",
    "        name (str): Name of the model type.\n",
    "        model_formula (str): The formula used for the model.\n",
    "        split_df (list): List of dataframes for each fold.\n",
    "        num_folds (int): Number of folds in the cross-validation.\n",
    "        predictions (list): List of arrays of predictions for each fold.\n",
    "        predict_data (list): List of dataframes used for predictions (different to split_df\n",
    "        in that all of the rows with nans in relevant prediction columns are removed).\n",
    "        fold_avg_nlls (np.array): Average negative log likelihoods for each fold.\n",
    "        model_avg_nll (float): Average negative log likelihood across all folds.\n",
    "        k (int): Number of folds in the cross-validation.'''\n",
    "    \n",
    "    cross_validation_results = {\n",
    "        \"name\": name,\n",
    "        \"model_formula\": model_formula,\n",
    "        \"split_df\": split_df,\n",
    "        \"num_folds\" : num_folds,\n",
    "        # \"models\" : models,\n",
    "        \"predictions\" : predictions,\n",
    "        \"predict_data\": predict_data, \n",
    "        \"fold_nlls\" : fold_avg_nlls,\n",
    "        \"average_nll\" : model_avg_nll\n",
    "    }\n",
    "\n",
    "   # Save the cross-validation results to a file\n",
    "    dir = os.path.join('..', 'data', 'k_fold_CV')\n",
    "    filename = f'{num_folds}-fold-CV_results_{name}.pickle'\n",
    "    filepath = os.path.join(dir, filename)\n",
    "    with open(filepath, 'wb') as f:\n",
    "        pickle.dump(cross_validation_results, f)\n",
    "\n",
    "    print(f\"{num_folds}-fold CV data saved to: \", filepath)"
   ]
  },
  {
   "cell_type": "code",
   "execution_count": 11,
   "id": "eaf06e8d",
   "metadata": {},
   "outputs": [],
   "source": [
    "def run_cross_validation(split_df, model_formula, name, save_results=False):\n",
    "    ''' \n",
    "    Run k-fold cross-validation on the given dataframes.\n",
    "    Returns:\n",
    "    - model_avg_nll: the average negative log likelihood (NLL) across all folds,\n",
    "    - models: a list of the fitted model for each fold,\n",
    "    - predictions: a list of arrays of predictions for each fold,\n",
    "    - predict_data: a list of dataframes used for predictions for each fold,\n",
    "    - fold_avg_nlls: a list of the average NLL for each fold.\n",
    "    '''\n",
    "\n",
    "    n_folds = len(split_df)\n",
    "\n",
    "    # Step 1: Fit models on k-1 folds for all iterations\n",
    "    models = fit_models(split_df, model_formula)\n",
    "\n",
    "    # Step 2: Calculate predictions on the held-out fold for each model\n",
    "    predictions, predict_data = calculate_predictions(split_df, models)\n",
    "\n",
    "    # Step 3: Calculate likelihoods for each prediction\n",
    "    fold_likelihoods = calculate_likelihoods(split_df, predictions, model_formula)\n",
    "\n",
    "    # Step 4: Calculate NLLs \n",
    "    fold_avg_nlls, model_avg_nll = calculate_nlls(fold_likelihoods)\n",
    "\n",
    "    # Step 5: Save data to file (optional)\n",
    "    if save_results:\n",
    "        save_cross_validation_results(name, model_formula, split_df, n_folds, predictions,\n",
    "                                       predict_data, fold_avg_nlls, model_avg_nll)\n",
    "\n",
    "    return model_avg_nll, models, predictions, fold_avg_nlls\n"
   ]
  },
  {
   "cell_type": "markdown",
   "id": "3526c187",
   "metadata": {},
   "source": [
    "### Solo models"
   ]
  },
  {
   "cell_type": "code",
   "execution_count": 17,
   "id": "68b78753",
   "metadata": {},
   "outputs": [
    {
     "data": {
      "application/vnd.jupyter.widget-view+json": {
       "model_id": "38eba56fc1f5489bbe87a22daee5e164",
       "version_major": 2,
       "version_minor": 0
      },
      "text/plain": [
       "IntProgress(value=0, description='Fitting models', max=20)"
      ]
     },
     "metadata": {},
     "output_type": "display_data"
    },
    {
     "name": "stderr",
     "output_type": "stream",
     "text": [
      "/home/tom/miniconda3/envs/octagon_analysis/lib/python3.12/site-packages/pymer4/models/Lmer.py:733: FutureWarning: DataFrame.applymap has been deprecated. Use DataFrame.map instead.\n",
      "  ran_vars = ran_vars.applymap(\n",
      "/home/tom/miniconda3/envs/octagon_analysis/lib/python3.12/site-packages/pymer4/models/Lmer.py:733: FutureWarning: DataFrame.applymap has been deprecated. Use DataFrame.map instead.\n",
      "  ran_vars = ran_vars.applymap(\n",
      "/home/tom/miniconda3/envs/octagon_analysis/lib/python3.12/site-packages/pymer4/models/Lmer.py:733: FutureWarning: DataFrame.applymap has been deprecated. Use DataFrame.map instead.\n",
      "  ran_vars = ran_vars.applymap(\n",
      "/home/tom/miniconda3/envs/octagon_analysis/lib/python3.12/site-packages/pymer4/models/Lmer.py:733: FutureWarning: DataFrame.applymap has been deprecated. Use DataFrame.map instead.\n",
      "  ran_vars = ran_vars.applymap(\n",
      "/home/tom/miniconda3/envs/octagon_analysis/lib/python3.12/site-packages/pymer4/models/Lmer.py:733: FutureWarning: DataFrame.applymap has been deprecated. Use DataFrame.map instead.\n",
      "  ran_vars = ran_vars.applymap(\n",
      "/home/tom/miniconda3/envs/octagon_analysis/lib/python3.12/site-packages/pymer4/models/Lmer.py:733: FutureWarning: DataFrame.applymap has been deprecated. Use DataFrame.map instead.\n",
      "  ran_vars = ran_vars.applymap(\n",
      "/home/tom/miniconda3/envs/octagon_analysis/lib/python3.12/site-packages/pymer4/models/Lmer.py:733: FutureWarning: DataFrame.applymap has been deprecated. Use DataFrame.map instead.\n",
      "  ran_vars = ran_vars.applymap(\n",
      "/home/tom/miniconda3/envs/octagon_analysis/lib/python3.12/site-packages/pymer4/models/Lmer.py:733: FutureWarning: DataFrame.applymap has been deprecated. Use DataFrame.map instead.\n",
      "  ran_vars = ran_vars.applymap(\n",
      "/home/tom/miniconda3/envs/octagon_analysis/lib/python3.12/site-packages/pymer4/models/Lmer.py:733: FutureWarning: DataFrame.applymap has been deprecated. Use DataFrame.map instead.\n",
      "  ran_vars = ran_vars.applymap(\n",
      "/home/tom/miniconda3/envs/octagon_analysis/lib/python3.12/site-packages/pymer4/models/Lmer.py:733: FutureWarning: DataFrame.applymap has been deprecated. Use DataFrame.map instead.\n",
      "  ran_vars = ran_vars.applymap(\n",
      "/home/tom/miniconda3/envs/octagon_analysis/lib/python3.12/site-packages/pymer4/models/Lmer.py:733: FutureWarning: DataFrame.applymap has been deprecated. Use DataFrame.map instead.\n",
      "  ran_vars = ran_vars.applymap(\n",
      "/home/tom/miniconda3/envs/octagon_analysis/lib/python3.12/site-packages/pymer4/models/Lmer.py:733: FutureWarning: DataFrame.applymap has been deprecated. Use DataFrame.map instead.\n",
      "  ran_vars = ran_vars.applymap(\n",
      "/home/tom/miniconda3/envs/octagon_analysis/lib/python3.12/site-packages/pymer4/models/Lmer.py:733: FutureWarning: DataFrame.applymap has been deprecated. Use DataFrame.map instead.\n",
      "  ran_vars = ran_vars.applymap(\n",
      "/home/tom/miniconda3/envs/octagon_analysis/lib/python3.12/site-packages/pymer4/models/Lmer.py:733: FutureWarning: DataFrame.applymap has been deprecated. Use DataFrame.map instead.\n",
      "  ran_vars = ran_vars.applymap(\n",
      "/home/tom/miniconda3/envs/octagon_analysis/lib/python3.12/site-packages/pymer4/models/Lmer.py:733: FutureWarning: DataFrame.applymap has been deprecated. Use DataFrame.map instead.\n",
      "  ran_vars = ran_vars.applymap(\n",
      "/home/tom/miniconda3/envs/octagon_analysis/lib/python3.12/site-packages/pymer4/models/Lmer.py:733: FutureWarning: DataFrame.applymap has been deprecated. Use DataFrame.map instead.\n",
      "  ran_vars = ran_vars.applymap(\n",
      "/home/tom/miniconda3/envs/octagon_analysis/lib/python3.12/site-packages/pymer4/models/Lmer.py:733: FutureWarning: DataFrame.applymap has been deprecated. Use DataFrame.map instead.\n",
      "  ran_vars = ran_vars.applymap(\n",
      "/home/tom/miniconda3/envs/octagon_analysis/lib/python3.12/site-packages/pymer4/models/Lmer.py:733: FutureWarning: DataFrame.applymap has been deprecated. Use DataFrame.map instead.\n",
      "  ran_vars = ran_vars.applymap(\n",
      "/home/tom/miniconda3/envs/octagon_analysis/lib/python3.12/site-packages/pymer4/models/Lmer.py:733: FutureWarning: DataFrame.applymap has been deprecated. Use DataFrame.map instead.\n",
      "  ran_vars = ran_vars.applymap(\n",
      "/home/tom/miniconda3/envs/octagon_analysis/lib/python3.12/site-packages/pymer4/models/Lmer.py:733: FutureWarning: DataFrame.applymap has been deprecated. Use DataFrame.map instead.\n",
      "  ran_vars = ran_vars.applymap(\n"
     ]
    },
    {
     "name": "stdout",
     "output_type": "stream",
     "text": [
      "Fold 0 average NLL: 0.2766952133024275\n",
      "Fold 1 average NLL: 0.29547240143271825\n",
      "Fold 2 average NLL: 0.35201941241464557\n",
      "Fold 3 average NLL: 0.3050664850705333\n",
      "Fold 4 average NLL: 0.27903473587078614\n",
      "Fold 5 average NLL: 0.32706753096465824\n",
      "Fold 6 average NLL: 0.33218722977686727\n",
      "Fold 7 average NLL: 0.2911329382949599\n",
      "Fold 8 average NLL: 0.291881688905881\n",
      "Fold 9 average NLL: 0.33534334032056234\n",
      "Fold 10 average NLL: 0.2609944338529338\n",
      "Fold 11 average NLL: 0.31158630675134713\n",
      "Fold 12 average NLL: 0.3202526104138483\n",
      "Fold 13 average NLL: 0.3755990009843784\n",
      "Fold 14 average NLL: 0.26480240115494963\n",
      "Fold 15 average NLL: 0.286986946589787\n",
      "Fold 16 average NLL: 0.2842538365962073\n",
      "Fold 17 average NLL: 0.3213138941841158\n",
      "Fold 18 average NLL: 0.3050602679679428\n",
      "Fold 19 average NLL: 0.3462938016127225\n",
      "20-fold CV data saved to:  ../data/k_fold_CV/20-fold-CV_results_solo_randomintercepts_onlydistance.pickle\n"
     ]
    }
   ],
   "source": [
    "model_formula = 'ChooseHigh ~ 1 + D2H + D2L + (1|GlmPlayerID)'\n",
    "(model_avg_nll, models,\n",
    "predictions, fold_avg_nlls) = run_cross_validation(split_dataframes['glm_df_solo'], model_formula,\n",
    "                                                    \"solo_randomintercepts_onlydistance\",\n",
    "                                                      save_results=True)"
   ]
  },
  {
   "cell_type": "code",
   "execution_count": 18,
   "id": "685af237",
   "metadata": {},
   "outputs": [],
   "source": [
    "# model_formula = 'ChooseHigh ~ 1 + FirstSeenWall + (1|GlmPlayerID)'\n",
    "# (model_avg_nll, models,\n",
    "#   predictions, fold_avg_nlls) = run_cross_validation(split_dataframes['glm_df_solo'], model_formula,\n",
    "#                                                     \"solo_randomintercepts_firstseenonly\",\n",
    "#                                                       save_results=True)"
   ]
  },
  {
   "cell_type": "code",
   "execution_count": 19,
   "id": "30b03bbc",
   "metadata": {},
   "outputs": [],
   "source": [
    "# model_formula = 'ChooseHigh ~ 1 + WallSep + FirstSeenWall + (1|GlmPlayerID)'\n",
    "# (model_avg_nll, models,\n",
    "#   predictions, fold_avg_nlls) = run_cross_validation(split_dataframes['glm_df_solo'], model_formula,\n",
    "#                                                     \"solo_randomintercepts_wallsep_firstseen\",\n",
    "#                                                       save_results=True)"
   ]
  },
  {
   "cell_type": "code",
   "execution_count": 20,
   "id": "2264e147",
   "metadata": {},
   "outputs": [
    {
     "data": {
      "application/vnd.jupyter.widget-view+json": {
       "model_id": "22643948ef6445ed9110d1c77b86a257",
       "version_major": 2,
       "version_minor": 0
      },
      "text/plain": [
       "IntProgress(value=0, description='Fitting models', max=20)"
      ]
     },
     "metadata": {},
     "output_type": "display_data"
    },
    {
     "name": "stderr",
     "output_type": "stream",
     "text": [
      "/home/tom/miniconda3/envs/octagon_analysis/lib/python3.12/site-packages/pymer4/models/Lmer.py:733: FutureWarning: DataFrame.applymap has been deprecated. Use DataFrame.map instead.\n",
      "  ran_vars = ran_vars.applymap(\n",
      "/home/tom/miniconda3/envs/octagon_analysis/lib/python3.12/site-packages/pymer4/models/Lmer.py:733: FutureWarning: DataFrame.applymap has been deprecated. Use DataFrame.map instead.\n",
      "  ran_vars = ran_vars.applymap(\n",
      "/home/tom/miniconda3/envs/octagon_analysis/lib/python3.12/site-packages/pymer4/models/Lmer.py:733: FutureWarning: DataFrame.applymap has been deprecated. Use DataFrame.map instead.\n",
      "  ran_vars = ran_vars.applymap(\n",
      "/home/tom/miniconda3/envs/octagon_analysis/lib/python3.12/site-packages/pymer4/models/Lmer.py:733: FutureWarning: DataFrame.applymap has been deprecated. Use DataFrame.map instead.\n",
      "  ran_vars = ran_vars.applymap(\n",
      "/home/tom/miniconda3/envs/octagon_analysis/lib/python3.12/site-packages/pymer4/models/Lmer.py:733: FutureWarning: DataFrame.applymap has been deprecated. Use DataFrame.map instead.\n",
      "  ran_vars = ran_vars.applymap(\n",
      "/home/tom/miniconda3/envs/octagon_analysis/lib/python3.12/site-packages/pymer4/models/Lmer.py:733: FutureWarning: DataFrame.applymap has been deprecated. Use DataFrame.map instead.\n",
      "  ran_vars = ran_vars.applymap(\n",
      "/home/tom/miniconda3/envs/octagon_analysis/lib/python3.12/site-packages/pymer4/models/Lmer.py:733: FutureWarning: DataFrame.applymap has been deprecated. Use DataFrame.map instead.\n",
      "  ran_vars = ran_vars.applymap(\n",
      "/home/tom/miniconda3/envs/octagon_analysis/lib/python3.12/site-packages/pymer4/models/Lmer.py:733: FutureWarning: DataFrame.applymap has been deprecated. Use DataFrame.map instead.\n",
      "  ran_vars = ran_vars.applymap(\n",
      "/home/tom/miniconda3/envs/octagon_analysis/lib/python3.12/site-packages/pymer4/models/Lmer.py:733: FutureWarning: DataFrame.applymap has been deprecated. Use DataFrame.map instead.\n",
      "  ran_vars = ran_vars.applymap(\n",
      "/home/tom/miniconda3/envs/octagon_analysis/lib/python3.12/site-packages/pymer4/models/Lmer.py:733: FutureWarning: DataFrame.applymap has been deprecated. Use DataFrame.map instead.\n",
      "  ran_vars = ran_vars.applymap(\n",
      "/home/tom/miniconda3/envs/octagon_analysis/lib/python3.12/site-packages/pymer4/models/Lmer.py:733: FutureWarning: DataFrame.applymap has been deprecated. Use DataFrame.map instead.\n",
      "  ran_vars = ran_vars.applymap(\n",
      "/home/tom/miniconda3/envs/octagon_analysis/lib/python3.12/site-packages/pymer4/models/Lmer.py:733: FutureWarning: DataFrame.applymap has been deprecated. Use DataFrame.map instead.\n",
      "  ran_vars = ran_vars.applymap(\n",
      "/home/tom/miniconda3/envs/octagon_analysis/lib/python3.12/site-packages/pymer4/models/Lmer.py:733: FutureWarning: DataFrame.applymap has been deprecated. Use DataFrame.map instead.\n",
      "  ran_vars = ran_vars.applymap(\n",
      "/home/tom/miniconda3/envs/octagon_analysis/lib/python3.12/site-packages/pymer4/models/Lmer.py:733: FutureWarning: DataFrame.applymap has been deprecated. Use DataFrame.map instead.\n",
      "  ran_vars = ran_vars.applymap(\n",
      "/home/tom/miniconda3/envs/octagon_analysis/lib/python3.12/site-packages/pymer4/models/Lmer.py:733: FutureWarning: DataFrame.applymap has been deprecated. Use DataFrame.map instead.\n",
      "  ran_vars = ran_vars.applymap(\n",
      "/home/tom/miniconda3/envs/octagon_analysis/lib/python3.12/site-packages/pymer4/models/Lmer.py:733: FutureWarning: DataFrame.applymap has been deprecated. Use DataFrame.map instead.\n",
      "  ran_vars = ran_vars.applymap(\n",
      "/home/tom/miniconda3/envs/octagon_analysis/lib/python3.12/site-packages/pymer4/models/Lmer.py:733: FutureWarning: DataFrame.applymap has been deprecated. Use DataFrame.map instead.\n",
      "  ran_vars = ran_vars.applymap(\n",
      "/home/tom/miniconda3/envs/octagon_analysis/lib/python3.12/site-packages/pymer4/models/Lmer.py:733: FutureWarning: DataFrame.applymap has been deprecated. Use DataFrame.map instead.\n",
      "  ran_vars = ran_vars.applymap(\n",
      "/home/tom/miniconda3/envs/octagon_analysis/lib/python3.12/site-packages/pymer4/models/Lmer.py:733: FutureWarning: DataFrame.applymap has been deprecated. Use DataFrame.map instead.\n",
      "  ran_vars = ran_vars.applymap(\n",
      "/home/tom/miniconda3/envs/octagon_analysis/lib/python3.12/site-packages/pymer4/models/Lmer.py:733: FutureWarning: DataFrame.applymap has been deprecated. Use DataFrame.map instead.\n",
      "  ran_vars = ran_vars.applymap(\n"
     ]
    },
    {
     "name": "stdout",
     "output_type": "stream",
     "text": [
      "Fold 0 average NLL: 0.2608716532217139\n",
      "Fold 1 average NLL: 0.28423615569857774\n",
      "Fold 2 average NLL: 0.3537761641730709\n",
      "Fold 3 average NLL: 0.2765300163988237\n",
      "Fold 4 average NLL: 0.268371630167254\n",
      "Fold 5 average NLL: 0.32541908624876065\n",
      "Fold 6 average NLL: 0.3232770412527495\n",
      "Fold 7 average NLL: 0.2828335964917251\n",
      "Fold 8 average NLL: 0.2721974469167486\n",
      "Fold 9 average NLL: 0.316280123888434\n",
      "Fold 10 average NLL: 0.2647775482642371\n",
      "Fold 11 average NLL: 0.3004453462536089\n",
      "Fold 12 average NLL: 0.2994898980519323\n",
      "Fold 13 average NLL: 0.3555282746523882\n",
      "Fold 14 average NLL: 0.2575248079485923\n",
      "Fold 15 average NLL: 0.26859325569930953\n",
      "Fold 16 average NLL: 0.2846100754785221\n",
      "Fold 17 average NLL: 0.30559057058977246\n",
      "Fold 18 average NLL: 0.29440382299777795\n",
      "Fold 19 average NLL: 0.3404700918331636\n",
      "20-fold CV data saved to:  ../data/k_fold_CV/20-fold-CV_results_solo_randomintercepts_distancepluswallsep.pickle\n"
     ]
    }
   ],
   "source": [
    "model_formula = 'ChooseHigh ~ 1 + D2H + D2L + WallSep + (1|GlmPlayerID)'\n",
    "(model_avg_nll, models,\n",
    "  predictions, fold_avg_nlls) = run_cross_validation(split_dataframes['glm_df_solo'], model_formula,\n",
    "                                                    \"solo_randomintercepts_distancepluswallsep\",\n",
    "                                                      save_results=True)"
   ]
  },
  {
   "cell_type": "code",
   "execution_count": 21,
   "id": "43fefcae",
   "metadata": {},
   "outputs": [
    {
     "data": {
      "application/vnd.jupyter.widget-view+json": {
       "model_id": "dc18f4223f164df6ac94d84c7fa524d6",
       "version_major": 2,
       "version_minor": 0
      },
      "text/plain": [
       "IntProgress(value=0, description='Fitting models', max=20)"
      ]
     },
     "metadata": {},
     "output_type": "display_data"
    },
    {
     "name": "stderr",
     "output_type": "stream",
     "text": [
      "/home/tom/miniconda3/envs/octagon_analysis/lib/python3.12/site-packages/pymer4/models/Lmer.py:733: FutureWarning: DataFrame.applymap has been deprecated. Use DataFrame.map instead.\n",
      "  ran_vars = ran_vars.applymap(\n",
      "/home/tom/miniconda3/envs/octagon_analysis/lib/python3.12/site-packages/pymer4/models/Lmer.py:733: FutureWarning: DataFrame.applymap has been deprecated. Use DataFrame.map instead.\n",
      "  ran_vars = ran_vars.applymap(\n",
      "/home/tom/miniconda3/envs/octagon_analysis/lib/python3.12/site-packages/pymer4/models/Lmer.py:733: FutureWarning: DataFrame.applymap has been deprecated. Use DataFrame.map instead.\n",
      "  ran_vars = ran_vars.applymap(\n",
      "/home/tom/miniconda3/envs/octagon_analysis/lib/python3.12/site-packages/pymer4/models/Lmer.py:733: FutureWarning: DataFrame.applymap has been deprecated. Use DataFrame.map instead.\n",
      "  ran_vars = ran_vars.applymap(\n",
      "/home/tom/miniconda3/envs/octagon_analysis/lib/python3.12/site-packages/pymer4/models/Lmer.py:733: FutureWarning: DataFrame.applymap has been deprecated. Use DataFrame.map instead.\n",
      "  ran_vars = ran_vars.applymap(\n",
      "/home/tom/miniconda3/envs/octagon_analysis/lib/python3.12/site-packages/pymer4/models/Lmer.py:733: FutureWarning: DataFrame.applymap has been deprecated. Use DataFrame.map instead.\n",
      "  ran_vars = ran_vars.applymap(\n",
      "/home/tom/miniconda3/envs/octagon_analysis/lib/python3.12/site-packages/pymer4/models/Lmer.py:733: FutureWarning: DataFrame.applymap has been deprecated. Use DataFrame.map instead.\n",
      "  ran_vars = ran_vars.applymap(\n",
      "/home/tom/miniconda3/envs/octagon_analysis/lib/python3.12/site-packages/pymer4/models/Lmer.py:733: FutureWarning: DataFrame.applymap has been deprecated. Use DataFrame.map instead.\n",
      "  ran_vars = ran_vars.applymap(\n",
      "/home/tom/miniconda3/envs/octagon_analysis/lib/python3.12/site-packages/pymer4/models/Lmer.py:733: FutureWarning: DataFrame.applymap has been deprecated. Use DataFrame.map instead.\n",
      "  ran_vars = ran_vars.applymap(\n",
      "/home/tom/miniconda3/envs/octagon_analysis/lib/python3.12/site-packages/pymer4/models/Lmer.py:733: FutureWarning: DataFrame.applymap has been deprecated. Use DataFrame.map instead.\n",
      "  ran_vars = ran_vars.applymap(\n",
      "/home/tom/miniconda3/envs/octagon_analysis/lib/python3.12/site-packages/pymer4/models/Lmer.py:733: FutureWarning: DataFrame.applymap has been deprecated. Use DataFrame.map instead.\n",
      "  ran_vars = ran_vars.applymap(\n",
      "/home/tom/miniconda3/envs/octagon_analysis/lib/python3.12/site-packages/pymer4/models/Lmer.py:733: FutureWarning: DataFrame.applymap has been deprecated. Use DataFrame.map instead.\n",
      "  ran_vars = ran_vars.applymap(\n",
      "/home/tom/miniconda3/envs/octagon_analysis/lib/python3.12/site-packages/pymer4/models/Lmer.py:733: FutureWarning: DataFrame.applymap has been deprecated. Use DataFrame.map instead.\n",
      "  ran_vars = ran_vars.applymap(\n",
      "/home/tom/miniconda3/envs/octagon_analysis/lib/python3.12/site-packages/pymer4/models/Lmer.py:733: FutureWarning: DataFrame.applymap has been deprecated. Use DataFrame.map instead.\n",
      "  ran_vars = ran_vars.applymap(\n",
      "/home/tom/miniconda3/envs/octagon_analysis/lib/python3.12/site-packages/pymer4/models/Lmer.py:733: FutureWarning: DataFrame.applymap has been deprecated. Use DataFrame.map instead.\n",
      "  ran_vars = ran_vars.applymap(\n",
      "/home/tom/miniconda3/envs/octagon_analysis/lib/python3.12/site-packages/pymer4/models/Lmer.py:733: FutureWarning: DataFrame.applymap has been deprecated. Use DataFrame.map instead.\n",
      "  ran_vars = ran_vars.applymap(\n",
      "/home/tom/miniconda3/envs/octagon_analysis/lib/python3.12/site-packages/pymer4/models/Lmer.py:733: FutureWarning: DataFrame.applymap has been deprecated. Use DataFrame.map instead.\n",
      "  ran_vars = ran_vars.applymap(\n",
      "/home/tom/miniconda3/envs/octagon_analysis/lib/python3.12/site-packages/pymer4/models/Lmer.py:733: FutureWarning: DataFrame.applymap has been deprecated. Use DataFrame.map instead.\n",
      "  ran_vars = ran_vars.applymap(\n",
      "/home/tom/miniconda3/envs/octagon_analysis/lib/python3.12/site-packages/pymer4/models/Lmer.py:733: FutureWarning: DataFrame.applymap has been deprecated. Use DataFrame.map instead.\n",
      "  ran_vars = ran_vars.applymap(\n",
      "/home/tom/miniconda3/envs/octagon_analysis/lib/python3.12/site-packages/pymer4/models/Lmer.py:733: FutureWarning: DataFrame.applymap has been deprecated. Use DataFrame.map instead.\n",
      "  ran_vars = ran_vars.applymap(\n"
     ]
    },
    {
     "name": "stdout",
     "output_type": "stream",
     "text": [
      "Fold 0 average NLL: 0.2028514652524724\n",
      "Fold 1 average NLL: 0.22639336248567762\n",
      "Fold 2 average NLL: 0.3175652338695547\n",
      "Fold 3 average NLL: 0.2511471480833932\n",
      "Fold 4 average NLL: 0.23648463508359766\n",
      "Fold 5 average NLL: 0.2429810302280435\n",
      "Fold 6 average NLL: 0.26330095099959133\n",
      "Fold 7 average NLL: 0.21977558989693743\n",
      "Fold 8 average NLL: 0.2418839827183015\n",
      "Fold 9 average NLL: 0.23474079654119584\n",
      "Fold 10 average NLL: 0.22813391568421867\n",
      "Fold 11 average NLL: 0.2381150325607726\n",
      "Fold 12 average NLL: 0.22334582116974142\n",
      "Fold 13 average NLL: 0.2786534588603849\n",
      "Fold 14 average NLL: 0.20793963417313363\n",
      "Fold 15 average NLL: 0.2254346650344118\n",
      "Fold 16 average NLL: 0.21139702041152308\n",
      "Fold 17 average NLL: 0.20681982968963997\n",
      "Fold 18 average NLL: 0.2085992434064052\n",
      "Fold 19 average NLL: 0.2734534861790109\n",
      "20-fold CV data saved to:  ../data/k_fold_CV/20-fold-CV_results_solo_randomintercepts.pickle\n"
     ]
    }
   ],
   "source": [
    "model_formula = 'ChooseHigh ~ 1 + D2H + D2L + FirstSeenWall + WallSep + (1|GlmPlayerID)'\n",
    "(model_avg_nll, models,\n",
    "  predictions, fold_avg_nlls) = run_cross_validation(split_dataframes['glm_df_solo'], model_formula,\n",
    "                                                    \"solo_randomintercepts\",\n",
    "                                                      save_results=True)"
   ]
  },
  {
   "cell_type": "code",
   "execution_count": 22,
   "id": "75c410e6",
   "metadata": {},
   "outputs": [],
   "source": [
    "# model_formula = 'ChooseHigh ~ 1 + D2H + D2L + FirstSeenWall + (1|GlmPlayerID)'\n",
    "# (model_avg_nll, models,\n",
    "#   predictions, fold_avg_nlls) = run_cross_validation(split_dataframes['glm_df_solo'], model_formula,\n",
    "#                                                     \"solo_randomintercepts_distanceplusfirstseen\",\n",
    "#                                                       save_results=True)"
   ]
  },
  {
   "cell_type": "code",
   "execution_count": 23,
   "id": "9fdf0a55",
   "metadata": {},
   "outputs": [
    {
     "data": {
      "application/vnd.jupyter.widget-view+json": {
       "model_id": "ebc7e39072464bcb9f4412e66b27fbb8",
       "version_major": 2,
       "version_minor": 0
      },
      "text/plain": [
       "IntProgress(value=0, description='Fitting models', max=20)"
      ]
     },
     "metadata": {},
     "output_type": "display_data"
    },
    {
     "name": "stderr",
     "output_type": "stream",
     "text": [
      "/home/tom/miniconda3/envs/octagon_analysis/lib/python3.12/site-packages/pymer4/models/Lmer.py:733: FutureWarning: DataFrame.applymap has been deprecated. Use DataFrame.map instead.\n",
      "  ran_vars = ran_vars.applymap(\n",
      "/home/tom/miniconda3/envs/octagon_analysis/lib/python3.12/site-packages/pymer4/models/Lmer.py:733: FutureWarning: DataFrame.applymap has been deprecated. Use DataFrame.map instead.\n",
      "  ran_vars = ran_vars.applymap(\n",
      "/home/tom/miniconda3/envs/octagon_analysis/lib/python3.12/site-packages/pymer4/models/Lmer.py:733: FutureWarning: DataFrame.applymap has been deprecated. Use DataFrame.map instead.\n",
      "  ran_vars = ran_vars.applymap(\n",
      "/home/tom/miniconda3/envs/octagon_analysis/lib/python3.12/site-packages/pymer4/models/Lmer.py:733: FutureWarning: DataFrame.applymap has been deprecated. Use DataFrame.map instead.\n",
      "  ran_vars = ran_vars.applymap(\n",
      "/home/tom/miniconda3/envs/octagon_analysis/lib/python3.12/site-packages/pymer4/models/Lmer.py:733: FutureWarning: DataFrame.applymap has been deprecated. Use DataFrame.map instead.\n",
      "  ran_vars = ran_vars.applymap(\n",
      "/home/tom/miniconda3/envs/octagon_analysis/lib/python3.12/site-packages/pymer4/models/Lmer.py:733: FutureWarning: DataFrame.applymap has been deprecated. Use DataFrame.map instead.\n",
      "  ran_vars = ran_vars.applymap(\n",
      "/home/tom/miniconda3/envs/octagon_analysis/lib/python3.12/site-packages/pymer4/models/Lmer.py:733: FutureWarning: DataFrame.applymap has been deprecated. Use DataFrame.map instead.\n",
      "  ran_vars = ran_vars.applymap(\n",
      "/home/tom/miniconda3/envs/octagon_analysis/lib/python3.12/site-packages/pymer4/models/Lmer.py:733: FutureWarning: DataFrame.applymap has been deprecated. Use DataFrame.map instead.\n",
      "  ran_vars = ran_vars.applymap(\n",
      "/home/tom/miniconda3/envs/octagon_analysis/lib/python3.12/site-packages/pymer4/models/Lmer.py:733: FutureWarning: DataFrame.applymap has been deprecated. Use DataFrame.map instead.\n",
      "  ran_vars = ran_vars.applymap(\n",
      "/home/tom/miniconda3/envs/octagon_analysis/lib/python3.12/site-packages/pymer4/models/Lmer.py:733: FutureWarning: DataFrame.applymap has been deprecated. Use DataFrame.map instead.\n",
      "  ran_vars = ran_vars.applymap(\n",
      "/home/tom/miniconda3/envs/octagon_analysis/lib/python3.12/site-packages/pymer4/models/Lmer.py:733: FutureWarning: DataFrame.applymap has been deprecated. Use DataFrame.map instead.\n",
      "  ran_vars = ran_vars.applymap(\n",
      "/home/tom/miniconda3/envs/octagon_analysis/lib/python3.12/site-packages/pymer4/models/Lmer.py:733: FutureWarning: DataFrame.applymap has been deprecated. Use DataFrame.map instead.\n",
      "  ran_vars = ran_vars.applymap(\n",
      "/home/tom/miniconda3/envs/octagon_analysis/lib/python3.12/site-packages/pymer4/models/Lmer.py:733: FutureWarning: DataFrame.applymap has been deprecated. Use DataFrame.map instead.\n",
      "  ran_vars = ran_vars.applymap(\n",
      "/home/tom/miniconda3/envs/octagon_analysis/lib/python3.12/site-packages/pymer4/models/Lmer.py:733: FutureWarning: DataFrame.applymap has been deprecated. Use DataFrame.map instead.\n",
      "  ran_vars = ran_vars.applymap(\n",
      "/home/tom/miniconda3/envs/octagon_analysis/lib/python3.12/site-packages/pymer4/models/Lmer.py:733: FutureWarning: DataFrame.applymap has been deprecated. Use DataFrame.map instead.\n",
      "  ran_vars = ran_vars.applymap(\n",
      "/home/tom/miniconda3/envs/octagon_analysis/lib/python3.12/site-packages/pymer4/models/Lmer.py:733: FutureWarning: DataFrame.applymap has been deprecated. Use DataFrame.map instead.\n",
      "  ran_vars = ran_vars.applymap(\n",
      "/home/tom/miniconda3/envs/octagon_analysis/lib/python3.12/site-packages/pymer4/models/Lmer.py:733: FutureWarning: DataFrame.applymap has been deprecated. Use DataFrame.map instead.\n",
      "  ran_vars = ran_vars.applymap(\n",
      "/home/tom/miniconda3/envs/octagon_analysis/lib/python3.12/site-packages/pymer4/models/Lmer.py:733: FutureWarning: DataFrame.applymap has been deprecated. Use DataFrame.map instead.\n",
      "  ran_vars = ran_vars.applymap(\n",
      "/home/tom/miniconda3/envs/octagon_analysis/lib/python3.12/site-packages/pymer4/models/Lmer.py:733: FutureWarning: DataFrame.applymap has been deprecated. Use DataFrame.map instead.\n",
      "  ran_vars = ran_vars.applymap(\n",
      "/home/tom/miniconda3/envs/octagon_analysis/lib/python3.12/site-packages/pymer4/models/Lmer.py:733: FutureWarning: DataFrame.applymap has been deprecated. Use DataFrame.map instead.\n",
      "  ran_vars = ran_vars.applymap(\n"
     ]
    },
    {
     "name": "stdout",
     "output_type": "stream",
     "text": [
      "Fold 0 average NLL: 0.20014338210088178\n",
      "Fold 1 average NLL: 0.22826607915380842\n",
      "Fold 2 average NLL: 0.30784508589420334\n",
      "Fold 3 average NLL: 0.24507121754761882\n",
      "Fold 4 average NLL: 0.24380197133039772\n",
      "Fold 5 average NLL: 0.23714140504291556\n",
      "Fold 6 average NLL: 0.26320417954844183\n",
      "Fold 7 average NLL: 0.22047372125783424\n",
      "Fold 8 average NLL: 0.2490422880612596\n",
      "Fold 9 average NLL: 0.2339755197248215\n",
      "Fold 10 average NLL: 0.2226618990053057\n",
      "Fold 11 average NLL: 0.23574990613721608\n",
      "Fold 12 average NLL: 0.22613322693950336\n",
      "Fold 13 average NLL: 0.2790930080832302\n",
      "Fold 14 average NLL: 0.20224940817251963\n",
      "Fold 15 average NLL: 0.22382585923474965\n",
      "Fold 16 average NLL: 0.21301978349971998\n",
      "Fold 17 average NLL: 0.2053446185693556\n",
      "Fold 18 average NLL: 0.20170337557385334\n",
      "Fold 19 average NLL: 0.2679330262080944\n",
      "20-fold CV data saved to:  ../data/k_fold_CV/20-fold-CV_results_solo_randomintercepts_distancesinteraction.pickle\n"
     ]
    }
   ],
   "source": [
    "model_formula = 'ChooseHigh ~ 1 + D2H + D2L + FirstSeenWall + WallSep + D2H:FirstSeenWall + D2L:FirstSeenWall + (1|GlmPlayerID)'\n",
    "(model_avg_nll, models,\n",
    "  predictions, fold_avg_nlls) = run_cross_validation(split_dataframes['glm_df_solo'], model_formula,\n",
    "                                                    \"solo_randomintercepts_distancesinteraction\",\n",
    "                                                      save_results=True)"
   ]
  },
  {
   "cell_type": "code",
   "execution_count": 24,
   "id": "395966be",
   "metadata": {},
   "outputs": [
    {
     "data": {
      "application/vnd.jupyter.widget-view+json": {
       "model_id": "a062872c70ef41e98ab137f70ea82d64",
       "version_major": 2,
       "version_minor": 0
      },
      "text/plain": [
       "IntProgress(value=0, description='Fitting models', max=20)"
      ]
     },
     "metadata": {},
     "output_type": "display_data"
    },
    {
     "name": "stderr",
     "output_type": "stream",
     "text": [
      "/home/tom/miniconda3/envs/octagon_analysis/lib/python3.12/site-packages/pymer4/models/Lmer.py:733: FutureWarning: DataFrame.applymap has been deprecated. Use DataFrame.map instead.\n",
      "  ran_vars = ran_vars.applymap(\n",
      "/home/tom/miniconda3/envs/octagon_analysis/lib/python3.12/site-packages/pymer4/models/Lmer.py:733: FutureWarning: DataFrame.applymap has been deprecated. Use DataFrame.map instead.\n",
      "  ran_vars = ran_vars.applymap(\n",
      "/home/tom/miniconda3/envs/octagon_analysis/lib/python3.12/site-packages/pymer4/models/Lmer.py:733: FutureWarning: DataFrame.applymap has been deprecated. Use DataFrame.map instead.\n",
      "  ran_vars = ran_vars.applymap(\n",
      "/home/tom/miniconda3/envs/octagon_analysis/lib/python3.12/site-packages/pymer4/models/Lmer.py:733: FutureWarning: DataFrame.applymap has been deprecated. Use DataFrame.map instead.\n",
      "  ran_vars = ran_vars.applymap(\n",
      "/home/tom/miniconda3/envs/octagon_analysis/lib/python3.12/site-packages/pymer4/models/Lmer.py:733: FutureWarning: DataFrame.applymap has been deprecated. Use DataFrame.map instead.\n",
      "  ran_vars = ran_vars.applymap(\n",
      "/home/tom/miniconda3/envs/octagon_analysis/lib/python3.12/site-packages/pymer4/models/Lmer.py:733: FutureWarning: DataFrame.applymap has been deprecated. Use DataFrame.map instead.\n",
      "  ran_vars = ran_vars.applymap(\n",
      "/home/tom/miniconda3/envs/octagon_analysis/lib/python3.12/site-packages/pymer4/models/Lmer.py:733: FutureWarning: DataFrame.applymap has been deprecated. Use DataFrame.map instead.\n",
      "  ran_vars = ran_vars.applymap(\n",
      "/home/tom/miniconda3/envs/octagon_analysis/lib/python3.12/site-packages/pymer4/models/Lmer.py:733: FutureWarning: DataFrame.applymap has been deprecated. Use DataFrame.map instead.\n",
      "  ran_vars = ran_vars.applymap(\n",
      "/home/tom/miniconda3/envs/octagon_analysis/lib/python3.12/site-packages/pymer4/models/Lmer.py:733: FutureWarning: DataFrame.applymap has been deprecated. Use DataFrame.map instead.\n",
      "  ran_vars = ran_vars.applymap(\n",
      "/home/tom/miniconda3/envs/octagon_analysis/lib/python3.12/site-packages/pymer4/models/Lmer.py:733: FutureWarning: DataFrame.applymap has been deprecated. Use DataFrame.map instead.\n",
      "  ran_vars = ran_vars.applymap(\n",
      "/home/tom/miniconda3/envs/octagon_analysis/lib/python3.12/site-packages/pymer4/models/Lmer.py:733: FutureWarning: DataFrame.applymap has been deprecated. Use DataFrame.map instead.\n",
      "  ran_vars = ran_vars.applymap(\n",
      "/home/tom/miniconda3/envs/octagon_analysis/lib/python3.12/site-packages/pymer4/models/Lmer.py:733: FutureWarning: DataFrame.applymap has been deprecated. Use DataFrame.map instead.\n",
      "  ran_vars = ran_vars.applymap(\n",
      "/home/tom/miniconda3/envs/octagon_analysis/lib/python3.12/site-packages/pymer4/models/Lmer.py:733: FutureWarning: DataFrame.applymap has been deprecated. Use DataFrame.map instead.\n",
      "  ran_vars = ran_vars.applymap(\n",
      "/home/tom/miniconda3/envs/octagon_analysis/lib/python3.12/site-packages/pymer4/models/Lmer.py:733: FutureWarning: DataFrame.applymap has been deprecated. Use DataFrame.map instead.\n",
      "  ran_vars = ran_vars.applymap(\n",
      "/home/tom/miniconda3/envs/octagon_analysis/lib/python3.12/site-packages/pymer4/models/Lmer.py:733: FutureWarning: DataFrame.applymap has been deprecated. Use DataFrame.map instead.\n",
      "  ran_vars = ran_vars.applymap(\n",
      "/home/tom/miniconda3/envs/octagon_analysis/lib/python3.12/site-packages/pymer4/models/Lmer.py:733: FutureWarning: DataFrame.applymap has been deprecated. Use DataFrame.map instead.\n",
      "  ran_vars = ran_vars.applymap(\n",
      "/home/tom/miniconda3/envs/octagon_analysis/lib/python3.12/site-packages/pymer4/models/Lmer.py:733: FutureWarning: DataFrame.applymap has been deprecated. Use DataFrame.map instead.\n",
      "  ran_vars = ran_vars.applymap(\n",
      "/home/tom/miniconda3/envs/octagon_analysis/lib/python3.12/site-packages/pymer4/models/Lmer.py:733: FutureWarning: DataFrame.applymap has been deprecated. Use DataFrame.map instead.\n",
      "  ran_vars = ran_vars.applymap(\n",
      "/home/tom/miniconda3/envs/octagon_analysis/lib/python3.12/site-packages/pymer4/models/Lmer.py:733: FutureWarning: DataFrame.applymap has been deprecated. Use DataFrame.map instead.\n",
      "  ran_vars = ran_vars.applymap(\n",
      "/home/tom/miniconda3/envs/octagon_analysis/lib/python3.12/site-packages/pymer4/models/Lmer.py:733: FutureWarning: DataFrame.applymap has been deprecated. Use DataFrame.map instead.\n",
      "  ran_vars = ran_vars.applymap(\n"
     ]
    },
    {
     "name": "stdout",
     "output_type": "stream",
     "text": [
      "Fold 0 average NLL: 0.19983984801028123\n",
      "Fold 1 average NLL: 0.22225474962594832\n",
      "Fold 2 average NLL: 0.29599880530204975\n",
      "Fold 3 average NLL: 0.23961011967606782\n",
      "Fold 4 average NLL: 0.24788890002978067\n",
      "Fold 5 average NLL: 0.22847044968944616\n",
      "Fold 6 average NLL: 0.2512963368373837\n",
      "Fold 7 average NLL: 0.20964622782961265\n",
      "Fold 8 average NLL: 0.24624720612164097\n",
      "Fold 9 average NLL: 0.2303474004048569\n",
      "Fold 10 average NLL: 0.21832877693643668\n",
      "Fold 11 average NLL: 0.2309651116179803\n",
      "Fold 12 average NLL: 0.22073586117716654\n",
      "Fold 13 average NLL: 0.28777764011756846\n",
      "Fold 14 average NLL: 0.19779428512453878\n",
      "Fold 15 average NLL: 0.22797894000434438\n",
      "Fold 16 average NLL: 0.21018117645372303\n",
      "Fold 17 average NLL: 0.20596021564579636\n",
      "Fold 18 average NLL: 0.19720898426324812\n",
      "Fold 19 average NLL: 0.2669010004274252\n",
      "20-fold CV data saved to:  ../data/k_fold_CV/20-fold-CV_results_solo_randomintercepts_distancesandwallsepinteraction.pickle\n"
     ]
    }
   ],
   "source": [
    "model_formula = 'ChooseHigh ~ 1 + D2H + D2L + FirstSeenWall + WallSep + D2H:FirstSeenWall + D2L:FirstSeenWall + FirstSeenWall:WallSep + (1|GlmPlayerID)'\n",
    "(nllss, models,\n",
    "  predictions, likelihoods) = run_cross_validation(split_dataframes['glm_df_solo'], model_formula,\n",
    "                                                    \"solo_randomintercepts_distancesandwallsepinteraction\",\n",
    "                                                      save_results=True)"
   ]
  },
  {
   "cell_type": "markdown",
   "id": "7729d2a8",
   "metadata": {},
   "source": [
    "### Social models"
   ]
  },
  {
   "cell_type": "code",
   "execution_count": null,
   "id": "20780dde",
   "metadata": {},
   "outputs": [],
   "source": [
    "model_formula = 'ChooseHigh ~ 1 + D2H + D2L + FirstSeenWall + WallSep + (1|GlmPlayerID)'\n",
    "(model_avg_nll, models,\n",
    "  predictions, fold_avg_nlls) = run_cross_validation(split_dataframes['glm_df_social'], model_formula,\n",
    "                                                    \"social_randomintercepts_no-opponentvisible\",\n",
    "                                                      save_results=True)"
   ]
  },
  {
   "cell_type": "code",
   "execution_count": null,
   "id": "bee4a86c",
   "metadata": {},
   "outputs": [],
   "source": [
    "model_formula = 'ChooseHigh ~ 1 + D2H + D2L + FirstSeenWall + WallSep + OpponentVisible + (1|GlmPlayerID)'\n",
    "\n",
    "(model_avg_nll, models,\n",
    "  predictions, fold_avg_nlls) = run_cross_validation(split_dataframes['glm_df_social'], model_formula,\n",
    "                                                    \"social_randomintercepts_opponentvisible\",\n",
    "                                                      save_results=True)"
   ]
  },
  {
   "cell_type": "code",
   "execution_count": null,
   "id": "a2b988c1",
   "metadata": {},
   "outputs": [],
   "source": [
    "model_formula = 'ChooseHigh ~ 1 + D2H + D2L + FirstSeenWall + WallSep  + OpponentD2H' \\\n",
    "' + OpponentD2L + (1|GlmPlayerID)'\n",
    "\n",
    "(model_avg_nll, models,\n",
    "  predictions, fold_avg_nlls) = run_cross_validation(split_dataframes['glm_df_social'], model_formula,\n",
    "                                                    \"social_randomintercepts_no-opponentvisible_opponentdistance\",\n",
    "                                                      save_results=True)"
   ]
  },
  {
   "cell_type": "code",
   "execution_count": null,
   "id": "cbd96390",
   "metadata": {},
   "outputs": [],
   "source": [
    "model_formula = 'ChooseHigh ~ 1 + D2H + D2L + FirstSeenWall + WallSep  + OpponentD2H' \\\n",
    "' + OpponentD2L + OpponentFirstSeenWall + (1|GlmPlayerID)'\n",
    "\n",
    "(model_avg_nll, models,\n",
    "  predictions, fold_avg_nlls) = run_cross_validation(split_dataframes['glm_df_social'], model_formula,\n",
    "                                                    \"social_randomintercepts_no-opponentvisible_opponentdistance_opponentfirstseen\",\n",
    "                                                      save_results=True)"
   ]
  },
  {
   "cell_type": "code",
   "execution_count": null,
   "id": "96b8d45a",
   "metadata": {},
   "outputs": [],
   "source": [
    "model_formula = 'ChooseHigh ~ 1 + D2H + D2L + FirstSeenWall + WallSep  + OpponentD2H' \\\n",
    "' + OpponentD2L + OpponentFirstSeenWall + FirstSeenWall:WallSep + D2H:FirstSeenWall + D2L:FirstSeenWall + (1|GlmPlayerID)'\n",
    "\n",
    "(model_avg_nll, models,\n",
    "  predictions, fold_avg_nlls) = run_cross_validation(split_dataframes['glm_df_social'], model_formula,\n",
    "                                                    \"social_randomintercepts_no-opponentvisible_opponentdistance_opponentfirstseen_solointeractions\",\n",
    "                                                      save_results=True)"
   ]
  },
  {
   "cell_type": "code",
   "execution_count": null,
   "id": "a831724b",
   "metadata": {},
   "outputs": [],
   "source": [
    "model_formula = 'ChooseHigh ~ 1 + D2H + D2L + FirstSeenWall + WallSep  + OpponentD2H' \\\n",
    "' + OpponentD2L + OpponentFirstSeenWall + FirstSeenWall:WallSep + D2H:FirstSeenWall + D2L:FirstSeenWall' \\\n",
    "' + D2H:OpponentD2H + D2L:OpponentD2L + (1|GlmPlayerID)'\n",
    "\n",
    "(model_avg_nll, models,\n",
    "  predictions, fold_avg_nlls) = run_cross_validation(split_dataframes['glm_df_social'], model_formula,\n",
    "                                                    \"social_randomintercepts_no-opponentvisible_opponentdistance_opponentfirstseen_solo-and-social-interactions\",\n",
    "                                                      save_results=True)"
   ]
  },
  {
   "cell_type": "code",
   "execution_count": null,
   "id": "1ad4a000",
   "metadata": {},
   "outputs": [],
   "source": []
  },
  {
   "cell_type": "markdown",
   "id": "059561cf",
   "metadata": {},
   "source": [
    "### Solo-social models"
   ]
  },
  {
   "cell_type": "code",
   "execution_count": 12,
   "id": "5ba0bd5e",
   "metadata": {},
   "outputs": [
    {
     "data": {
      "application/vnd.jupyter.widget-view+json": {
       "model_id": "38b598d2c8004756b9f64b25c989461b",
       "version_major": 2,
       "version_minor": 0
      },
      "text/plain": [
       "IntProgress(value=0, description='Fitting models', max=20)"
      ]
     },
     "metadata": {},
     "output_type": "display_data"
    },
    {
     "name": "stderr",
     "output_type": "stream",
     "text": [
      "d:\\Users\\Tom\\miniconda3\\envs\\octagon_analysis\\Lib\\site-packages\\pymer4\\models\\Lmer.py:733: FutureWarning: DataFrame.applymap has been deprecated. Use DataFrame.map instead.\n",
      "  ran_vars = ran_vars.applymap(\n",
      "d:\\Users\\Tom\\miniconda3\\envs\\octagon_analysis\\Lib\\site-packages\\pymer4\\models\\Lmer.py:733: FutureWarning: DataFrame.applymap has been deprecated. Use DataFrame.map instead.\n",
      "  ran_vars = ran_vars.applymap(\n",
      "d:\\Users\\Tom\\miniconda3\\envs\\octagon_analysis\\Lib\\site-packages\\pymer4\\models\\Lmer.py:733: FutureWarning: DataFrame.applymap has been deprecated. Use DataFrame.map instead.\n",
      "  ran_vars = ran_vars.applymap(\n",
      "d:\\Users\\Tom\\miniconda3\\envs\\octagon_analysis\\Lib\\site-packages\\pymer4\\models\\Lmer.py:733: FutureWarning: DataFrame.applymap has been deprecated. Use DataFrame.map instead.\n",
      "  ran_vars = ran_vars.applymap(\n",
      "d:\\Users\\Tom\\miniconda3\\envs\\octagon_analysis\\Lib\\site-packages\\pymer4\\models\\Lmer.py:733: FutureWarning: DataFrame.applymap has been deprecated. Use DataFrame.map instead.\n",
      "  ran_vars = ran_vars.applymap(\n",
      "d:\\Users\\Tom\\miniconda3\\envs\\octagon_analysis\\Lib\\site-packages\\pymer4\\models\\Lmer.py:733: FutureWarning: DataFrame.applymap has been deprecated. Use DataFrame.map instead.\n",
      "  ran_vars = ran_vars.applymap(\n",
      "d:\\Users\\Tom\\miniconda3\\envs\\octagon_analysis\\Lib\\site-packages\\pymer4\\models\\Lmer.py:733: FutureWarning: DataFrame.applymap has been deprecated. Use DataFrame.map instead.\n",
      "  ran_vars = ran_vars.applymap(\n",
      "d:\\Users\\Tom\\miniconda3\\envs\\octagon_analysis\\Lib\\site-packages\\pymer4\\models\\Lmer.py:733: FutureWarning: DataFrame.applymap has been deprecated. Use DataFrame.map instead.\n",
      "  ran_vars = ran_vars.applymap(\n",
      "d:\\Users\\Tom\\miniconda3\\envs\\octagon_analysis\\Lib\\site-packages\\pymer4\\models\\Lmer.py:733: FutureWarning: DataFrame.applymap has been deprecated. Use DataFrame.map instead.\n",
      "  ran_vars = ran_vars.applymap(\n",
      "d:\\Users\\Tom\\miniconda3\\envs\\octagon_analysis\\Lib\\site-packages\\pymer4\\models\\Lmer.py:733: FutureWarning: DataFrame.applymap has been deprecated. Use DataFrame.map instead.\n",
      "  ran_vars = ran_vars.applymap(\n",
      "d:\\Users\\Tom\\miniconda3\\envs\\octagon_analysis\\Lib\\site-packages\\pymer4\\models\\Lmer.py:733: FutureWarning: DataFrame.applymap has been deprecated. Use DataFrame.map instead.\n",
      "  ran_vars = ran_vars.applymap(\n",
      "d:\\Users\\Tom\\miniconda3\\envs\\octagon_analysis\\Lib\\site-packages\\pymer4\\models\\Lmer.py:733: FutureWarning: DataFrame.applymap has been deprecated. Use DataFrame.map instead.\n",
      "  ran_vars = ran_vars.applymap(\n",
      "d:\\Users\\Tom\\miniconda3\\envs\\octagon_analysis\\Lib\\site-packages\\pymer4\\models\\Lmer.py:733: FutureWarning: DataFrame.applymap has been deprecated. Use DataFrame.map instead.\n",
      "  ran_vars = ran_vars.applymap(\n",
      "d:\\Users\\Tom\\miniconda3\\envs\\octagon_analysis\\Lib\\site-packages\\pymer4\\models\\Lmer.py:733: FutureWarning: DataFrame.applymap has been deprecated. Use DataFrame.map instead.\n",
      "  ran_vars = ran_vars.applymap(\n",
      "d:\\Users\\Tom\\miniconda3\\envs\\octagon_analysis\\Lib\\site-packages\\pymer4\\models\\Lmer.py:733: FutureWarning: DataFrame.applymap has been deprecated. Use DataFrame.map instead.\n",
      "  ran_vars = ran_vars.applymap(\n",
      "d:\\Users\\Tom\\miniconda3\\envs\\octagon_analysis\\Lib\\site-packages\\pymer4\\models\\Lmer.py:733: FutureWarning: DataFrame.applymap has been deprecated. Use DataFrame.map instead.\n",
      "  ran_vars = ran_vars.applymap(\n",
      "d:\\Users\\Tom\\miniconda3\\envs\\octagon_analysis\\Lib\\site-packages\\pymer4\\models\\Lmer.py:733: FutureWarning: DataFrame.applymap has been deprecated. Use DataFrame.map instead.\n",
      "  ran_vars = ran_vars.applymap(\n",
      "d:\\Users\\Tom\\miniconda3\\envs\\octagon_analysis\\Lib\\site-packages\\pymer4\\models\\Lmer.py:733: FutureWarning: DataFrame.applymap has been deprecated. Use DataFrame.map instead.\n",
      "  ran_vars = ran_vars.applymap(\n",
      "d:\\Users\\Tom\\miniconda3\\envs\\octagon_analysis\\Lib\\site-packages\\pymer4\\models\\Lmer.py:733: FutureWarning: DataFrame.applymap has been deprecated. Use DataFrame.map instead.\n",
      "  ran_vars = ran_vars.applymap(\n",
      "d:\\Users\\Tom\\miniconda3\\envs\\octagon_analysis\\Lib\\site-packages\\pymer4\\models\\Lmer.py:733: FutureWarning: DataFrame.applymap has been deprecated. Use DataFrame.map instead.\n",
      "  ran_vars = ran_vars.applymap(\n"
     ]
    },
    {
     "name": "stdout",
     "output_type": "stream",
     "text": [
      "Fold 0 average NLL: 0.44323099397258114\n",
      "Fold 1 average NLL: 0.4086499953412541\n",
      "Fold 2 average NLL: 0.44923306186286266\n",
      "Fold 3 average NLL: 0.44458361398484164\n",
      "Fold 4 average NLL: 0.4008870885123465\n",
      "Fold 5 average NLL: 0.3765003028731802\n",
      "Fold 6 average NLL: 0.44218749475310126\n",
      "Fold 7 average NLL: 0.4870591465294052\n",
      "Fold 8 average NLL: 0.44195917475551594\n",
      "Fold 9 average NLL: 0.40260156832320965\n",
      "Fold 10 average NLL: 0.41531309159036767\n",
      "Fold 11 average NLL: 0.4374880427427129\n",
      "Fold 12 average NLL: 0.43156253283252405\n",
      "Fold 13 average NLL: 0.41741624699418894\n",
      "Fold 14 average NLL: 0.38879645885512537\n",
      "Fold 15 average NLL: 0.4650907073892123\n",
      "Fold 16 average NLL: 0.4161268917373218\n",
      "Fold 17 average NLL: 0.4586117770733195\n",
      "Fold 18 average NLL: 0.4278904590960472\n",
      "Fold 19 average NLL: 0.39610183418212785\n",
      "20-fold CV data saved to:  ..\\data\\k_fold_CV\\20-fold-CV_results_solosocial_randomintercepts.pickle\n"
     ]
    }
   ],
   "source": [
    "model_formula = 'ChooseHigh ~ 1 + D2H + D2L + FirstSeenWall + WallSep + (1 |GlmPlayerID)'\n",
    "(model_avg_nll, models,\n",
    "  predictions, fold_avg_nlls) = run_cross_validation(split_dataframes['glm_df_solosocial'], model_formula,\n",
    "                                                    \"solosocial_randomintercepts\", \n",
    "                                                      save_results=True)"
   ]
  },
  {
   "cell_type": "code",
   "execution_count": 13,
   "id": "79c710aa",
   "metadata": {},
   "outputs": [
    {
     "data": {
      "application/vnd.jupyter.widget-view+json": {
       "model_id": "24f60743283c4ae682d3643bdeccdc61",
       "version_major": 2,
       "version_minor": 0
      },
      "text/plain": [
       "IntProgress(value=0, description='Fitting models', max=20)"
      ]
     },
     "metadata": {},
     "output_type": "display_data"
    },
    {
     "name": "stderr",
     "output_type": "stream",
     "text": [
      "d:\\Users\\Tom\\miniconda3\\envs\\octagon_analysis\\Lib\\site-packages\\pymer4\\models\\Lmer.py:733: FutureWarning: DataFrame.applymap has been deprecated. Use DataFrame.map instead.\n",
      "  ran_vars = ran_vars.applymap(\n",
      "d:\\Users\\Tom\\miniconda3\\envs\\octagon_analysis\\Lib\\site-packages\\pymer4\\models\\Lmer.py:733: FutureWarning: DataFrame.applymap has been deprecated. Use DataFrame.map instead.\n",
      "  ran_vars = ran_vars.applymap(\n",
      "d:\\Users\\Tom\\miniconda3\\envs\\octagon_analysis\\Lib\\site-packages\\pymer4\\models\\Lmer.py:733: FutureWarning: DataFrame.applymap has been deprecated. Use DataFrame.map instead.\n",
      "  ran_vars = ran_vars.applymap(\n",
      "d:\\Users\\Tom\\miniconda3\\envs\\octagon_analysis\\Lib\\site-packages\\pymer4\\models\\Lmer.py:733: FutureWarning: DataFrame.applymap has been deprecated. Use DataFrame.map instead.\n",
      "  ran_vars = ran_vars.applymap(\n",
      "d:\\Users\\Tom\\miniconda3\\envs\\octagon_analysis\\Lib\\site-packages\\pymer4\\models\\Lmer.py:733: FutureWarning: DataFrame.applymap has been deprecated. Use DataFrame.map instead.\n",
      "  ran_vars = ran_vars.applymap(\n",
      "d:\\Users\\Tom\\miniconda3\\envs\\octagon_analysis\\Lib\\site-packages\\pymer4\\models\\Lmer.py:733: FutureWarning: DataFrame.applymap has been deprecated. Use DataFrame.map instead.\n",
      "  ran_vars = ran_vars.applymap(\n",
      "d:\\Users\\Tom\\miniconda3\\envs\\octagon_analysis\\Lib\\site-packages\\pymer4\\models\\Lmer.py:733: FutureWarning: DataFrame.applymap has been deprecated. Use DataFrame.map instead.\n",
      "  ran_vars = ran_vars.applymap(\n",
      "d:\\Users\\Tom\\miniconda3\\envs\\octagon_analysis\\Lib\\site-packages\\pymer4\\models\\Lmer.py:733: FutureWarning: DataFrame.applymap has been deprecated. Use DataFrame.map instead.\n",
      "  ran_vars = ran_vars.applymap(\n",
      "d:\\Users\\Tom\\miniconda3\\envs\\octagon_analysis\\Lib\\site-packages\\pymer4\\models\\Lmer.py:733: FutureWarning: DataFrame.applymap has been deprecated. Use DataFrame.map instead.\n",
      "  ran_vars = ran_vars.applymap(\n",
      "d:\\Users\\Tom\\miniconda3\\envs\\octagon_analysis\\Lib\\site-packages\\pymer4\\models\\Lmer.py:733: FutureWarning: DataFrame.applymap has been deprecated. Use DataFrame.map instead.\n",
      "  ran_vars = ran_vars.applymap(\n",
      "d:\\Users\\Tom\\miniconda3\\envs\\octagon_analysis\\Lib\\site-packages\\pymer4\\models\\Lmer.py:733: FutureWarning: DataFrame.applymap has been deprecated. Use DataFrame.map instead.\n",
      "  ran_vars = ran_vars.applymap(\n",
      "d:\\Users\\Tom\\miniconda3\\envs\\octagon_analysis\\Lib\\site-packages\\pymer4\\models\\Lmer.py:733: FutureWarning: DataFrame.applymap has been deprecated. Use DataFrame.map instead.\n",
      "  ran_vars = ran_vars.applymap(\n",
      "d:\\Users\\Tom\\miniconda3\\envs\\octagon_analysis\\Lib\\site-packages\\pymer4\\models\\Lmer.py:733: FutureWarning: DataFrame.applymap has been deprecated. Use DataFrame.map instead.\n",
      "  ran_vars = ran_vars.applymap(\n",
      "d:\\Users\\Tom\\miniconda3\\envs\\octagon_analysis\\Lib\\site-packages\\pymer4\\models\\Lmer.py:733: FutureWarning: DataFrame.applymap has been deprecated. Use DataFrame.map instead.\n",
      "  ran_vars = ran_vars.applymap(\n",
      "d:\\Users\\Tom\\miniconda3\\envs\\octagon_analysis\\Lib\\site-packages\\pymer4\\models\\Lmer.py:733: FutureWarning: DataFrame.applymap has been deprecated. Use DataFrame.map instead.\n",
      "  ran_vars = ran_vars.applymap(\n",
      "d:\\Users\\Tom\\miniconda3\\envs\\octagon_analysis\\Lib\\site-packages\\pymer4\\models\\Lmer.py:733: FutureWarning: DataFrame.applymap has been deprecated. Use DataFrame.map instead.\n",
      "  ran_vars = ran_vars.applymap(\n",
      "d:\\Users\\Tom\\miniconda3\\envs\\octagon_analysis\\Lib\\site-packages\\pymer4\\models\\Lmer.py:733: FutureWarning: DataFrame.applymap has been deprecated. Use DataFrame.map instead.\n",
      "  ran_vars = ran_vars.applymap(\n",
      "d:\\Users\\Tom\\miniconda3\\envs\\octagon_analysis\\Lib\\site-packages\\pymer4\\models\\Lmer.py:733: FutureWarning: DataFrame.applymap has been deprecated. Use DataFrame.map instead.\n",
      "  ran_vars = ran_vars.applymap(\n",
      "d:\\Users\\Tom\\miniconda3\\envs\\octagon_analysis\\Lib\\site-packages\\pymer4\\models\\Lmer.py:733: FutureWarning: DataFrame.applymap has been deprecated. Use DataFrame.map instead.\n",
      "  ran_vars = ran_vars.applymap(\n",
      "d:\\Users\\Tom\\miniconda3\\envs\\octagon_analysis\\Lib\\site-packages\\pymer4\\models\\Lmer.py:733: FutureWarning: DataFrame.applymap has been deprecated. Use DataFrame.map instead.\n",
      "  ran_vars = ran_vars.applymap(\n"
     ]
    },
    {
     "name": "stdout",
     "output_type": "stream",
     "text": [
      "Fold 0 average NLL: 0.3850923702353639\n",
      "Fold 1 average NLL: 0.3619628082892744\n",
      "Fold 2 average NLL: 0.38782187462559164\n",
      "Fold 3 average NLL: 0.4013579832536461\n",
      "Fold 4 average NLL: 0.35853661711954526\n",
      "Fold 5 average NLL: 0.3346764705585567\n",
      "Fold 6 average NLL: 0.3743304154714246\n",
      "Fold 7 average NLL: 0.43506792389723287\n",
      "Fold 8 average NLL: 0.3983580424434907\n",
      "Fold 9 average NLL: 0.3485542541173233\n",
      "Fold 10 average NLL: 0.3567213691436151\n",
      "Fold 11 average NLL: 0.37745269797401126\n",
      "Fold 12 average NLL: 0.36347606513353614\n",
      "Fold 13 average NLL: 0.39281605353113963\n",
      "Fold 14 average NLL: 0.33511785095594454\n",
      "Fold 15 average NLL: 0.4271343490234305\n",
      "Fold 16 average NLL: 0.3502830178873332\n",
      "Fold 17 average NLL: 0.39761965908475394\n",
      "Fold 18 average NLL: 0.3744165026712919\n",
      "Fold 19 average NLL: 0.3617709229894236\n",
      "20-fold CV data saved to:  ..\\data\\k_fold_CV\\20-fold-CV_results_solosocial_randomintercepts_plus-socialcontext.pickle\n"
     ]
    }
   ],
   "source": [
    "model_formula = 'ChooseHigh ~ 1 + D2H + D2L + FirstSeenWall + WallSep + SocialContext + (1 |GlmPlayerID)'\n",
    "(model_avg_nll, models,\n",
    "  predictions, fold_avg_nlls) = run_cross_validation(split_dataframes['glm_df_solosocial'], model_formula,\n",
    "                                                    \"solosocial_randomintercepts_plus-socialcontext\", \n",
    "                                                      save_results=True)"
   ]
  },
  {
   "cell_type": "code",
   "execution_count": 57,
   "id": "65c4c345",
   "metadata": {},
   "outputs": [
    {
     "data": {
      "application/vnd.jupyter.widget-view+json": {
       "model_id": "b3bd5d86238a45aa8e355207dea54fd3",
       "version_major": 2,
       "version_minor": 0
      },
      "text/plain": [
       "IntProgress(value=0, description='Fitting models', max=20)"
      ]
     },
     "metadata": {},
     "output_type": "display_data"
    },
    {
     "name": "stderr",
     "output_type": "stream",
     "text": [
      "/home/tom/miniconda3/envs/octagon_analysis/lib/python3.12/site-packages/pymer4/models/Lmer.py:733: FutureWarning: DataFrame.applymap has been deprecated. Use DataFrame.map instead.\n",
      "  ran_vars = ran_vars.applymap(\n",
      "/home/tom/miniconda3/envs/octagon_analysis/lib/python3.12/site-packages/pymer4/models/Lmer.py:733: FutureWarning: DataFrame.applymap has been deprecated. Use DataFrame.map instead.\n",
      "  ran_vars = ran_vars.applymap(\n",
      "/home/tom/miniconda3/envs/octagon_analysis/lib/python3.12/site-packages/pymer4/models/Lmer.py:733: FutureWarning: DataFrame.applymap has been deprecated. Use DataFrame.map instead.\n",
      "  ran_vars = ran_vars.applymap(\n",
      "/home/tom/miniconda3/envs/octagon_analysis/lib/python3.12/site-packages/pymer4/models/Lmer.py:733: FutureWarning: DataFrame.applymap has been deprecated. Use DataFrame.map instead.\n",
      "  ran_vars = ran_vars.applymap(\n",
      "/home/tom/miniconda3/envs/octagon_analysis/lib/python3.12/site-packages/pymer4/models/Lmer.py:733: FutureWarning: DataFrame.applymap has been deprecated. Use DataFrame.map instead.\n",
      "  ran_vars = ran_vars.applymap(\n",
      "/home/tom/miniconda3/envs/octagon_analysis/lib/python3.12/site-packages/pymer4/models/Lmer.py:733: FutureWarning: DataFrame.applymap has been deprecated. Use DataFrame.map instead.\n",
      "  ran_vars = ran_vars.applymap(\n",
      "/home/tom/miniconda3/envs/octagon_analysis/lib/python3.12/site-packages/pymer4/models/Lmer.py:733: FutureWarning: DataFrame.applymap has been deprecated. Use DataFrame.map instead.\n",
      "  ran_vars = ran_vars.applymap(\n",
      "/home/tom/miniconda3/envs/octagon_analysis/lib/python3.12/site-packages/pymer4/models/Lmer.py:733: FutureWarning: DataFrame.applymap has been deprecated. Use DataFrame.map instead.\n",
      "  ran_vars = ran_vars.applymap(\n",
      "/home/tom/miniconda3/envs/octagon_analysis/lib/python3.12/site-packages/pymer4/models/Lmer.py:733: FutureWarning: DataFrame.applymap has been deprecated. Use DataFrame.map instead.\n",
      "  ran_vars = ran_vars.applymap(\n",
      "/home/tom/miniconda3/envs/octagon_analysis/lib/python3.12/site-packages/pymer4/models/Lmer.py:733: FutureWarning: DataFrame.applymap has been deprecated. Use DataFrame.map instead.\n",
      "  ran_vars = ran_vars.applymap(\n",
      "/home/tom/miniconda3/envs/octagon_analysis/lib/python3.12/site-packages/pymer4/models/Lmer.py:733: FutureWarning: DataFrame.applymap has been deprecated. Use DataFrame.map instead.\n",
      "  ran_vars = ran_vars.applymap(\n",
      "/home/tom/miniconda3/envs/octagon_analysis/lib/python3.12/site-packages/pymer4/models/Lmer.py:733: FutureWarning: DataFrame.applymap has been deprecated. Use DataFrame.map instead.\n",
      "  ran_vars = ran_vars.applymap(\n",
      "/home/tom/miniconda3/envs/octagon_analysis/lib/python3.12/site-packages/pymer4/models/Lmer.py:733: FutureWarning: DataFrame.applymap has been deprecated. Use DataFrame.map instead.\n",
      "  ran_vars = ran_vars.applymap(\n",
      "/home/tom/miniconda3/envs/octagon_analysis/lib/python3.12/site-packages/pymer4/models/Lmer.py:733: FutureWarning: DataFrame.applymap has been deprecated. Use DataFrame.map instead.\n",
      "  ran_vars = ran_vars.applymap(\n",
      "/home/tom/miniconda3/envs/octagon_analysis/lib/python3.12/site-packages/pymer4/models/Lmer.py:733: FutureWarning: DataFrame.applymap has been deprecated. Use DataFrame.map instead.\n",
      "  ran_vars = ran_vars.applymap(\n",
      "/home/tom/miniconda3/envs/octagon_analysis/lib/python3.12/site-packages/pymer4/models/Lmer.py:733: FutureWarning: DataFrame.applymap has been deprecated. Use DataFrame.map instead.\n",
      "  ran_vars = ran_vars.applymap(\n",
      "/home/tom/miniconda3/envs/octagon_analysis/lib/python3.12/site-packages/pymer4/models/Lmer.py:733: FutureWarning: DataFrame.applymap has been deprecated. Use DataFrame.map instead.\n",
      "  ran_vars = ran_vars.applymap(\n",
      "/home/tom/miniconda3/envs/octagon_analysis/lib/python3.12/site-packages/pymer4/models/Lmer.py:733: FutureWarning: DataFrame.applymap has been deprecated. Use DataFrame.map instead.\n",
      "  ran_vars = ran_vars.applymap(\n",
      "/home/tom/miniconda3/envs/octagon_analysis/lib/python3.12/site-packages/pymer4/models/Lmer.py:733: FutureWarning: DataFrame.applymap has been deprecated. Use DataFrame.map instead.\n",
      "  ran_vars = ran_vars.applymap(\n",
      "/home/tom/miniconda3/envs/octagon_analysis/lib/python3.12/site-packages/pymer4/models/Lmer.py:733: FutureWarning: DataFrame.applymap has been deprecated. Use DataFrame.map instead.\n",
      "  ran_vars = ran_vars.applymap(\n"
     ]
    },
    {
     "name": "stdout",
     "output_type": "stream",
     "text": [
      "Fold 0 average NLL: 0.38777123463247526\n",
      "Fold 1 average NLL: 0.341216131496972\n",
      "Fold 2 average NLL: 0.37322288849466134\n",
      "Fold 3 average NLL: 0.405168205900133\n",
      "Fold 4 average NLL: 0.35741841963081933\n",
      "Fold 5 average NLL: 0.31961069738885306\n",
      "Fold 6 average NLL: 0.34659226712489855\n",
      "Fold 7 average NLL: 0.42223155486492714\n",
      "Fold 8 average NLL: 0.37123444560587965\n",
      "Fold 9 average NLL: 0.34640983274946663\n",
      "Fold 10 average NLL: 0.34303172033953433\n",
      "Fold 11 average NLL: 0.35486445854223275\n",
      "Fold 12 average NLL: 0.3544704784472647\n",
      "Fold 13 average NLL: 0.3802617000055061\n",
      "Fold 14 average NLL: 0.3284275930332824\n",
      "Fold 15 average NLL: 0.41465735542363097\n",
      "Fold 16 average NLL: 0.32915292249584144\n",
      "Fold 17 average NLL: 0.38490522560333484\n",
      "Fold 18 average NLL: 0.3674733376991403\n",
      "Fold 19 average NLL: 0.3670216238971828\n",
      "20-fold CV data saved to:  ../data/k_fold_CV/20-fold-CV_results_solosocial_randomintercepts_socialcontext_fullsolointeractions.pickle\n"
     ]
    }
   ],
   "source": [
    "model_formula = 'ChooseHigh ~ 1 + D2H + D2L + FirstSeenWall + WallSep + SocialContext +' \\\n",
    "' FirstSeenWall:WallSep + D2H:FirstSeenWall + D2L:FirstSeenWall + (1 |GlmPlayerID)'\n",
    "(model_avg_nll, models,\n",
    "  predictions, fold_avg_nlls) = run_cross_validation(split_dataframes['glm_df_solosocial'], model_formula,\n",
    "                                                    \"solosocial_randomintercepts_socialcontext_fullsolointeractions\", \n",
    "                                                      save_results=True)"
   ]
  },
  {
   "cell_type": "code",
   "execution_count": 58,
   "id": "7757064e",
   "metadata": {},
   "outputs": [
    {
     "data": {
      "application/vnd.jupyter.widget-view+json": {
       "model_id": "9700757c182448d1bcb062c0eb73a78a",
       "version_major": 2,
       "version_minor": 0
      },
      "text/plain": [
       "IntProgress(value=0, description='Fitting models', max=20)"
      ]
     },
     "metadata": {},
     "output_type": "display_data"
    },
    {
     "name": "stderr",
     "output_type": "stream",
     "text": [
      "/home/tom/miniconda3/envs/octagon_analysis/lib/python3.12/site-packages/pymer4/models/Lmer.py:733: FutureWarning: DataFrame.applymap has been deprecated. Use DataFrame.map instead.\n",
      "  ran_vars = ran_vars.applymap(\n",
      "/home/tom/miniconda3/envs/octagon_analysis/lib/python3.12/site-packages/pymer4/models/Lmer.py:733: FutureWarning: DataFrame.applymap has been deprecated. Use DataFrame.map instead.\n",
      "  ran_vars = ran_vars.applymap(\n",
      "/home/tom/miniconda3/envs/octagon_analysis/lib/python3.12/site-packages/pymer4/models/Lmer.py:733: FutureWarning: DataFrame.applymap has been deprecated. Use DataFrame.map instead.\n",
      "  ran_vars = ran_vars.applymap(\n",
      "/home/tom/miniconda3/envs/octagon_analysis/lib/python3.12/site-packages/pymer4/models/Lmer.py:733: FutureWarning: DataFrame.applymap has been deprecated. Use DataFrame.map instead.\n",
      "  ran_vars = ran_vars.applymap(\n",
      "/home/tom/miniconda3/envs/octagon_analysis/lib/python3.12/site-packages/pymer4/models/Lmer.py:733: FutureWarning: DataFrame.applymap has been deprecated. Use DataFrame.map instead.\n",
      "  ran_vars = ran_vars.applymap(\n",
      "/home/tom/miniconda3/envs/octagon_analysis/lib/python3.12/site-packages/pymer4/models/Lmer.py:733: FutureWarning: DataFrame.applymap has been deprecated. Use DataFrame.map instead.\n",
      "  ran_vars = ran_vars.applymap(\n",
      "/home/tom/miniconda3/envs/octagon_analysis/lib/python3.12/site-packages/pymer4/models/Lmer.py:733: FutureWarning: DataFrame.applymap has been deprecated. Use DataFrame.map instead.\n",
      "  ran_vars = ran_vars.applymap(\n",
      "/home/tom/miniconda3/envs/octagon_analysis/lib/python3.12/site-packages/pymer4/models/Lmer.py:733: FutureWarning: DataFrame.applymap has been deprecated. Use DataFrame.map instead.\n",
      "  ran_vars = ran_vars.applymap(\n",
      "/home/tom/miniconda3/envs/octagon_analysis/lib/python3.12/site-packages/pymer4/models/Lmer.py:733: FutureWarning: DataFrame.applymap has been deprecated. Use DataFrame.map instead.\n",
      "  ran_vars = ran_vars.applymap(\n",
      "/home/tom/miniconda3/envs/octagon_analysis/lib/python3.12/site-packages/pymer4/models/Lmer.py:733: FutureWarning: DataFrame.applymap has been deprecated. Use DataFrame.map instead.\n",
      "  ran_vars = ran_vars.applymap(\n",
      "/home/tom/miniconda3/envs/octagon_analysis/lib/python3.12/site-packages/pymer4/models/Lmer.py:733: FutureWarning: DataFrame.applymap has been deprecated. Use DataFrame.map instead.\n",
      "  ran_vars = ran_vars.applymap(\n",
      "/home/tom/miniconda3/envs/octagon_analysis/lib/python3.12/site-packages/pymer4/models/Lmer.py:733: FutureWarning: DataFrame.applymap has been deprecated. Use DataFrame.map instead.\n",
      "  ran_vars = ran_vars.applymap(\n",
      "/home/tom/miniconda3/envs/octagon_analysis/lib/python3.12/site-packages/pymer4/models/Lmer.py:733: FutureWarning: DataFrame.applymap has been deprecated. Use DataFrame.map instead.\n",
      "  ran_vars = ran_vars.applymap(\n",
      "/home/tom/miniconda3/envs/octagon_analysis/lib/python3.12/site-packages/pymer4/models/Lmer.py:733: FutureWarning: DataFrame.applymap has been deprecated. Use DataFrame.map instead.\n",
      "  ran_vars = ran_vars.applymap(\n",
      "/home/tom/miniconda3/envs/octagon_analysis/lib/python3.12/site-packages/pymer4/models/Lmer.py:733: FutureWarning: DataFrame.applymap has been deprecated. Use DataFrame.map instead.\n",
      "  ran_vars = ran_vars.applymap(\n",
      "/home/tom/miniconda3/envs/octagon_analysis/lib/python3.12/site-packages/pymer4/models/Lmer.py:733: FutureWarning: DataFrame.applymap has been deprecated. Use DataFrame.map instead.\n",
      "  ran_vars = ran_vars.applymap(\n",
      "/home/tom/miniconda3/envs/octagon_analysis/lib/python3.12/site-packages/pymer4/models/Lmer.py:733: FutureWarning: DataFrame.applymap has been deprecated. Use DataFrame.map instead.\n",
      "  ran_vars = ran_vars.applymap(\n",
      "/home/tom/miniconda3/envs/octagon_analysis/lib/python3.12/site-packages/pymer4/models/Lmer.py:733: FutureWarning: DataFrame.applymap has been deprecated. Use DataFrame.map instead.\n",
      "  ran_vars = ran_vars.applymap(\n",
      "/home/tom/miniconda3/envs/octagon_analysis/lib/python3.12/site-packages/pymer4/models/Lmer.py:733: FutureWarning: DataFrame.applymap has been deprecated. Use DataFrame.map instead.\n",
      "  ran_vars = ran_vars.applymap(\n",
      "/home/tom/miniconda3/envs/octagon_analysis/lib/python3.12/site-packages/pymer4/models/Lmer.py:733: FutureWarning: DataFrame.applymap has been deprecated. Use DataFrame.map instead.\n",
      "  ran_vars = ran_vars.applymap(\n"
     ]
    },
    {
     "name": "stdout",
     "output_type": "stream",
     "text": [
      "Fold 0 average NLL: 0.3846275075567164\n",
      "Fold 1 average NLL: 0.36234343514584305\n",
      "Fold 2 average NLL: 0.3873502459973704\n",
      "Fold 3 average NLL: 0.4012546182150781\n",
      "Fold 4 average NLL: 0.36096868575623176\n",
      "Fold 5 average NLL: 0.33401574969543896\n",
      "Fold 6 average NLL: 0.375139690964165\n",
      "Fold 7 average NLL: 0.43611067534315373\n",
      "Fold 8 average NLL: 0.3974477870270088\n",
      "Fold 9 average NLL: 0.34890755122680966\n",
      "Fold 10 average NLL: 0.35599937451690267\n",
      "Fold 11 average NLL: 0.3768744017289001\n",
      "Fold 12 average NLL: 0.3623506470728137\n",
      "Fold 13 average NLL: 0.392605874329421\n",
      "Fold 14 average NLL: 0.3346935919225609\n",
      "Fold 15 average NLL: 0.4272139610391643\n",
      "Fold 16 average NLL: 0.3506504046830323\n",
      "Fold 17 average NLL: 0.39802496923631553\n",
      "Fold 18 average NLL: 0.3742834116436786\n",
      "Fold 19 average NLL: 0.3612375214981439\n",
      "20-fold CV data saved to:  ../data/k_fold_CV/20-fold-CV_results_solosocial_randomintercepts_plus-socialcontext_fsw-interactions.pickle\n"
     ]
    }
   ],
   "source": [
    "model_formula = 'ChooseHigh ~ 1 + D2H + D2L + FirstSeenWall + WallSep + SocialContext + SocialContext:FirstSeenWall + (1 |GlmPlayerID)'\n",
    "(model_avg_nll, models,\n",
    "  predictions, fold_avg_nlls) = run_cross_validation(split_dataframes['glm_df_solosocial'], model_formula,\n",
    "                                                    \"solosocial_randomintercepts_plus-socialcontext_fsw-interactions\", \n",
    "                                                      save_results=True)"
   ]
  },
  {
   "cell_type": "code",
   "execution_count": 59,
   "id": "a72003ff",
   "metadata": {},
   "outputs": [
    {
     "data": {
      "application/vnd.jupyter.widget-view+json": {
       "model_id": "cfdfce1b0cb34bfa9a4680598c2fb12e",
       "version_major": 2,
       "version_minor": 0
      },
      "text/plain": [
       "IntProgress(value=0, description='Fitting models', max=20)"
      ]
     },
     "metadata": {},
     "output_type": "display_data"
    },
    {
     "name": "stderr",
     "output_type": "stream",
     "text": [
      "/home/tom/miniconda3/envs/octagon_analysis/lib/python3.12/site-packages/pymer4/models/Lmer.py:733: FutureWarning: DataFrame.applymap has been deprecated. Use DataFrame.map instead.\n",
      "  ran_vars = ran_vars.applymap(\n",
      "/home/tom/miniconda3/envs/octagon_analysis/lib/python3.12/site-packages/pymer4/models/Lmer.py:733: FutureWarning: DataFrame.applymap has been deprecated. Use DataFrame.map instead.\n",
      "  ran_vars = ran_vars.applymap(\n",
      "/home/tom/miniconda3/envs/octagon_analysis/lib/python3.12/site-packages/pymer4/models/Lmer.py:733: FutureWarning: DataFrame.applymap has been deprecated. Use DataFrame.map instead.\n",
      "  ran_vars = ran_vars.applymap(\n",
      "/home/tom/miniconda3/envs/octagon_analysis/lib/python3.12/site-packages/pymer4/models/Lmer.py:733: FutureWarning: DataFrame.applymap has been deprecated. Use DataFrame.map instead.\n",
      "  ran_vars = ran_vars.applymap(\n",
      "/home/tom/miniconda3/envs/octagon_analysis/lib/python3.12/site-packages/pymer4/models/Lmer.py:733: FutureWarning: DataFrame.applymap has been deprecated. Use DataFrame.map instead.\n",
      "  ran_vars = ran_vars.applymap(\n",
      "/home/tom/miniconda3/envs/octagon_analysis/lib/python3.12/site-packages/pymer4/models/Lmer.py:733: FutureWarning: DataFrame.applymap has been deprecated. Use DataFrame.map instead.\n",
      "  ran_vars = ran_vars.applymap(\n",
      "/home/tom/miniconda3/envs/octagon_analysis/lib/python3.12/site-packages/pymer4/models/Lmer.py:733: FutureWarning: DataFrame.applymap has been deprecated. Use DataFrame.map instead.\n",
      "  ran_vars = ran_vars.applymap(\n",
      "/home/tom/miniconda3/envs/octagon_analysis/lib/python3.12/site-packages/pymer4/models/Lmer.py:733: FutureWarning: DataFrame.applymap has been deprecated. Use DataFrame.map instead.\n",
      "  ran_vars = ran_vars.applymap(\n",
      "/home/tom/miniconda3/envs/octagon_analysis/lib/python3.12/site-packages/pymer4/models/Lmer.py:733: FutureWarning: DataFrame.applymap has been deprecated. Use DataFrame.map instead.\n",
      "  ran_vars = ran_vars.applymap(\n",
      "/home/tom/miniconda3/envs/octagon_analysis/lib/python3.12/site-packages/pymer4/models/Lmer.py:733: FutureWarning: DataFrame.applymap has been deprecated. Use DataFrame.map instead.\n",
      "  ran_vars = ran_vars.applymap(\n",
      "/home/tom/miniconda3/envs/octagon_analysis/lib/python3.12/site-packages/pymer4/models/Lmer.py:733: FutureWarning: DataFrame.applymap has been deprecated. Use DataFrame.map instead.\n",
      "  ran_vars = ran_vars.applymap(\n",
      "/home/tom/miniconda3/envs/octagon_analysis/lib/python3.12/site-packages/pymer4/models/Lmer.py:733: FutureWarning: DataFrame.applymap has been deprecated. Use DataFrame.map instead.\n",
      "  ran_vars = ran_vars.applymap(\n",
      "/home/tom/miniconda3/envs/octagon_analysis/lib/python3.12/site-packages/pymer4/models/Lmer.py:733: FutureWarning: DataFrame.applymap has been deprecated. Use DataFrame.map instead.\n",
      "  ran_vars = ran_vars.applymap(\n",
      "/home/tom/miniconda3/envs/octagon_analysis/lib/python3.12/site-packages/pymer4/models/Lmer.py:733: FutureWarning: DataFrame.applymap has been deprecated. Use DataFrame.map instead.\n",
      "  ran_vars = ran_vars.applymap(\n",
      "/home/tom/miniconda3/envs/octagon_analysis/lib/python3.12/site-packages/pymer4/models/Lmer.py:733: FutureWarning: DataFrame.applymap has been deprecated. Use DataFrame.map instead.\n",
      "  ran_vars = ran_vars.applymap(\n",
      "/home/tom/miniconda3/envs/octagon_analysis/lib/python3.12/site-packages/pymer4/models/Lmer.py:733: FutureWarning: DataFrame.applymap has been deprecated. Use DataFrame.map instead.\n",
      "  ran_vars = ran_vars.applymap(\n",
      "/home/tom/miniconda3/envs/octagon_analysis/lib/python3.12/site-packages/pymer4/models/Lmer.py:733: FutureWarning: DataFrame.applymap has been deprecated. Use DataFrame.map instead.\n",
      "  ran_vars = ran_vars.applymap(\n",
      "/home/tom/miniconda3/envs/octagon_analysis/lib/python3.12/site-packages/pymer4/models/Lmer.py:733: FutureWarning: DataFrame.applymap has been deprecated. Use DataFrame.map instead.\n",
      "  ran_vars = ran_vars.applymap(\n",
      "/home/tom/miniconda3/envs/octagon_analysis/lib/python3.12/site-packages/pymer4/models/Lmer.py:733: FutureWarning: DataFrame.applymap has been deprecated. Use DataFrame.map instead.\n",
      "  ran_vars = ran_vars.applymap(\n",
      "/home/tom/miniconda3/envs/octagon_analysis/lib/python3.12/site-packages/pymer4/models/Lmer.py:733: FutureWarning: DataFrame.applymap has been deprecated. Use DataFrame.map instead.\n",
      "  ran_vars = ran_vars.applymap(\n"
     ]
    },
    {
     "name": "stdout",
     "output_type": "stream",
     "text": [
      "Fold 0 average NLL: 0.38596294642034606\n",
      "Fold 1 average NLL: 0.35639297556985194\n",
      "Fold 2 average NLL: 0.3800264229777872\n",
      "Fold 3 average NLL: 0.40143100767363765\n",
      "Fold 4 average NLL: 0.35728499255787666\n",
      "Fold 5 average NLL: 0.32811226156624623\n",
      "Fold 6 average NLL: 0.3671101552968014\n",
      "Fold 7 average NLL: 0.4278953364125747\n",
      "Fold 8 average NLL: 0.39380652398587057\n",
      "Fold 9 average NLL: 0.3508724544916122\n",
      "Fold 10 average NLL: 0.3466662525643493\n",
      "Fold 11 average NLL: 0.37569896484303067\n",
      "Fold 12 average NLL: 0.36171663114662195\n",
      "Fold 13 average NLL: 0.3865608456688019\n",
      "Fold 14 average NLL: 0.3331236527152994\n",
      "Fold 15 average NLL: 0.41434044610366466\n",
      "Fold 16 average NLL: 0.3439543693865903\n",
      "Fold 17 average NLL: 0.3895402551270885\n",
      "Fold 18 average NLL: 0.36876876164637773\n",
      "Fold 19 average NLL: 0.361714927831515\n",
      "20-fold CV data saved to:  ../data/k_fold_CV/20-fold-CV_results_solosocial_randomintercepts_plus-socialcontext_fsw-interactions_socialcontext-dist_interactions.pickle\n"
     ]
    }
   ],
   "source": [
    "model_formula = 'ChooseHigh ~ 1 + D2H + D2L + FirstSeenWall + WallSep + SocialContext + D2H:SocialContext + D2L:SocialContext + (1 |GlmPlayerID)'\n",
    "(model_avg_nll, models,\n",
    "  predictions, fold_avg_nlls) = run_cross_validation(split_dataframes['glm_df_solosocial'], model_formula,\n",
    "                                                    \"solosocial_randomintercepts_plus-socialcontext_fsw-interactions_socialcontext-dist_interactions\", \n",
    "                                                      save_results=True)"
   ]
  },
  {
   "cell_type": "code",
   "execution_count": 60,
   "id": "d77a23d4",
   "metadata": {},
   "outputs": [
    {
     "data": {
      "application/vnd.jupyter.widget-view+json": {
       "model_id": "70aa16b3b713424ea380fe10572c349c",
       "version_major": 2,
       "version_minor": 0
      },
      "text/plain": [
       "IntProgress(value=0, description='Fitting models', max=20)"
      ]
     },
     "metadata": {},
     "output_type": "display_data"
    },
    {
     "name": "stderr",
     "output_type": "stream",
     "text": [
      "/home/tom/miniconda3/envs/octagon_analysis/lib/python3.12/site-packages/pymer4/models/Lmer.py:733: FutureWarning: DataFrame.applymap has been deprecated. Use DataFrame.map instead.\n",
      "  ran_vars = ran_vars.applymap(\n",
      "/home/tom/miniconda3/envs/octagon_analysis/lib/python3.12/site-packages/pymer4/models/Lmer.py:733: FutureWarning: DataFrame.applymap has been deprecated. Use DataFrame.map instead.\n",
      "  ran_vars = ran_vars.applymap(\n",
      "/home/tom/miniconda3/envs/octagon_analysis/lib/python3.12/site-packages/pymer4/models/Lmer.py:733: FutureWarning: DataFrame.applymap has been deprecated. Use DataFrame.map instead.\n",
      "  ran_vars = ran_vars.applymap(\n",
      "/home/tom/miniconda3/envs/octagon_analysis/lib/python3.12/site-packages/pymer4/models/Lmer.py:733: FutureWarning: DataFrame.applymap has been deprecated. Use DataFrame.map instead.\n",
      "  ran_vars = ran_vars.applymap(\n",
      "/home/tom/miniconda3/envs/octagon_analysis/lib/python3.12/site-packages/pymer4/models/Lmer.py:733: FutureWarning: DataFrame.applymap has been deprecated. Use DataFrame.map instead.\n",
      "  ran_vars = ran_vars.applymap(\n",
      "/home/tom/miniconda3/envs/octagon_analysis/lib/python3.12/site-packages/pymer4/models/Lmer.py:733: FutureWarning: DataFrame.applymap has been deprecated. Use DataFrame.map instead.\n",
      "  ran_vars = ran_vars.applymap(\n",
      "/home/tom/miniconda3/envs/octagon_analysis/lib/python3.12/site-packages/pymer4/models/Lmer.py:733: FutureWarning: DataFrame.applymap has been deprecated. Use DataFrame.map instead.\n",
      "  ran_vars = ran_vars.applymap(\n",
      "/home/tom/miniconda3/envs/octagon_analysis/lib/python3.12/site-packages/pymer4/models/Lmer.py:733: FutureWarning: DataFrame.applymap has been deprecated. Use DataFrame.map instead.\n",
      "  ran_vars = ran_vars.applymap(\n",
      "/home/tom/miniconda3/envs/octagon_analysis/lib/python3.12/site-packages/pymer4/models/Lmer.py:733: FutureWarning: DataFrame.applymap has been deprecated. Use DataFrame.map instead.\n",
      "  ran_vars = ran_vars.applymap(\n",
      "/home/tom/miniconda3/envs/octagon_analysis/lib/python3.12/site-packages/pymer4/models/Lmer.py:733: FutureWarning: DataFrame.applymap has been deprecated. Use DataFrame.map instead.\n",
      "  ran_vars = ran_vars.applymap(\n",
      "/home/tom/miniconda3/envs/octagon_analysis/lib/python3.12/site-packages/pymer4/models/Lmer.py:733: FutureWarning: DataFrame.applymap has been deprecated. Use DataFrame.map instead.\n",
      "  ran_vars = ran_vars.applymap(\n",
      "/home/tom/miniconda3/envs/octagon_analysis/lib/python3.12/site-packages/pymer4/models/Lmer.py:733: FutureWarning: DataFrame.applymap has been deprecated. Use DataFrame.map instead.\n",
      "  ran_vars = ran_vars.applymap(\n",
      "/home/tom/miniconda3/envs/octagon_analysis/lib/python3.12/site-packages/pymer4/models/Lmer.py:733: FutureWarning: DataFrame.applymap has been deprecated. Use DataFrame.map instead.\n",
      "  ran_vars = ran_vars.applymap(\n",
      "/home/tom/miniconda3/envs/octagon_analysis/lib/python3.12/site-packages/pymer4/models/Lmer.py:733: FutureWarning: DataFrame.applymap has been deprecated. Use DataFrame.map instead.\n",
      "  ran_vars = ran_vars.applymap(\n",
      "/home/tom/miniconda3/envs/octagon_analysis/lib/python3.12/site-packages/pymer4/models/Lmer.py:733: FutureWarning: DataFrame.applymap has been deprecated. Use DataFrame.map instead.\n",
      "  ran_vars = ran_vars.applymap(\n",
      "/home/tom/miniconda3/envs/octagon_analysis/lib/python3.12/site-packages/pymer4/models/Lmer.py:733: FutureWarning: DataFrame.applymap has been deprecated. Use DataFrame.map instead.\n",
      "  ran_vars = ran_vars.applymap(\n",
      "/home/tom/miniconda3/envs/octagon_analysis/lib/python3.12/site-packages/pymer4/models/Lmer.py:733: FutureWarning: DataFrame.applymap has been deprecated. Use DataFrame.map instead.\n",
      "  ran_vars = ran_vars.applymap(\n",
      "/home/tom/miniconda3/envs/octagon_analysis/lib/python3.12/site-packages/pymer4/models/Lmer.py:733: FutureWarning: DataFrame.applymap has been deprecated. Use DataFrame.map instead.\n",
      "  ran_vars = ran_vars.applymap(\n",
      "/home/tom/miniconda3/envs/octagon_analysis/lib/python3.12/site-packages/pymer4/models/Lmer.py:733: FutureWarning: DataFrame.applymap has been deprecated. Use DataFrame.map instead.\n",
      "  ran_vars = ran_vars.applymap(\n",
      "/home/tom/miniconda3/envs/octagon_analysis/lib/python3.12/site-packages/pymer4/models/Lmer.py:733: FutureWarning: DataFrame.applymap has been deprecated. Use DataFrame.map instead.\n",
      "  ran_vars = ran_vars.applymap(\n"
     ]
    },
    {
     "name": "stdout",
     "output_type": "stream",
     "text": [
      "Fold 0 average NLL: 0.3905287063059076\n",
      "Fold 1 average NLL: 0.33633441285843413\n",
      "Fold 2 average NLL: 0.3688640269729019\n",
      "Fold 3 average NLL: 0.40403817613974463\n",
      "Fold 4 average NLL: 0.35445463902409946\n",
      "Fold 5 average NLL: 0.3146852458950841\n",
      "Fold 6 average NLL: 0.3422057833672172\n",
      "Fold 7 average NLL: 0.4167291459502028\n",
      "Fold 8 average NLL: 0.3664822810411201\n",
      "Fold 9 average NLL: 0.34714920126273013\n",
      "Fold 10 average NLL: 0.33521781978902837\n",
      "Fold 11 average NLL: 0.352955803355181\n",
      "Fold 12 average NLL: 0.35272081308056075\n",
      "Fold 13 average NLL: 0.3744979056345644\n",
      "Fold 14 average NLL: 0.32642372297384353\n",
      "Fold 15 average NLL: 0.40513215048725115\n",
      "Fold 16 average NLL: 0.3248745211525455\n",
      "Fold 17 average NLL: 0.3772293241899721\n",
      "Fold 18 average NLL: 0.36245558666022365\n",
      "Fold 19 average NLL: 0.3651005096239049\n",
      "20-fold CV data saved to:  ../data/k_fold_CV/20-fold-CV_results_solosocial_randomintercepts_plus-socialcontext_fsw-interactions_socialcontext-dist-interactions_solo-interactions.pickle\n"
     ]
    }
   ],
   "source": [
    "model_formula = 'ChooseHigh ~ 1 + D2H + D2L + FirstSeenWall + WallSep + SocialContext + D2H:SocialContext + D2L:SocialContext ' \\\n",
    "'+ FirstSeenWall:WallSep + D2H:FirstSeenWall + D2L:FirstSeenWall + (1 |GlmPlayerID)'\n",
    "(model_avg_nll, models,\n",
    "  predictions, fold_avg_nlls) = run_cross_validation(split_dataframes['glm_df_solosocial'], model_formula,\n",
    "                                                    \"solosocial_randomintercepts_plus-socialcontext_fsw-interactions_socialcontext-dist-interactions_solo-interactions\", \n",
    "                                                      save_results=True)"
   ]
  },
  {
   "cell_type": "code",
   "execution_count": null,
   "id": "82245b6d",
   "metadata": {},
   "outputs": [],
   "source": []
  }
 ],
 "metadata": {
  "kernelspec": {
   "display_name": "octagon_analysis",
   "language": "python",
   "name": "python3"
  },
  "language_info": {
   "codemirror_mode": {
    "name": "ipython",
    "version": 3
   },
   "file_extension": ".py",
   "mimetype": "text/x-python",
   "name": "python",
   "nbconvert_exporter": "python",
   "pygments_lexer": "ipython3",
   "version": "3.12.7"
  }
 },
 "nbformat": 4,
 "nbformat_minor": 5
}
