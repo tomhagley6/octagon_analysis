{
 "cells": [
  {
   "cell_type": "code",
   "execution_count": 3,
   "id": "7165c571",
   "metadata": {},
   "outputs": [
    {
     "name": "stdout",
     "output_type": "stream",
     "text": [
      "[1] \"R version 4.3.3 (2024-02-29)\"\n",
      "\n"
     ]
    }
   ],
   "source": [
    "%load_ext autoreload\n",
    "%autoreload 2\n",
    "\n",
    "import os \n",
    "# os.environ['R_HOME']= r'C:\\Users\\tomha\\miniconda3\\envs\\octagon_analysis\\lib\\R'\n",
    "# os.environ['R_HOME']= r'D:\\Users\\Tom\\miniconda3\\envs\\octagon_analysis\\lib\\R'\n",
    "os.environ['R_HOME']= '/home/tom/miniconda3/envs/octagon_analysis/lib/R'\n",
    "\n",
    "import rpy2\n",
    "\n",
    "import rpy2.robjects as robjects\n",
    "print(robjects.r('R.version.string'))\n",
    "\n",
    "import parse_data.prepare_data as prepare_data\n",
    "import numpy as np\n",
    "import pandas as pd\n",
    "import matplotlib.pyplot as plt\n",
    "# import globals\n",
    "import data_strings\n",
    "import data_extraction.get_indices as get_indices\n",
    "import analysis.wall_visibility_and_choice as wall_visibility_and_choice\n",
    "from trajectory_analysis import trajectory_vectors\n",
    "from plotting import plot_octagon\n",
    "import parse_data.identify_filepaths as identify_filepaths \n",
    "from data_extraction.trial_list_filters import filter_trials_other_visible\n",
    "from analysis import opponent_visibility\n",
    "from ipywidgets import IntProgress\n",
    "from IPython.display import display\n",
    "import time\n",
    "from pymer4.models import Lmer\n",
    "import populate_dataframes\n",
    "\n"
   ]
  },
  {
   "cell_type": "code",
   "execution_count": 4,
   "id": "bb7e93d8",
   "metadata": {},
   "outputs": [],
   "source": [
    "k = 20\n",
    "split_dataframes = True"
   ]
  },
  {
   "cell_type": "markdown",
   "id": "e71cf003",
   "metadata": {},
   "source": [
    "### load data"
   ]
  },
  {
   "cell_type": "code",
   "execution_count": 5,
   "id": "08a034bc",
   "metadata": {},
   "outputs": [],
   "source": [
    "import pickle\n",
    "\n",
    "analysis_dir = os.path.join('..', 'data')\n",
    "analysis_file = 'analysis_results_2levelsforFirstSeenWall.pkl'\n",
    "filename = os.path.join(analysis_dir, analysis_file)\n",
    "# load the analysis results\n",
    "with open(filename, 'rb') as f:\n",
    "    analysis_results = pickle.load(f)"
   ]
  },
  {
   "cell_type": "markdown",
   "id": "7e5eda65",
   "metadata": {},
   "source": [
    "### populate dataframes for glm input"
   ]
  },
  {
   "cell_type": "code",
   "execution_count": 6,
   "id": "8913bcfb",
   "metadata": {},
   "outputs": [],
   "source": [
    "# populate dataframes for solo, solosocial, and social analysis_type\n",
    "glm_df_solo = populate_dataframes.populate_dataframe(analysis_results, analysis_type='solo')\n",
    "glm_df_solosocial = populate_dataframes.populate_dataframe(analysis_results, analysis_type='solosocial')\n",
    "glm_df_social = populate_dataframes.populate_dataframe(analysis_results, analysis_type='social')\n"
   ]
  },
  {
   "cell_type": "markdown",
   "id": "be390a9d",
   "metadata": {},
   "source": [
    "### create reference to dataframes"
   ]
  },
  {
   "cell_type": "code",
   "execution_count": 7,
   "id": "ed566cf8",
   "metadata": {},
   "outputs": [],
   "source": [
    "dataframes = {\n",
    "    'glm_df_solo': glm_df_solo,\n",
    "    'glm_df_solosocial': glm_df_solosocial,\n",
    "    'glm_df_social': glm_df_social\n",
    "}"
   ]
  },
  {
   "cell_type": "markdown",
   "id": "73a02e26",
   "metadata": {},
   "source": [
    "### shuffle the dataframes for k-fold index selection\n"
   ]
  },
  {
   "cell_type": "code",
   "execution_count": 8,
   "id": "41d72dfa",
   "metadata": {},
   "outputs": [],
   "source": [
    "shuffled_dataframes = os.path.join('..', 'data', 'k_fold_CV', 'shuffled_dataframes.pkl')\n",
    "\n",
    "if split_dataframes:\n",
    "    \n",
    "    # shuffle each dataframe\n",
    "    for name, df in dataframes.items():\n",
    "        dataframes[name] = df.sample(frac=1, random_state=17).reset_index(drop=True)\n",
    "\n",
    "    # pickle save shuffled dataframes to sandbox > data, as one dictionary\n",
    "    with open(shuffled_dataframes, 'wb') as f:\n",
    "        pickle.dump(dataframes, f)\n",
    "\n",
    "else:\n",
    "    # load the shuffled dataframes\n",
    "    with open(shuffled_dataframes, 'rb') as f:\n",
    "        shuffled_dataframes = pickle.load(f)\n",
    "\n"
   ]
  },
  {
   "cell_type": "markdown",
   "id": "1122a240",
   "metadata": {},
   "source": [
    "### Split each dataframe into folds"
   ]
  },
  {
   "cell_type": "code",
   "execution_count": 9,
   "id": "b531ca51",
   "metadata": {},
   "outputs": [
    {
     "name": "stderr",
     "output_type": "stream",
     "text": [
      "/home/tom/miniconda3/envs/octagon_analysis/lib/python3.12/site-packages/numpy/_core/fromnumeric.py:57: FutureWarning: 'DataFrame.swapaxes' is deprecated and will be removed in a future version. Please use 'DataFrame.transpose' instead.\n",
      "  return bound(*args, **kwds)\n"
     ]
    }
   ],
   "source": [
    "# split each dataframe into k equal parts\n",
    "split_dataframes = {name: np.array_split(df, k) for name, df in dataframes.items()}"
   ]
  },
  {
   "cell_type": "code",
   "execution_count": 21,
   "id": "8608b027",
   "metadata": {},
   "outputs": [
    {
     "data": {
      "text/plain": [
       "pandas.core.frame.DataFrame"
      ]
     },
     "execution_count": 21,
     "metadata": {},
     "output_type": "execute_result"
    }
   ],
   "source": [
    "type(split_dataframes['glm_df_solo'][0])"
   ]
  },
  {
   "cell_type": "markdown",
   "id": "1939740f",
   "metadata": {},
   "source": [
    "### Cross-validation functions"
   ]
  },
  {
   "cell_type": "code",
   "execution_count": null,
   "id": "6ee3414c",
   "metadata": {},
   "outputs": [],
   "source": [
    "from contextlib import redirect_stdout\n",
    "\n",
    "def fit_models(split_df, model_formula):\n",
    "    '''\n",
    "    Takes a dataframe and a model formula, and fits k models to the data.\n",
    "    Wjere k is the number of folds in the split dataframe.\n",
    "    Use k-1 folds to train each model'''\n",
    "    \n",
    "    models = []\n",
    "    max_count = len(split_df)\n",
    "    f = IntProgress(min=0, max=max_count, description='Fitting models')\n",
    "    display(f)\n",
    "\n",
    "    for i, df in enumerate(split_df):\n",
    "        print(f\"Fold {i}: Type = {type(df)}\")\n",
    "\n",
    "    # Suppress the output of the models fitting process\n",
    "    with open(os.devnull, 'w') as fnull:\n",
    "        with redirect_stdout(fnull):\n",
    "            for i in range(len(split_df)):\n",
    "                # Combine all folds except the i-th fold\n",
    "                train_data = pd.concat([df for j, df in enumerate(split_df) if j != i], ignore_index=True)                \n",
    "                # Fit the Lmer model to these folds\n",
    "                model = Lmer(model_formula, data=train_data, family='binomial')\n",
    "                model.fit()\n",
    "                models.append(model)\n",
    "                print(f\"Model {i} fit with {len(train_data)} rows\")\n",
    "                f.value += 1\n",
    "    \n",
    "    return models\n",
    "\n",
    "\n",
    "def calculate_predictions(split_df, models):\n",
    "    ''' \n",
    "    Predict on the held-out fold, for each trained model\n",
    "    '''\n",
    "\n",
    "    all_predictions = []\n",
    "    \n",
    "    # for each dataframe type, predict on the held-out fold using the relevant model\n",
    "    for i, model in enumerate(models):\n",
    "        \n",
    "        # predict on the held-out fold\n",
    "        predict_data = split_df[i]\n",
    "        predictions = model.predict(predict_data, skip_data_checks=True, verify_predictions=False)\n",
    "\n",
    "        # concatenate these predictions to the predictions array\n",
    "        all_predictions.append(predictions)\n",
    "\n",
    "    return all_predictions\n",
    "\n",
    "\n",
    "\n",
    "def calculate_likelihoods(split_df, predictions):\n",
    "    ''' \n",
    "    Calculate the likelihood of each prediction given the true output.\n",
    "    The likelihood is calculated as p^y * (1-p)^(1-y), where p is the predicted probability\n",
    "    and y is the true output (0 or 1).\n",
    "\n",
    "    Takes a list of dataframes and a list of predictions, where each array of predictions corresponds\n",
    "    to the dataframe of the same index.\n",
    "    '''\n",
    "    \n",
    "    all_likelihoods = []\n",
    "    for i, prediction_fold in enumerate(predictions):\n",
    "        likelihoods = np.full(len(prediction_fold), np.nan)\n",
    "        predicted_output = prediction_fold\n",
    "        true_output = split_df[i]\n",
    "        \n",
    "        # calculate the metric for each prediction\n",
    "        for i, prediction in enumerate(predicted_output):\n",
    "            ground_truth = true_output.iloc[i]['ChooseHigh']\n",
    "            likelihood = prediction**ground_truth * (1 - prediction)**(1 - ground_truth)\n",
    "            likelihoods[i] = likelihood\n",
    "\n",
    "        all_likelihoods.append(likelihoods)\n",
    "    \n",
    "    return all_likelihoods\n",
    "\n",
    "def calculate_nll(likelihoods):\n",
    "    # #### sum the logs of the likelihoods, and take the negative\n",
    "\n",
    "    concatenated_likelihoods = np.concatenate(likelihoods)\n",
    "    summed_log_likelihoods = np.sum(np.log(concatenated_likelihoods)) \n",
    "    nll = -summed_log_likelihoods\n",
    "    average_nll = nll / concatenated_likelihoods.shape[0]\n",
    "\n",
    "    return nll, average_nll\n",
    "\n",
    "\n",
    "def save_cross_validation_results(name, model_formula, split_df, num_folds, predictions, nll, average_nll, k):\n",
    "    ''' Save the cross-validation results to a file. '''\n",
    "    \n",
    "    cross_validation_results = {\n",
    "        \"name\": name,\n",
    "        \"model_formula\": model_formula,\n",
    "        \"split_df\": split_df,\n",
    "        \"num_folds\" : num_folds,\n",
    "        # \"models\" : models,\n",
    "        \"predictions\" : predictions,\n",
    "        \"nll\" : nll,\n",
    "        \"average_nll\" : average_nll\n",
    "    }\n",
    "\n",
    "   # Save the cross-validation results to a file\n",
    "    dir = os.path.join('..', 'data', 'k_fold_CV')\n",
    "    filename = f'{k}-fold-CV_results_{name}.pickle'\n",
    "    filepath = os.path.join(dir, filename)\n",
    "    with open(filepath, 'wb') as f:\n",
    "        pickle.dump(cross_validation_results, f)\n",
    "\n",
    "    print(f\"{k}-fold CV data saved to: \", filepath)"
   ]
  },
  {
   "cell_type": "code",
   "execution_count": 14,
   "id": "eaf06e8d",
   "metadata": {},
   "outputs": [],
   "source": [
    "def run_cross_validation(split_df, model_formula, name, save_results=False):\n",
    "    ''' \n",
    "    Run k-fold cross-validation on the given dataframes.\n",
    "    '''\n",
    "\n",
    "    n_folds = len(split_df)\n",
    "\n",
    "    # Step 1: Fit models on k-1 folds for all iterations\n",
    "    models = fit_models(split_df, model_formula)\n",
    "\n",
    "    # Step 2: Calculate predictions on the held-out fold for each model\n",
    "    predictions = calculate_predictions(split_df, models)\n",
    "\n",
    "    # Step 3: Calculate likelihoods for each prediction\n",
    "    likelihoods = calculate_likelihoods(split_df, predictions)\n",
    "\n",
    "    # Step 4: Calculate NLL\n",
    "    nll, average_nll = calculate_nll(likelihoods)\n",
    "\n",
    "    # Step 5: Save data to file (optional)\n",
    "    if save_results:\n",
    "        save_cross_validation_results(name, model_formula, split_df, n_folds, predictions, nll, average_nll, k=n_folds)\n",
    "\n",
    "    return nll, models, predictions, likelihoods\n"
   ]
  },
  {
   "cell_type": "code",
   "execution_count": 24,
   "id": "d40214ae",
   "metadata": {},
   "outputs": [],
   "source": [
    "# load the file '20-fold-CV_results_solo_randomintercepts.pickle' from data/k_fold_CV\n",
    "with open(os.path.join('..', 'data', 'k_fold_CV', '20-fold-CV_results_solo_randomintercepts.pickle'), 'rb') as f:\n",
    "    cross_validation_results = pickle.load(f)"
   ]
  },
  {
   "cell_type": "code",
   "execution_count": 27,
   "id": "affa54d7",
   "metadata": {},
   "outputs": [
    {
     "data": {
      "text/plain": [
       "np.float64(0.254092780233656)"
      ]
     },
     "execution_count": 27,
     "metadata": {},
     "output_type": "execute_result"
    }
   ],
   "source": [
    "cross_validation_results['average_nll']"
   ]
  },
  {
   "cell_type": "code",
   "execution_count": 22,
   "id": "43fefcae",
   "metadata": {},
   "outputs": [
    {
     "data": {
      "application/vnd.jupyter.widget-view+json": {
       "model_id": "79b086cc0a9348328721f0fcae5d4247",
       "version_major": 2,
       "version_minor": 0
      },
      "text/plain": [
       "IntProgress(value=0, description='Fitting models', max=20)"
      ]
     },
     "metadata": {},
     "output_type": "display_data"
    },
    {
     "name": "stdout",
     "output_type": "stream",
     "text": [
      "Fold 0: Type = <class 'pandas.core.frame.DataFrame'>\n",
      "Fold 1: Type = <class 'pandas.core.frame.DataFrame'>\n",
      "Fold 2: Type = <class 'pandas.core.frame.DataFrame'>\n",
      "Fold 3: Type = <class 'pandas.core.frame.DataFrame'>\n",
      "Fold 4: Type = <class 'pandas.core.frame.DataFrame'>\n",
      "Fold 5: Type = <class 'pandas.core.frame.DataFrame'>\n",
      "Fold 6: Type = <class 'pandas.core.frame.DataFrame'>\n",
      "Fold 7: Type = <class 'pandas.core.frame.DataFrame'>\n",
      "Fold 8: Type = <class 'pandas.core.frame.DataFrame'>\n",
      "Fold 9: Type = <class 'pandas.core.frame.DataFrame'>\n",
      "Fold 10: Type = <class 'pandas.core.frame.DataFrame'>\n",
      "Fold 11: Type = <class 'pandas.core.frame.DataFrame'>\n",
      "Fold 12: Type = <class 'pandas.core.frame.DataFrame'>\n",
      "Fold 13: Type = <class 'pandas.core.frame.DataFrame'>\n",
      "Fold 14: Type = <class 'pandas.core.frame.DataFrame'>\n",
      "Fold 15: Type = <class 'pandas.core.frame.DataFrame'>\n",
      "Fold 16: Type = <class 'pandas.core.frame.DataFrame'>\n",
      "Fold 17: Type = <class 'pandas.core.frame.DataFrame'>\n",
      "Fold 18: Type = <class 'pandas.core.frame.DataFrame'>\n",
      "Fold 19: Type = <class 'pandas.core.frame.DataFrame'>\n"
     ]
    },
    {
     "name": "stderr",
     "output_type": "stream",
     "text": [
      "/home/tom/miniconda3/envs/octagon_analysis/lib/python3.12/site-packages/pymer4/models/Lmer.py:733: FutureWarning: DataFrame.applymap has been deprecated. Use DataFrame.map instead.\n",
      "  ran_vars = ran_vars.applymap(\n",
      "/home/tom/miniconda3/envs/octagon_analysis/lib/python3.12/site-packages/pymer4/models/Lmer.py:733: FutureWarning: DataFrame.applymap has been deprecated. Use DataFrame.map instead.\n",
      "  ran_vars = ran_vars.applymap(\n",
      "/home/tom/miniconda3/envs/octagon_analysis/lib/python3.12/site-packages/pymer4/models/Lmer.py:733: FutureWarning: DataFrame.applymap has been deprecated. Use DataFrame.map instead.\n",
      "  ran_vars = ran_vars.applymap(\n",
      "/home/tom/miniconda3/envs/octagon_analysis/lib/python3.12/site-packages/pymer4/models/Lmer.py:733: FutureWarning: DataFrame.applymap has been deprecated. Use DataFrame.map instead.\n",
      "  ran_vars = ran_vars.applymap(\n",
      "/home/tom/miniconda3/envs/octagon_analysis/lib/python3.12/site-packages/pymer4/models/Lmer.py:733: FutureWarning: DataFrame.applymap has been deprecated. Use DataFrame.map instead.\n",
      "  ran_vars = ran_vars.applymap(\n",
      "/home/tom/miniconda3/envs/octagon_analysis/lib/python3.12/site-packages/pymer4/models/Lmer.py:733: FutureWarning: DataFrame.applymap has been deprecated. Use DataFrame.map instead.\n",
      "  ran_vars = ran_vars.applymap(\n",
      "/home/tom/miniconda3/envs/octagon_analysis/lib/python3.12/site-packages/pymer4/models/Lmer.py:733: FutureWarning: DataFrame.applymap has been deprecated. Use DataFrame.map instead.\n",
      "  ran_vars = ran_vars.applymap(\n",
      "/home/tom/miniconda3/envs/octagon_analysis/lib/python3.12/site-packages/pymer4/models/Lmer.py:733: FutureWarning: DataFrame.applymap has been deprecated. Use DataFrame.map instead.\n",
      "  ran_vars = ran_vars.applymap(\n",
      "/home/tom/miniconda3/envs/octagon_analysis/lib/python3.12/site-packages/pymer4/models/Lmer.py:733: FutureWarning: DataFrame.applymap has been deprecated. Use DataFrame.map instead.\n",
      "  ran_vars = ran_vars.applymap(\n",
      "/home/tom/miniconda3/envs/octagon_analysis/lib/python3.12/site-packages/pymer4/models/Lmer.py:733: FutureWarning: DataFrame.applymap has been deprecated. Use DataFrame.map instead.\n",
      "  ran_vars = ran_vars.applymap(\n",
      "/home/tom/miniconda3/envs/octagon_analysis/lib/python3.12/site-packages/pymer4/models/Lmer.py:733: FutureWarning: DataFrame.applymap has been deprecated. Use DataFrame.map instead.\n",
      "  ran_vars = ran_vars.applymap(\n",
      "/home/tom/miniconda3/envs/octagon_analysis/lib/python3.12/site-packages/pymer4/models/Lmer.py:733: FutureWarning: DataFrame.applymap has been deprecated. Use DataFrame.map instead.\n",
      "  ran_vars = ran_vars.applymap(\n",
      "/home/tom/miniconda3/envs/octagon_analysis/lib/python3.12/site-packages/pymer4/models/Lmer.py:733: FutureWarning: DataFrame.applymap has been deprecated. Use DataFrame.map instead.\n",
      "  ran_vars = ran_vars.applymap(\n",
      "/home/tom/miniconda3/envs/octagon_analysis/lib/python3.12/site-packages/pymer4/models/Lmer.py:733: FutureWarning: DataFrame.applymap has been deprecated. Use DataFrame.map instead.\n",
      "  ran_vars = ran_vars.applymap(\n",
      "/home/tom/miniconda3/envs/octagon_analysis/lib/python3.12/site-packages/pymer4/models/Lmer.py:733: FutureWarning: DataFrame.applymap has been deprecated. Use DataFrame.map instead.\n",
      "  ran_vars = ran_vars.applymap(\n",
      "/home/tom/miniconda3/envs/octagon_analysis/lib/python3.12/site-packages/pymer4/models/Lmer.py:733: FutureWarning: DataFrame.applymap has been deprecated. Use DataFrame.map instead.\n",
      "  ran_vars = ran_vars.applymap(\n",
      "/home/tom/miniconda3/envs/octagon_analysis/lib/python3.12/site-packages/pymer4/models/Lmer.py:733: FutureWarning: DataFrame.applymap has been deprecated. Use DataFrame.map instead.\n",
      "  ran_vars = ran_vars.applymap(\n",
      "/home/tom/miniconda3/envs/octagon_analysis/lib/python3.12/site-packages/pymer4/models/Lmer.py:733: FutureWarning: DataFrame.applymap has been deprecated. Use DataFrame.map instead.\n",
      "  ran_vars = ran_vars.applymap(\n",
      "/home/tom/miniconda3/envs/octagon_analysis/lib/python3.12/site-packages/pymer4/models/Lmer.py:733: FutureWarning: DataFrame.applymap has been deprecated. Use DataFrame.map instead.\n",
      "  ran_vars = ran_vars.applymap(\n",
      "/home/tom/miniconda3/envs/octagon_analysis/lib/python3.12/site-packages/pymer4/models/Lmer.py:733: FutureWarning: DataFrame.applymap has been deprecated. Use DataFrame.map instead.\n",
      "  ran_vars = ran_vars.applymap(\n"
     ]
    },
    {
     "name": "stdout",
     "output_type": "stream",
     "text": [
      "20-fold CV data saved to:  ../data/k_fold_CV/20-fold-CV_results_solo_randomintercepts.pickle\n"
     ]
    }
   ],
   "source": [
    "model_formula = 'ChooseHigh ~ 1 + D2H + D2L + FirstSeenWall + WallSep + (1|GlmPlayerID)'\n",
    "(nll, models,\n",
    "  predictions, likelihoods) = run_cross_validation(split_dataframes['glm_df_solo'], model_formula,\n",
    "                                                    \"solo_randomintercepts\",\n",
    "                                                      save_results=True)"
   ]
  },
  {
   "cell_type": "code",
   "execution_count": 28,
   "id": "bee4a86c",
   "metadata": {},
   "outputs": [
    {
     "data": {
      "application/vnd.jupyter.widget-view+json": {
       "model_id": "5338257d80ed47dca391d9bc1e13985b",
       "version_major": 2,
       "version_minor": 0
      },
      "text/plain": [
       "IntProgress(value=0, description='Fitting models', max=20)"
      ]
     },
     "metadata": {},
     "output_type": "display_data"
    },
    {
     "name": "stdout",
     "output_type": "stream",
     "text": [
      "Fold 0: Type = <class 'pandas.core.frame.DataFrame'>\n",
      "Fold 1: Type = <class 'pandas.core.frame.DataFrame'>\n",
      "Fold 2: Type = <class 'pandas.core.frame.DataFrame'>\n",
      "Fold 3: Type = <class 'pandas.core.frame.DataFrame'>\n",
      "Fold 4: Type = <class 'pandas.core.frame.DataFrame'>\n",
      "Fold 5: Type = <class 'pandas.core.frame.DataFrame'>\n",
      "Fold 6: Type = <class 'pandas.core.frame.DataFrame'>\n",
      "Fold 7: Type = <class 'pandas.core.frame.DataFrame'>\n",
      "Fold 8: Type = <class 'pandas.core.frame.DataFrame'>\n",
      "Fold 9: Type = <class 'pandas.core.frame.DataFrame'>\n",
      "Fold 10: Type = <class 'pandas.core.frame.DataFrame'>\n",
      "Fold 11: Type = <class 'pandas.core.frame.DataFrame'>\n",
      "Fold 12: Type = <class 'pandas.core.frame.DataFrame'>\n",
      "Fold 13: Type = <class 'pandas.core.frame.DataFrame'>\n",
      "Fold 14: Type = <class 'pandas.core.frame.DataFrame'>\n",
      "Fold 15: Type = <class 'pandas.core.frame.DataFrame'>\n",
      "Fold 16: Type = <class 'pandas.core.frame.DataFrame'>\n",
      "Fold 17: Type = <class 'pandas.core.frame.DataFrame'>\n",
      "Fold 18: Type = <class 'pandas.core.frame.DataFrame'>\n",
      "Fold 19: Type = <class 'pandas.core.frame.DataFrame'>\n"
     ]
    },
    {
     "name": "stderr",
     "output_type": "stream",
     "text": [
      "/home/tom/miniconda3/envs/octagon_analysis/lib/python3.12/site-packages/pymer4/models/Lmer.py:733: FutureWarning: DataFrame.applymap has been deprecated. Use DataFrame.map instead.\n",
      "  ran_vars = ran_vars.applymap(\n",
      "/home/tom/miniconda3/envs/octagon_analysis/lib/python3.12/site-packages/pymer4/models/Lmer.py:733: FutureWarning: DataFrame.applymap has been deprecated. Use DataFrame.map instead.\n",
      "  ran_vars = ran_vars.applymap(\n",
      "/home/tom/miniconda3/envs/octagon_analysis/lib/python3.12/site-packages/pymer4/models/Lmer.py:733: FutureWarning: DataFrame.applymap has been deprecated. Use DataFrame.map instead.\n",
      "  ran_vars = ran_vars.applymap(\n",
      "/home/tom/miniconda3/envs/octagon_analysis/lib/python3.12/site-packages/pymer4/models/Lmer.py:733: FutureWarning: DataFrame.applymap has been deprecated. Use DataFrame.map instead.\n",
      "  ran_vars = ran_vars.applymap(\n",
      "/home/tom/miniconda3/envs/octagon_analysis/lib/python3.12/site-packages/pymer4/models/Lmer.py:733: FutureWarning: DataFrame.applymap has been deprecated. Use DataFrame.map instead.\n",
      "  ran_vars = ran_vars.applymap(\n",
      "/home/tom/miniconda3/envs/octagon_analysis/lib/python3.12/site-packages/pymer4/models/Lmer.py:733: FutureWarning: DataFrame.applymap has been deprecated. Use DataFrame.map instead.\n",
      "  ran_vars = ran_vars.applymap(\n",
      "/home/tom/miniconda3/envs/octagon_analysis/lib/python3.12/site-packages/pymer4/models/Lmer.py:733: FutureWarning: DataFrame.applymap has been deprecated. Use DataFrame.map instead.\n",
      "  ran_vars = ran_vars.applymap(\n",
      "/home/tom/miniconda3/envs/octagon_analysis/lib/python3.12/site-packages/pymer4/models/Lmer.py:733: FutureWarning: DataFrame.applymap has been deprecated. Use DataFrame.map instead.\n",
      "  ran_vars = ran_vars.applymap(\n",
      "/home/tom/miniconda3/envs/octagon_analysis/lib/python3.12/site-packages/pymer4/models/Lmer.py:733: FutureWarning: DataFrame.applymap has been deprecated. Use DataFrame.map instead.\n",
      "  ran_vars = ran_vars.applymap(\n",
      "/home/tom/miniconda3/envs/octagon_analysis/lib/python3.12/site-packages/pymer4/models/Lmer.py:733: FutureWarning: DataFrame.applymap has been deprecated. Use DataFrame.map instead.\n",
      "  ran_vars = ran_vars.applymap(\n",
      "/home/tom/miniconda3/envs/octagon_analysis/lib/python3.12/site-packages/pymer4/models/Lmer.py:733: FutureWarning: DataFrame.applymap has been deprecated. Use DataFrame.map instead.\n",
      "  ran_vars = ran_vars.applymap(\n",
      "/home/tom/miniconda3/envs/octagon_analysis/lib/python3.12/site-packages/pymer4/models/Lmer.py:733: FutureWarning: DataFrame.applymap has been deprecated. Use DataFrame.map instead.\n",
      "  ran_vars = ran_vars.applymap(\n",
      "/home/tom/miniconda3/envs/octagon_analysis/lib/python3.12/site-packages/pymer4/models/Lmer.py:733: FutureWarning: DataFrame.applymap has been deprecated. Use DataFrame.map instead.\n",
      "  ran_vars = ran_vars.applymap(\n",
      "/home/tom/miniconda3/envs/octagon_analysis/lib/python3.12/site-packages/pymer4/models/Lmer.py:733: FutureWarning: DataFrame.applymap has been deprecated. Use DataFrame.map instead.\n",
      "  ran_vars = ran_vars.applymap(\n",
      "/home/tom/miniconda3/envs/octagon_analysis/lib/python3.12/site-packages/pymer4/models/Lmer.py:733: FutureWarning: DataFrame.applymap has been deprecated. Use DataFrame.map instead.\n",
      "  ran_vars = ran_vars.applymap(\n",
      "/home/tom/miniconda3/envs/octagon_analysis/lib/python3.12/site-packages/pymer4/models/Lmer.py:733: FutureWarning: DataFrame.applymap has been deprecated. Use DataFrame.map instead.\n",
      "  ran_vars = ran_vars.applymap(\n",
      "/home/tom/miniconda3/envs/octagon_analysis/lib/python3.12/site-packages/pymer4/models/Lmer.py:733: FutureWarning: DataFrame.applymap has been deprecated. Use DataFrame.map instead.\n",
      "  ran_vars = ran_vars.applymap(\n",
      "/home/tom/miniconda3/envs/octagon_analysis/lib/python3.12/site-packages/pymer4/models/Lmer.py:733: FutureWarning: DataFrame.applymap has been deprecated. Use DataFrame.map instead.\n",
      "  ran_vars = ran_vars.applymap(\n",
      "/home/tom/miniconda3/envs/octagon_analysis/lib/python3.12/site-packages/pymer4/models/Lmer.py:733: FutureWarning: DataFrame.applymap has been deprecated. Use DataFrame.map instead.\n",
      "  ran_vars = ran_vars.applymap(\n",
      "/home/tom/miniconda3/envs/octagon_analysis/lib/python3.12/site-packages/pymer4/models/Lmer.py:733: FutureWarning: DataFrame.applymap has been deprecated. Use DataFrame.map instead.\n",
      "  ran_vars = ran_vars.applymap(\n"
     ]
    },
    {
     "name": "stdout",
     "output_type": "stream",
     "text": [
      "20-fold CV data saved to:  ../data/k_fold_CV/20-fold-CV_results_social_randomintercepts_opponentvisible.pickle\n"
     ]
    }
   ],
   "source": [
    "model_formula = 'ChooseHigh ~ 1 + D2H + D2L + FirstSeenWall + WallSep + OpponentVisible + OpponentD2H' \\\n",
    "' + OpponentD2L + OpponentFirstSeenWall + (1|GlmPlayerID)'\n",
    "\n",
    "(nll, models,\n",
    "  predictions, likelihoods) = run_cross_validation(split_dataframes['glm_df_social'], model_formula,\n",
    "                                                    \"social_randomintercepts_opponentvisible\",\n",
    "                                                      save_results=True)"
   ]
  }
 ],
 "metadata": {
  "kernelspec": {
   "display_name": "octagon_analysis",
   "language": "python",
   "name": "python3"
  },
  "language_info": {
   "codemirror_mode": {
    "name": "ipython",
    "version": 3
   },
   "file_extension": ".py",
   "mimetype": "text/x-python",
   "name": "python",
   "nbconvert_exporter": "python",
   "pygments_lexer": "ipython3",
   "version": "3.12.10"
  }
 },
 "nbformat": 4,
 "nbformat_minor": 5
}
