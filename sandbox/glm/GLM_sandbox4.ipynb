{
 "cells": [
  {
   "cell_type": "code",
   "execution_count": 4,
   "id": "f27dcf6a",
   "metadata": {},
   "outputs": [
    {
     "name": "stdout",
     "output_type": "stream",
     "text": [
      "None\n"
     ]
    }
   ],
   "source": [
    "import os\n",
    "print(os.environ.get('HOME'))"
   ]
  },
  {
   "cell_type": "code",
   "execution_count": 6,
   "id": "d4992911-7b02-448c-8ee5-c89c228ad2ed",
   "metadata": {},
   "outputs": [
    {
     "name": "stdout",
     "output_type": "stream",
     "text": [
      "The autoreload extension is already loaded. To reload it, use:\n",
      "  %reload_ext autoreload\n",
      "[1] \"R version 4.1.3 (2022-03-10)\"\n",
      "\n"
     ]
    }
   ],
   "source": [
    "%load_ext autoreload\n",
    "%autoreload 2\n",
    "\n",
    "import data_strings\n",
    "\n",
    "import os  \n",
    "# Set the environment for R\n",
    "if os.environ.get('HOME') == '/home/tom':\n",
    "    os.environ['R_HOME'] = '/home/tom/miniconda3/envs/octagon_analysis/lib/R'  # Lab desktop\n",
    "elif os.environ.get('HOME') == 1:\n",
    "    os.environ['R_HOME']= r'C:\\Users\\tomha\\miniconda3\\envs\\octagon_analysis\\lib\\R'  # Laptop\n",
    "elif data_strings.DATA_FOLDER == r'D:\\Users\\Tom\\OneDrive\\PhD\\SWC\\data\\pseudonymised_json_files':\n",
    "    os.environ['R_HOME']=r'D:\\Users\\Tom\\miniconda3\\envs\\octagon_analysis\\lib\\R'       # Home desktop\n",
    "# elif:\n",
    "    # append other machines here\n",
    "\n",
    "\n",
    "import rpy2.robjects as robjects\n",
    "from rpy2.robjects.packages import importr\n",
    "\n",
    "print(robjects.r('R.version.string'))\n",
    "\n",
    "import parse_data.prepare_data as prepare_data\n",
    "import numpy as np\n",
    "import pandas as pd\n",
    "import matplotlib.pyplot as plt\n",
    "import globals\n",
    "import data_extraction.get_indices as get_indices\n",
    "import analysis.wall_visibility_and_choice as wall_visibility_and_choice\n",
    "from trajectory_analysis import trajectory_vectors\n",
    "from plotting import plot_octagon\n",
    "import parse_data.identify_filepaths as identify_filepaths \n",
    "from analysis import opponent_visibility\n",
    "import pickle\n"
   ]
  },
  {
   "cell_type": "markdown",
   "id": "c7aba76b",
   "metadata": {},
   "source": [
    "# GLM model generation notebook (not cross-validated, see glm_model_comparsions and glm_analysis)"
   ]
  },
  {
   "cell_type": "code",
   "execution_count": 7,
   "id": "65732e16",
   "metadata": {},
   "outputs": [],
   "source": [
    "# load analysis_results dictionary or create it\n",
    "load_analysis_results = True"
   ]
  },
  {
   "cell_type": "markdown",
   "id": "7a24b223",
   "metadata": {},
   "source": [
    "### Load data and combine solo sessions (pre- and post-)"
   ]
  },
  {
   "cell_type": "code",
   "execution_count": 8,
   "id": "8d30f028",
   "metadata": {},
   "outputs": [],
   "source": [
    "data_folder = data_strings.DATA_FOLDER\n",
    "json_filenames_social, json_filenames_solo = identify_filepaths.get_filenames()"
   ]
  },
  {
   "cell_type": "code",
   "execution_count": null,
   "id": "c07cb011",
   "metadata": {},
   "outputs": [],
   "source": [
    "# # restrict data for testing\n",
    "# json_filenames_social = json_filenames_social[:8]\n",
    "# json_filenames_solo = json_filenames_solo[:32]"
   ]
  },
  {
   "cell_type": "code",
   "execution_count": null,
   "id": "05cbba93",
   "metadata": {},
   "outputs": [],
   "source": [
    "df, trial_lists_social = prepare_data.prepare_data(data_folder, json_filenames_social, combine=False)"
   ]
  },
  {
   "cell_type": "code",
   "execution_count": null,
   "id": "167898aa-3073-479e-8eef-6c579c67c7f4",
   "metadata": {
    "scrolled": true
   },
   "outputs": [],
   "source": [
    "df, trial_lists_solo = prepare_data.prepare_data(data_folder, json_filenames_solo, combine=False)"
   ]
  },
  {
   "cell_type": "code",
   "execution_count": null,
   "id": "b0a8edd3",
   "metadata": {},
   "outputs": [],
   "source": [
    "# create a list of combined pre- and post- social solo sessions, removing 5 trials from each pre\n",
    "trial_lists_combined_solo = []\n",
    "cut_trials = 5\n",
    "for i in range(0,len(trial_lists_solo), 2): # iterate over each individual\n",
    "    # get the trial lists for both solo sessions\n",
    "    trial_list_first_solo = trial_lists_solo[i]\n",
    "    trial_list_second_solo = trial_lists_solo[i + 1]\n",
    "\n",
    "    # cut first cut_trials trials (learning controls/associations) from the first solo\n",
    "    trial_list_first_solo = trial_list_first_solo[cut_trials:]\n",
    "\n",
    "    # combine trial lists from the first and second solo sessions (the current and consecutive index)\n",
    "    trial_list = trial_list_first_solo + trial_list_second_solo\n",
    "\n",
    "    trial_lists_combined_solo.append(trial_list)\n"
   ]
  },
  {
   "cell_type": "code",
   "execution_count": null,
   "id": "4890fa3e",
   "metadata": {},
   "outputs": [],
   "source": [
    "len(trial_lists_combined_solo), len(trial_lists_social)"
   ]
  },
  {
   "cell_type": "markdown",
   "id": "f46092b8",
   "metadata": {},
   "source": [
    "### Regressor value extraction functions (for one session). To be used if not loading pre-generated analysis_results"
   ]
  },
  {
   "cell_type": "code",
   "execution_count": null,
   "id": "78024b02",
   "metadata": {},
   "outputs": [],
   "source": [
    "def extract_wall_sep(trial_list, normalise=False):\n",
    "    ''' Return wall separation for one session.\n",
    "        1 for 45 degrees, 2 for 90 and 4 for 180. '''\n",
    "    \n",
    "    wall_sep = np.full(len(trial_list), np.nan)\n",
    "    for i, trial in enumerate(trial_list):\n",
    "        wall_sep_this_trial = get_indices.get_wall_difference(trial=trial)\n",
    "        wall_sep[i] = wall_sep_this_trial\n",
    "\n",
    "    if normalise:\n",
    "        wall_sep = wall_sep/4\n",
    "\n",
    "    return wall_sep\n",
    "\n",
    "\n",
    "def extract_first_wall_seen(trial_list, player_id):\n",
    "    ''' Return first visible walls for one player across one session.\n",
    "        1 for WALL_1, 2 for WALL_2, np.nan for no visible wall (or both initially visible). '''\n",
    "        \n",
    "    high_wall_first_visible_session = wall_visibility_and_choice.get_given_wall_first_visible_session(trial_list,\n",
    "                                                                                                        player_id,\n",
    "                                                                                                        wall_index=0,\n",
    "                                                                                                        current_fov=110)\n",
    "\n",
    "    low_wall_first_visible_session = wall_visibility_and_choice.get_given_wall_first_visible_session(trial_list,\n",
    "                                                                                                        player_id, \n",
    "                                                                                                        wall_index=1,\n",
    "                                                                                                        current_fov=110)\n",
    "    low_wall_first_visible_session = low_wall_first_visible_session*2\n",
    "    \n",
    "    first_visible_session = high_wall_first_visible_session + low_wall_first_visible_session\n",
    "\n",
    "    first_visible_session[first_visible_session == 0] = np.nan\n",
    "\n",
    "    return first_visible_session\n",
    "\n",
    "def extract_first_wall_visibilities(trial_list, player_id, three_levels=False):\n",
    "    ''' Return first visible walls for one player across one session.\n",
    "        1 for WALL_1, 2 for WALL_2, and np.nan for no visible wall.\n",
    "        If three_levels, 1 for WALL_1, 2 for WALL_2, 3 for both visible, and np.nan for neither. '''\n",
    "\n",
    "    first_visible_session = np.full(len(trial_list), np.nan)\n",
    "    for i, trial in enumerate(trial_list):\n",
    "        wall_vis_order = wall_visibility_and_choice.get_wall_visibility_order_trial(player_id, trial, current_fov=110)\n",
    "\n",
    "        # decide whether one wall is first visible, both were initially visible, or neither wall was visible\n",
    "        # plus 1 to each index to match the wall number (1 and 2) rather than the index (0 and 1)\n",
    "        if np.all(wall_vis_order == 0): # both walls visible at the start of the trial\n",
    "            if three_levels:\n",
    "                this_trial_first_visible = wall_vis_order.size + 1\n",
    "            else:\n",
    "                this_trial_first_visible = np.nan  # optionally set both walls visible to np.nan instead of 3\n",
    "        elif np.all(np.isnan(wall_vis_order)): # neither wall visible at the start of the trial\n",
    "            this_trial_first_visible = np.nan\n",
    "        elif np.sum(wall_vis_order == 0) == 1: # one wall visible at the start of the trial\n",
    "            this_trial_first_visible = np.where(wall_vis_order == 0)[0][0] + 1\n",
    "\n",
    "        first_visible_session[i] = this_trial_first_visible\n",
    "\n",
    "    return first_visible_session\n",
    "\n",
    "# double check code\n",
    "def extract_distances_to_walls(trial_list, player_id, normalise=False):\n",
    "    ''' Return a trial_num, 2 sized array, where column 1\n",
    "        is distance to WALL_1, and column 2 is distance to WALL_2.\n",
    "        Data applies to one full session, and specified player_id.\n",
    "        If normalise, returns distances as a proportion of the maximum\n",
    "        possible in the arena '''\n",
    "    \n",
    "    # get octagon alcove coordinates\n",
    "    alcove_coordinates = plot_octagon.return_alcove_centre_points()\n",
    "\n",
    "    positions_session = np.full((len(trial_list), 2), np.nan)\n",
    "    walls_session = np.full((len(trial_list), 2), np.nan)\n",
    "    distances_session = np.full((len(trial_list), 2), np.nan)\n",
    "\n",
    "    # get distances for each trial in the session\n",
    "    for i, trial in enumerate(trial_list):\n",
    "        # get WALL_1 and WALL_2 coordinates\n",
    "        trial_walls = get_indices.get_walls(trial)\n",
    "        high_wall_idx = trial_walls[0] - 1\n",
    "        low_wall_idx = trial_walls[1] - 1\n",
    "        trial_high_coordinates = alcove_coordinates[:,high_wall_idx]\n",
    "        trial_low_coordinates = alcove_coordinates[:, low_wall_idx]\n",
    "\n",
    "        # index trajectory at timepoint 0 to get player starting coordinates\n",
    "        trajectory = trajectory_vectors.extract_trial_player_trajectory(trial=trial, player_id=player_id)\n",
    "        trial_start_position = trajectory[:,0]\n",
    "\n",
    "        # find distance between start position and WALL_1/WALL_2\n",
    "        d2h = np.linalg.norm(trial_high_coordinates - trial_start_position) # WALL_1\n",
    "        d2l = np.linalg.norm(trial_low_coordinates - trial_start_position) # WALL_2\n",
    "\n",
    "        walls_session[i,:] = trial_walls \n",
    "        positions_session[i,:] = trial_start_position\n",
    "        distances_session[i,:] = np.hstack((d2h, d2l))\n",
    "\n",
    "    # normalise to maximum possible distance in octagon\n",
    "    if normalise:\n",
    "        distances_session = distances_session/plot_octagon.return_maximum_distance()\n",
    "\n",
    "    return distances_session\n",
    "\n",
    "\n",
    "def extract_opponent_visibility_slice_onset(trial_list, player_id, current_fov=110):\n",
    "    ''' Return opponent visibility at slice onset for one player for one session.\n",
    "        1 for opponent visible, 0 for opponent not visible '''\n",
    "    \n",
    "    # slice onset angle of Other from self centre FoV\n",
    "    orientation_angle_to_other_session = opponent_visibility.get_angle_of_opponent_from_player_session(player_id, trial_list)\n",
    "\n",
    "    # boolean array of Other visible\n",
    "    other_visible_session = opponent_visibility.get_other_visible_session(orientation_angle_to_other_session, current_fov)\n",
    "    other_visible_session = other_visible_session.astype(int) # converted to int for categorical regressor\n",
    "\n",
    "    # does this return 1 and 0? \n",
    "\n",
    "    return other_visible_session\n",
    "\n",
    "\n",
    "def extract_player_choice(trial_list, player_id, inferred_choice=True, debug=True):\n",
    "    ''' Return (inferred by default) player choice for one player for one session.\n",
    "        Where inferred and actual choice are both missing, values are np.nan '''\n",
    "\n",
    "    # array of wall numbers where player choice is available, np.nan where it is not\n",
    "    player_choice = wall_visibility_and_choice.get_player_wall_choice(trial_list, player_id,\n",
    "                                                                        inferred_choice=inferred_choice, debug=debug)\n",
    "\n",
    "    # 2 where player chose High, 0 where player chose Low, np.nan where lacking inferred choice\n",
    "    high_wall_chosen_session = get_indices.was_given_wall_chosen(trial_list, player_choice,\n",
    "                                                                    given_wall_index=0)\n",
    "    high_wall_chosen_session = high_wall_chosen_session*2\n",
    "    print(f\"High wall chosen session:\\n{high_wall_chosen_session}\")\n",
    "\n",
    "    # 1 where player chose Low, 0 where player chose High, np.nan where lacking inferred choice\n",
    "    low_wall_chosen_session  = get_indices.was_given_wall_chosen(trial_list, player_choice,\n",
    "                                                                    given_wall_index=1)\n",
    "    \n",
    "    print(f\"Low wall chosen session:\\n{low_wall_chosen_session}\")\n",
    "\n",
    "    # 1 or 2 where player chose Low or High respectively, np.nan where lacking inferred choice\n",
    "    chosen_wall_session = high_wall_chosen_session + low_wall_chosen_session\n",
    "\n",
    "    print(f\"Overall chosen wall for this session:\\n{chosen_wall_session}\")\n",
    "\n",
    "    # Does this switch to 0 or 1 respectively and np.nan? \n",
    "    chosen_wall_session = chosen_wall_session -1 \n",
    "\n",
    "    return chosen_wall_session\n",
    "\n",
    "\n",
    "def extract_trial_outcome(trial_list, player_id):\n",
    "    ''' Return whether this player won the trial for one player for one session '''\n",
    "    \n",
    "    trigger_activators = get_indices.get_trigger_activators(trial_list)\n",
    "    this_player_won_session = (trigger_activators-1)*-1 if player_id == 0 else trigger_activators\n",
    "\n",
    "    return this_player_won_session"
   ]
  },
  {
   "cell_type": "markdown",
   "id": "28d1d09b",
   "metadata": {},
   "source": [
    "### Create a dictionary to hold, for each session and player, regressor values for the session, only including trials with fully-populated regessors\n",
    "- Fields for each of the regressors applied to all trials\n",
    "- Fields for each of the regressors with only valid trials\n"
   ]
  },
  {
   "cell_type": "code",
   "execution_count": null,
   "id": "725c0ae9",
   "metadata": {},
   "outputs": [],
   "source": [
    "player_ids = [0,1]\n",
    "\n",
    "analysis_results = {\n",
    "    experiment_id: {\n",
    "        player_id: {\n",
    "            session_type: {\n",
    "\n",
    "                'regressors': {\n",
    "                    'wall_sep': None,\n",
    "                    'first_seen': None,\n",
    "                    'd2h': None,\n",
    "                    'd2l': None,\n",
    "                    'opponent_visible': None,\n",
    "                    'd2h_opponent': None,\n",
    "                    'd2l_opponent': None\n",
    "                },\n",
    "\n",
    "                'dependent': {\n",
    "                    'choice': None\n",
    "                },\n",
    "\n",
    "                'misc': {\n",
    "                    'valid_trial_indices': None,\n",
    "                    'high_low_trial_indices': None\n",
    "                }\n",
    "                \n",
    "            }\n",
    "            for session_type in ['solo', 'social']\n",
    "        }   \n",
    "        for player_id in player_ids\n",
    "    }\n",
    "    for experiment_id in np.arange(len(trial_lists_social))\n",
    "}"
   ]
  },
  {
   "cell_type": "markdown",
   "id": "a932ecf8",
   "metadata": {},
   "source": [
    "### Populate the dictionary with data, if not loading from file (this takes ~10 mins)"
   ]
  },
  {
   "cell_type": "code",
   "execution_count": null,
   "id": "c0518dba",
   "metadata": {},
   "outputs": [],
   "source": [
    "opponent_first_seen_wall = True"
   ]
  },
  {
   "cell_type": "code",
   "execution_count": null,
   "id": "f69d4c6d",
   "metadata": {},
   "outputs": [],
   "source": [
    "if not load_analysis_results:\n",
    "\n",
    "  for experiment_id, players in analysis_results.items():\n",
    "      for player_id, data in players.items():\n",
    "          \n",
    "          # get opponent_id\n",
    "          opponent_id = 1 if player_id == 0 else 0\n",
    "          \n",
    "          # get the trial lists for this session and player\n",
    "          trial_list_social = trial_lists_social[experiment_id]\n",
    "          trial_list_solo = trial_lists_combined_solo[experiment_id*2 + player_id] # player_id used to select correct solo\n",
    "          trial_lists = [trial_list_social, trial_list_solo]\n",
    "          print(f\"Trial list social length for experimentId {experiment_id} and playerId {player_id}: {len(trial_list_social)}\")\n",
    "          \n",
    "          # filter the trial lists for HighLow trials\n",
    "          original_indices_lists = []\n",
    "          for i, trial_list in enumerate(trial_lists):\n",
    "            original_indices = np.arange(len(trial_list))\n",
    "            \n",
    "            # identify indices of trial list with HighLow trials and filter\n",
    "            high_low_trial_indices = get_indices.get_trials_trialtype(trial_list, trial_type=globals.HIGH_LOW)\n",
    "            original_indices = original_indices[high_low_trial_indices]\n",
    "            trial_list_filtered = [trial_list[i] for i in high_low_trial_indices]\n",
    "            trial_lists[i] = trial_list_filtered\n",
    "            original_indices_lists.append(original_indices)\n",
    "            print(f\"{high_low_trial_indices.size} high_low_trial_indices for player_id {player_id}, trail_list {i}\\n out of {len(trial_list)} total trials\")\n",
    "\n",
    "          # re-assign trial lists\n",
    "          trial_list_social = trial_lists[0]\n",
    "          trial_list_solo = trial_lists[1]\n",
    "          \n",
    "          ## social, use player_id == player_id and trial_list_social for functions\n",
    "          # regressors social\n",
    "          player_data = analysis_results[experiment_id][player_id]['social']\n",
    "          distances = extract_distances_to_walls(trial_list_social, player_id, normalise=True)\n",
    "          distances_opponent = extract_distances_to_walls(trial_list_social, player_id=opponent_id, normalise=True)\n",
    "          player_data['regressors']['wall_sep'] = extract_wall_sep(trial_list_social, normalise=True)\n",
    "          player_data['regressors']['first_seen'] = extract_first_wall_visibilities(trial_list_social, player_id, three_levels=False)\n",
    "          player_data['regressors']['d2h'] = distances[:,0]\n",
    "          player_data['regressors']['d2l'] = distances[:,1]\n",
    "          player_data['regressors']['opponent_visible'] = extract_opponent_visibility_slice_onset(trial_list_social, player_id)\n",
    "          player_data['regressors']['d2h_opponent'] = distances_opponent[:,0]\n",
    "          player_data['regressors']['d2l_opponent'] = distances_opponent[:,1]\n",
    "          if opponent_first_seen_wall:\n",
    "            player_data['regressors']['first_seen_opponent'] = extract_first_wall_visibilities(trial_list_social, opponent_id)\n",
    "\n",
    "          # dependent variable social\n",
    "          player_data['dependent']['choice'] = player_choice_session = extract_player_choice(trial_list_social, player_id, inferred_choice=True)\n",
    "\n",
    "          # misc\n",
    "          # player_data['misc']['valid_trial_indices'] = filtered_valid_trial_indices_social\n",
    "          player_data['misc']['high_low_trial_indices'] = original_indices_lists[0] # social trial list indices\n",
    "\n",
    "\n",
    "\n",
    "          ## solo, use player_id == 0 and trial_list_solo for functions\n",
    "          # regressors solo\n",
    "          player_data = analysis_results[experiment_id][player_id]['solo']\n",
    "          distances = extract_distances_to_walls(trial_list_solo, player_id=0, normalise=True)\n",
    "          player_data['regressors']['wall_sep'] = extract_wall_sep(trial_list_solo, normalise=True)\n",
    "          player_data['regressors']['first_seen'] = extract_first_wall_visibilities(trial_list_solo, player_id=0, three_levels=False)\n",
    "          player_data['regressors']['d2h'] = distances[:,0]\n",
    "          player_data['regressors']['d2l'] = distances[:,1]\n",
    "\n",
    "          # dependent variable solo\n",
    "          player_data['dependent']['choice'] = player_choice_session = extract_player_choice(trial_list_solo, player_id=0, inferred_choice=False) # no inferred for solo\n",
    "\n",
    "          # misc\n",
    "          player_data['misc']['high_low_trial_indices'] = original_indices_lists[1] # solo trial list indices\n"
   ]
  },
  {
   "cell_type": "code",
   "execution_count": 9,
   "id": "0f72035d",
   "metadata": {},
   "outputs": [],
   "source": [
    "# save generated analysis_results\n",
    "if not load_analysis_results:\n",
    "    path = os.path.join('..', 'data', 'analysis_results_2levelsFirstSeenWall_normalisedWallSep.pkl')\n",
    "    with open(path, 'wb') as f:\n",
    "        pickle.dump(analysis_results, f)\n",
    "\n",
    "else: # load analysis_results\n",
    "    analysis_dir = os.path.join('..', 'data')\n",
    "    analysis_file = 'analysis_results_3levelsFirstSeenWall_normalisedWallSep.pkl' # this is the data to use\n",
    "    # analysis_file = 'analysis_results_2levelsFirstSeenWall_normalisedWallSep.pkl'   \n",
    "\n",
    "    filename = os.path.join(analysis_dir, analysis_file)\n",
    "    # load the analysis results\n",
    "    with open(filename, 'rb') as f:\n",
    "        analysis_results = pickle.load(f)"
   ]
  },
  {
   "cell_type": "markdown",
   "id": "84d8fe2a",
   "metadata": {},
   "source": [
    "#### Populate a dataframe, with a row for each trial, and fields for regressors (including player ID as a regressor)"
   ]
  },
  {
   "cell_type": "markdown",
   "id": "1128d5f1",
   "metadata": {},
   "source": [
    "#### Social df"
   ]
  },
  {
   "cell_type": "code",
   "execution_count": 10,
   "id": "08434f0d",
   "metadata": {},
   "outputs": [],
   "source": [
    "glm_df_social = pd.DataFrame()\n",
    "\n",
    "for session_id, players in analysis_results.items():\n",
    "    for player_id in players:\n",
    "        \n",
    "        # take each filtered_regressor array and fill the relevant df field for this player\n",
    "        player_data = analysis_results[session_id][player_id]['social']['regressors']\n",
    "        choice = analysis_results[session_id][player_id]['social']['dependent']['choice']\n",
    "        opponent_player_id = 1 if player_id == 0 else 1\n",
    "        opponent_player_data = analysis_results[session_id][opponent_player_id]['social']['regressors']\n",
    "        df_player = pd.DataFrame(\n",
    "                    {\n",
    "                        \"SessionID\" : session_id,\n",
    "                        \"PlayerID\" : player_id,\n",
    "                        \"GlmPlayerID\" : session_id*2 + player_id,\n",
    "                        \"ChooseHigh\" : choice,\n",
    "                        \"WallSep\" : player_data['wall_sep'],\n",
    "                        \"FirstSeenWall\" : player_data['first_seen'],\n",
    "                        \"D2H\" : player_data['d2h'],\n",
    "                        \"D2L\" : player_data['d2l'],\n",
    "                        \"OpponentVisible\" : player_data['opponent_visible'],\n",
    "                        \"OpponentFirstSeenWall\" : player_data['first_seen_opponent'],\n",
    "                        \"OpponentD2H\" : player_data['d2h_opponent'],\n",
    "                        \"OpponentD2L\" : player_data['d2l_opponent']\n",
    "                        \n",
    "                    }\n",
    "        )\n",
    "\n",
    "\n",
    "        # append this smaller dataframe to the the full dataframe\n",
    "        glm_df_social = pd.concat([glm_df_social, df_player], ignore_index=True)\n",
    "\n",
    "# convert to categorical variables, retaining np.nans\n",
    "glm_df_social[\"FirstSeenWall\"] = glm_df_social[\"FirstSeenWall\"].apply(lambda x: str(x) if pd.notna(x) else x)\n",
    "glm_df_social[\"OpponentFirstSeenWall\"] = glm_df_social[\"OpponentFirstSeenWall\"].apply(lambda x: str(x) if pd.notna(x) else x)\n",
    "glm_df_social[\"FirstSeenWall\"] = glm_df_social[\"FirstSeenWall\"].astype(\"category\")\n",
    "glm_df_social[\"OpponentFirstSeenWall\"] = glm_df_social[\"OpponentFirstSeenWall\"].astype(\"category\")\n",
    "\n",
    "# glm_df_social[\"WallSep\"] = glm_df_social[\"WallSep\"].astype(\"category\") # now using continuous values for wall separation"
   ]
  },
  {
   "cell_type": "markdown",
   "id": "bf38e772",
   "metadata": {},
   "source": [
    "#### solo-social combined df"
   ]
  },
  {
   "cell_type": "code",
   "execution_count": 11,
   "id": "f4325d2f",
   "metadata": {},
   "outputs": [],
   "source": [
    "glm_df_solo_social = pd.DataFrame()\n",
    "\n",
    "for session_id, players in analysis_results.items():\n",
    "    for player_id in players:\n",
    "        \n",
    "        # take each filtered_regressor array and fill the relevant df field for this player\n",
    "        player_data_solo = analysis_results[session_id][player_id]['solo']['regressors']\n",
    "        player_data_social = analysis_results[session_id][player_id]['social']['regressors']\n",
    "        choice_solo = analysis_results[session_id][player_id]['solo']['dependent']['choice']\n",
    "        choice_social = analysis_results[session_id][player_id]['social']['dependent']['choice']\n",
    "        df_player = pd.DataFrame(\n",
    "                    {\n",
    "                        \"SessionID\" : session_id,\n",
    "                        \"PlayerID\" : player_id,\n",
    "                        \"GlmPlayerID\" : session_id*2 + player_id,\n",
    "                        \"ChooseHigh\" : np.concatenate([choice_solo, choice_social]),\n",
    "                        \"WallSep\" :  np.concatenate([player_data_solo['wall_sep'], player_data_social['wall_sep']]),\n",
    "                        \"FirstSeenWall\" : np.concatenate([player_data_solo['first_seen'], player_data_social['first_seen']]),\n",
    "                        \"D2H\" : np.concatenate([player_data_solo['d2h'], player_data_social['d2h']]),\n",
    "                        \"D2L\" : np.concatenate([player_data_solo['d2l'], player_data_social['d2l']]),\n",
    "                        \"SocialContext\" : np.concatenate([np.ones(player_data_solo[\"wall_sep\"].shape[0]) - 1, np.ones(player_data_social[\"wall_sep\"].shape[0])]) # 0 for solo, 1 for social\n",
    "                    }\n",
    "        )\n",
    "\n",
    "        # append this smaller dataframe to the the full dataframe\n",
    "        glm_df_solo_social = pd.concat([glm_df_solo_social, df_player], ignore_index=True)\n",
    "\n",
    "# convert to categorical variables, retaining np.nans\n",
    "glm_df_solo_social[\"FirstSeenWall\"] = glm_df_solo_social[\"FirstSeenWall\"].apply(lambda x: str(x) if pd.notna(x) else x)\n",
    "glm_df_solo_social[\"FirstSeenWall\"] = glm_df_solo_social[\"FirstSeenWall\"].astype(\"category\")\n",
    "# glm_df_solo_social[\"WallSep\"] = glm_df_solo_social[\"WallSep\"].astype(\"category\")"
   ]
  },
  {
   "cell_type": "markdown",
   "id": "3565ae82",
   "metadata": {},
   "source": [
    "#### Solo df"
   ]
  },
  {
   "cell_type": "code",
   "execution_count": 12,
   "id": "e4587511",
   "metadata": {},
   "outputs": [],
   "source": [
    "glm_df_solo = pd.DataFrame()\n",
    "\n",
    "for session_id, players in analysis_results.items():\n",
    "    for player_id in players:\n",
    "        \n",
    "        # take each filtered_regressor array and fill the relevant df field for this player\n",
    "        player_data = analysis_results[session_id][player_id]['solo']['regressors']\n",
    "        choice = analysis_results[session_id][player_id]['solo']['dependent']['choice']\n",
    "        df_player = pd.DataFrame(\n",
    "                    {\n",
    "                        \"SessionID\" : session_id,\n",
    "                        \"PlayerID\" : player_id,\n",
    "                        \"GlmPlayerID\" : session_id*2 + player_id,\n",
    "                        \"ChooseHigh\" : choice,\n",
    "                        \"WallSep\" : player_data['wall_sep'],\n",
    "                        \"FirstSeenWall\" : player_data['first_seen'],\n",
    "                        \"D2H\" : player_data['d2h'],\n",
    "                        \"D2L\" : player_data['d2l']\n",
    "                    }\n",
    "        )\n",
    "\n",
    "        # append this smaller dataframe to the the full dataframe\n",
    "        glm_df_solo = pd.concat([glm_df_solo, df_player], ignore_index=True)\n",
    "\n",
    "# convert to categorical variables, retaining np.nans\n",
    "glm_df_solo[\"FirstSeenWall\"] = glm_df_solo[\"FirstSeenWall\"].apply(lambda x: str(x) if pd.notna(x) else x)\n",
    "glm_df_solo[\"FirstSeenWall\"] = glm_df_solo[\"FirstSeenWall\"].astype(\"category\")\n",
    "\n",
    "# glm_df_solo[\"WallSep\"] = glm_df_solo[\"WallSep\"].astype(str).astype(\"category\")"
   ]
  },
  {
   "cell_type": "markdown",
   "id": "fb33dbb2",
   "metadata": {},
   "source": [
    "#### GLM Code in Pymer4"
   ]
  },
  {
   "cell_type": "code",
   "execution_count": 13,
   "id": "ed1f8ca3",
   "metadata": {},
   "outputs": [
    {
     "name": "stderr",
     "output_type": "stream",
     "text": [
      "R version 4.1.3 (2022-03-10) -- \"One Push-Up\"\n",
      "Copyright (C) 2022 The R Foundation for Statistical Computing\n",
      "Platform: x86_64-w64-mingw32/x64 (64-bit)\n",
      "\n",
      "R is free software and comes with ABSOLUTELY NO WARRANTY.\n",
      "You are welcome to redistribute it under the terms of the\n",
      "GNU General Public License versions 2 or 3.\n",
      "For more information about these matters see\n",
      "https://www.gnu.org/licenses/.\n",
      "\n"
     ]
    }
   ],
   "source": [
    "# Check that R is loadable\n",
    "!R --version\n"
   ]
  },
  {
   "cell_type": "code",
   "execution_count": 14,
   "id": "172a3314",
   "metadata": {},
   "outputs": [
    {
     "name": "stdout",
     "output_type": "stream",
     "text": [
      "boundary (singular) fit: see help('isSingular') \n",
      "\n",
      "Linear mixed model fit by maximum likelihood  ['lmerMod']\n",
      "Formula: y~x+(1|group)\n",
      "\n",
      "Family: binomial\t Inference: parametric\n",
      "\n",
      "Number of observations: 6\t Groups: {'group': 3.0}\n",
      "\n",
      "Log-likelihood: -4.130 \t AIC: 14.260\n",
      "\n",
      "Random effects:\n",
      "\n",
      "              Name  Var  Std\n",
      "group  (Intercept)  0.0  0.0\n",
      "\n",
      "No random effect correlations specified\n",
      "\n",
      "Fixed effects:\n",
      "\n"
     ]
    },
    {
     "name": "stderr",
     "output_type": "stream",
     "text": [
      "d:\\Users\\Tom\\miniconda3\\envs\\octagon_analysis\\Lib\\site-packages\\pymer4\\models\\Lmer.py:733: FutureWarning: DataFrame.applymap has been deprecated. Use DataFrame.map instead.\n",
      "  ran_vars = ran_vars.applymap(\n"
     ]
    },
    {
     "data": {
      "text/html": [
       "<div>\n",
       "<style scoped>\n",
       "    .dataframe tbody tr th:only-of-type {\n",
       "        vertical-align: middle;\n",
       "    }\n",
       "\n",
       "    .dataframe tbody tr th {\n",
       "        vertical-align: top;\n",
       "    }\n",
       "\n",
       "    .dataframe thead th {\n",
       "        text-align: right;\n",
       "    }\n",
       "</style>\n",
       "<table border=\"1\" class=\"dataframe\">\n",
       "  <thead>\n",
       "    <tr style=\"text-align: right;\">\n",
       "      <th></th>\n",
       "      <th>Estimate</th>\n",
       "      <th>2.5_ci</th>\n",
       "      <th>97.5_ci</th>\n",
       "      <th>SE</th>\n",
       "      <th>OR</th>\n",
       "      <th>OR_2.5_ci</th>\n",
       "      <th>OR_97.5_ci</th>\n",
       "      <th>Prob</th>\n",
       "      <th>Prob_2.5_ci</th>\n",
       "      <th>Prob_97.5_ci</th>\n",
       "      <th>Z-stat</th>\n",
       "      <th>P-val</th>\n",
       "      <th>Sig</th>\n",
       "    </tr>\n",
       "  </thead>\n",
       "  <tbody>\n",
       "    <tr>\n",
       "      <th>(Intercept)</th>\n",
       "      <td>-0.402</td>\n",
       "      <td>-4.079</td>\n",
       "      <td>3.275</td>\n",
       "      <td>1.876</td>\n",
       "      <td>0.669</td>\n",
       "      <td>0.017</td>\n",
       "      <td>26.442</td>\n",
       "      <td>0.401</td>\n",
       "      <td>0.017</td>\n",
       "      <td>0.964</td>\n",
       "      <td>-0.214</td>\n",
       "      <td>0.830</td>\n",
       "      <td></td>\n",
       "    </tr>\n",
       "    <tr>\n",
       "      <th>x</th>\n",
       "      <td>0.115</td>\n",
       "      <td>-0.830</td>\n",
       "      <td>1.060</td>\n",
       "      <td>0.482</td>\n",
       "      <td>1.122</td>\n",
       "      <td>0.436</td>\n",
       "      <td>2.886</td>\n",
       "      <td>0.529</td>\n",
       "      <td>0.304</td>\n",
       "      <td>0.743</td>\n",
       "      <td>0.238</td>\n",
       "      <td>0.812</td>\n",
       "      <td></td>\n",
       "    </tr>\n",
       "  </tbody>\n",
       "</table>\n",
       "</div>"
      ],
      "text/plain": [
       "             Estimate  2.5_ci  97.5_ci     SE     OR  OR_2.5_ci  OR_97.5_ci   Prob  Prob_2.5_ci  Prob_97.5_ci  Z-stat  P-val Sig\n",
       "(Intercept)    -0.402  -4.079    3.275  1.876  0.669      0.017      26.442  0.401        0.017         0.964  -0.214  0.830    \n",
       "x               0.115  -0.830    1.060  0.482  1.122      0.436       2.886  0.529        0.304         0.743   0.238  0.812    "
      ]
     },
     "execution_count": 14,
     "metadata": {},
     "output_type": "execute_result"
    }
   ],
   "source": [
    "# dummy test model in R's Lmer package\n",
    "from pymer4.models import Lmer\n",
    "import pandas as pd\n",
    "\n",
    "df = pd.DataFrame({\n",
    "    \"y\": [0, 1, 0, 1, 1, 0],\n",
    "    \"x\": [1, 2, 3, 4, 5, 6],\n",
    "    \"group\": [\"A\", \"A\", \"B\", \"B\", \"C\", \"C\"]\n",
    "})\n",
    "\n",
    "model = Lmer(\"y ~ x + (1|group)\", data=df, family='binomial')\n",
    "model.fit()"
   ]
  },
  {
   "cell_type": "markdown",
   "id": "d1fe33a6",
   "metadata": {},
   "source": [
    "#### Solo model"
   ]
  },
  {
   "cell_type": "code",
   "execution_count": 15,
   "id": "64ec1649",
   "metadata": {},
   "outputs": [
    {
     "data": {
      "text/plain": [
       "0     1.0\n",
       "1     2.0\n",
       "2     1.0\n",
       "3     3.0\n",
       "4     2.0\n",
       "5     3.0\n",
       "6     3.0\n",
       "7     3.0\n",
       "8     3.0\n",
       "9     3.0\n",
       "10    3.0\n",
       "11    3.0\n",
       "12    3.0\n",
       "13    3.0\n",
       "14    3.0\n",
       "15    2.0\n",
       "16    3.0\n",
       "17    2.0\n",
       "18    2.0\n",
       "19    1.0\n",
       "20    1.0\n",
       "21    2.0\n",
       "22    2.0\n",
       "23    1.0\n",
       "24    2.0\n",
       "25    1.0\n",
       "26    2.0\n",
       "27    2.0\n",
       "28    1.0\n",
       "29    2.0\n",
       "Name: FirstSeenWall, dtype: category\n",
       "Categories (3, object): ['1.0', '2.0', '3.0']"
      ]
     },
     "execution_count": 15,
     "metadata": {},
     "output_type": "execute_result"
    }
   ],
   "source": [
    "glm_df_solo['FirstSeenWall'].head(30)"
   ]
  },
  {
   "cell_type": "code",
   "execution_count": 16,
   "id": "cb4428e0",
   "metadata": {},
   "outputs": [
    {
     "data": {
      "text/plain": [
       "['1.0', '2.0', '3.0', NaN]\n",
       "Categories (3, object): ['1.0', '2.0', '3.0']"
      ]
     },
     "execution_count": 16,
     "metadata": {},
     "output_type": "execute_result"
    }
   ],
   "source": [
    "glm_df_solo['FirstSeenWall'].unique()"
   ]
  },
  {
   "cell_type": "code",
   "execution_count": 17,
   "id": "7bc72ab8",
   "metadata": {},
   "outputs": [
    {
     "name": "stdout",
     "output_type": "stream",
     "text": [
      "**NOTE**: Column for 'residuals' not created in model.data, but saved in model.resid only. This is because you have rows with NaNs in your data.\n",
      "\n",
      "**NOTE** Column for 'fits' not created in model.data, but saved in model.fits only. This is because you have rows with NaNs in your data.\n",
      "\n",
      "Linear mixed model fit by maximum likelihood  ['lmerMod']\n",
      "Formula: ChooseHigh~1+D2H+D2L+FirstSeenWall+WallSep+(1|GlmPlayerID)\n",
      "\n",
      "Family: binomial\t Inference: parametric\n",
      "\n",
      "Number of observations: 5544\t Groups: {'GlmPlayerID': 80.0}\n",
      "\n",
      "Log-likelihood: -1334.951 \t AIC: 2683.903\n",
      "\n",
      "Random effects:\n",
      "\n",
      "                    Name    Var    Std\n",
      "GlmPlayerID  (Intercept)  1.958  1.399\n",
      "\n",
      "No random effect correlations specified\n",
      "\n",
      "Fixed effects:\n",
      "\n",
      "                  Estimate  2.5_ci  97.5_ci     SE      OR  OR_2.5_ci  OR_97.5_ci   Prob  Prob_2.5_ci  Prob_97.5_ci  Z-stat  P-val  Sig\n",
      "(Intercept)          4.218   3.604    4.832  0.313  67.918     36.750     125.523  0.985        0.974         0.992  13.461  0.000  ***\n",
      "D2H                 -0.236  -0.853    0.382  0.315   0.790      0.426       1.465  0.441        0.299         0.594  -0.748  0.455     \n",
      "D2L                  2.271   1.666    2.877  0.309   9.693      5.291      17.757  0.906        0.841         0.947   7.353  0.000  ***\n",
      "FirstSeenWall2.0    -2.779  -3.084   -2.475  0.155   0.062      0.046       0.084  0.058        0.044         0.078 -17.896  0.000  ***\n",
      "FirstSeenWall3.0    -0.824  -1.206   -0.441  0.195   0.439      0.299       0.643  0.305        0.230         0.391  -4.221  0.000  ***\n",
      "WallSep             -1.677  -2.004   -1.350  0.167   0.187      0.135       0.259  0.158        0.119         0.206 -10.040  0.000  ***\n"
     ]
    },
    {
     "name": "stderr",
     "output_type": "stream",
     "text": [
      "d:\\Users\\Tom\\miniconda3\\envs\\octagon_analysis\\Lib\\site-packages\\pymer4\\models\\Lmer.py:733: FutureWarning: DataFrame.applymap has been deprecated. Use DataFrame.map instead.\n",
      "  ran_vars = ran_vars.applymap(\n"
     ]
    },
    {
     "data": {
      "text/plain": [
       "Text(0.5, 1.0, 'Solo: ChooseHigh ~ 1 + D2H + D2L + FirstSeenWall + WallSep + (1|GlmPlayerID)')"
      ]
     },
     "execution_count": 17,
     "metadata": {},
     "output_type": "execute_result"
    },
    {
     "data": {
      "image/png": "[encoded data removed]",
      "text/plain": [
       "<Figure size 1200x600 with 1 Axes>"
      ]
     },
     "metadata": {},
     "output_type": "display_data"
    }
   ],
   "source": [
    "from pymer4.models import Lmer\n",
    "\n",
    "# define model formula\n",
    "# model_formula = 'ChooseHigh ~ 1 + FirstSeenWall +  (1|GlmPlayerID)'\n",
    "model_formula = 'ChooseHigh ~ 1 + D2H + D2L + FirstSeenWall + WallSep + (1|GlmPlayerID)'\n",
    "# model_formula = 'ChooseHigh ~ 1 + D2H + D2L + FirstSeenWall + WallSep + WallSep:FirstSeenWall + D2L:FirstSeenWall + D2H:FirstSeenWall + (1|GlmPlayerID)'\n",
    "\n",
    "\n",
    "# fit the model\n",
    "model2 = Lmer(model_formula, data=glm_df_solo, family='binomial')\n",
    "results=model2.fit(\n",
    "    control=\"optimizer='bobyqa', optCtrl=list(maxfun=10000)\"\n",
    ")\n",
    "\n",
    "# display model results\n",
    "print(results)\n",
    "ax = model2.plot_summary()\n",
    "ax.set_title(\"Solo: \" + model_formula)"
   ]
  },
  {
   "cell_type": "markdown",
   "id": "54737c0b",
   "metadata": {},
   "source": [
    "#### Solo-social combined model"
   ]
  },
  {
   "cell_type": "code",
   "execution_count": null,
   "id": "7bc35b25",
   "metadata": {},
   "outputs": [],
   "source": [
    "from pymer4.models import Lmer\n",
    "\n",
    "# model_formula = 'ChooseHigh ~ 1 + D2H + D2L + FirstSeenWall + WallSep + (1 |GlmPlayerID)'\n",
    "model_formula = 'ChooseHigh ~ 1 + D2H + D2L + FirstSeenWall + WallSep + SocialContext + (1 |GlmPlayerID)'\n",
    "# model_formula = 'ChooseHigh ~ 1 + D2H + D2L + FirstSeenWall + WallSep + SocialContext + WallSep:FirstSeenWall + D2H:FirstSeenWall + D2L:FirstSeenWall + (1|GlmPlayerID)'\n",
    "# model_formula = 'ChooseHigh ~ 1 + D2H + D2L + FirstSeenWall + WallSep + SocialContext + SocialContext:D2L + SocialContext:D2H + (1 |GlmPlayerID)'\n",
    "model_formula = 'ChooseHigh ~ 1 + D2H + D2L + FirstSeenWall + WallSep + SocialContext + SocialContext:D2L + SocialContext:D2H + SocialContext:FirstSeenWall + (1 |GlmPlayerID)'\n",
    "\n",
    "\n",
    "model_formula = 'ChooseHigh ~ 1 + D2H + D2L + FirstSeenWall + WallSep + SocialContext + WallSep:FirstSeenWall + D2H:FirstSeenWall + D2L:FirstSeenWall + SocialContext:FirstSeenWall + SocialContext:D2L + SocialContext:D2H +(1|GlmPlayerID)'\n",
    "# solo_random_intercepts_wallsep_wallseen_interaction = Lmer(model_formula, data=glm_df_solo_social, family='binomial')\n",
    "\n",
    "model = Lmer(model_formula, data=glm_df_solo_social, family='binomial')\n",
    "results=model.fit(\n",
    "    control=\"optimizer='bobyqa', optCtrl=list(maxfun=10000)\"\n",
    ")\n",
    "ax = model.plot_summary()\n",
    "ax.set_title(\"Solo-Social: \" + model_formula)\n",
    "\n",
    "print(results)"
   ]
  },
  {
   "cell_type": "markdown",
   "id": "9844b58e",
   "metadata": {},
   "source": [
    "#### Social model"
   ]
  },
  {
   "cell_type": "code",
   "execution_count": null,
   "id": "a42e5bf6",
   "metadata": {},
   "outputs": [],
   "source": [
    "from pymer4.models import Lmer\n",
    "\n",
    "# model_formula = 'ChooseHigh ~ 1 + D2H + D2L + FirstSeenWall + WallSep + OpponentVisible + OpponentD2H + OpponentD2L + OpponentFirstSeenWall + (1|GlmPlayerID)'\n",
    "# model_formula = 'ChooseHigh ~ 1 + D2H + D2L + FirstSeenWall + WallSep + OpponentD2H + OpponentD2L + OpponentFirstSeenWall + (1|GlmPlayerID)'\n",
    "\n",
    "model_formula = 'ChooseHigh ~ D2H + D2L + FirstSeenWall + WallSep + OpponentD2H + OpponentD2L + OpponentFirstSeenWall + WallSep:FirstSeenWall +  (1 | GlmPlayerID)'\n",
    "model_formula = 'ChooseHigh ~ D2H + D2L + FirstSeenWall + WallSep + OpponentD2H + OpponentD2L + OpponentFirstSeenWall + WallSep:FirstSeenWall +  D2H:FirstSeenWall + D2L:FirstSeenWall + OpponentD2H:D2H + (1 | GlmPlayerID)'\n",
    "\n",
    "# model_formula = 'ChooseHigh ~ D2H + D2L + FirstSeenWall + WallSep + OpponentVisible + OpponentD2H + OpponentD2L + OpponentFirstSeenWall + (D2H + D2L + FirstSeenWall + WallSep + OpponentVisible + OpponentD2H + OpponentD2L + OpponentFirstSeenWall| GlmPlayerID)'\n",
    "# model_formula = 'ChooseHigh ~ D2H + D2L + FirstSeenWall + WallSep + OpponentVisible + OpponentD2H + OpponentD2L + (1 + D2H + D2L + FirstSeenWall + OpponentVisible + OpponentD2H + OpponentD2L || GlmPlayerID)'\n",
    "\n",
    "\n",
    "model = Lmer(model_formula, data=glm_df_social, family='binomial')\n",
    "\n",
    "results=model.fit(\n",
    "    control=\"optimizer='bobyqa', optCtrl=list(maxfun=10000)\"\n",
    ")\n",
    "ax = model.plot_summary()\n",
    "ax.set_title(\"Social: \" + model_formula)\n",
    "\n",
    "\n",
    "print(results)"
   ]
  },
  {
   "cell_type": "markdown",
   "id": "f1a2244a",
   "metadata": {},
   "source": [
    "#### Checking colinearity"
   ]
  },
  {
   "cell_type": "code",
   "execution_count": null,
   "id": "f29401cb",
   "metadata": {},
   "outputs": [],
   "source": [
    "from statsmodels.stats.outliers_influence import variance_inflation_factor\n",
    "from patsy import dmatrices\n",
    "import re\n",
    "\n",
    "model_formula = 'ChooseHigh ~ 1 + D2H + D2L + FirstSeenWall + WallSep + OpponentVisible + OpponentD2H + OpponentD2L + OpponentFirstSeenWall + (1|GlmPlayerID)'\n",
    "\n",
    "# begin at start (^), lazily match any character any number of times ((.*?)), lazy non-matching group for space, +, space ((?:\\s+\\s)?), an opening parenthesis (\\()\n",
    "pattern = r'^(.*?)(?:\\s\\+\\s)?\\('\n",
    "match = re.match(pattern, model_formula)\n",
    "formula = match.group(1)\n",
    "# formula = 'ChooseHigh ~ D2L + D2H + FirstSeenWall + WallSep + OpponentVisible + OpponentD2H + OpponentD2L + OpponentFirstSeenWall' # only including fixed effects\n",
    "y, X = dmatrices(formula, data=glm_df_social, return_type='dataframe')\n",
    "\n",
    "# compute VIF (variance inflation factor)\n",
    "vif_data = pd.DataFrame()\n",
    "vif_data['feature'] = X.columns\n",
    "vif_data[\"VIF\"] = [variance_inflation_factor(X.values, i) for i in range (X.shape[1])]\n"
   ]
  },
  {
   "cell_type": "code",
   "execution_count": null,
   "id": "5949a002",
   "metadata": {},
   "outputs": [],
   "source": [
    "from statsmodels.stats.outliers_influence import variance_inflation_factor\n",
    "from patsy import dmatrices\n",
    "import re\n",
    "\n",
    "model_formula = 'ChooseHigh ~ 1 + D2H + D2L + FirstSeenWall + WallSep + (1|GlmPlayerID)'\n",
    "\n",
    "# begin at start (^), lazily match any character any number of times ((.*?)), lazy non-matching group for space, +, space ((?:\\s+\\s)?), an opening parenthesis (\\()\n",
    "pattern = r'^(.*?)(?:\\s\\+\\s)?\\('\n",
    "match = re.match(pattern, model_formula)\n",
    "formula = match.group(1)\n",
    "# formula = 'ChooseHigh ~ D2L + D2H + FirstSeenWall + WallSep + OpponentVisible + OpponentD2H + OpponentD2L + OpponentFirstSeenWall' # only including fixed effects\n",
    "y, X = dmatrices(formula, data=glm_df_solo, return_type='dataframe')\n",
    "\n",
    "# compute VIF (variance inflation factor)\n",
    "vif_data = pd.DataFrame()\n",
    "vif_data['feature'] = X.columns\n",
    "vif_data[\"VIF\"] = [variance_inflation_factor(X.values, i) for i in range (X.shape[1])]\n"
   ]
  },
  {
   "cell_type": "code",
   "execution_count": null,
   "id": "ed4be495",
   "metadata": {},
   "outputs": [],
   "source": [
    "import seaborn as sns\n",
    "\n",
    "plt.figure(figsize=(10,4))\n",
    "sns.barplot(data=vif_data, x=vif_data['feature'].iloc[1:], y=vif_data['VIF'].iloc[1:])\n",
    "plt.tick_params(axis='x', rotation=45)\n"
   ]
  },
  {
   "cell_type": "code",
   "execution_count": null,
   "id": "9b51ec06",
   "metadata": {},
   "outputs": [],
   "source": [
    "glm_df_social[['D2L','D2H','FirstSeenWall', 'WallSep', 'OpponentVisible','OpponentD2H', 'OpponentD2L', 'OpponentFirstSeenWall']].corr()"
   ]
  },
  {
   "cell_type": "markdown",
   "id": "ee5bc0e3",
   "metadata": {},
   "source": [
    "#### Plotting random slopes"
   ]
  },
  {
   "cell_type": "code",
   "execution_count": null,
   "id": "abb9a376",
   "metadata": {},
   "outputs": [],
   "source": [
    "model.coefs"
   ]
  },
  {
   "cell_type": "code",
   "execution_count": null,
   "id": "d0078d31",
   "metadata": {},
   "outputs": [],
   "source": [
    "model.coefs.loc['D2H', 'Estimate']"
   ]
  },
  {
   "cell_type": "code",
   "execution_count": null,
   "id": "b35d777d",
   "metadata": {},
   "outputs": [],
   "source": [
    "model.fixef.iloc[0]"
   ]
  },
  {
   "cell_type": "code",
   "execution_count": null,
   "id": "3e5e76f4",
   "metadata": {},
   "outputs": [],
   "source": [
    "import matplotlib.pyplot as plt\n",
    "import seaborn as sns\n",
    "\n",
    "# Assuming ranefs is your wide-format DataFrame\n",
    "re_df = model.ranef.copy()\n",
    "\n",
    "# Optional: Add participant IDs as a proper column if they're in the index\n",
    "re_df['GlmPlayerID'] = re_df.index\n",
    "\n",
    "# Define slopes to plot and extract fixed effects\n",
    "slope_vars = ['FirstSeenWall2.0', 'D2H', 'D2L']\n",
    "fixed_effects_coefs = model.coefs  # Returns a DataFrame with Estimate per predictor\n",
    "\n",
    "\n",
    "# Plot\n",
    "fig, axs = plt.subplots(len(slope_vars), 1, figsize=(14,12), sharex=False)\n",
    "for i, slope in enumerate(slope_vars):\n",
    "    \n",
    "    if len(slope_vars) == 1:\n",
    "        ax = axs\n",
    "    else:    \n",
    "        ax = axs[i]\n",
    "\n",
    "    # Sort by slope for ordered bars\n",
    "    sorted_df = re_df.sort_values(slope)\n",
    "\n",
    "    # plot bars\n",
    "    sns.barplot(data=sorted_df, x='GlmPlayerID', y=slope, ax=ax, palette='coolwarm')\n",
    "    ax.set_title(f\"Random slope values for {slope} across players\")\n",
    "    ax.set_xlabel(\"Participant ID\")\n",
    "    ax.set_ylabel(\"Deviation from fixed effect value\")\n",
    "\n",
    "    # Rotate x-axis ticks for readability\n",
    "    ax.tick_params(axis='x', rotation=90)\n",
    "\n",
    "    # Annotate with fixed effect value\n",
    "    fixed_val = fixed_effects_coefs.loc[slope, 'Estimate']\n",
    "    ax.text(0.01, 0.9, f'Fixed effect = {fixed_val:.3f}', transform=ax.transAxes,\n",
    "            fontsize=12, bbox=dict(facecolor='white', edgecolor='black'))\n",
    "\n",
    "\n",
    "plt.tight_layout()\n",
    "plt.show"
   ]
  },
  {
   "cell_type": "code",
   "execution_count": null,
   "id": "33cd98d7",
   "metadata": {},
   "outputs": [],
   "source": [
    "model.coefs['Estimate']"
   ]
  },
  {
   "cell_type": "code",
   "execution_count": null,
   "id": "df44d67c",
   "metadata": {},
   "outputs": [],
   "source": [
    "# Assuming ranefs is your wide-format DataFrame\n",
    "re_df = model.ranef.copy()\n",
    "# Optional: Add participant IDs as a proper column if they're in the index\n",
    "re_df['GlmPlayerID'] = re_df.index\n",
    "\n",
    "slope_vars = ['FirstSeenWall2.0', 'D2H_z', 'D2L_z']\n",
    "fixed_effects_coefs = model.coefs  # Returns a DataFrame with Estimate per predictor\n",
    "fixed_intercept = model.coefs.loc['(Intercept)', 'Estimate']\n",
    "\n",
    "# plot\n",
    "fig, axs = plt.subplots(len(slope_vars),1, figsize=(6,12), sharex=False)\n",
    "for i, slope in enumerate(slope_vars):\n",
    "    if len(slope_vars) == 1:\n",
    "        ax = axs\n",
    "    else:    \n",
    "        ax = axs[i]\n",
    "\n",
    "    # sort by slope for ordered bars\n",
    "    random_slopes = re_df[slope] + fixed_effects_coefs.loc[slope, 'Estimate']\n",
    "    random_intercepts = re_df['X.Intercept.'] + fixed_intercept\n",
    "\n",
    "    # Scatter plot\n",
    "    sns.scatterplot(x=random_intercepts, y=random_slopes, ax=ax)\n",
    "    ax.set_title(f\"Random Intercept vs Random Slope ({slope}) across players\")\n",
    "    ax.set_xlabel(\"Random Intercept\")\n",
    "    ax.set_ylabel(f\"Random Slope for {slope}\")\n",
    "\n",
    "    # Add a horizontal line for the fixed effect\n",
    "    ax.axhline(fixed_effects_coefs.loc[slope, 'Estimate'], color='gray', linestyle='--', label='Fixed effect')\n",
    "    ax.legend()\n",
    "\n",
    "\n",
    "\n",
    "plt.tight_layout()\n",
    "plt.legend()\n",
    "plt.show()"
   ]
  },
  {
   "cell_type": "code",
   "execution_count": null,
   "id": "8c08b3ba",
   "metadata": {},
   "outputs": [],
   "source": [
    "import pandas as pd\n",
    "import seaborn as sns\n",
    "import matplotlib.pyplot as plt\n",
    "\n",
    "\n",
    "# predictors\n",
    "social_predictors = ['D2H', 'D2L', 'FirstSeenWall', 'WallSep', 'OpponentVisible', 'OpponentD2H', 'OpponentD2L', 'OpponentFirstSeenWall']\n",
    "solo_predictors = ['D2H', 'D2L', 'FirstSeenWall', 'WallSep']\n",
    "\n",
    "# Compute correlation matrix\n",
    "corr_matrix_solo = glm_df_solo[solo_predictors].corr()\n",
    "corr_matrix_social = glm_df_social[social_predictors].corr()\n",
    "\n",
    "# Plot it\n",
    "plt.subplots(2,1, figsize=(10, 16))\n",
    "plt.subplot(2,1,1)\n",
    "sns.heatmap(corr_matrix_solo, annot=True, fmt=\".2f\", cmap=\"coolwarm\", center=0, annot_kws={\"size\": 20})\n",
    "plt.title(\"Solo Correlation Matrix\")\n",
    "plt.subplot(2,1,2)\n",
    "sns.heatmap(corr_matrix_social, annot=True, fmt=\".2f\", cmap=\"coolwarm\", center=0, annot_kws={\"size\": 20})\n",
    "plt.title(\"Social Correlation Matrix\")\n",
    "plt.tight_layout()\n",
    "plt.show()"
   ]
  },
  {
   "cell_type": "code",
   "execution_count": null,
   "id": "d839e301",
   "metadata": {},
   "outputs": [],
   "source": [
    "import matplotlib.pyplot as plt\n",
    "import seaborn as sns\n",
    "\n",
    "solo_random_intercepts.fit()\n",
    "\n",
    "# Assuming `model` is your fitted pymer4 model\n",
    "df = solo_random_intercepts.data.copy()\n",
    "df = df.dropna() # remove rows with NaN values because these cannot be predicted\n",
    "\n",
    "df['fitted'] = solo_random_intercepts.predict(df, skip_data_checks=True, verify_predictions=False)\n",
    "\n",
    "sns.scatterplot(x='ChooseHigh', y='fitted', data=df, alpha=0.05)\n",
    "plt.plot([df['fitted'].min(), df['fitted'].max()],\n",
    "         [df['fitted'].min(), df['fitted'].max()], 'r--')\n",
    "plt.xlabel('Observed values')\n",
    "plt.ylabel('Fitted values')\n",
    "plt.title('Fitted vs Observed')\n",
    "plt.show()"
   ]
  },
  {
   "cell_type": "code",
   "execution_count": null,
   "id": "90905f2a",
   "metadata": {},
   "outputs": [],
   "source": [
    "glm_df_social.to_csv(\"glm_df_social.csv\", index=False)\n"
   ]
  }
 ],
 "metadata": {
  "kernelspec": {
   "display_name": "octagon_analysis",
   "language": "python",
   "name": "python3"
  },
  "language_info": {
   "codemirror_mode": {
    "name": "ipython",
    "version": 3
   },
   "file_extension": ".py",
   "mimetype": "text/x-python",
   "name": "python",
   "nbconvert_exporter": "python",
   "pygments_lexer": "ipython3",
   "version": "3.12.7"
  }
 },
 "nbformat": 4,
 "nbformat_minor": 5
}
