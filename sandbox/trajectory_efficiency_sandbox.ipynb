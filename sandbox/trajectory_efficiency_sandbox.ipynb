{
 "cells": [
  {
   "cell_type": "code",
   "execution_count": 577,
   "id": "d4992911-7b02-448c-8ee5-c89c228ad2ed",
   "metadata": {},
   "outputs": [
    {
     "name": "stdout",
     "output_type": "stream",
     "text": [
      "The autoreload extension is already loaded. To reload it, use:\n",
      "  %reload_ext autoreload\n"
     ]
    }
   ],
   "source": [
    "%load_ext autoreload\n",
    "%autoreload 2\n",
    "\n",
    "import parse_data.prepare_data as prepare_data\n",
    "import numpy as np\n",
    "import pandas as pd\n",
    "import matplotlib.pyplot as plt\n",
    "import globals\n",
    "import data_strings\n",
    "import trajectory_analysis.trajectory_vectors as trajectory_vectors\n",
    "import data_extraction.get_indices as get_indices"
   ]
  },
  {
   "cell_type": "markdown",
   "id": "7a24b223",
   "metadata": {},
   "source": [
    "### Generic starting point for work on session data"
   ]
  },
  {
   "cell_type": "code",
   "execution_count": 578,
   "id": "011c819a-ab6d-4c42-8ab8-c35d0824fbfa",
   "metadata": {},
   "outputs": [],
   "source": [
    "data_folder = data_strings.DATA_FOLDER\n",
    "json_filenames_all_social = data_strings.JSON_FILENAMES_SOCIAL\n",
    "json_filenames_all_solo = data_strings.JSON_FILENAMES_SOLO"
   ]
  },
  {
   "cell_type": "code",
   "execution_count": 579,
   "id": "c07cb011",
   "metadata": {},
   "outputs": [],
   "source": [
    "json_filenames = json_filenames_all_social"
   ]
  },
  {
   "cell_type": "code",
   "execution_count": 580,
   "id": "167898aa-3073-479e-8eef-6c579c67c7f4",
   "metadata": {
    "scrolled": true
   },
   "outputs": [
    {
     "name": "stdout",
     "output_type": "stream",
     "text": [
      "filepath: D:\\Users\\Tom\\OneDrive\\PhD\\SWC\\data\\first_experiments_2409\\240913\\2024-09-13_11-31-00_YansuJerrySocial.json\n",
      "Data is from period before 2024-09-13 00:00:00\n",
      "Running dataframe through playerinfo_playerposition_conversion.\n",
      "Loading complete.\n",
      "Preprocessing complete.\n",
      "filepath: D:\\Users\\Tom\\OneDrive\\PhD\\SWC\\data\\second_experiments_2409\\240927\\2024-09-27_14-25-20_SaraEmilySocial.json\n",
      "Loading complete.\n",
      "Preprocessing complete.\n",
      "filepath: D:\\Users\\Tom\\OneDrive\\PhD\\SWC\\data\\third_experiments_2410\\241017\\2024-10-17_14-28-40_ShamirAbigailSocial.json\n",
      "Loading complete.\n",
      "Preprocessing complete.\n",
      "filepath: D:\\Users\\Tom\\OneDrive\\PhD\\SWC\\data\\fourth_experiments_2410\\241017\\2024-10-17_16-41-38_ZimoElsaSocial.json\n",
      "Loading complete.\n",
      "Preprocessing complete.\n",
      "filepath: D:\\Users\\Tom\\OneDrive\\PhD\\SWC\\data\\fifth_experiments_241112\\2024-11-12_13-31-14_KhadijaWendySocial.json\n",
      "Loading complete.\n",
      "Preprocessing complete.\n",
      "filepath: D:\\Users\\Tom\\OneDrive\\PhD\\SWC\\data\\sixth_experiments_241112\\2024-11-12_15-23-24_FrancescaSenSzeSocial.json\n",
      "Loading complete.\n",
      "Preprocessing complete.\n",
      "filepath: D:\\Users\\Tom\\OneDrive\\PhD\\SWC\\data\\seventh_experiments_241113\\2024-11-13_14-18-54_NasiaRyanSocial.json\n",
      "Loading complete.\n",
      "Preprocessing complete.\n",
      "filepath: D:\\Users\\Tom\\OneDrive\\PhD\\SWC\\data\\eighth_experiments_241113\\2024-11-13_15-28-07_YichuanHoiSocial.json\n",
      "Loading complete.\n",
      "Preprocessing complete.\n",
      "filepath: D:\\Users\\Tom\\OneDrive\\PhD\\SWC\\data\\ninth_experiments_241119\\2024-11-19_14-24-49_AmyXinyuanSocial.json\n",
      "Loading complete.\n",
      "Preprocessing complete.\n",
      "filepath: D:\\Users\\Tom\\OneDrive\\PhD\\SWC\\data\\tenth_experiments_241119\\2024-11-19_15-22-56_SophiaHocineSocial.json\n",
      "Loading complete.\n",
      "Preprocessing complete.\n",
      "filepath: D:\\Users\\Tom\\OneDrive\\PhD\\SWC\\data\\eleventh_experiments_241120\\2024-11-20_14-17-44_JasonRahulSocial.json\n",
      "Loading complete.\n",
      "Preprocessing complete.\n",
      "filepath: D:\\Users\\Tom\\OneDrive\\PhD\\SWC\\data\\twelfth_experiments_241120\\2024-11-20_15-16-21_SunnyVinceSocial.json\n",
      "Loading complete.\n",
      "Preprocessing complete.\n"
     ]
    }
   ],
   "source": [
    "df, trial_list = prepare_data.prepare_data(data_folder, json_filenames, combine=False)"
   ]
  },
  {
   "cell_type": "code",
   "execution_count": 581,
   "id": "4f9c484c",
   "metadata": {},
   "outputs": [
    {
     "name": "stdout",
     "output_type": "stream",
     "text": [
      "filepath: D:\\Users\\Tom\\OneDrive\\PhD\\SWC\\data\\first_experiments_2409\\240913\\2024-09-13_11-31-00_YansuJerrySocial.json\n",
      "Data is from period before 2024-09-13 00:00:00\n",
      "Running dataframe through playerinfo_playerposition_conversion.\n",
      "Loading complete.\n",
      "Preprocessing complete.\n",
      "filepath: D:\\Users\\Tom\\OneDrive\\PhD\\SWC\\data\\second_experiments_2409\\240927\\2024-09-27_14-25-20_SaraEmilySocial.json\n",
      "Loading complete.\n",
      "Preprocessing complete.\n"
     ]
    }
   ],
   "source": [
    "_, trial_lists = prepare_data.prepare_data(data_folder, data_strings.JSON_FILENAMES_SOCIAL[:2], combine=False)"
   ]
  },
  {
   "cell_type": "code",
   "execution_count": 582,
   "id": "2299c0c9",
   "metadata": {},
   "outputs": [],
   "source": [
    "def player_direct_distance_trial(trial, player_index):\n",
    "    ''' Return the direct distance in units between a slice onset location \n",
    "        and the final location for a single player.\n",
    "        Takes a trial and player index. '''\n",
    "    \n",
    "    # get the player's trajectory\n",
    "    trajectory = trajectory_vectors.extract_trial_player_trajectory(trial=trial, player_id=player_index, debug=False)\n",
    "\n",
    "    # find distance between first and last trajectory points\n",
    "    end_position = trajectory[:,-1]\n",
    "    start_position = trajectory[:,0]\n",
    "    distance = np.linalg.norm(end_position - start_position)\n",
    "\n",
    "    return distance"
   ]
  },
  {
   "cell_type": "code",
   "execution_count": 583,
   "id": "3ba7ea22",
   "metadata": {},
   "outputs": [],
   "source": [
    "def player_actual_distance_trial(trial, player_index, debug=False):\n",
    "    ''' Return the actual distance in units throughout the player's entire\n",
    "        trajectory.\n",
    "        Takesa trial and player index. '''\n",
    "    \n",
    "    # get the player's trajectory\n",
    "    trajectory = trajectory_vectors.extract_trial_player_trajectory(trial=trial, player_id=player_index, debug=False)\n",
    "\n",
    "    # compute difference between consecutive columns (timepoints)\n",
    "    position_diffs = np.diff(trajectory, axis=1) # shape 2, timepoints-1\n",
    "    if debug:\n",
    "        print(f\"shape of np.diff output: {position_diffs.shape}\")\n",
    "\n",
    "    # square these differences, and sum across x and y for each column (timepoint)\n",
    "    squared_distances = np.sum(position_diffs**2, axis=0) # shape timepoints-1,\n",
    "\n",
    "    # take the square root to get the euclidean difference between each consecutive point\n",
    "    distances = np.sqrt(squared_distances)\n",
    "\n",
    "    if debug:\n",
    "        print(f\" shape of summed euclidean distance: {distances.shape}\")\n",
    "        print(f\"summed euclidean distance[:5]: {distances[:5]}\")\n",
    "\n",
    "    return np.sum(distances)"
   ]
  },
  {
   "cell_type": "code",
   "execution_count": 584,
   "id": "cf961a9c",
   "metadata": {},
   "outputs": [],
   "source": [
    "def player_direct_distance_session(trial_list, player_index):\n",
    "    ''' Return an array of len(trial_list) of the direct distance between a player's\n",
    "        start and end location on each trial.\n",
    "        Takes a list of trials. '''\n",
    "    \n",
    "\n",
    "    direct_distances = np.zeros(len(trial_list))\n",
    "    for i, trial in enumerate(trial_list):\n",
    "        trial = trial_list[i]\n",
    "        distance = player_direct_distance_trial(trial, player_index)\n",
    "\n",
    "        direct_distances[i] = distance\n",
    "\n",
    "    return direct_distances\n"
   ]
  },
  {
   "cell_type": "code",
   "execution_count": 585,
   "id": "8296725d",
   "metadata": {},
   "outputs": [],
   "source": [
    "def player_actual_distance_session(trial_list, player_index):\n",
    "    ''' Return an array of len(trial_list) of the direct distance between a player's\n",
    "        start and end location on each trial.\n",
    "        Takes a list of trials. '''\n",
    "    \n",
    "\n",
    "    actual_distances = np.zeros(len(trial_list))\n",
    "    for i, trial in enumerate(trial_list):\n",
    "        trial = trial_list[i]\n",
    "        distance = player_actual_distance_trial(trial, player_index)\n",
    "\n",
    "        actual_distances[i] = distance\n",
    "\n",
    "    return actual_distances"
   ]
  },
  {
   "cell_type": "code",
   "execution_count": 586,
   "id": "7b255b63",
   "metadata": {},
   "outputs": [],
   "source": [
    "def direct_distance_winner_loser_session(trial_list):\n",
    "    ''' Return 4 arrays, each of len(trial_list), which are the direct distances in\n",
    "        winning trials and losing trials respectively for player 0 and player 1 respectively.\n",
    "        Indices where the trial outcome does match the array name are np.nan. '''\n",
    "    \n",
    "    # fill all arrays with the direct distances for the player\n",
    "    player_0_win_direct_distances = player_direct_distance_session(trial_list, player_index=0)\n",
    "    player_0_loss_direct_distances = player_0_win_direct_distances\n",
    "    \n",
    "    player_1_win_direct_distances = player_direct_distance_session(trial_list, player_index=1)\n",
    "    player_1_loss_direct_distances = player_1_win_direct_distances\n",
    "\n",
    "    # find the winners in this session\n",
    "    winners_session = get_indices.get_trigger_activators(trial_list)\n",
    "    losers_session = (winners_session-1)*-1\n",
    "\n",
    "    # replace array elements with np.nan at indices where the trial outcome does not match the array name \n",
    "    player_0_win_direct_distances = np.where(winners_session == 0, player_0_win_direct_distances, np.nan)\n",
    "    player_0_loss_direct_distances = np.where(losers_session == 0, player_0_loss_direct_distances, np.nan)\n",
    "\n",
    "    player_1_win_direct_distances = np.where(winners_session == 1, player_1_win_direct_distances, np.nan)\n",
    "    player_1_loss_direct_distances = np.where(losers_session == 1, player_1_loss_direct_distances, np.nan)\n",
    "\n",
    "    return (player_0_win_direct_distances, player_0_loss_direct_distances, player_1_win_direct_distances,\n",
    "            player_1_loss_direct_distances)\n",
    "\n"
   ]
  },
  {
   "cell_type": "code",
   "execution_count": 587,
   "id": "2e8f2962",
   "metadata": {},
   "outputs": [],
   "source": [
    "def actual_distance_winner_loser_session(trial_list):\n",
    "    ''' Return 4 arrays, each of len(trial_list), which are the direct distances in\n",
    "        winning trials and losing trials respectively for player 0 and player 1 respectively.\n",
    "        Indices where the trial outcome does match the array name are np.nan. '''\n",
    "    \n",
    "    player_0_win_actual_distances = player_actual_distance_session(trial_list, player_index=0)\n",
    "    player_0_loss_actual_distances = player_0_win_actual_distances\n",
    "    \n",
    "    player_1_win_actual_distances = player_actual_distance_session(trial_list, player_index=1)\n",
    "    player_1_loss_actual_distances = player_1_win_actual_distances\n",
    "\n",
    "        # find the winners in this session\n",
    "    winners_session = get_indices.get_trigger_activators(trial_list)\n",
    "    losers_session = (winners_session-1)*-1\n",
    "\n",
    "    # replace array elements with np.nan at indices where the trial outcome does not match the array name \n",
    "    player_0_win_actual_distances = np.where(winners_session == 0, player_0_win_actual_distances, np.nan)\n",
    "    player_0_loss_actual_distances = np.where(losers_session == 0, player_0_loss_actual_distances, np.nan)\n",
    "\n",
    "    player_1_win_actual_distances = np.where(winners_session == 1, player_1_win_actual_distances, np.nan)\n",
    "    player_1_loss_actual_distances = np.where(losers_session == 1, player_1_loss_actual_distances, np.nan)\n",
    "\n",
    "    return (player_0_win_actual_distances, player_0_loss_actual_distances, player_1_win_actual_distances,\n",
    "            player_1_loss_actual_distances)\n"
   ]
  },
  {
   "cell_type": "code",
   "execution_count": 588,
   "id": "daa5e23a",
   "metadata": {},
   "outputs": [],
   "source": [
    "def ratio_direct_to_absolute_distances_session(trial_list):\n",
    "    ''' Return 4 values, the ratio of direct distances to absolute distances for \n",
    "        winner and then loser for first player 0 and then player 1 '''\n",
    "    \n",
    "\n",
    "    # find the actual distances for both players, win and loss\n",
    "    (player_0_win_actual_distances, player_0_loss_actual_distances, player_1_win_actual_distances,\n",
    "                player_1_loss_actual_distances) = actual_distance_winner_loser_session(trial_list)\n",
    "\n",
    "    # find the direct distances for both players, win and loss\n",
    "    (player_0_win_direct_distances, player_0_loss_direct_distances, player_1_win_direct_distances,\n",
    "                player_1_loss_direct_distances) = direct_distance_winner_loser_session(trial_list)\n",
    "    \n",
    "    # calculate ratios\n",
    "    ratio_player_0_win =  np.nanmean(player_0_win_direct_distances/player_0_win_actual_distances)\n",
    "    ratio_player_0_loss =  np.nanmean(player_0_loss_direct_distances/player_0_loss_actual_distances)\n",
    "    ratio_player_1_win = np.nanmean(player_1_win_direct_distances/player_1_win_actual_distances)\n",
    "    ratio_player_1_loss =  np.nanmean(player_1_loss_direct_distances/player_1_loss_actual_distances)\n",
    "\n",
    "    return (ratio_player_0_win, ratio_player_0_loss, ratio_player_1_win, ratio_player_1_loss)"
   ]
  },
  {
   "cell_type": "code",
   "execution_count": 589,
   "id": "8b332cdf",
   "metadata": {},
   "outputs": [],
   "source": [
    "def ratio_direct_to_absolute_distances_multiple_sessions(trial_lists):\n",
    "    ''' Takes a list of trial lists (from multiple sessions) and returns\n",
    "        a (4,num_sessions) array of trajectory effiency ratios.\n",
    "        Columns are: player_0_win, player_0_loss, player_1_win, player_1_loss. '''\n",
    "    \n",
    "    trajectory_efficiency_ratios = np.zeros((len(trial_lists),4))\n",
    "\n",
    "    for i, trial_list in enumerate(trial_lists):\n",
    "        \n",
    "        (ratio_player_0_win, ratio_player_0_loss,\n",
    "        ratio_player_1_win, ratio_player_1_loss) = ratio_direct_to_absolute_distances_session(trial_list)\n",
    "\n",
    "        trajectory_efficiency_ratios[i,:] = (ratio_player_0_win, ratio_player_0_loss,\n",
    "                                            ratio_player_1_win, ratio_player_1_loss)\n",
    "        \n",
    "    return trajectory_efficiency_ratios"
   ]
  },
  {
   "cell_type": "code",
   "execution_count": 590,
   "id": "306bbdfd",
   "metadata": {},
   "outputs": [
    {
     "ename": "AssertionError",
     "evalue": "",
     "output_type": "error",
     "traceback": [
      "\u001b[1;31m---------------------------------------------------------------------------\u001b[0m",
      "\u001b[1;31mAssertionError\u001b[0m                            Traceback (most recent call last)",
      "Cell \u001b[1;32mIn[590], line 1\u001b[0m\n\u001b[1;32m----> 1\u001b[0m (ratio_player_0_win, ratio_player_0_loss, ratio_player_1_win, ratio_player_1_loss) \u001b[38;5;241m=\u001b[39m \u001b[43mratio_direct_to_absolute_distances_session\u001b[49m\u001b[43m(\u001b[49m\u001b[43mtrial_list\u001b[49m\u001b[43m)\u001b[49m\n",
      "Cell \u001b[1;32mIn[588], line 8\u001b[0m, in \u001b[0;36mratio_direct_to_absolute_distances_session\u001b[1;34m(trial_list)\u001b[0m\n\u001b[0;32m      2\u001b[0m \u001b[38;5;250m\u001b[39m\u001b[38;5;124;03m''' Return 4 values, the ratio of direct distances to absolute distances for \u001b[39;00m\n\u001b[0;32m      3\u001b[0m \u001b[38;5;124;03m    winner and then loser for first player 0 and then player 1 '''\u001b[39;00m\n\u001b[0;32m      6\u001b[0m \u001b[38;5;66;03m# find the actual distances for both players, win and loss\u001b[39;00m\n\u001b[0;32m      7\u001b[0m (player_0_win_actual_distances, player_0_loss_actual_distances, player_1_win_actual_distances,\n\u001b[1;32m----> 8\u001b[0m             player_1_loss_actual_distances) \u001b[38;5;241m=\u001b[39m \u001b[43mactual_distance_winner_loser_session\u001b[49m\u001b[43m(\u001b[49m\u001b[43mtrial_list\u001b[49m\u001b[43m)\u001b[49m\n\u001b[0;32m     10\u001b[0m \u001b[38;5;66;03m# find the direct distances for both players, win and loss\u001b[39;00m\n\u001b[0;32m     11\u001b[0m (player_0_win_direct_distances, player_0_loss_direct_distances, player_1_win_direct_distances,\n\u001b[0;32m     12\u001b[0m             player_1_loss_direct_distances) \u001b[38;5;241m=\u001b[39m direct_distance_winner_loser_session(trial_list)\n",
      "Cell \u001b[1;32mIn[587], line 6\u001b[0m, in \u001b[0;36mactual_distance_winner_loser_session\u001b[1;34m(trial_list)\u001b[0m\n\u001b[0;32m      1\u001b[0m \u001b[38;5;28;01mdef\u001b[39;00m \u001b[38;5;21mactual_distance_winner_loser_session\u001b[39m(trial_list):\n\u001b[0;32m      2\u001b[0m \u001b[38;5;250m    \u001b[39m\u001b[38;5;124;03m''' Return 4 arrays, each of len(trial_list), which are the direct distances in\u001b[39;00m\n\u001b[0;32m      3\u001b[0m \u001b[38;5;124;03m        winning trials and losing trials respectively for player 0 and player 1 respectively.\u001b[39;00m\n\u001b[0;32m      4\u001b[0m \u001b[38;5;124;03m        Indices where the trial outcome does match the array name are np.nan. '''\u001b[39;00m\n\u001b[1;32m----> 6\u001b[0m     player_0_win_actual_distances \u001b[38;5;241m=\u001b[39m \u001b[43mplayer_actual_distance_session\u001b[49m\u001b[43m(\u001b[49m\u001b[43mtrial_list\u001b[49m\u001b[43m,\u001b[49m\u001b[43m \u001b[49m\u001b[43mplayer_index\u001b[49m\u001b[38;5;241;43m=\u001b[39;49m\u001b[38;5;241;43m0\u001b[39;49m\u001b[43m)\u001b[49m\n\u001b[0;32m      7\u001b[0m     player_0_loss_actual_distances \u001b[38;5;241m=\u001b[39m player_0_win_actual_distances\n\u001b[0;32m      9\u001b[0m     player_1_win_actual_distances \u001b[38;5;241m=\u001b[39m player_actual_distance_session(trial_list, player_index\u001b[38;5;241m=\u001b[39m\u001b[38;5;241m1\u001b[39m)\n",
      "Cell \u001b[1;32mIn[585], line 10\u001b[0m, in \u001b[0;36mplayer_actual_distance_session\u001b[1;34m(trial_list, player_index)\u001b[0m\n\u001b[0;32m      8\u001b[0m \u001b[38;5;28;01mfor\u001b[39;00m i, trial \u001b[38;5;129;01min\u001b[39;00m \u001b[38;5;28menumerate\u001b[39m(trial_list):\n\u001b[0;32m      9\u001b[0m     trial \u001b[38;5;241m=\u001b[39m trial_list[i]\n\u001b[1;32m---> 10\u001b[0m     distance \u001b[38;5;241m=\u001b[39m \u001b[43mplayer_actual_distance_trial\u001b[49m\u001b[43m(\u001b[49m\u001b[43mtrial\u001b[49m\u001b[43m,\u001b[49m\u001b[43m \u001b[49m\u001b[43mplayer_index\u001b[49m\u001b[43m)\u001b[49m\n\u001b[0;32m     12\u001b[0m     actual_distances[i] \u001b[38;5;241m=\u001b[39m distance\n\u001b[0;32m     14\u001b[0m \u001b[38;5;28;01mreturn\u001b[39;00m actual_distances\n",
      "Cell \u001b[1;32mIn[583], line 7\u001b[0m, in \u001b[0;36mplayer_actual_distance_trial\u001b[1;34m(trial, player_index, debug)\u001b[0m\n\u001b[0;32m      2\u001b[0m \u001b[38;5;250m\u001b[39m\u001b[38;5;124;03m''' Return the actual distance in units throughout the player's entire\u001b[39;00m\n\u001b[0;32m      3\u001b[0m \u001b[38;5;124;03m    trajectory.\u001b[39;00m\n\u001b[0;32m      4\u001b[0m \u001b[38;5;124;03m    Takesa trial and player index. '''\u001b[39;00m\n\u001b[0;32m      6\u001b[0m \u001b[38;5;66;03m# get the player's trajectory\u001b[39;00m\n\u001b[1;32m----> 7\u001b[0m trajectory \u001b[38;5;241m=\u001b[39m \u001b[43mtrajectory_vectors\u001b[49m\u001b[38;5;241;43m.\u001b[39;49m\u001b[43mextract_trial_player_trajectory\u001b[49m\u001b[43m(\u001b[49m\u001b[43mtrial\u001b[49m\u001b[38;5;241;43m=\u001b[39;49m\u001b[43mtrial\u001b[49m\u001b[43m,\u001b[49m\u001b[43m \u001b[49m\u001b[43mplayer_id\u001b[49m\u001b[38;5;241;43m=\u001b[39;49m\u001b[43mplayer_index\u001b[49m\u001b[43m,\u001b[49m\u001b[43m \u001b[49m\u001b[43mdebug\u001b[49m\u001b[38;5;241;43m=\u001b[39;49m\u001b[38;5;28;43;01mFalse\u001b[39;49;00m\u001b[43m)\u001b[49m\n\u001b[0;32m      9\u001b[0m \u001b[38;5;66;03m# compute difference between consecutive columns (timepoints)\u001b[39;00m\n\u001b[0;32m     10\u001b[0m position_diffs \u001b[38;5;241m=\u001b[39m np\u001b[38;5;241m.\u001b[39mdiff(trajectory, axis\u001b[38;5;241m=\u001b[39m\u001b[38;5;241m1\u001b[39m) \u001b[38;5;66;03m# shape 2, timepoints-1\u001b[39;00m\n",
      "File \u001b[1;32md:\\tom\\documents\\swc\\repos\\octagon_analysis\\trajectory_analysis\\trajectory_vectors.py:40\u001b[0m, in \u001b[0;36mextract_trial_player_trajectory\u001b[1;34m(trial_list, trial_index, trial, player_id, debug)\u001b[0m\n\u001b[0;32m     38\u001b[0m     \u001b[38;5;28mprint\u001b[39m(\u001b[38;5;124mf\u001b[39m\u001b[38;5;124m\"\u001b[39m\u001b[38;5;124mExtracting trial with trial index \u001b[39m\u001b[38;5;132;01m{\u001b[39;00mtrial_index\u001b[38;5;132;01m}\u001b[39;00m\u001b[38;5;124m\"\u001b[39m)\n\u001b[0;32m     39\u001b[0m trial \u001b[38;5;241m=\u001b[39m extract_trial\u001b[38;5;241m.\u001b[39mextract_trial(trial, trial_list, trial_index)\n\u001b[1;32m---> 40\u001b[0m \u001b[38;5;28;01massert\u001b[39;00m \u001b[38;5;28misinstance\u001b[39m(trial, pd\u001b[38;5;241m.\u001b[39mDataFrame)\n\u001b[0;32m     42\u001b[0m \u001b[38;5;28;01mif\u001b[39;00m debug:\n\u001b[0;32m     43\u001b[0m     \u001b[38;5;28mprint\u001b[39m(\u001b[38;5;124mf\u001b[39m\u001b[38;5;124m\"\u001b[39m\u001b[38;5;124mTrial is of type \u001b[39m\u001b[38;5;132;01m{\u001b[39;00m\u001b[38;5;28mtype\u001b[39m(trial)\u001b[38;5;132;01m}\u001b[39;00m\u001b[38;5;124m\"\u001b[39m)\n",
      "\u001b[1;31mAssertionError\u001b[0m: "
     ]
    }
   ],
   "source": [
    "(ratio_player_0_win, ratio_player_0_loss, ratio_player_1_win, ratio_player_1_loss) = ratio_direct_to_absolute_distances_session(trial_list)"
   ]
  },
  {
   "cell_type": "code",
   "execution_count": null,
   "id": "8fb945e1",
   "metadata": {},
   "outputs": [
    {
     "name": "stderr",
     "output_type": "stream",
     "text": [
      "C:\\Users\\Tom\\AppData\\Local\\Temp\\ipykernel_16692\\72825313.py:16: RuntimeWarning: invalid value encountered in divide\n",
      "  ratio_player_0_loss =  np.nanmean(player_0_loss_direct_distances/player_0_loss_actual_distances)\n"
     ]
    }
   ],
   "source": [
    "trajectory_efficiency_ratios = ratio_direct_to_absolute_distances_multiple_sessions(trial_lists)"
   ]
  },
  {
   "cell_type": "code",
   "execution_count": null,
   "id": "5afbd82a",
   "metadata": {},
   "outputs": [
    {
     "data": {
      "text/plain": [
       "array([[0.81805436, 0.75260653, 0.76958186, 0.62714763],\n",
       "       [0.8528626 , 0.74524714, 0.97358384, 0.97010905]])"
      ]
     },
     "execution_count": 562,
     "metadata": {},
     "output_type": "execute_result"
    }
   ],
   "source": [
    "trajectory_efficiency_ratios"
   ]
  },
  {
   "cell_type": "code",
   "execution_count": null,
   "id": "e65a34d2",
   "metadata": {},
   "outputs": [
    {
     "data": {
      "text/plain": [
       "(np.float64(0.9196845327488561),\n",
       " np.float64(0.7639445690966866),\n",
       " np.float64(0.9753591794777994),\n",
       " np.float64(0.9292355321249816))"
      ]
     },
     "execution_count": 563,
     "metadata": {},
     "output_type": "execute_result"
    }
   ],
   "source": [
    "ratio_player_0_win, ratio_player_0_loss, ratio_player_1_win, ratio_player_1_loss"
   ]
  },
  {
   "cell_type": "code",
   "execution_count": null,
   "id": "dfb4117c",
   "metadata": {},
   "outputs": [],
   "source": [
    "# find the actual distances for both players, win and loss\n",
    "(player_0_win_actual_distances, player_0_loss_actual_distances, player_1_win_actual_distances,\n",
    "            player_1_loss_actual_distances) = actual_distance_winner_loser_session(trial_list)\n",
    "\n",
    "# find the direct distances for both players, win and loss\n",
    "(player_0_win_direct_distances, player_0_loss_direct_distances, player_1_win_direct_distances,\n",
    "            player_1_loss_direct_distances) = direct_distance_winner_loser_session(trial_list)"
   ]
  },
  {
   "cell_type": "code",
   "execution_count": null,
   "id": "cdca5e3a",
   "metadata": {},
   "outputs": [
    {
     "data": {
      "text/plain": [
       "np.float64(0.9129882309442566)"
      ]
     },
     "execution_count": 565,
     "metadata": {},
     "output_type": "execute_result"
    }
   ],
   "source": [
    "np.nanmean(player_0_win_direct_distances)/np.nanmean(player_0_win_actual_distances)"
   ]
  },
  {
   "cell_type": "code",
   "execution_count": null,
   "id": "50e4dc62",
   "metadata": {},
   "outputs": [
    {
     "data": {
      "text/plain": [
       "np.float64(0.9694372187316416)"
      ]
     },
     "execution_count": 566,
     "metadata": {},
     "output_type": "execute_result"
    }
   ],
   "source": [
    "np.nanmean(player_1_win_direct_distances)/np.nanmean(player_1_win_actual_distances)"
   ]
  },
  {
   "cell_type": "code",
   "execution_count": null,
   "id": "3538dc77",
   "metadata": {},
   "outputs": [
    {
     "data": {
      "text/plain": [
       "array([False,  True, False,  True,  True,  True, False,  True,  True,\n",
       "       False, False,  True, False, False, False, False, False, False,\n",
       "        True, False, False,  True, False, False,  True,  True, False,\n",
       "       False, False, False, False, False,  True,  True, False, False,\n",
       "        True, False,  True,  True, False, False, False, False,  True,\n",
       "        True,  True,  True,  True, False, False, False, False,  True,\n",
       "       False,  True, False,  True, False, False, False, False,  True,\n",
       "        True, False, False, False, False,  True, False,  True, False,\n",
       "       False, False, False, False,  True,  True,  True, False,  True,\n",
       "       False, False, False,  True,  True, False, False, False,  True,\n",
       "       False, False, False, False, False, False, False, False, False,\n",
       "       False, False, False,  True, False, False, False, False, False,\n",
       "        True, False, False,  True,  True, False, False, False,  True,\n",
       "        True, False, False, False, False,  True, False, False, False,\n",
       "        True, False,  True, False,  True,  True, False,  True,  True,\n",
       "        True,  True, False, False,  True, False, False,  True, False,\n",
       "       False, False,  True,  True,  True, False,  True, False,  True,\n",
       "        True, False, False, False,  True, False, False, False, False,\n",
       "       False, False, False, False, False,  True, False, False, False,\n",
       "       False,  True, False, False, False])"
      ]
     },
     "execution_count": 567,
     "metadata": {},
     "output_type": "execute_result"
    }
   ],
   "source": [
    "a = player_0_win_direct_distances\n",
    "b = player_0_win_actual_distances\n",
    "\n",
    "a < b"
   ]
  },
  {
   "cell_type": "code",
   "execution_count": null,
   "id": "c45ab171",
   "metadata": {},
   "outputs": [
    {
     "data": {
      "text/plain": [
       "array([18.83628049,         nan, 19.39124114,         nan,         nan,\n",
       "               nan, 19.65127026,         nan,         nan, 19.58822441,\n",
       "       17.3856904 ,         nan, 19.65467404, 17.46011065, 17.07823738,\n",
       "       16.52886919, 15.00217567, 19.21148406,         nan, 15.9066032 ,\n",
       "       17.29733606,         nan, 18.75869673, 17.72241695,         nan,\n",
       "               nan, 18.89211592, 16.05315725, 17.23221691, 15.70498368,\n",
       "       17.33184737, 16.78489567,         nan,         nan, 17.9668422 ,\n",
       "       18.60336421,         nan, 16.43659816,         nan,         nan,\n",
       "       15.56568245, 18.61522118, 18.64066133, 18.33371295,         nan,\n",
       "               nan,         nan,         nan,         nan, 16.52205371,\n",
       "       17.57755177, 16.02019229, 17.35410258,         nan, 15.06871996,\n",
       "               nan, 17.9288719 ,         nan, 15.54055605, 19.01059391,\n",
       "       19.01144408, 18.65410502,         nan,         nan, 16.24914003,\n",
       "       16.69955145, 17.52609366, 18.85706939,         nan, 19.92306133,\n",
       "               nan, 17.59068417, 18.81048449, 15.95267178, 14.75847888,\n",
       "       16.4063366 ,         nan,         nan,         nan, 17.53914562,\n",
       "               nan, 18.21151431, 18.83875835, 17.34937885,         nan,\n",
       "               nan, 17.38583776, 15.62833807, 18.31757916,         nan,\n",
       "       16.73702284, 19.77013308, 20.71287803, 17.77145046, 12.68046246,\n",
       "       19.9017316 , 15.68273509, 19.03908269, 18.89045748, 19.62818953,\n",
       "       13.35050347, 18.57050523,         nan, 13.55811666, 13.6375912 ,\n",
       "       18.7010616 , 18.45601994, 16.27561784,         nan, 16.64565846,\n",
       "       15.16923569,         nan,         nan, 17.77580873, 19.62777193,\n",
       "       20.65290156,         nan,         nan, 17.83244263, 16.54185789,\n",
       "       16.93793856, 19.70082647,         nan, 16.37861472, 19.84488098,\n",
       "       17.58917378,         nan, 14.9738852 ,         nan, 18.63933335,\n",
       "               nan,         nan, 16.49507603,         nan,         nan,\n",
       "               nan,         nan, 15.47616448, 16.69282201,         nan,\n",
       "       16.51584645, 18.75836311,         nan, 19.44831767, 17.29810881,\n",
       "       15.7204085 ,         nan,         nan,         nan, 15.08685944,\n",
       "               nan, 16.90723132,         nan,         nan, 16.19798269,\n",
       "       16.55922858, 19.63053297,         nan, 15.28969621, 15.31591006,\n",
       "       17.53947194, 15.7912076 , 18.26961899, 19.41931467, 19.41536967,\n",
       "       14.16151031, 20.16351152,         nan, 18.75957689, 16.52001178,\n",
       "       17.79434998, 17.78968929,         nan, 16.76996074, 19.31769614,\n",
       "       16.10331048])"
      ]
     },
     "execution_count": 568,
     "metadata": {},
     "output_type": "execute_result"
    }
   ],
   "source": [
    "player_1_win_direct_distances"
   ]
  },
  {
   "cell_type": "code",
   "execution_count": null,
   "id": "463b499c",
   "metadata": {},
   "outputs": [
    {
     "data": {
      "text/plain": [
       "array([25.23054504,         nan, 19.84788156,         nan,         nan,\n",
       "               nan, 21.88668245,         nan,         nan, 19.69963715,\n",
       "       17.62958675,         nan, 19.73883977, 17.56078181, 17.41536505,\n",
       "       17.29875991, 34.25761487, 19.21150052,         nan, 16.29158067,\n",
       "       17.49289669,         nan, 18.87234218, 18.57051333,         nan,\n",
       "               nan, 19.37908061, 16.31221593, 17.42852628, 15.88266334,\n",
       "       17.34599464, 16.89924379,         nan,         nan, 18.58218877,\n",
       "       18.64338854,         nan, 16.83175879,         nan,         nan,\n",
       "       15.71393152, 18.84286196, 18.64183696, 19.0495324 ,         nan,\n",
       "               nan,         nan,         nan,         nan, 16.63847067,\n",
       "       17.69365746, 16.19970049, 17.42649765,         nan, 19.01541053,\n",
       "               nan, 18.05840619,         nan, 16.76219846, 19.06918079,\n",
       "       19.26036117, 18.80279411,         nan,         nan, 16.34913597,\n",
       "       16.70232452, 18.43141608, 19.62001192,         nan, 20.09827573,\n",
       "               nan, 18.26887477, 19.42140068, 16.04347743, 14.80866574,\n",
       "       16.59192317,         nan,         nan,         nan, 17.86081089,\n",
       "               nan, 18.30714306, 18.88580525, 17.49231656,         nan,\n",
       "               nan, 17.62621677, 16.08820135, 18.3693616 ,         nan,\n",
       "       16.75760139, 19.79818504, 20.76267288, 17.8632705 , 12.76475717,\n",
       "       19.93386667, 18.38840032, 20.64188776, 18.99128019, 19.73226364,\n",
       "       13.35064217, 18.72866558,         nan, 13.7804855 , 13.67703716,\n",
       "       18.802031  , 18.46367864, 16.39400336,         nan, 16.86898972,\n",
       "       15.21376838,         nan,         nan, 18.01692638, 19.98028278,\n",
       "       20.76989139,         nan,         nan, 17.98608658, 16.61529683,\n",
       "       17.09782911, 19.78955127,         nan, 16.84647969, 19.93844619,\n",
       "       17.5948287 ,         nan, 14.97574247,         nan, 19.56956753,\n",
       "               nan,         nan, 16.65777773,         nan,         nan,\n",
       "               nan,         nan, 15.49348418, 16.69708098,         nan,\n",
       "       16.77392379, 19.54179855,         nan, 19.46863631, 17.66392181,\n",
       "       15.79825151,         nan,         nan,         nan, 15.36156157,\n",
       "               nan, 17.30087401,         nan,         nan, 16.20532161,\n",
       "       16.67117438, 19.85643594,         nan, 15.32522391, 15.60235849,\n",
       "       17.69162217, 15.94424257, 18.30097532, 19.66928446, 19.83127565,\n",
       "       14.22467873, 22.86204947,         nan, 18.90456649, 16.58778566,\n",
       "       17.94225014, 18.01904165,         nan, 16.88858649, 19.44682038,\n",
       "       17.19082738])"
      ]
     },
     "execution_count": 569,
     "metadata": {},
     "output_type": "execute_result"
    }
   ],
   "source": [
    "player_1_win_actual_distances"
   ]
  },
  {
   "cell_type": "code",
   "execution_count": null,
   "id": "ebc562bc",
   "metadata": {},
   "outputs": [
    {
     "data": {
      "text/plain": [
       "(np.float64(0.9196845327488561), np.float64(0.9753591794777994))"
      ]
     },
     "execution_count": 570,
     "metadata": {},
     "output_type": "execute_result"
    }
   ],
   "source": [
    "np.nanmean(player_0_win_direct_distances/player_0_win_actual_distances), np.nanmean(player_1_win_direct_distances/player_1_win_actual_distances)"
   ]
  },
  {
   "cell_type": "code",
   "execution_count": null,
   "id": "ac324dd2",
   "metadata": {},
   "outputs": [
    {
     "name": "stderr",
     "output_type": "stream",
     "text": [
      "C:\\Users\\Tom\\AppData\\Local\\Temp\\ipykernel_16692\\3291096355.py:1: RuntimeWarning: invalid value encountered in divide\n",
      "  np.nanmean(player_1_loss_direct_distances/player_1_loss_actual_distances), np.nanmean(player_0_loss_direct_distances/player_0_loss_actual_distances)\n"
     ]
    },
    {
     "data": {
      "text/plain": [
       "(np.float64(0.9292355321249816), np.float64(0.7639445690966866))"
      ]
     },
     "execution_count": 571,
     "metadata": {},
     "output_type": "execute_result"
    }
   ],
   "source": [
    "np.nanmean(player_1_loss_direct_distances/player_1_loss_actual_distances), np.nanmean(player_0_loss_direct_distances/player_0_loss_actual_distances)"
   ]
  },
  {
   "cell_type": "code",
   "execution_count": null,
   "id": "9bc29708",
   "metadata": {},
   "outputs": [],
   "source": [
    "def ratio_direct_to_absolute_distances_session(trial_list):\n",
    "    ''' Return 4 values, the ratio of direct distances to absolute distances for \n",
    "        winner and then loser for first player 0 and then player 1 '''\n",
    "    \n",
    "    "
   ]
  },
  {
   "cell_type": "code",
   "execution_count": null,
   "id": "a50df323",
   "metadata": {},
   "outputs": [
    {
     "data": {
      "text/plain": [
       "array([ 4.28021165,         nan, 20.67565703,         nan,         nan,\n",
       "               nan, 14.56262786,         nan,         nan, 11.81873951,\n",
       "       18.81694117,         nan, 15.90104251, 16.91283744, 20.11940893,\n",
       "       17.2323116 , 28.9369385 , 14.71371709,         nan, 18.54751341,\n",
       "       16.38583798,         nan, 24.40519673, 15.72767363,         nan,\n",
       "               nan, 18.80061008, 17.88969583, 17.79182371, 17.58255119,\n",
       "       19.31937395, 24.09865682,         nan,         nan, 16.84412562,\n",
       "       20.68561902,         nan, 18.14526538,         nan,         nan,\n",
       "       17.88344734,  4.63191192, 22.48297362, 15.23346828,         nan,\n",
       "               nan,         nan,         nan,         nan, 17.17867976,\n",
       "       18.33212597,  9.48644216, 17.16822551,         nan, 19.44517436,\n",
       "               nan, 26.58286675,         nan, 10.72368652, 25.61150888,\n",
       "       22.83831301, 19.46566728,         nan,         nan, 17.04338638,\n",
       "       25.03698294, 15.71464681, 16.88784556,         nan, 18.38829924,\n",
       "               nan, 17.72731186, 11.30980321, 14.65515943, 18.08427714,\n",
       "       14.78813256,         nan,         nan,         nan, 19.94463273,\n",
       "               nan, 10.90832495, 19.34556372, 16.76489376,         nan,\n",
       "               nan, 17.09115878, 23.61001293, 12.05240864,         nan,\n",
       "       10.83798301, 17.96290992, 18.96700693, 10.75512045, 10.36562511,\n",
       "       19.39072982, 17.0862305 , 18.88676546, 12.63241073, 18.5238066 ,\n",
       "        1.84688546, 20.25064634,         nan,  2.38570208, 13.61091821,\n",
       "       15.25510084, 12.78167012, 13.50581803,         nan, 19.05847152,\n",
       "       20.81039049,         nan,         nan, 19.00911149, 20.04079305,\n",
       "       23.18588276,         nan,         nan, 18.36152697, 14.60078135,\n",
       "       19.00959761, 14.66119281,         nan, 24.97522112, 20.51114935,\n",
       "        5.07554135,         nan, 17.19888225,         nan, 17.48769923,\n",
       "               nan,         nan,  0.        ,         nan,         nan,\n",
       "               nan,         nan, 21.52956175, 17.44089065,         nan,\n",
       "       19.25050264,  9.38891863,         nan, 18.97541058, 15.18075577,\n",
       "       17.178207  ,         nan,         nan,         nan, 11.40078786,\n",
       "               nan, 17.94928571,         nan,         nan, 16.86459633,\n",
       "        4.11897486, 20.72827504,         nan, 15.83882637, 18.7896953 ,\n",
       "        4.9309108 ,  0.72135468, 16.69248716, 19.90761641, 19.30034073,\n",
       "        2.59377166, 13.95719576,         nan, 14.58951183, 15.54335097,\n",
       "       21.999585  , 16.69790264,         nan, 15.82747335, 20.61796834,\n",
       "        2.81490628])"
      ]
     },
     "execution_count": 573,
     "metadata": {},
     "output_type": "execute_result"
    }
   ],
   "source": [
    "player_0_loss_actual_distances"
   ]
  },
  {
   "cell_type": "code",
   "execution_count": null,
   "id": "e5d48ab7",
   "metadata": {},
   "outputs": [
    {
     "data": {
      "text/plain": [
       "array([1., 0., 1., 0., 0., 0., 1., 0., 0., 1., 1., 0., 1., 1., 1., 1., 1.,\n",
       "       1., 0., 1., 1., 0., 1., 1., 0., 0., 1., 1., 1., 1., 1., 1., 0., 0.,\n",
       "       1., 1., 0., 1., 0., 0., 1., 1., 1., 1., 0., 0., 0., 0., 0., 1., 1.,\n",
       "       1., 1., 0., 1., 0., 1., 0., 1., 1., 1., 1., 0., 0., 1., 1., 1., 1.,\n",
       "       0., 1., 0., 1., 1., 1., 1., 1., 0., 0., 0., 1., 0., 1., 1., 1., 0.,\n",
       "       0., 1., 1., 1., 0., 1., 1., 1., 1., 1., 1., 1., 1., 1., 1., 1., 1.,\n",
       "       0., 1., 1., 1., 1., 1., 0., 1., 1., 0., 0., 1., 1., 1., 0., 0., 1.,\n",
       "       1., 1., 1., 0., 1., 1., 1., 0., 1., 0., 1., 0., 0., 1., 0., 0., 0.,\n",
       "       0., 1., 1., 0., 1., 1., 0., 1., 1., 1., 0., 0., 0., 1., 0., 1., 0.,\n",
       "       0., 1., 1., 1., 0., 1., 1., 1., 1., 1., 1., 1., 1., 1., 0., 1., 1.,\n",
       "       1., 1., 0., 1., 1., 1.])"
      ]
     },
     "execution_count": 574,
     "metadata": {},
     "output_type": "execute_result"
    }
   ],
   "source": [
    "get_indices.get_trigger_activators(trial_list)"
   ]
  },
  {
   "cell_type": "code",
   "execution_count": null,
   "id": "216bcf13",
   "metadata": {},
   "outputs": [],
   "source": [
    "a = player_actual_distance_session(trial_list, 1)\n",
    "b = player_direct_distance_session(trial_list, 1)"
   ]
  },
  {
   "cell_type": "code",
   "execution_count": null,
   "id": "d02e51d1",
   "metadata": {},
   "outputs": [
    {
     "data": {
      "text/plain": [
       "array([2.52305450e+01, 3.16390224e+01, 1.98478816e+01, 2.41265566e+01,\n",
       "       1.13575656e+01, 1.93331217e+01, 2.18866825e+01, 1.94101196e+01,\n",
       "       1.94708992e+01, 1.96996371e+01, 1.76295867e+01, 3.69084240e+00,\n",
       "       1.97388398e+01, 1.75607818e+01, 1.74153651e+01, 1.72987599e+01,\n",
       "       3.42576149e+01, 1.92115005e+01, 1.68618933e+01, 1.62915807e+01,\n",
       "       1.74928967e+01, 1.46644295e+01, 1.88723422e+01, 1.85705133e+01,\n",
       "       2.01810424e+01, 1.79554402e+01, 1.93790806e+01, 1.63122159e+01,\n",
       "       1.74285263e+01, 1.58826633e+01, 1.73459946e+01, 1.68992438e+01,\n",
       "       8.33544534e+00, 1.71380538e+01, 1.85821888e+01, 1.86433885e+01,\n",
       "       9.43097352e+00, 1.68317588e+01, 1.29956546e+01, 1.77288677e+01,\n",
       "       1.57139315e+01, 1.88428620e+01, 1.86418370e+01, 1.90495324e+01,\n",
       "       8.62903881e+00, 1.68587394e-07, 1.50548841e+01, 1.38228209e+01,\n",
       "       1.54696057e+01, 1.66384707e+01, 1.76936575e+01, 1.61997005e+01,\n",
       "       1.74264977e+01, 1.50679193e+01, 1.90154105e+01, 1.72695766e+01,\n",
       "       1.80584062e+01, 1.50508912e+01, 1.67621985e+01, 1.90691808e+01,\n",
       "       1.92603612e+01, 1.88027941e+01, 1.43361121e+01, 1.25341922e+01,\n",
       "       1.63491360e+01, 1.67023245e+01, 1.84314161e+01, 1.96200119e+01,\n",
       "       6.48530066e+00, 2.00982757e+01, 1.13783667e+01, 1.82688748e+01,\n",
       "       1.94214007e+01, 1.60434774e+01, 1.48086657e+01, 1.65919232e+01,\n",
       "       1.36952326e+01, 1.33312420e+01, 1.19006607e+01, 1.78608109e+01,\n",
       "       5.80405246e+00, 1.83071431e+01, 1.88858052e+01, 1.74923166e+01,\n",
       "       9.97672938e+00, 1.60063055e+01, 1.76262168e+01, 1.60882013e+01,\n",
       "       1.83693616e+01, 1.41786746e+01, 1.67576014e+01, 1.97981850e+01,\n",
       "       2.07626729e+01, 1.78632705e+01, 1.27647572e+01, 1.99338667e+01,\n",
       "       1.83884003e+01, 2.06418878e+01, 1.89912802e+01, 1.97322636e+01,\n",
       "       1.33506422e+01, 1.87286656e+01, 1.02948454e+01, 1.37804855e+01,\n",
       "       1.36770372e+01, 1.88020310e+01, 1.84636786e+01, 1.63940034e+01,\n",
       "       1.21183812e+01, 1.68689897e+01, 1.52137684e+01, 1.43251676e+01,\n",
       "       1.75301346e+01, 1.80169264e+01, 1.99802828e+01, 2.07698914e+01,\n",
       "       9.67850878e+00, 1.45362937e+01, 1.79860866e+01, 1.66152968e+01,\n",
       "       1.70978291e+01, 1.97895513e+01, 1.62392423e+01, 1.68464797e+01,\n",
       "       1.99384462e+01, 1.75948287e+01, 1.46956440e+01, 1.49757425e+01,\n",
       "       1.48838667e+01, 1.95695675e+01, 1.81862761e+01, 1.46689194e+01,\n",
       "       1.66577777e+01, 1.63111461e+01, 1.97091913e+01, 6.95566304e+00,\n",
       "       1.34936072e+01, 1.54934842e+01, 1.66970810e+01, 2.57248101e+00,\n",
       "       1.67739238e+01, 1.95417985e+01, 1.79274919e+01, 1.94686363e+01,\n",
       "       1.76639218e+01, 1.57982515e+01, 1.36482430e+01, 1.06955231e+01,\n",
       "       1.96921390e+01, 1.53615616e+01, 1.92282821e+01, 1.73008740e+01,\n",
       "       2.01941390e+01, 1.37631231e+01, 1.62053216e+01, 1.66711744e+01,\n",
       "       1.98564359e+01, 9.96397203e+00, 1.53252239e+01, 1.56023585e+01,\n",
       "       1.76916222e+01, 1.59442426e+01, 1.83009753e+01, 1.96692845e+01,\n",
       "       1.98312756e+01, 1.42246787e+01, 2.28620495e+01, 7.22125829e+00,\n",
       "       1.89045665e+01, 1.65877857e+01, 1.79422501e+01, 1.80190417e+01,\n",
       "       1.93987609e+01, 1.68885865e+01, 1.94468204e+01, 1.71908274e+01])"
      ]
     },
     "execution_count": 576,
     "metadata": {},
     "output_type": "execute_result"
    }
   ],
   "source": [
    "a"
   ]
  }
 ],
 "metadata": {
  "kernelspec": {
   "display_name": "octagon_analysis",
   "language": "python",
   "name": "python3"
  },
  "language_info": {
   "codemirror_mode": {
    "name": "ipython",
    "version": 3
   },
   "file_extension": ".py",
   "mimetype": "text/x-python",
   "name": "python",
   "nbconvert_exporter": "python",
   "pygments_lexer": "ipython3",
   "version": "3.12.3"
  }
 },
 "nbformat": 4,
 "nbformat_minor": 5
}
