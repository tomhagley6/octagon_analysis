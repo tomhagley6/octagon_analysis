{
 "cells": [
  {
   "cell_type": "code",
   "execution_count": 1,
   "id": "d4992911-7b02-448c-8ee5-c89c228ad2ed",
   "metadata": {},
   "outputs": [],
   "source": [
    "%load_ext autoreload\n",
    "%autoreload 2\n",
    "\n",
    "import parse_data.prepare_data as prepare_data\n",
    "import numpy as np\n",
    "import pandas as pd\n",
    "import matplotlib.pyplot as plt\n",
    "import globals\n",
    "import data_strings\n",
    "import data_extraction.get_indices as get_indices"
   ]
  },
  {
   "cell_type": "markdown",
   "id": "7a24b223",
   "metadata": {},
   "source": [
    "### Generic starting point for work on session data"
   ]
  },
  {
   "cell_type": "code",
   "execution_count": 2,
   "id": "011c819a-ab6d-4c42-8ab8-c35d0824fbfa",
   "metadata": {},
   "outputs": [],
   "source": [
    "data_folder = data_strings.DATA_FOLDER\n",
    "json_filenames_all_social = data_strings.JSON_FILENAMES_SOCIAL[12:13]\n",
    "json_filenames_all_solo = data_strings.JSON_FILENAMES_SOLO[12:13]"
   ]
  },
  {
   "cell_type": "code",
   "execution_count": 3,
   "id": "c07cb011",
   "metadata": {},
   "outputs": [],
   "source": [
    "json_filenames = json_filenames_all_social"
   ]
  },
  {
   "cell_type": "code",
   "execution_count": 4,
   "id": "167898aa-3073-479e-8eef-6c579c67c7f4",
   "metadata": {
    "scrolled": true
   },
   "outputs": [
    {
     "name": "stdout",
     "output_type": "stream",
     "text": [
      "filepath: C:\\Users\\tomha\\OneDrive\\PhD\\SWC\\data\\241203_1\\2024-12-03_14-31-51_PaulNicoleSocial.json\n",
      "Loading complete.\n",
      "Preprocessing complete.\n"
     ]
    }
   ],
   "source": [
    "df, trial_list = prepare_data.prepare_data(data_folder, json_filenames, combine=False)"
   ]
  },
  {
   "cell_type": "code",
   "execution_count": 7,
   "id": "27040cce",
   "metadata": {},
   "outputs": [
    {
     "name": "stdout",
     "output_type": "stream",
     "text": [
      "num trials that are HighLow this session is: 87\n"
     ]
    }
   ],
   "source": [
    "trial_list_highlow_idx = get_indices.get_trials_trialtype(trial_list[0])\n",
    "trial_list_highlow = [trial_list[0][i] for i in trial_list_highlow_idx]\n",
    "print(f\"num trials that are HighLow this session is: {trial_list_highlow_idx.size}\")"
   ]
  },
  {
   "cell_type": "code",
   "execution_count": 9,
   "id": "2d9fabe1",
   "metadata": {},
   "outputs": [
    {
     "name": "stdout",
     "output_type": "stream",
     "text": [
      "num trials with wall separation 1 is 46\n",
      "num trials with wall separation 2 is 19\n",
      "num trials with wall separation 4 is 22\n"
     ]
    }
   ],
   "source": [
    "for wall_sep in  [1,2,4]:\n",
    "    wall_sep_idx = get_indices.get_trials_with_wall_sep(trial_list_highlow, wall_sep=wall_sep)\n",
    "    print(f\"num trials with wall separation {wall_sep} is {wall_sep_idx.size}\")"
   ]
  }
 ],
 "metadata": {
  "kernelspec": {
   "display_name": "octagon_analysis",
   "language": "python",
   "name": "python3"
  },
  "language_info": {
   "codemirror_mode": {
    "name": "ipython",
    "version": 3
   },
   "file_extension": ".py",
   "mimetype": "text/x-python",
   "name": "python",
   "nbconvert_exporter": "python",
   "pygments_lexer": "ipython3",
   "version": "3.12.3"
  }
 },
 "nbformat": 4,
 "nbformat_minor": 5
}
