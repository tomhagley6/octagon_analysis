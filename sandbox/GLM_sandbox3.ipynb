{
 "cells": [
  {
   "cell_type": "code",
   "execution_count": 2,
   "id": "d4992911-7b02-448c-8ee5-c89c228ad2ed",
   "metadata": {},
   "outputs": [
    {
     "name": "stdout",
     "output_type": "stream",
     "text": [
      "[1] \"R version 4.1.3 (2022-03-10)\"\n",
      "\n"
     ]
    }
   ],
   "source": [
    "%load_ext autoreload\n",
    "%autoreload 2\n",
    "\n",
    "import os \n",
    "os.environ['R_HOME']= r'C:\\Users\\tomha\\miniconda3\\envs\\octagon_analysis\\lib\\R'\n",
    "\n",
    "import rpy2.robjects as robjects\n",
    "print(robjects.r('R.version.string'))\n",
    "\n",
    "import parse_data.prepare_data as prepare_data\n",
    "import numpy as np\n",
    "import pandas as pd\n",
    "import matplotlib.pyplot as plt\n",
    "import globals\n",
    "import data_strings\n",
    "import data_extraction.get_indices as get_indices\n",
    "import analysis.wall_visibility_and_choice as wall_visibility_and_choice\n",
    "from trajectory_analysis import trajectory_vectors\n",
    "from plotting import plot_octagon\n",
    "import parse_data.identify_filepaths as identify_filepaths \n",
    "from data_extraction.trial_list_filters import filter_trials_other_visible\n",
    "from analysis import opponent_visibility\n"
   ]
  },
  {
   "cell_type": "markdown",
   "id": "7a24b223",
   "metadata": {},
   "source": [
    "### Create a dataframe to feed into a GLM using D2H, D2L, First Seen, Wall Separation, and PlayerID (random effect) to predict P(Choose High)"
   ]
  },
  {
   "cell_type": "code",
   "execution_count": 3,
   "id": "8d30f028",
   "metadata": {},
   "outputs": [],
   "source": [
    "data_folder = data_strings.DATA_FOLDER\n",
    "json_filenames_social, json_filenames_solo = identify_filepaths.get_filenames()"
   ]
  },
  {
   "cell_type": "code",
   "execution_count": 4,
   "id": "c07cb011",
   "metadata": {},
   "outputs": [],
   "source": [
    "# # restrict data for testing\n",
    "# json_filenames_social = json_filenames_social[:8]\n",
    "# json_filenames_solo = json_filenames_solo[:32]"
   ]
  },
  {
   "cell_type": "code",
   "execution_count": 5,
   "id": "05cbba93",
   "metadata": {},
   "outputs": [
    {
     "name": "stdout",
     "output_type": "stream",
     "text": [
      "filepath: C:\\Users\\tomha\\OneDrive\\PhD\\SWC\\data\\pseudonymised_json_files\\240913_1\\2024-09-13_11-31-00_YW13_JL13_Social.json\n",
      "Data is from period before 2024-09-13 00:00:00\n",
      "Running dataframe through playerinfo_playerposition_conversion.\n",
      "Loading complete.\n",
      "Preprocessing complete.\n",
      "filepath: C:\\Users\\tomha\\OneDrive\\PhD\\SWC\\data\\pseudonymised_json_files\\240927_1\\2024-09-27_14-25-20_SH27_EN27_Social.json\n",
      "Loading complete.\n",
      "Preprocessing complete.\n",
      "filepath: C:\\Users\\tomha\\OneDrive\\PhD\\SWC\\data\\pseudonymised_json_files\\241017_1\\2024-10-17_14-28-40_SP17_AW17_Social.json\n",
      "Loading complete.\n",
      "Preprocessing complete.\n",
      "filepath: C:\\Users\\tomha\\OneDrive\\PhD\\SWC\\data\\pseudonymised_json_files\\241017_2\\2024-10-17_16-41-38_ZH17_EM17_Social.json\n",
      "Loading complete.\n",
      "Preprocessing complete.\n",
      "filepath: C:\\Users\\tomha\\OneDrive\\PhD\\SWC\\data\\pseudonymised_json_files\\241112_1\\2024-11-12_13-31-14_KA12_WM12_Social.json\n",
      "Loading complete.\n",
      "Preprocessing complete.\n",
      "filepath: C:\\Users\\tomha\\OneDrive\\PhD\\SWC\\data\\pseudonymised_json_files\\241112_2\\2024-11-12_15-23-24_FA12_SL12_Social.json\n",
      "Loading complete.\n",
      "Preprocessing complete.\n",
      "filepath: C:\\Users\\tomha\\OneDrive\\PhD\\SWC\\data\\pseudonymised_json_files\\241113_1\\2024-11-13_14-18-54_NK13_RD13_Social.json\n",
      "Loading complete.\n",
      "Preprocessing complete.\n",
      "filepath: C:\\Users\\tomha\\OneDrive\\PhD\\SWC\\data\\pseudonymised_json_files\\241113_2\\2024-11-13_15-28-07_YL13_HC13_Social.json\n",
      "Loading complete.\n",
      "Preprocessing complete.\n",
      "filepath: C:\\Users\\tomha\\OneDrive\\PhD\\SWC\\data\\pseudonymised_json_files\\241119_1\\2024-11-19_14-24-49_AV19_XG19_Social.json\n",
      "Loading complete.\n",
      "Preprocessing complete.\n",
      "filepath: C:\\Users\\tomha\\OneDrive\\PhD\\SWC\\data\\pseudonymised_json_files\\241119_2\\2024-11-19_15-22-56_SB19_HH19_Social.json\n",
      "Loading complete.\n",
      "Preprocessing complete.\n",
      "filepath: C:\\Users\\tomha\\OneDrive\\PhD\\SWC\\data\\pseudonymised_json_files\\241120_1\\2024-11-20_14-17-44_JS20_RR20_Social.json\n",
      "Loading complete.\n",
      "Preprocessing complete.\n",
      "filepath: C:\\Users\\tomha\\OneDrive\\PhD\\SWC\\data\\pseudonymised_json_files\\241120_2\\2024-11-20_15-16-21_ZS20_VC20_Social.json\n",
      "Loading complete.\n",
      "Preprocessing complete.\n",
      "filepath: C:\\Users\\tomha\\OneDrive\\PhD\\SWC\\data\\pseudonymised_json_files\\241203_1\\2024-12-03_14-31-51_PO03_NN03_Social.json\n",
      "Loading complete.\n",
      "Preprocessing complete.\n",
      "filepath: C:\\Users\\tomha\\OneDrive\\PhD\\SWC\\data\\pseudonymised_json_files\\241203_2\\2024-12-03_15-27-28_EX03_BC03_Social.json\n",
      "Loading complete.\n",
      "Preprocessing complete.\n",
      "filepath: C:\\Users\\tomha\\OneDrive\\PhD\\SWC\\data\\pseudonymised_json_files\\241210_1\\2024-12-10_14-21-17_TE10_TK10_Social.json\n",
      "Loading complete.\n",
      "Preprocessing complete.\n",
      "filepath: C:\\Users\\tomha\\OneDrive\\PhD\\SWC\\data\\pseudonymised_json_files\\241210_2\\2024-12-10_15-20-11_RK10_RU10_Social.json\n",
      "Loading complete.\n",
      "Preprocessing complete.\n",
      "filepath: C:\\Users\\tomha\\OneDrive\\PhD\\SWC\\data\\pseudonymised_json_files\\241219_1\\2024-12-19_15-28-24_JU19_SY19_Social.json\n",
      "Loading complete.\n",
      "Preprocessing complete.\n",
      "filepath: C:\\Users\\tomha\\OneDrive\\PhD\\SWC\\data\\pseudonymised_json_files\\241220_1\\2024-12-20_17-44-50_KS20_CS20_Social.json\n",
      "Loading complete.\n",
      "Preprocessing complete.\n",
      "filepath: C:\\Users\\tomha\\OneDrive\\PhD\\SWC\\data\\pseudonymised_json_files\\250115_1\\2025-01-15_15-21-27_YY15_MR15_Social.json\n",
      "Loading complete.\n",
      "Preprocessing complete.\n",
      "filepath: C:\\Users\\tomha\\OneDrive\\PhD\\SWC\\data\\pseudonymised_json_files\\250115_2\\2025-01-15_16-27-23_YL15_RR15_Social.json\n",
      "Loading complete.\n",
      "Preprocessing complete.\n",
      "filepath: C:\\Users\\tomha\\OneDrive\\PhD\\SWC\\data\\pseudonymised_json_files\\250204_2\\2025-02-04_17-11-07_DB04_GG04_Social.json\n",
      "Loading complete.\n",
      "Preprocessing complete.\n",
      "filepath: C:\\Users\\tomha\\OneDrive\\PhD\\SWC\\data\\pseudonymised_json_files\\250314_1\\2025-03-14_12-12-57_KC14_WL14_Social.json\n",
      "Loading complete.\n",
      "Preprocessing complete.\n",
      "filepath: C:\\Users\\tomha\\OneDrive\\PhD\\SWC\\data\\pseudonymised_json_files\\250314_2\\2025-03-14_13-10-49_AE14_JL14_Social.json\n",
      "Loading complete.\n",
      "Preprocessing complete.\n",
      "filepath: C:\\Users\\tomha\\OneDrive\\PhD\\SWC\\data\\pseudonymised_json_files\\250314_3\\2025-03-14_14-24-05_MA14_RM14_Social.json\n",
      "Loading complete.\n",
      "Preprocessing complete.\n",
      "filepath: C:\\Users\\tomha\\OneDrive\\PhD\\SWC\\data\\pseudonymised_json_files\\250318_1\\2025-03-18_14-22-29_SJ18_CD18_Social.json\n",
      "Loading complete.\n",
      "Preprocessing complete.\n",
      "filepath: C:\\Users\\tomha\\OneDrive\\PhD\\SWC\\data\\pseudonymised_json_files\\250318_2\\2025-03-18_16-22-17_JK18_HL18_Social.json\n",
      "Loading complete.\n",
      "Preprocessing complete.\n",
      "filepath: C:\\Users\\tomha\\OneDrive\\PhD\\SWC\\data\\pseudonymised_json_files\\250318_3\\2025-03-18_17-27-32_HM18_SC18_Social.json\n",
      "Loading complete.\n",
      "Preprocessing complete.\n",
      "filepath: C:\\Users\\tomha\\OneDrive\\PhD\\SWC\\data\\pseudonymised_json_files\\250319_1\\2025-03-19_13-29-40_HL19_AW19_Social.json\n",
      "Loading complete.\n",
      "Preprocessing complete.\n",
      "filepath: C:\\Users\\tomha\\OneDrive\\PhD\\SWC\\data\\pseudonymised_json_files\\250319_2\\2025-03-19_14-33-16_PT19_JL19_Social.json\n",
      "Loading complete.\n",
      "Preprocessing complete.\n",
      "filepath: C:\\Users\\tomha\\OneDrive\\PhD\\SWC\\data\\pseudonymised_json_files\\250401_1\\2025-04-01_14-27-01_IS01_HQ01_Social.json\n",
      "Loading complete.\n",
      "Preprocessing complete.\n",
      "filepath: C:\\Users\\tomha\\OneDrive\\PhD\\SWC\\data\\pseudonymised_json_files\\250401_2\\2025-04-01_15-29-49_AL01_NL01_Social.json\n",
      "Loading complete.\n",
      "Preprocessing complete.\n",
      "filepath: C:\\Users\\tomha\\OneDrive\\PhD\\SWC\\data\\pseudonymised_json_files\\250402_1\\2025-04-02_16-26-25_SH02_ML02_Social.json\n",
      "Loading complete.\n",
      "Preprocessing complete.\n"
     ]
    }
   ],
   "source": [
    "df, trial_lists_social = prepare_data.prepare_data(data_folder, json_filenames_social, combine=False)"
   ]
  },
  {
   "cell_type": "code",
   "execution_count": 6,
   "id": "167898aa-3073-479e-8eef-6c579c67c7f4",
   "metadata": {
    "scrolled": true
   },
   "outputs": [
    {
     "name": "stdout",
     "output_type": "stream",
     "text": [
      "filepath: C:\\Users\\tomha\\OneDrive\\PhD\\SWC\\data\\pseudonymised_json_files\\240913_1\\2024-09-13_11-23-37_YW13_FirstSolo.json\n",
      "Data is from period before 2024-09-13 00:00:00\n",
      "Running dataframe through playerinfo_playerposition_conversion.\n",
      "Loading complete.\n",
      "Preprocessing complete.\n",
      "filepath: C:\\Users\\tomha\\OneDrive\\PhD\\SWC\\data\\pseudonymised_json_files\\240913_1\\2024-09-13_11-53-34_YW13_SecondSolo.json\n",
      "Data is from period before 2024-09-13 00:00:00\n",
      "Running dataframe through playerinfo_playerposition_conversion.\n",
      "Loading complete.\n",
      "Preprocessing complete.\n",
      "filepath: C:\\Users\\tomha\\OneDrive\\PhD\\SWC\\data\\pseudonymised_json_files\\240913_1\\2024-09-13_11-23-50_JL13_FirstSolo.json\n",
      "Data is from period before 2024-09-13 00:00:00\n",
      "Running dataframe through playerinfo_playerposition_conversion.\n",
      "Loading complete.\n",
      "Preprocessing complete.\n",
      "filepath: C:\\Users\\tomha\\OneDrive\\PhD\\SWC\\data\\pseudonymised_json_files\\240913_1\\2024-09-13_11-53-56_JL13_SecondSolo.json\n",
      "Data is from period before 2024-09-13 00:00:00\n",
      "Running dataframe through playerinfo_playerposition_conversion.\n",
      "Loading complete.\n",
      "Preprocessing complete.\n",
      "filepath: C:\\Users\\tomha\\OneDrive\\PhD\\SWC\\data\\pseudonymised_json_files\\240927_1\\2024-09-27_14-14-31_SH27_FirstSolo.json\n",
      "Loading complete.\n",
      "Preprocessing complete.\n",
      "filepath: C:\\Users\\tomha\\OneDrive\\PhD\\SWC\\data\\pseudonymised_json_files\\240927_1\\2024-09-27_14-45-55_SH27_SecondSolo.json\n",
      "Loading complete.\n",
      "Preprocessing complete.\n",
      "filepath: C:\\Users\\tomha\\OneDrive\\PhD\\SWC\\data\\pseudonymised_json_files\\240927_1\\2024-09-27_14-14-42_EN27_FirstSolo.json\n",
      "Loading complete.\n",
      "Preprocessing complete.\n",
      "filepath: C:\\Users\\tomha\\OneDrive\\PhD\\SWC\\data\\pseudonymised_json_files\\240927_1\\2024-09-27_14-45-46_EN27_SecondSolo.json\n",
      "Loading complete.\n",
      "Preprocessing complete.\n",
      "filepath: C:\\Users\\tomha\\OneDrive\\PhD\\SWC\\data\\pseudonymised_json_files\\241017_1\\2024-10-17_14-20-28_SP17_FirstSolo.json\n",
      "Loading complete.\n",
      "Preprocessing complete.\n",
      "filepath: C:\\Users\\tomha\\OneDrive\\PhD\\SWC\\data\\pseudonymised_json_files\\241017_1\\2024-10-17_14-50-03_SP17_SecondSolo.json\n",
      "Loading complete.\n",
      "Preprocessing complete.\n",
      "filepath: C:\\Users\\tomha\\OneDrive\\PhD\\SWC\\data\\pseudonymised_json_files\\241017_1\\2024-10-17_14-20-50_AW17_FirstSolo.json\n",
      "Loading complete.\n",
      "Preprocessing complete.\n",
      "filepath: C:\\Users\\tomha\\OneDrive\\PhD\\SWC\\data\\pseudonymised_json_files\\241017_1\\2024-10-17_14-51-22_AW17_SecondSolo.json\n",
      "Loading complete.\n",
      "Preprocessing complete.\n",
      "filepath: C:\\Users\\tomha\\OneDrive\\PhD\\SWC\\data\\pseudonymised_json_files\\241017_2\\2024-10-17_16-36-0_ZH17_FirstSolo.json\n",
      "Loading complete.\n",
      "Preprocessing complete.\n",
      "filepath: C:\\Users\\tomha\\OneDrive\\PhD\\SWC\\data\\pseudonymised_json_files\\241017_2\\2024-10-17_17-11-46_ZH17_SecondSolo.json\n",
      "Loading complete.\n",
      "Preprocessing complete.\n",
      "filepath: C:\\Users\\tomha\\OneDrive\\PhD\\SWC\\data\\pseudonymised_json_files\\241017_2\\2024-10-17_16-35-45_EM17_FirstSolo.json\n",
      "Loading complete.\n",
      "Preprocessing complete.\n",
      "filepath: C:\\Users\\tomha\\OneDrive\\PhD\\SWC\\data\\pseudonymised_json_files\\241017_2\\2024-10-17_17-12-29_EM17_SecondSolo.json\n",
      "Loading complete.\n",
      "Preprocessing complete.\n",
      "filepath: C:\\Users\\tomha\\OneDrive\\PhD\\SWC\\data\\pseudonymised_json_files\\241112_1\\2024-11-12_13-19-22_KA12_FirstSolo.json\n",
      "Loading complete.\n",
      "Preprocessing complete.\n",
      "filepath: C:\\Users\\tomha\\OneDrive\\PhD\\SWC\\data\\pseudonymised_json_files\\241112_1\\2024-11-12_13-50-23_KA12_SecondSolo.json\n",
      "Loading complete.\n",
      "Preprocessing complete.\n",
      "filepath: C:\\Users\\tomha\\OneDrive\\PhD\\SWC\\data\\pseudonymised_json_files\\241112_1\\2024-11-12_13-18-59_WM12_FirstSolo.json\n",
      "Loading complete.\n",
      "Preprocessing complete.\n",
      "filepath: C:\\Users\\tomha\\OneDrive\\PhD\\SWC\\data\\pseudonymised_json_files\\241112_1\\2024-11-12_13-50-20_WM12_SecondSolo.json\n",
      "Loading complete.\n",
      "Preprocessing complete.\n",
      "filepath: C:\\Users\\tomha\\OneDrive\\PhD\\SWC\\data\\pseudonymised_json_files\\241112_2\\2024-11-12_15-13-34_FA12_FirstSolo.json\n",
      "Loading complete.\n",
      "Preprocessing complete.\n",
      "filepath: C:\\Users\\tomha\\OneDrive\\PhD\\SWC\\data\\pseudonymised_json_files\\241112_2\\2024-11-12_15-44-54_FA12_SecondSolo.json\n",
      "Loading complete.\n",
      "Preprocessing complete.\n",
      "filepath: C:\\Users\\tomha\\OneDrive\\PhD\\SWC\\data\\pseudonymised_json_files\\241112_2\\2024-11-12_15-11-45_SL12_FirstSolo.json\n",
      "Loading complete.\n",
      "Preprocessing complete.\n",
      "filepath: C:\\Users\\tomha\\OneDrive\\PhD\\SWC\\data\\pseudonymised_json_files\\241112_2\\2024-11-12_15-45-35_SL12_SecondSolo.json\n",
      "Loading complete.\n",
      "Preprocessing complete.\n",
      "filepath: C:\\Users\\tomha\\OneDrive\\PhD\\SWC\\data\\pseudonymised_json_files\\241113_1\\2024-11-13_14-12-43_NK13_FirstSolo.json\n",
      "Loading complete.\n",
      "Preprocessing complete.\n",
      "filepath: C:\\Users\\tomha\\OneDrive\\PhD\\SWC\\data\\pseudonymised_json_files\\241113_1\\2024-11-13_14-37-06_NK13_SecondSolo.json\n",
      "Loading complete.\n",
      "Preprocessing complete.\n",
      "filepath: C:\\Users\\tomha\\OneDrive\\PhD\\SWC\\data\\pseudonymised_json_files\\241113_1\\2024-11-13_14-12-41_RD13_FirstSolo.json\n",
      "Loading complete.\n",
      "Preprocessing complete.\n",
      "filepath: C:\\Users\\tomha\\OneDrive\\PhD\\SWC\\data\\pseudonymised_json_files\\241113_1\\2024-11-13_14-37-20_RD13_SecondSolo.json\n",
      "Loading complete.\n",
      "Preprocessing complete.\n",
      "filepath: C:\\Users\\tomha\\OneDrive\\PhD\\SWC\\data\\pseudonymised_json_files\\241113_2\\2024-11-13_15-22-20_YL13_FirstSolo.json\n",
      "Loading complete.\n",
      "Preprocessing complete.\n",
      "filepath: C:\\Users\\tomha\\OneDrive\\PhD\\SWC\\data\\pseudonymised_json_files\\241113_2\\2024-11-13_15-51-39_YL13_SecondSolo.json\n",
      "Loading complete.\n",
      "Preprocessing complete.\n",
      "filepath: C:\\Users\\tomha\\OneDrive\\PhD\\SWC\\data\\pseudonymised_json_files\\241113_2\\2024-11-13_15-21-50_HC13_FirstSolo.json\n",
      "Loading complete.\n",
      "Preprocessing complete.\n",
      "filepath: C:\\Users\\tomha\\OneDrive\\PhD\\SWC\\data\\pseudonymised_json_files\\241113_2\\2024-11-13_15-51-16_HC13_SecondSolo.json\n",
      "Loading complete.\n",
      "Preprocessing complete.\n",
      "filepath: C:\\Users\\tomha\\OneDrive\\PhD\\SWC\\data\\pseudonymised_json_files\\241119_1\\2024-11-19_14-18-18_AV19_FirstSolo.json\n",
      "Loading complete.\n",
      "Preprocessing complete.\n",
      "filepath: C:\\Users\\tomha\\OneDrive\\PhD\\SWC\\data\\pseudonymised_json_files\\241119_1\\2024-11-19_14-44-00_AV19_SecondSolo.json\n",
      "Loading complete.\n",
      "Preprocessing complete.\n",
      "filepath: C:\\Users\\tomha\\OneDrive\\PhD\\SWC\\data\\pseudonymised_json_files\\241119_1\\2024-11-19_14-18-44_XG19_FirstSolo.json\n",
      "Loading complete.\n",
      "Preprocessing complete.\n",
      "filepath: C:\\Users\\tomha\\OneDrive\\PhD\\SWC\\data\\pseudonymised_json_files\\241119_1\\2024-11-19_14-44-31_XG19_SecondSolo.json\n",
      "Loading complete.\n",
      "Preprocessing complete.\n",
      "filepath: C:\\Users\\tomha\\OneDrive\\PhD\\SWC\\data\\pseudonymised_json_files\\241119_2\\2024-11-19_15-15-53_SB19_FirstSolo.json\n",
      "Loading complete.\n",
      "Preprocessing complete.\n",
      "filepath: C:\\Users\\tomha\\OneDrive\\PhD\\SWC\\data\\pseudonymised_json_files\\241119_2\\2024-11-19_15-47-53_SB19_SecondSolo.json\n",
      "Loading complete.\n",
      "Preprocessing complete.\n",
      "filepath: C:\\Users\\tomha\\OneDrive\\PhD\\SWC\\data\\pseudonymised_json_files\\241119_2\\2024-11-19_15-14-19_HH19_FirstSolo.json\n",
      "Loading complete.\n",
      "Preprocessing complete.\n",
      "filepath: C:\\Users\\tomha\\OneDrive\\PhD\\SWC\\data\\pseudonymised_json_files\\241119_2\\2024-11-19_15-47-29_HH19_SecondSolo.json\n",
      "Loading complete.\n",
      "Preprocessing complete.\n",
      "filepath: C:\\Users\\tomha\\OneDrive\\PhD\\SWC\\data\\pseudonymised_json_files\\241120_1\\2024-11-20_14-12-06_JS20_FirstSolo.json\n",
      "Loading complete.\n",
      "Preprocessing complete.\n",
      "filepath: C:\\Users\\tomha\\OneDrive\\PhD\\SWC\\data\\pseudonymised_json_files\\241120_1\\2024-11-20_14-42-16_JS20_SecondSolo.json\n",
      "Loading complete.\n",
      "Preprocessing complete.\n",
      "filepath: C:\\Users\\tomha\\OneDrive\\PhD\\SWC\\data\\pseudonymised_json_files\\241120_1\\2024-11-20_14-12-33_RR20_FirstSolo.json\n",
      "Loading complete.\n",
      "Preprocessing complete.\n",
      "filepath: C:\\Users\\tomha\\OneDrive\\PhD\\SWC\\data\\pseudonymised_json_files\\241120_1\\2024-11-20_14-41-56_RR20_SecondSolo.json\n",
      "Loading complete.\n",
      "Preprocessing complete.\n",
      "filepath: C:\\Users\\tomha\\OneDrive\\PhD\\SWC\\data\\pseudonymised_json_files\\241120_2\\2024-11-20_15-10-00_ZS20_FirstSolo.json\n",
      "Loading complete.\n",
      "Preprocessing complete.\n",
      "filepath: C:\\Users\\tomha\\OneDrive\\PhD\\SWC\\data\\pseudonymised_json_files\\241120_2\\2024-11-20_15-40-08_ZS20_SecondSolo.json\n",
      "Loading complete.\n",
      "Preprocessing complete.\n",
      "filepath: C:\\Users\\tomha\\OneDrive\\PhD\\SWC\\data\\pseudonymised_json_files\\241120_2\\2024-11-20_15-10-17_VC20_FirstSolo.json\n",
      "Loading complete.\n",
      "Preprocessing complete.\n",
      "filepath: C:\\Users\\tomha\\OneDrive\\PhD\\SWC\\data\\pseudonymised_json_files\\241120_2\\2024-11-20_15-39-49_VC20_SecondSolo.json\n",
      "Loading complete.\n",
      "Preprocessing complete.\n",
      "filepath: C:\\Users\\tomha\\OneDrive\\PhD\\SWC\\data\\pseudonymised_json_files\\241203_1\\2024-12-03_14-20-13_PO03_FirstSolo.json\n",
      "Loading complete.\n",
      "Preprocessing complete.\n",
      "filepath: C:\\Users\\tomha\\OneDrive\\PhD\\SWC\\data\\pseudonymised_json_files\\241203_1\\2024-12-03_14-52-05_PO03_SecondSolo.json\n",
      "Loading complete.\n",
      "Preprocessing complete.\n",
      "filepath: C:\\Users\\tomha\\OneDrive\\PhD\\SWC\\data\\pseudonymised_json_files\\241203_1\\2024-12-03_14-19-21_NN03_FirstSolo.json\n",
      "Loading complete.\n",
      "Preprocessing complete.\n",
      "filepath: C:\\Users\\tomha\\OneDrive\\PhD\\SWC\\data\\pseudonymised_json_files\\241203_1\\2024-12-03_14-52-30_NN03_SecondSolo.json\n",
      "Loading complete.\n",
      "Preprocessing complete.\n",
      "filepath: C:\\Users\\tomha\\OneDrive\\PhD\\SWC\\data\\pseudonymised_json_files\\241203_2\\2024-12-03_15-19-51_EX03_FirstSolo.json\n",
      "Loading complete.\n",
      "Preprocessing complete.\n",
      "filepath: C:\\Users\\tomha\\OneDrive\\PhD\\SWC\\data\\pseudonymised_json_files\\241203_2\\2024-12-03_15-53-11_EX03_SecondSolo.json\n",
      "Loading complete.\n",
      "Preprocessing complete.\n",
      "filepath: C:\\Users\\tomha\\OneDrive\\PhD\\SWC\\data\\pseudonymised_json_files\\241203_2\\2024-12-03_15-20-09_BC03_FirstSolo.json\n",
      "Loading complete.\n",
      "Preprocessing complete.\n",
      "filepath: C:\\Users\\tomha\\OneDrive\\PhD\\SWC\\data\\pseudonymised_json_files\\241203_2\\2024-12-03_15-52-57_BC03_SecondSolo.json\n",
      "Loading complete.\n",
      "Preprocessing complete.\n",
      "filepath: C:\\Users\\tomha\\OneDrive\\PhD\\SWC\\data\\pseudonymised_json_files\\241210_1\\2024-12-10_14-13-47_TE10_FirstSolo.json\n",
      "Loading complete.\n",
      "Preprocessing complete.\n",
      "filepath: C:\\Users\\tomha\\OneDrive\\PhD\\SWC\\data\\pseudonymised_json_files\\241210_1\\2024-12-10_14-45-41_TE10_SecondSolo.json\n",
      "Loading complete.\n",
      "Preprocessing complete.\n",
      "filepath: C:\\Users\\tomha\\OneDrive\\PhD\\SWC\\data\\pseudonymised_json_files\\241210_1\\2024-12-10_14-12-58_TK10_FirstSolo.json\n",
      "Loading complete.\n",
      "Preprocessing complete.\n",
      "filepath: C:\\Users\\tomha\\OneDrive\\PhD\\SWC\\data\\pseudonymised_json_files\\241210_1\\2024-12-10_14-45-09_TK10_SecondSolo.json\n",
      "Loading complete.\n",
      "Preprocessing complete.\n",
      "filepath: C:\\Users\\tomha\\OneDrive\\PhD\\SWC\\data\\pseudonymised_json_files\\241210_2\\2024-12-10_15-12-18_RK10_FirstSolo.json\n",
      "Loading complete.\n",
      "Preprocessing complete.\n",
      "filepath: C:\\Users\\tomha\\OneDrive\\PhD\\SWC\\data\\pseudonymised_json_files\\241210_2\\2024-12-10_15-42-27_RK10_SecondSolo.json\n",
      "Loading complete.\n",
      "Preprocessing complete.\n",
      "filepath: C:\\Users\\tomha\\OneDrive\\PhD\\SWC\\data\\pseudonymised_json_files\\241210_2\\2024-12-10_15-11-46_RU10_FirstSolo.json\n",
      "Loading complete.\n",
      "Preprocessing complete.\n",
      "filepath: C:\\Users\\tomha\\OneDrive\\PhD\\SWC\\data\\pseudonymised_json_files\\241210_2\\2024-12-10_15-41-53_RU10_SecondSolo.json\n",
      "Loading complete.\n",
      "Preprocessing complete.\n",
      "filepath: C:\\Users\\tomha\\OneDrive\\PhD\\SWC\\data\\pseudonymised_json_files\\241219_1\\2024-12-19_15-20-18_JU19_FirstSolo.json\n",
      "Loading complete.\n",
      "Preprocessing complete.\n",
      "filepath: C:\\Users\\tomha\\OneDrive\\PhD\\SWC\\data\\pseudonymised_json_files\\241219_1\\2024-12-19_15-51-58_JU19_SecondSolo.json\n",
      "Loading complete.\n",
      "Preprocessing complete.\n",
      "filepath: C:\\Users\\tomha\\OneDrive\\PhD\\SWC\\data\\pseudonymised_json_files\\241219_1\\2024-12-19_15-22-13_SY19_FirstSolo.json\n",
      "Loading complete.\n",
      "Preprocessing complete.\n",
      "filepath: C:\\Users\\tomha\\OneDrive\\PhD\\SWC\\data\\pseudonymised_json_files\\241219_1\\2024-12-19_15-51-33_SY19_SecondSolo.json\n",
      "Loading complete.\n",
      "Preprocessing complete.\n",
      "filepath: C:\\Users\\tomha\\OneDrive\\PhD\\SWC\\data\\pseudonymised_json_files\\241220_1\\2024-12-20_17-36-27_KS20_FirstSolo.json\n",
      "Loading complete.\n",
      "Preprocessing complete.\n",
      "filepath: C:\\Users\\tomha\\OneDrive\\PhD\\SWC\\data\\pseudonymised_json_files\\241220_1\\2024-12-20_18-06-10_KS20_SecondSolo.json\n",
      "Loading complete.\n",
      "Preprocessing complete.\n",
      "filepath: C:\\Users\\tomha\\OneDrive\\PhD\\SWC\\data\\pseudonymised_json_files\\241220_1\\2024-12-20_17-36-54_CS20_FirstSolo.json\n",
      "Loading complete.\n",
      "Preprocessing complete.\n",
      "filepath: C:\\Users\\tomha\\OneDrive\\PhD\\SWC\\data\\pseudonymised_json_files\\241220_1\\2024-12-20_18-06-44_CS20_SecondSolo.json\n",
      "Loading complete.\n",
      "Preprocessing complete.\n",
      "filepath: C:\\Users\\tomha\\OneDrive\\PhD\\SWC\\data\\pseudonymised_json_files\\250115_1\\2025-01-15_15-12-13_YY15_FirstSolo.json\n",
      "Loading complete.\n",
      "Preprocessing complete.\n",
      "filepath: C:\\Users\\tomha\\OneDrive\\PhD\\SWC\\data\\pseudonymised_json_files\\250115_1\\2025-01-15_15-47-11_YY15_SecondSolo.json\n",
      "Loading complete.\n",
      "Preprocessing complete.\n",
      "filepath: C:\\Users\\tomha\\OneDrive\\PhD\\SWC\\data\\pseudonymised_json_files\\250115_1\\2025-01-15_15-12-39_MR15_FirstSolo.json\n",
      "Loading complete.\n",
      "Preprocessing complete.\n",
      "filepath: C:\\Users\\tomha\\OneDrive\\PhD\\SWC\\data\\pseudonymised_json_files\\250115_1\\2025-01-15_15-46-04_MR15_SecondSolo.json\n",
      "Loading complete.\n",
      "Preprocessing complete.\n",
      "filepath: C:\\Users\\tomha\\OneDrive\\PhD\\SWC\\data\\pseudonymised_json_files\\250115_2\\2025-01-15_16-14-40_YL15_FirstSolo.json\n",
      "Loading complete.\n",
      "Preprocessing complete.\n",
      "filepath: C:\\Users\\tomha\\OneDrive\\PhD\\SWC\\data\\pseudonymised_json_files\\250115_2\\2025-01-15_16-50-13_YL15_SecondSolo.json\n",
      "Loading complete.\n",
      "Preprocessing complete.\n",
      "filepath: C:\\Users\\tomha\\OneDrive\\PhD\\SWC\\data\\pseudonymised_json_files\\250115_2\\2025-01-15_16-14-58_RR15_FirstSolo.json\n",
      "Loading complete.\n",
      "Preprocessing complete.\n",
      "filepath: C:\\Users\\tomha\\OneDrive\\PhD\\SWC\\data\\pseudonymised_json_files\\250115_2\\2025-01-15_16-50-37_RR15_SecondSolo.json\n",
      "Loading complete.\n",
      "Preprocessing complete.\n",
      "filepath: C:\\Users\\tomha\\OneDrive\\PhD\\SWC\\data\\pseudonymised_json_files\\250204_2\\2025-02-04_16-58-53_DB04_FirstSolo.json\n",
      "Loading complete.\n",
      "Preprocessing complete.\n",
      "filepath: C:\\Users\\tomha\\OneDrive\\PhD\\SWC\\data\\pseudonymised_json_files\\250204_2\\2025-02-04_17-32-55_DB04_SecondSolo.json\n",
      "Loading complete.\n",
      "Preprocessing complete.\n",
      "filepath: C:\\Users\\tomha\\OneDrive\\PhD\\SWC\\data\\pseudonymised_json_files\\250204_2\\2025-02-04_16-58-37_GG04_FirstSolo.json\n",
      "Loading complete.\n",
      "Preprocessing complete.\n",
      "filepath: C:\\Users\\tomha\\OneDrive\\PhD\\SWC\\data\\pseudonymised_json_files\\250204_2\\2025-02-04_17-33-22_GG04_SecondSolo.json\n",
      "Loading complete.\n",
      "Preprocessing complete.\n",
      "filepath: C:\\Users\\tomha\\OneDrive\\PhD\\SWC\\data\\pseudonymised_json_files\\250314_1\\2025-03-14_12-03-08_KC14_FirstSolo.json\n",
      "Loading complete.\n",
      "Preprocessing complete.\n",
      "filepath: C:\\Users\\tomha\\OneDrive\\PhD\\SWC\\data\\pseudonymised_json_files\\250314_1\\2025-03-14_12-36-26_KC14_SecondSolo.json\n",
      "Loading complete.\n",
      "Preprocessing complete.\n",
      "filepath: C:\\Users\\tomha\\OneDrive\\PhD\\SWC\\data\\pseudonymised_json_files\\250314_1\\2025-03-14_12-03-22_WL14_FirstSolo.json\n",
      "Loading complete.\n",
      "Preprocessing complete.\n",
      "filepath: C:\\Users\\tomha\\OneDrive\\PhD\\SWC\\data\\pseudonymised_json_files\\250314_1\\2025-03-14_12-35-54_WL14_SecondSolo.json\n",
      "Loading complete.\n",
      "Preprocessing complete.\n",
      "filepath: C:\\Users\\tomha\\OneDrive\\PhD\\SWC\\data\\pseudonymised_json_files\\250314_2\\2025-03-14_12-59-24_AE14_FirstSolo.json\n",
      "Loading complete.\n",
      "Preprocessing complete.\n",
      "filepath: C:\\Users\\tomha\\OneDrive\\PhD\\SWC\\data\\pseudonymised_json_files\\250314_2\\2025-03-14_13-32-14_AE14_SecondSolo.json\n",
      "Loading complete.\n",
      "Preprocessing complete.\n",
      "filepath: C:\\Users\\tomha\\OneDrive\\PhD\\SWC\\data\\pseudonymised_json_files\\250314_2\\2025-03-14_12-59-36_JL14_FirstSolo.json\n",
      "Loading complete.\n",
      "Preprocessing complete.\n",
      "filepath: C:\\Users\\tomha\\OneDrive\\PhD\\SWC\\data\\pseudonymised_json_files\\250314_2\\2025-03-14_13-32-33_JL14_SecondSolo.json\n",
      "Loading complete.\n",
      "Preprocessing complete.\n",
      "filepath: C:\\Users\\tomha\\OneDrive\\PhD\\SWC\\data\\pseudonymised_json_files\\250314_3\\2025-03-14_14-12-29_MA14_FirstSolo.json\n",
      "Loading complete.\n",
      "Preprocessing complete.\n",
      "filepath: C:\\Users\\tomha\\OneDrive\\PhD\\SWC\\data\\pseudonymised_json_files\\250314_3\\2025-03-14_14-46-57_MA14_SecondSolo.json\n",
      "Loading complete.\n",
      "Preprocessing complete.\n",
      "filepath: C:\\Users\\tomha\\OneDrive\\PhD\\SWC\\data\\pseudonymised_json_files\\250314_3\\2025-03-14_14-12-49_RM14_FirstSolo.json\n",
      "Loading complete.\n",
      "Preprocessing complete.\n",
      "filepath: C:\\Users\\tomha\\OneDrive\\PhD\\SWC\\data\\pseudonymised_json_files\\250314_3\\2025-03-14_14-46-27_RM14_SecondSolo.json\n",
      "Loading complete.\n",
      "Preprocessing complete.\n",
      "filepath: C:\\Users\\tomha\\OneDrive\\PhD\\SWC\\data\\pseudonymised_json_files\\250318_1\\2025-03-18_14-09-51_SJ18_FirstSolo.json\n",
      "Loading complete.\n",
      "Preprocessing complete.\n",
      "filepath: C:\\Users\\tomha\\OneDrive\\PhD\\SWC\\data\\pseudonymised_json_files\\250318_1\\2025-03-18_14-44-19_SJ18_SecondSolo.json\n",
      "Loading complete.\n",
      "Preprocessing complete.\n",
      "filepath: C:\\Users\\tomha\\OneDrive\\PhD\\SWC\\data\\pseudonymised_json_files\\250318_1\\2025-03-18_14-10-34_CD18_FirstSolo.json\n",
      "Loading complete.\n",
      "Preprocessing complete.\n",
      "filepath: C:\\Users\\tomha\\OneDrive\\PhD\\SWC\\data\\pseudonymised_json_files\\250318_1\\2025-03-18_14-44-40_CD18_SecondSolo.json\n",
      "Loading complete.\n",
      "Preprocessing complete.\n",
      "filepath: C:\\Users\\tomha\\OneDrive\\PhD\\SWC\\data\\pseudonymised_json_files\\250318_2\\2025-03-18_16-10-59_JK18_FirstSolo.json\n",
      "Loading complete.\n",
      "Preprocessing complete.\n",
      "filepath: C:\\Users\\tomha\\OneDrive\\PhD\\SWC\\data\\pseudonymised_json_files\\250318_2\\2025-03-18_16-44-49_JK18_SecondSolo.json\n",
      "Loading complete.\n",
      "Preprocessing complete.\n",
      "filepath: C:\\Users\\tomha\\OneDrive\\PhD\\SWC\\data\\pseudonymised_json_files\\250318_2\\2025-03-18_16-11-11_HL18_FirstSolo.json\n",
      "Loading complete.\n",
      "Preprocessing complete.\n",
      "filepath: C:\\Users\\tomha\\OneDrive\\PhD\\SWC\\data\\pseudonymised_json_files\\250318_2\\2025-03-18_16-45-29_HL18_SecondSolo.json\n",
      "Loading complete.\n",
      "Preprocessing complete.\n",
      "filepath: C:\\Users\\tomha\\OneDrive\\PhD\\SWC\\data\\pseudonymised_json_files\\250318_3\\2025-03-18_17-15-58_HM18_FirstSolo.json\n",
      "Loading complete.\n",
      "Preprocessing complete.\n",
      "filepath: C:\\Users\\tomha\\OneDrive\\PhD\\SWC\\data\\pseudonymised_json_files\\250318_3\\2025-03-18_17-48-42_HM18_SecondSolo.json\n",
      "Loading complete.\n",
      "Preprocessing complete.\n",
      "filepath: C:\\Users\\tomha\\OneDrive\\PhD\\SWC\\data\\pseudonymised_json_files\\250318_3\\2025-03-18_17-16-10_SC18_FirstSolo.json\n",
      "Loading complete.\n",
      "Preprocessing complete.\n",
      "filepath: C:\\Users\\tomha\\OneDrive\\PhD\\SWC\\data\\pseudonymised_json_files\\250318_3\\2025-03-18_17-49-19_SC18_SecondSolo.json\n",
      "Loading complete.\n",
      "Preprocessing complete.\n",
      "filepath: C:\\Users\\tomha\\OneDrive\\PhD\\SWC\\data\\pseudonymised_json_files\\250319_1\\2025-03-19_13-17-55_HL19_FirstSolo.json\n",
      "Loading complete.\n",
      "Preprocessing complete.\n",
      "filepath: C:\\Users\\tomha\\OneDrive\\PhD\\SWC\\data\\pseudonymised_json_files\\250319_1\\2025-03-19_13-51-16_HL19_SecondSolo.json\n",
      "Loading complete.\n",
      "Preprocessing complete.\n",
      "filepath: C:\\Users\\tomha\\OneDrive\\PhD\\SWC\\data\\pseudonymised_json_files\\250319_1\\2025-03-19_13-17-46_AW19_FirstSolo.json\n",
      "Loading complete.\n",
      "Preprocessing complete.\n",
      "filepath: C:\\Users\\tomha\\OneDrive\\PhD\\SWC\\data\\pseudonymised_json_files\\250319_1\\2025-03-19_13-51-26_AW19_SecondSolo.json\n",
      "Loading complete.\n",
      "Preprocessing complete.\n",
      "filepath: C:\\Users\\tomha\\OneDrive\\PhD\\SWC\\data\\pseudonymised_json_files\\250319_2\\2025-03-19_14-22-02_PT19_FirstSolo.json\n",
      "Loading complete.\n",
      "Preprocessing complete.\n",
      "filepath: C:\\Users\\tomha\\OneDrive\\PhD\\SWC\\data\\pseudonymised_json_files\\250319_2\\2025-03-19_14-54-33_PT19_SecondSolo.json\n",
      "Loading complete.\n",
      "Preprocessing complete.\n",
      "filepath: C:\\Users\\tomha\\OneDrive\\PhD\\SWC\\data\\pseudonymised_json_files\\250319_2\\2025-03-19_14-22-13_JL19_FirstSolo.json\n",
      "Loading complete.\n",
      "Preprocessing complete.\n",
      "filepath: C:\\Users\\tomha\\OneDrive\\PhD\\SWC\\data\\pseudonymised_json_files\\250319_2\\2025-03-19_14-55-00_JL19_SecondSolo.json\n",
      "Loading complete.\n",
      "Preprocessing complete.\n",
      "filepath: C:\\Users\\tomha\\OneDrive\\PhD\\SWC\\data\\pseudonymised_json_files\\250401_1\\2025-04-01_14-15-29_IS01_FirstSolo.json\n",
      "Loading complete.\n",
      "Preprocessing complete.\n",
      "filepath: C:\\Users\\tomha\\OneDrive\\PhD\\SWC\\data\\pseudonymised_json_files\\250401_1\\2025-04-01_14-48-25_IS01_SecondSolo.json\n",
      "Loading complete.\n",
      "Preprocessing complete.\n",
      "filepath: C:\\Users\\tomha\\OneDrive\\PhD\\SWC\\data\\pseudonymised_json_files\\250401_1\\2025-04-01_14-15-24_HQ01_FirstSolo.json\n",
      "Loading complete.\n",
      "Preprocessing complete.\n",
      "filepath: C:\\Users\\tomha\\OneDrive\\PhD\\SWC\\data\\pseudonymised_json_files\\250401_1\\2025-04-01_14-48-51_HQ01_SecondSolo.json\n",
      "Loading complete.\n",
      "Preprocessing complete.\n",
      "filepath: C:\\Users\\tomha\\OneDrive\\PhD\\SWC\\data\\pseudonymised_json_files\\250401_2\\2025-04-01_15-17-03_AL01_FirstSolo.json\n",
      "Loading complete.\n",
      "Preprocessing complete.\n",
      "filepath: C:\\Users\\tomha\\OneDrive\\PhD\\SWC\\data\\pseudonymised_json_files\\250401_2\\2025-04-01_15-52-21_AL01_SecondSolo.json\n",
      "Loading complete.\n",
      "Preprocessing complete.\n",
      "filepath: C:\\Users\\tomha\\OneDrive\\PhD\\SWC\\data\\pseudonymised_json_files\\250401_2\\2025-04-01_15-17-26_NL01_FirstSolo.json\n",
      "Loading complete.\n",
      "Preprocessing complete.\n",
      "filepath: C:\\Users\\tomha\\OneDrive\\PhD\\SWC\\data\\pseudonymised_json_files\\250401_2\\2025-04-01_15-52-54_NL01_SecondSolo.json\n",
      "Loading complete.\n",
      "Preprocessing complete.\n",
      "filepath: C:\\Users\\tomha\\OneDrive\\PhD\\SWC\\data\\pseudonymised_json_files\\250402_1\\2025-04-02_16-13-59_SH02_FirstSolo.json\n",
      "Loading complete.\n",
      "Preprocessing complete.\n",
      "filepath: C:\\Users\\tomha\\OneDrive\\PhD\\SWC\\data\\pseudonymised_json_files\\250402_1\\2025-04-02_16-48-31_SH02_SecondSolo.json\n",
      "Loading complete.\n",
      "Preprocessing complete.\n",
      "filepath: C:\\Users\\tomha\\OneDrive\\PhD\\SWC\\data\\pseudonymised_json_files\\250402_1\\2025-04-02_16-14-13_ML02_FirstSolo.json\n",
      "Loading complete.\n",
      "Preprocessing complete.\n",
      "filepath: C:\\Users\\tomha\\OneDrive\\PhD\\SWC\\data\\pseudonymised_json_files\\250402_1\\2025-04-02_16-48-09_ML02_SecondSolo.json\n",
      "Loading complete.\n",
      "Preprocessing complete.\n"
     ]
    }
   ],
   "source": [
    "df, trial_lists_solo = prepare_data.prepare_data(data_folder, json_filenames_solo, combine=False)"
   ]
  },
  {
   "cell_type": "code",
   "execution_count": 7,
   "id": "b0a8edd3",
   "metadata": {},
   "outputs": [],
   "source": [
    "# create a list of combined pre- and post- social solo sessions, removing 5 trials from each pre\n",
    "trial_lists_combined_solo = []\n",
    "cut_trials = 5\n",
    "for i in range(0,len(trial_lists_solo), 2): # iterate over each individual\n",
    "    # get the trial lists for both solo sessions\n",
    "    trial_list_first_solo = trial_lists_solo[i]\n",
    "    trial_list_second_solo = trial_lists_solo[i + 1]\n",
    "\n",
    "    # cut first cut_trials trials (learning controls/associations) from the first solo\n",
    "    trial_list_first_solo = trial_list_first_solo[cut_trials:]\n",
    "\n",
    "    # combine trial lists from the first and second solo sessions (the current and consecutive index)\n",
    "    trial_list = trial_list_first_solo + trial_list_second_solo\n",
    "\n",
    "    trial_lists_combined_solo.append(trial_list)\n"
   ]
  },
  {
   "cell_type": "code",
   "execution_count": 8,
   "id": "4890fa3e",
   "metadata": {},
   "outputs": [
    {
     "data": {
      "text/plain": [
       "(64, 32)"
      ]
     },
     "execution_count": 8,
     "metadata": {},
     "output_type": "execute_result"
    }
   ],
   "source": [
    "len(trial_lists_combined_solo), len(trial_lists_social)"
   ]
  },
  {
   "cell_type": "markdown",
   "id": "f46092b8",
   "metadata": {},
   "source": [
    "### Regressor value extraction functions (for one session)"
   ]
  },
  {
   "cell_type": "code",
   "execution_count": 31,
   "id": "78024b02",
   "metadata": {},
   "outputs": [],
   "source": [
    "def extract_wall_sep(trial_list):\n",
    "    ''' Return wall separation for one session '''\n",
    "    \n",
    "    wall_sep = np.full(len(trial_list), np.nan)\n",
    "    for i, trial in enumerate(trial_list):\n",
    "        wall_sep_this_trial = get_indices.get_wall_difference(trial=trial)\n",
    "        wall_sep[i] = wall_sep_this_trial\n",
    "\n",
    "    return wall_sep\n",
    "\n",
    "\n",
    "def extract_first_wall_seen(trial_list, player_id):\n",
    "    ''' Return first visible walls for one player across one session.\n",
    "        1 for WALL_1, 2 for WALL_2, np.nan for no visible wall (or both initially visible) '''\n",
    "        \n",
    "    high_wall_first_visible_session = wall_visibility_and_choice.get_given_wall_first_visible_session(trial_list,\n",
    "                                                                                                        player_id,\n",
    "                                                                                                        wall_index=0,\n",
    "                                                                                                        current_fov=110)\n",
    "\n",
    "    low_wall_first_visible_session = wall_visibility_and_choice.get_given_wall_first_visible_session(trial_list,\n",
    "                                                                                                        player_id, \n",
    "                                                                                                        wall_index=1,\n",
    "                                                                                                        current_fov=110)\n",
    "    low_wall_first_visible_session = low_wall_first_visible_session*2\n",
    "    \n",
    "    first_visible_session = high_wall_first_visible_session + low_wall_first_visible_session\n",
    "\n",
    "    first_visible_session[first_visible_session == 0] = np.nan\n",
    "\n",
    "    return first_visible_session\n",
    "\n",
    "# double check code\n",
    "def extract_distances_to_walls(trial_list, player_id):\n",
    "    ''' Return a trial_num, 2 sized array, where column 1\n",
    "        is distance to WALL_1, and column 2 is distance to WALL_2.\n",
    "        Data applies to one full session, and specified player_id'''\n",
    "    \n",
    "    # get octagon alcove coordinates\n",
    "    alcove_coordinates = plot_octagon.return_alcove_centre_points()\n",
    "\n",
    "    positions_session = np.full((len(trial_list), 2), np.nan)\n",
    "    walls_session = np.full((len(trial_list), 2), np.nan)\n",
    "    distances_session = np.full((len(trial_list), 2), np.nan)\n",
    "\n",
    "    # get distances for each trial in the session\n",
    "    for i, trial in enumerate(trial_list):\n",
    "        # get WALL_1 and WALL_2 coordinates\n",
    "        trial_walls = get_indices.get_walls(trial)\n",
    "        high_wall_idx = trial_walls[0] - 1\n",
    "        low_wall_idx = trial_walls[1] - 1\n",
    "        trial_high_coordinates = alcove_coordinates[:,high_wall_idx]\n",
    "        trial_low_coordinates = alcove_coordinates[:, low_wall_idx]\n",
    "\n",
    "        # index trajectory at timepoint 0 to get player starting coordinates\n",
    "        trajectory = trajectory_vectors.extract_trial_player_trajectory(trial=trial, player_id=player_id)\n",
    "        trial_start_position = trajectory[:,0]\n",
    "\n",
    "        # find distance between start position and WALL_1/WALL_2\n",
    "        d2h = np.linalg.norm(trial_high_coordinates - trial_start_position) # WALL_1\n",
    "        d2l = np.linalg.norm(trial_low_coordinates - trial_start_position) # WALL_2\n",
    "\n",
    "        walls_session[i,:] = trial_walls \n",
    "        positions_session[i,:] = trial_start_position\n",
    "        distances_session[i,:] = np.hstack((d2h, d2l))\n",
    "\n",
    "    return distances_session\n",
    "\n",
    "\n",
    "def extract_opponent_visibility_slice_onset(trial_list, player_id, current_fov=110):\n",
    "    ''' Return opponent visibility at slice onset for one player for one session '''\n",
    "    \n",
    "    # slice onset angle of Other from self centre FoV\n",
    "    orientation_angle_to_other_session = opponent_visibility.get_angle_of_opponent_from_player_session(player_id, trial_list)\n",
    "\n",
    "    # boolean array of Other visible\n",
    "    other_visible_session = opponent_visibility.get_other_visible_session(orientation_angle_to_other_session, current_fov)\n",
    "    other_visible_session = other_visible_session.astype(int) # converted to int for categorical regressor\n",
    "\n",
    "    # does this return 1 and 0? \n",
    "\n",
    "    return other_visible_session\n",
    "\n",
    "\n",
    "def extract_player_choice(trial_list, player_id, inferred_choice=True):\n",
    "    ''' Return (inferred by default) player choice for one player for one session.\n",
    "        Where inferred and actual choice are both missing, values are np.nan '''\n",
    "\n",
    "    # array of wall numbers where player choice is available, np.nan where it is not\n",
    "    player_choice = wall_visibility_and_choice.get_player_wall_choice(trial_list, player_id,\n",
    "                                                                        inferred_choice=inferred_choice, debug=True)\n",
    "\n",
    "    # 2 where player chose High, 0 where player chose Low, np.nan where lacking inferred choice\n",
    "    high_wall_chosen_session = get_indices.was_given_wall_chosen(trial_list, player_choice,\n",
    "                                                                    given_wall_index=0)\n",
    "    high_wall_chosen_session = high_wall_chosen_session*2\n",
    "    print(high_wall_chosen_session)\n",
    "\n",
    "    # 1 where player chose Low, 0 where player chose High, np.nan where lacking inferred choice\n",
    "    low_wall_chosen_session  = get_indices.was_given_wall_chosen(trial_list, player_choice,\n",
    "                                                                    given_wall_index=1)\n",
    "    \n",
    "    print(low_wall_chosen_session)\n",
    "\n",
    "    # 1 or 2 where player chose Low or High respectively, np.nan where lacking inferred choice\n",
    "    chosen_wall_session = high_wall_chosen_session + low_wall_chosen_session\n",
    "\n",
    "    print(chosen_wall_session)\n",
    "\n",
    "    # Does this switch to 0 or 1 respectively and np.nan? \n",
    "    chosen_wall_session = chosen_wall_session -1 \n",
    "\n",
    "    return chosen_wall_session\n",
    "\n",
    "\n",
    "def extract_trial_outcome(trial_list, player_id):\n",
    "    ''' Return whether this player won the trial for one player for one session '''\n",
    "    \n",
    "    trigger_activators = get_indices.get_trigger_activators(trial_list)\n",
    "    this_player_won_session = (trigger_activators-1)*-1 if player_id == 0 else trigger_activators\n",
    "\n",
    "    return this_player_won_session"
   ]
  },
  {
   "cell_type": "code",
   "execution_count": 71,
   "id": "04b43689",
   "metadata": {},
   "outputs": [
    {
     "name": "stdout",
     "output_type": "stream",
     "text": [
      "Time taken for infer_loser_choice_session (one session) is 0.58\n",
      "Loser inferred choices: [6. 1. 2. 6. 8. 2. 7. 3. 6. 5. 1. 6. 1. 4. 8. 2. 7. 7. 4. 4. 2. 8. 3. 8.\n",
      " 2. 5. 1. 4. 7. 6. 4. 8. 7. 2. 1. 3. 5. 1. 3. 5. 4. 3. 8. 2. 8. 1. 4. 6.\n",
      " 8. 4. 4. 1. 7. 5. 7. 8. 2. 5. 3. 8. 5. 3. 7. 1. 8. 4. 1. 7. 6. 3. 3. 1.\n",
      " 7. 1. 2. 1. 2. 1. 4. 2. 5. 5. 3. 7. 4. 2. 4. 6. 6. 3. 8. 7. 7. 1. 4. 6.\n",
      " 5. 2. 5. 4. 4. 6. 4. 4. 4. 8. 2. 5. 8. 5. 1. 6. 1. 8. 5. 6. 1. 8. 8. 8.\n",
      " 3. 6. 1. 5. 5. 2. 1. 2. 5. 3. 7. 7. 1. 8. 1. 8. 8. 8. 8. 8. 6. 1. 1. 6.\n",
      " 2. 3. 7. 5. 1. 5. 8. 2. 7. 8. 6. 2. 4. 8. 8. 2. 2. 1. 3. 7. 2. 1. 6. 6.\n",
      " 1. 7. 1. 3. 2. 5. 6. 3.]\n",
      "proportion loser's choice confident = 0.5965909090909091\n",
      "Time taken for player_wall_choice_win_or_loss (one session for one player) is 0.66\n",
      "Chosen walls are [5. 1. 3. 8. 3. 2. 7. 3. 6. 8. 5. 6. 1. 7. 2. 2. 2. 7. 4. 3. 2. 8. 4. 8.\n",
      " 2. 4. 2. 8. 6. 5. 4. 1. 8. 6. 4. 4. 8. 4. 3. 5. 4. 4. 6. 4. 8. 8. 5. 6.\n",
      " 8. 4. 8. 5. 3. 6. 7. 4. 2. 6. 8. 4. 5. 7. 3. 3. 4. 3. 1. 8. 1. 3. 3. 8.\n",
      " 2. 8. 6. 1. 6. 5. 4. 8. 6. 3. 3. 3. 8. 4. 7. 6. 4. 3. 7. 3. 3. 1. 1. 4.\n",
      " 1. 2. 6. 8. 5. 8. 4. 3. 2. 4. 1. 5. 4. 4. 1. 6. 5. 3. 5. 5. 5. 1. 8. 7.\n",
      " 3. 6. 1. 6. 7. 2. 5. 6. 5. 3. 3. 3. 5. 4. 5. 4. 4. 6. 2. 7. 6. 5. 7. 3.\n",
      " 5. 3. 1. 6. 1. 1. 2. 4. 7. 8. 6. 4. 4. 8. 3. 2. 4. 2. 3. 8. 6. 1. 7. 8.\n",
      " 1. 7. 2. 7. 1. 4. 5. 4.]\n",
      "Walls for the session are: [[5. 6.]\n",
      " [1. 8.]\n",
      " [3. 7.]\n",
      " [6. 8.]\n",
      " [3. 7.]\n",
      " [2. 1.]\n",
      " [7. 6.]\n",
      " [3. 4.]\n",
      " [6. 7.]\n",
      " [8. 7.]\n",
      " [1. 5.]\n",
      " [7. 6.]\n",
      " [1. 3.]\n",
      " [5. 7.]\n",
      " [1. 2.]\n",
      " [6. 2.]\n",
      " [2. 3.]\n",
      " [7. 6.]\n",
      " [8. 4.]\n",
      " [5. 3.]\n",
      " [2. 3.]\n",
      " [8. 4.]\n",
      " [4. 8.]\n",
      " [8. 7.]\n",
      " [3. 2.]\n",
      " [4. 5.]\n",
      " [1. 2.]\n",
      " [8. 4.]\n",
      " [2. 6.]\n",
      " [5. 6.]\n",
      " [8. 4.]\n",
      " [3. 1.]\n",
      " [8. 7.]\n",
      " [2. 6.]\n",
      " [2. 4.]\n",
      " [2. 4.]\n",
      " [8. 4.]\n",
      " [4. 5.]\n",
      " [7. 3.]\n",
      " [5. 1.]\n",
      " [4. 8.]\n",
      " [4. 3.]\n",
      " [6. 7.]\n",
      " [2. 4.]\n",
      " [8. 1.]\n",
      " [8. 4.]\n",
      " [4. 5.]\n",
      " [6. 7.]\n",
      " [7. 8.]\n",
      " [6. 4.]\n",
      " [8. 4.]\n",
      " [6. 5.]\n",
      " [3. 7.]\n",
      " [5. 6.]\n",
      " [7. 3.]\n",
      " [8. 4.]\n",
      " [4. 2.]\n",
      " [6. 5.]\n",
      " [8. 6.]\n",
      " [4. 8.]\n",
      " [5. 7.]\n",
      " [7. 6.]\n",
      " [3. 7.]\n",
      " [1. 3.]\n",
      " [4. 8.]\n",
      " [3. 5.]\n",
      " [1. 2.]\n",
      " [8. 7.]\n",
      " [7. 1.]\n",
      " [7. 3.]\n",
      " [3. 4.]\n",
      " [8. 1.]\n",
      " [2. 6.]\n",
      " [8. 7.]\n",
      " [6. 2.]\n",
      " [1. 3.]\n",
      " [6. 2.]\n",
      " [5. 1.]\n",
      " [2. 4.]\n",
      " [8. 2.]\n",
      " [6. 5.]\n",
      " [5. 3.]\n",
      " [1. 3.]\n",
      " [3. 7.]\n",
      " [4. 8.]\n",
      " [2. 4.]\n",
      " [1. 7.]\n",
      " [2. 6.]\n",
      " [6. 4.]\n",
      " [7. 3.]\n",
      " [7. 1.]\n",
      " [7. 3.]\n",
      " [3. 7.]\n",
      " [1. 7.]\n",
      " [1. 3.]\n",
      " [6. 4.]\n",
      " [1. 5.]\n",
      " [8. 2.]\n",
      " [6. 7.]\n",
      " [4. 8.]\n",
      " [5. 3.]\n",
      " [8. 6.]\n",
      " [4. 2.]\n",
      " [3. 4.]\n",
      " [4. 2.]\n",
      " [8. 4.]\n",
      " [1. 2.]\n",
      " [1. 5.]\n",
      " [8. 4.]\n",
      " [4. 3.]\n",
      " [1. 5.]\n",
      " [6. 2.]\n",
      " [1. 5.]\n",
      " [3. 7.]\n",
      " [5. 6.]\n",
      " [3. 5.]\n",
      " [5. 1.]\n",
      " [1. 8.]\n",
      " [8. 4.]\n",
      " [7. 8.]\n",
      " [3. 7.]\n",
      " [6. 8.]\n",
      " [1. 5.]\n",
      " [6. 4.]\n",
      " [7. 6.]\n",
      " [2. 3.]\n",
      " [1. 5.]\n",
      " [2. 6.]\n",
      " [5. 6.]\n",
      " [3. 1.]\n",
      " [7. 3.]\n",
      " [7. 3.]\n",
      " [5. 1.]\n",
      " [4. 8.]\n",
      " [1. 5.]\n",
      " [4. 5.]\n",
      " [4. 8.]\n",
      " [8. 6.]\n",
      " [2. 8.]\n",
      " [7. 1.]\n",
      " [6. 5.]\n",
      " [5. 4.]\n",
      " [7. 1.]\n",
      " [3. 7.]\n",
      " [5. 3.]\n",
      " [2. 3.]\n",
      " [7. 1.]\n",
      " [6. 5.]\n",
      " [1. 5.]\n",
      " [1. 7.]\n",
      " [8. 2.]\n",
      " [3. 4.]\n",
      " [7. 8.]\n",
      " [8. 1.]\n",
      " [6. 7.]\n",
      " [4. 5.]\n",
      " [4. 5.]\n",
      " [8. 7.]\n",
      " [3. 7.]\n",
      " [2. 6.]\n",
      " [4. 5.]\n",
      " [2. 8.]\n",
      " [3. 7.]\n",
      " [8. 7.]\n",
      " [6. 2.]\n",
      " [2. 1.]\n",
      " [7. 8.]\n",
      " [8. 6.]\n",
      " [1. 3.]\n",
      " [7. 1.]\n",
      " [1. 2.]\n",
      " [3. 7.]\n",
      " [1. 7.]\n",
      " [4. 5.]\n",
      " [7. 5.]\n",
      " [4. 3.]]\n",
      "include loser's inferred choice status: True\n",
      "player wall choices for this player: [ 6.  1. nan  8.  3.  2.  7.  3.  6. nan  1.  6.  1. nan nan  2. nan nan\n",
      "  4. nan  2.  8. nan nan  2.  4.  1.  4. nan nan  4. nan  8.  6. nan nan\n",
      "  8. nan  3.  5.  4. nan nan nan  8.  8.  5.  6.  8.  4.  4. nan nan  6.\n",
      "  7.  4.  2.  6. nan  8.  5. nan  3.  3.  8. nan  1.  7.  1.  3.  3.  1.\n",
      " nan nan  2. nan  6.  5.  4.  2.  6. nan  3.  7.  8.  4. nan  6. nan  3.\n",
      " nan nan  7.  1. nan  6.  5.  2. nan  4. nan nan  4.  4.  4. nan nan nan\n",
      "  4. nan nan  6.  5. nan  5. nan  5.  1.  8. nan  3. nan  1. nan nan  2.\n",
      "  5.  2.  5.  3.  3.  3. nan  4.  5.  4.  4.  8.  8.  7.  6. nan  7. nan\n",
      " nan  3.  1.  6.  1. nan  2. nan  7.  8.  6. nan  4.  8. nan  2. nan nan\n",
      "  3.  7.  2. nan nan  8.  1.  7.  1. nan  1. nan nan  3.]\n",
      "[ 0.  2. nan  0.  2.  2.  2.  2.  2. nan  2.  0.  2. nan nan  0. nan nan\n",
      "  0. nan  2.  2. nan nan  0.  2.  2.  0. nan nan  0. nan  2.  0. nan nan\n",
      "  2. nan  0.  2.  2. nan nan nan  2.  2.  0.  2.  0.  0.  0. nan nan  0.\n",
      "  2.  0.  0.  2. nan  0.  2. nan  2.  0.  0. nan  2.  0.  0.  0.  2.  0.\n",
      " nan nan  0. nan  2.  2.  0.  0.  2. nan  0.  0.  0.  0. nan  0. nan  0.\n",
      " nan nan  0.  2. nan  2.  0.  0. nan  2. nan nan  2.  0.  2. nan nan nan\n",
      "  0. nan nan  2.  0. nan  2. nan  2.  2.  2. nan  2. nan  2. nan nan  2.\n",
      "  0.  2.  2.  2.  0.  0. nan  2.  0.  2.  2.  2.  0.  2.  2. nan  2. nan\n",
      " nan  0.  0.  2.  2. nan  0. nan  2.  2.  2. nan  2.  2. nan  2. nan nan\n",
      "  2.  0.  0. nan nan  2.  2.  2.  2. nan  2. nan nan  0.]\n",
      "[ 1.  0. nan  1.  0.  0.  0.  0.  0. nan  0.  1.  0. nan nan  1. nan nan\n",
      "  1. nan  0.  0. nan nan  1.  0.  0.  1. nan nan  1. nan  0.  1. nan nan\n",
      "  0. nan  1.  0.  0. nan nan nan  0.  0.  1.  0.  1.  1.  1. nan nan  1.\n",
      "  0.  1.  1.  0. nan  1.  0. nan  0.  1.  1. nan  0.  1.  1.  1.  0.  1.\n",
      " nan nan  1. nan  0.  0.  1.  1.  0. nan  1.  1.  1.  1. nan  1. nan  1.\n",
      " nan nan  1.  0. nan  0.  1.  1. nan  0. nan nan  0.  1.  0. nan nan nan\n",
      "  1. nan nan  0.  1. nan  0. nan  0.  0.  0. nan  0. nan  0. nan nan  0.\n",
      "  1.  0.  0.  0.  1.  1. nan  0.  1.  0.  0.  0.  1.  0.  0. nan  0. nan\n",
      " nan  1.  1.  0.  0. nan  1. nan  0.  0.  0. nan  0.  0. nan  0. nan nan\n",
      "  0.  1.  1. nan nan  0.  0.  0.  0. nan  0. nan nan  1.]\n",
      "[ 1.  2. nan  1.  2.  2.  2.  2.  2. nan  2.  1.  2. nan nan  1. nan nan\n",
      "  1. nan  2.  2. nan nan  1.  2.  2.  1. nan nan  1. nan  2.  1. nan nan\n",
      "  2. nan  1.  2.  2. nan nan nan  2.  2.  1.  2.  1.  1.  1. nan nan  1.\n",
      "  2.  1.  1.  2. nan  1.  2. nan  2.  1.  1. nan  2.  1.  1.  1.  2.  1.\n",
      " nan nan  1. nan  2.  2.  1.  1.  2. nan  1.  1.  1.  1. nan  1. nan  1.\n",
      " nan nan  1.  2. nan  2.  1.  1. nan  2. nan nan  2.  1.  2. nan nan nan\n",
      "  1. nan nan  2.  1. nan  2. nan  2.  2.  2. nan  2. nan  2. nan nan  2.\n",
      "  1.  2.  2.  2.  1.  1. nan  2.  1.  2.  2.  2.  1.  2.  2. nan  2. nan\n",
      " nan  1.  1.  2.  2. nan  1. nan  2.  2.  2. nan  2.  2. nan  2. nan nan\n",
      "  2.  1.  1. nan nan  2.  2.  2.  2. nan  2. nan nan  1.]\n"
     ]
    }
   ],
   "source": [
    "test = extract_player_choice(trial_lists_social[3], 0)"
   ]
  },
  {
   "cell_type": "code",
   "execution_count": 72,
   "id": "5121af9b",
   "metadata": {},
   "outputs": [
    {
     "data": {
      "text/plain": [
       "np.float64(0.6534090909090909)"
      ]
     },
     "execution_count": 72,
     "metadata": {},
     "output_type": "execute_result"
    }
   ],
   "source": [
    "np.sum(~np.isnan(test))/test.size"
   ]
  },
  {
   "cell_type": "markdown",
   "id": "53652f8c",
   "metadata": {},
   "source": [
    "#### Filtering function"
   ]
  },
  {
   "cell_type": "code",
   "execution_count": 10,
   "id": "211a5d94",
   "metadata": {},
   "outputs": [],
   "source": [
    "def filter_valid_trial_indices(trial_list, player_id, solo=False):\n",
    "    ''' Return the indices of a filtered trial list that correspond to trials in which there is a \n",
    "        retrievable choice and an identifiable first seen wall.'''\n",
    "\n",
    "    # identify indices of trial list with HighLow trials\n",
    "    high_low_trial_indices = get_indices.get_trials_trialtype(trial_list, trial_type=globals.HIGH_LOW)\n",
    "\n",
    "    print(f\"{high_low_trial_indices.size} high_low_trial_indices for player_id {player_id}\")\n",
    "\n",
    "\n",
    "    # get choice and first visible wall data for one player, session\n",
    "    if not solo:\n",
    "        player_choice_session = extract_player_choice(trial_list, player_id)\n",
    "    else:\n",
    "        player_choice_session = extract_player_choice(trial_list, player_id, inferred_choice=False)\n",
    "    \n",
    "    first_wall_seen_session = extract_first_wall_seen(trial_list, player_id)\n",
    "\n",
    "    # apply masks for one visible wall and a retrievable choice to the set of HighLow trials\n",
    "    retrievable_choice_mask = ~np.isnan(player_choice_session[high_low_trial_indices])\n",
    "\n",
    "    print(f\"{np.sum(retrievable_choice_mask)} retrievable choices for player_id {player_id}\")\n",
    "\n",
    "    one_wall_first_visible_mask = ~np.isnan(first_wall_seen_session[high_low_trial_indices])\n",
    "\n",
    "    print(f\"{np.sum(one_wall_first_visible_mask)} first visible walls for player_id {player_id}\")\n",
    "\n",
    "\n",
    "    # combine masks\n",
    "    final_mask = retrievable_choice_mask & one_wall_first_visible_mask\n",
    "\n",
    "    # filter the trial list indices based on masks\n",
    "    filtered_indices = high_low_trial_indices[final_mask]\n",
    "\n",
    "    assert filtered_indices.size > 0\n",
    "    \n",
    "    print(f\"{filtered_indices.size} filtered trials for player_id {player_id}\")\n",
    "    \n",
    "    return filtered_indices"
   ]
  },
  {
   "cell_type": "markdown",
   "id": "28d1d09b",
   "metadata": {},
   "source": [
    "### Create a dictionary to hold, for each session and player, regressor values for the session, only including trials with fully-populated regessors\n",
    "- Fields for each of the regressors applied to all trials\n",
    "- Fields for each of the regressors with only valid trials\n"
   ]
  },
  {
   "cell_type": "code",
   "execution_count": 11,
   "id": "f1d70320",
   "metadata": {},
   "outputs": [],
   "source": [
    "solo = False\n",
    "player_ids = [0] if solo else [0,1]\n"
   ]
  },
  {
   "cell_type": "code",
   "execution_count": 12,
   "id": "725c0ae9",
   "metadata": {},
   "outputs": [],
   "source": [
    "analysis_results = {\n",
    "    experiment_id: {\n",
    "        player_id: {\n",
    "            session_type: {\n",
    "\n",
    "                'regressors': {\n",
    "                    'wall_sep': None,\n",
    "                    'first_seen': None,\n",
    "                    'd2h': None,\n",
    "                    'd2l': None,\n",
    "                    'opponent_visible': None,\n",
    "                },\n",
    "\n",
    "                'dependent': {\n",
    "                    'choice': None\n",
    "                }\n",
    "                \n",
    "            }\n",
    "            for session_type in ['solo', 'social']\n",
    "        }   \n",
    "        for player_id in player_ids\n",
    "    }\n",
    "    for experiment_id in np.arange(len(trial_lists_social))\n",
    "}"
   ]
  },
  {
   "cell_type": "markdown",
   "id": "a932ecf8",
   "metadata": {},
   "source": [
    "### Populate the dictionary with data"
   ]
  },
  {
   "cell_type": "code",
   "execution_count": 13,
   "id": "8c173632",
   "metadata": {},
   "outputs": [
    {
     "name": "stdout",
     "output_type": "stream",
     "text": [
      "Trial list social length for experimentId 0 and playerId 0: 129\n",
      "102 high_low_trial_indices for player_id 0\n",
      "82 retrievable choices for player_id 0\n",
      "82 first visible walls for player_id 0\n",
      "66 filtered trials for player_id 0\n",
      "52 high_low_trial_indices for player_id 0\n",
      "52 retrievable choices for player_id 0\n",
      "38 first visible walls for player_id 0\n",
      "38 filtered trials for player_id 0\n",
      "Trial list social length for experimentId 0 and playerId 1: 129\n",
      "102 high_low_trial_indices for player_id 1\n",
      "96 retrievable choices for player_id 1\n",
      "84 first visible walls for player_id 1\n",
      "78 filtered trials for player_id 1\n",
      "51 high_low_trial_indices for player_id 0\n",
      "51 retrievable choices for player_id 0\n",
      "44 first visible walls for player_id 0\n",
      "44 filtered trials for player_id 0\n",
      "Trial list social length for experimentId 1 and playerId 0: 104\n",
      "79 high_low_trial_indices for player_id 0\n"
     ]
    },
    {
     "name": "stderr",
     "output_type": "stream",
     "text": [
      "c:\\users\\tomha\\repos\\octagon_analysis\\trajectory_analysis\\trajectory_vectors.py:321: RuntimeWarning: invalid value encountered in scalar divide\n",
      "  cosine_similarity_this_wall = dot_product[wall_num]/(player_to_alcove_vector_norms[wall_num] * player_vector_norm)\n",
      "c:\\users\\tomha\\repos\\octagon_analysis\\analysis\\loser_inferred_choice.py:47: RuntimeWarning: Mean of empty slice\n",
      "  return np.argmax(np.nanmean(cosine_similarity_trajectory, axis=1))\n",
      "c:\\users\\tomha\\repos\\octagon_analysis\\analysis\\loser_inferred_choice.py:149: RuntimeWarning: Mean of empty slice\n",
      "  highest_alignment_val = np.max(np.nanmean(cosine_similarity_trajectory, axis=1))\n"
     ]
    },
    {
     "name": "stdout",
     "output_type": "stream",
     "text": [
      "48 retrievable choices for player_id 0\n",
      "50 first visible walls for player_id 0\n",
      "30 filtered trials for player_id 0\n",
      "52 high_low_trial_indices for player_id 0\n",
      "52 retrievable choices for player_id 0\n",
      "45 first visible walls for player_id 0\n",
      "45 filtered trials for player_id 0\n"
     ]
    },
    {
     "name": "stderr",
     "output_type": "stream",
     "text": [
      "c:\\users\\tomha\\repos\\octagon_analysis\\trajectory_analysis\\trajectory_vectors.py:321: RuntimeWarning: invalid value encountered in scalar divide\n",
      "  cosine_similarity_this_wall = dot_product[wall_num]/(player_to_alcove_vector_norms[wall_num] * player_vector_norm)\n"
     ]
    },
    {
     "name": "stdout",
     "output_type": "stream",
     "text": [
      "Trial list social length for experimentId 1 and playerId 1: 104\n",
      "79 high_low_trial_indices for player_id 1\n"
     ]
    },
    {
     "name": "stderr",
     "output_type": "stream",
     "text": [
      "c:\\users\\tomha\\repos\\octagon_analysis\\analysis\\loser_inferred_choice.py:47: RuntimeWarning: Mean of empty slice\n",
      "  return np.argmax(np.nanmean(cosine_similarity_trajectory, axis=1))\n",
      "c:\\users\\tomha\\repos\\octagon_analysis\\analysis\\loser_inferred_choice.py:149: RuntimeWarning: Mean of empty slice\n",
      "  highest_alignment_val = np.max(np.nanmean(cosine_similarity_trajectory, axis=1))\n"
     ]
    },
    {
     "name": "stdout",
     "output_type": "stream",
     "text": [
      "79 retrievable choices for player_id 1\n",
      "59 first visible walls for player_id 1\n",
      "59 filtered trials for player_id 1\n",
      "50 high_low_trial_indices for player_id 0\n",
      "50 retrievable choices for player_id 0\n",
      "45 first visible walls for player_id 0\n",
      "45 filtered trials for player_id 0\n"
     ]
    },
    {
     "name": "stderr",
     "output_type": "stream",
     "text": [
      "c:\\users\\tomha\\repos\\octagon_analysis\\trajectory_analysis\\trajectory_vectors.py:321: RuntimeWarning: invalid value encountered in scalar divide\n",
      "  cosine_similarity_this_wall = dot_product[wall_num]/(player_to_alcove_vector_norms[wall_num] * player_vector_norm)\n",
      "c:\\users\\tomha\\repos\\octagon_analysis\\analysis\\loser_inferred_choice.py:47: RuntimeWarning: Mean of empty slice\n",
      "  return np.argmax(np.nanmean(cosine_similarity_trajectory, axis=1))\n",
      "c:\\users\\tomha\\repos\\octagon_analysis\\analysis\\loser_inferred_choice.py:149: RuntimeWarning: Mean of empty slice\n",
      "  highest_alignment_val = np.max(np.nanmean(cosine_similarity_trajectory, axis=1))\n"
     ]
    },
    {
     "name": "stdout",
     "output_type": "stream",
     "text": [
      "Trial list social length for experimentId 2 and playerId 0: 111\n",
      "93 high_low_trial_indices for player_id 0\n",
      "75 retrievable choices for player_id 0\n",
      "66 first visible walls for player_id 0\n",
      "51 filtered trials for player_id 0\n",
      "39 high_low_trial_indices for player_id 0\n",
      "39 retrievable choices for player_id 0\n",
      "31 first visible walls for player_id 0\n",
      "31 filtered trials for player_id 0\n"
     ]
    },
    {
     "name": "stderr",
     "output_type": "stream",
     "text": [
      "c:\\users\\tomha\\repos\\octagon_analysis\\trajectory_analysis\\trajectory_vectors.py:321: RuntimeWarning: invalid value encountered in scalar divide\n",
      "  cosine_similarity_this_wall = dot_product[wall_num]/(player_to_alcove_vector_norms[wall_num] * player_vector_norm)\n",
      "c:\\users\\tomha\\repos\\octagon_analysis\\analysis\\loser_inferred_choice.py:47: RuntimeWarning: Mean of empty slice\n",
      "  return np.argmax(np.nanmean(cosine_similarity_trajectory, axis=1))\n",
      "c:\\users\\tomha\\repos\\octagon_analysis\\analysis\\loser_inferred_choice.py:149: RuntimeWarning: Mean of empty slice\n",
      "  highest_alignment_val = np.max(np.nanmean(cosine_similarity_trajectory, axis=1))\n"
     ]
    },
    {
     "name": "stdout",
     "output_type": "stream",
     "text": [
      "Trial list social length for experimentId 2 and playerId 1: 111\n",
      "93 high_low_trial_indices for player_id 1\n",
      "80 retrievable choices for player_id 1\n",
      "69 first visible walls for player_id 1\n",
      "61 filtered trials for player_id 1\n",
      "50 high_low_trial_indices for player_id 0\n",
      "50 retrievable choices for player_id 0\n",
      "39 first visible walls for player_id 0\n",
      "39 filtered trials for player_id 0\n"
     ]
    },
    {
     "name": "stderr",
     "output_type": "stream",
     "text": [
      "c:\\users\\tomha\\repos\\octagon_analysis\\trajectory_analysis\\trajectory_vectors.py:321: RuntimeWarning: invalid value encountered in scalar divide\n",
      "  cosine_similarity_this_wall = dot_product[wall_num]/(player_to_alcove_vector_norms[wall_num] * player_vector_norm)\n",
      "c:\\users\\tomha\\repos\\octagon_analysis\\analysis\\loser_inferred_choice.py:47: RuntimeWarning: Mean of empty slice\n",
      "  return np.argmax(np.nanmean(cosine_similarity_trajectory, axis=1))\n",
      "c:\\users\\tomha\\repos\\octagon_analysis\\analysis\\loser_inferred_choice.py:149: RuntimeWarning: Mean of empty slice\n",
      "  highest_alignment_val = np.max(np.nanmean(cosine_similarity_trajectory, axis=1))\n"
     ]
    },
    {
     "name": "stdout",
     "output_type": "stream",
     "text": [
      "Trial list social length for experimentId 3 and playerId 0: 176\n",
      "136 high_low_trial_indices for player_id 0\n",
      "101 retrievable choices for player_id 0\n",
      "118 first visible walls for player_id 0\n",
      "89 filtered trials for player_id 0\n",
      "56 high_low_trial_indices for player_id 0\n",
      "56 retrievable choices for player_id 0\n",
      "46 first visible walls for player_id 0\n",
      "46 filtered trials for player_id 0\n"
     ]
    },
    {
     "name": "stderr",
     "output_type": "stream",
     "text": [
      "c:\\users\\tomha\\repos\\octagon_analysis\\trajectory_analysis\\trajectory_vectors.py:321: RuntimeWarning: invalid value encountered in scalar divide\n",
      "  cosine_similarity_this_wall = dot_product[wall_num]/(player_to_alcove_vector_norms[wall_num] * player_vector_norm)\n",
      "c:\\users\\tomha\\repos\\octagon_analysis\\analysis\\loser_inferred_choice.py:47: RuntimeWarning: Mean of empty slice\n",
      "  return np.argmax(np.nanmean(cosine_similarity_trajectory, axis=1))\n",
      "c:\\users\\tomha\\repos\\octagon_analysis\\analysis\\loser_inferred_choice.py:149: RuntimeWarning: Mean of empty slice\n",
      "  highest_alignment_val = np.max(np.nanmean(cosine_similarity_trajectory, axis=1))\n"
     ]
    },
    {
     "name": "stdout",
     "output_type": "stream",
     "text": [
      "Trial list social length for experimentId 3 and playerId 1: 176\n",
      "136 high_low_trial_indices for player_id 1\n",
      "130 retrievable choices for player_id 1\n",
      "115 first visible walls for player_id 1\n",
      "109 filtered trials for player_id 1\n",
      "67 high_low_trial_indices for player_id 0\n",
      "67 retrievable choices for player_id 0\n",
      "51 first visible walls for player_id 0\n",
      "51 filtered trials for player_id 0\n"
     ]
    },
    {
     "name": "stderr",
     "output_type": "stream",
     "text": [
      "c:\\users\\tomha\\repos\\octagon_analysis\\trajectory_analysis\\trajectory_vectors.py:321: RuntimeWarning: invalid value encountered in scalar divide\n",
      "  cosine_similarity_this_wall = dot_product[wall_num]/(player_to_alcove_vector_norms[wall_num] * player_vector_norm)\n"
     ]
    },
    {
     "name": "stdout",
     "output_type": "stream",
     "text": [
      "Trial list social length for experimentId 4 and playerId 0: 101\n",
      "77 high_low_trial_indices for player_id 0\n"
     ]
    },
    {
     "name": "stderr",
     "output_type": "stream",
     "text": [
      "c:\\users\\tomha\\repos\\octagon_analysis\\analysis\\loser_inferred_choice.py:47: RuntimeWarning: Mean of empty slice\n",
      "  return np.argmax(np.nanmean(cosine_similarity_trajectory, axis=1))\n",
      "c:\\users\\tomha\\repos\\octagon_analysis\\analysis\\loser_inferred_choice.py:149: RuntimeWarning: Mean of empty slice\n",
      "  highest_alignment_val = np.max(np.nanmean(cosine_similarity_trajectory, axis=1))\n"
     ]
    },
    {
     "name": "stdout",
     "output_type": "stream",
     "text": [
      "50 retrievable choices for player_id 0\n",
      "36 first visible walls for player_id 0\n",
      "23 filtered trials for player_id 0\n",
      "56 high_low_trial_indices for player_id 0\n",
      "56 retrievable choices for player_id 0\n",
      "29 first visible walls for player_id 0\n",
      "29 filtered trials for player_id 0\n"
     ]
    },
    {
     "name": "stderr",
     "output_type": "stream",
     "text": [
      "c:\\users\\tomha\\repos\\octagon_analysis\\trajectory_analysis\\trajectory_vectors.py:321: RuntimeWarning: invalid value encountered in scalar divide\n",
      "  cosine_similarity_this_wall = dot_product[wall_num]/(player_to_alcove_vector_norms[wall_num] * player_vector_norm)\n",
      "c:\\users\\tomha\\repos\\octagon_analysis\\analysis\\loser_inferred_choice.py:47: RuntimeWarning: Mean of empty slice\n",
      "  return np.argmax(np.nanmean(cosine_similarity_trajectory, axis=1))\n",
      "c:\\users\\tomha\\repos\\octagon_analysis\\analysis\\loser_inferred_choice.py:149: RuntimeWarning: Mean of empty slice\n",
      "  highest_alignment_val = np.max(np.nanmean(cosine_similarity_trajectory, axis=1))\n"
     ]
    },
    {
     "name": "stdout",
     "output_type": "stream",
     "text": [
      "Trial list social length for experimentId 4 and playerId 1: 101\n",
      "77 high_low_trial_indices for player_id 1\n",
      "63 retrievable choices for player_id 1\n",
      "58 first visible walls for player_id 1\n",
      "47 filtered trials for player_id 1\n",
      "51 high_low_trial_indices for player_id 0\n",
      "51 retrievable choices for player_id 0\n",
      "39 first visible walls for player_id 0\n",
      "39 filtered trials for player_id 0\n"
     ]
    },
    {
     "name": "stderr",
     "output_type": "stream",
     "text": [
      "c:\\users\\tomha\\repos\\octagon_analysis\\trajectory_analysis\\trajectory_vectors.py:321: RuntimeWarning: invalid value encountered in scalar divide\n",
      "  cosine_similarity_this_wall = dot_product[wall_num]/(player_to_alcove_vector_norms[wall_num] * player_vector_norm)\n",
      "c:\\users\\tomha\\repos\\octagon_analysis\\analysis\\loser_inferred_choice.py:47: RuntimeWarning: Mean of empty slice\n",
      "  return np.argmax(np.nanmean(cosine_similarity_trajectory, axis=1))\n",
      "c:\\users\\tomha\\repos\\octagon_analysis\\analysis\\loser_inferred_choice.py:149: RuntimeWarning: Mean of empty slice\n",
      "  highest_alignment_val = np.max(np.nanmean(cosine_similarity_trajectory, axis=1))\n"
     ]
    },
    {
     "name": "stdout",
     "output_type": "stream",
     "text": [
      "Trial list social length for experimentId 5 and playerId 0: 122\n",
      "93 high_low_trial_indices for player_id 0\n",
      "90 retrievable choices for player_id 0\n",
      "71 first visible walls for player_id 0\n",
      "69 filtered trials for player_id 0\n",
      "77 high_low_trial_indices for player_id 0\n",
      "77 retrievable choices for player_id 0\n",
      "58 first visible walls for player_id 0\n",
      "58 filtered trials for player_id 0\n"
     ]
    },
    {
     "name": "stderr",
     "output_type": "stream",
     "text": [
      "c:\\users\\tomha\\repos\\octagon_analysis\\trajectory_analysis\\trajectory_vectors.py:321: RuntimeWarning: invalid value encountered in scalar divide\n",
      "  cosine_similarity_this_wall = dot_product[wall_num]/(player_to_alcove_vector_norms[wall_num] * player_vector_norm)\n",
      "c:\\users\\tomha\\repos\\octagon_analysis\\analysis\\loser_inferred_choice.py:47: RuntimeWarning: Mean of empty slice\n",
      "  return np.argmax(np.nanmean(cosine_similarity_trajectory, axis=1))\n",
      "c:\\users\\tomha\\repos\\octagon_analysis\\analysis\\loser_inferred_choice.py:149: RuntimeWarning: Mean of empty slice\n",
      "  highest_alignment_val = np.max(np.nanmean(cosine_similarity_trajectory, axis=1))\n"
     ]
    },
    {
     "name": "stdout",
     "output_type": "stream",
     "text": [
      "Trial list social length for experimentId 5 and playerId 1: 122\n",
      "93 high_low_trial_indices for player_id 1\n",
      "75 retrievable choices for player_id 1\n",
      "64 first visible walls for player_id 1\n",
      "54 filtered trials for player_id 1\n",
      "76 high_low_trial_indices for player_id 0\n",
      "76 retrievable choices for player_id 0\n",
      "54 first visible walls for player_id 0\n",
      "54 filtered trials for player_id 0\n"
     ]
    },
    {
     "name": "stderr",
     "output_type": "stream",
     "text": [
      "c:\\users\\tomha\\repos\\octagon_analysis\\trajectory_analysis\\trajectory_vectors.py:321: RuntimeWarning: invalid value encountered in scalar divide\n",
      "  cosine_similarity_this_wall = dot_product[wall_num]/(player_to_alcove_vector_norms[wall_num] * player_vector_norm)\n",
      "c:\\users\\tomha\\repos\\octagon_analysis\\analysis\\loser_inferred_choice.py:47: RuntimeWarning: Mean of empty slice\n",
      "  return np.argmax(np.nanmean(cosine_similarity_trajectory, axis=1))\n",
      "c:\\users\\tomha\\repos\\octagon_analysis\\analysis\\loser_inferred_choice.py:149: RuntimeWarning: Mean of empty slice\n",
      "  highest_alignment_val = np.max(np.nanmean(cosine_similarity_trajectory, axis=1))\n"
     ]
    },
    {
     "name": "stdout",
     "output_type": "stream",
     "text": [
      "Trial list social length for experimentId 6 and playerId 0: 114\n",
      "93 high_low_trial_indices for player_id 0\n",
      "87 retrievable choices for player_id 0\n",
      "82 first visible walls for player_id 0\n",
      "76 filtered trials for player_id 0\n",
      "39 high_low_trial_indices for player_id 0\n",
      "39 retrievable choices for player_id 0\n",
      "27 first visible walls for player_id 0\n",
      "27 filtered trials for player_id 0\n"
     ]
    },
    {
     "name": "stderr",
     "output_type": "stream",
     "text": [
      "c:\\users\\tomha\\repos\\octagon_analysis\\trajectory_analysis\\trajectory_vectors.py:321: RuntimeWarning: invalid value encountered in scalar divide\n",
      "  cosine_similarity_this_wall = dot_product[wall_num]/(player_to_alcove_vector_norms[wall_num] * player_vector_norm)\n",
      "c:\\users\\tomha\\repos\\octagon_analysis\\analysis\\loser_inferred_choice.py:47: RuntimeWarning: Mean of empty slice\n",
      "  return np.argmax(np.nanmean(cosine_similarity_trajectory, axis=1))\n",
      "c:\\users\\tomha\\repos\\octagon_analysis\\analysis\\loser_inferred_choice.py:149: RuntimeWarning: Mean of empty slice\n",
      "  highest_alignment_val = np.max(np.nanmean(cosine_similarity_trajectory, axis=1))\n"
     ]
    },
    {
     "name": "stdout",
     "output_type": "stream",
     "text": [
      "Trial list social length for experimentId 6 and playerId 1: 114\n",
      "93 high_low_trial_indices for player_id 1\n",
      "92 retrievable choices for player_id 1\n",
      "76 first visible walls for player_id 1\n",
      "75 filtered trials for player_id 1\n",
      "46 high_low_trial_indices for player_id 0\n",
      "46 retrievable choices for player_id 0\n",
      "39 first visible walls for player_id 0\n",
      "39 filtered trials for player_id 0\n"
     ]
    },
    {
     "name": "stderr",
     "output_type": "stream",
     "text": [
      "c:\\users\\tomha\\repos\\octagon_analysis\\trajectory_analysis\\trajectory_vectors.py:321: RuntimeWarning: invalid value encountered in scalar divide\n",
      "  cosine_similarity_this_wall = dot_product[wall_num]/(player_to_alcove_vector_norms[wall_num] * player_vector_norm)\n",
      "c:\\users\\tomha\\repos\\octagon_analysis\\analysis\\loser_inferred_choice.py:47: RuntimeWarning: Mean of empty slice\n",
      "  return np.argmax(np.nanmean(cosine_similarity_trajectory, axis=1))\n",
      "c:\\users\\tomha\\repos\\octagon_analysis\\analysis\\loser_inferred_choice.py:149: RuntimeWarning: Mean of empty slice\n",
      "  highest_alignment_val = np.max(np.nanmean(cosine_similarity_trajectory, axis=1))\n"
     ]
    },
    {
     "name": "stdout",
     "output_type": "stream",
     "text": [
      "Trial list social length for experimentId 7 and playerId 0: 134\n",
      "109 high_low_trial_indices for player_id 0\n",
      "84 retrievable choices for player_id 0\n",
      "81 first visible walls for player_id 0\n",
      "60 filtered trials for player_id 0\n",
      "41 high_low_trial_indices for player_id 0\n",
      "41 retrievable choices for player_id 0\n",
      "23 first visible walls for player_id 0\n",
      "23 filtered trials for player_id 0\n"
     ]
    },
    {
     "name": "stderr",
     "output_type": "stream",
     "text": [
      "c:\\users\\tomha\\repos\\octagon_analysis\\trajectory_analysis\\trajectory_vectors.py:321: RuntimeWarning: invalid value encountered in scalar divide\n",
      "  cosine_similarity_this_wall = dot_product[wall_num]/(player_to_alcove_vector_norms[wall_num] * player_vector_norm)\n"
     ]
    },
    {
     "name": "stdout",
     "output_type": "stream",
     "text": [
      "Trial list social length for experimentId 7 and playerId 1: 134\n",
      "109 high_low_trial_indices for player_id 1\n"
     ]
    },
    {
     "name": "stderr",
     "output_type": "stream",
     "text": [
      "c:\\users\\tomha\\repos\\octagon_analysis\\analysis\\loser_inferred_choice.py:47: RuntimeWarning: Mean of empty slice\n",
      "  return np.argmax(np.nanmean(cosine_similarity_trajectory, axis=1))\n",
      "c:\\users\\tomha\\repos\\octagon_analysis\\analysis\\loser_inferred_choice.py:149: RuntimeWarning: Mean of empty slice\n",
      "  highest_alignment_val = np.max(np.nanmean(cosine_similarity_trajectory, axis=1))\n"
     ]
    },
    {
     "name": "stdout",
     "output_type": "stream",
     "text": [
      "103 retrievable choices for player_id 1\n",
      "86 first visible walls for player_id 1\n",
      "81 filtered trials for player_id 1\n",
      "42 high_low_trial_indices for player_id 0\n",
      "42 retrievable choices for player_id 0\n",
      "28 first visible walls for player_id 0\n",
      "28 filtered trials for player_id 0\n"
     ]
    },
    {
     "name": "stderr",
     "output_type": "stream",
     "text": [
      "c:\\users\\tomha\\repos\\octagon_analysis\\trajectory_analysis\\trajectory_vectors.py:321: RuntimeWarning: invalid value encountered in scalar divide\n",
      "  cosine_similarity_this_wall = dot_product[wall_num]/(player_to_alcove_vector_norms[wall_num] * player_vector_norm)\n",
      "c:\\users\\tomha\\repos\\octagon_analysis\\analysis\\loser_inferred_choice.py:47: RuntimeWarning: Mean of empty slice\n",
      "  return np.argmax(np.nanmean(cosine_similarity_trajectory, axis=1))\n",
      "c:\\users\\tomha\\repos\\octagon_analysis\\analysis\\loser_inferred_choice.py:149: RuntimeWarning: Mean of empty slice\n",
      "  highest_alignment_val = np.max(np.nanmean(cosine_similarity_trajectory, axis=1))\n"
     ]
    },
    {
     "name": "stdout",
     "output_type": "stream",
     "text": [
      "Trial list social length for experimentId 8 and playerId 0: 115\n",
      "93 high_low_trial_indices for player_id 0\n",
      "73 retrievable choices for player_id 0\n",
      "69 first visible walls for player_id 0\n",
      "51 filtered trials for player_id 0\n",
      "42 high_low_trial_indices for player_id 0\n",
      "42 retrievable choices for player_id 0\n",
      "31 first visible walls for player_id 0\n",
      "31 filtered trials for player_id 0\n"
     ]
    },
    {
     "name": "stderr",
     "output_type": "stream",
     "text": [
      "c:\\users\\tomha\\repos\\octagon_analysis\\trajectory_analysis\\trajectory_vectors.py:321: RuntimeWarning: invalid value encountered in scalar divide\n",
      "  cosine_similarity_this_wall = dot_product[wall_num]/(player_to_alcove_vector_norms[wall_num] * player_vector_norm)\n"
     ]
    },
    {
     "name": "stdout",
     "output_type": "stream",
     "text": [
      "Trial list social length for experimentId 8 and playerId 1: 115\n",
      "93 high_low_trial_indices for player_id 1\n"
     ]
    },
    {
     "name": "stderr",
     "output_type": "stream",
     "text": [
      "c:\\users\\tomha\\repos\\octagon_analysis\\analysis\\loser_inferred_choice.py:47: RuntimeWarning: Mean of empty slice\n",
      "  return np.argmax(np.nanmean(cosine_similarity_trajectory, axis=1))\n",
      "c:\\users\\tomha\\repos\\octagon_analysis\\analysis\\loser_inferred_choice.py:149: RuntimeWarning: Mean of empty slice\n",
      "  highest_alignment_val = np.max(np.nanmean(cosine_similarity_trajectory, axis=1))\n"
     ]
    },
    {
     "name": "stdout",
     "output_type": "stream",
     "text": [
      "87 retrievable choices for player_id 1\n",
      "75 first visible walls for player_id 1\n",
      "69 filtered trials for player_id 1\n",
      "42 high_low_trial_indices for player_id 0\n",
      "42 retrievable choices for player_id 0\n",
      "32 first visible walls for player_id 0\n",
      "32 filtered trials for player_id 0\n"
     ]
    },
    {
     "name": "stderr",
     "output_type": "stream",
     "text": [
      "c:\\users\\tomha\\repos\\octagon_analysis\\trajectory_analysis\\trajectory_vectors.py:321: RuntimeWarning: invalid value encountered in scalar divide\n",
      "  cosine_similarity_this_wall = dot_product[wall_num]/(player_to_alcove_vector_norms[wall_num] * player_vector_norm)\n",
      "c:\\users\\tomha\\repos\\octagon_analysis\\analysis\\loser_inferred_choice.py:47: RuntimeWarning: Mean of empty slice\n",
      "  return np.argmax(np.nanmean(cosine_similarity_trajectory, axis=1))\n",
      "c:\\users\\tomha\\repos\\octagon_analysis\\analysis\\loser_inferred_choice.py:149: RuntimeWarning: Mean of empty slice\n",
      "  highest_alignment_val = np.max(np.nanmean(cosine_similarity_trajectory, axis=1))\n"
     ]
    },
    {
     "name": "stdout",
     "output_type": "stream",
     "text": [
      "Trial list social length for experimentId 9 and playerId 0: 125\n",
      "98 high_low_trial_indices for player_id 0\n",
      "89 retrievable choices for player_id 0\n",
      "77 first visible walls for player_id 0\n",
      "71 filtered trials for player_id 0\n",
      "46 high_low_trial_indices for player_id 0\n",
      "46 retrievable choices for player_id 0\n",
      "39 first visible walls for player_id 0\n",
      "39 filtered trials for player_id 0\n"
     ]
    },
    {
     "name": "stderr",
     "output_type": "stream",
     "text": [
      "c:\\users\\tomha\\repos\\octagon_analysis\\trajectory_analysis\\trajectory_vectors.py:321: RuntimeWarning: invalid value encountered in scalar divide\n",
      "  cosine_similarity_this_wall = dot_product[wall_num]/(player_to_alcove_vector_norms[wall_num] * player_vector_norm)\n",
      "c:\\users\\tomha\\repos\\octagon_analysis\\analysis\\loser_inferred_choice.py:47: RuntimeWarning: Mean of empty slice\n",
      "  return np.argmax(np.nanmean(cosine_similarity_trajectory, axis=1))\n",
      "c:\\users\\tomha\\repos\\octagon_analysis\\analysis\\loser_inferred_choice.py:149: RuntimeWarning: Mean of empty slice\n",
      "  highest_alignment_val = np.max(np.nanmean(cosine_similarity_trajectory, axis=1))\n"
     ]
    },
    {
     "name": "stdout",
     "output_type": "stream",
     "text": [
      "Trial list social length for experimentId 9 and playerId 1: 125\n",
      "98 high_low_trial_indices for player_id 1\n",
      "64 retrievable choices for player_id 1\n",
      "50 first visible walls for player_id 1\n",
      "32 filtered trials for player_id 1\n",
      "28 high_low_trial_indices for player_id 0\n",
      "28 retrievable choices for player_id 0\n",
      "21 first visible walls for player_id 0\n",
      "21 filtered trials for player_id 0\n"
     ]
    },
    {
     "name": "stderr",
     "output_type": "stream",
     "text": [
      "c:\\users\\tomha\\repos\\octagon_analysis\\trajectory_analysis\\trajectory_vectors.py:321: RuntimeWarning: invalid value encountered in scalar divide\n",
      "  cosine_similarity_this_wall = dot_product[wall_num]/(player_to_alcove_vector_norms[wall_num] * player_vector_norm)\n",
      "c:\\users\\tomha\\repos\\octagon_analysis\\analysis\\loser_inferred_choice.py:47: RuntimeWarning: Mean of empty slice\n",
      "  return np.argmax(np.nanmean(cosine_similarity_trajectory, axis=1))\n",
      "c:\\users\\tomha\\repos\\octagon_analysis\\analysis\\loser_inferred_choice.py:149: RuntimeWarning: Mean of empty slice\n",
      "  highest_alignment_val = np.max(np.nanmean(cosine_similarity_trajectory, axis=1))\n"
     ]
    },
    {
     "name": "stdout",
     "output_type": "stream",
     "text": [
      "Trial list social length for experimentId 10 and playerId 0: 147\n",
      "124 high_low_trial_indices for player_id 0\n",
      "100 retrievable choices for player_id 0\n",
      "85 first visible walls for player_id 0\n",
      "70 filtered trials for player_id 0\n",
      "38 high_low_trial_indices for player_id 0\n",
      "38 retrievable choices for player_id 0\n",
      "25 first visible walls for player_id 0\n",
      "25 filtered trials for player_id 0\n"
     ]
    },
    {
     "name": "stderr",
     "output_type": "stream",
     "text": [
      "c:\\users\\tomha\\repos\\octagon_analysis\\trajectory_analysis\\trajectory_vectors.py:321: RuntimeWarning: invalid value encountered in scalar divide\n",
      "  cosine_similarity_this_wall = dot_product[wall_num]/(player_to_alcove_vector_norms[wall_num] * player_vector_norm)\n"
     ]
    },
    {
     "name": "stdout",
     "output_type": "stream",
     "text": [
      "Trial list social length for experimentId 10 and playerId 1: 147\n",
      "124 high_low_trial_indices for player_id 1\n"
     ]
    },
    {
     "name": "stderr",
     "output_type": "stream",
     "text": [
      "c:\\users\\tomha\\repos\\octagon_analysis\\analysis\\loser_inferred_choice.py:47: RuntimeWarning: Mean of empty slice\n",
      "  return np.argmax(np.nanmean(cosine_similarity_trajectory, axis=1))\n",
      "c:\\users\\tomha\\repos\\octagon_analysis\\analysis\\loser_inferred_choice.py:149: RuntimeWarning: Mean of empty slice\n",
      "  highest_alignment_val = np.max(np.nanmean(cosine_similarity_trajectory, axis=1))\n"
     ]
    },
    {
     "name": "stdout",
     "output_type": "stream",
     "text": [
      "118 retrievable choices for player_id 1\n",
      "97 first visible walls for player_id 1\n",
      "93 filtered trials for player_id 1\n",
      "39 high_low_trial_indices for player_id 0\n",
      "39 retrievable choices for player_id 0\n",
      "32 first visible walls for player_id 0\n",
      "32 filtered trials for player_id 0\n"
     ]
    },
    {
     "name": "stderr",
     "output_type": "stream",
     "text": [
      "c:\\users\\tomha\\repos\\octagon_analysis\\trajectory_analysis\\trajectory_vectors.py:321: RuntimeWarning: invalid value encountered in scalar divide\n",
      "  cosine_similarity_this_wall = dot_product[wall_num]/(player_to_alcove_vector_norms[wall_num] * player_vector_norm)\n",
      "c:\\users\\tomha\\repos\\octagon_analysis\\analysis\\loser_inferred_choice.py:47: RuntimeWarning: Mean of empty slice\n",
      "  return np.argmax(np.nanmean(cosine_similarity_trajectory, axis=1))\n",
      "c:\\users\\tomha\\repos\\octagon_analysis\\analysis\\loser_inferred_choice.py:149: RuntimeWarning: Mean of empty slice\n",
      "  highest_alignment_val = np.max(np.nanmean(cosine_similarity_trajectory, axis=1))\n"
     ]
    },
    {
     "name": "stdout",
     "output_type": "stream",
     "text": [
      "Trial list social length for experimentId 11 and playerId 0: 142\n",
      "119 high_low_trial_indices for player_id 0\n",
      "90 retrievable choices for player_id 0\n",
      "91 first visible walls for player_id 0\n",
      "70 filtered trials for player_id 0\n",
      "40 high_low_trial_indices for player_id 0\n",
      "40 retrievable choices for player_id 0\n",
      "37 first visible walls for player_id 0\n",
      "37 filtered trials for player_id 0\n"
     ]
    },
    {
     "name": "stderr",
     "output_type": "stream",
     "text": [
      "c:\\users\\tomha\\repos\\octagon_analysis\\trajectory_analysis\\trajectory_vectors.py:321: RuntimeWarning: invalid value encountered in scalar divide\n",
      "  cosine_similarity_this_wall = dot_product[wall_num]/(player_to_alcove_vector_norms[wall_num] * player_vector_norm)\n",
      "c:\\users\\tomha\\repos\\octagon_analysis\\analysis\\loser_inferred_choice.py:47: RuntimeWarning: Mean of empty slice\n",
      "  return np.argmax(np.nanmean(cosine_similarity_trajectory, axis=1))\n",
      "c:\\users\\tomha\\repos\\octagon_analysis\\analysis\\loser_inferred_choice.py:149: RuntimeWarning: Mean of empty slice\n",
      "  highest_alignment_val = np.max(np.nanmean(cosine_similarity_trajectory, axis=1))\n"
     ]
    },
    {
     "name": "stdout",
     "output_type": "stream",
     "text": [
      "Trial list social length for experimentId 11 and playerId 1: 142\n",
      "119 high_low_trial_indices for player_id 1\n",
      "117 retrievable choices for player_id 1\n",
      "88 first visible walls for player_id 1\n",
      "86 filtered trials for player_id 1\n",
      "44 high_low_trial_indices for player_id 0\n",
      "44 retrievable choices for player_id 0\n",
      "38 first visible walls for player_id 0\n",
      "38 filtered trials for player_id 0\n"
     ]
    },
    {
     "name": "stderr",
     "output_type": "stream",
     "text": [
      "c:\\users\\tomha\\repos\\octagon_analysis\\trajectory_analysis\\trajectory_vectors.py:321: RuntimeWarning: invalid value encountered in scalar divide\n",
      "  cosine_similarity_this_wall = dot_product[wall_num]/(player_to_alcove_vector_norms[wall_num] * player_vector_norm)\n",
      "c:\\users\\tomha\\repos\\octagon_analysis\\analysis\\loser_inferred_choice.py:47: RuntimeWarning: Mean of empty slice\n",
      "  return np.argmax(np.nanmean(cosine_similarity_trajectory, axis=1))\n",
      "c:\\users\\tomha\\repos\\octagon_analysis\\analysis\\loser_inferred_choice.py:149: RuntimeWarning: Mean of empty slice\n",
      "  highest_alignment_val = np.max(np.nanmean(cosine_similarity_trajectory, axis=1))\n"
     ]
    },
    {
     "name": "stdout",
     "output_type": "stream",
     "text": [
      "Trial list social length for experimentId 12 and playerId 0: 101\n",
      "87 high_low_trial_indices for player_id 0\n",
      "76 retrievable choices for player_id 0\n",
      "60 first visible walls for player_id 0\n",
      "50 filtered trials for player_id 0\n",
      "43 high_low_trial_indices for player_id 0\n",
      "43 retrievable choices for player_id 0\n",
      "34 first visible walls for player_id 0\n",
      "34 filtered trials for player_id 0\n"
     ]
    },
    {
     "name": "stderr",
     "output_type": "stream",
     "text": [
      "c:\\users\\tomha\\repos\\octagon_analysis\\trajectory_analysis\\trajectory_vectors.py:321: RuntimeWarning: invalid value encountered in scalar divide\n",
      "  cosine_similarity_this_wall = dot_product[wall_num]/(player_to_alcove_vector_norms[wall_num] * player_vector_norm)\n",
      "c:\\users\\tomha\\repos\\octagon_analysis\\analysis\\loser_inferred_choice.py:47: RuntimeWarning: Mean of empty slice\n",
      "  return np.argmax(np.nanmean(cosine_similarity_trajectory, axis=1))\n",
      "c:\\users\\tomha\\repos\\octagon_analysis\\analysis\\loser_inferred_choice.py:149: RuntimeWarning: Mean of empty slice\n",
      "  highest_alignment_val = np.max(np.nanmean(cosine_similarity_trajectory, axis=1))\n"
     ]
    },
    {
     "name": "stdout",
     "output_type": "stream",
     "text": [
      "Trial list social length for experimentId 12 and playerId 1: 101\n",
      "87 high_low_trial_indices for player_id 1\n",
      "73 retrievable choices for player_id 1\n",
      "74 first visible walls for player_id 1\n",
      "61 filtered trials for player_id 1\n",
      "45 high_low_trial_indices for player_id 0\n",
      "45 retrievable choices for player_id 0\n",
      "37 first visible walls for player_id 0\n",
      "37 filtered trials for player_id 0\n"
     ]
    },
    {
     "name": "stderr",
     "output_type": "stream",
     "text": [
      "c:\\users\\tomha\\repos\\octagon_analysis\\trajectory_analysis\\trajectory_vectors.py:321: RuntimeWarning: invalid value encountered in scalar divide\n",
      "  cosine_similarity_this_wall = dot_product[wall_num]/(player_to_alcove_vector_norms[wall_num] * player_vector_norm)\n",
      "c:\\users\\tomha\\repos\\octagon_analysis\\analysis\\loser_inferred_choice.py:47: RuntimeWarning: Mean of empty slice\n",
      "  return np.argmax(np.nanmean(cosine_similarity_trajectory, axis=1))\n",
      "c:\\users\\tomha\\repos\\octagon_analysis\\analysis\\loser_inferred_choice.py:149: RuntimeWarning: Mean of empty slice\n",
      "  highest_alignment_val = np.max(np.nanmean(cosine_similarity_trajectory, axis=1))\n"
     ]
    },
    {
     "name": "stdout",
     "output_type": "stream",
     "text": [
      "Trial list social length for experimentId 13 and playerId 0: 120\n",
      "95 high_low_trial_indices for player_id 0\n",
      "78 retrievable choices for player_id 0\n",
      "76 first visible walls for player_id 0\n",
      "61 filtered trials for player_id 0\n",
      "42 high_low_trial_indices for player_id 0\n",
      "42 retrievable choices for player_id 0\n",
      "36 first visible walls for player_id 0\n",
      "36 filtered trials for player_id 0\n"
     ]
    },
    {
     "name": "stderr",
     "output_type": "stream",
     "text": [
      "c:\\users\\tomha\\repos\\octagon_analysis\\trajectory_analysis\\trajectory_vectors.py:321: RuntimeWarning: invalid value encountered in scalar divide\n",
      "  cosine_similarity_this_wall = dot_product[wall_num]/(player_to_alcove_vector_norms[wall_num] * player_vector_norm)\n"
     ]
    },
    {
     "name": "stdout",
     "output_type": "stream",
     "text": [
      "Trial list social length for experimentId 13 and playerId 1: 120\n",
      "95 high_low_trial_indices for player_id 1\n"
     ]
    },
    {
     "name": "stderr",
     "output_type": "stream",
     "text": [
      "c:\\users\\tomha\\repos\\octagon_analysis\\analysis\\loser_inferred_choice.py:47: RuntimeWarning: Mean of empty slice\n",
      "  return np.argmax(np.nanmean(cosine_similarity_trajectory, axis=1))\n",
      "c:\\users\\tomha\\repos\\octagon_analysis\\analysis\\loser_inferred_choice.py:149: RuntimeWarning: Mean of empty slice\n",
      "  highest_alignment_val = np.max(np.nanmean(cosine_similarity_trajectory, axis=1))\n"
     ]
    },
    {
     "name": "stdout",
     "output_type": "stream",
     "text": [
      "75 retrievable choices for player_id 1\n",
      "64 first visible walls for player_id 1\n",
      "52 filtered trials for player_id 1\n",
      "41 high_low_trial_indices for player_id 0\n",
      "41 retrievable choices for player_id 0\n",
      "33 first visible walls for player_id 0\n",
      "33 filtered trials for player_id 0\n"
     ]
    },
    {
     "name": "stderr",
     "output_type": "stream",
     "text": [
      "c:\\users\\tomha\\repos\\octagon_analysis\\trajectory_analysis\\trajectory_vectors.py:321: RuntimeWarning: invalid value encountered in scalar divide\n",
      "  cosine_similarity_this_wall = dot_product[wall_num]/(player_to_alcove_vector_norms[wall_num] * player_vector_norm)\n",
      "c:\\users\\tomha\\repos\\octagon_analysis\\analysis\\loser_inferred_choice.py:47: RuntimeWarning: Mean of empty slice\n",
      "  return np.argmax(np.nanmean(cosine_similarity_trajectory, axis=1))\n",
      "c:\\users\\tomha\\repos\\octagon_analysis\\analysis\\loser_inferred_choice.py:149: RuntimeWarning: Mean of empty slice\n",
      "  highest_alignment_val = np.max(np.nanmean(cosine_similarity_trajectory, axis=1))\n"
     ]
    },
    {
     "name": "stdout",
     "output_type": "stream",
     "text": [
      "Trial list social length for experimentId 14 and playerId 0: 139\n",
      "110 high_low_trial_indices for player_id 0\n",
      "95 retrievable choices for player_id 0\n",
      "84 first visible walls for player_id 0\n",
      "70 filtered trials for player_id 0\n",
      "43 high_low_trial_indices for player_id 0\n",
      "43 retrievable choices for player_id 0\n",
      "38 first visible walls for player_id 0\n",
      "38 filtered trials for player_id 0\n"
     ]
    },
    {
     "name": "stderr",
     "output_type": "stream",
     "text": [
      "c:\\users\\tomha\\repos\\octagon_analysis\\trajectory_analysis\\trajectory_vectors.py:321: RuntimeWarning: invalid value encountered in scalar divide\n",
      "  cosine_similarity_this_wall = dot_product[wall_num]/(player_to_alcove_vector_norms[wall_num] * player_vector_norm)\n",
      "c:\\users\\tomha\\repos\\octagon_analysis\\analysis\\loser_inferred_choice.py:47: RuntimeWarning: Mean of empty slice\n",
      "  return np.argmax(np.nanmean(cosine_similarity_trajectory, axis=1))\n",
      "c:\\users\\tomha\\repos\\octagon_analysis\\analysis\\loser_inferred_choice.py:149: RuntimeWarning: Mean of empty slice\n",
      "  highest_alignment_val = np.max(np.nanmean(cosine_similarity_trajectory, axis=1))\n"
     ]
    },
    {
     "name": "stdout",
     "output_type": "stream",
     "text": [
      "Trial list social length for experimentId 14 and playerId 1: 139\n",
      "110 high_low_trial_indices for player_id 1\n",
      "102 retrievable choices for player_id 1\n",
      "87 first visible walls for player_id 1\n",
      "80 filtered trials for player_id 1\n",
      "51 high_low_trial_indices for player_id 0\n",
      "51 retrievable choices for player_id 0\n",
      "42 first visible walls for player_id 0\n",
      "42 filtered trials for player_id 0\n"
     ]
    },
    {
     "name": "stderr",
     "output_type": "stream",
     "text": [
      "c:\\users\\tomha\\repos\\octagon_analysis\\trajectory_analysis\\trajectory_vectors.py:321: RuntimeWarning: invalid value encountered in scalar divide\n",
      "  cosine_similarity_this_wall = dot_product[wall_num]/(player_to_alcove_vector_norms[wall_num] * player_vector_norm)\n",
      "c:\\users\\tomha\\repos\\octagon_analysis\\analysis\\loser_inferred_choice.py:47: RuntimeWarning: Mean of empty slice\n",
      "  return np.argmax(np.nanmean(cosine_similarity_trajectory, axis=1))\n",
      "c:\\users\\tomha\\repos\\octagon_analysis\\analysis\\loser_inferred_choice.py:149: RuntimeWarning: Mean of empty slice\n",
      "  highest_alignment_val = np.max(np.nanmean(cosine_similarity_trajectory, axis=1))\n"
     ]
    },
    {
     "name": "stdout",
     "output_type": "stream",
     "text": [
      "Trial list social length for experimentId 15 and playerId 0: 135\n",
      "115 high_low_trial_indices for player_id 0\n",
      "94 retrievable choices for player_id 0\n",
      "90 first visible walls for player_id 0\n",
      "75 filtered trials for player_id 0\n",
      "42 high_low_trial_indices for player_id 0\n",
      "42 retrievable choices for player_id 0\n",
      "31 first visible walls for player_id 0\n",
      "31 filtered trials for player_id 0\n"
     ]
    },
    {
     "name": "stderr",
     "output_type": "stream",
     "text": [
      "c:\\users\\tomha\\repos\\octagon_analysis\\trajectory_analysis\\trajectory_vectors.py:321: RuntimeWarning: invalid value encountered in scalar divide\n",
      "  cosine_similarity_this_wall = dot_product[wall_num]/(player_to_alcove_vector_norms[wall_num] * player_vector_norm)\n",
      "c:\\users\\tomha\\repos\\octagon_analysis\\analysis\\loser_inferred_choice.py:47: RuntimeWarning: Mean of empty slice\n",
      "  return np.argmax(np.nanmean(cosine_similarity_trajectory, axis=1))\n",
      "c:\\users\\tomha\\repos\\octagon_analysis\\analysis\\loser_inferred_choice.py:149: RuntimeWarning: Mean of empty slice\n",
      "  highest_alignment_val = np.max(np.nanmean(cosine_similarity_trajectory, axis=1))\n"
     ]
    },
    {
     "name": "stdout",
     "output_type": "stream",
     "text": [
      "Trial list social length for experimentId 15 and playerId 1: 135\n",
      "115 high_low_trial_indices for player_id 1\n",
      "110 retrievable choices for player_id 1\n",
      "85 first visible walls for player_id 1\n",
      "80 filtered trials for player_id 1\n",
      "47 high_low_trial_indices for player_id 0\n",
      "47 retrievable choices for player_id 0\n",
      "26 first visible walls for player_id 0\n",
      "26 filtered trials for player_id 0\n"
     ]
    },
    {
     "name": "stderr",
     "output_type": "stream",
     "text": [
      "c:\\users\\tomha\\repos\\octagon_analysis\\trajectory_analysis\\trajectory_vectors.py:321: RuntimeWarning: invalid value encountered in scalar divide\n",
      "  cosine_similarity_this_wall = dot_product[wall_num]/(player_to_alcove_vector_norms[wall_num] * player_vector_norm)\n"
     ]
    },
    {
     "name": "stdout",
     "output_type": "stream",
     "text": [
      "Trial list social length for experimentId 16 and playerId 0: 142\n",
      "114 high_low_trial_indices for player_id 0\n"
     ]
    },
    {
     "name": "stderr",
     "output_type": "stream",
     "text": [
      "c:\\users\\tomha\\repos\\octagon_analysis\\analysis\\loser_inferred_choice.py:47: RuntimeWarning: Mean of empty slice\n",
      "  return np.argmax(np.nanmean(cosine_similarity_trajectory, axis=1))\n",
      "c:\\users\\tomha\\repos\\octagon_analysis\\analysis\\loser_inferred_choice.py:149: RuntimeWarning: Mean of empty slice\n",
      "  highest_alignment_val = np.max(np.nanmean(cosine_similarity_trajectory, axis=1))\n"
     ]
    },
    {
     "name": "stdout",
     "output_type": "stream",
     "text": [
      "86 retrievable choices for player_id 0\n",
      "96 first visible walls for player_id 0\n",
      "71 filtered trials for player_id 0\n",
      "51 high_low_trial_indices for player_id 0\n",
      "51 retrievable choices for player_id 0\n",
      "39 first visible walls for player_id 0\n",
      "39 filtered trials for player_id 0\n"
     ]
    },
    {
     "name": "stderr",
     "output_type": "stream",
     "text": [
      "c:\\users\\tomha\\repos\\octagon_analysis\\trajectory_analysis\\trajectory_vectors.py:321: RuntimeWarning: invalid value encountered in scalar divide\n",
      "  cosine_similarity_this_wall = dot_product[wall_num]/(player_to_alcove_vector_norms[wall_num] * player_vector_norm)\n"
     ]
    },
    {
     "name": "stdout",
     "output_type": "stream",
     "text": [
      "Trial list social length for experimentId 16 and playerId 1: 142\n",
      "114 high_low_trial_indices for player_id 1\n"
     ]
    },
    {
     "name": "stderr",
     "output_type": "stream",
     "text": [
      "c:\\users\\tomha\\repos\\octagon_analysis\\analysis\\loser_inferred_choice.py:47: RuntimeWarning: Mean of empty slice\n",
      "  return np.argmax(np.nanmean(cosine_similarity_trajectory, axis=1))\n",
      "c:\\users\\tomha\\repos\\octagon_analysis\\analysis\\loser_inferred_choice.py:149: RuntimeWarning: Mean of empty slice\n",
      "  highest_alignment_val = np.max(np.nanmean(cosine_similarity_trajectory, axis=1))\n"
     ]
    },
    {
     "name": "stdout",
     "output_type": "stream",
     "text": [
      "104 retrievable choices for player_id 1\n",
      "77 first visible walls for player_id 1\n",
      "71 filtered trials for player_id 1\n",
      "40 high_low_trial_indices for player_id 0\n",
      "40 retrievable choices for player_id 0\n",
      "16 first visible walls for player_id 0\n",
      "16 filtered trials for player_id 0\n"
     ]
    },
    {
     "name": "stderr",
     "output_type": "stream",
     "text": [
      "c:\\users\\tomha\\repos\\octagon_analysis\\trajectory_analysis\\trajectory_vectors.py:321: RuntimeWarning: invalid value encountered in scalar divide\n",
      "  cosine_similarity_this_wall = dot_product[wall_num]/(player_to_alcove_vector_norms[wall_num] * player_vector_norm)\n",
      "c:\\users\\tomha\\repos\\octagon_analysis\\analysis\\loser_inferred_choice.py:47: RuntimeWarning: Mean of empty slice\n",
      "  return np.argmax(np.nanmean(cosine_similarity_trajectory, axis=1))\n",
      "c:\\users\\tomha\\repos\\octagon_analysis\\analysis\\loser_inferred_choice.py:149: RuntimeWarning: Mean of empty slice\n",
      "  highest_alignment_val = np.max(np.nanmean(cosine_similarity_trajectory, axis=1))\n"
     ]
    },
    {
     "name": "stdout",
     "output_type": "stream",
     "text": [
      "Trial list social length for experimentId 17 and playerId 0: 126\n",
      "100 high_low_trial_indices for player_id 0\n",
      "83 retrievable choices for player_id 0\n",
      "60 first visible walls for player_id 0\n",
      "59 filtered trials for player_id 0\n",
      "59 high_low_trial_indices for player_id 0\n",
      "59 retrievable choices for player_id 0\n",
      "34 first visible walls for player_id 0\n",
      "34 filtered trials for player_id 0\n"
     ]
    },
    {
     "name": "stderr",
     "output_type": "stream",
     "text": [
      "c:\\users\\tomha\\repos\\octagon_analysis\\trajectory_analysis\\trajectory_vectors.py:321: RuntimeWarning: invalid value encountered in scalar divide\n",
      "  cosine_similarity_this_wall = dot_product[wall_num]/(player_to_alcove_vector_norms[wall_num] * player_vector_norm)\n",
      "c:\\users\\tomha\\repos\\octagon_analysis\\analysis\\loser_inferred_choice.py:47: RuntimeWarning: Mean of empty slice\n",
      "  return np.argmax(np.nanmean(cosine_similarity_trajectory, axis=1))\n",
      "c:\\users\\tomha\\repos\\octagon_analysis\\analysis\\loser_inferred_choice.py:149: RuntimeWarning: Mean of empty slice\n",
      "  highest_alignment_val = np.max(np.nanmean(cosine_similarity_trajectory, axis=1))\n"
     ]
    },
    {
     "name": "stdout",
     "output_type": "stream",
     "text": [
      "Trial list social length for experimentId 17 and playerId 1: 126\n",
      "100 high_low_trial_indices for player_id 1\n",
      "88 retrievable choices for player_id 1\n",
      "74 first visible walls for player_id 1\n",
      "66 filtered trials for player_id 1\n",
      "53 high_low_trial_indices for player_id 0\n",
      "53 retrievable choices for player_id 0\n",
      "37 first visible walls for player_id 0\n",
      "37 filtered trials for player_id 0\n"
     ]
    },
    {
     "name": "stderr",
     "output_type": "stream",
     "text": [
      "c:\\users\\tomha\\repos\\octagon_analysis\\trajectory_analysis\\trajectory_vectors.py:321: RuntimeWarning: invalid value encountered in scalar divide\n",
      "  cosine_similarity_this_wall = dot_product[wall_num]/(player_to_alcove_vector_norms[wall_num] * player_vector_norm)\n",
      "c:\\users\\tomha\\repos\\octagon_analysis\\analysis\\loser_inferred_choice.py:47: RuntimeWarning: Mean of empty slice\n",
      "  return np.argmax(np.nanmean(cosine_similarity_trajectory, axis=1))\n",
      "c:\\users\\tomha\\repos\\octagon_analysis\\analysis\\loser_inferred_choice.py:149: RuntimeWarning: Mean of empty slice\n",
      "  highest_alignment_val = np.max(np.nanmean(cosine_similarity_trajectory, axis=1))\n"
     ]
    },
    {
     "name": "stdout",
     "output_type": "stream",
     "text": [
      "Trial list social length for experimentId 18 and playerId 0: 129\n",
      "103 high_low_trial_indices for player_id 0\n",
      "75 retrievable choices for player_id 0\n",
      "79 first visible walls for player_id 0\n",
      "53 filtered trials for player_id 0\n",
      "57 high_low_trial_indices for player_id 0\n",
      "57 retrievable choices for player_id 0\n",
      "46 first visible walls for player_id 0\n",
      "46 filtered trials for player_id 0\n"
     ]
    },
    {
     "name": "stderr",
     "output_type": "stream",
     "text": [
      "c:\\users\\tomha\\repos\\octagon_analysis\\trajectory_analysis\\trajectory_vectors.py:321: RuntimeWarning: invalid value encountered in scalar divide\n",
      "  cosine_similarity_this_wall = dot_product[wall_num]/(player_to_alcove_vector_norms[wall_num] * player_vector_norm)\n",
      "c:\\users\\tomha\\repos\\octagon_analysis\\analysis\\loser_inferred_choice.py:47: RuntimeWarning: Mean of empty slice\n",
      "  return np.argmax(np.nanmean(cosine_similarity_trajectory, axis=1))\n",
      "c:\\users\\tomha\\repos\\octagon_analysis\\analysis\\loser_inferred_choice.py:149: RuntimeWarning: Mean of empty slice\n",
      "  highest_alignment_val = np.max(np.nanmean(cosine_similarity_trajectory, axis=1))\n"
     ]
    },
    {
     "name": "stdout",
     "output_type": "stream",
     "text": [
      "Trial list social length for experimentId 18 and playerId 1: 129\n",
      "103 high_low_trial_indices for player_id 1\n",
      "92 retrievable choices for player_id 1\n",
      "86 first visible walls for player_id 1\n",
      "76 filtered trials for player_id 1\n",
      "62 high_low_trial_indices for player_id 0\n",
      "62 retrievable choices for player_id 0\n",
      "48 first visible walls for player_id 0\n",
      "48 filtered trials for player_id 0\n"
     ]
    },
    {
     "name": "stderr",
     "output_type": "stream",
     "text": [
      "c:\\users\\tomha\\repos\\octagon_analysis\\trajectory_analysis\\trajectory_vectors.py:321: RuntimeWarning: invalid value encountered in scalar divide\n",
      "  cosine_similarity_this_wall = dot_product[wall_num]/(player_to_alcove_vector_norms[wall_num] * player_vector_norm)\n",
      "c:\\users\\tomha\\repos\\octagon_analysis\\analysis\\loser_inferred_choice.py:47: RuntimeWarning: Mean of empty slice\n",
      "  return np.argmax(np.nanmean(cosine_similarity_trajectory, axis=1))\n",
      "c:\\users\\tomha\\repos\\octagon_analysis\\analysis\\loser_inferred_choice.py:149: RuntimeWarning: Mean of empty slice\n",
      "  highest_alignment_val = np.max(np.nanmean(cosine_similarity_trajectory, axis=1))\n"
     ]
    },
    {
     "name": "stdout",
     "output_type": "stream",
     "text": [
      "Trial list social length for experimentId 19 and playerId 0: 139\n",
      "109 high_low_trial_indices for player_id 0\n",
      "71 retrievable choices for player_id 0\n",
      "66 first visible walls for player_id 0\n",
      "44 filtered trials for player_id 0\n",
      "73 high_low_trial_indices for player_id 0\n",
      "73 retrievable choices for player_id 0\n",
      "53 first visible walls for player_id 0\n",
      "53 filtered trials for player_id 0\n"
     ]
    },
    {
     "name": "stderr",
     "output_type": "stream",
     "text": [
      "c:\\users\\tomha\\repos\\octagon_analysis\\trajectory_analysis\\trajectory_vectors.py:321: RuntimeWarning: invalid value encountered in scalar divide\n",
      "  cosine_similarity_this_wall = dot_product[wall_num]/(player_to_alcove_vector_norms[wall_num] * player_vector_norm)\n"
     ]
    },
    {
     "name": "stdout",
     "output_type": "stream",
     "text": [
      "Trial list social length for experimentId 19 and playerId 1: 139\n",
      "109 high_low_trial_indices for player_id 1\n"
     ]
    },
    {
     "name": "stderr",
     "output_type": "stream",
     "text": [
      "c:\\users\\tomha\\repos\\octagon_analysis\\analysis\\loser_inferred_choice.py:47: RuntimeWarning: Mean of empty slice\n",
      "  return np.argmax(np.nanmean(cosine_similarity_trajectory, axis=1))\n",
      "c:\\users\\tomha\\repos\\octagon_analysis\\analysis\\loser_inferred_choice.py:149: RuntimeWarning: Mean of empty slice\n",
      "  highest_alignment_val = np.max(np.nanmean(cosine_similarity_trajectory, axis=1))\n"
     ]
    },
    {
     "name": "stdout",
     "output_type": "stream",
     "text": [
      "106 retrievable choices for player_id 1\n",
      "59 first visible walls for player_id 1\n",
      "57 filtered trials for player_id 1\n",
      "84 high_low_trial_indices for player_id 0\n",
      "84 retrievable choices for player_id 0\n",
      "46 first visible walls for player_id 0\n",
      "46 filtered trials for player_id 0\n"
     ]
    },
    {
     "name": "stderr",
     "output_type": "stream",
     "text": [
      "c:\\users\\tomha\\repos\\octagon_analysis\\trajectory_analysis\\trajectory_vectors.py:321: RuntimeWarning: invalid value encountered in scalar divide\n",
      "  cosine_similarity_this_wall = dot_product[wall_num]/(player_to_alcove_vector_norms[wall_num] * player_vector_norm)\n",
      "c:\\users\\tomha\\repos\\octagon_analysis\\analysis\\loser_inferred_choice.py:47: RuntimeWarning: Mean of empty slice\n",
      "  return np.argmax(np.nanmean(cosine_similarity_trajectory, axis=1))\n",
      "c:\\users\\tomha\\repos\\octagon_analysis\\analysis\\loser_inferred_choice.py:149: RuntimeWarning: Mean of empty slice\n",
      "  highest_alignment_val = np.max(np.nanmean(cosine_similarity_trajectory, axis=1))\n"
     ]
    },
    {
     "name": "stdout",
     "output_type": "stream",
     "text": [
      "Trial list social length for experimentId 20 and playerId 0: 131\n",
      "111 high_low_trial_indices for player_id 0\n",
      "97 retrievable choices for player_id 0\n",
      "87 first visible walls for player_id 0\n",
      "75 filtered trials for player_id 0\n",
      "87 high_low_trial_indices for player_id 0\n",
      "87 retrievable choices for player_id 0\n",
      "61 first visible walls for player_id 0\n",
      "61 filtered trials for player_id 0\n"
     ]
    },
    {
     "name": "stderr",
     "output_type": "stream",
     "text": [
      "c:\\users\\tomha\\repos\\octagon_analysis\\trajectory_analysis\\trajectory_vectors.py:321: RuntimeWarning: invalid value encountered in scalar divide\n",
      "  cosine_similarity_this_wall = dot_product[wall_num]/(player_to_alcove_vector_norms[wall_num] * player_vector_norm)\n"
     ]
    },
    {
     "name": "stdout",
     "output_type": "stream",
     "text": [
      "Trial list social length for experimentId 20 and playerId 1: 131\n",
      "111 high_low_trial_indices for player_id 1\n"
     ]
    },
    {
     "name": "stderr",
     "output_type": "stream",
     "text": [
      "c:\\users\\tomha\\repos\\octagon_analysis\\analysis\\loser_inferred_choice.py:47: RuntimeWarning: Mean of empty slice\n",
      "  return np.argmax(np.nanmean(cosine_similarity_trajectory, axis=1))\n",
      "c:\\users\\tomha\\repos\\octagon_analysis\\analysis\\loser_inferred_choice.py:149: RuntimeWarning: Mean of empty slice\n",
      "  highest_alignment_val = np.max(np.nanmean(cosine_similarity_trajectory, axis=1))\n"
     ]
    },
    {
     "name": "stdout",
     "output_type": "stream",
     "text": [
      "107 retrievable choices for player_id 1\n",
      "79 first visible walls for player_id 1\n",
      "77 filtered trials for player_id 1\n",
      "87 high_low_trial_indices for player_id 0\n",
      "87 retrievable choices for player_id 0\n",
      "65 first visible walls for player_id 0\n",
      "65 filtered trials for player_id 0\n"
     ]
    },
    {
     "name": "stderr",
     "output_type": "stream",
     "text": [
      "c:\\users\\tomha\\repos\\octagon_analysis\\trajectory_analysis\\trajectory_vectors.py:321: RuntimeWarning: invalid value encountered in scalar divide\n",
      "  cosine_similarity_this_wall = dot_product[wall_num]/(player_to_alcove_vector_norms[wall_num] * player_vector_norm)\n",
      "c:\\users\\tomha\\repos\\octagon_analysis\\analysis\\loser_inferred_choice.py:47: RuntimeWarning: Mean of empty slice\n",
      "  return np.argmax(np.nanmean(cosine_similarity_trajectory, axis=1))\n",
      "c:\\users\\tomha\\repos\\octagon_analysis\\analysis\\loser_inferred_choice.py:149: RuntimeWarning: Mean of empty slice\n",
      "  highest_alignment_val = np.max(np.nanmean(cosine_similarity_trajectory, axis=1))\n"
     ]
    },
    {
     "name": "stdout",
     "output_type": "stream",
     "text": [
      "Trial list social length for experimentId 21 and playerId 0: 100\n",
      "83 high_low_trial_indices for player_id 0\n",
      "35 retrievable choices for player_id 0\n",
      "46 first visible walls for player_id 0\n",
      "21 filtered trials for player_id 0\n",
      "38 high_low_trial_indices for player_id 0\n",
      "38 retrievable choices for player_id 0\n",
      "23 first visible walls for player_id 0\n",
      "23 filtered trials for player_id 0\n"
     ]
    },
    {
     "name": "stderr",
     "output_type": "stream",
     "text": [
      "c:\\users\\tomha\\repos\\octagon_analysis\\trajectory_analysis\\trajectory_vectors.py:321: RuntimeWarning: invalid value encountered in scalar divide\n",
      "  cosine_similarity_this_wall = dot_product[wall_num]/(player_to_alcove_vector_norms[wall_num] * player_vector_norm)\n",
      "c:\\users\\tomha\\repos\\octagon_analysis\\analysis\\loser_inferred_choice.py:47: RuntimeWarning: Mean of empty slice\n",
      "  return np.argmax(np.nanmean(cosine_similarity_trajectory, axis=1))\n",
      "c:\\users\\tomha\\repos\\octagon_analysis\\analysis\\loser_inferred_choice.py:149: RuntimeWarning: Mean of empty slice\n",
      "  highest_alignment_val = np.max(np.nanmean(cosine_similarity_trajectory, axis=1))\n"
     ]
    },
    {
     "name": "stdout",
     "output_type": "stream",
     "text": [
      "Trial list social length for experimentId 21 and playerId 1: 100\n",
      "83 high_low_trial_indices for player_id 1\n",
      "81 retrievable choices for player_id 1\n",
      "50 first visible walls for player_id 1\n",
      "49 filtered trials for player_id 1\n",
      "64 high_low_trial_indices for player_id 0\n",
      "64 retrievable choices for player_id 0\n",
      "40 first visible walls for player_id 0\n",
      "40 filtered trials for player_id 0\n"
     ]
    },
    {
     "name": "stderr",
     "output_type": "stream",
     "text": [
      "c:\\users\\tomha\\repos\\octagon_analysis\\trajectory_analysis\\trajectory_vectors.py:321: RuntimeWarning: invalid value encountered in scalar divide\n",
      "  cosine_similarity_this_wall = dot_product[wall_num]/(player_to_alcove_vector_norms[wall_num] * player_vector_norm)\n",
      "c:\\users\\tomha\\repos\\octagon_analysis\\analysis\\loser_inferred_choice.py:47: RuntimeWarning: Mean of empty slice\n",
      "  return np.argmax(np.nanmean(cosine_similarity_trajectory, axis=1))\n",
      "c:\\users\\tomha\\repos\\octagon_analysis\\analysis\\loser_inferred_choice.py:149: RuntimeWarning: Mean of empty slice\n",
      "  highest_alignment_val = np.max(np.nanmean(cosine_similarity_trajectory, axis=1))\n"
     ]
    },
    {
     "name": "stdout",
     "output_type": "stream",
     "text": [
      "Trial list social length for experimentId 22 and playerId 0: 131\n",
      "99 high_low_trial_indices for player_id 0\n",
      "73 retrievable choices for player_id 0\n",
      "82 first visible walls for player_id 0\n",
      "63 filtered trials for player_id 0\n",
      "74 high_low_trial_indices for player_id 0\n",
      "74 retrievable choices for player_id 0\n",
      "59 first visible walls for player_id 0\n",
      "59 filtered trials for player_id 0\n"
     ]
    },
    {
     "name": "stderr",
     "output_type": "stream",
     "text": [
      "c:\\users\\tomha\\repos\\octagon_analysis\\trajectory_analysis\\trajectory_vectors.py:321: RuntimeWarning: invalid value encountered in scalar divide\n",
      "  cosine_similarity_this_wall = dot_product[wall_num]/(player_to_alcove_vector_norms[wall_num] * player_vector_norm)\n"
     ]
    },
    {
     "name": "stdout",
     "output_type": "stream",
     "text": [
      "Trial list social length for experimentId 22 and playerId 1: 131\n",
      "99 high_low_trial_indices for player_id 1\n"
     ]
    },
    {
     "name": "stderr",
     "output_type": "stream",
     "text": [
      "c:\\users\\tomha\\repos\\octagon_analysis\\analysis\\loser_inferred_choice.py:47: RuntimeWarning: Mean of empty slice\n",
      "  return np.argmax(np.nanmean(cosine_similarity_trajectory, axis=1))\n",
      "c:\\users\\tomha\\repos\\octagon_analysis\\analysis\\loser_inferred_choice.py:149: RuntimeWarning: Mean of empty slice\n",
      "  highest_alignment_val = np.max(np.nanmean(cosine_similarity_trajectory, axis=1))\n"
     ]
    },
    {
     "name": "stdout",
     "output_type": "stream",
     "text": [
      "94 retrievable choices for player_id 1\n",
      "69 first visible walls for player_id 1\n",
      "65 filtered trials for player_id 1\n",
      "94 high_low_trial_indices for player_id 0\n",
      "94 retrievable choices for player_id 0\n",
      "54 first visible walls for player_id 0\n",
      "54 filtered trials for player_id 0\n"
     ]
    },
    {
     "name": "stderr",
     "output_type": "stream",
     "text": [
      "c:\\users\\tomha\\repos\\octagon_analysis\\trajectory_analysis\\trajectory_vectors.py:321: RuntimeWarning: invalid value encountered in scalar divide\n",
      "  cosine_similarity_this_wall = dot_product[wall_num]/(player_to_alcove_vector_norms[wall_num] * player_vector_norm)\n",
      "c:\\users\\tomha\\repos\\octagon_analysis\\analysis\\loser_inferred_choice.py:47: RuntimeWarning: Mean of empty slice\n",
      "  return np.argmax(np.nanmean(cosine_similarity_trajectory, axis=1))\n",
      "c:\\users\\tomha\\repos\\octagon_analysis\\analysis\\loser_inferred_choice.py:149: RuntimeWarning: Mean of empty slice\n",
      "  highest_alignment_val = np.max(np.nanmean(cosine_similarity_trajectory, axis=1))\n"
     ]
    },
    {
     "name": "stdout",
     "output_type": "stream",
     "text": [
      "Trial list social length for experimentId 23 and playerId 0: 129\n",
      "107 high_low_trial_indices for player_id 0\n",
      "85 retrievable choices for player_id 0\n",
      "59 first visible walls for player_id 0\n",
      "52 filtered trials for player_id 0\n",
      "53 high_low_trial_indices for player_id 0\n",
      "53 retrievable choices for player_id 0\n",
      "34 first visible walls for player_id 0\n",
      "34 filtered trials for player_id 0\n"
     ]
    },
    {
     "name": "stderr",
     "output_type": "stream",
     "text": [
      "c:\\users\\tomha\\repos\\octagon_analysis\\trajectory_analysis\\trajectory_vectors.py:321: RuntimeWarning: invalid value encountered in scalar divide\n",
      "  cosine_similarity_this_wall = dot_product[wall_num]/(player_to_alcove_vector_norms[wall_num] * player_vector_norm)\n",
      "c:\\users\\tomha\\repos\\octagon_analysis\\analysis\\loser_inferred_choice.py:47: RuntimeWarning: Mean of empty slice\n",
      "  return np.argmax(np.nanmean(cosine_similarity_trajectory, axis=1))\n",
      "c:\\users\\tomha\\repos\\octagon_analysis\\analysis\\loser_inferred_choice.py:149: RuntimeWarning: Mean of empty slice\n",
      "  highest_alignment_val = np.max(np.nanmean(cosine_similarity_trajectory, axis=1))\n"
     ]
    },
    {
     "name": "stdout",
     "output_type": "stream",
     "text": [
      "Trial list social length for experimentId 23 and playerId 1: 129\n",
      "107 high_low_trial_indices for player_id 1\n",
      "91 retrievable choices for player_id 1\n",
      "56 first visible walls for player_id 1\n",
      "50 filtered trials for player_id 1\n",
      "89 high_low_trial_indices for player_id 0\n",
      "89 retrievable choices for player_id 0\n",
      "41 first visible walls for player_id 0\n",
      "41 filtered trials for player_id 0\n"
     ]
    },
    {
     "name": "stderr",
     "output_type": "stream",
     "text": [
      "c:\\users\\tomha\\repos\\octagon_analysis\\trajectory_analysis\\trajectory_vectors.py:321: RuntimeWarning: invalid value encountered in scalar divide\n",
      "  cosine_similarity_this_wall = dot_product[wall_num]/(player_to_alcove_vector_norms[wall_num] * player_vector_norm)\n",
      "c:\\users\\tomha\\repos\\octagon_analysis\\analysis\\loser_inferred_choice.py:47: RuntimeWarning: Mean of empty slice\n",
      "  return np.argmax(np.nanmean(cosine_similarity_trajectory, axis=1))\n",
      "c:\\users\\tomha\\repos\\octagon_analysis\\analysis\\loser_inferred_choice.py:149: RuntimeWarning: Mean of empty slice\n",
      "  highest_alignment_val = np.max(np.nanmean(cosine_similarity_trajectory, axis=1))\n"
     ]
    },
    {
     "name": "stdout",
     "output_type": "stream",
     "text": [
      "Trial list social length for experimentId 24 and playerId 0: 137\n",
      "106 high_low_trial_indices for player_id 0\n",
      "70 retrievable choices for player_id 0\n",
      "80 first visible walls for player_id 0\n",
      "58 filtered trials for player_id 0\n",
      "80 high_low_trial_indices for player_id 0\n",
      "80 retrievable choices for player_id 0\n",
      "52 first visible walls for player_id 0\n",
      "52 filtered trials for player_id 0\n"
     ]
    },
    {
     "name": "stderr",
     "output_type": "stream",
     "text": [
      "c:\\users\\tomha\\repos\\octagon_analysis\\trajectory_analysis\\trajectory_vectors.py:321: RuntimeWarning: invalid value encountered in scalar divide\n",
      "  cosine_similarity_this_wall = dot_product[wall_num]/(player_to_alcove_vector_norms[wall_num] * player_vector_norm)\n",
      "c:\\users\\tomha\\repos\\octagon_analysis\\analysis\\loser_inferred_choice.py:47: RuntimeWarning: Mean of empty slice\n",
      "  return np.argmax(np.nanmean(cosine_similarity_trajectory, axis=1))\n",
      "c:\\users\\tomha\\repos\\octagon_analysis\\analysis\\loser_inferred_choice.py:149: RuntimeWarning: Mean of empty slice\n",
      "  highest_alignment_val = np.max(np.nanmean(cosine_similarity_trajectory, axis=1))\n"
     ]
    },
    {
     "name": "stdout",
     "output_type": "stream",
     "text": [
      "Trial list social length for experimentId 24 and playerId 1: 137\n",
      "106 high_low_trial_indices for player_id 1\n",
      "100 retrievable choices for player_id 1\n",
      "50 first visible walls for player_id 1\n",
      "46 filtered trials for player_id 1\n",
      "90 high_low_trial_indices for player_id 0\n",
      "90 retrievable choices for player_id 0\n",
      "30 first visible walls for player_id 0\n",
      "30 filtered trials for player_id 0\n"
     ]
    },
    {
     "name": "stderr",
     "output_type": "stream",
     "text": [
      "c:\\users\\tomha\\repos\\octagon_analysis\\trajectory_analysis\\trajectory_vectors.py:321: RuntimeWarning: invalid value encountered in scalar divide\n",
      "  cosine_similarity_this_wall = dot_product[wall_num]/(player_to_alcove_vector_norms[wall_num] * player_vector_norm)\n",
      "c:\\users\\tomha\\repos\\octagon_analysis\\analysis\\loser_inferred_choice.py:47: RuntimeWarning: Mean of empty slice\n",
      "  return np.argmax(np.nanmean(cosine_similarity_trajectory, axis=1))\n",
      "c:\\users\\tomha\\repos\\octagon_analysis\\analysis\\loser_inferred_choice.py:149: RuntimeWarning: Mean of empty slice\n",
      "  highest_alignment_val = np.max(np.nanmean(cosine_similarity_trajectory, axis=1))\n"
     ]
    },
    {
     "name": "stdout",
     "output_type": "stream",
     "text": [
      "Trial list social length for experimentId 25 and playerId 0: 141\n",
      "104 high_low_trial_indices for player_id 0\n",
      "96 retrievable choices for player_id 0\n",
      "79 first visible walls for player_id 0\n",
      "73 filtered trials for player_id 0\n",
      "89 high_low_trial_indices for player_id 0\n",
      "89 retrievable choices for player_id 0\n",
      "71 first visible walls for player_id 0\n",
      "71 filtered trials for player_id 0\n"
     ]
    },
    {
     "name": "stderr",
     "output_type": "stream",
     "text": [
      "c:\\users\\tomha\\repos\\octagon_analysis\\trajectory_analysis\\trajectory_vectors.py:321: RuntimeWarning: invalid value encountered in scalar divide\n",
      "  cosine_similarity_this_wall = dot_product[wall_num]/(player_to_alcove_vector_norms[wall_num] * player_vector_norm)\n"
     ]
    },
    {
     "name": "stdout",
     "output_type": "stream",
     "text": [
      "Trial list social length for experimentId 25 and playerId 1: 141\n",
      "104 high_low_trial_indices for player_id 1\n"
     ]
    },
    {
     "name": "stderr",
     "output_type": "stream",
     "text": [
      "c:\\users\\tomha\\repos\\octagon_analysis\\analysis\\loser_inferred_choice.py:47: RuntimeWarning: Mean of empty slice\n",
      "  return np.argmax(np.nanmean(cosine_similarity_trajectory, axis=1))\n",
      "c:\\users\\tomha\\repos\\octagon_analysis\\analysis\\loser_inferred_choice.py:149: RuntimeWarning: Mean of empty slice\n",
      "  highest_alignment_val = np.max(np.nanmean(cosine_similarity_trajectory, axis=1))\n"
     ]
    },
    {
     "name": "stdout",
     "output_type": "stream",
     "text": [
      "95 retrievable choices for player_id 1\n",
      "82 first visible walls for player_id 1\n",
      "73 filtered trials for player_id 1\n",
      "94 high_low_trial_indices for player_id 0\n",
      "94 retrievable choices for player_id 0\n",
      "64 first visible walls for player_id 0\n",
      "64 filtered trials for player_id 0\n"
     ]
    },
    {
     "name": "stderr",
     "output_type": "stream",
     "text": [
      "c:\\users\\tomha\\repos\\octagon_analysis\\trajectory_analysis\\trajectory_vectors.py:321: RuntimeWarning: invalid value encountered in scalar divide\n",
      "  cosine_similarity_this_wall = dot_product[wall_num]/(player_to_alcove_vector_norms[wall_num] * player_vector_norm)\n",
      "c:\\users\\tomha\\repos\\octagon_analysis\\analysis\\loser_inferred_choice.py:47: RuntimeWarning: Mean of empty slice\n",
      "  return np.argmax(np.nanmean(cosine_similarity_trajectory, axis=1))\n",
      "c:\\users\\tomha\\repos\\octagon_analysis\\analysis\\loser_inferred_choice.py:149: RuntimeWarning: Mean of empty slice\n",
      "  highest_alignment_val = np.max(np.nanmean(cosine_similarity_trajectory, axis=1))\n"
     ]
    },
    {
     "name": "stdout",
     "output_type": "stream",
     "text": [
      "Trial list social length for experimentId 26 and playerId 0: 117\n",
      "93 high_low_trial_indices for player_id 0\n",
      "46 retrievable choices for player_id 0\n",
      "45 first visible walls for player_id 0\n",
      "26 filtered trials for player_id 0\n",
      "67 high_low_trial_indices for player_id 0\n",
      "67 retrievable choices for player_id 0\n",
      "40 first visible walls for player_id 0\n",
      "40 filtered trials for player_id 0\n"
     ]
    },
    {
     "name": "stderr",
     "output_type": "stream",
     "text": [
      "c:\\users\\tomha\\repos\\octagon_analysis\\trajectory_analysis\\trajectory_vectors.py:321: RuntimeWarning: invalid value encountered in scalar divide\n",
      "  cosine_similarity_this_wall = dot_product[wall_num]/(player_to_alcove_vector_norms[wall_num] * player_vector_norm)\n"
     ]
    },
    {
     "name": "stdout",
     "output_type": "stream",
     "text": [
      "Trial list social length for experimentId 26 and playerId 1: 117\n",
      "93 high_low_trial_indices for player_id 1\n"
     ]
    },
    {
     "name": "stderr",
     "output_type": "stream",
     "text": [
      "c:\\users\\tomha\\repos\\octagon_analysis\\analysis\\loser_inferred_choice.py:47: RuntimeWarning: Mean of empty slice\n",
      "  return np.argmax(np.nanmean(cosine_similarity_trajectory, axis=1))\n",
      "c:\\users\\tomha\\repos\\octagon_analysis\\analysis\\loser_inferred_choice.py:149: RuntimeWarning: Mean of empty slice\n",
      "  highest_alignment_val = np.max(np.nanmean(cosine_similarity_trajectory, axis=1))\n"
     ]
    },
    {
     "name": "stdout",
     "output_type": "stream",
     "text": [
      "82 retrievable choices for player_id 1\n",
      "69 first visible walls for player_id 1\n",
      "62 filtered trials for player_id 1\n",
      "58 high_low_trial_indices for player_id 0\n",
      "58 retrievable choices for player_id 0\n",
      "44 first visible walls for player_id 0\n",
      "44 filtered trials for player_id 0\n"
     ]
    },
    {
     "name": "stderr",
     "output_type": "stream",
     "text": [
      "c:\\users\\tomha\\repos\\octagon_analysis\\trajectory_analysis\\trajectory_vectors.py:321: RuntimeWarning: invalid value encountered in scalar divide\n",
      "  cosine_similarity_this_wall = dot_product[wall_num]/(player_to_alcove_vector_norms[wall_num] * player_vector_norm)\n",
      "c:\\users\\tomha\\repos\\octagon_analysis\\analysis\\loser_inferred_choice.py:47: RuntimeWarning: Mean of empty slice\n",
      "  return np.argmax(np.nanmean(cosine_similarity_trajectory, axis=1))\n",
      "c:\\users\\tomha\\repos\\octagon_analysis\\analysis\\loser_inferred_choice.py:149: RuntimeWarning: Mean of empty slice\n",
      "  highest_alignment_val = np.max(np.nanmean(cosine_similarity_trajectory, axis=1))\n"
     ]
    },
    {
     "name": "stdout",
     "output_type": "stream",
     "text": [
      "Trial list social length for experimentId 27 and playerId 0: 139\n",
      "114 high_low_trial_indices for player_id 0\n",
      "93 retrievable choices for player_id 0\n",
      "74 first visible walls for player_id 0\n",
      "56 filtered trials for player_id 0\n",
      "83 high_low_trial_indices for player_id 0\n",
      "83 retrievable choices for player_id 0\n",
      "50 first visible walls for player_id 0\n",
      "50 filtered trials for player_id 0\n",
      "Trial list social length for experimentId 27 and playerId 1: 139\n",
      "114 high_low_trial_indices for player_id 1\n"
     ]
    },
    {
     "name": "stderr",
     "output_type": "stream",
     "text": [
      "c:\\users\\tomha\\repos\\octagon_analysis\\analysis\\loser_inferred_choice.py:47: RuntimeWarning: Mean of empty slice\n",
      "  return np.argmax(np.nanmean(cosine_similarity_trajectory, axis=1))\n",
      "c:\\users\\tomha\\repos\\octagon_analysis\\analysis\\loser_inferred_choice.py:149: RuntimeWarning: Mean of empty slice\n",
      "  highest_alignment_val = np.max(np.nanmean(cosine_similarity_trajectory, axis=1))\n",
      "c:\\users\\tomha\\repos\\octagon_analysis\\trajectory_analysis\\trajectory_vectors.py:321: RuntimeWarning: invalid value encountered in scalar divide\n",
      "  cosine_similarity_this_wall = dot_product[wall_num]/(player_to_alcove_vector_norms[wall_num] * player_vector_norm)\n"
     ]
    },
    {
     "name": "stdout",
     "output_type": "stream",
     "text": [
      "107 retrievable choices for player_id 1\n",
      "75 first visible walls for player_id 1\n",
      "70 filtered trials for player_id 1\n",
      "98 high_low_trial_indices for player_id 0\n",
      "98 retrievable choices for player_id 0\n",
      "75 first visible walls for player_id 0\n",
      "75 filtered trials for player_id 0\n"
     ]
    },
    {
     "name": "stderr",
     "output_type": "stream",
     "text": [
      "c:\\users\\tomha\\repos\\octagon_analysis\\trajectory_analysis\\trajectory_vectors.py:321: RuntimeWarning: invalid value encountered in scalar divide\n",
      "  cosine_similarity_this_wall = dot_product[wall_num]/(player_to_alcove_vector_norms[wall_num] * player_vector_norm)\n"
     ]
    },
    {
     "name": "stdout",
     "output_type": "stream",
     "text": [
      "Trial list social length for experimentId 28 and playerId 0: 136\n",
      "110 high_low_trial_indices for player_id 0\n"
     ]
    },
    {
     "name": "stderr",
     "output_type": "stream",
     "text": [
      "c:\\users\\tomha\\repos\\octagon_analysis\\analysis\\loser_inferred_choice.py:47: RuntimeWarning: Mean of empty slice\n",
      "  return np.argmax(np.nanmean(cosine_similarity_trajectory, axis=1))\n",
      "c:\\users\\tomha\\repos\\octagon_analysis\\analysis\\loser_inferred_choice.py:149: RuntimeWarning: Mean of empty slice\n",
      "  highest_alignment_val = np.max(np.nanmean(cosine_similarity_trajectory, axis=1))\n"
     ]
    },
    {
     "name": "stdout",
     "output_type": "stream",
     "text": [
      "96 retrievable choices for player_id 0\n",
      "85 first visible walls for player_id 0\n",
      "75 filtered trials for player_id 0\n",
      "105 high_low_trial_indices for player_id 0\n",
      "105 retrievable choices for player_id 0\n",
      "76 first visible walls for player_id 0\n",
      "76 filtered trials for player_id 0\n",
      "Trial list social length for experimentId 28 and playerId 1: 136\n",
      "110 high_low_trial_indices for player_id 1\n"
     ]
    },
    {
     "name": "stderr",
     "output_type": "stream",
     "text": [
      "c:\\users\\tomha\\repos\\octagon_analysis\\trajectory_analysis\\trajectory_vectors.py:321: RuntimeWarning: invalid value encountered in scalar divide\n",
      "  cosine_similarity_this_wall = dot_product[wall_num]/(player_to_alcove_vector_norms[wall_num] * player_vector_norm)\n",
      "c:\\users\\tomha\\repos\\octagon_analysis\\analysis\\loser_inferred_choice.py:47: RuntimeWarning: Mean of empty slice\n",
      "  return np.argmax(np.nanmean(cosine_similarity_trajectory, axis=1))\n",
      "c:\\users\\tomha\\repos\\octagon_analysis\\analysis\\loser_inferred_choice.py:149: RuntimeWarning: Mean of empty slice\n",
      "  highest_alignment_val = np.max(np.nanmean(cosine_similarity_trajectory, axis=1))\n"
     ]
    },
    {
     "name": "stdout",
     "output_type": "stream",
     "text": [
      "93 retrievable choices for player_id 1\n",
      "70 first visible walls for player_id 1\n",
      "58 filtered trials for player_id 1\n",
      "99 high_low_trial_indices for player_id 0\n",
      "99 retrievable choices for player_id 0\n",
      "37 first visible walls for player_id 0\n",
      "37 filtered trials for player_id 0\n",
      "Trial list social length for experimentId 29 and playerId 0: 144\n",
      "115 high_low_trial_indices for player_id 0\n"
     ]
    },
    {
     "name": "stderr",
     "output_type": "stream",
     "text": [
      "c:\\users\\tomha\\repos\\octagon_analysis\\trajectory_analysis\\trajectory_vectors.py:321: RuntimeWarning: invalid value encountered in scalar divide\n",
      "  cosine_similarity_this_wall = dot_product[wall_num]/(player_to_alcove_vector_norms[wall_num] * player_vector_norm)\n",
      "c:\\users\\tomha\\repos\\octagon_analysis\\analysis\\loser_inferred_choice.py:47: RuntimeWarning: Mean of empty slice\n",
      "  return np.argmax(np.nanmean(cosine_similarity_trajectory, axis=1))\n",
      "c:\\users\\tomha\\repos\\octagon_analysis\\analysis\\loser_inferred_choice.py:149: RuntimeWarning: Mean of empty slice\n",
      "  highest_alignment_val = np.max(np.nanmean(cosine_similarity_trajectory, axis=1))\n"
     ]
    },
    {
     "name": "stdout",
     "output_type": "stream",
     "text": [
      "105 retrievable choices for player_id 0\n",
      "73 first visible walls for player_id 0\n",
      "66 filtered trials for player_id 0\n",
      "90 high_low_trial_indices for player_id 0\n",
      "90 retrievable choices for player_id 0\n",
      "61 first visible walls for player_id 0\n",
      "61 filtered trials for player_id 0\n"
     ]
    },
    {
     "name": "stderr",
     "output_type": "stream",
     "text": [
      "c:\\users\\tomha\\repos\\octagon_analysis\\trajectory_analysis\\trajectory_vectors.py:321: RuntimeWarning: invalid value encountered in scalar divide\n",
      "  cosine_similarity_this_wall = dot_product[wall_num]/(player_to_alcove_vector_norms[wall_num] * player_vector_norm)\n"
     ]
    },
    {
     "name": "stdout",
     "output_type": "stream",
     "text": [
      "Trial list social length for experimentId 29 and playerId 1: 144\n",
      "115 high_low_trial_indices for player_id 1\n"
     ]
    },
    {
     "name": "stderr",
     "output_type": "stream",
     "text": [
      "c:\\users\\tomha\\repos\\octagon_analysis\\analysis\\loser_inferred_choice.py:47: RuntimeWarning: Mean of empty slice\n",
      "  return np.argmax(np.nanmean(cosine_similarity_trajectory, axis=1))\n",
      "c:\\users\\tomha\\repos\\octagon_analysis\\analysis\\loser_inferred_choice.py:149: RuntimeWarning: Mean of empty slice\n",
      "  highest_alignment_val = np.max(np.nanmean(cosine_similarity_trajectory, axis=1))\n"
     ]
    },
    {
     "name": "stdout",
     "output_type": "stream",
     "text": [
      "107 retrievable choices for player_id 1\n",
      "38 first visible walls for player_id 1\n",
      "33 filtered trials for player_id 1\n",
      "106 high_low_trial_indices for player_id 0\n",
      "106 retrievable choices for player_id 0\n",
      "51 first visible walls for player_id 0\n",
      "51 filtered trials for player_id 0\n"
     ]
    },
    {
     "name": "stderr",
     "output_type": "stream",
     "text": [
      "c:\\users\\tomha\\repos\\octagon_analysis\\trajectory_analysis\\trajectory_vectors.py:321: RuntimeWarning: invalid value encountered in scalar divide\n",
      "  cosine_similarity_this_wall = dot_product[wall_num]/(player_to_alcove_vector_norms[wall_num] * player_vector_norm)\n",
      "c:\\users\\tomha\\repos\\octagon_analysis\\analysis\\loser_inferred_choice.py:47: RuntimeWarning: Mean of empty slice\n",
      "  return np.argmax(np.nanmean(cosine_similarity_trajectory, axis=1))\n",
      "c:\\users\\tomha\\repos\\octagon_analysis\\analysis\\loser_inferred_choice.py:149: RuntimeWarning: Mean of empty slice\n",
      "  highest_alignment_val = np.max(np.nanmean(cosine_similarity_trajectory, axis=1))\n"
     ]
    },
    {
     "name": "stdout",
     "output_type": "stream",
     "text": [
      "Trial list social length for experimentId 30 and playerId 0: 146\n",
      "115 high_low_trial_indices for player_id 0\n",
      "111 retrievable choices for player_id 0\n",
      "49 first visible walls for player_id 0\n",
      "49 filtered trials for player_id 0\n",
      "107 high_low_trial_indices for player_id 0\n",
      "107 retrievable choices for player_id 0\n",
      "67 first visible walls for player_id 0\n",
      "67 filtered trials for player_id 0\n"
     ]
    },
    {
     "name": "stderr",
     "output_type": "stream",
     "text": [
      "c:\\users\\tomha\\repos\\octagon_analysis\\trajectory_analysis\\trajectory_vectors.py:321: RuntimeWarning: invalid value encountered in scalar divide\n",
      "  cosine_similarity_this_wall = dot_product[wall_num]/(player_to_alcove_vector_norms[wall_num] * player_vector_norm)\n",
      "c:\\users\\tomha\\repos\\octagon_analysis\\analysis\\loser_inferred_choice.py:47: RuntimeWarning: Mean of empty slice\n",
      "  return np.argmax(np.nanmean(cosine_similarity_trajectory, axis=1))\n",
      "c:\\users\\tomha\\repos\\octagon_analysis\\analysis\\loser_inferred_choice.py:149: RuntimeWarning: Mean of empty slice\n",
      "  highest_alignment_val = np.max(np.nanmean(cosine_similarity_trajectory, axis=1))\n"
     ]
    },
    {
     "name": "stdout",
     "output_type": "stream",
     "text": [
      "Trial list social length for experimentId 30 and playerId 1: 146\n",
      "115 high_low_trial_indices for player_id 1\n",
      "90 retrievable choices for player_id 1\n",
      "78 first visible walls for player_id 1\n",
      "61 filtered trials for player_id 1\n",
      "77 high_low_trial_indices for player_id 0\n",
      "77 retrievable choices for player_id 0\n",
      "56 first visible walls for player_id 0\n",
      "56 filtered trials for player_id 0\n"
     ]
    },
    {
     "name": "stderr",
     "output_type": "stream",
     "text": [
      "c:\\users\\tomha\\repos\\octagon_analysis\\trajectory_analysis\\trajectory_vectors.py:321: RuntimeWarning: invalid value encountered in scalar divide\n",
      "  cosine_similarity_this_wall = dot_product[wall_num]/(player_to_alcove_vector_norms[wall_num] * player_vector_norm)\n"
     ]
    },
    {
     "name": "stdout",
     "output_type": "stream",
     "text": [
      "Trial list social length for experimentId 31 and playerId 0: 143\n",
      "115 high_low_trial_indices for player_id 0\n"
     ]
    },
    {
     "name": "stderr",
     "output_type": "stream",
     "text": [
      "c:\\users\\tomha\\repos\\octagon_analysis\\analysis\\loser_inferred_choice.py:47: RuntimeWarning: Mean of empty slice\n",
      "  return np.argmax(np.nanmean(cosine_similarity_trajectory, axis=1))\n",
      "c:\\users\\tomha\\repos\\octagon_analysis\\analysis\\loser_inferred_choice.py:149: RuntimeWarning: Mean of empty slice\n",
      "  highest_alignment_val = np.max(np.nanmean(cosine_similarity_trajectory, axis=1))\n"
     ]
    },
    {
     "name": "stdout",
     "output_type": "stream",
     "text": [
      "95 retrievable choices for player_id 0\n",
      "94 first visible walls for player_id 0\n",
      "76 filtered trials for player_id 0\n",
      "97 high_low_trial_indices for player_id 0\n",
      "97 retrievable choices for player_id 0\n",
      "80 first visible walls for player_id 0\n",
      "80 filtered trials for player_id 0\n"
     ]
    },
    {
     "name": "stderr",
     "output_type": "stream",
     "text": [
      "c:\\users\\tomha\\repos\\octagon_analysis\\trajectory_analysis\\trajectory_vectors.py:321: RuntimeWarning: invalid value encountered in scalar divide\n",
      "  cosine_similarity_this_wall = dot_product[wall_num]/(player_to_alcove_vector_norms[wall_num] * player_vector_norm)\n"
     ]
    },
    {
     "name": "stdout",
     "output_type": "stream",
     "text": [
      "Trial list social length for experimentId 31 and playerId 1: 143\n",
      "115 high_low_trial_indices for player_id 1\n"
     ]
    },
    {
     "name": "stderr",
     "output_type": "stream",
     "text": [
      "c:\\users\\tomha\\repos\\octagon_analysis\\analysis\\loser_inferred_choice.py:47: RuntimeWarning: Mean of empty slice\n",
      "  return np.argmax(np.nanmean(cosine_similarity_trajectory, axis=1))\n",
      "c:\\users\\tomha\\repos\\octagon_analysis\\analysis\\loser_inferred_choice.py:149: RuntimeWarning: Mean of empty slice\n",
      "  highest_alignment_val = np.max(np.nanmean(cosine_similarity_trajectory, axis=1))\n"
     ]
    },
    {
     "name": "stdout",
     "output_type": "stream",
     "text": [
      "105 retrievable choices for player_id 1\n",
      "90 first visible walls for player_id 1\n",
      "80 filtered trials for player_id 1\n",
      "103 high_low_trial_indices for player_id 0\n",
      "103 retrievable choices for player_id 0\n",
      "78 first visible walls for player_id 0\n",
      "78 filtered trials for player_id 0\n"
     ]
    },
    {
     "name": "stderr",
     "output_type": "stream",
     "text": [
      "c:\\users\\tomha\\repos\\octagon_analysis\\trajectory_analysis\\trajectory_vectors.py:321: RuntimeWarning: invalid value encountered in scalar divide\n",
      "  cosine_similarity_this_wall = dot_product[wall_num]/(player_to_alcove_vector_norms[wall_num] * player_vector_norm)\n",
      "c:\\users\\tomha\\repos\\octagon_analysis\\analysis\\loser_inferred_choice.py:47: RuntimeWarning: Mean of empty slice\n",
      "  return np.argmax(np.nanmean(cosine_similarity_trajectory, axis=1))\n",
      "c:\\users\\tomha\\repos\\octagon_analysis\\analysis\\loser_inferred_choice.py:149: RuntimeWarning: Mean of empty slice\n",
      "  highest_alignment_val = np.max(np.nanmean(cosine_similarity_trajectory, axis=1))\n"
     ]
    }
   ],
   "source": [
    "for experiment_id, players in analysis_results.items():\n",
    "    for player_id, data in players.items():\n",
    "        \n",
    "        # get the trial lists for this session and player\n",
    "        trial_list_social = trial_lists_social[experiment_id]\n",
    "        trial_list_solo = trial_lists_combined_solo[experiment_id*2 + player_id] # player_id used to select correct solo\n",
    "\n",
    "        # filter the trial list for regressor valid trials\n",
    "        print(f\"Trial list social length for experimentId {experiment_id} and playerId {player_id}: {len(trial_list_social)}\")\n",
    "        trial_list_social = [trial_list_social[i] for i in filter_valid_trial_indices(trial_list_social, player_id)]\n",
    "        trial_list_solo = [trial_list_solo[i] for i in filter_valid_trial_indices(trial_list_solo, player_id=0, solo=True)]\n",
    "        \n",
    "        ## social, use player_id == player_id and trial_list_social for functions\n",
    "        # regressors social\n",
    "        player_data = analysis_results[experiment_id][player_id]['social']\n",
    "        distances = extract_distances_to_walls(trial_list_social, player_id)\n",
    "        player_data['regressors']['wall_sep'] = extract_wall_sep(trial_list_social)\n",
    "        player_data['regressors']['first_seen'] = extract_first_wall_seen(trial_list_social, player_id)\n",
    "        player_data['regressors']['d2h'] = distances[:,0]\n",
    "        player_data['regressors']['d2l'] = distances[:,1]\n",
    "        player_data['regressors']['opponent_visible'] = extract_opponent_visibility_slice_onset(trial_list_social, player_id)\n",
    "\n",
    "        # dependent variable social\n",
    "        player_data['dependent']['choice'] = extract_player_choice(trial_list_social, player_id, inferred_choice=True)\n",
    "\n",
    "\n",
    "        ## solo, use player_id == 0 and trial_list_solo for functions\n",
    "        # regressors solo\n",
    "        player_data = analysis_results[experiment_id][player_id]['solo']\n",
    "        distances = extract_distances_to_walls(trial_list_solo, player_id=0)\n",
    "        player_data['regressors']['wall_sep'] = extract_wall_sep(trial_list_solo)\n",
    "        player_data['regressors']['first_seen'] = extract_first_wall_seen(trial_list_solo, player_id=0)\n",
    "        player_data['regressors']['d2h'] = distances[:,0]\n",
    "        player_data['regressors']['d2l'] = distances[:,1]\n",
    "\n",
    "        # dependent variable solo\n",
    "        player_data['dependent']['choice'] = extract_player_choice(trial_list_solo, player_id=0, inferred_choice=False) # no inferred for solo\n",
    "\n",
    "\n",
    "\n",
    "\n"
   ]
  },
  {
   "cell_type": "code",
   "execution_count": 14,
   "id": "0f72035d",
   "metadata": {},
   "outputs": [],
   "source": [
    "import pickle\n",
    "\n",
    "with open('analysis_results.pkl', 'wb') as f:\n",
    "    pickle.dump(analysis_results, f)\n",
    "\n",
    "\n",
    "# with open('analysis_results.pkl', 'rb') as f:\n",
    "#     analysis_results = pickle.load(f)"
   ]
  },
  {
   "cell_type": "markdown",
   "id": "84d8fe2a",
   "metadata": {},
   "source": [
    "#### Populate a dataframe, with a row for each trial, and fields for regressors (only including trials with fully-populated regressors)"
   ]
  },
  {
   "cell_type": "code",
   "execution_count": 15,
   "id": "08434f0d",
   "metadata": {},
   "outputs": [],
   "source": [
    "glm_df_social = pd.DataFrame()\n",
    "\n",
    "for session_id, players in analysis_results.items():\n",
    "    for player_id in players:\n",
    "        \n",
    "        # take each filtered_regressor array and fill the relevant df field for this player\n",
    "        player_data = analysis_results[session_id][player_id]['social']['regressors']\n",
    "        choice = analysis_results[session_id][player_id]['social']['dependent']['choice']\n",
    "        opponent_player_id = 1 if player_id == 0 else 1\n",
    "        opponent_player_data = analysis_results[session_id][opponent_player_id]['social']['regressors']\n",
    "        df_player = pd.DataFrame(\n",
    "                    {\n",
    "                        \"SessionID\" : session_id,\n",
    "                        \"PlayerID\" : player_id,\n",
    "                        \"GlmPlayerID\" : session_id*2 + player_id,\n",
    "                        \"ChooseHigh\" : choice,\n",
    "                        \"WallSep\" : player_data['wall_sep'],\n",
    "                        \"FirstSeenWall\" : player_data['first_seen'],\n",
    "                        \"D2H\" : player_data['d2h'],\n",
    "                        \"D2L\" : player_data['d2l'],\n",
    "                        \"OpponentVisible\" : player_data['opponent_visible'],\n",
    "                        # \"OpponentFirstSeenWall\" : opponent_player_data['first_seen'],\n",
    "                        # \"OpponentD2H\" : opponent_player_data['d2h'],\n",
    "                        # \"OpponentD2L\" : opponent_player_data['d2l']\n",
    "                        \n",
    "                    }\n",
    "        )\n",
    "\n",
    "\n",
    "        # append this smaller dataframe to the the full dataframe\n",
    "        glm_df_social = pd.concat([glm_df_social, df_player], ignore_index=True)\n",
    "\n",
    "\n",
    "\n",
    "glm_df_social[\"FirstSeenWall\"] = glm_df_social[\"FirstSeenWall\"].astype(\"category\")\n",
    "glm_df_social[\"WallSep\"] = glm_df_social[\"WallSep\"].astype(\"category\")"
   ]
  },
  {
   "cell_type": "code",
   "execution_count": 16,
   "id": "e4587511",
   "metadata": {},
   "outputs": [],
   "source": [
    "glm_df_solo = pd.DataFrame()\n",
    "\n",
    "for session_id, players in analysis_results.items():\n",
    "    for player_id in players:\n",
    "        \n",
    "        # take each filtered_regressor array and fill the relevant df field for this player\n",
    "        player_data = analysis_results[session_id][player_id]['solo']['regressors']\n",
    "        choice = analysis_results[session_id][player_id]['solo']['dependent']['choice']\n",
    "        df_player = pd.DataFrame(\n",
    "                    {\n",
    "                        \"SessionID\" : session_id,\n",
    "                        \"PlayerID\" : player_id,\n",
    "                        \"GlmPlayerID\" : session_id,\n",
    "                        \"ChooseHigh\" : choice,\n",
    "                        \"WallSep\" : player_data['wall_sep'],\n",
    "                        \"FirstSeenWall\" : player_data['first_seen'],\n",
    "                        \"D2H\" : player_data['d2h'],\n",
    "                        \"D2L\" : player_data['d2l']\n",
    "                    }\n",
    "        )\n",
    "\n",
    "        # append this smaller dataframe to the the full dataframe\n",
    "        glm_df_solo = pd.concat([glm_df_solo, df_player], ignore_index=True)\n",
    "\n",
    "\n",
    "glm_df_solo[\"FirstSeenWall\"] = glm_df_solo[\"FirstSeenWall\"].astype(\"category\")\n",
    "glm_df_solo[\"WallSep\"] = glm_df_solo[\"WallSep\"].astype(\"category\")"
   ]
  },
  {
   "cell_type": "code",
   "execution_count": 21,
   "id": "de595554",
   "metadata": {},
   "outputs": [
    {
     "data": {
      "text/plain": [
       "400    0.0\n",
       "401    1.0\n",
       "402    0.0\n",
       "403    1.0\n",
       "404   -1.0\n",
       "405    1.0\n",
       "406    1.0\n",
       "407    1.0\n",
       "408   -1.0\n",
       "409    0.0\n",
       "410    1.0\n",
       "411    1.0\n",
       "412    1.0\n",
       "413    0.0\n",
       "414    1.0\n",
       "415    1.0\n",
       "416    1.0\n",
       "417    0.0\n",
       "418    1.0\n",
       "419    0.0\n",
       "420    1.0\n",
       "421   -1.0\n",
       "422    0.0\n",
       "423    1.0\n",
       "424    1.0\n",
       "425   -1.0\n",
       "426    1.0\n",
       "427    1.0\n",
       "428    1.0\n",
       "429    0.0\n",
       "430    1.0\n",
       "431    1.0\n",
       "432    1.0\n",
       "433    0.0\n",
       "434    1.0\n",
       "435    1.0\n",
       "436   -1.0\n",
       "437    1.0\n",
       "438    1.0\n",
       "439    1.0\n",
       "440    0.0\n",
       "441    0.0\n",
       "442    0.0\n",
       "443    1.0\n",
       "444    1.0\n",
       "445    0.0\n",
       "446    1.0\n",
       "447    1.0\n",
       "448    1.0\n",
       "449    0.0\n",
       "Name: ChooseHigh, dtype: float64"
      ]
     },
     "execution_count": 21,
     "metadata": {},
     "output_type": "execute_result"
    }
   ],
   "source": [
    "glm_df_social['ChooseHigh'][400:450]"
   ]
  },
  {
   "cell_type": "markdown",
   "id": "fb33dbb2",
   "metadata": {},
   "source": [
    "#### GLM Code in Pymer4"
   ]
  },
  {
   "cell_type": "code",
   "execution_count": 4,
   "id": "ed1f8ca3",
   "metadata": {},
   "outputs": [
    {
     "name": "stderr",
     "output_type": "stream",
     "text": [
      "R version 4.1.3 (2022-03-10) -- \"One Push-Up\"\n",
      "Copyright (C) 2022 The R Foundation for Statistical Computing\n",
      "Platform: x86_64-w64-mingw32/x64 (64-bit)\n",
      "\n",
      "R is free software and comes with ABSOLUTELY NO WARRANTY.\n",
      "You are welcome to redistribute it under the terms of the\n",
      "GNU General Public License versions 2 or 3.\n",
      "For more information about these matters see\n",
      "https://www.gnu.org/licenses/.\n",
      "\n"
     ]
    }
   ],
   "source": [
    "!R --version\n"
   ]
  },
  {
   "cell_type": "code",
   "execution_count": 7,
   "id": "172a3314",
   "metadata": {},
   "outputs": [
    {
     "name": "stdout",
     "output_type": "stream",
     "text": [
      "boundary (singular) fit: see help('isSingular') \n",
      "\n",
      "Linear mixed model fit by maximum likelihood  ['lmerMod']\n",
      "Formula: y~x+(1|group)\n",
      "\n",
      "Family: binomial\t Inference: parametric\n",
      "\n",
      "Number of observations: 6\t Groups: {'group': 3.0}\n",
      "\n",
      "Log-likelihood: -4.130 \t AIC: 14.260\n",
      "\n",
      "Random effects:\n",
      "\n",
      "              Name  Var  Std\n",
      "group  (Intercept)  0.0  0.0\n",
      "\n",
      "No random effect correlations specified\n",
      "\n",
      "Fixed effects:\n",
      "\n"
     ]
    },
    {
     "name": "stderr",
     "output_type": "stream",
     "text": [
      "c:\\Users\\tomha\\miniconda3\\envs\\octagon_analysis\\Lib\\site-packages\\pymer4\\models\\Lmer.py:733: FutureWarning: DataFrame.applymap has been deprecated. Use DataFrame.map instead.\n",
      "  ran_vars = ran_vars.applymap(\n"
     ]
    },
    {
     "data": {
      "text/html": [
       "<div>\n",
       "<style scoped>\n",
       "    .dataframe tbody tr th:only-of-type {\n",
       "        vertical-align: middle;\n",
       "    }\n",
       "\n",
       "    .dataframe tbody tr th {\n",
       "        vertical-align: top;\n",
       "    }\n",
       "\n",
       "    .dataframe thead th {\n",
       "        text-align: right;\n",
       "    }\n",
       "</style>\n",
       "<table border=\"1\" class=\"dataframe\">\n",
       "  <thead>\n",
       "    <tr style=\"text-align: right;\">\n",
       "      <th></th>\n",
       "      <th>Estimate</th>\n",
       "      <th>2.5_ci</th>\n",
       "      <th>97.5_ci</th>\n",
       "      <th>SE</th>\n",
       "      <th>OR</th>\n",
       "      <th>OR_2.5_ci</th>\n",
       "      <th>OR_97.5_ci</th>\n",
       "      <th>Prob</th>\n",
       "      <th>Prob_2.5_ci</th>\n",
       "      <th>Prob_97.5_ci</th>\n",
       "      <th>Z-stat</th>\n",
       "      <th>P-val</th>\n",
       "      <th>Sig</th>\n",
       "    </tr>\n",
       "  </thead>\n",
       "  <tbody>\n",
       "    <tr>\n",
       "      <th>(Intercept)</th>\n",
       "      <td>-0.402</td>\n",
       "      <td>-4.079</td>\n",
       "      <td>3.275</td>\n",
       "      <td>1.876</td>\n",
       "      <td>0.669</td>\n",
       "      <td>0.017</td>\n",
       "      <td>26.442</td>\n",
       "      <td>0.401</td>\n",
       "      <td>0.017</td>\n",
       "      <td>0.964</td>\n",
       "      <td>-0.214</td>\n",
       "      <td>0.830</td>\n",
       "      <td></td>\n",
       "    </tr>\n",
       "    <tr>\n",
       "      <th>x</th>\n",
       "      <td>0.115</td>\n",
       "      <td>-0.830</td>\n",
       "      <td>1.060</td>\n",
       "      <td>0.482</td>\n",
       "      <td>1.122</td>\n",
       "      <td>0.436</td>\n",
       "      <td>2.886</td>\n",
       "      <td>0.529</td>\n",
       "      <td>0.304</td>\n",
       "      <td>0.743</td>\n",
       "      <td>0.238</td>\n",
       "      <td>0.812</td>\n",
       "      <td></td>\n",
       "    </tr>\n",
       "  </tbody>\n",
       "</table>\n",
       "</div>"
      ],
      "text/plain": [
       "             Estimate  2.5_ci  97.5_ci     SE     OR  OR_2.5_ci  OR_97.5_ci   Prob  Prob_2.5_ci  Prob_97.5_ci  Z-stat  P-val Sig\n",
       "(Intercept)    -0.402  -4.079    3.275  1.876  0.669      0.017      26.442  0.401        0.017         0.964  -0.214  0.830    \n",
       "x               0.115  -0.830    1.060  0.482  1.122      0.436       2.886  0.529        0.304         0.743   0.238  0.812    "
      ]
     },
     "execution_count": 7,
     "metadata": {},
     "output_type": "execute_result"
    }
   ],
   "source": [
    "from pymer4.models import Lmer\n",
    "import pandas as pd\n",
    "\n",
    "df = pd.DataFrame({\n",
    "    \"y\": [0, 1, 0, 1, 1, 0],\n",
    "    \"x\": [1, 2, 3, 4, 5, 6],\n",
    "    \"group\": [\"A\", \"A\", \"B\", \"B\", \"C\", \"C\"]\n",
    "})\n",
    "\n",
    "model = Lmer(\"y ~ x + (1|group)\", data=df, family='binomial')\n",
    "model.fit()"
   ]
  },
  {
   "cell_type": "code",
   "execution_count": 30,
   "id": "0a7d573f",
   "metadata": {},
   "outputs": [
    {
     "data": {
      "text/plain": [
       "0       2.0\n",
       "1       1.0\n",
       "2       2.0\n",
       "3       2.0\n",
       "4       1.0\n",
       "       ... \n",
       "2791    NaN\n",
       "2792    NaN\n",
       "2793    NaN\n",
       "2794    NaN\n",
       "2795    NaN\n",
       "Name: ChooseHigh, Length: 2796, dtype: float64"
      ]
     },
     "execution_count": 30,
     "metadata": {},
     "output_type": "execute_result"
    }
   ],
   "source": [
    "glm_df_solo['ChooseHigh']"
   ]
  },
  {
   "cell_type": "code",
   "execution_count": 28,
   "id": "7bc72ab8",
   "metadata": {},
   "outputs": [
    {
     "name": "stderr",
     "output_type": "stream",
     "text": [
      "c:\\Users\\tomha\\miniconda3\\envs\\octagon_analysis\\Lib\\site-packages\\rpy2\\robjects\\pandas2ri.py:65: UserWarning: Error while trying to convert the column \"WallSep\". Fall back to string conversion. The error is: Converting pandas \"Category\" series to R factor is only possible when categories are strings.\n",
      "  warnings.warn('Error while trying to convert '\n",
      "c:\\Users\\tomha\\miniconda3\\envs\\octagon_analysis\\Lib\\site-packages\\rpy2\\robjects\\pandas2ri.py:65: UserWarning: Error while trying to convert the column \"FirstSeenWall\". Fall back to string conversion. The error is: Converting pandas \"Category\" series to R factor is only possible when categories are strings.\n",
      "  warnings.warn('Error while trying to convert '\n"
     ]
    },
    {
     "ename": "RRuntimeError",
     "evalue": "Error in eval(family$initialize, rho) : y values must be 0 <= y <= 1\n",
     "output_type": "error",
     "traceback": [
      "\u001b[1;31m---------------------------------------------------------------------------\u001b[0m",
      "\u001b[1;31mRRuntimeError\u001b[0m                             Traceback (most recent call last)",
      "Cell \u001b[1;32mIn[28], line 9\u001b[0m\n\u001b[0;32m      4\u001b[0m \u001b[38;5;66;03m# model_formula = 'ChooseHigh ~ D2H + D2L + FirstSeenWall + WallSep + (D2H + D2L + FirstSeenWall + WallSep | GlmPlayerID)'\u001b[39;00m\n\u001b[0;32m      5\u001b[0m \u001b[38;5;66;03m# model_formula = 'ChooseHigh ~ D2H + D2L + FirstSeenWall + WallSep + (1 + D2H + D2L + FirstSeenWall || GlmPlayerID)'\u001b[39;00m\n\u001b[0;32m      8\u001b[0m model \u001b[38;5;241m=\u001b[39m Lmer(model_formula, data\u001b[38;5;241m=\u001b[39mglm_df_solo, family\u001b[38;5;241m=\u001b[39m\u001b[38;5;124m'\u001b[39m\u001b[38;5;124mbinomial\u001b[39m\u001b[38;5;124m'\u001b[39m)\n\u001b[1;32m----> 9\u001b[0m results\u001b[38;5;241m=\u001b[39m\u001b[43mmodel\u001b[49m\u001b[38;5;241;43m.\u001b[39;49m\u001b[43mfit\u001b[49m\u001b[43m(\u001b[49m\u001b[43m)\u001b[49m\n\u001b[0;32m     11\u001b[0m \u001b[38;5;28mprint\u001b[39m(results)\n",
      "File \u001b[1;32mc:\\Users\\tomha\\miniconda3\\envs\\octagon_analysis\\Lib\\site-packages\\pymer4\\models\\Lmer.py:440\u001b[0m, in \u001b[0;36mLmer.fit\u001b[1;34m(self, conf_int, n_boot, factors, permute, ordered, verbose, REML, rank, rank_group, rank_exclude_cols, no_warnings, control, old_optimizer, **kwargs)\u001b[0m\n\u001b[0;32m    438\u001b[0m         _fam \u001b[38;5;241m=\u001b[39m \u001b[38;5;28mself\u001b[39m\u001b[38;5;241m.\u001b[39mfamily\n\u001b[0;32m    439\u001b[0m     lmc \u001b[38;5;241m=\u001b[39m robjects\u001b[38;5;241m.\u001b[39mr(\u001b[38;5;124mf\u001b[39m\u001b[38;5;124m\"\u001b[39m\u001b[38;5;124mglmerControl(\u001b[39m\u001b[38;5;132;01m{\u001b[39;00mcontrol\u001b[38;5;132;01m}\u001b[39;00m\u001b[38;5;124m)\u001b[39m\u001b[38;5;124m\"\u001b[39m)\n\u001b[1;32m--> 440\u001b[0m     \u001b[38;5;28mself\u001b[39m\u001b[38;5;241m.\u001b[39mmodel_obj \u001b[38;5;241m=\u001b[39m \u001b[43mlmer\u001b[49m\u001b[38;5;241;43m.\u001b[39;49m\u001b[43mglmer\u001b[49m\u001b[43m(\u001b[49m\n\u001b[0;32m    441\u001b[0m \u001b[43m        \u001b[49m\u001b[38;5;28;43mself\u001b[39;49m\u001b[38;5;241;43m.\u001b[39;49m\u001b[43mformula\u001b[49m\u001b[43m,\u001b[49m\n\u001b[0;32m    442\u001b[0m \u001b[43m        \u001b[49m\u001b[43mdata\u001b[49m\u001b[38;5;241;43m=\u001b[39;49m\u001b[43mdata\u001b[49m\u001b[43m,\u001b[49m\n\u001b[0;32m    443\u001b[0m \u001b[43m        \u001b[49m\u001b[43mfamily\u001b[49m\u001b[38;5;241;43m=\u001b[39;49m\u001b[43m_fam\u001b[49m\u001b[43m,\u001b[49m\n\u001b[0;32m    444\u001b[0m \u001b[43m        \u001b[49m\u001b[43mcontrol\u001b[49m\u001b[38;5;241;43m=\u001b[39;49m\u001b[43mlmc\u001b[49m\u001b[43m,\u001b[49m\n\u001b[0;32m    445\u001b[0m \u001b[43m        \u001b[49m\u001b[43mcontrasts\u001b[49m\u001b[38;5;241;43m=\u001b[39;49m\u001b[43mcontrasts\u001b[49m\u001b[43m,\u001b[49m\n\u001b[0;32m    446\u001b[0m \u001b[43m    \u001b[49m\u001b[43m)\u001b[49m\n\u001b[0;32m    448\u001b[0m \u001b[38;5;66;03m# Store design matrix and get number of IVs for inference\u001b[39;00m\n\u001b[0;32m    449\u001b[0m design_matrix \u001b[38;5;241m=\u001b[39m stats\u001b[38;5;241m.\u001b[39mmodel_matrix(\u001b[38;5;28mself\u001b[39m\u001b[38;5;241m.\u001b[39mmodel_obj)\n",
      "File \u001b[1;32mc:\\Users\\tomha\\miniconda3\\envs\\octagon_analysis\\Lib\\site-packages\\rpy2\\robjects\\functions.py:208\u001b[0m, in \u001b[0;36mSignatureTranslatedFunction.__call__\u001b[1;34m(self, *args, **kwargs)\u001b[0m\n\u001b[0;32m    206\u001b[0m         v \u001b[38;5;241m=\u001b[39m kwargs\u001b[38;5;241m.\u001b[39mpop(k)\n\u001b[0;32m    207\u001b[0m         kwargs[r_k] \u001b[38;5;241m=\u001b[39m v\n\u001b[1;32m--> 208\u001b[0m \u001b[38;5;28;01mreturn\u001b[39;00m (\u001b[38;5;28;43msuper\u001b[39;49m\u001b[43m(\u001b[49m\u001b[43mSignatureTranslatedFunction\u001b[49m\u001b[43m,\u001b[49m\u001b[43m \u001b[49m\u001b[38;5;28;43mself\u001b[39;49m\u001b[43m)\u001b[49m\n\u001b[0;32m    209\u001b[0m \u001b[43m        \u001b[49m\u001b[38;5;241;43m.\u001b[39;49m\u001b[38;5;21;43m__call__\u001b[39;49m\u001b[43m(\u001b[49m\u001b[38;5;241;43m*\u001b[39;49m\u001b[43margs\u001b[49m\u001b[43m,\u001b[49m\u001b[43m \u001b[49m\u001b[38;5;241;43m*\u001b[39;49m\u001b[38;5;241;43m*\u001b[39;49m\u001b[43mkwargs\u001b[49m\u001b[43m)\u001b[49m)\n",
      "File \u001b[1;32mc:\\Users\\tomha\\miniconda3\\envs\\octagon_analysis\\Lib\\site-packages\\rpy2\\robjects\\functions.py:131\u001b[0m, in \u001b[0;36mFunction.__call__\u001b[1;34m(self, *args, **kwargs)\u001b[0m\n\u001b[0;32m    129\u001b[0m     \u001b[38;5;28;01melse\u001b[39;00m:\n\u001b[0;32m    130\u001b[0m         new_kwargs[k] \u001b[38;5;241m=\u001b[39m cv\u001b[38;5;241m.\u001b[39mpy2rpy(v)\n\u001b[1;32m--> 131\u001b[0m res \u001b[38;5;241m=\u001b[39m \u001b[38;5;28;43msuper\u001b[39;49m\u001b[43m(\u001b[49m\u001b[43mFunction\u001b[49m\u001b[43m,\u001b[49m\u001b[43m \u001b[49m\u001b[38;5;28;43mself\u001b[39;49m\u001b[43m)\u001b[49m\u001b[38;5;241;43m.\u001b[39;49m\u001b[38;5;21;43m__call__\u001b[39;49m\u001b[43m(\u001b[49m\u001b[38;5;241;43m*\u001b[39;49m\u001b[43mnew_args\u001b[49m\u001b[43m,\u001b[49m\u001b[43m \u001b[49m\u001b[38;5;241;43m*\u001b[39;49m\u001b[38;5;241;43m*\u001b[39;49m\u001b[43mnew_kwargs\u001b[49m\u001b[43m)\u001b[49m\n\u001b[0;32m    132\u001b[0m res \u001b[38;5;241m=\u001b[39m cv\u001b[38;5;241m.\u001b[39mrpy2py(res)\n\u001b[0;32m    133\u001b[0m \u001b[38;5;28;01mreturn\u001b[39;00m res\n",
      "File \u001b[1;32mc:\\Users\\tomha\\miniconda3\\envs\\octagon_analysis\\Lib\\site-packages\\rpy2\\rinterface_lib\\conversion.py:45\u001b[0m, in \u001b[0;36m_cdata_res_to_rinterface.<locals>._\u001b[1;34m(*args, **kwargs)\u001b[0m\n\u001b[0;32m     44\u001b[0m \u001b[38;5;28;01mdef\u001b[39;00m \u001b[38;5;21m_\u001b[39m(\u001b[38;5;241m*\u001b[39margs, \u001b[38;5;241m*\u001b[39m\u001b[38;5;241m*\u001b[39mkwargs):\n\u001b[1;32m---> 45\u001b[0m     cdata \u001b[38;5;241m=\u001b[39m \u001b[43mfunction\u001b[49m\u001b[43m(\u001b[49m\u001b[38;5;241;43m*\u001b[39;49m\u001b[43margs\u001b[49m\u001b[43m,\u001b[49m\u001b[43m \u001b[49m\u001b[38;5;241;43m*\u001b[39;49m\u001b[38;5;241;43m*\u001b[39;49m\u001b[43mkwargs\u001b[49m\u001b[43m)\u001b[49m\n\u001b[0;32m     46\u001b[0m     \u001b[38;5;66;03m# TODO: test cdata is of the expected CType\u001b[39;00m\n\u001b[0;32m     47\u001b[0m     \u001b[38;5;28;01mreturn\u001b[39;00m _cdata_to_rinterface(cdata)\n",
      "File \u001b[1;32mc:\\Users\\tomha\\miniconda3\\envs\\octagon_analysis\\Lib\\site-packages\\rpy2\\rinterface.py:817\u001b[0m, in \u001b[0;36mSexpClosure.__call__\u001b[1;34m(self, *args, **kwargs)\u001b[0m\n\u001b[0;32m    810\u001b[0m     res \u001b[38;5;241m=\u001b[39m rmemory\u001b[38;5;241m.\u001b[39mprotect(\n\u001b[0;32m    811\u001b[0m         openrlib\u001b[38;5;241m.\u001b[39mrlib\u001b[38;5;241m.\u001b[39mR_tryEval(\n\u001b[0;32m    812\u001b[0m             call_r,\n\u001b[0;32m    813\u001b[0m             call_context\u001b[38;5;241m.\u001b[39m__sexp__\u001b[38;5;241m.\u001b[39m_cdata,\n\u001b[0;32m    814\u001b[0m             error_occured)\n\u001b[0;32m    815\u001b[0m     )\n\u001b[0;32m    816\u001b[0m     \u001b[38;5;28;01mif\u001b[39;00m error_occured[\u001b[38;5;241m0\u001b[39m]:\n\u001b[1;32m--> 817\u001b[0m         \u001b[38;5;28;01mraise\u001b[39;00m embedded\u001b[38;5;241m.\u001b[39mRRuntimeError(_rinterface\u001b[38;5;241m.\u001b[39m_geterrmessage())\n\u001b[0;32m    818\u001b[0m \u001b[38;5;28;01mreturn\u001b[39;00m res\n",
      "\u001b[1;31mRRuntimeError\u001b[0m: Error in eval(family$initialize, rho) : y values must be 0 <= y <= 1\n"
     ]
    }
   ],
   "source": [
    "from pymer4.models import Lmer\n",
    "\n",
    "model_formula = 'ChooseHigh ~ D2L + D2H + FirstSeenWall + WallSep + (1|GlmPlayerID)'\n",
    "# model_formula = 'ChooseHigh ~ D2H + D2L + FirstSeenWall + WallSep + (D2H + D2L + FirstSeenWall + WallSep | GlmPlayerID)'\n",
    "# model_formula = 'ChooseHigh ~ D2H + D2L + FirstSeenWall + WallSep + (1 + D2H + D2L + FirstSeenWall || GlmPlayerID)'\n",
    "\n",
    "\n",
    "model = Lmer(model_formula, data=glm_df_solo, family='binomial')\n",
    "results=model.fit()\n",
    "\n",
    "print(results)"
   ]
  },
  {
   "cell_type": "code",
   "execution_count": 58,
   "id": "744c5277",
   "metadata": {},
   "outputs": [
    {
     "name": "stdout",
     "output_type": "stream",
     "text": [
      "                  Estimate  2.5_ci  97.5_ci     SE     OR  OR_2.5_ci  OR_97.5_ci   Prob  Prob_2.5_ci  Prob_97.5_ci  Z-stat  P-val Sig\n",
      "(Intercept)         -0.112  -0.458    0.234  0.176  0.894      0.633       1.263  0.472        0.388         0.558  -0.635  0.525    \n",
      "D2H                  0.011  -0.001    0.023  0.006  1.011      0.999       1.023  0.503        0.500         0.506   1.859  0.063   .\n",
      "D2L                 -0.005  -0.016    0.007  0.006  0.995      0.984       1.007  0.499        0.496         0.502  -0.787  0.431    \n",
      "FirstSeenWall2.0    -0.029  -0.184    0.125  0.079  0.971      0.832       1.133  0.493        0.454         0.531  -0.371  0.711    \n",
      "WallSep2.0           0.036  -0.148    0.221  0.094  1.037      0.862       1.247  0.509        0.463         0.555   0.385  0.700    \n",
      "WallSep4.0           0.031  -0.149    0.212  0.092  1.032      0.862       1.236  0.508        0.463         0.553   0.342  0.733    \n"
     ]
    }
   ],
   "source": [
    "print(results)"
   ]
  },
  {
   "cell_type": "code",
   "execution_count": 9,
   "id": "a42e5bf6",
   "metadata": {},
   "outputs": [
    {
     "name": "stdout",
     "output_type": "stream",
     "text": [
      "Model failed to converge with max|grad| = 0.0161223 (tol = 0.002, component 1) \n",
      "\n",
      "Linear mixed model fit by maximum likelihood  ['lmerMod']\n",
      "Formula: ChooseHigh~D2H+D2L+FirstSeenWall+WallSep+OpponentVisible+(1+D2H+D2L+FirstSeenWall+OpponentVisible||GlmPlayerID)\n",
      "\n",
      "Family: binomial\t Inference: parametric\n",
      "\n",
      "Number of observations: 4010\t Groups: {'GlmPlayerID': 64.0}\n",
      "\n",
      "Log-likelihood: -2470.460 \t AIC: 4968.921\n",
      "\n",
      "Random effects:\n",
      "\n",
      "                           Name    Var    Std\n",
      "GlmPlayerID         (Intercept)  0.001  0.032\n",
      "GlmPlayerID.1               D2H  0.000  0.013\n",
      "GlmPlayerID.2               D2L  0.000  0.021\n",
      "GlmPlayerID.3  FirstSeenWall1.0  0.335  0.579\n",
      "GlmPlayerID.3  FirstSeenWall2.0  0.367  0.606\n",
      "GlmPlayerID.4   OpponentVisible  0.102  0.319\n",
      "\n",
      "                            IV1               IV2  Corr\n",
      "GlmPlayerID.3  FirstSeenWall1.0  FirstSeenWall2.0   1.0\n",
      "\n",
      "Fixed effects:\n",
      "\n",
      "                  Estimate  2.5_ci  97.5_ci     SE      OR  OR_2.5_ci  OR_97.5_ci   Prob  Prob_2.5_ci  Prob_97.5_ci  Z-stat  P-val  Sig\n",
      "(Intercept)          3.314   2.873    3.755  0.225  27.496     17.698      42.719  0.965        0.947         0.977  14.742  0.000  ***\n",
      "D2H                 -0.082  -0.096   -0.069  0.007   0.921      0.908       0.934  0.479        0.476         0.483 -11.760  0.000  ***\n",
      "D2L                 -0.073  -0.087   -0.059  0.007   0.929      0.916       0.943  0.482        0.478         0.485 -10.043  0.000  ***\n",
      "FirstSeenWall2.0    -0.191  -0.334   -0.048  0.073   0.826      0.716       0.953  0.452        0.417         0.488  -2.619  0.009   **\n",
      "WallSep2.0           0.127  -0.047    0.300  0.089   1.135      0.954       1.350  0.532        0.488         0.574   1.431  0.153     \n",
      "WallSep4.0           0.150  -0.017    0.318  0.085   1.162      0.983       1.374  0.537        0.496         0.579   1.758  0.079    .\n",
      "OpponentVisible     -0.150  -0.322    0.022  0.088   0.861      0.725       1.022  0.463        0.420         0.506  -1.708  0.088    .\n"
     ]
    },
    {
     "name": "stderr",
     "output_type": "stream",
     "text": [
      "c:\\Users\\tomha\\miniconda3\\envs\\octagon_analysis\\Lib\\site-packages\\pymer4\\models\\Lmer.py:733: FutureWarning: DataFrame.applymap has been deprecated. Use DataFrame.map instead.\n",
      "  ran_vars = ran_vars.applymap(\n",
      "c:\\Users\\tomha\\miniconda3\\envs\\octagon_analysis\\Lib\\site-packages\\pymer4\\models\\Lmer.py:744: FutureWarning: DataFrame.applymap has been deprecated. Use DataFrame.map instead.\n",
      "  ran_corrs = ran_corrs.applymap(\n"
     ]
    }
   ],
   "source": [
    "from pymer4.models import Lmer\n",
    "\n",
    "# model_formula = 'ChooseHigh ~ D2L + D2H + FirstSeenWall + WallSep + OpponentVisible + (1|GlmPlayerID)'\n",
    "# model_formula = 'ChooseHigh ~ D2H + D2L + FirstSeenWall + WallSep + OpponentVisible + (D2H + D2L + FirstSeenWall + WallSep | GlmPlayerID)'\n",
    "model_formula = 'ChooseHigh ~ D2H + D2L + FirstSeenWall + WallSep + OpponentVisible + (1 + D2H + D2L + FirstSeenWall + OpponentVisible || GlmPlayerID)'\n",
    "\n",
    "\n",
    "model = Lmer(model_formula, data=glm_df_social, family='binomial')\n",
    "results=model.fit()\n",
    "\n",
    "print(results)"
   ]
  },
  {
   "cell_type": "code",
   "execution_count": 52,
   "id": "00b6c678",
   "metadata": {},
   "outputs": [
    {
     "name": "stdout",
     "output_type": "stream",
     "text": [
      "                  Estimate  2.5_ci  97.5_ci     SE      OR  OR_2.5_ci  OR_97.5_ci   Prob  Prob_2.5_ci  Prob_97.5_ci  Z-stat  P-val  Sig\n",
      "(Intercept)          3.204   2.774    3.634  0.219  24.638     16.025      37.879  0.961        0.941         0.974  14.601  0.000  ***\n",
      "D2H                 -0.081  -0.094   -0.067  0.007   0.922      0.910       0.935  0.480        0.476         0.483 -11.807  0.000  ***\n",
      "D2L                 -0.072  -0.086   -0.058  0.007   0.931      0.918       0.944  0.482        0.479         0.486 -10.011  0.000  ***\n",
      "FirstSeenWall2.0    -0.186  -0.328   -0.044  0.072   0.830      0.721       0.957  0.454        0.419         0.489  -2.567  0.010    *\n",
      "WallSep2.0           0.125  -0.047    0.298  0.088   1.134      0.954       1.347  0.531        0.488         0.574   1.423  0.155     \n",
      "WallSep4.0           0.145  -0.022    0.311  0.085   1.156      0.978       1.365  0.536        0.495         0.577   1.703  0.088    .\n"
     ]
    }
   ],
   "source": [
    "print(results)"
   ]
  }
 ],
 "metadata": {
  "kernelspec": {
   "display_name": "octagon_analysis",
   "language": "python",
   "name": "python3"
  },
  "language_info": {
   "codemirror_mode": {
    "name": "ipython",
    "version": 3
   },
   "file_extension": ".py",
   "mimetype": "text/x-python",
   "name": "python",
   "nbconvert_exporter": "python",
   "pygments_lexer": "ipython3",
   "version": "3.12.7"
  }
 },
 "nbformat": 4,
 "nbformat_minor": 5
}
