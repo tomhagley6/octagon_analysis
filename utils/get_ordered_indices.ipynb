{
 "cells": [
  {
   "cell_type": "code",
   "execution_count": 4,
   "metadata": {},
   "outputs": [],
   "source": [
    "import numpy as np"
   ]
  },
  {
   "cell_type": "code",
   "execution_count": null,
   "metadata": {},
   "outputs": [],
   "source": [
    "def get_ordered_indices(values_array):\n",
    "    ''' Takes an array with numeric or np.nan values.\n",
    "        Returns an array with a value in each index relating to\n",
    "        the size order of the numeric values in the input array.\n",
    "        Where two indices have the same numeric value, the returned array\n",
    "        will have the same order value.\n",
    "        Lowest value will be 0, next lowest will be 1, etc.\n",
    "        Np.nans will carry over. '''\n",
    "    \n",
    "    # get mask of nan values\n",
    "    non_nan_mask = ~np.isnan(values_array)\n",
    "\n",
    "    # get all non-nan values\n",
    "    non_nan_values = values_array[non_nan_mask]\n",
    "\n",
    "    # return sorted unique values, and an array of indices of the unique array that can reconstruct the input array\n",
    "    # these indices correspond to the order (because np.unique sorts) of the original values, and will be the same for \n",
    "    # two identical values (because we are taking unique values)\n",
    "    unique_values, inverse_indices = np.unique(non_nan_values, return_inverse=True)\n",
    "\n",
    "    # create return array filled with np.nan\n",
    "    ordered_indices_array = np.full(values_array.shape, np.nan)\n",
    "\n",
    "    # place the inverse indices in the corresponding indices\n",
    "    ordered_indices_array[non_nan_mask] = inverse_indices\n",
    "\n",
    "    return ordered_indices_array\n",
    "\n",
    "    "
   ]
  }
 ],
 "metadata": {
  "kernelspec": {
   "display_name": "octagon_analysis",
   "language": "python",
   "name": "python3"
  },
  "language_info": {
   "codemirror_mode": {
    "name": "ipython",
    "version": 3
   },
   "file_extension": ".py",
   "mimetype": "text/x-python",
   "name": "python",
   "nbconvert_exporter": "python",
   "pygments_lexer": "ipython3",
   "version": "3.12.7"
  }
 },
 "nbformat": 4,
 "nbformat_minor": 2
}
